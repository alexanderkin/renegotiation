{
 "cells": [
  {
   "cell_type": "markdown",
   "metadata": {
    "deletable": true,
    "editable": true
   },
   "source": [
    "# Simpler Breakable commitments:  Present-bias, Client Protection and Bank Ownership Forms\n",
    "## Notes and code for simplified Competitive cases\n",
    "**Karna Basu and Jonathan Conning**\n",
    "\n",
    "Department of Economics\n",
    "Hunter College"
   ]
  },
  {
   "cell_type": "code",
   "execution_count": 1,
   "metadata": {
    "collapsed": false,
    "deletable": true,
    "editable": true
   },
   "outputs": [
    {
     "name": "stdout",
     "output_type": "stream",
     "text": [
      "Last updated: Wed Apr 12 2017 14:01:29 \n"
     ]
    }
   ],
   "source": [
    "%reload_ext watermark\n",
    "%watermark -u -n -t "
   ]
  },
  {
   "cell_type": "markdown",
   "metadata": {
    "deletable": true,
    "editable": true
   },
   "source": [
    "**Abstract:** Just like the breakable commitments paper but simplifying by just assuming that $c_0 =0$."
   ]
  },
  {
   "cell_type": "markdown",
   "metadata": {
    "deletable": true,
    "editable": true
   },
   "source": [
    "## The model"
   ]
  },
  {
   "cell_type": "code",
   "execution_count": 2,
   "metadata": {
    "collapsed": false,
    "deletable": true,
    "editable": true
   },
   "outputs": [],
   "source": [
    "%matplotlib inline\n",
    "import numpy as np\n",
    "from scipy.optimize import minimize, brentq, fsolve\n",
    "import matplotlib.pyplot as plt\n",
    "plt.rcParams[\"figure.figsize\"] = (8, 5)\n",
    "plt.rcParams['axes.formatter.useoffset'] = 'False'\n",
    "np.set_printoptions(precision=2)    # array printing format "
   ]
  },
  {
   "cell_type": "code",
   "execution_count": 3,
   "metadata": {
    "collapsed": true,
    "deletable": true,
    "editable": true
   },
   "outputs": [],
   "source": [
    "from ipywidgets import interact, fixed"
   ]
  },
  {
   "cell_type": "code",
   "execution_count": 4,
   "metadata": {
    "collapsed": false,
    "deletable": true,
    "editable": true
   },
   "outputs": [],
   "source": [
    "%load_ext autoreload\n",
    "%autoreload 2\n",
    "#import Contract"
   ]
  },
  {
   "cell_type": "code",
   "execution_count": 5,
   "metadata": {
    "collapsed": true,
    "deletable": true,
    "editable": true
   },
   "outputs": [],
   "source": [
    "Y = 300\n",
    "BETA = 0.5\n",
    "RHO = 1.5\n",
    "KAP = 0.5"
   ]
  },
  {
   "cell_type": "markdown",
   "metadata": {
    "deletable": true,
    "editable": true
   },
   "source": [
    "## CRRA utility function"
   ]
  },
  {
   "cell_type": "code",
   "execution_count": 6,
   "metadata": {
    "collapsed": true,
    "deletable": true,
    "editable": true
   },
   "outputs": [],
   "source": [
    "def u(c, rho = RHO):\n",
    "    if rho == 1:\n",
    "        return np.log(c)\n",
    "    else:\n",
    "        return  (c**(1-rho))/(1-rho)"
   ]
  },
  {
   "cell_type": "markdown",
   "metadata": {},
   "source": [
    "## Competitive subgames $\\zeta(C^0,\\kappa)$ \n",
    "\n",
    "The period 1 subgame can be competitive or monopoly.  \n",
    "\n",
    "If we enter the **competitive subgame $\\zeta(C^0,\\kappa)$** One-self's **best renegotiation offer** $C_1^1(C_1^0) = (c_1^1, c_2^1)$ to the bank solves:\n",
    "\n",
    "$$\\max_{c_1^1, c_2^1} u(c_1^1)+\\beta u(c_2^1) $$\n",
    "s.t.\n",
    "$$c_1^1 + c_2^1 +\\kappa \\ge c_1^0 + c_2^0 $$\n",
    "\n",
    "A contract $C_1^0$ will be **sub-game perfect** (i.e. the consumer will choose to stick to the original $C_1^0$ rather than make this best renegotiation offer $C_1^1(C_1^0)$  as long as the contract satisfies a **no-renegotiation constraint**\n",
    "\n",
    "$$U(C_1^0) \\ge U(C_1^1(C_1^0))$$\n",
    "\n",
    "or, same thing: $ u(c_1^0)+\\beta u(c_2^0) \\ge  u(c_1^1)+\\beta u(c_2^1)$"
   ]
  },
  {
   "cell_type": "markdown",
   "metadata": {},
   "source": [
    "## Monopoly subgames  $\\zeta^m(C^{0},\\kappa)$\n",
    "If we enter the **monopoly subgame $\\zeta^m(C^0,\\kappa)$** the Bank's **best renegotiation offer** $C_1^{m1}(C_1^0) = (c_1^{m1}, c_2^{m1})$ to the One-self consumer solves:\n",
    "\n",
    "$$\\max_{c_1^{1}, c_2^{1}} \\Pi(C_1^{1},C_1^0) $$\n",
    "s.t. \n",
    "$$U(C_1^{m1}(C_1^0)) \\ge U(C_1^0)$$\n",
    "\n",
    "\n",
    "(below we will use the fact that maximizing profits $\\Pi(C_1^{m1},C_1^0)$ is the same as maximizing cost savings $(c_1^0 + c_2^0) - (c_1^1 + c_2^1) $). \n",
    "\n",
    "A contract $C_1^0$ will be **sub-game perfect** (i.e. the consumer will choose to stick to the original $C_1^0$ rather than make this best renegotiation offer $C_1^{m1}(C_1^0)$  So long as the contract satisfies a **no-renegotiation constraint**\n",
    "\n",
    "$$\\Pi(C_1^{m1},C_1^0) \\le \\kappa $$\n",
    "\n",
    "or, same thing $c_1^{1} + c_2^{1} + \\kappa \\ge c_1^0 + c_2^0$"
   ]
  },
  {
   "cell_type": "markdown",
   "metadata": {},
   "source": [
    "Notice how in both cases then we end up with these two equations:\n",
    "\n",
    "$$ u(c_1^0)+\\beta u(c_2^0) \\ge  u(c_1^1)+\\beta u(c_2^1)$$\n",
    "$$c_1^1 + c_2^1 + \\kappa \\ge c_1^0 + c_2^0$$\n",
    "\n",
    "with at least one of the two equations as a strict equality.\n",
    "(**JC note: ** the equality means just willing to accept in one case and just willing to reject in the other.)"
   ]
  },
  {
   "cell_type": "markdown",
   "metadata": {},
   "source": [
    "A few things to note: \n",
    "\n",
    "- Any renegotiated contract would be to a point on the ray $c_2^1=\\beta^\\frac{1}{\\rho} c_1^1$\n",
    "- If the market for period zero contracts is competitive, the chosen contract will lie on the zero-profit plane running though the endowment point $y$.  Any contract along that plane satisfies  $y=y_0+y_1+y_2=c_0+c_1+c_2$.\n",
    "- Projected onto $c_1 - c_2$ space this zero profit plane is a budget line with horizontal axis intercept of $y-c_0^0$ and is given by $c_1^0+c_2^0 = y - c_0^0$. \n",
    "\n",
    "For reference here is the diagram of the competitive full commitment contract\n",
    "<img src=\"fig_selfcontrol.jpg\" alt=\"Drawing\" style=\"width: 500px;\"/>"
   ]
  },
  {
   "cell_type": "markdown",
   "metadata": {
    "deletable": true,
    "editable": true
   },
   "source": [
    "### Checking that $P$ is renegotiation-proof:\n",
    "\n",
    "We want to find the constraints that guarantee a **renegotiation-proof contract** and then find the contract that maximizes Zero's utility and satisfies these constraints\n",
    "\n",
    "- Contract $(c_1^0,c_2^0)$ labeled $P$ on the diagram will be renegotiation proof if the following two conditions hold (with at least one holding as a strict equality, depending on whether period 1 is competitive or monopoly):\n",
    "\n",
    "- **Bank no-renegotiation constraint** (the gains to the bank fall short of renegotiation cost):\n",
    "\n",
    "$$c_1^0+c_2^0 \\le c_1^1 + c_2^1 + \\kappa$$\n",
    "\n",
    "-  **One-self no-renegotiation constraint** :\n",
    "\n",
    "$$ u(c_1^0)+\\beta u(c_2^0) \\ge u(c_1^1)+\\beta u(c_2^1)  $$\n",
    "\n",
    "Since any renegotiated contract satisfies $c_2^1 = \\beta^\\frac{1}{\\rho}c_1^1$ we can rewrite the above conditions as:\n",
    "\n",
    "$$c_1^0+c_2^0 \\le (1+\\beta^\\frac{1}{\\rho})\\cdot c_1^1 + \\kappa$$\n",
    "\n",
    "and \n",
    "\n",
    "$$ (1+\\beta^\\frac{1}{\\rho})\\cdot u(c_1^1)\\le u(c_1^0)+\\beta u(c_2^0)  $$"
   ]
  },
  {
   "cell_type": "markdown",
   "metadata": {
    "deletable": true,
    "editable": true
   },
   "source": [
    "#### Competitive case:\n",
    "If period 0 is competitive the contract will be on the zero profit plane, so in $c1-c2$ space on the budget line:\n",
    "\n",
    "$$c_1^0 + c_2^0  = y - c_0^0$$\n",
    "\n",
    "This means the **bank no-renegotiation** condition can be rewritten:\n",
    "\n",
    "$$c_1^1 \\ge \\frac{y-c_0^0-\\kappa}{(1+\\beta^\\frac{1}{\\rho})}$$\n",
    "\n",
    "This gives us the $c_1^1$ coordinate of **R** in the diagram. "
   ]
  },
  {
   "cell_type": "markdown",
   "metadata": {
    "deletable": true,
    "editable": true
   },
   "source": [
    "Renegotiation proof continuation contract $P$ (point $(c_1^0, c_2^0)$) is given by the point where the One-self indifference curve passing through $R$ hits the period 1 budget constraint $(c_1^0 + c_2^0 = y-c_0^0)$\n",
    "\n",
    "$$u(c_1^0)+\\beta u(c_2^0) = u(c_1^1)+\\beta u(c_2^1)  $$\n",
    "\n",
    "substituting for the $R$ contract (and using the fact that $c_2^0 = y-c_0^0-c_1^0$ under competition)\n",
    "\n",
    "$$ \n",
    "u(c_1^0)+\\beta u((y-c_0^0) - c_1^0) = (1+\\beta^\\frac{1}{\\rho}) u \\left(\\frac{y-c_0^0 - \\kappa}{1+\\beta^\\frac{1}{\\rho}}\\right) \n",
    "$$\n",
    "\n",
    "Since $c_0^0$ and $\\kappa$ are fixed this is an equation in $c_1^0$.  This will have two roots (we want the one that corresponds to point P). We can graph and solve for roots numerically. We do that below, but first some comparative statics."
   ]
  },
  {
   "cell_type": "markdown",
   "metadata": {
    "deletable": true,
    "editable": true
   },
   "source": [
    "Total differentiation gives:\n",
    "\n",
    "$$\\left[ u'(c_1^0) - \\beta u'(y-c_0^0-c_1^0) \\right ] dc_1^0 = -(1+\\beta^\\frac{1}{\\rho}) u' \\left(\\frac{y-\\kappa}{1+\\beta^\\frac{1}{\\rho}}\\right) $$\n",
    "\n",
    "$$\\frac{dc_1^0}{dk} = \n",
    "\\frac{ -(1+\\beta^\\frac{1}{\\rho}) u' \\left(\\frac{y-c_0^0 - \\kappa}{1+\\beta^\\frac{1}{\\rho}}\\right)}\n",
    "     {\\left [ u'(c_1^0) - \\beta u'(y-c_0^0-c_1^0) \\right ]} \\leq 0$$\n",
    "\n",
    "We can sign the above because the numerator is always negative and the denominator is non-negative at point P because it lies on the budget line to the left of point Q (and hence $u'(c_1) > \\beta u'(c_2)$ and only at Q do we have $u'(c_1) = \\beta u'(c_2)$.\n"
   ]
  },
  {
   "cell_type": "markdown",
   "metadata": {
    "deletable": true,
    "editable": true
   },
   "source": [
    "Let's plot the two parts of this last function"
   ]
  },
  {
   "cell_type": "markdown",
   "metadata": {
    "deletable": true,
    "editable": true
   },
   "source": [
    "## Notes on $ \\bar \\kappa$, subgames and solving"
   ]
  },
  {
   "cell_type": "code",
   "execution_count": 7,
   "metadata": {
    "collapsed": true,
    "deletable": true,
    "editable": true
   },
   "outputs": [],
   "source": [
    "Y = 300 \n",
    "def kbar(beta, rho):\n",
    "    if (rho == 1):\n",
    "        rho = 0.999   # cheap trick to deal with special case\n",
    "    btr = beta**(1/rho)\n",
    "    c1F = Y * btr/(1+2*btr)\n",
    "    A = (2-(1+btr)*( (1+beta)/(1+btr)  )**(1/(1-rho)))\n",
    "    return A*c1F\n"
   ]
  },
  {
   "cell_type": "code",
   "execution_count": 8,
   "metadata": {
    "collapsed": false,
    "deletable": true,
    "editable": true
   },
   "outputs": [
    {
     "data": {
      "text/plain": [
       "8.497089119683764"
      ]
     },
     "execution_count": 8,
     "metadata": {},
     "output_type": "execute_result"
    }
   ],
   "source": [
    "kbar(0.5,0.95)"
   ]
  },
  {
   "cell_type": "code",
   "execution_count": 9,
   "metadata": {
    "collapsed": false,
    "deletable": true,
    "editable": true
   },
   "outputs": [
    {
     "data": {
      "text/plain": [
       "132.7480002073326"
      ]
     },
     "execution_count": 9,
     "metadata": {},
     "output_type": "execute_result"
    }
   ],
   "source": [
    "CF = Y/(1+2*BETA**(1/RHO))\n",
    "CF"
   ]
  },
  {
   "cell_type": "code",
   "execution_count": 10,
   "metadata": {
    "collapsed": false,
    "deletable": true,
    "editable": true
   },
   "outputs": [
    {
     "data": {
      "text/plain": [
       "0.6135117904356906"
      ]
     },
     "execution_count": 10,
     "metadata": {},
     "output_type": "execute_result"
    }
   ],
   "source": [
    "1/(1+BETA**(1/RHO))"
   ]
  },
  {
   "cell_type": "code",
   "execution_count": 11,
   "metadata": {
    "collapsed": true,
    "deletable": true,
    "editable": true
   },
   "outputs": [],
   "source": [
    "c= np.linspace(0,Y-1)\n",
    "\n",
    "def rp(c0, kap, beta=BETA, rho=RHO):\n",
    "    '''return period 1 consumption of reneg-proof contract.\n",
    "    If kappa>kbar then full commitment sustained'''\n",
    "    c1F = (Y-c0)/2   \n",
    "    if kap >= kbar(beta,rho):\n",
    "        return c1F\n",
    "    btr = beta**(1/rho)\n",
    "    c1P = (Y-c0-kap)/(1+btr)\n",
    "    c1P0 = (Y-c0)/(1+btr)\n",
    "    ub = (1+btr)*u(c1P, rho)\n",
    "    def U1(c1):\n",
    "        return u(c1, rho) + beta*u(Y-c0-c1, rho)\n",
    "    def f(c1):\n",
    "        return U1(c1) - ub\n",
    "    #print(f(c1F),f(c1P))\n",
    "    return brentq(f, c1F,c1P)      "
   ]
  },
  {
   "cell_type": "code",
   "execution_count": 12,
   "metadata": {
    "collapsed": false,
    "deletable": true,
    "editable": true
   },
   "outputs": [
    {
     "data": {
      "text/plain": [
       "109.6"
      ]
     },
     "execution_count": 12,
     "metadata": {},
     "output_type": "execute_result"
    }
   ],
   "source": [
    "rp(163,0, beta= 0.5,rho=0.5)"
   ]
  },
  {
   "cell_type": "code",
   "execution_count": 13,
   "metadata": {
    "collapsed": false,
    "deletable": true,
    "editable": true
   },
   "outputs": [],
   "source": [
    " def rp_plot(c0, kap, beta=BETA, rho=RHO):\n",
    "    btr = beta**(1/rho)\n",
    "    c1F = (Y-c0)/2   \n",
    "    c1R = (Y-c0-kap)/(1+btr)\n",
    "    c1P0 = (Y-c0)/(1+btr)\n",
    "    ub = (1+btr)*u(c1R, rho)\n",
    "    def U1(c1):\n",
    "        return u(c1, rho) + beta*u(Y-c0-c1, rho)\n",
    "    if (kap<kbar(beta,rho)):\n",
    "        c1Pk =rp(c0, kap, beta, rho)\n",
    "    else:\n",
    "        c1Pk = c1F\n",
    "    print('FC = {:5.2f} RP = {:5.2f}  c1R = {:5.2f} RP(0) = {:5.2f}'.format(c1F,c1Pk, c1R, c1P0))\n",
    "    plt.plot(c, u(c, rho) + beta*u(Y-c0-c, rho))\n",
    "    plt.axhline(y=ub, color='r')\n",
    "    for var in ['c1Pk', 'c1F', 'c1P0', 'c1R']:  # way to loop through variables and their names\n",
    "        plt.axvline(x=eval(var), linestyle ='dashed') \n",
    "        plt.text(eval(var), U1(c1F), var)\n",
    "    \n",
    "    plt.xlim(c1F-10,Y-c0)\n",
    "    plt.ylim(U1(c1F),U1(c1P0))\n",
    "    plt.title('subgame ('+ r'$c_0^F, \\kappa; \\beta, \\rho $)'+' = ({:4.1f}, {:4.1f}; {:2.1f}, {:2.1f})'\n",
    "              .format(c0,kap, beta, rho))\n",
    "    plt.show()"
   ]
  },
  {
   "cell_type": "code",
   "execution_count": 14,
   "metadata": {
    "collapsed": false,
    "deletable": true,
    "editable": true
   },
   "outputs": [
    {
     "data": {
      "text/plain": [
       "(9.227605315551397, 68.51795747055826, 162.96408505888348)"
      ]
     },
     "execution_count": 14,
     "metadata": {},
     "output_type": "execute_result"
    }
   ],
   "source": [
    "bt, rh = 0.5, 0.8\n",
    "btr=bt**(1/rh)\n",
    "C0F = Y/(1+2*btr)\n",
    "kbar(bt, rh), rp(C0F,10.0, bt, rh), C0F"
   ]
  },
  {
   "cell_type": "code",
   "execution_count": 15,
   "metadata": {
    "collapsed": false,
    "deletable": true,
    "editable": true
   },
   "outputs": [
    {
     "data": {
      "text/plain": [
       "20.0"
      ]
     },
     "execution_count": 15,
     "metadata": {},
     "output_type": "execute_result"
    }
   ],
   "source": [
    "u(100, rho=0.5)"
   ]
  },
  {
   "cell_type": "code",
   "execution_count": 16,
   "metadata": {
    "collapsed": false,
    "deletable": true,
    "editable": true,
    "scrolled": false
   },
   "outputs": [
    {
     "name": "stdout",
     "output_type": "stream",
     "text": [
      "FC = 68.52 RP = 79.13  c1R = 103.23 RP(0) = 109.63\n"
     ]
    },
    {
     "name": "stderr",
     "output_type": "stream",
     "text": [
      "C:\\Anaconda3\\lib\\site-packages\\ipykernel\\__main__.py:5: RuntimeWarning: invalid value encountered in sqrt\n"
     ]
    },
    {
     "data": {
      "image/png": "[encoded data removed]",
      "text/plain": [
       "<matplotlib.figure.Figure at 0x8359160>"
      ]
     },
     "metadata": {},
     "output_type": "display_data"
    }
   ],
   "source": [
    "rp_plot(C0F, 8, rho=0.5)"
   ]
  },
  {
   "cell_type": "code",
   "execution_count": 17,
   "metadata": {
    "collapsed": false,
    "deletable": true,
    "editable": true
   },
   "outputs": [
    {
     "name": "stdout",
     "output_type": "stream",
     "text": [
      "FC = 83.63 RP = 96.08  c1R = 125.80 RP(0) = 133.80\n"
     ]
    },
    {
     "name": "stderr",
     "output_type": "stream",
     "text": [
      "C:\\Anaconda3\\lib\\site-packages\\ipykernel\\__main__.py:5: RuntimeWarning: invalid value encountered in sqrt\n"
     ]
    },
    {
     "data": {
      "image/png": "[encoded data removed]",
      "text/plain": [
       "<matplotlib.figure.Figure at 0x8b3e4e0>"
      ]
     },
     "metadata": {},
     "output_type": "display_data"
    }
   ],
   "source": [
    "#rp_plot(0, rho=0.5)\n",
    "rp_plot(CF,10, rho=0.5)"
   ]
  },
  {
   "cell_type": "markdown",
   "metadata": {
    "deletable": true,
    "editable": true
   },
   "source": [
    "The plot below shows the relevant root (solution for $c_1^0$), or where the left hand side of the expression below equals the right hand side:\n",
    "\n",
    "$$ u(c_1^0)+\\beta u(y-c_1^0) = (1+\\beta^\\frac{1}{\\rho}) u \\left(\\frac{y-\\kappa}{1+\\beta^\\frac{1}{\\rho}}\\right) $$\n",
    "\n",
    "Obviously the solution lies between $c_1^F$ and $c_1^P$, where this last is the renegotiation proof contract when $\\kappa=0$"
   ]
  },
  {
   "cell_type": "code",
   "execution_count": 18,
   "metadata": {
    "collapsed": false,
    "deletable": true,
    "editable": true
   },
   "outputs": [
    {
     "data": {
      "text/plain": [
       "77.36933801264101"
      ]
     },
     "execution_count": 18,
     "metadata": {},
     "output_type": "execute_result"
    }
   ],
   "source": [
    "beta = 0.5\n",
    "rho = 0.8\n",
    "CF = Y/(\n",
    "    1+2*beta**(1/rho))\n",
    "rp(CF,1)"
   ]
  },
  {
   "cell_type": "code",
   "execution_count": 19,
   "metadata": {
    "collapsed": false
   },
   "outputs": [
    {
     "name": "stderr",
     "output_type": "stream",
     "text": [
      "C:\\Anaconda3\\lib\\site-packages\\ipykernel\\__main__.py:5: RuntimeWarning: divide by zero encountered in power\n",
      "C:\\Anaconda3\\lib\\site-packages\\ipykernel\\__main__.py:5: RuntimeWarning: invalid value encountered in power\n"
     ]
    },
    {
     "name": "stdout",
     "output_type": "stream",
     "text": [
      "FC = 68.57 RP = 68.57  c1R = 79.53 RP(0) = 84.13\n"
     ]
    },
    {
     "data": {
      "image/png": "[encoded data removed]",
      "text/plain": [
       "<matplotlib.figure.Figure at 0x9beec50>"
      ]
     },
     "metadata": {},
     "output_type": "display_data"
    },
    {
     "data": {
      "text/plain": [
       "<function __main__.rp_plot>"
      ]
     },
     "execution_count": 19,
     "metadata": {},
     "output_type": "execute_result"
    }
   ],
   "source": [
    "interact(rp_plot, kap=(0.1,15,0.1), beta=fixed(0.5), rho=(0.2,3,0.1),c0=(CF-5,CF+5,0.1))"
   ]
  },
  {
   "cell_type": "code",
   "execution_count": 20,
   "metadata": {
    "collapsed": false,
    "deletable": true,
    "editable": true
   },
   "outputs": [],
   "source": [
    "def foo_plot(kap, beta, rho):\n",
    "    btr = beta**(1/rho)\n",
    "    yb = (Y-kap)/(1+btr)\n",
    "    ub = (1+btr)*u(yb, rho)\n",
    "    c1F = Y/2             #full-commitment contract\n",
    "    c1P0 = Y/(1+btr)\n",
    " \n",
    "    plt.plot(c, u(c, rho) + beta*u(Y-c, rho))\n",
    "    plt.axhline(y=ub, color='r')\n",
    "    plt.xlim(c1F-10,Y-50)\n",
    "    plt.ylim(-0.4,1)\n",
    "    plt.show()"
   ]
  },
  {
   "cell_type": "code",
   "execution_count": 21,
   "metadata": {
    "collapsed": false,
    "deletable": true,
    "editable": true
   },
   "outputs": [
    {
     "name": "stderr",
     "output_type": "stream",
     "text": [
      "C:\\Anaconda3\\lib\\site-packages\\ipykernel\\__main__.py:5: RuntimeWarning: divide by zero encountered in power\n"
     ]
    },
    {
     "data": {
      "image/png": "[encoded data removed]",
      "text/plain": [
       "<matplotlib.figure.Figure at 0x9c1a2e8>"
      ]
     },
     "metadata": {},
     "output_type": "display_data"
    },
    {
     "data": {
      "text/plain": [
       "<function __main__.foo_plot>"
      ]
     },
     "execution_count": 21,
     "metadata": {},
     "output_type": "execute_result"
    }
   ],
   "source": [
    "interact(foo_plot, kap=(0.1,15,0.1), beta=(0.1,1,0.1), rho=(0.2,3,0.1))"
   ]
  },
  {
   "cell_type": "markdown",
   "metadata": {
    "deletable": true,
    "editable": true
   },
   "source": [
    "## Monopoly case\n"
   ]
  },
  {
   "cell_type": "markdown",
   "metadata": {
    "deletable": true,
    "editable": true
   },
   "source": [
    "#### Monopoly Full commitment contract"
   ]
  },
  {
   "cell_type": "markdown",
   "metadata": {
    "deletable": true,
    "editable": true
   },
   "source": [
    "The full commitment monopoly contract is given by the tangency point along Zero's participation constraint \n",
    "\n",
    "$$u(c_1^0)+u(c_2^0) = \\bar u$$ \n",
    "\n",
    "  Solving where where $c_1 = c_2 = c^{mF}$. Solving\n",
    "\n",
    "\n",
    "$$u(c^{mF}) = \\frac{\\bar u}{2} $$\n",
    "\n",
    "$$ c^{mF} = \\left ( \\frac{\\bar u \\cdot (1-\\rho)}{2} \\right ) ^\\frac{1}{1-\\rho}$$"
   ]
  },
  {
   "cell_type": "markdown",
   "metadata": {
    "deletable": true,
    "editable": true
   },
   "source": [
    "#### Monopoly Renegotiation Proof when $\\kappa=0$"
   ]
  },
  {
   "cell_type": "markdown",
   "metadata": {
    "deletable": true,
    "editable": true
   },
   "source": [
    "Let's call this point $Q$. It is found where Zero's participation constraint meets the $c_2 = \\beta^\\frac{1}{\\rho} c_1$ line:\n",
    "\n",
    "$$u(c_1^0)+u(\\beta^\\frac{1}{\\rho} c_1) = \\bar u$$ \n",
    "\n",
    "Solving \n",
    "\n",
    "$$ u(c_1^Q) = \\frac{\\bar u}{\\left ( 1+\\beta^\\frac{1-\\rho}{\\rho} \\right )}$$\n",
    "\n",
    "\n",
    "\n",
    "\n",
    "\n"
   ]
  },
  {
   "cell_type": "markdown",
   "metadata": {
    "deletable": true,
    "editable": true
   },
   "source": [
    "#### Monopoly Renegotiation Proof when $\\kappa>0$"
   ]
  },
  {
   "cell_type": "markdown",
   "metadata": {
    "deletable": true,
    "editable": true
   },
   "source": [
    "The monopolist in effect chooses a contract $(c_1^0, c_2^0)$ along the Zero consumer's participation constraint \n",
    "\n",
    "$$u(c_1^0)+u(c_2^0) = \\bar u$$ \n",
    "\n",
    "If in period 1 the consumer and monopolist renegotiated it would be to to $(c_1, c_2))$ that satisfies:\n",
    "\n",
    "$$u(c_1) + \\beta  u(c_2) = u(c_1^0) + \\beta  u(c_2^0) $$"
   ]
  },
  {
   "cell_type": "markdown",
   "metadata": {
    "deletable": true,
    "editable": true
   },
   "source": [
    "Call $\\Pi$ the level of profit at $P$\n",
    "\n",
    "We will have\n",
    "\n",
    "$$c_1^0 + c_2^0 = y - \\Pi $$\n",
    "\n",
    "The no-reneg constraint:\n",
    "\n",
    "$$c_1^0 + c_2^0 - c_1 - c_2 \\leq \\kappa$$\n",
    "\n",
    "Which means that at $R$ when the constraint binds we have profits being just short of $\\Pi + \\kappa$ and hence:\n",
    "\n",
    "$$c_1 + c_2 = y - \\Pi - \\kappa$$"
   ]
  },
  {
   "cell_type": "markdown",
   "metadata": {
    "deletable": true,
    "editable": true
   },
   "source": [
    "and $R$ is given by the intersection of the $c_2 = \\beta^\\frac{1}{\\rho} c_1$ line and this line, which gives us:\n",
    "\n",
    "$$c_1 = \\frac{y - \\Pi - \\kappa}{1+\\beta^\\frac{1}{\\rho}}$$"
   ]
  },
  {
   "cell_type": "markdown",
   "metadata": {
    "deletable": true,
    "editable": true
   },
   "source": [
    "So we have:\n",
    "\n",
    "$$u(c_1^0) + \\beta u(y-\\Pi-c_1^0) = (1+\\beta^\\frac{1}{\\rho}) \\cdot\n",
    "u\\left ( \\frac{y - \\Pi - \\kappa}{1+\\beta^\\frac{1}{\\rho}} \\right )   $$"
   ]
  },
  {
   "cell_type": "markdown",
   "metadata": {
    "deletable": true,
    "editable": true
   },
   "source": [
    "This is the same expression as we had above for the competitive case except for the profit shifter $\\Pi$"
   ]
  },
  {
   "cell_type": "code",
   "execution_count": 22,
   "metadata": {
    "collapsed": true,
    "deletable": true,
    "editable": true
   },
   "outputs": [],
   "source": [
    "def c_hi(beta, rho):\n",
    "    return 1/(1+beta**(1-rho)/rho)"
   ]
  },
  {
   "cell_type": "code",
   "execution_count": 23,
   "metadata": {
    "collapsed": false,
    "deletable": true,
    "editable": true
   },
   "outputs": [
    {
     "data": {
      "text/plain": [
       "0.5"
      ]
     },
     "metadata": {},
     "output_type": "display_data"
    },
    {
     "data": {
      "text/plain": [
       "<function __main__.c_hi>"
      ]
     },
     "execution_count": 23,
     "metadata": {},
     "output_type": "execute_result"
    }
   ],
   "source": [
    "interact(c_hi, beta=(0.1,1,0.1), rho=(0.1,4,0.1))"
   ]
  },
  {
   "cell_type": "markdown",
   "metadata": {
    "deletable": true,
    "editable": true
   },
   "source": [
    " \n",
    "That means we can write\n",
    "\n",
    "$$u(c_1^0) = \\bar u - u(c_2^0)$$\n",
    "\n",
    "which also implies that the period 1 consumer partipation constraint (that they earn at least as much from renegotiation) can be written:\n",
    "\n",
    "$$u(c_1) + \\beta u(c_2) = u(c_1^0) + \\beta u(c_2^0) $$\n",
    "\n",
    "$$ u(c_1) + \\beta u(c_2)  = u(c_1^0) \\cdot (1-\\beta) + \\beta \\bar u $$\n",
    "\n",
    "\n",
    "\n",
    "The last substitution comes from the fact that any renegotiated contract will satisfy FOC which imply \n",
    "$c_2 = \\beta^\\frac{1}{\\rho} c_1$."
   ]
  },
  {
   "cell_type": "markdown",
   "metadata": {
    "deletable": true,
    "editable": true
   },
   "source": [
    "This then implies that we can write\n",
    "\n",
    "$$ u(c_1)  = \\frac{u(c_1^0) \\cdot (1-\\beta) + \\beta \\bar u}{1+ \\beta^\\frac{1}{\\rho} } $$"
   ]
  },
  {
   "cell_type": "code",
   "execution_count": null,
   "metadata": {
    "collapsed": true,
    "deletable": true,
    "editable": true
   },
   "outputs": [],
   "source": []
  },
  {
   "cell_type": "markdown",
   "metadata": {
    "deletable": true,
    "editable": true
   },
   "source": [
    "### IGNORE EVERYTHING BELOW...\n"
   ]
  },
  {
   "cell_type": "markdown",
   "metadata": {
    "deletable": true,
    "editable": true
   },
   "source": [
    "The Contract module takes advantage of python's object oriented design. Let's demonstrate simple use. The following call establishes 'c' as an instance of the Contract object defined by the Contract class in the Contract.py module. In this example we initialize $\\beta$ explicitly (which can then be viewed modified via c.beta). Other attributes (as the value of the income stream y are initialized to default values when c is setup since no value was specified). \n",
    "\n",
    "We then call on the print_params method to print out a summary of properties (parameters) of this specific contract c."
   ]
  },
  {
   "cell_type": "code",
   "execution_count": 31,
   "metadata": {
    "collapsed": true,
    "deletable": true,
    "editable": true
   },
   "outputs": [],
   "source": [
    "import Contract"
   ]
  },
  {
   "cell_type": "code",
   "execution_count": 33,
   "metadata": {
    "collapsed": false,
    "deletable": true,
    "editable": true
   },
   "outputs": [
    {
     "name": "stdout",
     "output_type": "stream",
     "text": [
      "beta    : 0.5\n",
      "rho     : 0.95\n",
      "y       : [100 100 100]\n"
     ]
    }
   ],
   "source": [
    "c = Contract.Contract(beta = 0.5)\n",
    "c.print_params()"
   ]
  },
  {
   "cell_type": "markdown",
   "metadata": {
    "deletable": true,
    "editable": true
   },
   "source": [
    "Let's plot an indifference curve in c1-c2 space.  For example if the agent in autarky has income $\\{y_{0},y_{1},y_{2}\\}$ and no access to saving or borrowing then (from period 0 self's perspective) entering period 1 they have reservation utility $u(y_{1})+\\delta u(y_{2})=\\overline{u}_{0}$.  But when period 1 rolls around their preferences change. From period 1 self's perspective they have reservation utility $u(y_{1})+\\beta \\delta u(y_{2})=\\overline{u}_{1}$.  "
   ]
  },
  {
   "cell_type": "markdown",
   "metadata": {
    "deletable": true,
    "editable": true
   },
   "source": [
    "### Exclusive competitive contracts"
   ]
  },
  {
   "cell_type": "markdown",
   "metadata": {
    "deletable": true,
    "editable": true
   },
   "source": [
    "The contract class defines a generic contract which holds consumption stream objects of the form $\\left( c_{0},c_{1},c_{2}\\right)$ and allows a few manipulations.  Now comes the job of solving for optimal contracts and we do this with a CompetitiveContract class which inherits the attributes and methods of the more generic contract class and then adds a few methods such as calculating the optimal contract full commitment and renegotiation-proof contracts in the competitive lender case.  Note that the methods have the same names as the mon_contract class but some behave differently, reflecting the reversed objective and constraint.\n"
   ]
  },
  {
   "cell_type": "markdown",
   "metadata": {
    "deletable": true,
    "editable": true
   },
   "source": [
    "#### Full-commitment contracts"
   ]
  },
  {
   "cell_type": "markdown",
   "metadata": {
    "deletable": true,
    "editable": true
   },
   "source": [
    "When the competitive lender can commit to not-renegotiating the contract (i.e. to not pandering to the period-1 self's desire to renegotiate period-0's contract) and the contracts are exclusive (so no third party lender will enter to offer such renegotiation either) the contract solves\n",
    "\n",
    "$$\\max \\  u\\left( c_{0}\\right) +\\beta \\left[ \\delta u\\left( c_{1}\\right) +\\delta ^{2}u\\left( c_{2}\\right) \\right] $$\n",
    "\n",
    "subject to the zero profit constraint\n",
    "$$s.t.  (y_{0}-c_{0})+\\frac{(y_{1}-c_{1})}{(1+r)}+\\frac{(y_{2}-c_{2})}{(1+r)^{2}}  \\geq 0$$\n",
    "\n",
    "\n",
    "When $\\delta =\\frac{1}{(1+r)}$ for the CRRA case an optimum will set $c_{1}=c_{2}=\\overline{c}$ and $\\overline{c}=\\beta ^{\\frac{1}{\\rho }}c_{0}$ from which a closed form solution can be easily found (see fcommit() function below for formulas).\n",
    "\n",
    "**Note** that we are here assuming that the consumer has no choice but to consume their income stream $y$ under autarky.  This would be true if the agent does not have acess to any 'own savings' technologies.  Later below we see how things change only slightly when we allow them to use own savings to create a slightly more smooth autarky consumption stream (not perfectly smooth because they cannot overcome their self-control problems on their own)."
   ]
  },
  {
   "cell_type": "markdown",
   "metadata": {
    "deletable": true,
    "editable": true
   },
   "source": [
    "#### Renegotiaton-proof contracts"
   ]
  },
  {
   "cell_type": "markdown",
   "metadata": {
    "deletable": true,
    "editable": true
   },
   "source": [
    "***[this doesn't exactly follow the paper ]***\n",
    "The agent's period-1-self's preferences differ from those of his period 0 self so they will often want to renegotiate any contract their period 0 self contracted, and the bank can profit from this renegotiation so long as its renegotiaton cost $\\kappa $ is low.   In particular if the period-0-self agreed to contract $\\left( \\bar{c}_{0},\\bar{c}_{1},\\bar{c}_{2}\\right) $ a competitive firm would offer to renegotiate the remaining $(\\bar{c}_{1},\\bar{c}_{2})$ to contract $\\left( c_{1}^{r},c_{2}^{r}\\right) $ chosen to maximize\n",
    "\n",
    "$$\\max \\ \\ u(c_{1})+\\beta (\\delta u(c_{1}) +\\delta^{2} u(c_{2})) $$\n",
    "subject to $$(y_{1}-c_{1})+\\frac{(y_{2}-c_{2})}{(1+r)} \\geq 0$$\n",
    "\n",
    "\n",
    "We can show from the agent's first order conditions for the CRRA case that a renegotiated contract will always satisfy $c_{2}=\\beta ^{\\frac{1}{\\rho }}c_{1}$ and indeed for CRRA we get the closed form:\n",
    "$$ \\hat{c}_{0} =\\frac{\\sum y_{i}}{1+2\\beta^{1/\\rho}}$$\n",
    "\n",
    "and $c_{2}^{r}(\\bar{c}_{1},\\bar{c}_{2})=\\beta ^{\\frac{1}{\\rho }}c_{1}^{r}(\\bar{c}_{1},\\bar{c}_{2})$.  See the reneg(c) function.\n",
    "\n",
    "A sophisticated present-biased consumer anticipates that this type of renegotiation may happen and will only agree to renegotiation-proof contracts that do not renegotiate to favor their period 1 selves.  The profit-maximizing renegotiation-proof contract solves\n",
    "\n",
    "\n",
    "$$\\max_{c_{0},c_{1},c_{2}}\\Pi \\left( c_{0},c_{1},c_{2}\\right) $$\n",
    "$$U(c_{0},c_{1},c_{2})\\geq U_{0}(y_{0},y_{1},y_{2})$$\n",
    "$$\\Pi \\left( c_{1}^{r},c_{2}^{r}\\right) -\\Pi \\left( c_{1},c_{2}\\right) \\leq \\overline{\\kappa }$$\n",
    "The first constraint is the period 0 self's participation constraint and the second is the no-renegotiation proof constraint that the bank not find it profitable to offer to renegotiate to the contract that period-1 self will demand."
   ]
  },
  {
   "cell_type": "markdown",
   "metadata": {
    "deletable": true,
    "editable": true
   },
   "source": [
    "Let's create an instance of a Competitive contract which we will call cC, and then run a few checks to make sure the cM.reneg function works right:"
   ]
  },
  {
   "cell_type": "code",
   "execution_count": 34,
   "metadata": {
    "collapsed": false,
    "deletable": true,
    "editable": true
   },
   "outputs": [
    {
     "name": "stdout",
     "output_type": "stream",
     "text": [
      "beta    : 0.5\n",
      "guess   : [100 100 100]\n",
      "kappa   : 0\n",
      "rho     : 1\n",
      "y       : [200, 50, 50]\n"
     ]
    }
   ],
   "source": [
    "cC = Contract.Competitive(beta = 0.5)\n",
    "cC.rho = 1\n",
    "cC.y = [200,50,50]\n",
    "cC.print_params()"
   ]
  },
  {
   "cell_type": "markdown",
   "metadata": {
    "deletable": true,
    "editable": true
   },
   "source": [
    "### Full commitment contract: closed form solution\n",
    "#### Case 1: where potential renegotiation surplus goes to consumer"
   ]
  },
  {
   "cell_type": "code",
   "execution_count": 35,
   "metadata": {
    "collapsed": false,
    "deletable": true,
    "editable": true
   },
   "outputs": [
    {
     "data": {
      "text/plain": [
       "array([ 150.,   75.,   75.])"
      ]
     },
     "execution_count": 35,
     "metadata": {},
     "output_type": "execute_result"
    }
   ],
   "source": [
    "cCF=cC.fcommit()\n",
    "cCF "
   ]
  },
  {
   "cell_type": "markdown",
   "metadata": {
    "deletable": true,
    "editable": true
   },
   "source": [
    "Analytically calculated renegotiation proof when kappa=0"
   ]
  },
  {
   "cell_type": "code",
   "execution_count": 36,
   "metadata": {
    "collapsed": false,
    "deletable": true,
    "editable": true
   },
   "outputs": [
    {
     "data": {
      "text/plain": [
       "array([ 150.,  100.,   50.])"
      ]
     },
     "execution_count": 36,
     "metadata": {},
     "output_type": "execute_result"
    }
   ],
   "source": [
    "cCRPa = cC.ownsmooth()\n",
    "cCRPa"
   ]
  },
  {
   "cell_type": "code",
   "execution_count": 37,
   "metadata": {
    "collapsed": false,
    "deletable": true,
    "editable": true
   },
   "outputs": [
    {
     "data": {
      "text/plain": [
       "array([ 150.,  100.,   50.])"
      ]
     },
     "execution_count": 37,
     "metadata": {},
     "output_type": "execute_result"
    }
   ],
   "source": [
    "# The renegotiated contract (from full commitment)\n",
    "cCF=cC.fcommit()\n",
    "cC.kappa = 0\n",
    "cC.guess = cCRPa\n",
    "cCR = cC.renegC(cCF)\n",
    "cCR"
   ]
  },
  {
   "cell_type": "markdown",
   "metadata": {
    "deletable": true,
    "editable": true
   },
   "source": [
    "### The renegotiation proof contract\n",
    "\n",
    "Note this is calculated via numeric optimization when using the reneg_proof method so there may be slight (rounding)."
   ]
  },
  {
   "cell_type": "code",
   "execution_count": 38,
   "metadata": {
    "collapsed": false,
    "deletable": true,
    "editable": true
   },
   "outputs": [
    {
     "data": {
      "text/plain": [
       "array([ 149.85,  100.1 ,   50.05])"
      ]
     },
     "execution_count": 38,
     "metadata": {},
     "output_type": "execute_result"
    }
   ],
   "source": [
    "cCRP = cC.reneg_proof(monop_reg = False).x\n",
    "cCRP"
   ]
  },
  {
   "cell_type": "markdown",
   "metadata": {
    "deletable": true,
    "editable": true
   },
   "source": [
    "For the $\\kappa = 0$ case we can solve this via closed form to get essentially the same answer:"
   ]
  },
  {
   "cell_type": "code",
   "execution_count": 39,
   "metadata": {
    "collapsed": false,
    "deletable": true,
    "editable": true
   },
   "outputs": [
    {
     "data": {
      "text/plain": [
       "array([ 150.,  100.,   50.])"
      ]
     },
     "execution_count": 39,
     "metadata": {},
     "output_type": "execute_result"
    }
   ],
   "source": [
    "cC.ownsmooth()"
   ]
  },
  {
   "cell_type": "code",
   "execution_count": 40,
   "metadata": {
    "collapsed": false,
    "deletable": true,
    "editable": true
   },
   "outputs": [
    {
     "name": "stdout",
     "output_type": "stream",
     "text": [
      "kappa =  0\n",
      "y = [200, 50, 50]\n",
      "consumption and net saving in each period\n",
      "cCF        : [ 150.   75.   75.]  sum   :  300\n",
      "cCF (net s): [ 50. -25. -25.]     profit: 0.00\n",
      "PVU(0): 9.328 [ 5.01  4.32  4.32]  b*[]: 4.317\n",
      "PVU(1): 6.4762\n",
      "\n",
      "cCR        : [ 150.  100.   50.]  sum   :  300\n",
      "cCR (net s): [ 50. -50.   0.]     profit: 0.00\n",
      "PVU(0): 9.269 [ 5.01  4.61  3.91]  b*[]: 4.259\n",
      "PVU(1): 6.5612\n",
      "\n",
      "cCRP       : [ 149.85  100.1    50.05]  sum   :  300\n",
      "cCRP(net s): [  5.01e+01  -5.01e+01  -4.93e-02]     profit: -0.00\n",
      "PVU(0): 9.269 [ 5.01  4.61  3.91]  b*[]: 4.260\n",
      "PVU(1): 6.5627\n",
      "\n",
      "cCRPa       : [ 150.  100.   50.]  sum   :  300\n",
      "cCRPa(net s): [ 50. -50.   0.]     profit: 0.00\n",
      "PVU(0): 9.269 [ 5.01  4.61  3.91]  b*[]: 4.259\n",
      "PVU(1): 6.5612\n",
      "\n"
     ]
    }
   ],
   "source": [
    "# compare three contracts \n",
    "# (note python trick to convert string label into var name)\n",
    "print('kappa = ',cC.kappa)\n",
    "print('y =',cC.y)\n",
    "print(\"consumption and net saving in each period\")\n",
    "for con in ['cCF ', 'cCR ', 'cCRP','cCRPa']:\n",
    "    C = eval(con)\n",
    "    y = cC.y\n",
    "    print(con + \"       : {}  sum   : {:4.0f}\"\n",
    "          .format(C, C.sum()))\n",
    "    print(con + \"(net s): {}     profit: {:4.2f}\"\n",
    "          .format(y - C, cC.profit(C,cC.y)))\n",
    "   \n",
    "    print(\"PVU(0): {:4.3f} {}  b*[]: {:4.3f}\"\n",
    "          .format(cC.PVU(C,cC.beta),cC.u(C),\n",
    "                cC.beta*cC.u(C)[1:].sum() ))\n",
    "    print(\"PVU(1): {:4.4f}\"\n",
    "          .format(cC.PVU(C[1:],cC.beta)))\n",
    "    print()"
   ]
  },
  {
   "cell_type": "markdown",
   "metadata": {
    "deletable": true,
    "editable": true
   },
   "source": [
    "The bank does not profit from this type of opportunistic renegotiation, if we assume 'competition' at time of renegotiation **although one might argue** that the relation is ex-ante competitive but ex-post favors the bank."
   ]
  },
  {
   "cell_type": "markdown",
   "metadata": {
    "deletable": true,
    "editable": true
   },
   "source": [
    "A sophisticated consumer will however anticipate this type of opporunistic renegotiation and only agree to a renegotiation-proof contract.  "
   ]
  },
  {
   "cell_type": "markdown",
   "metadata": {
    "deletable": true,
    "editable": true
   },
   "source": [
    "As expected the bank's profits are lowered due to its inability to commit to not renegotiate.\n",
    "\n",
    "Here's a plot."
   ]
  },
  {
   "cell_type": "code",
   "execution_count": 41,
   "metadata": {
    "collapsed": false,
    "deletable": true,
    "editable": true
   },
   "outputs": [
    {
     "data": {
      "image/png": "[encoded data removed]",
      "text/plain": [
       "<matplotlib.figure.Figure at 0x9d271d0>"
      ]
     },
     "metadata": {},
     "output_type": "display_data"
    }
   ],
   "source": [
    "c1min, c1max = np.min(cCR)*0.6, np.max(cC.y)\n",
    "c1min = 0\n",
    "c1max = 160\n",
    "c1 = np.arange(0,c1max,c1max/20)\n",
    "c1_ = np.arange(40,c1max,c1max/20)\n",
    "y = cC.y\n",
    "#cCRP = cCRPa\n",
    "#indifference curves functions\n",
    "ubar0 = cC.PVU(cCF[1:3], 1.0)\n",
    "idc0 = cC.indif(ubar0, 1.0)\n",
    "ubar1 = cC.PVU(cCF[1:3],cC.beta)\n",
    "idc1 = cC.indif(ubar1,cC.beta)\n",
    "ubar0RP = cC.PVU(cCRP[1:3], 1.0)\n",
    "idc0RP = cC.indif(ubar0RP,1.0)\n",
    "ubar1RP = cC.PVU(cCRP[1:3], cC.beta)\n",
    "idc1RP = cC.indif(ubar1RP,cC.beta)\n",
    "\n",
    "\n",
    "fig, ax = plt.subplots()\n",
    "# trick to display contract points and coordinate lines http://bit.ly/1CaTMDX\n",
    "xx = [cCF[1], cCRP[1]]\n",
    "yy = [cCF[2], cCRP[2]]\n",
    "plt.scatter(xx,yy, s=50, marker='o',color='b')\n",
    "[plt.plot([dot_x, dot_x] ,[0, dot_y],':',linewidth = 1,color='black' ) for dot_x, dot_y in zip(xx,yy) ] \n",
    "[plt.plot([0, dot_x] ,[dot_y, dot_y],':',linewidth = 1,color='black' ) for dot_x, dot_y in zip(xx,yy) ]\n",
    "\n",
    "# indifference curves\n",
    "plt.plot(c1_,idc0(c1_),color='blue')          \n",
    "#plt.plot(c1_,idc1(c1_),color='red') \n",
    "plt.plot(c1_,idc0RP(c1_),color='blue')\n",
    "plt.plot(c1_,idc1RP(c1_),color='red')\n",
    "# rays\n",
    "plt.plot(c1, c1,':',color='black')\n",
    "plt.plot(c1, cC.beta**(1/cC.rho)*c1,':',color='black')\n",
    "# isoprofit line(s)\n",
    "#isoprofline = cC.isoprofit(cC.profit(cMF,cC.y)-(y[0]-cCF[0]), y)\n",
    "#plt.plot(c1,  isoprofline(c1),':' )\n",
    "\n",
    "ax.spines['right'].set_color('none'), ax.spines['top'].set_color('none')\n",
    "plt.ylim((c1min, c1max*0.9)), plt.xlim((c1min, c1max*0.9))\n",
    "ax.xaxis.tick_bottom(),ax.yaxis.tick_left()\n",
    "plt.xlabel('$c_{1}$'); plt.ylabel('$c_{2}$')\n",
    "\n",
    "# label the points\n",
    "ax.text(cCF[1]-1, cCF[2]+3, r'$F$', fontsize=15)\n",
    "ax.text(cCRP[1]-3, cCRP[2]-5, r'$P$', fontsize=15)\n",
    "ax.text(cCRP[1], -6, r'$c^{cp}_{1}$', fontsize=15)\n",
    "ax.text(-8, cCRP[2], r'$c^{cp}_{2}$', fontsize=15)\n",
    "ax.text(cCF[1], -6, r'$c^{cf}_{1}$', fontsize=15)\n",
    "ax.text(-8, cCF[2], r'$c^{cf}_{2}$', fontsize=15)\n",
    "\n",
    "#ax.text(0, -10, r'Competitive $\\kappa = {}$'\n",
    "#        .format(cC.kappa), fontsize=12)\n",
    "#ax.text(0, -15, r'$\\beta = {}, \\  \\rho = {}$'\n",
    "#        .format(cC.beta, cC.rho), fontsize=12)\n",
    "\n",
    "# isoprofit lines could be plotted like so\n",
    "#isop  = cC.isoprofit( cC.kappa, cCRP)   # returns a function of c1 \n",
    "#plt.plot(c1_, isop(c1_),':')\n",
    "#turn off the axis numbers\n",
    "ax.axes.get_xaxis().set_visible(False)\n",
    "ax.axes.get_yaxis().set_visible(False)\n",
    "plt.savefig('figs\\CompetitiveFig.pdf', format='pdf')\n",
    "plt.show()"
   ]
  },
  {
   "cell_type": "code",
   "execution_count": 42,
   "metadata": {
    "collapsed": false,
    "deletable": true,
    "editable": true
   },
   "outputs": [],
   "source": [
    "# isoprofit lines could be plotted like so\n",
    "# isop  = cM.isoprofit( 0.0, cM.y)   # returns a function of c1 \n",
    "# plt.plot(c1, isop(c1))"
   ]
  },
  {
   "cell_type": "markdown",
   "metadata": {
    "deletable": true,
    "editable": true
   },
   "source": [
    "## The role of $\\rho$ in RP contracts"
   ]
  },
  {
   "cell_type": "markdown",
   "metadata": {
    "deletable": true,
    "editable": true
   },
   "source": [
    "In the section of the paper called 'The Renegotiation Problem' on or aroudn page 18 we show that \n",
    "\n",
    ">for all  $0<\\beta<1$ we will have $c_0^P\\gtreqless c_0^F$ as $\\rho \\lesseqgtr 1$  and $c_2^P<c_2^F$.  That means that when $\\rho<1$\n",
    " and the elasticity of intertemporal substitution $\\frac{1}{\\rho}$ is high Zero  will respond to the failure of commitment by allocating less resources to period 1 and 2 consumption -- saving less or borrowing more in period 0. When  $\\rho>1$ she responds by allocating more resources -- saving more or borrowing less in period 0 \n",
    "... In fact period 0 consumption adjustments are  small relative to the increase in period 1 consumption.  In other words even though they have a first-mover advantage, Zero can do little other than to  largely accommodate to the  consumption pattern that One self wants to impose. There is little Zero can do to ameliorate the self-control problem on their own -- hence her demand for commitment services from the bank. \n",
    "\n",
    "Here we show that last numerical claim by plotting $\\frac{c2_P}{c2_F}$ at different levels of $\\beta$ and $\\rho$"
   ]
  },
  {
   "cell_type": "code",
   "execution_count": 43,
   "metadata": {
    "collapsed": false,
    "deletable": true,
    "editable": true
   },
   "outputs": [
    {
     "data": {
      "image/png": "[encoded data removed]",
      "text/plain": [
       "<matplotlib.figure.Figure at 0x9cd45c0>"
      ]
     },
     "metadata": {},
     "output_type": "display_data"
    }
   ],
   "source": [
    "cCE = Contract.Competitive(beta = 0.5)          # create an instance m\n",
    "cCE.rho = 1\n",
    "\n",
    "num_pts = 21\n",
    "betas = np.linspace(0.1,1,num_pts)           # iterate over different values of beta\n",
    "CCF = np.zeros((3,num_pts))                  # 3 row matrix to store (c0,c1,c2) for each beta\n",
    "CCR = np.zeros((3,num_pts))                  # to store renegotiation proof     \n",
    "\n",
    "for i in range(0,num_pts):\n",
    "    cCE.beta = betas[i]                    # change beta before recalculating optimal contract\n",
    "    CCF[:,i] = cCE.fcommit()   \n",
    "    CCR[:,i] = cCE.ownsmooth()   \n",
    "\n",
    "r0 = CCR[0,:]/CCF[0,:]               # save results for plotting\n",
    "r1 = CCR[1,:]/CCF[1,:]\n",
    "r2 = CCR[2,:]/CCF[2,:]\n",
    "\n",
    "plt.plot(betas,r0,'--')                          # plot    \n",
    "plt.plot(betas,r1)\n",
    "plt.plot(betas,r2,'b-x')\n",
    "plt.grid()\n",
    "plt.title('Competitive Commitment Contract as function of beta')\n",
    "plt.xlabel('beta')\n",
    "plt.ylabel('consumption')\n",
    "plt.legend(['c0F','c1F','c2F'])\n",
    "plt.show()\n"
   ]
  },
  {
   "cell_type": "markdown",
   "metadata": {
    "deletable": true,
    "editable": true
   },
   "source": [
    "Here is a plot to see how much period 0 consumption changes in the absence of commitment relative to commitment.  \n",
    "As before period 0 consumption increases for all $\\rho$<1 and increases for all above 1.  \n",
    "\n",
    "The figure that follows is busy looking because we plot for different levels of $\\beta$ and $\\rho$.  The important takeaway is just that period zero consumption does **not** move very much (like maybe 6% at extreme values).  However period 1 and period 2 consumption can move a lot."
   ]
  },
  {
   "cell_type": "code",
   "execution_count": 44,
   "metadata": {
    "collapsed": false,
    "deletable": true,
    "editable": true
   },
   "outputs": [
    {
     "data": {
      "image/png": "[encoded data removed]",
      "text/plain": [
       "<matplotlib.figure.Figure at 0x9b999e8>"
      ]
     },
     "metadata": {},
     "output_type": "display_data"
    }
   ],
   "source": [
    "CCP = np.zeros((3,num_pts)) \n",
    "for rh in [0.01, 0.2, 0.5, 1, 1.25, 2, 5, 10, 500]:\n",
    "    cCE.rho = rh\n",
    "    for i in range(0,num_pts):\n",
    "        cCE.beta = betas[i]                    # change beta before recalculating optimal contract\n",
    "        CCF[:,i] = cCE.fcommit()   \n",
    "        CCP[:,i] = cCE.ownsmooth()   \n",
    "\n",
    "    r0 = CCP[0,:]/CCF[0,:]               # save results for plotting\n",
    "    r1 = CCP[1,:]/CCF[1,:]\n",
    "    r2 = CCP[2,:]/CCF[2,:]\n",
    "\n",
    "    plt.plot(betas,r1,'--')                          # plot \n",
    "    plt.text(0.3, r1[4],rh)\n",
    "plt.xlabel('beta')\n",
    "plt.ylabel('consumption')\n",
    "plt.grid()\n",
    "plt.show()"
   ]
  },
  {
   "cell_type": "code",
   "execution_count": 45,
   "metadata": {
    "collapsed": false,
    "deletable": true,
    "editable": true
   },
   "outputs": [
    {
     "data": {
      "text/plain": [
       "array([ 1.03,  1.49,  0.37])"
      ]
     },
     "execution_count": 45,
     "metadata": {},
     "output_type": "execute_result"
    }
   ],
   "source": [
    "cCE.rho, cCE.beta = 0.5, 0.5\n",
    "CCP = cCE.ownsmooth()\n",
    "CCF = cCE.fcommit()\n",
    "np.multiply(CCP, 1/CCF)\n"
   ]
  },
  {
   "cell_type": "markdown",
   "metadata": {
    "deletable": true,
    "editable": true
   },
   "source": [
    "## Optimal contract when renegotiation cost $\\kappa $ >0"
   ]
  },
  {
   "cell_type": "markdown",
   "metadata": {
    "deletable": true,
    "editable": true
   },
   "source": [
    "Plot to explore how the renegotiation cost $\\kappa $ affects the terms of the contract and firm profits"
   ]
  },
  {
   "cell_type": "code",
   "execution_count": 46,
   "metadata": {
    "collapsed": false,
    "deletable": true,
    "editable": true
   },
   "outputs": [
    {
     "data": {
      "image/png": "[encoded data removed]",
      "text/plain": [
       "<matplotlib.figure.Figure at 0x9b85320>"
      ]
     },
     "metadata": {},
     "output_type": "display_data"
    }
   ],
   "source": [
    "# Note:  re-run all cells above if the plot seems wrong\n",
    "cC.y = np.array([100,100,100]) \n",
    "cCF = cC.fcommit()\n",
    "num_pts = 21\n",
    "kaps = np.linspace(0, 10, num_pts)      # different renegotiation cost values \n",
    "cCRP, pvu0RP = np.zeros((3,num_pts)), np.zeros(num_pts)  # init (c0,c1,c2) and profits at each kappa\n",
    "\n",
    "for i in range(0,num_pts):               # look through kappa recalculating optimal contract each time\n",
    "    cC.kappa = kaps[i] \n",
    "    cCRP[:,i] = cC.reneg_proof().x \n",
    "    pvu0RP[i] = cC.PVU(cCRP[:,i],cC.beta)\n",
    "\n",
    "c0,c1,c2 = cCRP[0,:], cCRP[1,:],cCRP[2,:]                # save results for plotting\n",
    "\n",
    "fig, (ax0, ax1) = plt.subplots(nrows = 2)\n",
    "#ax0.plot(kaps, c0, label='$c_{0}$')\n",
    "ax0.plot(kaps, c1, label='$c_{1}$')\n",
    "ax0.plot(kaps, c2, label='$c_{2}$')\n",
    "ax0.plot(kaps, np.ones(num_pts)*cCF[1], '--', label='$c_{F}$')\n",
    "ax0.grid()\n",
    "ax0.set_title('Reneg-Proof Contract terms, PVU and $\\kappa$'), ax0.set_ylabel('consumption')\n",
    "ax0.legend(loc=9,bbox_to_anchor=(0.5, -1.25), ncol = 3)\n",
    "\n",
    "ax1.plot(kaps, pvu0RP)\n",
    "ax1.set_ylabel('PVU0')\n",
    "ax1.grid()\n",
    "ax1.set_xlabel('renegotiation cost $\\kappa$')\n",
    "pvumin,pvumax = min(pvu0RP), max(pvu0RP)\n",
    "plt.ylim((pvumin, pvumax))\n",
    "plt.tight_layout()\n",
    "plt.show()"
   ]
  },
  {
   "cell_type": "markdown",
   "metadata": {
    "deletable": true,
    "editable": true
   },
   "source": [
    "At lower renegotiation costs the bank is forced to offer less consumption smoothing in periods 1 and 2 as a way to credibly commit to limit their gains to renegotiation with a period 1 self.  Hence bank profits rise with their ability to commit to incur a renegotiation cost $\\kappa$\n",
    "\n",
    "We haven't plotted $c_{0}$ for each $\\kappa$ but that's because it varies less relative to $c_{1}, c_{2}$ and way above the full commitment consumption smoothing. The following shows a non-monotonic relation though **notice this is varying very little.** And it also is vey sensitive to $\\rho$"
   ]
  },
  {
   "cell_type": "code",
   "execution_count": 47,
   "metadata": {
    "collapsed": false,
    "deletable": true,
    "editable": true
   },
   "outputs": [
    {
     "data": {
      "image/png": "[encoded data removed]",
      "text/plain": [
       "<matplotlib.figure.Figure at 0x83ab9b0>"
      ]
     },
     "metadata": {},
     "output_type": "display_data"
    }
   ],
   "source": [
    "cC.rho = 1\n",
    "for i in range(0,num_pts):               # look through kappa recalculating optimal contract each time\n",
    "    cC.kappa = kaps[i] \n",
    "    cCRP[:,i] = cC.reneg_proof().x \n",
    "c0 = cCRP[0,:]\n",
    "\n",
    "plt.plot(kaps, c0) \n",
    "plt.ylim((min(c0), max(c0)))\n",
    "plt.xlabel('renegotiation cost $\\kappa$')\n",
    "plt.title(r'Period 0 consumption and $\\kappa$')\n",
    "plt.show()"
   ]
  },
  {
   "cell_type": "markdown",
   "metadata": {
    "deletable": true,
    "editable": true
   },
   "source": [
    "### The choice to become a commercial non-profit"
   ]
  },
  {
   "cell_type": "markdown",
   "metadata": {
    "deletable": true,
    "editable": true
   },
   "source": [
    "### Modeling the non-profit"
   ]
  },
  {
   "cell_type": "markdown",
   "metadata": {
    "deletable": true,
    "editable": true
   },
   "source": [
    "The no-renegotiation constraint has two parts.  A pure for-profit captures fraction $\\alpha = 1$ of profits and faces renegotiation cost \n",
    "not-for-profit of type $\\alpha$ and faces renegotiation cost $h(\\alpha) = h(1)$.  More generally a non-profit of type $\\alpha$ has a no-renegotiation constraint of the form \n",
    "$$\\alpha \\left[ \\Pi ^{R}-\\Pi \\right] \\geq h(\\alpha )$$\n",
    "\n",
    "To be specific here let's model this as \n",
    "$$h(\\alpha )=\\kappa \\left( 1-\\alpha \\right) $$\n",
    "\n",
    "So that at $\\alpha =1$ there is no cost to renegotiation and at $0< \\alpha <1$ there is a non-negative non-pecuniary cost of up to $\\kappa$.  The constraint can then be written as \n",
    "$$\\left[ \\Pi ^{R}-\\Pi \\right] \\geq C(\\alpha )=\\frac{h(\\alpha )}{\\alpha }$$"
   ]
  },
  {
   "cell_type": "code",
   "execution_count": 48,
   "metadata": {
    "collapsed": false,
    "deletable": true,
    "editable": true
   },
   "outputs": [
    {
     "data": {
      "image/png": "[encoded data removed]",
      "text/plain": [
       "<matplotlib.figure.Figure at 0x839e208>"
      ]
     },
     "metadata": {},
     "output_type": "display_data"
    }
   ],
   "source": [
    "# Similar to above but solve for contract as a function of firm type ALPHA\n",
    "y = np.array([100,100,100])          # To see how endowment affects contract\n",
    "cC.y     = y                            \n",
    "cCF      = cC.fcommit()\n",
    "num_pts  = 10\n",
    "alphs    = np.linspace(0.0,1.0,num_pts)   # iterate over different values of beta\n",
    "HA       = 10*(np.ones(num_pts) - alphs)   #  h(alpha)/alpha  or cost of renegotiaton\n",
    "cCRP     = np.zeros((3,num_pts))          # matrix for (c0,c1,c2) at each kappa\n",
    "pvu0RP   = np.zeros(num_pts)  #PVU0 when contracting with alpha=1 firm\n",
    "\n",
    "for i in range(0,num_pts):\n",
    "    cC.kappa = HA[i]                 # change optimal contract\n",
    "    cCRP[:,i] = cC.reneg_proof().x \n",
    "    cC.guess =  cCRP[:,i]                 # use this sol as guess for next optimum\n",
    "    pvu0RP[i] = cC.PVU(cCRP[:,i],cC.beta)\n",
    "    \n",
    "#last entry is 'pure profit' pvu0RP[-1]\n",
    "pvu0RP_pure = pvu0RP[-1]\n",
    "\n",
    "c0,c1,c2 = cCRP[0,:], cCRP[1,:],cCRP[2,:]                # save results for plotting\n",
    "\n",
    "fig3 = plt.figure()  \n",
    "plt.plot(alphs,c1,'--',label='$c_{1}$')\n",
    "plt.plot(alphs,c2,label='$c_{2}$')\n",
    "plt.plot(alphs,np.ones(num_pts)*cCF[1],label='$c_{1}$ commit')\n",
    "plt.grid()\n",
    "plt.title('Renegotiation Proof Contract and alpha' )\n",
    "plt.xlabel('alpha ')\n",
    "plt.ylabel('consumption')\n",
    "plt.legend(loc='upper left')\n",
    "plt.show()"
   ]
  },
  {
   "cell_type": "markdown",
   "metadata": {
    "deletable": true,
    "editable": true
   },
   "source": [
    "### 'Commercial' non-profits \n",
    "A 'pure' for profit (with $\\alpha$=1.0) earns a reduced (possibly negative) profit due to it's inability to commit. Seen in the plot as profits the height of the horizontal line.\n",
    "\n",
    "Any non-profit with $\\alpha$ above about 0.4 and below 1.0 can better commit to not renegotiate a larger set of contracts and therefore can offer a more profitable renegotiation-proof contract. Even though they capture only fraction $\\alpha$ of those profits, the take home profits exceed the profits of the pure for-profit. "
   ]
  },
  {
   "cell_type": "code",
   "execution_count": 49,
   "metadata": {
    "collapsed": false,
    "deletable": true,
    "editable": true
   },
   "outputs": [
    {
     "data": {
      "image/png": "[encoded data removed]",
      "text/plain": [
       "<matplotlib.figure.Figure at 0x9b1c048>"
      ]
     },
     "metadata": {},
     "output_type": "display_data"
    }
   ],
   "source": [
    "cC.y = [130,85,85]  \n",
    "#last entry is 'pure profit' pvu0RP[-1]\n",
    "pvu0RP_full = pvu0RP[-1]*np.ones(num_pts)\n",
    "pvu0_aut  = cC.PVU(cC.y,cC.beta)*np.ones(num_pts)\n",
    "\n",
    "fig = plt.figure()\n",
    "ax = fig.add_subplot(111)\n",
    "plt.title('Renegotiation-Proof PVU0 vs. alpha')\n",
    "plt.xlabel(r'type of firm $ \\alpha$')\n",
    "plt.ylabel('0-self present discounted utility')\n",
    "plt.plot(alphs,pvu0RP_full,'--',label='PVU from pure-profit')\n",
    "plt.plot(alphs,pvu0RP,label='PVU from non-profit')\n",
    "plt.plot(alphs,pvu0_aut,label='PVU from autarky')\n",
    "\n",
    "ax.fill_between(alphs, np.fmax(pvu0RP,pvu0_aut), pvu0_aut,hatch='/')\n",
    "plt.legend(loc='upper center', bbox_to_anchor=(0.5, -0.1),\n",
    "          fancybox=None, ncol=5)\n",
    "plt.show()"
   ]
  },
  {
   "cell_type": "markdown",
   "metadata": {
    "deletable": true,
    "editable": true
   },
   "source": [
    "The figure above compares what the customer can get (present discounted utility of period 0 self) from autarky compared to what he could get contracting in a situation with competition and exclusive contracts.\n",
    "\n",
    "In the particular example ($\\beta = 0.5, \\rho=0.75, y=[130,85, 85]$) the autarky consumption bundle is rather close to what could be offered via consumption smothing so the total surplus to be divided is not that large.  The pure for profit firm offers a renegotiation proof contract that does such a poor smoothing job that the consumer prefers to stay in authaky.  However a commercial non-profit with alpha below ~ 0.8 offers a smoother contract and hence gains to trade.  \n",
    "\n",
    "Now as presently modeld that non-profit will of course get zero profits (80% of zero!). We can model instead situations where at any period 1 renegotiation it's the consumer who gives up all surplus since the assumption of exclusive contracts means the period 1 self will be willing to give up quite a bit. Or maybe they Nash bargain.  THese cases might be more realistic. \n",
    "\n",
    "We'll get to these in a moment but first lets look at how the above situation depends on the initial y vector. \n",
    " "
   ]
  },
  {
   "cell_type": "code",
   "execution_count": 50,
   "metadata": {
    "collapsed": false,
    "deletable": true,
    "editable": true
   },
   "outputs": [
    {
     "name": "stdout",
     "output_type": "stream",
     "text": [
      "beta    : 0.5\n",
      "guess   : [ 149.85  100.1    50.05]\n",
      "kappa   : 0.0\n",
      "rho     : 1\n",
      "y       : [130, 85, 85]\n"
     ]
    }
   ],
   "source": [
    "cC.print_params()"
   ]
  },
  {
   "cell_type": "code",
   "execution_count": 51,
   "metadata": {
    "collapsed": false,
    "deletable": true,
    "editable": true
   },
   "outputs": [
    {
     "data": {
      "image/png": "[encoded data removed]",
      "text/plain": [
       "<matplotlib.figure.Figure at 0x9c36fd0>"
      ]
     },
     "metadata": {},
     "output_type": "display_data"
    }
   ],
   "source": [
    "#plot(alphs,cMRP[0,:],label='$c_{0}$')\n",
    "fig = plt.figure()\n",
    "plt.plot(alphs,cCRP[0,:]-cC.y[0],label='$-c_{0}$')\n",
    "plt.plot(alphs,cC.y[1]-cCRP[1,:],'--',label='$c_{1}$')\n",
    "plt.plot(alphs,cC.y[2]-cCRP[2,:],label='$c_{2}$')\n",
    "\n",
    "plt.title('Consumption profile as a function of alpha')\n",
    "plt.legend(loc='upper center', bbox_to_anchor=(0.5, -0.05),\n",
    "          fancybox=None, ncol=5)\n",
    "plt.show()"
   ]
  },
  {
   "cell_type": "markdown",
   "metadata": {
    "deletable": true,
    "editable": true
   },
   "source": [
    "**Loan, repayment and PVU breakdown by periods as function of alpha**\n",
    "(to be completed...results below are from monopoly case)"
   ]
  },
  {
   "cell_type": "code",
   "execution_count": 52,
   "metadata": {
    "collapsed": false,
    "deletable": true,
    "editable": true
   },
   "outputs": [],
   "source": [
    "#print(\"alpha      c0     c1    c2        profit = (y0-cMRP0) + (y1-cMRP1) + (y2-cMRP2)\")\n",
    "#print(\"-\"*79)\n",
    "#for i,a in enumerate(alphs):\n",
    "#    print(\"{:5.2f}:   {:6.2f} {:6.2f} {:5.2f},   {:8.2f} = {:8.2f}   + {:8.2f}   + {:8.2f}   \"\n",
    "#          .format(a, cMRP[0,i], cMRP[1,i], cMRP[2,i],profitRP[i],y[0]-cMRP[0,i],y[1]-cMRP[1,i],y[2]-cMRP[2,i],))\n",
    "#print()"
   ]
  },
  {
   "cell_type": "markdown",
   "metadata": {
    "collapsed": false,
    "deletable": true,
    "editable": true
   },
   "source": [
    "The inability to commit means the renegotiation proof contract doesn't smooth consumption very well for the consumer.  This ends up hurting the bank, since they must now 'compensate' the consumer for the higher variance of consumption if the participation constraint is still to be met.  "
   ]
  },
  {
   "cell_type": "markdown",
   "metadata": {
    "deletable": true,
    "editable": true
   },
   "source": [
    "The code that follows produces a grid of subplots to illustrate how the results (the relation between $\\alpha$ and retained profits) depends on the initial y vector, which in turn also determines whether this will be borrowing or saving.  "
   ]
  },
  {
   "cell_type": "markdown",
   "metadata": {
    "deletable": true,
    "editable": true
   },
   "source": [
    "##The role of y\n",
    "###Gains to consumer with diferent firms $\\alpha$\n",
    "Even though it earns zero profits a pure for-profit firm's renegotiation proof contract will offer less consumption smoothing that a firm that due to its non-profit status has higher renegotiation costs.  "
   ]
  },
  {
   "cell_type": "markdown",
   "metadata": {
    "deletable": true,
    "editable": true
   },
   "source": [
    "NOTE:  some parts of this script need manual adjustment"
   ]
  },
  {
   "cell_type": "code",
   "execution_count": 53,
   "metadata": {
    "collapsed": false,
    "deletable": true,
    "editable": true
   },
   "outputs": [],
   "source": [
    "cC.rho=0.95"
   ]
  },
  {
   "cell_type": "code",
   "execution_count": 54,
   "metadata": {
    "collapsed": false,
    "deletable": true,
    "editable": true
   },
   "outputs": [
    {
     "name": "stdout",
     "output_type": "stream",
     "text": [
      "Left: present discounted U (shaded = NP dominates). Right: net saving in each period as function of α :\n",
      "[ 120.   90.   90.] 50.4370078219 50.5134973232 50.4553028372 50.4370078219\n",
      "cCF :  [ 150.   75.   75.]\n",
      "[ 140.   80.   80.] 50.4370078219 50.5134973232 50.5048334168 50.4370078219\n",
      "cCF :  [ 150.   75.   75.]\n",
      "[ 160.   70.   70.] 50.4370078219 50.5134973232 50.5106763623 50.4370078219\n",
      "cCF :  [ 150.   75.   75.]\n"
     ]
    },
    {
     "data": {
      "image/png": "[encoded data removed]",
      "text/plain": [
       "<matplotlib.figure.Figure at 0x9c4f518>"
      ]
     },
     "metadata": {},
     "output_type": "display_data"
    }
   ],
   "source": [
    "print(\"Left: present discounted U (shaded = NP dominates). Right: net saving in each period as function of α :\")\n",
    "num_pts  = 21\n",
    "alphs    = np.linspace(0,1,num_pts)       # iterate over different alphas\n",
    "HA        = 10*(np.ones(num_pts)-alphs)     # h(alpha)/alpha  or cost of renegotiaton\n",
    "cCRP     = np.zeros((3,num_pts))             # to store (c0,c1,c2) for each alpha\n",
    "pvu0RP   = np.zeros(num_pts)  #PVU0 when contracting with alpha=1 firm\n",
    "pvu0_aut  = cC.PVU(cC.y,cC.beta)*np.ones(num_pts)\n",
    "\n",
    "fig, ax = plt.subplots(10,sharex=True)\n",
    "numy0 = 3     # rows of subplots\n",
    "ax = plt.subplot(numy0,2,1)\n",
    "\n",
    "# Vary y contracts (maintaining PV at 300 in zero interest rate setting)\n",
    "for j in range(1, numy0 + 1):  \n",
    "    y0 = 100 + j*20\n",
    "    y = np.array([y0,100,100])            \n",
    "    y = np.array([y0,(300-y0)/2,(300-y0)/2])   \n",
    "    cC.y = y\n",
    "    pvu0_aut  = cC.PVU(cC.y,cC.beta)*np.ones(num_pts)\n",
    "    \n",
    "    ax1 = plt.subplot(numy0, 2, j*2-1, sharex=ax)  \n",
    "    for i in range(0, num_pts):\n",
    "        cC.kappa = HA[i]             # change reneg cost  \n",
    "        \n",
    "        cCRP[:,i]    = cC.reneg_proof(monop_reg = False).x \n",
    "        cC.guess     = cCRP[:,i]         # store sol as guess for next search\n",
    "        pvu0RP[i] = cC.PVU(cCRP[:,i],cC.beta)\n",
    "   \n",
    "    #last entry is 'pure profit' pvu0RP[-1]\n",
    "    #pvu0RP_pure = pvu0RP[-1]\n",
    "    \n",
    "    pvu0RP_full = pvu0RP[-1]*np.ones(num_pts) \n",
    "    \n",
    "    # I HAVE NOT YET AUTOMATED THE AXIS BOUNDS\n",
    "    pumin =  min(pvu0RP[-1],min(pvu0_aut))\n",
    "    pumax = max(pvu0RP)\n",
    "    ax1.set_ylim([50.25, 50.6])\n",
    "    print(y,pumin,pumax,min(pvu0_aut),pvu0RP[-1])\n",
    "    print(\"cCF : \",cCF)\n",
    "    \n",
    "    pvu0RP_full = pvu0RP[-1]*np.ones(num_pts) \n",
    "    ax1.set_title(r'$y=( %2.0f, %2.0f, %2.0f)$' %(y0,y[1],y[2]))\n",
    "    ax1.plot(alphs, pvu0_aut,label='aut')\n",
    "    ax1.plot(alphs, pvu0RP,label='NP')\n",
    "    ax1.plot(alphs, pvu0RP_full,label='FP')\n",
    "    ax1.fill_between(alphs, np.fmax(pvu0RP,pvu0_aut), pvu0_aut,hatch='/')\n",
    "    plt.grid()\n",
    "        \n",
    "    ax2 = plt.subplot(numy0,2,j*2, sharex=ax, sharey=ax)    # Plot contract terms in right column plot\n",
    "    #ax1.set_ylim([0, 25])\n",
    "    ax2.plot(alphs, y0 - cCRP[0,:],\"d--\",label='$y_0-c_0$')\n",
    "    ax2.plot(alphs, y[1] - cCRP[1,:],label='$y_1-c_1$')\n",
    "    ax2.plot(alphs, y[2] - cCRP[2,:],\"x-\",label='$y_2-c_2$')\n",
    "    #ax2.axhline(y=0, color ='k')\n",
    "    #ax2.plot(alphs, y[0]*np.ones(num_pts))\n",
    "    #ax2.plot(alphs, y[1]*np.ones(num_pts))\n",
    "    plt.grid()    \n",
    "ax1.legend(loc='lower center', fancybox=None, ncol=5)\n",
    "ax2.legend(loc='lower center', fancybox=None, ncol=5)\n",
    "plt.tight_layout()\n",
    "\n",
    "plt.savefig('figs\\Comp_excl.pdf', format='pdf')\n",
    "plt.show()    "
   ]
  },
  {
   "cell_type": "code",
   "execution_count": 55,
   "metadata": {
    "collapsed": false,
    "deletable": true,
    "editable": true
   },
   "outputs": [],
   "source": [
    "plt.close('all')"
   ]
  },
  {
   "cell_type": "markdown",
   "metadata": {
    "deletable": true,
    "editable": true
   },
   "source": [
    "**INTERPRETATION**: The left column of plots above shows renegotiation-proof profits as a function of $\\alpha$ where $\\alpha$ affects both the share of profits that are captured as well as the cost of renegotiation as described above.  The blue shaded area indicates where commercial non-profits (that choose an $\\alpha <1$) capture more profit than a pure for-profit. \n",
    "\n",
    "The right column of plots shows the terms of the associated contract displayed as 'net savings' (y0-c0), (y1-c1), and (y2-c2).  When these are positive the client is saving or repaying, when negative they are borrowing.\n",
    "\n",
    "When we keep the PV of y constant but change the ratio of period zero income y0 to later period income, y vectors that lead to borrowing (lower y0, higher y1,y2) deliver higher full-commitment (and renegotiation-proof) profits at any level of alpha. \n",
    "\n",
    "Since most of the profits are in the 0 to 1 period, they weigh more heavily in total profits.  Turning non-profit is only attractive at relatively high values of alpha (since at lower alpha they're forfeiting the period 0-1 profits). At higher y0 (tilted more toward savings) full commitment (and renegotiation-proof) profits are lower The pattern seems to be that as we move toward first period savings..."
   ]
  },
  {
   "cell_type": "markdown",
   "metadata": {
    "deletable": true,
    "editable": true
   },
   "source": [
    "### NOT FINISHED\n",
    "Profitability as a function of y0"
   ]
  },
  {
   "cell_type": "markdown",
   "metadata": {
    "deletable": true,
    "editable": true
   },
   "source": [
    "### Own-savings strategies"
   ]
  },
  {
   "cell_type": "code",
   "execution_count": null,
   "metadata": {
    "collapsed": true,
    "deletable": true,
    "editable": true
   },
   "outputs": [],
   "source": []
  },
  {
   "cell_type": "code",
   "execution_count": 56,
   "metadata": {
    "collapsed": false,
    "deletable": true,
    "editable": true
   },
   "outputs": [
    {
     "name": "stdout",
     "output_type": "stream",
     "text": [
      "beta    : 0.9\n",
      "guess   : [100 100 100]\n",
      "kappa   : 0\n",
      "rho     : 0.5\n",
      "y       : [110, 95, 95]\n"
     ]
    }
   ],
   "source": [
    "cC = Contract.Competitive(beta = 0.9)\n",
    "cC.rho = 0.5\n",
    "cC.y = [110,95,95]\n",
    "cC.print_params()"
   ]
  },
  {
   "cell_type": "code",
   "execution_count": 57,
   "metadata": {
    "collapsed": true,
    "deletable": true,
    "editable": true
   },
   "outputs": [],
   "source": [
    "def saving(c,y):\n",
    "    return c-y"
   ]
  },
  {
   "cell_type": "code",
   "execution_count": 58,
   "metadata": {
    "collapsed": false,
    "deletable": true,
    "editable": true
   },
   "outputs": [
    {
     "name": "stdout",
     "output_type": "stream",
     "text": [
      "[110, 95, 95]\n",
      "[ 114.7   102.38   82.92]\n",
      "[ 114.5    92.75   92.75]\n"
     ]
    }
   ],
   "source": [
    "print(cC.y)\n",
    "print(cC.ownsmooth())\n",
    "print(cC.fcommit())"
   ]
  },
  {
   "cell_type": "code",
   "execution_count": 59,
   "metadata": {
    "collapsed": false,
    "deletable": true,
    "editable": true
   },
   "outputs": [
    {
     "data": {
      "text/plain": [
       "array([  4.7 ,   7.38, -12.08])"
      ]
     },
     "execution_count": 59,
     "metadata": {},
     "output_type": "execute_result"
    }
   ],
   "source": [
    "saving(cC.ownsmooth(),cC.y)"
   ]
  },
  {
   "cell_type": "code",
   "execution_count": 60,
   "metadata": {
    "collapsed": false,
    "deletable": true,
    "editable": true
   },
   "outputs": [
    {
     "ename": "NameError",
     "evalue": "name 'cM' is not defined",
     "output_type": "error",
     "traceback": [
      "\u001b[1;31m---------------------------------------------------------------------------\u001b[0m",
      "\u001b[1;31mNameError\u001b[0m                                 Traceback (most recent call last)",
      "\u001b[1;32m<ipython-input-60-187707df37c2>\u001b[0m in \u001b[0;36m<module>\u001b[1;34m()\u001b[0m\n\u001b[0;32m     11\u001b[0m \u001b[1;32mfor\u001b[0m \u001b[0my0\u001b[0m \u001b[1;32min\u001b[0m \u001b[0mY0\u001b[0m\u001b[1;33m:\u001b[0m\u001b[1;33m\u001b[0m\u001b[0m\n\u001b[0;32m     12\u001b[0m     \u001b[0mybar\u001b[0m \u001b[1;33m=\u001b[0m \u001b[1;33m(\u001b[0m\u001b[0mPDV\u001b[0m\u001b[1;33m-\u001b[0m\u001b[0my0\u001b[0m\u001b[1;33m)\u001b[0m\u001b[1;33m/\u001b[0m\u001b[1;36m2\u001b[0m\u001b[1;33m\u001b[0m\u001b[0m\n\u001b[1;32m---> 13\u001b[1;33m     \u001b[0mcM\u001b[0m\u001b[1;33m.\u001b[0m\u001b[0my\u001b[0m \u001b[1;33m=\u001b[0m\u001b[1;33m(\u001b[0m\u001b[1;33m[\u001b[0m\u001b[0my0\u001b[0m\u001b[1;33m,\u001b[0m\u001b[0mybar\u001b[0m\u001b[1;33m,\u001b[0m\u001b[0mybar\u001b[0m\u001b[1;33m]\u001b[0m\u001b[1;33m)\u001b[0m\u001b[1;33m\u001b[0m\u001b[0m\n\u001b[0m\u001b[0;32m     14\u001b[0m     \u001b[0mcMF\u001b[0m \u001b[1;33m=\u001b[0m \u001b[0mcM\u001b[0m\u001b[1;33m.\u001b[0m\u001b[0mfcommit\u001b[0m\u001b[1;33m(\u001b[0m\u001b[1;33m)\u001b[0m\u001b[1;33m\u001b[0m\u001b[0m\n\u001b[0;32m     15\u001b[0m     \u001b[0mcMRP\u001b[0m \u001b[1;33m=\u001b[0m \u001b[0mcM\u001b[0m\u001b[1;33m.\u001b[0m\u001b[0mreneg_proof\u001b[0m\u001b[1;33m(\u001b[0m\u001b[1;33m)\u001b[0m\u001b[1;33m.\u001b[0m\u001b[0mx\u001b[0m\u001b[1;33m\u001b[0m\u001b[0m\n",
      "\u001b[1;31mNameError\u001b[0m: name 'cM' is not defined"
     ]
    }
   ],
   "source": [
    "PDV =300\n",
    "y0_step = 2\n",
    "y0_start = 50\n",
    "y0_end = PDV -50\n",
    "Y0 = range(y0_start,y0_end,y0_step)\n",
    "n = len(Y0)\n",
    "profity0 = np.zeros(n)\n",
    "profity0B = np.zeros(n)\n",
    "i=0\n",
    "\n",
    "for y0 in Y0:  \n",
    "    ybar = (PDV-y0)/2\n",
    "    cM.y =([y0,ybar,ybar])\n",
    "    cMF = cM.fcommit()\n",
    "    cMRP = cM.reneg_proof().x\n",
    "    cM.guess = cMRP\n",
    "    profity0[i] = cM.profit(cMRP,cM.y)\n",
    "    profity0B[i] = cM.profit(cMF,cM.y)\n",
    "    \n",
    "    i += 1"
   ]
  },
  {
   "cell_type": "code",
   "execution_count": null,
   "metadata": {
    "collapsed": false,
    "deletable": true,
    "editable": true
   },
   "outputs": [],
   "source": [
    "plt.plot(profity0,Y0,'b-',label=\"reneg. proof\")\n",
    "plt.plot(profity0B,Y0,'r',label=\"full commit\")\n",
    "plt.xlim([-2,6])\n",
    "plt.ylim([80,160])c\n",
    "\n",
    "plt.title(\"Profits as a function of y0\")\n",
    "plt.xlabel(\"profits $\\pi$\")\n",
    "plt.ylabel(\"y0\")\n",
    "plt.legend(loc='center right')\n",
    "plt.grid()\n",
    "plt.axvline()"
   ]
  },
  {
   "cell_type": "markdown",
   "metadata": {
    "deletable": true,
    "editable": true
   },
   "source": [
    "## Modifications when consumer has a home savings option##\n",
    "The above ana"
   ]
  },
  {
   "cell_type": "code",
   "execution_count": null,
   "metadata": {
    "collapsed": true,
    "deletable": true,
    "editable": true
   },
   "outputs": [],
   "source": [
    "cM = Monopoly(0.8) "
   ]
  },
  {
   "cell_type": "code",
   "execution_count": null,
   "metadata": {
    "collapsed": false,
    "deletable": true,
    "editable": true
   },
   "outputs": [],
   "source": [
    "cM.kappa =0\n",
    "cM.guess = cMF\n",
    "cMRP = cM.reneg_proof()\n",
    "cMRP.x"
   ]
  },
  {
   "cell_type": "code",
   "execution_count": null,
   "metadata": {
    "collapsed": false,
    "deletable": true,
    "editable": true
   },
   "outputs": [],
   "source": [
    "plot(alphs,C)"
   ]
  },
  {
   "cell_type": "code",
   "execution_count": null,
   "metadata": {
    "collapsed": false,
    "deletable": true,
    "editable": true
   },
   "outputs": [],
   "source": [
    "# Three subplots sharing both x/y axes\n",
    "f, (ax1, ax2, ax3) = plt.subplots(3, sharex=True, sharey=True)\n",
    "ax1.plot(alphs, profitRP)\n",
    "ax1.plot(alphs, NprofitRP)\n",
    "ax1.plot(alphs,cM.profit(cMF,y)*ones(num_pts))\n",
    "ax1.grid(True)\n",
    "ax1.set_title('Sharing both axes')\n",
    "ax2.plot(alphs, NprofitRP)\n",
    "ax3.plot(alphs,cM.profit(cMF,y)*ones(num_pts))\n",
    "show()"
   ]
  },
  {
   "cell_type": "markdown",
   "metadata": {
    "deletable": true,
    "editable": true
   },
   "source": [
    "## Other Results"
   ]
  },
  {
   "cell_type": "markdown",
   "metadata": {
    "deletable": true,
    "editable": true
   },
   "source": [
    "### $\\beta$ and loan size"
   ]
  },
  {
   "cell_type": "markdown",
   "metadata": {
    "deletable": true,
    "editable": true
   },
   "source": [
    "Let's plot the the relationship between period 0 loan size in a full-commitment contract and the extent of present-bias captured by $\\beta$"
   ]
  },
  {
   "cell_type": "code",
   "execution_count": null,
   "metadata": {
    "collapsed": false,
    "deletable": true,
    "editable": true
   },
   "outputs": [],
   "source": [
    "cM = Contract.Monopoly(0.8)               # create an instance m\n",
    "\n",
    "num_pts = 21\n",
    "betas = np.linspace(0.1,1,num_pts)           # iterate over different values of beta\n",
    "CMF = np.zeros((3,num_pts))                  # a three row matrix to store (c0,c1,c2) for each beta\n",
    "\n",
    "for i in range(0,num_pts):\n",
    "    cM.beta = betas[i]                    # change beta before recalculating optimal contract\n",
    "    CMF[:,i] = cM.fcommit()       \n",
    "\n",
    "loan   = CMF[0,:] - cM.y[0]               # save results for plotting\n",
    "repay1 = CMF[1,:] - cM.y[1]\n",
    "repay2 = CMF[2,:] - cM.y[2]\n",
    "\n",
    "plt.plot(betas,loan,'--')                          # plot    \n",
    "plt.plot(betas,repay1)\n",
    "plt.plot(betas,repay2)\n",
    "plt.grid()\n",
    "plt.title('Monopoly Commitment Contract as function of beta')\n",
    "plt.xlabel('beta')\n",
    "plt.ylabel('net repayment')\n",
    "plt.legend(['loan','repay1','repay2'])"
   ]
  },
  {
   "cell_type": "markdown",
   "metadata": {
    "deletable": true,
    "editable": true
   },
   "source": [
    "### Example full commitment contract (and renegotiation with a naive consumer)"
   ]
  },
  {
   "cell_type": "markdown",
   "metadata": {
    "deletable": true,
    "editable": true
   },
   "source": [
    "Here is an example of the full-commitment contracts a monopolist offers and the contract a monopolist and a naive consumer would renegotiate to from that same full commitment contract (but note that a intermediary who knows they are dealing with a naive consumer would bait them with a different initial contract). "
   ]
  },
  {
   "cell_type": "code",
   "execution_count": null,
   "metadata": {
    "collapsed": false,
    "deletable": true,
    "editable": true
   },
   "outputs": [],
   "source": [
    "cM.beta = 0.8            # Reset to beta = 0.8 case and print out other parameters\n",
    "cM.print_params()"
   ]
  },
  {
   "cell_type": "code",
   "execution_count": null,
   "metadata": {
    "collapsed": false,
    "deletable": true,
    "editable": true
   },
   "outputs": [],
   "source": [
    "cMF = cM.fcommit()      \n",
    "cMr = cM.reneg(cMF)       \n",
    "y = cM.y\n",
    "print('0-Discounted utility full commit: {0:4.3f}'.format(cM.PVU(cMF,cM.beta)))\n",
    "print('and   Naive renegotiate: {1:4.3f}'.format(cM.PVU(cMr,cM.beta)))\n",
    "#print('Profits from full commit: {0:4.3f}   and   Naive renegotiate:{1:4.3f}'.format(cM.profit(y,cMF), cM.profit(y,cMr)))"
   ]
  },
  {
   "cell_type": "markdown",
   "metadata": {
    "deletable": true,
    "editable": true
   },
   "source": [
    "##### Scratch play area"
   ]
  },
  {
   "cell_type": "markdown",
   "metadata": {
    "deletable": true,
    "editable": true
   },
   "source": [
    "#### 3D plots"
   ]
  },
  {
   "cell_type": "code",
   "execution_count": null,
   "metadata": {
    "collapsed": false,
    "deletable": true,
    "editable": true,
    "scrolled": false
   },
   "outputs": [],
   "source": [
    "from mpl_toolkits.mplot3d import axes3d\n",
    "import matplotlib.pyplot as plt\n",
    "from matplotlib import cm\n",
    "\n",
    "fig = plt.figure()\n",
    "ax = fig.add_subplot(111, projection='3d')\n",
    "X, Y, Z = axes3d.get_test_data(0.05)\n",
    "cset = ax.contour(X, Y, Z)\n",
    "ax.clabel(cset, fontsize=9, inline=1)\n",
    "\n",
    "plt.show()"
   ]
  },
  {
   "cell_type": "code",
   "execution_count": null,
   "metadata": {
    "collapsed": false,
    "deletable": true,
    "editable": true
   },
   "outputs": [],
   "source": [
    "from mpl_toolkits.mplot3d import axes3d\n",
    "import matplotlib.pyplot as plt\n",
    "from matplotlib import cm"
   ]
  },
  {
   "cell_type": "code",
   "execution_count": null,
   "metadata": {
    "collapsed": false,
    "deletable": true,
    "editable": true
   },
   "outputs": [],
   "source": [
    "fig = plt.figure()\n",
    "ax = fig.gca(projection='3d')\n",
    "c0, c1 = np.arange(0,150,1), np.arange(0,150,1)\n",
    "c2 =  \n",
    "ax.plot_surface(X, Y, Z, rstride=8, cstride=8, alpha=0.3)\n",
    "cset = ax.contour(X, Y, Z, zdir='z', offset=-100, cmap=cm.coolwarm)\n",
    "cset = ax.contour(X, Y, Z, zdir='x', offset=-40, cmap=cm.coolwarm)\n",
    "cset = ax.contour(X, Y, Z, zdir='y', offset=40, cmap=cm.coolwarm)\n",
    "\n",
    "ax.set_xlabel('X')\n",
    "ax.set_xlim(-40, 40)\n",
    "ax.set_ylabel('Y')\n",
    "ax.set_ylim(-40, 40)\n",
    "ax.set_zlabel('Z')\n",
    "ax.set_zlim(-100, 100)\n",
    "\n",
    "plt.show()\n"
   ]
  },
  {
   "cell_type": "markdown",
   "metadata": {
    "collapsed": false,
    "deletable": true,
    "editable": true
   },
   "source": [
    "### Is $c_0$ (and hence net borrowing) higher or lower in renegotiation-proof contracts?\n",
    "It's going to depend on $\\rho$ "
   ]
  },
  {
   "cell_type": "code",
   "execution_count": null,
   "metadata": {
    "collapsed": false,
    "deletable": true,
    "editable": true
   },
   "outputs": [],
   "source": [
    "bb = np.arange(0,1,0.05)\n",
    "bb"
   ]
  },
  {
   "cell_type": "code",
   "execution_count": null,
   "metadata": {
    "collapsed": false,
    "deletable": true,
    "editable": true
   },
   "outputs": [],
   "source": [
    "for rh in np.arange(0.2,2,0.2):\n",
    "    c0RP = 300/(1+bb+bb**(1/rh))\n",
    "    c0F = 300/(1+2*bb**(1/rh) ) \n",
    "    rat = c0RP/c0F\n",
    "    plt.plot(bb,rat)\n",
    "    plt.annotate('{:3.1f}'.format(rh),xy=(0.5,rat[len(rat)/2]))\n",
    "plt.title(r'Ratio $\\frac{c_0^{RP}}{c_0^F}$')\n",
    "plt.xlabel(r'$\\beta $')\n",
    "plt.show()"
   ]
  },
  {
   "cell_type": "code",
   "execution_count": null,
   "metadata": {
    "collapsed": false,
    "deletable": true,
    "editable": true,
    "scrolled": false
   },
   "outputs": [],
   "source": [
    "for rh in np.arange(0.2,2,0.2):\n",
    "    c0RP = 300/(1+bb+bb**(1/rh))\n",
    "    c0F = 300/(1+2*bb**(1/rh) ) \n",
    "    rat = c0RP/c0F\n",
    "    plt.plot(bb,c0F)\n",
    "    plt.annotate('{:3.1f}'.format(rh),xy=(0.5,rat[len(c0RP)/2]))\n",
    "plt.title(r'consumption $c_0^{RP}$')\n",
    "plt.xlabel(r'$\\beta$')\n",
    "plt.show()"
   ]
  },
  {
   "cell_type": "code",
   "execution_count": null,
   "metadata": {
    "collapsed": true,
    "deletable": true,
    "editable": true
   },
   "outputs": [],
   "source": []
  }
 ],
 "metadata": {
  "anaconda-cloud": {},
  "kernelspec": {
   "display_name": "Python [default]",
   "language": "python",
   "name": "python3"
  },
  "language_info": {
   "codemirror_mode": {
    "name": "ipython",
    "version": 3
   },
   "file_extension": ".py",
   "mimetype": "text/x-python",
   "name": "python",
   "nbconvert_exporter": "python",
   "pygments_lexer": "ipython3",
   "version": "3.5.3"
  },
  "widgets": {
   "state": {},
   "version": "2.0.10"
  }
 },
 "nbformat": 4,
 "nbformat_minor": 0
}
