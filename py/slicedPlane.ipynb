{
 "cells": [
  {
   "cell_type": "markdown",
   "metadata": {},
   "source": [
    "##Renegotiation paper visualization\n",
    "**3D visualization of consumer optimum**\n",
    "This code will draw 3 countour surfaces representing the consumer's indifference surfaces.\n",
    "The plot will be in a separate Mayavi visualizer window that can then be rotated and modified,\n",
    "for example to add a cut plane."
   ]
  },
  {
   "cell_type": "code",
   "execution_count": 1,
   "metadata": {
    "collapsed": false
   },
   "outputs": [
    {
     "name": "stdout",
     "output_type": "stream",
     "text": [
      "Last updated: Mon Jun 29 2015 00:00:27 \n"
     ]
    }
   ],
   "source": [
    "%reload_ext watermark\n",
    "%watermark -u -n -t "
   ]
  },
  {
   "cell_type": "code",
   "execution_count": 2,
   "metadata": {
    "collapsed": false
   },
   "outputs": [
    {
     "data": {
      "text/plain": [
       "'2.7.10 |Anaconda 2.2.0 (64-bit)| (default, May 28 2015, 16:44:52) [MSC v.1500 64 bit (AMD64)]'"
      ]
     },
     "execution_count": 2,
     "metadata": {},
     "output_type": "execute_result"
    }
   ],
   "source": [
    "import sys\n",
    "sys.version"
   ]
  },
  {
   "cell_type": "code",
   "execution_count": 3,
   "metadata": {
    "collapsed": false
   },
   "outputs": [
    {
     "name": "stderr",
     "output_type": "stream",
     "text": [
      "WARNING:traits.has_traits:DEPRECATED: traits.has_traits.wrapped_class, 'the 'implements' class advisor has been deprecated. Use the 'provides' class decorator.\n"
     ]
    }
   ],
   "source": [
    "from __future__ import print_function\n",
    "import numpy as np\n",
    "import mayavi\n",
    "import mayavi.mlab as mlab\n",
    "from numpy import ogrid"
   ]
  },
  {
   "cell_type": "code",
   "execution_count": 4,
   "metadata": {
    "collapsed": true
   },
   "outputs": [],
   "source": [
    "import Contract"
   ]
  },
  {
   "cell_type": "code",
   "execution_count": 5,
   "metadata": {
    "collapsed": false
   },
   "outputs": [
    {
     "name": "stdout",
     "output_type": "stream",
     "text": [
      "beta    : 0.75\n",
      "delta   : 1.0\n",
      "guess   : [100 100 100]\n",
      "kappa   : 0\n",
      "r       : 0.0\n",
      "rho     : 0.95\n",
      "y       : [30, 60, 60]\n"
     ]
    }
   ],
   "source": [
    "cM = Contract.Monopoly(beta = 0.75)\n",
    "cM.y = [30, 60, 60]\n",
    "cM.print_params()"
   ]
  },
  {
   "cell_type": "code",
   "execution_count": 26,
   "metadata": {
    "collapsed": false
   },
   "outputs": [
    {
     "name": "stdout",
     "output_type": "stream",
     "text": [
      "yE:  [30, 60, 60]\n",
      "cMF: [ 54.65850338  40.377858    40.377858  ]\n",
      "cMR: [ 54.65850338  45.94761399  33.94286558]\n"
     ]
    }
   ],
   "source": [
    "cMF = cM.fcommit()         # the full commitment contract \n",
    "cMR = cM.reneg(cMF)        # what renegotiate to if full commitment unantipatedly undone     \n",
    "print(\"yE: \",yE)\n",
    "print(\"cMF:\",cMF)\n",
    "print(\"cMR:\", cMR)"
   ]
  },
  {
   "cell_type": "code",
   "execution_count": 27,
   "metadata": {
    "collapsed": false
   },
   "outputs": [
    {
     "data": {
      "text/plain": [
       "[30, 60, 60]"
      ]
     },
     "execution_count": 27,
     "metadata": {},
     "output_type": "execute_result"
    }
   ],
   "source": [
    "yE=cM.y\n",
    "yE"
   ]
  },
  {
   "cell_type": "code",
   "execution_count": 28,
   "metadata": {
    "collapsed": false
   },
   "outputs": [],
   "source": [
    "c0, c1, c2 = ogrid[1:120, 1:120, 1:120]\n",
    "rho = cM.rho\n",
    "beta = cM.beta\n",
    "def u(c):\n",
    "    return ((1/(1-rho))*c**(1-rho))\n",
    "\n",
    "#x, y, z, value = np.random.random((4, 3))*40\n",
    "#value = np.ones(3)*23.0\n",
    "#x = np.array([20,20,20 ])\n",
    "#value = np.array([ 31,  31,  31.24444501])"
   ]
  },
  {
   "cell_type": "code",
   "execution_count": 29,
   "metadata": {
    "collapsed": false
   },
   "outputs": [
    {
     "data": {
      "text/plain": [
       "(array([ 30.        ,  54.65850338,  54.65850338]),\n",
       " array([ 60.        ,  40.377858  ,  45.94761399]),\n",
       " array([ 60.        ,  40.377858  ,  33.94286558]))"
      ]
     },
     "execution_count": 29,
     "metadata": {},
     "output_type": "execute_result"
    }
   ],
   "source": [
    "x = np.array([yE[0], cMF[0], cMR[0]])\n",
    "y = np.array([yE[1],  cMF[1],  cMR[1]])\n",
    "z = np.array([yE[2],  cMF[2],  cMR[2]] ) \n",
    "\n",
    "#np.array([ 17.0,  17.0,  17.0]))\n",
    "x,y,z"
   ]
  },
  {
   "cell_type": "code",
   "execution_count": null,
   "metadata": {
    "collapsed": false
   },
   "outputs": [],
   "source": []
  },
  {
   "cell_type": "code",
   "execution_count": 30,
   "metadata": {
    "collapsed": false
   },
   "outputs": [
    {
     "data": {
      "text/plain": [
       "([30, 60, 60], 60.522856464796604)"
      ]
     },
     "execution_count": 30,
     "metadata": {},
     "output_type": "execute_result"
    }
   ],
   "source": [
    "yE=cM.y\n",
    "PUy = u(yE[0]) + beta*(u(yE[1]) + u(yE[2]))\n",
    "yE, PUy"
   ]
  },
  {
   "cell_type": "code",
   "execution_count": 31,
   "metadata": {
    "collapsed": false
   },
   "outputs": [
    {
     "data": {
      "text/plain": [
       "60.522856464796604"
      ]
     },
     "execution_count": 31,
     "metadata": {},
     "output_type": "execute_result"
    }
   ],
   "source": [
    "PUMF = u(cMF[0]) + beta*(u(cMF[1]) + u(cMF[2]))\n",
    "PUMF"
   ]
  },
  {
   "cell_type": "code",
   "execution_count": 37,
   "metadata": {
    "collapsed": true
   },
   "outputs": [],
   "source": [
    "ctr = mayavi.mlab.contour3d(u(c0) + beta*(u(c1) + u(c2)),\n",
    "                            contours=[PUy],transparent=True)\n",
    "mlab.outline()\n",
    "\n",
    "mlab.points3d(x, y, z)\n",
    "\n",
    "mlab.plot3d([yE[0], cMF[0]], [yE[1], cMF[1]], [yE[2], cMF[2]], tube_radius=.5)\n",
    "\n",
    "\n",
    "mlab.show()"
   ]
  },
  {
   "cell_type": "code",
   "execution_count": 64,
   "metadata": {
    "collapsed": false
   },
   "outputs": [
    {
     "data": {
      "text/plain": [
       "60.483863895558414"
      ]
     },
     "execution_count": 64,
     "metadata": {},
     "output_type": "execute_result"
    }
   ],
   "source": [
    "PUMF = u(cMR[0]) + beta*(u(cMR[1]) + u(cMR[2]))\n",
    "PUMF"
   ]
  },
  {
   "cell_type": "code",
   "execution_count": 41,
   "metadata": {
    "collapsed": false
   },
   "outputs": [],
   "source": [
    "W =u(c0) + beta*(u(c1) + u(c2))"
   ]
  },
  {
   "cell_type": "code",
   "execution_count": 42,
   "metadata": {
    "collapsed": false
   },
   "outputs": [
    {
     "data": {
      "text/plain": [
       "(199L, 199L, 199L)"
      ]
     },
     "execution_count": 42,
     "metadata": {},
     "output_type": "execute_result"
    }
   ],
   "source": [
    "np.shape(W)"
   ]
  },
  {
   "cell_type": "code",
   "execution_count": 43,
   "metadata": {
    "collapsed": false
   },
   "outputs": [
    {
     "data": {
      "text/plain": [
       "62.977595192233196"
      ]
     },
     "execution_count": 43,
     "metadata": {},
     "output_type": "execute_result"
    }
   ],
   "source": [
    "W[100,100,100]"
   ]
  },
  {
   "cell_type": "code",
   "execution_count": null,
   "metadata": {
    "collapsed": true
   },
   "outputs": [],
   "source": []
  }
 ],
 "metadata": {
  "kernelspec": {
   "display_name": "Python 2",
   "language": "python",
   "name": "python2"
  },
  "language_info": {
   "codemirror_mode": {
    "name": "ipython",
    "version": 2
   },
   "file_extension": ".py",
   "mimetype": "text/x-python",
   "name": "python",
   "nbconvert_exporter": "python",
   "pygments_lexer": "ipython2",
   "version": "2.7.10"
  }
 },
 "nbformat": 4,
 "nbformat_minor": 0
}
