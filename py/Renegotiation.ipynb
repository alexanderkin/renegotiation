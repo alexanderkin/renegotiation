{
 "cells": [
  {
   "cell_type": "markdown",
   "metadata": {},
   "source": [
    "# Behavioral foundation for commercial non-profits in finance\n",
    "============================================"
   ]
  },
  {
   "cell_type": "markdown",
   "metadata": {
    "collapsed": false
   },
   "source": [
    "Latest edits: 3/31/15\n",
    "\n",
    "Notes:"
   ]
  },
  {
   "cell_type": "markdown",
   "metadata": {},
   "source": [
    "**Karna Basu and Jonathan Conning**\n",
    "\n",
    "Department of Economics\n",
    "Hunter College\n",
    "\n",
    "\n",
    "*Abstract:* We explore new behavioral microfoundations for a theory of 'commercial non-profits.' In the spirit of Henry Hansmann's suggestion that in low regulation environments non-profits serve as \"a crude form of consumer protection\" our theory helps understand therole and ubiquity of non-profit and 'hybrid' (e.g. for-profits owned and/or controlled to varying degrees by socially-minded investors) financial intermediaries in low income markets.  However, where Hansmann (1996) and others have focused on asymmetric information problems -- the idea that nonprofits might prevail where patrons are \"incapable of observing with any accuracy either the quantity or quality of the goods or services that the firm has contracted to provide to them\" -- we draw attention to a different problem: the firm's willingness and incentive to pander to or 'exploit' their customers' self-control problems.  This is an issue that arises even when all parties are symmetrically informed and sophisticated.\n",
    "\n",
    "Sophisticated present-biased consumers are aware of their later period selves' impulse to renegotiate (or refinance) consumption smoothing plans to achieve long-term savings or loan repayment goals.  This creates a demand for commitment contracts that restrict their later period selves' to not renegotiating carefully laid out plans.  A pure for-profit financial intermediary may find it hard to credibly commit to not offering such refinancing options at later dates because clients understand full well that the intermediary can profit by doing so.  This limits the pure for-profit firm to offering credible but costly renegotiation-proof contracts that reduce the gains to trade.  In such circumstances a commercial non-profit which has adopted a legal ownership/governance structure which places limits on the distribution of profits may be in a position to offer more attractive contracts that pure for-profits.  We show how different equilibrium market and ownership structures may emerge depending on parameters of the economic environment, and apply the insights to a discussion of the development of modern microfinance and consumer finance in history. \n",
    "\n"
   ]
  },
  {
   "cell_type": "markdown",
   "metadata": {},
   "source": [
    "This (draft of an) Ipython notebook is not the main paper.  It emphasizes only some of the elements of the paper, highlighting a few elements and extensions to the theoretical model and the python code that generates figures and simulations.  "
   ]
  },
  {
   "cell_type": "markdown",
   "metadata": {},
   "source": [
    "## The model"
   ]
  },
  {
   "cell_type": "markdown",
   "metadata": {},
   "source": [
    "The paper describes a slightly more general multi-period model but here we specialize it to a three period setting where savers-cum-borrowers have constant relative risk aversion (CRRA) utility. In any period the consumer's instantaneous utility is given by $u(c)=c^{1-ρ}/(1-ρ)$.  Over three period the agent maximizes utility\n",
    "\n",
    "$$ U(c₀,c₁,c₂)=u(c₀)+β[δu(c₁)+δ²u(c₂)]$$ \n",
    "\n",
    "The consumer has an autarky income stream ${y}=\\{y_{0},y_{1},y_{2}\\}$ which defines autarky or reservation utility $ \\overline{u} = U(y₀,y₁,y₂)$ but in general will prefer a smoother consumption profile from contracting on financial markets. "
   ]
  },
  {
   "cell_type": "markdown",
   "metadata": {},
   "source": [
    "### The Monopoly Lender's contract"
   ]
  },
  {
   "cell_type": "markdown",
   "metadata": {},
   "source": [
    "A monopoly lender (who can credibly commit to not-renegotiate contracts) offers our present-biased consumers a contract that maximizes the present value of profits\n",
    "$$\\Pi \\left( c_{0},c_{1},c_{2}\\right) =\\sum\\limits_{t=0}^{2}\\frac{\\left( y_{t}-c_{t}\\right) }{\\left( 1+r\\right) ^{t}}$$\n",
    "subject to the agent's intertemporal participation constraint\n",
    "$$u(c_{0})+\\beta \\left[ \\delta u(c_{1})+\\delta ^{2}u(c_{2})\\right] \\geq \\overline{u}$$\n",
    "\n",
    "The client may be a lender and/or a saver, depending on their initial income stream and preferred/feasible smoothed consumption stream available from contracting.  "
   ]
  },
  {
   "cell_type": "markdown",
   "metadata": {},
   "source": [
    "The first order conditions imply $u^{\\prime }(c_{o})=\\beta \\delta (1+r)u^{\\prime }(c_{1})=\\beta \\delta ^{2}(1+r)^{2}u^{\\prime }(c_{2})$. To simplify, let us assume only for presentation purposes that\n",
    "$$\\delta =\\frac{1}{1+r}$$\n",
    "With this simplification the FOC imply $u^{\\prime }(c_{1})=u^{\\prime }(c_{2})$ and hence that any optimal solution will keep the agent at constant consumption in the last two periods $c_{1}=c_{2}=\\overline{c}$.  For CRRA utility $u^{\\prime }(c)=c^{-\\rho }$ we can use the FOC to find $\\overline{c}=\\beta ^{\\frac{1}{\\rho }}c_{0}$. Substituting this into the agent's binding participation constraint then allows us to solve for \n",
    "$$c_{0}=\\left[ \\frac{\\overline{u}(1-\\rho )}{1+\\beta ^{\\frac{1}{\\rho }}\\left( \\delta +\\delta ^{2}\\right) }\\right] ^{\\frac{1}{1-\\rho }}$$"
   ]
  },
  {
   "cell_type": "markdown",
   "metadata": {},
   "source": [
    "### Python implementation to solve for optimal contracts "
   ]
  },
  {
   "cell_type": "markdown",
   "metadata": {},
   "source": [
    "#### Object oriented design the parent 'Contract' class"
   ]
  },
  {
   "cell_type": "markdown",
   "metadata": {},
   "source": [
    "The graphs and numerical solutions and simulations are implemented in this IPython notebook.  Object oriented programming (OOP) ideas contribute to a modular design and more compact code. \n",
    "\n",
    "We first create a generic 'Contract' class that defines a few attributes (default parameters) and useful methods to calculate profits, utility, etc. We will later define MonopolyContract and CompetitiveContract subclasses that will inherit and extend attributes and methods to solve related models. \n",
    "\n",
    "First, a few commands to import useful python libraries, and notebook settings to ake plots appear inline."
   ]
  },
  {
   "cell_type": "code",
   "execution_count": 3,
   "metadata": {
    "collapsed": false
   },
   "outputs": [
    {
     "name": "stdout",
     "output_type": "stream",
     "text": [
      "Populating the interactive namespace from numpy and matplotlib\n"
     ]
    }
   ],
   "source": [
    "%pylab inline\n",
    "import sys\n",
    "import numpy as np\n",
    "from scipy.optimize import minimize\n",
    "import matplotlib.pyplot as plt\n",
    "np.set_printoptions(precision=2)  # array print format "
   ]
  },
  {
   "cell_type": "markdown",
   "metadata": {
    "collapsed": false
   },
   "source": [
    "Now the definition of the Contract class."
   ]
  },
  {
   "cell_type": "code",
   "execution_count": 4,
   "metadata": {
    "collapsed": false
   },
   "outputs": [],
   "source": [
    "class Contract(object): \n",
    "    \n",
    "    def __init__(self,beta,y=None):         # constructor sets default params. \n",
    "        self.beta  = beta                   # present bias in β-δ framework\n",
    "        self.rho   = 0.95               # 1/rho = elasticity of substitution\n",
    "        if y is None:                       # default y array \n",
    "            self.y = np.array([100,100,100])\n",
    "        else:\n",
    "            self.y = y     \n",
    "        self.r     = 0.                     # bank's opportunity cost of funds\n",
    "        self.delta = 1/(1+self.r)            # agent's psychic discount factor     \n",
    "    \n",
    "    def print_params(self):                                 \n",
    "        print(\"beta: {:2.2f}, delta: {:2.2f}, rho: {:2.2f}\".format(self.beta,self.delta,self.rho))\n",
    "        print (\"y: \", self.y[0:3])\n",
    "        \n",
    "    def u(self,ct):                                     \n",
    "        return  ( (1/(1-self.rho)) * ct**(1-self.rho)  )\n",
    "    \n",
    "    def PV(self,c):         # discounted PV of any stream c\n",
    "         return  c[0] + sum((c[t]* (1/(1+self.r))**t for t in range(1,len(c))) )  \n",
    "    \n",
    "    def PVU(self,c,beta):         # discounted P utility value of stream c        \n",
    "         return  self.u(c[0]) + beta * sum((self.u(c[t])*self.delta**t  for t in range(1,len(c))) )\n",
    "           \n",
    "    def profit(self,c,y):   #PV of profits \n",
    "        return  self.PV(y)-self.PV(c)\n",
    "    \n",
    "    def negprofit(self,c):      \n",
    "        \"\"\" Negative profits (for minimization)\"\"\"\n",
    "        return  -(self.PV(self.y) - self.PV(c))\n",
    "       \n",
    "    def indif(self, ubar, beta):\n",
    "        \"\"\" returns function for graphing indifference curves in c1-c2 space.  \n",
    "        if beta = 1 is for self0's preferences. \"\"\"\n",
    "        def idc(c1):\n",
    "            return np.array((((1-self.rho)/(beta*self.delta))\n",
    "                  *(ubar-self.u(c1)))**(1/(1-self.rho)))\n",
    "            \n",
    "        return idc"
   ]
  },
  {
   "cell_type": "markdown",
   "metadata": {},
   "source": [
    "Let's test demonstrate simple use. The following call establishes 'c' as an object instance of the Contract class (here we initialize $\\beta$ to be 0.8. Other attributes (such as the default value of the income stream y are initialized when c is setup. We print out a few. "
   ]
  },
  {
   "cell_type": "code",
   "execution_count": 5,
   "metadata": {
    "collapsed": false
   },
   "outputs": [
    {
     "name": "stdout",
     "output_type": "stream",
     "text": [
      "Beta is:  0.8  and y is: [100 100 100]\n"
     ]
    }
   ],
   "source": [
    "c = Contract(0.8)\n",
    "print 'Beta is: ',c.beta,' and y is:',c.y"
   ]
  },
  {
   "cell_type": "markdown",
   "metadata": {},
   "source": [
    "Let's plot an indifference curve in c1-c2 space.  For example if the agent in autarky has income $\\{y_{0},y_{1},y_{2}\\}$ and no access to saving or borrowing then (from period 0 self's perspective) entering period 1 they have reservation utility $u(y_{1})+\\delta u(y_{2})=\\overline{u}_{0}$.  But when period 1 rolls around their preferences change. From period 1 self's perspective they have reservation utility $u(y_{1})+\\beta \\delta u(y_{2})=\\overline{u}_{1}$.  The following plots these two different selves' indifference curves on the assumption that $(y_{1},y_{2})=(100,100)$"
   ]
  },
  {
   "cell_type": "code",
   "execution_count": 6,
   "metadata": {
    "collapsed": false
   },
   "outputs": [
    {
     "data": {
      "image/png": "[encoded data removed]",
      "text/plain": [
       "<matplotlib.figure.Figure at 0xaaef1d0>"
      ]
     },
     "metadata": {},
     "output_type": "display_data"
    }
   ],
   "source": [
    "c1 = np.array(range(1,200))\n",
    "\n",
    "ubar0 = c.PVU(c.y[1:],1.0)\n",
    "idc0 = c.indif(ubar0,1.0)\n",
    "\n",
    "ubar1 = c.PVU(c.y[1:],c.beta)\n",
    "idc1 = c.indif(ubar1,c.beta)\n",
    "\n",
    "fig, ax = plt.subplots()\n",
    "ax.spines['right'].set_visible(False)\n",
    "ax.spines['top'].set_visible(False)\n",
    "plt.ylim((60,140))\n",
    "plt.xlim((60,140))\n",
    "plt.plot(c1,idc0(c1), c1,idc1(c1), c1,c1)\n",
    "plt.show()\n"
   ]
  },
  {
   "cell_type": "markdown",
   "metadata": {},
   "source": [
    "### Monopoly contracts"
   ]
  },
  {
   "cell_type": "markdown",
   "metadata": {},
   "source": [
    "The contract class defines a generic contract which holds consumption stream objects of the form $\\left( c_{0},c_{1},c_{2}\\right)$ and allows a few manipulations.  Now comes the job of solving for optimal contracts and we do this with a 'monopoly contract' or mon__contract class which inherits the attributes and methods of the more generic contract class and then adds a few methods such as calculating the optimal contract full commitment and renegotiation-proof contracts in the monopoly lender case.\n"
   ]
  },
  {
   "cell_type": "markdown",
   "metadata": {},
   "source": [
    "#### Full-commitment contracts"
   ]
  },
  {
   "cell_type": "markdown",
   "metadata": {},
   "source": [
    "When the monopolist can commit to not-renegotiating the contract (i.e. to not pandering to the period-1 self's desire to renegotiate period-0's contract) it searches for the contract that solves\n",
    "\n",
    "$$\\max \\ (y_{0}-c_{0})+\\frac{(y_{1}-c_{1})}{(1+r)}+\\frac{(y_{2}-c_{2})}{(1+r)^{2}}$$\n",
    "subject to the participation constraint\n",
    "$$u\\left( c_{0}\\right) +\\beta \\left[ \\delta u\\left( c_{1}\\right) +\\delta ^{2}u\\left( c_{2}\\right) \\right] \\geq u\\left( y_{0}\\right) +\\beta \\left[ \\delta u\\left( y_{1}\\right) +\\delta ^{2}u\\left( y_{2}\\right) \\right] $$\n",
    "When $\\delta =\\frac{1}{(1+r)}$ for the CRRA case an optimum will set $c_{1}=c_{2}=\\overline{c}$ and $\\overline{c}=\\beta ^{\\frac{1}{\\rho }}c_{0}$ from which a closed form solution can be easily found (see fcommit() function below for formulas).\n",
    "\n",
    "**Note** that we are here assuming that the consumer has no choice but to consume their income stream $y$ under autarky.  This would be true if the agent does not have acess to any 'own savings' technologies.  Later below we see how things change only slightly when we allow them to use own savings to create a slightly more smooth autarky consumption stream (not perfectly smooth because they cannot overcome their self-control problems on their own)."
   ]
  },
  {
   "cell_type": "markdown",
   "metadata": {},
   "source": [
    "#### Renegotiaton-proof contracts"
   ]
  },
  {
   "cell_type": "markdown",
   "metadata": {},
   "source": [
    "The agent's period-1-self's preferences differ from those of his period 0 self so they will often want to renegotiate any contract their period 0 self contracted, and the bank can profit from this renegotiation so long as its renegotiaton cost $\\kappa $ is low.   In particular if the period-0-self agreed to contract $\\left( \\bar{c}_{0},\\bar{c}_{1},\\bar{c}_{2}\\right) $ a monopolist would offer to renegotiate the remaining $(\\bar{c}_{1},\\bar{c}_{2})$ to contract $\\left( c_{1}^{r},c_{2}^{r}\\right) $ chosen to maximize\n",
    "$$\\max \\ \\ (y_{1}-c_{1})+\\frac{(y_{2}-c_{2})}{(1+r)}$$\n",
    "$$s.t.\\ \\ \\ \\ \\ u(c_{1})+\\beta \\delta u(c_{2})\\geq u(\\bar{c}_{1})+\\beta \\delta u(\\bar{c}_{2})$$\n",
    "We can show from the agent's first order conditions for the CRRA case that a renegotiated contract will always satisfy $c_{2}=\\beta ^{\\frac{1}{\\rho }}c_{1}$ and indeed for CRRA we get the closed form:\n",
    "$$c_{1}^{r}(\\bar{c}_{1},\\bar{c}_{2})=\\left[ \\frac{\\overline{u}(\\bar{c}_{1},\\bar{c}_{2})(1-\\rho )}{1+\\delta \\beta ^{\\frac{1}{\\rho }}}\\right] ^{\\frac{1}{1-\\rho }}$$\n",
    "\n",
    "and $c_{2}^{r}(\\bar{c}_{1},\\bar{c}_{2})=\\beta ^{\\frac{1}{\\rho }}c_{1}^{r}(\\bar{c}_{1},\\bar{c}_{2})$.  See the reneg(c) function.\n",
    "\n",
    "A sophisticated present-biased consumer anticipates that this type of renegotiation may happen and will only agree to renegotiation-proof contracts that do not renegotiate to favor their period 1 selves.  The profit-maximizing renegotiation-proof contract solves\n",
    "\n",
    "\n",
    "$$\\max_{c_{0},c_{1},c_{2}}\\Pi \\left( c_{0},c_{1},c_{2}\\right) $$\n",
    "$$U(c_{0},c_{1},c_{2})\\geq U_{0}(y_{0},y_{1},y_{2})$$\n",
    "$$\\Pi \\left( c_{1}^{r},c_{2}^{r}\\right) -\\Pi \\left( c_{1},c_{2}\\right) \\leq \\overline{\\kappa }$$\n",
    "The first constraint is the period 0 self's participation constraint and the second is the no-renegotiation proof constraint that the bank not find it profitable to offer to renegotiate to the contract that period-1 self will demand."
   ]
  },
  {
   "cell_type": "code",
   "execution_count": 7,
   "metadata": {
    "collapsed": false
   },
   "outputs": [],
   "source": [
    "class MonopolyContract(Contract):                    # this class inherits all attributes of contract class\n",
    "                                                      # but extends a few more properties and methods                   \n",
    "    def __init__(self,beta):\n",
    "        super(MonopolyContract,self).__init__(beta)   # this makes sure it inherits the properties of its parent class\n",
    "        self.kappa  = 0                                # cost of renegotiation        \n",
    "        self.guess  = self.y                           # initial guess for solver\n",
    "        \n",
    "    def fcommit(self):                                \n",
    "        \"\"\"calculates monopolist optimal full commitment contract\n",
    "        with period0 self\"\"\"\n",
    "        A = ((self.PVU(self.y,self.beta) *(1-self.rho) )**(1/(1-self.rho)) )\n",
    "        B = (1 + self.beta**(1/self.rho) * (self.delta + self.delta**2))**(1/(self.rho-1))\n",
    "        c0 = A*B\n",
    "        c1 = c0 *(self.beta * self.delta *(1+self.r)  )**(1/self.rho)\n",
    "        c2 = c0 *(self.beta * self.delta**2 *(1+self.r)**2  )**(1/self.rho) \n",
    "        return np.array([c0,c1,c2])\n",
    "    \n",
    "    def reneg(self,c):                 \n",
    "        \"\"\" Renegotiated contract offered to period1 self   \n",
    "        c_0 is past but (c_1,c_2) replaced now by (cr_1, cr_2)\"\"\"\n",
    "        PU =  self.u(c[1]) + self.beta*self.delta*self.u(c[2])\n",
    "        A  =  (PU *(1-self.rho) )**(1/(1-self.rho)) \n",
    "        B = (1 + self.beta**(1/self.rho) * self.delta)**(1/(self.rho-1))\n",
    "        cr0 = c[0]\n",
    "        cr1 = A*B\n",
    "        cr2 = cr1 *(self.beta * self.delta *(1+self.r)  )**(1/self.rho)\n",
    "        return np.array([cr0,cr1,cr2])\n",
    "    \n",
    "    def reneg_proof_cons(self,c):                 \n",
    "        \"\"\" the renegotiation-proof constraint\n",
    "         gain from renegotiation cannot exceed its cost kappa\"\"\"                                           \n",
    "        return  -(self.profit(self.reneg(c),self.y)                   -  self.profit(c,self.y)  - self.kappa)     \n",
    "    \n",
    "    def participation_cons(self,c):\n",
    "        return self.PVU(c,self.beta)  - self.PVU(self.y,self.beta)\n",
    "        \n",
    "    def reneg_proof(self):                           \n",
    "        \"\"\"calculate renegotiation-proof contract \n",
    "        supplies constraints to solver that bank can't profit too much\n",
    "        and period 0 borrower participation\"\"\"\n",
    "        \n",
    "        cons = ({'type': 'ineq',                          \n",
    "                 'fun' : self.reneg_proof_cons },    \n",
    "                {'type': 'ineq', \n",
    "                 'fun' : self.participation_cons })      \n",
    "        res=minimize(self.negprofit, self.guess, method='COBYLA',                     constraints = cons)\n",
    "        \n",
    "        return res"
   ]
  },
  {
   "cell_type": "raw",
   "metadata": {},
   "source": [
    "Let's create an object instance which we will call cM, printout the parameters associated with this instance and then run a few checks to make sure the cM.reneg function works right:"
   ]
  },
  {
   "cell_type": "code",
   "execution_count": 8,
   "metadata": {
    "collapsed": false
   },
   "outputs": [
    {
     "name": "stdout",
     "output_type": "stream",
     "text": [
      "guess   : [100 100 100]\n",
      "kappa   : 0\n",
      "beta    : 0.8\n",
      "r       : 0.0\n",
      "rho     : 0.95\n",
      "delta   : 1.0\n",
      "y       : [100 100 100]\n"
     ]
    }
   ],
   "source": [
    "cM = MonopolyContract(0.8)\n",
    "params = cM.__dict__\n",
    "for p in params:     # summarize parameters\n",
    "    print(\"{0:<7} : {1}\".format(p,params[p]))"
   ]
  },
  {
   "cell_type": "code",
   "execution_count": 9,
   "metadata": {
    "collapsed": false
   },
   "outputs": [
    {
     "data": {
      "text/plain": [
       "(array([ 115.51,   91.33,   91.33]), array([ 115.51,  101.35,   80.13]))"
      ]
     },
     "execution_count": 9,
     "metadata": {},
     "output_type": "execute_result"
    }
   ],
   "source": [
    "cMF = cM.fcommit()          # the full commitment contract \n",
    "cMR = cM.reneg(cMF)         # what would renegotiate to if that commitment came unantipatedly undone     \n",
    "cMF,cMR"
   ]
  },
  {
   "cell_type": "markdown",
   "metadata": {},
   "source": [
    "Please note that cMR is __not__ the renegotiation-proof contract, but rather what the bank would renegotiate if an accepted commitment contract were in fact undone.  We'll solve for the renegotiation-proof contract shortly.  \n",
    "\n",
    "First let's just check that participation constraints are being met (we expect the consumer to be pushed below their period-0 self's autarky utility):"
   ]
  },
  {
   "cell_type": "code",
   "execution_count": 10,
   "metadata": {
    "collapsed": false
   },
   "outputs": [
    {
     "name": "stdout",
     "output_type": "stream",
     "text": [
      "PVU from cMF: 65.46 y: 65.46  cMR: 65.44\n"
     ]
    }
   ],
   "source": [
    "print(\"PVU from cMF: {:4.2f} y: {:4.2f}  cMR: {:4.2f}\".format(cM.PVU(cMF,cM.beta),cM.PVU(cM.y,cM.beta),cM.PVU(cMR,cM.beta)))"
   ]
  },
  {
   "cell_type": "markdown",
   "metadata": {},
   "source": [
    "The bank should profit from this type of opportunistic renegotiation:"
   ]
  },
  {
   "cell_type": "code",
   "execution_count": 11,
   "metadata": {
    "collapsed": false
   },
   "outputs": [
    {
     "name": "stdout",
     "output_type": "stream",
     "text": [
      "PV profits from cMF: 1.82  cMR: 3.01\n"
     ]
    }
   ],
   "source": [
    "print(\"PV profits from cMF: {:4.2f}  cMR: {:4.2f}\".format(cM.profit(cMF,cM.y),cM.profit(cMR,cM.y)))"
   ]
  },
  {
   "cell_type": "raw",
   "metadata": {},
   "source": [
    "A sophisticated consumer will however anticipate this type of opporunistic renegotiation and only agree to a renegotiation-proof contract.  "
   ]
  },
  {
   "cell_type": "code",
   "execution_count": 12,
   "metadata": {
    "collapsed": false
   },
   "outputs": [
    {
     "data": {
      "text/plain": [
       "array([ 116.2 ,  102.3 ,   80.88])"
      ]
     },
     "execution_count": 12,
     "metadata": {},
     "output_type": "execute_result"
    }
   ],
   "source": [
    "# Let's find reneg-proof contract for pure profit with zero reneg. cost\n",
    "cM.kappa =0\n",
    "cM.guess = cMF\n",
    "cMRP = cM.reneg_proof().x\n",
    "cMRP"
   ]
  },
  {
   "cell_type": "code",
   "execution_count": 13,
   "metadata": {
    "collapsed": false
   },
   "outputs": [
    {
     "name": "stdout",
     "output_type": "stream",
     "text": [
      "PV profits from full commitment cMF:  1.8, from renegotiation-proof cMRP:  0.6\n"
     ]
    }
   ],
   "source": [
    "print(\"PV profits from full commitment cMF: {:4.1f}, from renegotiation-proof cMRP: {:4.1f}\".format(cM.profit(cMF,cM.y),cM.profit(cMRP,cM.y)))"
   ]
  },
  {
   "cell_type": "markdown",
   "metadata": {},
   "source": [
    "As expected the bank's profits are lowered due to its inability to commit to not renegotiate."
   ]
  },
  {
   "cell_type": "markdown",
   "metadata": {},
   "source": [
    "## Renegotiation cost $\\kappa $ and contract"
   ]
  },
  {
   "cell_type": "markdown",
   "metadata": {},
   "source": [
    "Let's draw a plot to explore how the renegotiation cost $\\kappa $ affects the terms of the contract and firm profits"
   ]
  },
  {
   "cell_type": "code",
   "execution_count": 14,
   "metadata": {
    "collapsed": false
   },
   "outputs": [
    {
     "data": {
      "image/png": "[encoded data removed]",
      "text/plain": [
       "<matplotlib.figure.Figure at 0x15ac5860>"
      ]
     },
     "metadata": {},
     "output_type": "display_data"
    },
    {
     "data": {
      "text/plain": [
       "<matplotlib.figure.Figure at 0x15fddfd0>"
      ]
     },
     "metadata": {},
     "output_type": "display_data"
    }
   ],
   "source": [
    "# Note:  re-run all cells above if the plot seems wrong\n",
    "cM.y = np.array([100,100,100]) \n",
    "cMF = cM.fcommit()\n",
    "num_pts = 21\n",
    "kaps = linspace(0,1.25,num_pts)           # different renegotiation cost values \n",
    "cMRP, profitRP = zeros((3,num_pts)), zeros(num_pts)  # to store optimal (c0,c1,c2) and profits at each kappa\n",
    "\n",
    "for i in range(0,num_pts):\n",
    "    cM.kappa = kaps[i]                    # change kappa before recalculating optimal contract\n",
    "    cMRP[:,i] = cM.reneg_proof().x \n",
    "    profitRP[i] = cM.profit(cMRP[:,i],cM.y)\n",
    "\n",
    "c0,c1,c2 = cMRP[0,:], cMRP[1,:],cMRP[2,:]                # save results for plotting\n",
    "\n",
    "fig, (ax0, ax1) = plt.subplots( nrows = 2)\n",
    "ax0.plot(kaps, c1,'--', label='$c_{1}$')\n",
    "ax0.plot(kaps, c2, label='$c_{2}$')\n",
    "ax0.plot(kaps, ones(num_pts)*cMF[1], label='$c_{Full}$')\n",
    "ax0.grid()\n",
    "ax0.set_title('Renegotiation Proof Contract and $\\kappa$')\n",
    "ax0.set_ylabel('consumption')\n",
    "ax0.legend(loc='upper right')\n",
    "tight_layout()\n",
    "ax1.plot(kaps, profitRP)\n",
    "ax1.set_ylabel('Profit')\n",
    "ax1.grid()\n",
    "ax1.set_xlabel('renegotiation cost $\\kappa$')\n",
    "show()\n",
    "savefig('rpCvskap.png')"
   ]
  },
  {
   "cell_type": "markdown",
   "metadata": {},
   "source": [
    "We can see clearly how at lower renegotiation costs the bank is forced to offer less consumption smoothing in periods 1 and 2, so as to limit their gains to renegotiation with a period 1 self.  \n",
    "\n",
    "We haven't plotted $c_{0}$ for each $\\kappa$ but that's because it hardly varies."
   ]
  },
  {
   "cell_type": "code",
   "execution_count": 15,
   "metadata": {
    "collapsed": false
   },
   "outputs": [
    {
     "name": "stdout",
     "output_type": "stream",
     "text": [
      "min, mean, max and std. dev of c0:\n",
      "115.51 115.68 116.20  0.16\n"
     ]
    }
   ],
   "source": [
    "print \"min, mean, max and std. dev of c0:\"\n",
    "for item in (c0.min(),c0.mean(),c0.max(),c0.std()):\n",
    "    print(\"{:5.2f}\".format(item)),"
   ]
  },
  {
   "cell_type": "markdown",
   "metadata": {},
   "source": [
    "However bank profits rise with their ability to commit to incur a renegotiation cost $\\kappa$"
   ]
  },
  {
   "cell_type": "markdown",
   "metadata": {},
   "source": [
    "### The choice to become a commercial non-profit"
   ]
  },
  {
   "cell_type": "markdown",
   "metadata": {},
   "source": [
    "### Modeling the non-profit"
   ]
  },
  {
   "cell_type": "markdown",
   "metadata": {},
   "source": [
    "The no-renegotiation constraint has two parts.  A pure for-profit captures fraction $\\alpha = 1$ of profits and faces renegotiation cost \n",
    "not-for-profit of type $\\alpha$ and faces renegotiation cost $h(\\alpha) = h(1)$.  More generally a non-profit of type $\\alpha$ has a no-renegotiation constraint of the form \n",
    "$$\\alpha \\left[ \\Pi ^{R}-\\Pi \\right] \\geq h(\\alpha )$$\n",
    "\n",
    "To be specific here let's model this as \n",
    "$$h(\\alpha )=\\kappa \\left( 1-\\alpha \\right) $$\n",
    "\n",
    "So that at $\\alpha =1$ there is no cost to renegotiation and at $0< \\alpha <1$ there is a non-negative non-pecuniary cost of up to $\\kappa$.  The constraint can then be written as \n",
    "$$\\left[ \\Pi ^{R}-\\Pi \\right] \\geq C(\\alpha )=\\frac{h(\\alpha )}{\\alpha }$$"
   ]
  },
  {
   "cell_type": "code",
   "execution_count": 16,
   "metadata": {
    "collapsed": false
   },
   "outputs": [
    {
     "data": {
      "image/png": "[encoded data removed]",
      "text/plain": [
       "<matplotlib.figure.Figure at 0x15ad98d0>"
      ]
     },
     "metadata": {},
     "output_type": "display_data"
    }
   ],
   "source": [
    "# Similar to above but contract as a function of firm type ALPHA\n",
    "y = array([100,100,100])          # To see how endowment affects contract\n",
    "cM.y     = y                            \n",
    "cMF      = cM.fcommit()\n",
    "num_pts  = 21\n",
    "alphs    = linspace(0,1,num_pts)       # iterate over different values of beta\n",
    "C        = 4*(ones(num_pts)-alphs)     #  h(alpha)/alpha  or cost of renegotiaton\n",
    "cMRP     = zeros((3,num_pts))          # matrix for (c0,c1,c2) at each kappa\n",
    "profitRP = zeros(num_pts)\n",
    "NprofitRP = zeros(num_pts)\n",
    "\n",
    "for i in range(0,num_pts):\n",
    "    cM.kappa = C[i]                 # change optimal contract\n",
    "    cMRP[:,i] = cM.reneg_proof().x \n",
    "    cM.guess =  cMRP[:,i]                 # use this sol as guess for next optimum\n",
    "    profitRP[i] = cM.profit(cMRP[:,i],y)\n",
    "    NprofitRP[i] = alphs[i]*cM.profit(cMRP[:,i],y)\n",
    "\n",
    "c0,c1,c2 = cMRP[0,:], cMRP[1,:],cMRP[2,:]                # save results for plotting\n",
    "\n",
    "plot(alphs,c1,'--',label='$c_{1}$')\n",
    "plot(alphs,c2,label='$c_{2}$')\n",
    "plot(alphs,ones(num_pts)*cMF[1],label='$c_{1}$ commit')\n",
    "grid()\n",
    "title('Renegotiation Proof Contract and alpha' )\n",
    "xlabel('alpha ')\n",
    "ylabel('consumption')\n",
    "legend(loc='upper left')\n",
    "show()"
   ]
  },
  {
   "cell_type": "markdown",
   "metadata": {},
   "source": [
    "A 'pure' for profit (with $\\alpha$=1.0) earns a reduced (possibly negative) profit due to it's inability to commit. Seen in the plot as profits the height of the horizontal line.\n",
    "\n",
    "Any non-profit with $\\alpha$ above about 0.4 and below 1.0 can better commit to not renegotiate a larger set of contracts and therefore can offer a more profitable renegotiation-proof contract. Even though they capture only fraction $\\alpha$ of those profits, the take home profits exceed the profits of the pure for-profit. "
   ]
  },
  {
   "cell_type": "code",
   "execution_count": 17,
   "metadata": {
    "collapsed": false
   },
   "outputs": [
    {
     "data": {
      "text/plain": [
       "<matplotlib.legend.Legend at 0x16744d68>"
      ]
     },
     "execution_count": 17,
     "metadata": {},
     "output_type": "execute_result"
    },
    {
     "data": {
      "image/png": "[encoded data removed]",
      "text/plain": [
       "<matplotlib.figure.Figure at 0xab535f8>"
      ]
     },
     "metadata": {},
     "output_type": "display_data"
    }
   ],
   "source": [
    "profitRP_full = profitRP[num_pts-1]*ones(num_pts) \n",
    "fig = figure()\n",
    "ax = fig.add_subplot(111)\n",
    "title('Renegotiation-Proof Profits vs. alpha')\n",
    "xlabel('alpha ')\n",
    "ylabel('Profits, take-home profits')\n",
    "plot(alphs,profitRP,'--',label='pure-profit profits')\n",
    "plot(alphs,NprofitRP,label='Non-profit take home profits')\n",
    "ax.fill_between(alphs, fmax(profitRP_full,NprofitRP), profitRP_full)\n",
    "legend(loc='upper center', bbox_to_anchor=(0.5, -0.2),\n",
    "          fancybox=None, ncol=5)"
   ]
  },
  {
   "cell_type": "markdown",
   "metadata": {},
   "source": [
    "The more profit-focused (higher $\\alpha$) banks tend to offer seemingly 'riskier' contracts which concentrate repayment in the last period.  In this case at very high $\\alpha$ the consumer actually is a net borrower in period 0 and 1 and faces heavy repayment in period 2.\n",
    "\n",
    "One interpretation:  Sophisticated consumer knows that a bank that offers a smoothed consumption (balanced repayment) profile will approach their later self to opportunistically offer a new loan which will impose a heavy repayment in the last period. The consumer balks and then only agrees to a contract that the bank can credibly commit to not renegotiate, one that limits the amount of  period 1 self's "
   ]
  },
  {
   "cell_type": "code",
   "execution_count": 18,
   "metadata": {
    "collapsed": false
   },
   "outputs": [
    {
     "data": {
      "text/plain": [
       "<matplotlib.legend.Legend at 0x16806b38>"
      ]
     },
     "execution_count": 18,
     "metadata": {},
     "output_type": "execute_result"
    },
    {
     "data": {
      "image/png": "[encoded data removed]",
      "text/plain": [
       "<matplotlib.figure.Figure at 0xab53390>"
      ]
     },
     "metadata": {},
     "output_type": "display_data"
    }
   ],
   "source": [
    "plot(alphs,cMRP[0,:],label='$c_{0}$')\n",
    "plot(alphs,cMRP[1,:],'--',label='$c_{1}$')\n",
    "plot(alphs,cMRP[2,:],label='$c_{2}$')\n",
    "title('Consumption profile')\n",
    "legend(loc='upper center', bbox_to_anchor=(0.5, -0.05),\n",
    "          fancybox=None, ncol=5)"
   ]
  },
  {
   "cell_type": "code",
   "execution_count": 19,
   "metadata": {
    "collapsed": false
   },
   "outputs": [
    {
     "data": {
      "text/plain": [
       "<matplotlib.legend.Legend at 0x16509358>"
      ]
     },
     "execution_count": 19,
     "metadata": {},
     "output_type": "execute_result"
    },
    {
     "data": {
      "image/png": "[encoded data removed]",
      "text/plain": [
       "<matplotlib.figure.Figure at 0x168b0208>"
      ]
     },
     "metadata": {},
     "output_type": "display_data"
    }
   ],
   "source": [
    "plot(alphs,cMRP[0,:]-y[0],label='$c_{0}$')\n",
    "plot(alphs,y[1]-cMRP[1,:],'--',label='$c_{1}$')\n",
    "plot(alphs,y[2]-cMRP[2,:],label='$c_{2}$')\n",
    "title('Period 0 Loan, repayment')\n",
    "legend(loc='upper center', bbox_to_anchor=(0.5, -0.05),\n",
    "          fancybox=None, ncol=5)"
   ]
  },
  {
   "cell_type": "code",
   "execution_count": 20,
   "metadata": {
    "collapsed": false
   },
   "outputs": [
    {
     "name": "stdout",
     "output_type": "stream",
     "text": [
      " 0.00   -15.51 +  8.67 +  8.67 =  1.82   \n",
      " 0.05   -15.51 +  8.67 +  8.67 =  1.82   \n",
      " 0.10   -15.51 +  8.67 +  8.67 =  1.82   \n",
      " 0.15   -15.51 +  8.67 +  8.67 =  1.82   \n",
      " 0.20   -15.51 +  8.67 +  8.67 =  1.82   \n",
      " 0.25   -15.51 +  8.67 +  8.67 =  1.82   \n",
      " 0.30   -15.51 +  8.67 +  8.67 =  1.82   \n",
      " 0.35   -15.51 +  8.67 +  8.67 =  1.82   \n",
      " 0.40   -15.51 +  8.67 +  8.67 =  1.82   \n",
      " 0.45   -15.51 +  8.67 +  8.67 =  1.82   \n",
      " 0.50   -15.51 +  8.67 +  8.67 =  1.82   \n",
      " 0.55   -15.51 +  8.67 +  8.67 =  1.82   \n",
      " 0.60   -15.51 +  8.67 +  8.67 =  1.82   \n",
      " 0.65   -15.51 +  8.67 +  8.67 =  1.82   \n",
      " 0.70   -15.51 +  8.67 +  8.67 =  1.82   \n",
      " 0.75   -15.55 +  7.81 +  9.56 =  1.81   \n",
      " 0.80   -15.60 +  6.78 + 10.60 =  1.78   \n",
      " 0.85   -15.65 +  5.60 + 11.78 =  1.72   \n",
      " 0.90   -15.72 +  4.17 + 13.16 =  1.61   \n",
      " 0.95   -15.80 +  2.29 + 14.92 =  1.41   \n",
      " 1.00   -16.05 + -2.38 + 19.06 =  0.63   \n"
     ]
    }
   ],
   "source": [
    "# Profit (loan, repayment) by period\n",
    "for i,a in enumerate(alphs):\n",
    "    print(\"{:5.2f}   {:5.2f} + {:5.2f} + {:5.2f} = {:5.2f}   \".format(a,y[0]-cMRP[0,i],y[1]-cMRP[1,i],y[2]-cMRP[2,i],profitRP[i]))"
   ]
  },
  {
   "cell_type": "markdown",
   "metadata": {
    "collapsed": false
   },
   "source": [
    "The inability to commit means the renegotiation proof contract doesn't smooth consumption very well for the consumer.  This ends up hurting the bank, since they must now 'compensate' the consumer for the higher variance of consumption if the participation constraint is still to be met.  "
   ]
  },
  {
   "cell_type": "code",
   "execution_count": 21,
   "metadata": {
    "collapsed": false
   },
   "outputs": [
    {
     "data": {
      "text/plain": [
       "100"
      ]
     },
     "execution_count": 21,
     "metadata": {},
     "output_type": "execute_result"
    }
   ],
   "source": [
    "y[0]"
   ]
  },
  {
   "cell_type": "markdown",
   "metadata": {},
   "source": [
    "The code that follows produces a grid of subplots to illustrate how the results (the relation between $\\alpha$ and retained profits) depends on the initial y vector, which in turn also determines whether this will be borrowing or saving.  "
   ]
  },
  {
   "cell_type": "markdown",
   "metadata": {
    "collapsed": false
   },
   "source": [
    "# num_pts  = 21\n",
    "alphs    = linspace(0,1,num_pts)       # iterate over different alphas\n",
    "C        = 4*(ones(num_pts)-alphs)     # h(alpha)/alpha  or cost of renegotiaton\n",
    "cMRP     = zeros((3,num_pts))          # to store (c0,c1,c2) for each alpha\n",
    "profitRP = zeros(num_pts)\n",
    "NprofitRP= zeros(num_pts)\n",
    "\n",
    "fig,ax = plt.subplots(10,sharex=True)\n",
    "numy0 = 3     # rows of subplots\n",
    "ax = plt.subplot(numy0,2,1)\n",
    "\n",
    "# Vary y contracts (maintaining PV at 300 in zero interest rate setting)\n",
    "for j in range(1,numy0+1):\n",
    "    y0 = 80 + j*10\n",
    "    y = array([y0,100,100])            \n",
    "    y = array([y0,(300-y0)/2,(300-y0)/2])   \n",
    "    print(y)\n",
    "      \n",
    "    ax1 = plt.subplot(numy0,2,j*2-1,sharex=ax)  \n",
    "    for i in range(0,num_pts):\n",
    "        cM.kappa = C[i]             # change reneg cost  \n",
    "        cMRP[:,i]    = cM.reneg_proof().x \n",
    "        cM.guess     = cMRP[:,i]         # store sol as guess for next search\n",
    "        profitRP[i]  = cM.profit(cMRP[:,i],y)\n",
    "        NprofitRP[i] = alphs[i]*cM.profit(cMRP[:,i],y)\n",
    "       #print(\"alph:{0:4.2f} profitRP:{1:5.2f} \".format(alphs[i],cM.profit(cMRP[:,i],y)))\n",
    "        \n",
    "    #ax.set_ylim([0, cM.profit(cMF,y)*1.2])\n",
    "    \n",
    "    profitRP_full = profitRP[num_pts-1]*ones(num_pts) \n",
    "    \n",
    "    ax1.plot(alphs, profitRP)\n",
    "    ax1.plot(alphs, NprofitRP)\n",
    "    ax1.fill_between(alphs, fmax(profitRP_full,NprofitRP), profitRP_full)\n",
    "    ax1.plot(alphs,zeros(num_pts))\n",
    "    ax1.set_title(r'$y_{0}$= %2.0f' %(y0))\n",
    "    plt.grid()\n",
    "    ax2 = plt.subplot(numy0,2,j*2,sharex=ax)    # Plot contract terms in right column plot\n",
    "    #ax1.set_ylim([0, 25])\n",
    "    ax2.plot(alphs,cMRP[1,:])\n",
    "    ax2.plot(alphs,cMRP[2,:],\"x-\")\n",
    "    ax2.plot(alphs,cMRP[0,:])\n",
    "    ax2.plot(alphs,y[0]*ones(num_pts))\n",
    "    ax2.plot(alphs,y[1]*ones(num_pts))\n",
    "    \n",
    "    plt.grid()\n",
    "      \n",
    "\n",
    "plt.tight_layout()\n",
    "plt.savefig('plot2.png')    \n",
    "show()    "
   ]
  },
  {
   "cell_type": "markdown",
   "metadata": {},
   "source": [
    "ANALYSIS: The left column of plots above shows renegotiation-proof profits as a function of $\\alpha$ where $\\alpha$ affects both the share of profits that are captured as well as the cost of renegotiation as described above.  The blue shaded area indicates where commercial non-profits (that choose an $\\alpha <1$) capture more profit than a pure for-profit. \n",
    "\n",
    "The right column of plots shows the terms of the associated contract displayed as 'profit elements' (y0-c0), (y1-c1), and (y2-c2). To make things fit better we display -(y0-c0) \n",
    "\n",
    "When we keep the PV of y constant but change the ratio of period zero income y0 to later period income, y vectors that lead to borrowing (lower y0, higher y1,y2) deliver higher full-commitment (and renegotiation-proof) profits at any level of alpha. \n",
    "\n",
    "Since most of the profits are in the 0 to 1 period, they weigh more heavily in total profits.  Turning non-profit is only attractive at relatively high values of alpha (since at lower alpha they're forfeiting the period 0-1 profits). At higher y0 (tilted more toward savings) full commitment (and renegotiation-proof) profits are lower The pattern seems to be that as we move toward first period savings..."
   ]
  },
  {
   "cell_type": "code",
   "execution_count": 23,
   "metadata": {
    "collapsed": false
   },
   "outputs": [
    {
     "name": "stdout",
     "output_type": "stream",
     "text": [
      "guess   : [ 116.06  102.38   80.94]\n",
      "kappa   : 0.0\n",
      "beta    : 0.8\n",
      "r       : 0.0\n",
      "rho     : 0.95\n",
      "delta   : 1.0\n",
      "y       : [100 100 100]\n"
     ]
    }
   ],
   "source": [
    "for p in cM.__dict__:     \n",
    "    print(\"{0:<7} : {1}\".format(p,params[p]))"
   ]
  },
  {
   "cell_type": "markdown",
   "metadata": {},
   "source": [
    "### Profitability as a function of y0"
   ]
  },
  {
   "cell_type": "code",
   "execution_count": 24,
   "metadata": {
    "collapsed": false
   },
   "outputs": [],
   "source": [
    "cM.kappa = 0"
   ]
  },
  {
   "cell_type": "code",
   "execution_count": 25,
   "metadata": {
    "collapsed": false
   },
   "outputs": [],
   "source": [
    "PDV =300\n",
    "y0_step = 2\n",
    "y0_start = 50\n",
    "y0_end = PDV -50\n",
    "Y0 = range(y0_start,y0_end,y0_step)\n",
    "n = len(Y0)\n",
    "profity0 = zeros(n)\n",
    "profity0B = zeros(n)\n",
    "i=0\n",
    "\n",
    "for y0 in Y0:  \n",
    "    ybar = (PDV-y0)/2\n",
    "    cM.y =([y0,ybar,ybar])\n",
    "    cMF = cM.fcommit()\n",
    "    cMRP = cM.reneg_proof().x\n",
    "    cM.guess = cMRP\n",
    "    profity0[i] = cM.profit(cMRP,cM.y)\n",
    "    profity0B[i] = cM.profit(cMF,cM.y)\n",
    "    \n",
    "    i += 1"
   ]
  },
  {
   "cell_type": "code",
   "execution_count": 26,
   "metadata": {
    "collapsed": false
   },
   "outputs": [
    {
     "ename": "SyntaxError",
     "evalue": "invalid syntax (<ipython-input-26-3fcc6e5b8381>, line 4)",
     "output_type": "error",
     "traceback": [
      "\u001b[1;36m  File \u001b[1;32m\"<ipython-input-26-3fcc6e5b8381>\"\u001b[1;36m, line \u001b[1;32m4\u001b[0m\n\u001b[1;33m    plt.ylim([80,160])c\u001b[0m\n\u001b[1;37m                      ^\u001b[0m\n\u001b[1;31mSyntaxError\u001b[0m\u001b[1;31m:\u001b[0m invalid syntax\n"
     ]
    }
   ],
   "source": [
    "plt.plot(profity0,Y0,'b-',label=\"reneg. proof\")\n",
    "plt.plot(profity0B,Y0,'r',label=\"full commit\")\n",
    "plt.xlim([-2,6])\n",
    "plt.ylim([80,160])c\n",
    "\n",
    "plt.title(\"Profits as a function of y0\")\n",
    "plt.xlabel(\"profits $\\pi$\")\n",
    "plt.ylabel(\"y0\")\n",
    "plt.legend(loc='center right')\n",
    "plt.grid()\n",
    "plt.axvline()"
   ]
  },
  {
   "cell_type": "markdown",
   "metadata": {},
   "source": [
    "## Modifications when consumer has a home savings option##\n",
    "The above ana"
   ]
  },
  {
   "cell_type": "code",
   "execution_count": null,
   "metadata": {
    "collapsed": false
   },
   "outputs": [],
   "source": [
    "cM.kappa =0\n",
    "cM.guess = cMF\n",
    "cMRP = cM.reneg_proof()\n",
    "cMRP.x"
   ]
  },
  {
   "cell_type": "code",
   "execution_count": null,
   "metadata": {
    "collapsed": false
   },
   "outputs": [],
   "source": [
    "plot(alphs,C)"
   ]
  },
  {
   "cell_type": "code",
   "execution_count": null,
   "metadata": {
    "collapsed": false
   },
   "outputs": [],
   "source": [
    "# Three subplots sharing both x/y axes\n",
    "f, (ax1, ax2, ax3) = plt.subplots(3, sharex=True, sharey=True)\n",
    "ax1.plot(alphs, profitRP)\n",
    "ax1.plot(alphs, NprofitRP)\n",
    "ax1.plot(alphs,cM.profit(cMF,y)*ones(num_pts))\n",
    "ax1.grid(True)\n",
    "ax1.set_title('Sharing both axes')\n",
    "ax2.plot(alphs, NprofitRP)\n",
    "ax3.plot(alphs,cM.profit(cMF,y)*ones(num_pts))\n",
    "show()"
   ]
  },
  {
   "cell_type": "markdown",
   "metadata": {},
   "source": [
    "## Other Results"
   ]
  },
  {
   "cell_type": "markdown",
   "metadata": {},
   "source": [
    "### $\\beta$ and loan size"
   ]
  },
  {
   "cell_type": "markdown",
   "metadata": {},
   "source": [
    "Let's plot the the relationship between period 0 loan size in a full-commitment contract and the extent of present-bias captured by $\\beta$"
   ]
  },
  {
   "cell_type": "code",
   "execution_count": null,
   "metadata": {
    "collapsed": false
   },
   "outputs": [],
   "source": [
    "cM = MonopolyContract(0.8)               # create an instance m\n",
    "\n",
    "num_pts = 21\n",
    "betas = linspace(0.1,1,num_pts)           # iterate over different values of beta\n",
    "CMF = zeros((3,num_pts))                  # a three row matrix to store (c0,c1,c2) for each beta\n",
    "\n",
    "for i in range(0,num_pts):\n",
    "    cM.beta = betas[i]                    # change beta before recalculating optimal contract\n",
    "    CMF[:,i] = cM.fcommit()       \n",
    "\n",
    "loan   = CMF[0,:] - cM.y[0]               # save results for plotting\n",
    "repay1 = CMF[1,:] - cM.y[1]\n",
    "repay2 = CMF[2,:] - cM.y[2]\n",
    "\n",
    "plot(betas,loan,'--')                          # plot    \n",
    "plot(betas,repay1)\n",
    "plot(betas,repay2)\n",
    "grid()\n",
    "title('Monopoly Commitment Contract as function of beta')\n",
    "xlabel('beta')\n",
    "ylabel('net repayment')\n",
    "legend(['loan','repay1','repay2'])"
   ]
  },
  {
   "cell_type": "markdown",
   "metadata": {},
   "source": [
    "### Example full commitment contract (and renegotiation with a naive consumer)"
   ]
  },
  {
   "cell_type": "markdown",
   "metadata": {},
   "source": [
    "Here is an example of the full-commitment contracts a monopolist offers and the contract a monopolist and a naive consumer would renegotiate to from that same full commitment contract (but note that a intermediary who knows they are dealing with a naive consumer would bait them with a different initial contract). "
   ]
  },
  {
   "cell_type": "code",
   "execution_count": null,
   "metadata": {
    "collapsed": false
   },
   "outputs": [],
   "source": [
    "cM.beta = 0.8            # Reset to beta = 0.8 case and print out other parameters\n",
    "cM.params()"
   ]
  },
  {
   "cell_type": "code",
   "execution_count": null,
   "metadata": {
    "collapsed": false
   },
   "outputs": [],
   "source": [
    "cMF = cM.fcommit()      \n",
    "cMr = cM.reneg(cMF)       \n",
    "y = cM.y\n",
    "print '0-Discounted utility full commit: {0:4.3f}   and   Naive renegotiate: {1:4.3f}'.format(cM.PVU(cMF), cM.PVU(cMr))\n",
    "print 'Profits from full commit: {0:4.3f}   and   Naive renegotiate:{1:4.3f}'.format(cM.profit(y,cMF), cM.profit(y,cMr))"
   ]
  },
  {
   "cell_type": "markdown",
   "metadata": {},
   "source": [
    "##### Scratch play area"
   ]
  },
  {
   "cell_type": "markdown",
   "metadata": {},
   "source": [
    "#### 3D plots"
   ]
  },
  {
   "cell_type": "code",
   "execution_count": null,
   "metadata": {
    "collapsed": false
   },
   "outputs": [],
   "source": [
    "from mpl_toolkits.mplot3d import Axes3D\n",
    "from matplotlib import cm\n",
    "from matplotlib.ticker import LinearLocator, FormatStrFormatter"
   ]
  },
  {
   "cell_type": "code",
   "execution_count": 55,
   "metadata": {
    "collapsed": false
   },
   "outputs": [
    {
     "data": {
      "image/png": "[encoded data removed]",
      "text/plain": [
       "<matplotlib.figure.Figure at 0x16e085c0>"
      ]
     },
     "metadata": {},
     "output_type": "display_data"
    }
   ],
   "source": [
    "fig = plt.figure()\n",
    "ax = fig.gca(projection='3d')\n",
    "C0 = np.arange(10, 150, 5)\n",
    "C1 = np.arange(10, 150, 5)\n",
    "C0, C1 = np.meshgrid(C0, C1)\n",
    "ubar = cM.PVU(cM.y,cM.beta)      \n",
    "C2 =(((1-cM.rho)/cM.beta)*(ubar- cM.u(C0)-cM.beta*cM.u(C1)))**(1/(1-cM.rho))\n",
    "surf = ax.plot_surface(C0, C1, C2, rstride=1, cstride=1, cmap=cm.coolwarm,\n",
    "        linewidth=0, antialiased=False)\n",
    "ax.set_zlim(0, 200)\n",
    "ax.zaxis.set_major_locator(LinearLocator(10))\n",
    "ax.zaxis.set_major_formatter(FormatStrFormatter('%.02f'))\n",
    "\n",
    "#fig.colorbar(surf, shrink=0.5, aspect=5)\n",
    "\n",
    "plt.show()\n"
   ]
  },
  {
   "cell_type": "code",
   "execution_count": 47,
   "metadata": {
    "collapsed": false
   },
   "outputs": [],
   "source": [
    "ubar = cM.PVU(cM.y,cM.beta)"
   ]
  },
  {
   "cell_type": "code",
   "execution_count": 48,
   "metadata": {
    "collapsed": false
   },
   "outputs": [
    {
     "data": {
      "text/plain": [
       "64.00988831949365"
      ]
     },
     "execution_count": 48,
     "metadata": {},
     "output_type": "execute_result"
    }
   ],
   "source": [
    "ubar"
   ]
  },
  {
   "cell_type": "code",
   "execution_count": null,
   "metadata": {
    "collapsed": true
   },
   "outputs": [],
   "source": []
  }
 ],
 "metadata": {
  "kernelspec": {
   "display_name": "Python 3",
   "language": "python",
   "name": "python3"
  },
  "language_info": {
   "codemirror_mode": {
    "name": "ipython",
    "version": 3
   },
   "file_extension": ".py",
   "mimetype": "text/x-python",
   "name": "python",
   "nbconvert_exporter": "python",
   "pygments_lexer": "ipython3",
   "version": "3.4.3"
  }
 },
 "nbformat": 4,
 "nbformat_minor": 0
}
