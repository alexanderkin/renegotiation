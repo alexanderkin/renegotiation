{
 "cells": [
  {
   "cell_type": "markdown",
   "metadata": {},
   "source": [
    "# Behavioral foundation for commercial non-profits in finance\n",
    "## Monopoly contracts\n",
    "**Karna Basu and Jonathan Conning**\n",
    "\n",
    "Department of Economics\n",
    "Hunter College"
   ]
  },
  {
   "cell_type": "code",
   "execution_count": 29,
   "metadata": {
    "collapsed": false
   },
   "outputs": [
    {
     "name": "stdout",
     "output_type": "stream",
     "text": [
      "Last updated: Tue Jun 30 2015 01:46:16 \n"
     ]
    }
   ],
   "source": [
    "%reload_ext watermark\n",
    "%watermark -u -n -t "
   ]
  },
  {
   "cell_type": "markdown",
   "metadata": {},
   "source": [
    "**Abstract:** We explore new behavioral microfoundations for a theory of 'commercial non-profits.' In the spirit of Henry Hansmann's suggestion that in low regulation environments non-profits serve as \"a crude form of consumer protection\" our theory helps understand therole and ubiquity of non-profit and 'hybrid' (e.g. for-profits owned and/or controlled to varying degrees by socially-minded investors) financial intermediaries in low income markets.  However, where Hansmann (1996) and others have focused on asymmetric information problems -- the idea that nonprofits might prevail where patrons are \"incapable of observing with any accuracy either the quantity or quality of the goods or services that the firm has contracted to provide to them\" -- we draw attention to a different problem: the firm's willingness and incentive to pander to or 'exploit' their customers' self-control problems.  This is an issue that arises even when all parties are symmetrically informed and sophisticated.\n",
    "\n",
    "Sophisticated present-biased consumers are aware of their later period selves' impulse to renegotiate (or refinance) consumption smoothing plans to achieve long-term savings or loan repayment goals.  This creates a demand for commitment contracts that restrict their later period selves' to not renegotiating carefully laid out plans.  A pure for-profit financial intermediary may find it hard to credibly commit to not offering such refinancing options at later dates because clients understand full well that the intermediary can profit by doing so.  This limits the pure for-profit firm to offering credible but costly renegotiation-proof contracts that reduce the gains to trade.  In such circumstances a commercial non-profit which has adopted a legal ownership/governance structure which places limits on the distribution of profits may be in a position to offer more attractive contracts that pure for-profits.  We show how different equilibrium market and ownership structures may emerge depending on parameters of the economic environment, and apply the insights to a discussion of the development of modern microfinance and consumer finance in history. \n",
    "\n"
   ]
  },
  {
   "cell_type": "markdown",
   "metadata": {},
   "source": [
    "This (draft of an) Ipython notebook is not the main paper.  It emphasizes only some of the elements of the paper, highlighting a few elements and extensions to the theoretical model and the python code that generates figures and simulations.  "
   ]
  },
  {
   "cell_type": "markdown",
   "metadata": {},
   "source": [
    "## The model"
   ]
  },
  {
   "cell_type": "markdown",
   "metadata": {},
   "source": [
    "The paper describes a slightly more general multi-period model but here we specialize it to a three period setting where savers-cum-borrowers have constant relative risk aversion (CRRA) utility. In any period the consumer's instantaneous utility is given by $u(c)=c^{1-ρ}/(1-ρ)$.  Over three period the agent maximizes utility\n",
    "\n",
    "$$ U(c₀,c₁,c₂)=u(c₀)+β[δu(c₁)+δ²u(c₂)]$$ \n",
    "\n",
    "The consumer has an autarky income stream ${y}=\\{y_{0},y_{1},y_{2}\\}$ which defines autarky or reservation utility $ \\overline{u} = U(y₀,y₁,y₂)$ but in general will prefer a smoother consumption profile from contracting on financial markets. "
   ]
  },
  {
   "cell_type": "markdown",
   "metadata": {},
   "source": [
    "### The Monopoly Lender's contract"
   ]
  },
  {
   "cell_type": "markdown",
   "metadata": {},
   "source": [
    "A monopoly lender (who can credibly commit to not-renegotiate contracts) offers our present-biased consumers a contract that maximizes the present value of profits\n",
    "$$\\Pi \\left( c_{0},c_{1},c_{2}\\right) =\\sum\\limits_{t=0}^{2}\\frac{\\left( y_{t}-c_{t}\\right) }{\\left( 1+r\\right) ^{t}}$$\n",
    "subject to the agent's intertemporal participation constraint\n",
    "$$u(c_{0})+\\beta \\left[ \\delta u(c_{1})+\\delta ^{2}u(c_{2})\\right] \\geq \\overline{u}$$\n",
    "\n",
    "The client may be a lender and/or a saver, depending on their initial income stream and preferred/feasible smoothed consumption stream available from contracting.  "
   ]
  },
  {
   "cell_type": "markdown",
   "metadata": {},
   "source": [
    "The first order conditions imply $u^{\\prime }(c_{o})=\\beta \\delta (1+r)u^{\\prime }(c_{1})=\\beta \\delta ^{2}(1+r)^{2}u^{\\prime }(c_{2})$. To simplify, let us assume only for presentation purposes that\n",
    "$$\\delta =\\frac{1}{1+r}$$\n",
    "With this simplification the FOC imply $u^{\\prime }(c_{1})=u^{\\prime }(c_{2})$ and hence that any optimal solution will keep the agent at constant consumption in the last two periods $c_{1}=c_{2}=\\overline{c}$.  For CRRA utility $u^{\\prime }(c)=c^{-\\rho }$ we can use the FOC to find $\\overline{c}=\\beta ^{\\frac{1}{\\rho }}c_{0}$. Substituting this into the agent's binding participation constraint then allows us to solve for \n",
    "$$c_{0}=\\left[ \\frac{\\overline{u}(1-\\rho )}{1+2\\beta ^{\\frac{1}{\\rho }} }\\right] ^{\\frac{1}{1-\\rho }}$$"
   ]
  },
  {
   "cell_type": "markdown",
   "metadata": {},
   "source": [
    "### Python implementation to solve for optimal contracts "
   ]
  },
  {
   "cell_type": "markdown",
   "metadata": {},
   "source": [
    "#### Object oriented design the parent 'Contract' class"
   ]
  },
  {
   "cell_type": "markdown",
   "metadata": {},
   "source": [
    "This ipython notebook solves for optimal contracts between a lender and a client. The python code makes use of Object oriented programming (OOP) ideas for modular design and more compact code. \n",
    "\n",
    "First we create a generic 'Contract' class that defines a few attributes (e.g. default parameters of the utility function, initial endowments, etc.) and useful methods to calculate profits, utility, etc. Later we will define MonopolyContract and CompetitiveContract as subclasses that will inherit and extend attributes and methods to solve related models. \n",
    "\n",
    "Before anything else, a few commands to import useful python libraries, and notebook settings to ake plots appear inline."
   ]
  },
  {
   "cell_type": "code",
   "execution_count": 30,
   "metadata": {
    "collapsed": false
   },
   "outputs": [],
   "source": [
    "%matplotlib inline\n",
    "import sys\n",
    "import numpy as np\n",
    "from scipy.optimize import minimize\n",
    "import matplotlib.pyplot as plt\n",
    "from matplotlib.backends.backend_pdf import PdfPages\n",
    "plt.rcParams[\"figure.figsize\"] = (10, 8)\n",
    "np.set_printoptions(precision=2)    # array printing format "
   ]
  },
  {
   "cell_type": "markdown",
   "metadata": {},
   "source": [
    "#### The Contract.Contract, Contract.Monopoly and Contract.Competitive classes"
   ]
  },
  {
   "cell_type": "markdown",
   "metadata": {
    "collapsed": false
   },
   "source": [
    "Most of the heavy-lifting code for this notebook is contained in the Contract library module **Contract** (found in the Contract.py module in the same folder as this notebook) which defines the following classes: \n",
    "\n",
    "- **Contract**:  base class where simple attributes (e.g. parameters of the utlity function, starting endowment y, etc) and methods (e.g. utility and profit functions are defined).  The next two subclasses of this class meaning that they inherit or override the attributes and methods co the base Contract class.\n",
    "- **Monopoly**: like Contract class but defines new attributes (e.g. $\\kappa$ and *guess* for solver) and methods (e.g. methods to calculate the full commitment and renegotiation proof contracts.\n",
    "- **Competitive**: like the *Monopoly* but full commtiment and renegotiation proof contracts solve differently \n",
    "\n",
    "The code for each of these class definitions can be examined by editing the file Contract.py or in Ipython by simply typing for instance\n",
    "\n",
    "Contract.Monopoly??\n",
    "\n",
    "in an Ipython cell after having imported the module. THis will open the code in a window. \n",
    "\n",
    "Let's import the entire module now:"
   ]
  },
  {
   "cell_type": "code",
   "execution_count": 31,
   "metadata": {
    "collapsed": false
   },
   "outputs": [],
   "source": [
    "import Contract"
   ]
  },
  {
   "cell_type": "code",
   "execution_count": 32,
   "metadata": {
    "collapsed": false
   },
   "outputs": [],
   "source": [
    "# Contract.Contract??     # run this to see definition of Contract class "
   ]
  },
  {
   "cell_type": "markdown",
   "metadata": {},
   "source": [
    "Let's demonstrate simple use. The following call establishes 'c' as a particular object instance of the Contract class. In this example we then initialize $\\beta$ explicitly for this instance. Other attributes (as the value of the income stream y are initialized to default values when c is setup since no value was specified). \n",
    "\n",
    "We then call on the print_params method to print out a summary of properties (parameters) of this specific contract c."
   ]
  },
  {
   "cell_type": "code",
   "execution_count": 33,
   "metadata": {
    "collapsed": false
   },
   "outputs": [
    {
     "name": "stdout",
     "output_type": "stream",
     "text": [
      "beta    : 0.7\n",
      "delta   : 1.0\n",
      "r       : 0.0\n",
      "rho     : 0.95\n",
      "y       : [100 100 100]\n"
     ]
    }
   ],
   "source": [
    "c = Contract.Contract(beta = 0.7)\n",
    "c.print_params()"
   ]
  },
  {
   "cell_type": "markdown",
   "metadata": {},
   "source": [
    "Let's plot an indifference curve in c1-c2 space.  For example if the agent in autarky has income $\\{y_{0},y_{1},y_{2}\\}$ and no access to saving or borrowing then (from period 0 self's perspective) entering period 1 they have reservation utility $u(y_{1})+\\delta u(y_{2})=\\overline{u}_{0}$.  But when period 1 rolls around their preferences change. From period 1 self's perspective they have reservation utility $u(y_{1})+\\beta \\delta u(y_{2})=\\overline{u}_{1}$.  "
   ]
  },
  {
   "cell_type": "markdown",
   "metadata": {},
   "source": [
    "### Monopoly contracts"
   ]
  },
  {
   "cell_type": "markdown",
   "metadata": {},
   "source": [
    "The contract class defines a generic contract which holds consumption stream objects of the form $\\left( c_{0},c_{1},c_{2}\\right)$ and allows a few manipulations.  Now comes the job of solving for optimal contracts and we do this with a 'monopoly contract' or mon__contract class which inherits the attributes and methods of the more generic contract class and then adds a few methods such as calculating the optimal contract full commitment and renegotiation-proof contracts in the monopoly lender case.\n"
   ]
  },
  {
   "cell_type": "markdown",
   "metadata": {},
   "source": [
    "#### Full-commitment contracts"
   ]
  },
  {
   "cell_type": "markdown",
   "metadata": {},
   "source": [
    "When the monopolist can commit to not-renegotiating the contract (i.e. to not pandering to the period-1 self's desire to renegotiate period-0's contract) it searches for the contract that solves\n",
    "\n",
    "$$\\max \\ (y_{0}-c_{0})+\\frac{(y_{1}-c_{1})}{(1+r)}+\\frac{(y_{2}-c_{2})}{(1+r)^{2}}$$\n",
    "subject to the participation constraint\n",
    "$$u\\left( c_{0}\\right) +\\beta \\left[ \\delta u\\left( c_{1}\\right) +\\delta ^{2}u\\left( c_{2}\\right) \\right] \\geq u\\left( y_{0}\\right) +\\beta \\left[ \\delta u\\left( y_{1}\\right) +\\delta ^{2}u\\left( y_{2}\\right) \\right] $$\n",
    "When $\\delta =\\frac{1}{(1+r)}$ for the CRRA case an optimum will set $c_{1}=c_{2}=\\overline{c}$ and $\\overline{c}=\\beta ^{\\frac{1}{\\rho }}c_{0}$ from which a closed form solution can be easily found (see fcommit() function below for formulas).\n",
    "\n",
    "**Note** that we are here assuming that the consumer has no choice but to consume their income stream $y$ under autarky.  This would be true if the agent does not have acess to any 'own savings' technologies.  Later below we see how things change only slightly when we allow them to use own savings to create a slightly more smooth autarky consumption stream (not perfectly smooth because they cannot overcome their self-control problems on their own)."
   ]
  },
  {
   "cell_type": "markdown",
   "metadata": {},
   "source": [
    "#### Renegotiaton-proof contracts"
   ]
  },
  {
   "cell_type": "markdown",
   "metadata": {},
   "source": [
    "The agent's period-1-self's preferences differ from those of his period 0 self so they will often want to renegotiate any contract their period 0 self contracted, and the bank can profit from this renegotiation so long as its renegotiaton cost $\\kappa $ is low.   In particular if the period-0-self agreed to contract $\\left( \\bar{c}_{0},\\bar{c}_{1},\\bar{c}_{2}\\right) $ a monopolist would offer to renegotiate the remaining $(\\bar{c}_{1},\\bar{c}_{2})$ to contract $\\left( c_{1}^{r},c_{2}^{r}\\right) $ chosen to maximize\n",
    "$$\\max \\ \\ (y_{1}-c_{1})+\\frac{(y_{2}-c_{2})}{(1+r)}$$\n",
    "$$s.t.\\ \\ \\ \\ \\ u(c_{1})+\\beta \\delta u(c_{2})\\geq u(\\bar{c}_{1})+\\beta \\delta u(\\bar{c}_{2})$$\n",
    "We can show from the agent's first order conditions for the CRRA case that a renegotiated contract will always satisfy $c_{2}=\\beta ^{\\frac{1}{\\rho }}c_{1}$ and indeed for CRRA we get the closed form:\n",
    "$$c_{1}^{r}(\\bar{c}_{1},\\bar{c}_{2})=\\left[ \\frac{\\overline{u}(\\bar{c}_{1},\\bar{c}_{2})(1-\\rho )}{1+\\delta \\beta ^{\\frac{1}{\\rho }}}\\right] ^{\\frac{1}{1-\\rho }}$$\n",
    "\n",
    "and $c_{2}^{r}(\\bar{c}_{1},\\bar{c}_{2})=\\beta ^{\\frac{1}{\\rho }}c_{1}^{r}(\\bar{c}_{1},\\bar{c}_{2})$.  See the reneg(c) function.\n",
    "\n",
    "A sophisticated present-biased consumer anticipates that this type of renegotiation may happen and will only agree to renegotiation-proof contracts that do not renegotiate to favor their period 1 selves.  The profit-maximizing renegotiation-proof contract solves\n",
    "\n",
    "\n",
    "$$\\max_{c_{0},c_{1},c_{2}}\\Pi \\left( c_{0},c_{1},c_{2}\\right) $$\n",
    "$$U(c_{0},c_{1},c_{2})\\geq U_{0}(y_{0},y_{1},y_{2})$$\n",
    "$$\\Pi \\left( c_{1}^{r},c_{2}^{r}\\right) -\\Pi \\left( c_{1},c_{2}\\right) \\leq \\overline{\\kappa }$$\n",
    "The first constraint is the period 0 self's participation constraint and the second is the no-renegotiation proof constraint that the bank not find it profitable to offer to renegotiate to the contract that period-1 self will demand."
   ]
  },
  {
   "cell_type": "markdown",
   "metadata": {},
   "source": [
    "Let's create an object instance which we will call cM, printout the parameters associated with this instance and then run a few checks to make sure the cM.reneg function works right:"
   ]
  },
  {
   "cell_type": "code",
   "execution_count": 34,
   "metadata": {
    "collapsed": false
   },
   "outputs": [
    {
     "name": "stdout",
     "output_type": "stream",
     "text": [
      "beta    : 0.75\n",
      "delta   : 1.0\n",
      "guess   : [100 100 100]\n",
      "kappa   : 0\n",
      "r       : 0.0\n",
      "rho     : 0.95\n",
      "y       : [60, 120, 120]\n"
     ]
    }
   ],
   "source": [
    "cM = Contract.Monopoly(beta = 0.75)\n",
    "cM.y = [60,120,120]\n",
    "cM.print_params()"
   ]
  },
  {
   "cell_type": "code",
   "execution_count": 35,
   "metadata": {
    "collapsed": false
   },
   "outputs": [
    {
     "name": "stdout",
     "output_type": "stream",
     "text": [
      "cMF: [ 109.32   80.76   80.76], sum: 270.8,    c0/tot: 121.1%, c1/avg: 89.5%\n",
      "cMR: [ 109.32   91.9    67.89], sum: 269.1,    c0/tot: 121.9%, c1/avg: 102.4%\n"
     ]
    }
   ],
   "source": [
    "cMF = cM.fcommit()         # the full commitment contract \n",
    "cMR = cM.reneg(cMF)        # what renegotiate to if full commitment unantipatedly undone     \n",
    "print(\"cMF: {}, sum: {:4.1f},    c0/tot: {:4.1%}, c1/avg: {:4.1%}\"\n",
    "      .format(cMF,cMF.sum(),cMF[0]/cMF.mean(), cMF[1]/cMF.mean()))\n",
    "print(\"cMR: {}, sum: {:4.1f},    c0/tot: {:4.1%}, c1/avg: {:4.1%}\"\n",
    "      .format(cMR,cMR.sum(), cMR[0]/cMR.mean(), cMR[1]/cMR.mean()))"
   ]
  },
  {
   "cell_type": "markdown",
   "metadata": {},
   "source": [
    "Note that cMR is __not__ the renegotiation-proof contract. It is what the bank would renegotiate if an accepted commitment contract were suddenly and unanticipatedly undone.  We'll solve for the renegotiation-proof contract shortly.  \n",
    "\n",
    "First let's just check that participation constraints are being met (consumer should to be pushed below their period-0 self's autarky utility under cMR):"
   ]
  },
  {
   "cell_type": "code",
   "execution_count": 36,
   "metadata": {
    "collapsed": false
   },
   "outputs": [
    {
     "name": "stdout",
     "output_type": "stream",
     "text": [
      "PVU from cMF: 62.66, from (autarky) y: 62.66, and from cMR: 62.62\n"
     ]
    }
   ],
   "source": [
    "print(\"PVU from cMF: {:4.2f}, from (autarky) y: {:4.2f}, and from cMR: {:4.2f}\"\n",
    "      .format(cM.PVU(cMF,cM.beta),cM.PVU(cM.y,cM.beta),cM.PVU(cMR,cM.beta)))"
   ]
  },
  {
   "cell_type": "markdown",
   "metadata": {},
   "source": [
    "The bank should profit from this type of opportunistic renegotiation:"
   ]
  },
  {
   "cell_type": "code",
   "execution_count": 37,
   "metadata": {
    "collapsed": false
   },
   "outputs": [
    {
     "name": "stdout",
     "output_type": "stream",
     "text": [
      "PV profits from cMF: 29.17   From cMR: 30.90\n"
     ]
    }
   ],
   "source": [
    "print(\"PV profits from cMF: {:4.2f}   From cMR: {:4.2f}\".format(cM.profit(cMF,cM.y),\n",
    "                                                                cM.profit(cMR,cM.y)))"
   ]
  },
  {
   "cell_type": "raw",
   "metadata": {},
   "source": [
    "A sophisticated consumer will however anticipate this type of opporunistic renegotiation and only agree to a renegotiation-proof contract.  "
   ]
  },
  {
   "cell_type": "code",
   "execution_count": 38,
   "metadata": {
    "collapsed": false
   },
   "outputs": [
    {
     "data": {
      "text/plain": [
       "array([ 110.22,   93.38,   68.98])"
      ]
     },
     "execution_count": 38,
     "metadata": {},
     "output_type": "execute_result"
    }
   ],
   "source": [
    "# Let's find reneg-proof contract for pure profit with zero reneg. cost\n",
    "cM.kappa =0\n",
    "cM.guess = cMF\n",
    "cMRP = cM.reneg_proof().x\n",
    "cMRP"
   ]
  },
  {
   "cell_type": "code",
   "execution_count": 39,
   "metadata": {
    "collapsed": false
   },
   "outputs": [
    {
     "name": "stdout",
     "output_type": "stream",
     "text": [
      "PV profits from full commitment cMF: 29.2, from renegotiation-proof cMRP: 27.4\n"
     ]
    }
   ],
   "source": [
    "print(\"PV profits from full commitment cMF: {:4.1f}, from renegotiation-proof cMRP: {:4.1f}\"\n",
    "      .format(cM.profit(cMF,cM.y),cM.profit(cMRP,cM.y)))"
   ]
  },
  {
   "cell_type": "markdown",
   "metadata": {},
   "source": [
    "As expected the bank's profits are lowered due to its inability to commit to not renegotiate.\n",
    "\n",
    "Here's a plot."
   ]
  },
  {
   "cell_type": "code",
   "execution_count": 40,
   "metadata": {
    "collapsed": false
   },
   "outputs": [
    {
     "data": {
      "image/png": "[encoded data removed]",
      "text/plain": [
       "<matplotlib.figure.Figure at 0x8aa5dd8>"
      ]
     },
     "metadata": {},
     "output_type": "display_data"
    }
   ],
   "source": [
    "c1min, c1max = np.min(cM.y), np.max(cM.y)\n",
    "c1 = np.arange(0,c1max,c1max/20)\n",
    "\n",
    "ubar0 = cM.PVU(cMF[1:3], 1.0)\n",
    "idc0 = cM.indif(ubar0, 1.0)\n",
    "ubar1 = cM.PVU(cMF[1:3],cM.beta)\n",
    "idc1 = cM.indif(ubar1,cM.beta)\n",
    "\n",
    "fig, ax = plt.subplots()\n",
    "fig.set_canvas(plt.gcf().canvas)\n",
    "plt.plot(c1,idc0(c1),          \n",
    "         c1,idc1(c1), \n",
    "         c1, c1,'--',\n",
    "         c1, cM.beta**(1/cM.rho)*c1,'--')\n",
    "\n",
    "plt.plot(cMF[1], cMF[2],'*', label='cMF full commitment')\n",
    "plt.plot(cMR[1], cMR[2],'o', label='cMR surprise renegotiate')\n",
    "plt.plot(cMRP[1], cMRP[2],'.', label='cMRP renegotiation proof')      \n",
    "\n",
    "#isoprofline = cM.isoprofit( 1.82, cM.y)\n",
    "#plt.plot(c1,  isoprofline(c1) )\n",
    "\n",
    "ax.spines['right'].set_color('none'), ax.spines['top'].set_color('none')\n",
    "plt.ylim((c1min, c1max*0.9)), plt.xlim((c1min, c1max*0.9))\n",
    "ax.xaxis.tick_bottom(),ax.yaxis.tick_left()\n",
    "plt.xlabel('$c_{1}$'); plt.ylabel('$c_{2}$')\n",
    "legend = ax.legend(loc='upper center')"
   ]
  },
  {
   "cell_type": "code",
   "execution_count": 41,
   "metadata": {
    "collapsed": false
   },
   "outputs": [],
   "source": [
    "# isoprofit lines could be plotted like so\n",
    "# isop  = cM.isoprofit( 0.0, cM.y)   # returns a function of c1 \n",
    "# plt.plot(c1, isop(c1))"
   ]
  },
  {
   "cell_type": "code",
   "execution_count": 42,
   "metadata": {
    "collapsed": false,
    "scrolled": true
   },
   "outputs": [
    {
     "name": "stdout",
     "output_type": "stream",
     "text": [
      "consumption and net saving in each period\n",
      "cMF        : [ 109.32   80.76   80.76]  sum: 270.83\n",
      "cMF (net s): [-49.32  39.24  39.24]     profit: 29.17\n",
      "\n",
      "cMR        : [ 109.32   91.9    67.89]  sum: 269.10\n",
      "cMR (net s): [-49.32  28.1   52.11]     profit: 30.90\n",
      "\n",
      "cMRP       : [ 110.22   93.38   68.98]  sum: 272.59\n",
      "cMRP(net s): [-50.22  26.62  51.02]     profit: 27.41\n",
      "\n"
     ]
    }
   ],
   "source": [
    "# compare three contracts (string label into var name)\n",
    "print(\"consumption and net saving in each period\")\n",
    "for contrat in ['cMF ', 'cMR ', 'cMRP']:\n",
    "    c = eval(contrat)\n",
    "    y = cM.y\n",
    "    print(contrat + \"       : {}  sum: {:4.2f}\"\n",
    "          .format(c, c.sum()))\n",
    "    print(contrat + \"(net s): {}     profit: {:4.2f}\"\n",
    "          .format(y - c, cM.profit(c,cM.y)))\n",
    "    print()"
   ]
  },
  {
   "cell_type": "markdown",
   "metadata": {},
   "source": [
    "##Optimal contract when renegotiation cost $\\kappa $ >0"
   ]
  },
  {
   "cell_type": "markdown",
   "metadata": {},
   "source": [
    "Plot to explore how the renegotiation cost $\\kappa $ affects the terms of the contract and firm profits"
   ]
  },
  {
   "cell_type": "code",
   "execution_count": 43,
   "metadata": {
    "collapsed": false
   },
   "outputs": [
    {
     "data": {
      "image/png": "[encoded data removed]",
      "text/plain": [
       "<matplotlib.figure.Figure at 0x8379550>"
      ]
     },
     "metadata": {},
     "output_type": "display_data"
    }
   ],
   "source": [
    "# Note:  re-run all cells above if the plot seems wrong\n",
    "cM.y = np.array([100,100,100]) \n",
    "cMF = cM.fcommit()\n",
    "num_pts = 21\n",
    "kaps = np.linspace(0, 1.25, num_pts)      # different renegotiation cost values \n",
    "cMRP, profitRP = np.zeros((3,num_pts)), np.zeros(num_pts)  # init (c0,c1,c2) and profits at each kappa\n",
    "\n",
    "for i in range(0,num_pts):               # look through kappa recalculating optimal contract each time\n",
    "    cM.kappa = kaps[i] \n",
    "    cMRP[:,i] = cM.reneg_proof().x \n",
    "    profitRP[i] = cM.profit(cMRP[:,i],cM.y)\n",
    "\n",
    "c0,c1,c2 = cMRP[0,:], cMRP[1,:],cMRP[2,:]                # save results for plotting\n",
    "\n",
    "fig, (ax0, ax1) = plt.subplots(nrows = 2)\n",
    "#ax0.plot(kaps, c0, label='$c_{0}$')\n",
    "ax0.plot(kaps, c1, label='$c_{1}$')\n",
    "ax0.plot(kaps, c2, label='$c_{2}$')\n",
    "ax0.plot(kaps, np.ones(num_pts)*cMF[1], '--', label='$c_{F}$')\n",
    "ax0.grid()\n",
    "ax0.set_title('Renegotiation Proof Contract and $\\kappa$'), ax0.set_ylabel('consumption')\n",
    "ax0.legend(loc=9,bbox_to_anchor=(0.5, -1.7), ncol = 3)\n",
    "\n",
    "ax1.plot(kaps, profitRP)\n",
    "ax1.set_ylabel('Profit')\n",
    "ax1.grid()\n",
    "ax1.set_xlabel('renegotiation cost $\\kappa$')\n",
    "plt.tight_layout()\n",
    "plt.show()"
   ]
  },
  {
   "cell_type": "markdown",
   "metadata": {},
   "source": [
    "At lower renegotiation costs the bank is forced to offer less consumption smoothing in periods 1 and 2 as a way to credibly commit to limit their gains to renegotiation with a period 1 self.  Hence bank profits rise with their ability to commit to incur a renegotiation cost $\\kappa$\n",
    "\n",
    "We haven't plotted $c_{0}$ for each $\\kappa$ but that's because it varies less relative to $c_{1}, c_{2}$ and way above the full commitment consumption smoothing."
   ]
  },
  {
   "cell_type": "code",
   "execution_count": 44,
   "metadata": {
    "collapsed": false
   },
   "outputs": [
    {
     "name": "stdout",
     "output_type": "stream",
     "text": [
      "cMF[0]:  119.85867786\n",
      "  max, mean, min of c0 in cMRP:\n",
      "120.53 120.21 120.01 "
     ]
    }
   ],
   "source": [
    "print(\"cMF[0]: \",cMF[0])\n",
    "print(\"  max, mean, min of c0 in cMRP:\")\n",
    "for item in (c0.max(),c0.mean(),c0.min()):\n",
    "    print(\"{:5.2f}\".format(item), end=' ')"
   ]
  },
  {
   "cell_type": "markdown",
   "metadata": {},
   "source": [
    "### The choice to become a commercial non-profit"
   ]
  },
  {
   "cell_type": "markdown",
   "metadata": {},
   "source": [
    "### Modeling the non-profit"
   ]
  },
  {
   "cell_type": "markdown",
   "metadata": {},
   "source": [
    "The no-renegotiation constraint has two parts.  A pure for-profit captures fraction $\\alpha = 1$ of profits and faces renegotiation cost \n",
    "not-for-profit of type $\\alpha$ and faces renegotiation cost $h(\\alpha) = h(1)$.  More generally a non-profit of type $\\alpha$ has a no-renegotiation constraint of the form \n",
    "$$\\alpha \\left[ \\Pi ^{R}-\\Pi \\right] \\geq h(\\alpha )$$\n",
    "\n",
    "To be specific here let's model this as \n",
    "$$h(\\alpha )=\\kappa \\left( 1-\\alpha \\right) $$\n",
    "\n",
    "So that at $\\alpha =1$ there is no cost to renegotiation and at $0< \\alpha <1$ there is a non-negative non-pecuniary cost of up to $\\kappa$.  The constraint can then be written as \n",
    "$$\\left[ \\Pi ^{R}-\\Pi \\right] \\geq C(\\alpha )=\\frac{h(\\alpha )}{\\alpha }$$"
   ]
  },
  {
   "cell_type": "code",
   "execution_count": 45,
   "metadata": {
    "collapsed": false
   },
   "outputs": [
    {
     "data": {
      "image/png": "[encoded data removed]",
      "text/plain": [
       "<matplotlib.figure.Figure at 0x845b8d0>"
      ]
     },
     "metadata": {},
     "output_type": "display_data"
    }
   ],
   "source": [
    "# Similar to above but solve for contract as a function of firm type ALPHA\n",
    "y = np.array([100,100,100])          # To see how endowment affects contract\n",
    "cM.y     = y                            \n",
    "cMF      = cM.fcommit()\n",
    "num_pts  = 10\n",
    "alphs    = np.linspace(0.5,1.0,num_pts)       # iterate over different values of beta\n",
    "C        = 4*(np.ones(num_pts) - alphs)     #  h(alpha)/alpha  or cost of renegotiaton\n",
    "cMRP     = np.zeros((3,num_pts))          # matrix for (c0,c1,c2) at each kappa\n",
    "profitRP = np.zeros(num_pts)\n",
    "NprofitRP =np.zeros(num_pts)\n",
    "\n",
    "for i in range(0,num_pts):\n",
    "    cM.kappa = C[i]                 # change optimal contract\n",
    "    cMRP[:,i] = cM.reneg_proof().x \n",
    "    cM.guess =  cMRP[:,i]                 # use this sol as guess for next optimum\n",
    "    profitRP[i] = cM.profit(cMRP[:,i],y)\n",
    "    NprofitRP[i] = alphs[i]*cM.profit(cMRP[:,i],y)\n",
    "\n",
    "c0,c1,c2 = cMRP[0,:], cMRP[1,:],cMRP[2,:]                # save results for plotting\n",
    "\n",
    "fig3 = plt.figure()  \n",
    "plt.plot(alphs,c1,'--',label='$c_{1}$')\n",
    "plt.plot(alphs,c2,label='$c_{2}$')\n",
    "plt.plot(alphs,np.ones(num_pts)*cMF[1],label='$c_{1}$ commit')\n",
    "plt.grid()\n",
    "plt.title('Renegotiation Proof Contract and alpha' )\n",
    "plt.xlabel('alpha ')\n",
    "plt.ylabel('consumption')\n",
    "plt.legend(loc='upper left')\n",
    "plt.show()"
   ]
  },
  {
   "cell_type": "markdown",
   "metadata": {},
   "source": [
    "### 'Commercial' non-profits \n",
    "A 'pure' for profit (with $\\alpha$=1.0) earns a reduced (possibly negative) profit due to it's inability to commit. Seen in the plot as profits the height of the horizontal line.\n",
    "\n",
    "Any non-profit with $\\alpha$ above about 0.4 and below 1.0 can better commit to not renegotiate a larger set of contracts and therefore can offer a more profitable renegotiation-proof contract. Even though they capture only fraction $\\alpha$ of those profits, the take home profits exceed the profits of the pure for-profit. "
   ]
  },
  {
   "cell_type": "code",
   "execution_count": 46,
   "metadata": {
    "collapsed": false
   },
   "outputs": [
    {
     "data": {
      "text/plain": [
       "<matplotlib.legend.Legend at 0x7986b38>"
      ]
     },
     "execution_count": 46,
     "metadata": {},
     "output_type": "execute_result"
    },
    {
     "data": {
      "image/png": "[encoded data removed]",
      "text/plain": [
       "<matplotlib.figure.Figure at 0x7e41358>"
      ]
     },
     "metadata": {},
     "output_type": "display_data"
    }
   ],
   "source": [
    "profitRP_full = profitRP[num_pts-1]*np.ones(num_pts) \n",
    "fig = plt.figure()\n",
    "ax = fig.add_subplot(111)\n",
    "plt.title('Renegotiation-Proof Profits vs. alpha')\n",
    "plt.xlabel('alpha ')\n",
    "plt.ylabel('Profits, take-home profits')\n",
    "plt.plot(alphs,profitRP,'--',label='pure-profit profits')\n",
    "plt.plot(alphs,NprofitRP,label='Non-profit take home profits')\n",
    "ax.fill_between(alphs, np.fmax(profitRP_full,NprofitRP), profitRP_full)\n",
    "plt.legend(loc='upper center', bbox_to_anchor=(0.5, -0.2),\n",
    "          fancybox=None, ncol=5)"
   ]
  },
  {
   "cell_type": "markdown",
   "metadata": {},
   "source": [
    "The more profit-focused (higher $\\alpha$) banks tend to offer seemingly 'riskier' contracts which concentrate repayment in the last period.  In this case at very high $\\alpha$ the consumer actually is a net borrower in period 0 and 1 and faces heavy repayment in period 2.\n",
    "\n",
    "One interpretation:  Sophisticated consumer knows that a bank that offers a smoothed consumption (balanced repayment) profile will approach their later self to opportunistically offer a new loan which will impose a heavy repayment in the last period. The consumer balks and then only agrees to a contract that the bank can credibly commit to not renegotiate, one that limits the amount of  period 1 self's "
   ]
  },
  {
   "cell_type": "code",
   "execution_count": 47,
   "metadata": {
    "collapsed": false
   },
   "outputs": [
    {
     "data": {
      "text/plain": [
       "<matplotlib.legend.Legend at 0x8319c50>"
      ]
     },
     "execution_count": 47,
     "metadata": {},
     "output_type": "execute_result"
    },
    {
     "data": {
      "image/png": "[encoded data removed]",
      "text/plain": [
       "<matplotlib.figure.Figure at 0x8270710>"
      ]
     },
     "metadata": {},
     "output_type": "display_data"
    }
   ],
   "source": [
    "#plot(alphs,cMRP[0,:],label='$c_{0}$')\n",
    "fig = plt.figure()\n",
    "plt.plot(alphs,cMRP[1,:],'--',label='$c_{1}$')\n",
    "plt.plot(alphs,cMRP[2,:],label='$c_{2}$')\n",
    "plt.title('Consumption profile as a function of alpha')\n",
    "plt.legend(loc='upper center', bbox_to_anchor=(0.5, -0.05),\n",
    "          fancybox=None, ncol=5)"
   ]
  },
  {
   "cell_type": "code",
   "execution_count": 48,
   "metadata": {
    "collapsed": false
   },
   "outputs": [
    {
     "data": {
      "image/png": "[encoded data removed]",
      "text/plain": [
       "<matplotlib.figure.Figure at 0x8430128>"
      ]
     },
     "metadata": {},
     "output_type": "display_data"
    }
   ],
   "source": [
    "fig = plt.figure()\n",
    "plt.plot(alphs,cMRP[0,:]-y[0],label='$-c_{0}$')\n",
    "plt.plot(alphs,y[1]-cMRP[1,:],'--',label=' $c_{1}$')\n",
    "plt.plot(alphs,y[2]-cMRP[2,:],label='$c_{2}$')\n",
    "plt.title('Period 0 Loan, repayment')\n",
    "plt.legend(loc='upper center', bbox_to_anchor=(0.5, 0.0),\n",
    "          fancybox=None, ncol=5)\n",
    "plt.gca().spines['bottom'].set_position(('data',0))"
   ]
  },
  {
   "cell_type": "markdown",
   "metadata": {},
   "source": [
    "**Loan, repayment and Profit breakdown by periods as function of alpha**"
   ]
  },
  {
   "cell_type": "code",
   "execution_count": 50,
   "metadata": {
    "collapsed": false
   },
   "outputs": [
    {
     "name": "stdout",
     "output_type": "stream",
     "text": [
      "alpha      c0     c1    c2        profit = (y0-cMRP0) + (y1-cMRP1) + (y2-cMRP2)\n",
      "-------------------------------------------------------------------------------\n",
      " 0.50:   119.86  88.54 88.54,       3.05 =   -19.86   +    11.46   +    11.46   \n",
      " 0.56:   119.89  88.96 88.10,       3.05 =   -19.89   +    11.04   +    11.90   \n",
      " 0.61:   119.94  89.78 87.25,       3.04 =   -19.94   +    10.22   +    12.75   \n",
      " 0.67:   119.99  90.67 86.34,       3.00 =   -19.99   +     9.33   +    13.66   \n",
      " 0.72:   120.05  91.64 85.36,       2.95 =   -20.05   +     8.36   +    14.64   \n",
      " 0.78:   120.12  92.73 84.29,       2.86 =   -20.12   +     7.27   +    15.71   \n",
      " 0.83:   120.19  93.99 83.09,       2.74 =   -20.19   +     6.01   +    16.91   \n",
      " 0.89:   120.28  95.49 81.68,       2.54 =   -20.28   +     4.51   +    18.32   \n",
      " 0.94:   120.40  97.49 79.89,       2.22 =   -20.40   +     2.51   +    20.11   \n",
      " 1.00:   120.84 102.39 75.64,       1.13 =   -20.84   +    -2.39   +    24.36   \n",
      "\n"
     ]
    }
   ],
   "source": [
    "print(\"alpha      c0     c1    c2        profit = (y0-cMRP0) + (y1-cMRP1) + (y2-cMRP2)\")\n",
    "print(\"-\"*79)\n",
    "for i,a in enumerate(alphs):\n",
    "    print(\"{:5.2f}:   {:6.2f} {:6.2f} {:5.2f},   {:8.2f} = {:8.2f}   + {:8.2f}   + {:8.2f}   \"\n",
    "          .format(a, cMRP[0,i], cMRP[1,i], cMRP[2,i],profitRP[i],y[0]-cMRP[0,i],y[1]-cMRP[1,i],y[2]-cMRP[2,i],))\n",
    "print()"
   ]
  },
  {
   "cell_type": "markdown",
   "metadata": {
    "collapsed": false
   },
   "source": [
    "The inability to commit means the renegotiation proof contract doesn't smooth consumption very well for the consumer.  This ends up hurting the bank, since they must now 'compensate' the consumer for the higher variance of consumption if the participation constraint is still to be met.  "
   ]
  },
  {
   "cell_type": "markdown",
   "metadata": {},
   "source": [
    "The code that follows produces a grid of subplots to illustrate how the results (the relation between $\\alpha$ and retained profits) depends on the initial y vector, which in turn also determines whether this will be borrowing or saving.  "
   ]
  },
  {
   "cell_type": "markdown",
   "metadata": {},
   "source": [
    "##The role of y\n",
    "###Captured profits and net saving as function of $\\alpha$"
   ]
  },
  {
   "cell_type": "code",
   "execution_count": 23,
   "metadata": {
    "collapsed": false
   },
   "outputs": [
    {
     "name": "stdout",
     "output_type": "stream",
     "text": [
      "Left: captured profits (shaded = NP dominates). Right: net saving in each period as function of α :\n"
     ]
    },
    {
     "data": {
      "image/png": "[encoded data removed]",
      "text/plain": [
       "<matplotlib.figure.Figure at 0x9dcb198>"
      ]
     },
     "metadata": {},
     "output_type": "display_data"
    }
   ],
   "source": [
    "print(\"Left: captured profits (shaded = NP dominates). Right: net saving in each period as function of α :\")\n",
    "num_pts  = 21\n",
    "alphs    = np.linspace(0,1,num_pts)       # iterate over different alphas\n",
    "C        = 4*(np.ones(num_pts)-alphs)     # h(alpha)/alpha  or cost of renegotiaton\n",
    "cMRP     = np.zeros((3,num_pts))             # to store (c0,c1,c2) for each alpha\n",
    "profitRP = np.zeros(num_pts)\n",
    "NprofitRP= np.zeros(num_pts)\n",
    "\n",
    "fig, ax = plt.subplots(10,sharex=True)\n",
    "numy0 = 3     # rows of subplots\n",
    "ax = plt.subplot(numy0,2,1)\n",
    "\n",
    "# Vary y contracts (maintaining PV at 300 in zero interest rate setting)\n",
    "for j in range(1, numy0 + 1):\n",
    "    y0 = 70 + j*20\n",
    "    y = np.array([y0,100,100])            \n",
    "    y = np.array([y0,(300-y0)/2,(300-y0)/2])   \n",
    "          \n",
    "    ax1 = plt.subplot(numy0, 2, j*2-1, sharex=ax)  \n",
    "    for i in range(0, num_pts):\n",
    "        cM.kappa = C[i]             # change reneg cost  \n",
    "        cM.y = y\n",
    "        cMRP[:,i]    = cM.reneg_proof().x \n",
    "        cM.guess     = cMRP[:,i]         # store sol as guess for next search\n",
    "        profitRP[i]  = cM.profit(cMRP[:,i], y)\n",
    "        NprofitRP[i] = alphs[i]*cM.profit(cMRP[:,i], y)\n",
    "       #print(\"alph:{0:4.2f} profitRP:{1:5.2f} \".format(alphs[i],cM.profit(cMRP[:,i],y)))\n",
    "        \n",
    "    #ax.set_ylim([0, cM.profit(cMF,y)*1.2])\n",
    "    \n",
    "    profitRP_full = profitRP[num_pts-1]*np.ones(num_pts) \n",
    "    ax1.set_title(r'$y=( %2.0f, %2.0f, %2.0f)$' %(y0,y[1],y[2]))\n",
    "    ax1.plot(alphs, profitRP)\n",
    "    ax1.plot(alphs, NprofitRP)\n",
    "    ax1.fill_between(alphs, np.fmax(NprofitRP, np.fmax(np.zeros(num_pts),profitRP_full)), np.fmax(profitRP_full,np.zeros(num_pts)))\n",
    "    ax1.plot(alphs, np.zeros(num_pts))\n",
    "    plt.grid()\n",
    "    \n",
    "    ax2 = plt.subplot(numy0,2,j*2,sharex=ax, sharey=ax)    # Plot contract terms in right column plot\n",
    "    #ax1.set_ylim([0, 25])\n",
    "    ax2.plot(alphs, y0 - cMRP[0,:],\"d--\")\n",
    "    ax2.plot(alphs, y[1] - cMRP[1,:])\n",
    "    ax2.plot(alphs, y[2] - cMRP[2,:],\"x-\")\n",
    "    ax2.axhline(y=0, color ='k')\n",
    "    #ax2.plot(alphs, y[0]*np.ones(num_pts))\n",
    "    #ax2.plot(alphs, y[1]*np.ones(num_pts))\n",
    "    plt.grid()    \n",
    "plt.tight_layout()\n",
    "plt.show()    "
   ]
  },
  {
   "cell_type": "code",
   "execution_count": 24,
   "metadata": {
    "collapsed": false
   },
   "outputs": [],
   "source": [
    "plt.close('all')"
   ]
  },
  {
   "cell_type": "markdown",
   "metadata": {},
   "source": [
    "**INTERPRETATION**: The left column of plots above shows renegotiation-proof profits as a function of $\\alpha$ where $\\alpha$ affects both the share of profits that are captured as well as the cost of renegotiation as described above.  The blue shaded area indicates where commercial non-profits (that choose an $\\alpha <1$) capture more profit than a pure for-profit. \n",
    "\n",
    "The right column of plots shows the terms of the associated contract displayed as 'net savings' (y0-c0), (y1-c1), and (y2-c2).  When these are positive the client is saving or repaying, when negative they are borrowing.\n",
    "\n",
    "When we keep the PV of y constant but change the ratio of period zero income y0 to later period income, y vectors that lead to borrowing (lower y0, higher y1,y2) deliver higher full-commitment (and renegotiation-proof) profits at any level of alpha. \n",
    "\n",
    "Since most of the profits are in the 0 to 1 period, they weigh more heavily in total profits.  Turning non-profit is only attractive at relatively high values of alpha (since at lower alpha they're forfeiting the period 0-1 profits). At higher y0 (tilted more toward savings) full commitment (and renegotiation-proof) profits are lower The pattern seems to be that as we move toward first period savings..."
   ]
  },
  {
   "cell_type": "code",
   "execution_count": null,
   "metadata": {
    "collapsed": true
   },
   "outputs": [],
   "source": []
  },
  {
   "cell_type": "code",
   "execution_count": null,
   "metadata": {
    "collapsed": true
   },
   "outputs": [],
   "source": []
  },
  {
   "cell_type": "markdown",
   "metadata": {},
   "source": [
    "### UNFINISHED explorations\n",
    "####Pofitability as a function of y0"
   ]
  },
  {
   "cell_type": "code",
   "execution_count": 25,
   "metadata": {
    "collapsed": false
   },
   "outputs": [],
   "source": [
    "cM.kappa = 0"
   ]
  },
  {
   "cell_type": "code",
   "execution_count": 26,
   "metadata": {
    "collapsed": false
   },
   "outputs": [
    {
     "ename": "NameError",
     "evalue": "name 'zeros' is not defined",
     "output_type": "error",
     "traceback": [
      "\u001b[1;31m---------------------------------------------------------------------------\u001b[0m",
      "\u001b[1;31mNameError\u001b[0m                                 Traceback (most recent call last)",
      "\u001b[1;32m<ipython-input-26-c98ecace9afe>\u001b[0m in \u001b[0;36m<module>\u001b[1;34m()\u001b[0m\n\u001b[0;32m      5\u001b[0m \u001b[0mY0\u001b[0m \u001b[1;33m=\u001b[0m \u001b[0mrange\u001b[0m\u001b[1;33m(\u001b[0m\u001b[0my0_start\u001b[0m\u001b[1;33m,\u001b[0m\u001b[0my0_end\u001b[0m\u001b[1;33m,\u001b[0m\u001b[0my0_step\u001b[0m\u001b[1;33m)\u001b[0m\u001b[1;33m\u001b[0m\u001b[0m\n\u001b[0;32m      6\u001b[0m \u001b[0mn\u001b[0m \u001b[1;33m=\u001b[0m \u001b[0mlen\u001b[0m\u001b[1;33m(\u001b[0m\u001b[0mY0\u001b[0m\u001b[1;33m)\u001b[0m\u001b[1;33m\u001b[0m\u001b[0m\n\u001b[1;32m----> 7\u001b[1;33m \u001b[0mprofity0\u001b[0m \u001b[1;33m=\u001b[0m \u001b[0mzeros\u001b[0m\u001b[1;33m(\u001b[0m\u001b[0mn\u001b[0m\u001b[1;33m)\u001b[0m\u001b[1;33m\u001b[0m\u001b[0m\n\u001b[0m\u001b[0;32m      8\u001b[0m \u001b[0mprofity0B\u001b[0m \u001b[1;33m=\u001b[0m \u001b[0mzeros\u001b[0m\u001b[1;33m(\u001b[0m\u001b[0mn\u001b[0m\u001b[1;33m)\u001b[0m\u001b[1;33m\u001b[0m\u001b[0m\n\u001b[0;32m      9\u001b[0m \u001b[0mi\u001b[0m\u001b[1;33m=\u001b[0m\u001b[1;36m0\u001b[0m\u001b[1;33m\u001b[0m\u001b[0m\n",
      "\u001b[1;31mNameError\u001b[0m: name 'zeros' is not defined"
     ]
    }
   ],
   "source": [
    "PDV =300\n",
    "y0_step = 2\n",
    "y0_start = 50\n",
    "y0_end = PDV -50\n",
    "Y0 = range(y0_start,y0_end,y0_step)\n",
    "n = len(Y0)\n",
    "profity0 = zeros(n)\n",
    "profity0B = zeros(n)\n",
    "i=0\n",
    "\n",
    "for y0 in Y0:  \n",
    "    ybar = (PDV-y0)/2\n",
    "    cM.y =([y0,ybar,ybar])\n",
    "    cMF = cM.fcommit()\n",
    "    cMRP = cM.reneg_proof().x\n",
    "    cM.guess = cMRP\n",
    "    profity0[i] = cM.profit(cMRP,cM.y)\n",
    "    profity0B[i] = cM.profit(cMF,cM.y)\n",
    "    \n",
    "    i += 1"
   ]
  },
  {
   "cell_type": "code",
   "execution_count": null,
   "metadata": {
    "collapsed": false
   },
   "outputs": [],
   "source": [
    "plt.plot(profity0,Y0,'b-',label=\"reneg. proof\")\n",
    "plt.plot(profity0B,Y0,'r',label=\"full commit\")\n",
    "plt.xlim([-2,6])\n",
    "plt.ylim([80,160])c\n",
    "\n",
    "plt.title(\"Profits as a function of y0\")\n",
    "plt.xlabel(\"profits $\\pi$\")\n",
    "plt.ylabel(\"y0\")\n",
    "plt.legend(loc='center right')\n",
    "plt.grid()\n",
    "plt.axvline()"
   ]
  },
  {
   "cell_type": "markdown",
   "metadata": {},
   "source": [
    "## Modifications when consumer has a home savings option##\n",
    "The above ana"
   ]
  },
  {
   "cell_type": "code",
   "execution_count": null,
   "metadata": {
    "collapsed": false
   },
   "outputs": [],
   "source": [
    "cM.kappa =0\n",
    "cM.guess = cMF\n",
    "cMRP = cM.reneg_proof()\n",
    "cMRP.x"
   ]
  },
  {
   "cell_type": "code",
   "execution_count": null,
   "metadata": {
    "collapsed": false
   },
   "outputs": [],
   "source": [
    "plot(alphs,C)"
   ]
  },
  {
   "cell_type": "code",
   "execution_count": null,
   "metadata": {
    "collapsed": false
   },
   "outputs": [],
   "source": [
    "# Three subplots sharing both x/y axes\n",
    "f, (ax1, ax2, ax3) = plt.subplots(3, sharex=True, sharey=True)\n",
    "ax1.plot(alphs, profitRP)\n",
    "ax1.plot(alphs, NprofitRP)\n",
    "ax1.plot(alphs,cM.profit(cMF,y)*ones(num_pts))\n",
    "ax1.grid(True)\n",
    "ax1.set_title('Sharing both axes')\n",
    "ax2.plot(alphs, NprofitRP)\n",
    "ax3.plot(alphs,cM.profit(cMF,y)*ones(num_pts))\n",
    "show()"
   ]
  },
  {
   "cell_type": "markdown",
   "metadata": {},
   "source": [
    "## Other Results"
   ]
  },
  {
   "cell_type": "markdown",
   "metadata": {},
   "source": [
    "### $\\beta$ and loan size"
   ]
  },
  {
   "cell_type": "markdown",
   "metadata": {},
   "source": [
    "Let's plot the the relationship between period 0 loan size in a full-commitment contract and the extent of present-bias captured by $\\beta$"
   ]
  },
  {
   "cell_type": "code",
   "execution_count": null,
   "metadata": {
    "collapsed": false
   },
   "outputs": [],
   "source": [
    "cM.y"
   ]
  },
  {
   "cell_type": "code",
   "execution_count": 27,
   "metadata": {
    "collapsed": false
   },
   "outputs": [
    {
     "data": {
      "image/png": "[encoded data removed]",
      "text/plain": [
       "<matplotlib.figure.Figure at 0x831c160>"
      ]
     },
     "metadata": {},
     "output_type": "display_data"
    }
   ],
   "source": [
    "cM = Contract.Monopoly(0.75)               # create an instance m\n",
    "cM.y=[140,80,80]\n",
    "num_pts = 21\n",
    "betas = np.linspace(0.1,1,num_pts)           # iterate over different values of beta\n",
    "CMF = np.zeros((3,num_pts))                  # a three row matrix to store (c0,c1,c2) for each beta\n",
    "\n",
    "for i in range(0,num_pts):\n",
    "    cM.beta = betas[i]                    # change beta before recalculating optimal contract\n",
    "    CMF[:,i] = cM.fcommit()       \n",
    "\n",
    "loan   = CMF[0,:] #- cM.y[0]               # save results for plotting\n",
    "repay1 = CMF[1,:] #- cM.y[1]\n",
    "repay2 = CMF[2,:] #- cM.y[2]\n",
    "\n",
    "\n",
    "plt.plot(betas,loan,'--')                          # plot    \n",
    "plt.plot(betas,repay1)\n",
    "plt.plot(betas,repay2)\n",
    "plt.grid()\n",
    "plt.title('Monopoly full commitment contract: Net loan size and $\\\\beta$')\n",
    "plt.xlabel('beta')\n",
    "plt.ylabel('net repayment')\n",
    "plt.legend(['loan','repay1','repay2'])\n",
    "plt.savefig(r'figs\\LoanVsBeta.pdf',format='pdf')"
   ]
  },
  {
   "cell_type": "markdown",
   "metadata": {},
   "source": [
    "### Example full commitment contract (and renegotiation with a naive consumer)"
   ]
  },
  {
   "cell_type": "markdown",
   "metadata": {},
   "source": [
    "Here is an example of the full-commitment contracts a monopolist offers and the contract a monopolist and a naive consumer would renegotiate to from that same full commitment contract (but note that a intermediary who knows they are dealing with a naive consumer would bait them with a different initial contract). "
   ]
  },
  {
   "cell_type": "code",
   "execution_count": null,
   "metadata": {
    "collapsed": false
   },
   "outputs": [],
   "source": [
    "cM.beta = 0.8            # Reset to beta = 0.8 case and print out other parameters\n",
    "cM.params()"
   ]
  },
  {
   "cell_type": "code",
   "execution_count": null,
   "metadata": {
    "collapsed": false
   },
   "outputs": [],
   "source": [
    "cMF = cM.fcommit()      \n",
    "cMr = cM.reneg(cMF)       \n",
    "y = cM.y\n",
    "print '0-Discounted utility full commit: {0:4.3f}   and   Naive renegotiate: {1:4.3f}'.format(cM.PVU(cMF), cM.PVU(cMr))\n",
    "print 'Profits from full commit: {0:4.3f}   and   Naive renegotiate:{1:4.3f}'.format(cM.profit(y,cMF), cM.profit(y,cMr))"
   ]
  },
  {
   "cell_type": "markdown",
   "metadata": {},
   "source": [
    "##### Scratch play area"
   ]
  },
  {
   "cell_type": "markdown",
   "metadata": {},
   "source": [
    "#### 3D plots"
   ]
  },
  {
   "cell_type": "code",
   "execution_count": 54,
   "metadata": {
    "collapsed": false,
    "scrolled": true
   },
   "outputs": [
    {
     "data": {
      "application/javascript": [
       "/* Put everything inside the global mpl namespace */\n",
       "window.mpl = {};\n",
       "\n",
       "mpl.get_websocket_type = function() {\n",
       "    if (typeof(WebSocket) !== 'undefined') {\n",
       "        return WebSocket;\n",
       "    } else if (typeof(MozWebSocket) !== 'undefined') {\n",
       "        return MozWebSocket;\n",
       "    } else {\n",
       "        alert('Your browser does not have WebSocket support.' +\n",
       "              'Please try Chrome, Safari or Firefox ≥ 6. ' +\n",
       "              'Firefox 4 and 5 are also supported but you ' +\n",
       "              'have to enable WebSockets in about:config.');\n",
       "    };\n",
       "}\n",
       "\n",
       "mpl.figure = function(figure_id, websocket, ondownload, parent_element) {\n",
       "    this.id = figure_id;\n",
       "\n",
       "    this.ws = websocket;\n",
       "\n",
       "    this.supports_binary = (this.ws.binaryType != undefined);\n",
       "\n",
       "    if (!this.supports_binary) {\n",
       "        var warnings = document.getElementById(\"mpl-warnings\");\n",
       "        if (warnings) {\n",
       "            warnings.style.display = 'block';\n",
       "            warnings.textContent = (\n",
       "                \"This browser does not support binary websocket messages. \" +\n",
       "                    \"Performance may be slow.\");\n",
       "        }\n",
       "    }\n",
       "\n",
       "    this.imageObj = new Image();\n",
       "\n",
       "    this.context = undefined;\n",
       "    this.message = undefined;\n",
       "    this.canvas = undefined;\n",
       "    this.rubberband_canvas = undefined;\n",
       "    this.rubberband_context = undefined;\n",
       "    this.format_dropdown = undefined;\n",
       "\n",
       "    this.image_mode = 'full';\n",
       "\n",
       "    this.root = $('<div/>');\n",
       "    this._root_extra_style(this.root)\n",
       "    this.root.attr('style', 'display: inline-block');\n",
       "\n",
       "    $(parent_element).append(this.root);\n",
       "\n",
       "    this._init_header(this);\n",
       "    this._init_canvas(this);\n",
       "    this._init_toolbar(this);\n",
       "\n",
       "    var fig = this;\n",
       "\n",
       "    this.waiting = false;\n",
       "\n",
       "    this.ws.onopen =  function () {\n",
       "            fig.send_message(\"supports_binary\", {value: fig.supports_binary});\n",
       "            fig.send_message(\"send_image_mode\", {});\n",
       "            fig.send_message(\"refresh\", {});\n",
       "        }\n",
       "\n",
       "    this.imageObj.onload = function() {\n",
       "            if (fig.image_mode == 'full') {\n",
       "                // Full images could contain transparency (where diff images\n",
       "                // almost always do), so we need to clear the canvas so that\n",
       "                // there is no ghosting.\n",
       "                fig.context.clearRect(0, 0, fig.canvas.width, fig.canvas.height);\n",
       "            }\n",
       "            fig.context.drawImage(fig.imageObj, 0, 0);\n",
       "            fig.waiting = false;\n",
       "        };\n",
       "\n",
       "    this.imageObj.onunload = function() {\n",
       "        this.ws.close();\n",
       "    }\n",
       "\n",
       "    this.ws.onmessage = this._make_on_message_function(this);\n",
       "\n",
       "    this.ondownload = ondownload;\n",
       "}\n",
       "\n",
       "mpl.figure.prototype._init_header = function() {\n",
       "    var titlebar = $(\n",
       "        '<div class=\"ui-dialog-titlebar ui-widget-header ui-corner-all ' +\n",
       "        'ui-helper-clearfix\"/>');\n",
       "    var titletext = $(\n",
       "        '<div class=\"ui-dialog-title\" style=\"width: 100%; ' +\n",
       "        'text-align: center; padding: 3px;\"/>');\n",
       "    titlebar.append(titletext)\n",
       "    this.root.append(titlebar);\n",
       "    this.header = titletext[0];\n",
       "}\n",
       "\n",
       "\n",
       "\n",
       "mpl.figure.prototype._canvas_extra_style = function(canvas_div) {\n",
       "\n",
       "}\n",
       "\n",
       "\n",
       "mpl.figure.prototype._root_extra_style = function(canvas_div) {\n",
       "\n",
       "}\n",
       "\n",
       "mpl.figure.prototype._init_canvas = function() {\n",
       "    var fig = this;\n",
       "\n",
       "    var canvas_div = $('<div/>');\n",
       "\n",
       "    canvas_div.attr('style', 'position: relative; clear: both; outline: 0');\n",
       "\n",
       "    function canvas_keyboard_event(event) {\n",
       "        return fig.key_event(event, event['data']);\n",
       "    }\n",
       "\n",
       "    canvas_div.keydown('key_press', canvas_keyboard_event);\n",
       "    canvas_div.keyup('key_release', canvas_keyboard_event);\n",
       "    this.canvas_div = canvas_div\n",
       "    this._canvas_extra_style(canvas_div)\n",
       "    this.root.append(canvas_div);\n",
       "\n",
       "    var canvas = $('<canvas/>');\n",
       "    canvas.addClass('mpl-canvas');\n",
       "    canvas.attr('style', \"left: 0; top: 0; z-index: 0; outline: 0\")\n",
       "\n",
       "    this.canvas = canvas[0];\n",
       "    this.context = canvas[0].getContext(\"2d\");\n",
       "\n",
       "    var rubberband = $('<canvas/>');\n",
       "    rubberband.attr('style', \"position: absolute; left: 0; top: 0; z-index: 1;\")\n",
       "\n",
       "    var pass_mouse_events = true;\n",
       "\n",
       "    canvas_div.resizable({\n",
       "        start: function(event, ui) {\n",
       "            pass_mouse_events = false;\n",
       "        },\n",
       "        resize: function(event, ui) {\n",
       "            fig.request_resize(ui.size.width, ui.size.height);\n",
       "        },\n",
       "        stop: function(event, ui) {\n",
       "            pass_mouse_events = true;\n",
       "            fig.request_resize(ui.size.width, ui.size.height);\n",
       "        },\n",
       "    });\n",
       "\n",
       "    function mouse_event_fn(event) {\n",
       "        if (pass_mouse_events)\n",
       "            return fig.mouse_event(event, event['data']);\n",
       "    }\n",
       "\n",
       "    rubberband.mousedown('button_press', mouse_event_fn);\n",
       "    rubberband.mouseup('button_release', mouse_event_fn);\n",
       "    // Throttle sequential mouse events to 1 every 20ms.\n",
       "    rubberband.mousemove('motion_notify', mouse_event_fn);\n",
       "\n",
       "    rubberband.mouseenter('figure_enter', mouse_event_fn);\n",
       "    rubberband.mouseleave('figure_leave', mouse_event_fn);\n",
       "\n",
       "    canvas_div.on(\"wheel\", function (event) {\n",
       "        event = event.originalEvent;\n",
       "        event['data'] = 'scroll'\n",
       "        if (event.deltaY < 0) {\n",
       "            event.step = 1;\n",
       "        } else {\n",
       "            event.step = -1;\n",
       "        }\n",
       "        mouse_event_fn(event);\n",
       "    });\n",
       "\n",
       "    canvas_div.append(canvas);\n",
       "    canvas_div.append(rubberband);\n",
       "\n",
       "    this.rubberband = rubberband;\n",
       "    this.rubberband_canvas = rubberband[0];\n",
       "    this.rubberband_context = rubberband[0].getContext(\"2d\");\n",
       "    this.rubberband_context.strokeStyle = \"#000000\";\n",
       "\n",
       "    this._resize_canvas = function(width, height) {\n",
       "        // Keep the size of the canvas, canvas container, and rubber band\n",
       "        // canvas in synch.\n",
       "        canvas_div.css('width', width)\n",
       "        canvas_div.css('height', height)\n",
       "\n",
       "        canvas.attr('width', width);\n",
       "        canvas.attr('height', height);\n",
       "\n",
       "        rubberband.attr('width', width);\n",
       "        rubberband.attr('height', height);\n",
       "    }\n",
       "\n",
       "    // Set the figure to an initial 600x600px, this will subsequently be updated\n",
       "    // upon first draw.\n",
       "    this._resize_canvas(600, 600);\n",
       "\n",
       "    // Disable right mouse context menu.\n",
       "    $(this.rubberband_canvas).bind(\"contextmenu\",function(e){\n",
       "        return false;\n",
       "    });\n",
       "\n",
       "    function set_focus () {\n",
       "        canvas.focus();\n",
       "        canvas_div.focus();\n",
       "    }\n",
       "\n",
       "    window.setTimeout(set_focus, 100);\n",
       "}\n",
       "\n",
       "mpl.figure.prototype._init_toolbar = function() {\n",
       "    var fig = this;\n",
       "\n",
       "    var nav_element = $('<div/>')\n",
       "    nav_element.attr('style', 'width: 100%');\n",
       "    this.root.append(nav_element);\n",
       "\n",
       "    // Define a callback function for later on.\n",
       "    function toolbar_event(event) {\n",
       "        return fig.toolbar_button_onclick(event['data']);\n",
       "    }\n",
       "    function toolbar_mouse_event(event) {\n",
       "        return fig.toolbar_button_onmouseover(event['data']);\n",
       "    }\n",
       "\n",
       "    for(var toolbar_ind in mpl.toolbar_items) {\n",
       "        var name = mpl.toolbar_items[toolbar_ind][0];\n",
       "        var tooltip = mpl.toolbar_items[toolbar_ind][1];\n",
       "        var image = mpl.toolbar_items[toolbar_ind][2];\n",
       "        var method_name = mpl.toolbar_items[toolbar_ind][3];\n",
       "\n",
       "        if (!name) {\n",
       "            // put a spacer in here.\n",
       "            continue;\n",
       "        }\n",
       "        var button = $('<button/>');\n",
       "        button.addClass('ui-button ui-widget ui-state-default ui-corner-all ' +\n",
       "                        'ui-button-icon-only');\n",
       "        button.attr('role', 'button');\n",
       "        button.attr('aria-disabled', 'false');\n",
       "        button.click(method_name, toolbar_event);\n",
       "        button.mouseover(tooltip, toolbar_mouse_event);\n",
       "\n",
       "        var icon_img = $('<span/>');\n",
       "        icon_img.addClass('ui-button-icon-primary ui-icon');\n",
       "        icon_img.addClass(image);\n",
       "        icon_img.addClass('ui-corner-all');\n",
       "\n",
       "        var tooltip_span = $('<span/>');\n",
       "        tooltip_span.addClass('ui-button-text');\n",
       "        tooltip_span.html(tooltip);\n",
       "\n",
       "        button.append(icon_img);\n",
       "        button.append(tooltip_span);\n",
       "\n",
       "        nav_element.append(button);\n",
       "    }\n",
       "\n",
       "    var fmt_picker_span = $('<span/>');\n",
       "\n",
       "    var fmt_picker = $('<select/>');\n",
       "    fmt_picker.addClass('mpl-toolbar-option ui-widget ui-widget-content');\n",
       "    fmt_picker_span.append(fmt_picker);\n",
       "    nav_element.append(fmt_picker_span);\n",
       "    this.format_dropdown = fmt_picker[0];\n",
       "\n",
       "    for (var ind in mpl.extensions) {\n",
       "        var fmt = mpl.extensions[ind];\n",
       "        var option = $(\n",
       "            '<option/>', {selected: fmt === mpl.default_extension}).html(fmt);\n",
       "        fmt_picker.append(option)\n",
       "    }\n",
       "\n",
       "    // Add hover states to the ui-buttons\n",
       "    $( \".ui-button\" ).hover(\n",
       "        function() { $(this).addClass(\"ui-state-hover\");},\n",
       "        function() { $(this).removeClass(\"ui-state-hover\");}\n",
       "    );\n",
       "\n",
       "    var status_bar = $('<span class=\"mpl-message\"/>');\n",
       "    nav_element.append(status_bar);\n",
       "    this.message = status_bar[0];\n",
       "}\n",
       "\n",
       "mpl.figure.prototype.request_resize = function(x_pixels, y_pixels) {\n",
       "    // Request matplotlib to resize the figure. Matplotlib will then trigger a resize in the client,\n",
       "    // which will in turn request a refresh of the image.\n",
       "    this.send_message('resize', {'width': x_pixels, 'height': y_pixels});\n",
       "}\n",
       "\n",
       "mpl.figure.prototype.send_message = function(type, properties) {\n",
       "    properties['type'] = type;\n",
       "    properties['figure_id'] = this.id;\n",
       "    this.ws.send(JSON.stringify(properties));\n",
       "}\n",
       "\n",
       "mpl.figure.prototype.send_draw_message = function() {\n",
       "    if (!this.waiting) {\n",
       "        this.waiting = true;\n",
       "        this.ws.send(JSON.stringify({type: \"draw\", figure_id: this.id}));\n",
       "    }\n",
       "}\n",
       "\n",
       "\n",
       "mpl.figure.prototype.handle_save = function(fig, msg) {\n",
       "    var format_dropdown = fig.format_dropdown;\n",
       "    var format = format_dropdown.options[format_dropdown.selectedIndex].value;\n",
       "    fig.ondownload(fig, format);\n",
       "}\n",
       "\n",
       "\n",
       "mpl.figure.prototype.handle_resize = function(fig, msg) {\n",
       "    var size = msg['size'];\n",
       "    if (size[0] != fig.canvas.width || size[1] != fig.canvas.height) {\n",
       "        fig._resize_canvas(size[0], size[1]);\n",
       "        fig.send_message(\"refresh\", {});\n",
       "    };\n",
       "}\n",
       "\n",
       "mpl.figure.prototype.handle_rubberband = function(fig, msg) {\n",
       "    var x0 = msg['x0'];\n",
       "    var y0 = fig.canvas.height - msg['y0'];\n",
       "    var x1 = msg['x1'];\n",
       "    var y1 = fig.canvas.height - msg['y1'];\n",
       "    x0 = Math.floor(x0) + 0.5;\n",
       "    y0 = Math.floor(y0) + 0.5;\n",
       "    x1 = Math.floor(x1) + 0.5;\n",
       "    y1 = Math.floor(y1) + 0.5;\n",
       "    var min_x = Math.min(x0, x1);\n",
       "    var min_y = Math.min(y0, y1);\n",
       "    var width = Math.abs(x1 - x0);\n",
       "    var height = Math.abs(y1 - y0);\n",
       "\n",
       "    fig.rubberband_context.clearRect(\n",
       "        0, 0, fig.canvas.width, fig.canvas.height);\n",
       "\n",
       "    fig.rubberband_context.strokeRect(min_x, min_y, width, height);\n",
       "}\n",
       "\n",
       "mpl.figure.prototype.handle_figure_label = function(fig, msg) {\n",
       "    // Updates the figure title.\n",
       "    fig.header.textContent = msg['label'];\n",
       "}\n",
       "\n",
       "mpl.figure.prototype.handle_cursor = function(fig, msg) {\n",
       "    var cursor = msg['cursor'];\n",
       "    switch(cursor)\n",
       "    {\n",
       "    case 0:\n",
       "        cursor = 'pointer';\n",
       "        break;\n",
       "    case 1:\n",
       "        cursor = 'default';\n",
       "        break;\n",
       "    case 2:\n",
       "        cursor = 'crosshair';\n",
       "        break;\n",
       "    case 3:\n",
       "        cursor = 'move';\n",
       "        break;\n",
       "    }\n",
       "    fig.rubberband_canvas.style.cursor = cursor;\n",
       "}\n",
       "\n",
       "mpl.figure.prototype.handle_message = function(fig, msg) {\n",
       "    fig.message.textContent = msg['message'];\n",
       "}\n",
       "\n",
       "mpl.figure.prototype.handle_draw = function(fig, msg) {\n",
       "    // Request the server to send over a new figure.\n",
       "    fig.send_draw_message();\n",
       "}\n",
       "\n",
       "mpl.figure.prototype.handle_image_mode = function(fig, msg) {\n",
       "    fig.image_mode = msg['mode'];\n",
       "}\n",
       "\n",
       "mpl.figure.prototype.updated_canvas_event = function() {\n",
       "    // Called whenever the canvas gets updated.\n",
       "    this.send_message(\"ack\", {});\n",
       "}\n",
       "\n",
       "// A function to construct a web socket function for onmessage handling.\n",
       "// Called in the figure constructor.\n",
       "mpl.figure.prototype._make_on_message_function = function(fig) {\n",
       "    return function socket_on_message(evt) {\n",
       "        if (evt.data instanceof Blob) {\n",
       "            /* FIXME: We get \"Resource interpreted as Image but\n",
       "             * transferred with MIME type text/plain:\" errors on\n",
       "             * Chrome.  But how to set the MIME type?  It doesn't seem\n",
       "             * to be part of the websocket stream */\n",
       "            evt.data.type = \"image/png\";\n",
       "\n",
       "            /* Free the memory for the previous frames */\n",
       "            if (fig.imageObj.src) {\n",
       "                (window.URL || window.webkitURL).revokeObjectURL(\n",
       "                    fig.imageObj.src);\n",
       "            }\n",
       "\n",
       "            fig.imageObj.src = (window.URL || window.webkitURL).createObjectURL(\n",
       "                evt.data);\n",
       "            fig.updated_canvas_event();\n",
       "            return;\n",
       "        }\n",
       "        else if (typeof evt.data === 'string' && evt.data.slice(0, 21) == \"data:image/png;base64\") {\n",
       "            fig.imageObj.src = evt.data;\n",
       "            fig.updated_canvas_event();\n",
       "            return;\n",
       "        }\n",
       "\n",
       "        var msg = JSON.parse(evt.data);\n",
       "        var msg_type = msg['type'];\n",
       "\n",
       "        // Call the  \"handle_{type}\" callback, which takes\n",
       "        // the figure and JSON message as its only arguments.\n",
       "        try {\n",
       "            var callback = fig[\"handle_\" + msg_type];\n",
       "        } catch (e) {\n",
       "            console.log(\"No handler for the '\" + msg_type + \"' message type: \", msg);\n",
       "            return;\n",
       "        }\n",
       "\n",
       "        if (callback) {\n",
       "            try {\n",
       "                // console.log(\"Handling '\" + msg_type + \"' message: \", msg);\n",
       "                callback(fig, msg);\n",
       "            } catch (e) {\n",
       "                console.log(\"Exception inside the 'handler_\" + msg_type + \"' callback:\", e, e.stack, msg);\n",
       "            }\n",
       "        }\n",
       "    };\n",
       "}\n",
       "\n",
       "// from http://stackoverflow.com/questions/1114465/getting-mouse-location-in-canvas\n",
       "mpl.findpos = function(e) {\n",
       "    //this section is from http://www.quirksmode.org/js/events_properties.html\n",
       "    var targ;\n",
       "    if (!e)\n",
       "        e = window.event;\n",
       "    if (e.target)\n",
       "        targ = e.target;\n",
       "    else if (e.srcElement)\n",
       "        targ = e.srcElement;\n",
       "    if (targ.nodeType == 3) // defeat Safari bug\n",
       "        targ = targ.parentNode;\n",
       "\n",
       "    // jQuery normalizes the pageX and pageY\n",
       "    // pageX,Y are the mouse positions relative to the document\n",
       "    // offset() returns the position of the element relative to the document\n",
       "    var x = e.pageX - $(targ).offset().left;\n",
       "    var y = e.pageY - $(targ).offset().top;\n",
       "\n",
       "    return {\"x\": x, \"y\": y};\n",
       "};\n",
       "\n",
       "mpl.figure.prototype.mouse_event = function(event, name) {\n",
       "    var canvas_pos = mpl.findpos(event)\n",
       "\n",
       "    if (name === 'button_press')\n",
       "    {\n",
       "        this.canvas.focus();\n",
       "        this.canvas_div.focus();\n",
       "    }\n",
       "\n",
       "    var x = canvas_pos.x;\n",
       "    var y = canvas_pos.y;\n",
       "\n",
       "    this.send_message(name, {x: x, y: y, button: event.button,\n",
       "                             step: event.step});\n",
       "\n",
       "    /* This prevents the web browser from automatically changing to\n",
       "     * the text insertion cursor when the button is pressed.  We want\n",
       "     * to control all of the cursor setting manually through the\n",
       "     * 'cursor' event from matplotlib */\n",
       "    event.preventDefault();\n",
       "    return false;\n",
       "}\n",
       "\n",
       "mpl.figure.prototype._key_event_extra = function(event, name) {\n",
       "    // Handle any extra behaviour associated with a key event\n",
       "}\n",
       "\n",
       "mpl.figure.prototype.key_event = function(event, name) {\n",
       "\n",
       "    // Prevent repeat events\n",
       "    if (name == 'key_press')\n",
       "    {\n",
       "        if (event.which === this._key)\n",
       "            return;\n",
       "        else\n",
       "            this._key = event.which;\n",
       "    }\n",
       "    if (name == 'key_release')\n",
       "        this._key = null;\n",
       "\n",
       "    var value = '';\n",
       "    if (event.ctrlKey && event.which != 17)\n",
       "        value += \"ctrl+\";\n",
       "    if (event.altKey && event.which != 18)\n",
       "        value += \"alt+\";\n",
       "    if (event.shiftKey && event.which != 16)\n",
       "        value += \"shift+\";\n",
       "\n",
       "    value += 'k';\n",
       "    value += event.which.toString();\n",
       "\n",
       "    this._key_event_extra(event, name);\n",
       "\n",
       "    this.send_message(name, {key: value});\n",
       "    return false;\n",
       "}\n",
       "\n",
       "mpl.figure.prototype.toolbar_button_onclick = function(name) {\n",
       "    if (name == 'download') {\n",
       "        this.handle_save(this, null);\n",
       "    } else {\n",
       "        this.send_message(\"toolbar_button\", {name: name});\n",
       "    }\n",
       "};\n",
       "\n",
       "mpl.figure.prototype.toolbar_button_onmouseover = function(tooltip) {\n",
       "    this.message.textContent = tooltip;\n",
       "};\n",
       "mpl.toolbar_items = [[\"Home\", \"Reset original view\", \"fa fa-home icon-home\", \"home\"], [\"Back\", \"Back to  previous view\", \"fa fa-arrow-left icon-arrow-left\", \"back\"], [\"Forward\", \"Forward to next view\", \"fa fa-arrow-right icon-arrow-right\", \"forward\"], [\"\", \"\", \"\", \"\"], [\"Pan\", \"Pan axes with left mouse, zoom with right\", \"fa fa-arrows icon-move\", \"pan\"], [\"Zoom\", \"Zoom to rectangle\", \"fa fa-square-o icon-check-empty\", \"zoom\"], [\"\", \"\", \"\", \"\"], [\"Download\", \"Download plot\", \"fa fa-floppy-o icon-save\", \"download\"]];\n",
       "\n",
       "mpl.extensions = [\"eps\", \"jpeg\", \"pdf\", \"png\", \"ps\", \"raw\", \"svg\", \"tif\"];\n",
       "\n",
       "mpl.default_extension = \"png\";var comm_websocket_adapter = function(comm) {\n",
       "    // Create a \"websocket\"-like object which calls the given IPython comm\n",
       "    // object with the appropriate methods. Currently this is a non binary\n",
       "    // socket, so there is still some room for performance tuning.\n",
       "    var ws = {};\n",
       "\n",
       "    ws.close = function() {\n",
       "        comm.close()\n",
       "    };\n",
       "    ws.send = function(m) {\n",
       "        //console.log('sending', m);\n",
       "        comm.send(m);\n",
       "    };\n",
       "    // Register the callback with on_msg.\n",
       "    comm.on_msg(function(msg) {\n",
       "        //console.log('receiving', msg['content']['data'], msg);\n",
       "        // Pass the mpl event to the overriden (by mpl) onmessage function.\n",
       "        ws.onmessage(msg['content']['data'])\n",
       "    });\n",
       "    return ws;\n",
       "}\n",
       "\n",
       "mpl.mpl_figure_comm = function(comm, msg) {\n",
       "    // This is the function which gets called when the mpl process\n",
       "    // starts-up an IPython Comm through the \"matplotlib\" channel.\n",
       "\n",
       "    var id = msg.content.data.id;\n",
       "    // Get hold of the div created by the display call when the Comm\n",
       "    // socket was opened in Python.\n",
       "    var element = $(\"#\" + id);\n",
       "    var ws_proxy = comm_websocket_adapter(comm)\n",
       "\n",
       "    function ondownload(figure, format) {\n",
       "        window.open(figure.imageObj.src);\n",
       "    }\n",
       "\n",
       "    var fig = new mpl.figure(id, ws_proxy,\n",
       "                           ondownload,\n",
       "                           element.get(0));\n",
       "\n",
       "    // Call onopen now - mpl needs it, as it is assuming we've passed it a real\n",
       "    // web socket which is closed, not our websocket->open comm proxy.\n",
       "    ws_proxy.onopen();\n",
       "\n",
       "    fig.parent_element = element.get(0);\n",
       "    fig.cell_info = mpl.find_output_cell(\"<div id='\" + id + \"'></div>\");\n",
       "    if (!fig.cell_info) {\n",
       "        console.error(\"Failed to find cell for figure\", id, fig);\n",
       "        return;\n",
       "    }\n",
       "\n",
       "    var output_index = fig.cell_info[2]\n",
       "    var cell = fig.cell_info[0];\n",
       "\n",
       "};\n",
       "\n",
       "mpl.figure.prototype.handle_close = function(fig, msg) {\n",
       "    // Update the output cell to use the data from the current canvas.\n",
       "    fig.push_to_output();\n",
       "    var dataURL = fig.canvas.toDataURL();\n",
       "    // Re-enable the keyboard manager in IPython - without this line, in FF,\n",
       "    // the notebook keyboard shortcuts fail.\n",
       "    IPython.keyboard_manager.enable()\n",
       "    $(fig.parent_element).html('<img src=\"' + dataURL + '\">');\n",
       "    fig.send_message('closing', {});\n",
       "    fig.ws.close()\n",
       "}\n",
       "\n",
       "mpl.figure.prototype.push_to_output = function(remove_interactive) {\n",
       "    // Turn the data on the canvas into data in the output cell.\n",
       "    var dataURL = this.canvas.toDataURL();\n",
       "    this.cell_info[1]['text/html'] = '<img src=\"' + dataURL + '\">';\n",
       "}\n",
       "\n",
       "mpl.figure.prototype.updated_canvas_event = function() {\n",
       "    // Tell IPython that the notebook contents must change.\n",
       "    IPython.notebook.set_dirty(true);\n",
       "    this.send_message(\"ack\", {});\n",
       "    var fig = this;\n",
       "    // Wait a second, then push the new image to the DOM so\n",
       "    // that it is saved nicely (might be nice to debounce this).\n",
       "    setTimeout(function () { fig.push_to_output() }, 1000);\n",
       "}\n",
       "\n",
       "mpl.figure.prototype._init_toolbar = function() {\n",
       "    var fig = this;\n",
       "\n",
       "    var nav_element = $('<div/>')\n",
       "    nav_element.attr('style', 'width: 100%');\n",
       "    this.root.append(nav_element);\n",
       "\n",
       "    // Define a callback function for later on.\n",
       "    function toolbar_event(event) {\n",
       "        return fig.toolbar_button_onclick(event['data']);\n",
       "    }\n",
       "    function toolbar_mouse_event(event) {\n",
       "        return fig.toolbar_button_onmouseover(event['data']);\n",
       "    }\n",
       "\n",
       "    for(var toolbar_ind in mpl.toolbar_items){\n",
       "        var name = mpl.toolbar_items[toolbar_ind][0];\n",
       "        var tooltip = mpl.toolbar_items[toolbar_ind][1];\n",
       "        var image = mpl.toolbar_items[toolbar_ind][2];\n",
       "        var method_name = mpl.toolbar_items[toolbar_ind][3];\n",
       "\n",
       "        if (!name) { continue; };\n",
       "\n",
       "        var button = $('<button class=\"btn btn-default\" href=\"#\" title=\"' + name + '\"><i class=\"fa ' + image + ' fa-lg\"></i></button>');\n",
       "        button.click(method_name, toolbar_event);\n",
       "        button.mouseover(tooltip, toolbar_mouse_event);\n",
       "        nav_element.append(button);\n",
       "    }\n",
       "\n",
       "    // Add the status bar.\n",
       "    var status_bar = $('<span class=\"mpl-message\" style=\"text-align:right; float: right;\"/>');\n",
       "    nav_element.append(status_bar);\n",
       "    this.message = status_bar[0];\n",
       "\n",
       "    // Add the close button to the window.\n",
       "    var buttongrp = $('<div class=\"btn-group inline pull-right\"></div>');\n",
       "    var button = $('<button class=\"btn btn-mini btn-danger\" href=\"#\" title=\"Close figure\"><i class=\"fa fa-times icon-remove icon-large\"></i></button>');\n",
       "    button.click(function (evt) { fig.handle_close(fig, {}); } );\n",
       "    button.mouseover('Close figure', toolbar_mouse_event);\n",
       "    buttongrp.append(button);\n",
       "    var titlebar = this.root.find($('.ui-dialog-titlebar'));\n",
       "    titlebar.prepend(buttongrp);\n",
       "}\n",
       "\n",
       "\n",
       "mpl.figure.prototype._canvas_extra_style = function(el){\n",
       "    // this is important to make the div 'focusable\n",
       "    el.attr('tabindex', 0)\n",
       "    // reach out to IPython and tell the keyboard manager to turn it's self\n",
       "    // off when our div gets focus\n",
       "\n",
       "    // location in version 3\n",
       "    if (IPython.notebook.keyboard_manager) {\n",
       "        IPython.notebook.keyboard_manager.register_events(el);\n",
       "    }\n",
       "    else {\n",
       "        // location in version 2\n",
       "        IPython.keyboard_manager.register_events(el);\n",
       "    }\n",
       "\n",
       "}\n",
       "\n",
       "mpl.figure.prototype._key_event_extra = function(event, name) {\n",
       "    var manager = IPython.notebook.keyboard_manager;\n",
       "    if (!manager)\n",
       "        manager = IPython.keyboard_manager;\n",
       "\n",
       "    // Check for shift+enter\n",
       "    if (event.shiftKey && event.which == 13) {\n",
       "        this.canvas_div.blur();\n",
       "        event.shiftKey = false;\n",
       "        // Send a \"J\" for go to next cell\n",
       "        event.which = 74;\n",
       "        event.keyCode = 74;\n",
       "        manager.command_mode();\n",
       "        manager.handle_keydown(event);\n",
       "    }\n",
       "}\n",
       "\n",
       "mpl.figure.prototype.handle_save = function(fig, msg) {\n",
       "    fig.ondownload(fig, null);\n",
       "}\n",
       "\n",
       "\n",
       "mpl.find_output_cell = function(html_output) {\n",
       "    // Return the cell and output element which can be found *uniquely* in the notebook.\n",
       "    // Note - this is a bit hacky, but it is done because the \"notebook_saving.Notebook\"\n",
       "    // IPython event is triggered only after the cells have been serialised, which for\n",
       "    // our purposes (turning an active figure into a static one), is too late.\n",
       "    var cells = IPython.notebook.get_cells();\n",
       "    var ncells = cells.length;\n",
       "    for (var i=0; i<ncells; i++) {\n",
       "        var cell = cells[i];\n",
       "        if (cell.cell_type === 'code'){\n",
       "            for (var j=0; j<cell.output_area.outputs.length; j++) {\n",
       "                var data = cell.output_area.outputs[j];\n",
       "                if (data.data) {\n",
       "                    // IPython >= 3 moved mimebundle to data attribute of output\n",
       "                    data = data.data;\n",
       "                }\n",
       "                if (data['text/html'] == html_output) {\n",
       "                    return [cell, data, j];\n",
       "                }\n",
       "            }\n",
       "        }\n",
       "    }\n",
       "}\n",
       "\n",
       "// Register the function which deals with the matplotlib target/channel.\n",
       "// The kernel may be null if the page has been refreshed.\n",
       "if (IPython.notebook.kernel != null) {\n",
       "    IPython.notebook.kernel.comm_manager.register_target('matplotlib', mpl.mpl_figure_comm);\n",
       "}\n"
      ],
      "text/plain": [
       "<IPython.core.display.Javascript object>"
      ]
     },
     "metadata": {},
     "output_type": "display_data"
    },
    {
     "data": {
      "text/html": [
       "<img src=\"data:image/png;base64,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\">"
      ],
      "text/plain": [
       "<IPython.core.display.HTML object>"
      ]
     },
     "metadata": {},
     "output_type": "display_data"
    },
    {
     "ename": "AttributeError",
     "evalue": "'module' object has no attribute 'coolware'",
     "output_type": "error",
     "traceback": [
      "\u001b[1;31m---------------------------------------------------------------------------\u001b[0m",
      "\u001b[1;31mAttributeError\u001b[0m                            Traceback (most recent call last)",
      "\u001b[1;32m<ipython-input-54-7c7df5cfd1f9>\u001b[0m in \u001b[0;36m<module>\u001b[1;34m()\u001b[0m\n\u001b[0;32m      6\u001b[0m \u001b[0max\u001b[0m \u001b[1;33m=\u001b[0m \u001b[0mfig\u001b[0m\u001b[1;33m.\u001b[0m\u001b[0madd_subplot\u001b[0m\u001b[1;33m(\u001b[0m\u001b[1;36m111\u001b[0m\u001b[1;33m,\u001b[0m \u001b[0mprojection\u001b[0m\u001b[1;33m=\u001b[0m\u001b[1;34m'3d'\u001b[0m\u001b[1;33m)\u001b[0m\u001b[1;33m\u001b[0m\u001b[0m\n\u001b[0;32m      7\u001b[0m \u001b[0mX\u001b[0m\u001b[1;33m,\u001b[0m \u001b[0mY\u001b[0m\u001b[1;33m,\u001b[0m \u001b[0mZ\u001b[0m \u001b[1;33m=\u001b[0m \u001b[0maxes3d\u001b[0m\u001b[1;33m.\u001b[0m\u001b[0mget_test_data\u001b[0m\u001b[1;33m(\u001b[0m\u001b[1;36m0.05\u001b[0m\u001b[1;33m)\u001b[0m\u001b[1;33m\u001b[0m\u001b[0m\n\u001b[1;32m----> 8\u001b[1;33m \u001b[0mcset\u001b[0m \u001b[1;33m=\u001b[0m \u001b[0max\u001b[0m\u001b[1;33m.\u001b[0m\u001b[0mcontour\u001b[0m\u001b[1;33m(\u001b[0m\u001b[0mX\u001b[0m\u001b[1;33m,\u001b[0m \u001b[0mY\u001b[0m\u001b[1;33m,\u001b[0m \u001b[0mZ\u001b[0m\u001b[1;33m,\u001b[0m \u001b[0mcmap\u001b[0m\u001b[1;33m=\u001b[0m\u001b[0mcm\u001b[0m\u001b[1;33m.\u001b[0m\u001b[0mcoolware\u001b[0m\u001b[1;33m)\u001b[0m\u001b[1;33m\u001b[0m\u001b[0m\n\u001b[0m\u001b[0;32m      9\u001b[0m \u001b[0max\u001b[0m\u001b[1;33m.\u001b[0m\u001b[0mclabel\u001b[0m\u001b[1;33m(\u001b[0m\u001b[0mcset\u001b[0m\u001b[1;33m,\u001b[0m \u001b[0mfontsize\u001b[0m\u001b[1;33m=\u001b[0m\u001b[1;36m9\u001b[0m\u001b[1;33m,\u001b[0m \u001b[0minline\u001b[0m\u001b[1;33m=\u001b[0m\u001b[1;36m1\u001b[0m\u001b[1;33m)\u001b[0m\u001b[1;33m\u001b[0m\u001b[0m\n\u001b[0;32m     10\u001b[0m \u001b[1;33m\u001b[0m\u001b[0m\n",
      "\u001b[1;31mAttributeError\u001b[0m: 'module' object has no attribute 'coolware'"
     ]
    }
   ],
   "source": [
    "from mpl_toolkits.mplot3d import axes3d\n",
    "import matplotlib.pyplot as plt\n",
    "from matplotlib import cm\n",
    "\n",
    "fig = plt.figure()\n",
    "ax = fig.add_subplot(111, projection='3d')\n",
    "X, Y, Z = axes3d.get_test_data(0.05)\n",
    "cset = ax.contour(X, Y, Z, cmap=cm.coolware)\n",
    "ax.clabel(cset, fontsize=9, inline=1)\n",
    "\n",
    "plt.show()"
   ]
  },
  {
   "cell_type": "code",
   "execution_count": 51,
   "metadata": {
    "collapsed": false
   },
   "outputs": [
    {
     "data": {
      "text/plain": [
       "43200"
      ]
     },
     "execution_count": 51,
     "metadata": {},
     "output_type": "execute_result"
    }
   ],
   "source": [
    "cm.cool"
   ]
  },
  {
   "cell_type": "code",
   "execution_count": 38,
   "metadata": {
    "collapsed": false
   },
   "outputs": [],
   "source": [
    "from mpl_toolkits.mplot3d import axes3d\n",
    "import matplotlib.pyplot as plt\n",
    "from matplotlib import cm"
   ]
  },
  {
   "cell_type": "code",
   "execution_count": 39,
   "metadata": {
    "collapsed": false
   },
   "outputs": [
    {
     "ename": "SyntaxError",
     "evalue": "invalid syntax (<ipython-input-39-17c1e17c7f03>, line 4)",
     "output_type": "error",
     "traceback": [
      "\u001b[1;36m  File \u001b[1;32m\"<ipython-input-39-17c1e17c7f03>\"\u001b[1;36m, line \u001b[1;32m4\u001b[0m\n\u001b[1;33m    c2 =\u001b[0m\n\u001b[1;37m          ^\u001b[0m\n\u001b[1;31mSyntaxError\u001b[0m\u001b[1;31m:\u001b[0m invalid syntax\n"
     ]
    }
   ],
   "source": [
    "fig = plt.figure()\n",
    "ax = fig.gca(projection='3d')\n",
    "c0, c1 = np.arange(0,150,1), np.arange(0,150,1)\n",
    "c2 =  \n",
    "ax.plot_surface(X, Y, Z, rstride=8, cstride=8, alpha=0.3)\n",
    "cset = ax.contour(X, Y, Z, zdir='z', offset=-100, cmap=cm.coolwarm)\n",
    "cset = ax.contour(X, Y, Z, zdir='x', offset=-40, cmap=cm.coolwarm)\n",
    "cset = ax.contour(X, Y, Z, zdir='y', offset=40, cmap=cm.coolwarm)\n",
    "\n",
    "ax.set_xlabel('X')\n",
    "ax.set_xlim(-40, 40)\n",
    "ax.set_ylabel('Y')\n",
    "ax.set_ylim(-40, 40)\n",
    "ax.set_zlabel('Z')\n",
    "ax.set_zlim(-100, 100)\n",
    "\n",
    "plt.show()\n"
   ]
  },
  {
   "cell_type": "code",
   "execution_count": 57,
   "metadata": {
    "collapsed": false
   },
   "outputs": [
    {
     "data": {
      "text/plain": [
       "array([[-30. , -29.5, -29. , ...,  28.5,  29. ,  29.5],\n",
       "       [-30. , -29.5, -29. , ...,  28.5,  29. ,  29.5],\n",
       "       [-30. , -29.5, -29. , ...,  28.5,  29. ,  29.5],\n",
       "       ..., \n",
       "       [-30. , -29.5, -29. , ...,  28.5,  29. ,  29.5],\n",
       "       [-30. , -29.5, -29. , ...,  28.5,  29. ,  29.5],\n",
       "       [-30. , -29.5, -29. , ...,  28.5,  29. ,  29.5]])"
      ]
     },
     "execution_count": 57,
     "metadata": {},
     "output_type": "execute_result"
    }
   ],
   "source": [
    "X"
   ]
  },
  {
   "cell_type": "code",
   "execution_count": 47,
   "metadata": {
    "collapsed": false
   },
   "outputs": [],
   "source": [
    "ubar = cM.PVU(cM.y,cM.beta)"
   ]
  },
  {
   "cell_type": "code",
   "execution_count": 48,
   "metadata": {
    "collapsed": false
   },
   "outputs": [
    {
     "data": {
      "text/plain": [
       "64.00988831949365"
      ]
     },
     "execution_count": 48,
     "metadata": {},
     "output_type": "execute_result"
    }
   ],
   "source": [
    "ubar"
   ]
  },
  {
   "cell_type": "code",
   "execution_count": null,
   "metadata": {
    "collapsed": true
   },
   "outputs": [],
   "source": []
  }
 ],
 "metadata": {
  "kernelspec": {
   "display_name": "Python 3",
   "language": "python",
   "name": "python3"
  },
  "language_info": {
   "codemirror_mode": {
    "name": "ipython",
    "version": 3
   },
   "file_extension": ".py",
   "mimetype": "text/x-python",
   "name": "python",
   "nbconvert_exporter": "python",
   "pygments_lexer": "ipython3",
   "version": "3.4.3"
  }
 },
 "nbformat": 4,
 "nbformat_minor": 0
}
