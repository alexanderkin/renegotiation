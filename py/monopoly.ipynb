{
 "cells": [
  {
   "cell_type": "markdown",
   "metadata": {},
   "source": [
    "# Behavioral foundation for commercial non-profits in finance\n",
    "## Monopoly contracts\n",
    "**Karna Basu and Jonathan Conning**\n",
    "\n",
    "Department of Economics\n",
    "Hunter College"
   ]
  },
  {
   "cell_type": "code",
   "execution_count": 1,
   "metadata": {
    "collapsed": false
   },
   "outputs": [
    {
     "name": "stdout",
     "output_type": "stream",
     "text": [
      "Last updated: Thu Jul 02 2015 13:37:24 \n"
     ]
    }
   ],
   "source": [
    "%reload_ext watermark\n",
    "%watermark -u -n -t "
   ]
  },
  {
   "cell_type": "markdown",
   "metadata": {},
   "source": [
    "###NOTES\n"
   ]
  },
  {
   "cell_type": "markdown",
   "metadata": {},
   "source": [
    "**Abstract:** We explore new behavioral microfoundations for a theory of 'commercial non-profits.' In the spirit of Henry Hansmann's suggestion that in low regulation environments non-profits serve as \"a crude form of consumer protection\" our theory helps understand therole and ubiquity of non-profit and 'hybrid' (e.g. for-profits owned and/or controlled to varying degrees by socially-minded investors) financial intermediaries in low income markets.  However, where Hansmann (1996) and others have focused on asymmetric information problems -- the idea that nonprofits might prevail where patrons are \"incapable of observing with any accuracy either the quantity or quality of the goods or services that the firm has contracted to provide to them\" -- we draw attention to a different problem: the firm's willingness and incentive to pander to or 'exploit' their customers' self-control problems.  This is an issue that arises even when all parties are symmetrically informed and sophisticated.\n",
    "\n",
    "Sophisticated present-biased consumers are aware of their later period selves' impulse to renegotiate (or refinance) consumption smoothing plans to achieve long-term savings or loan repayment goals.  This creates a demand for commitment contracts that restrict their later period selves' to not renegotiating carefully laid out plans.  A pure for-profit financial intermediary may find it hard to credibly commit to not offering such refinancing options at later dates because clients understand full well that the intermediary can profit by doing so.  This limits the pure for-profit firm to offering credible but costly renegotiation-proof contracts that reduce the gains to trade.  In such circumstances a commercial non-profit which has adopted a legal ownership/governance structure which places limits on the distribution of profits may be in a position to offer more attractive contracts that pure for-profits.  We show how different equilibrium market and ownership structures may emerge depending on parameters of the economic environment, and apply the insights to a discussion of the development of modern microfinance and consumer finance in history. \n",
    "\n"
   ]
  },
  {
   "cell_type": "markdown",
   "metadata": {},
   "source": [
    "This (draft of an) Ipython notebook is not the main paper.  It emphasizes only some of the elements of the paper, highlighting a few elements and extensions to the theoretical model and the python code that generates figures and simulations.  "
   ]
  },
  {
   "cell_type": "markdown",
   "metadata": {},
   "source": [
    "## The model"
   ]
  },
  {
   "cell_type": "markdown",
   "metadata": {},
   "source": [
    "The paper describes a slightly more general multi-period model but here we specialize it to a three period setting where savers-cum-borrowers have constant relative risk aversion (CRRA) utility. In any period the consumer's instantaneous utility is given by $u(c)=c^{1-ρ}/(1-ρ)$.  Over three period the agent maximizes utility\n",
    "\n",
    "$$ U(c₀,c₁,c₂)=u(c₀)+β[δu(c₁)+δ²u(c₂)]$$ \n",
    "\n",
    "The consumer has an autarky income stream ${y}=\\{y_{0},y_{1},y_{2}\\}$ which defines autarky or reservation utility $ \\overline{u} = U(y₀,y₁,y₂)$ but in general will prefer a smoother consumption profile from contracting on financial markets. "
   ]
  },
  {
   "cell_type": "markdown",
   "metadata": {},
   "source": [
    "### The Monopoly Lender's contract"
   ]
  },
  {
   "cell_type": "markdown",
   "metadata": {},
   "source": [
    "A monopoly lender (who can credibly commit to not-renegotiate contracts) offers our present-biased consumers a contract that maximizes the present value of profits\n",
    "$$\\Pi \\left( c_{0},c_{1},c_{2}\\right) =\\sum\\limits_{t=0}^{2}\\frac{\\left( y_{t}-c_{t}\\right) }{\\left( 1+r\\right) ^{t}}$$\n",
    "subject to the agent's intertemporal participation constraint\n",
    "$$u(c_{0})+\\beta \\left[ \\delta u(c_{1})+\\delta ^{2}u(c_{2})\\right] \\geq \\overline{u}$$\n",
    "\n",
    "The client may be a lender and/or a saver, depending on their initial income stream and preferred/feasible smoothed consumption stream available from contracting.  "
   ]
  },
  {
   "cell_type": "markdown",
   "metadata": {},
   "source": [
    "The first order conditions imply $u^{\\prime }(c_{o})=\\beta \\delta (1+r)u^{\\prime }(c_{1})=\\beta \\delta ^{2}(1+r)^{2}u^{\\prime }(c_{2})$. To simplify, let us assume only for presentation purposes that\n",
    "$$\\delta =\\frac{1}{1+r}$$\n",
    "With this simplification the FOC imply $u^{\\prime }(c_{1})=u^{\\prime }(c_{2})$ and hence that any optimal solution will keep the agent at constant consumption in the last two periods $c_{1}=c_{2}=\\overline{c}$.  For CRRA utility $u^{\\prime }(c)=c^{-\\rho }$ we can use the FOC to find $\\overline{c}=\\beta ^{\\frac{1}{\\rho }}c_{0}$. Substituting this into the agent's binding participation constraint then allows us to solve for \n",
    "$$c_{0}=\\left[ \\frac{\\overline{u}(1-\\rho )}{1+2\\beta ^{\\frac{1}{\\rho }} }\\right] ^{\\frac{1}{1-\\rho }}$$"
   ]
  },
  {
   "cell_type": "markdown",
   "metadata": {},
   "source": [
    "### Python implementation to solve for optimal contracts "
   ]
  },
  {
   "cell_type": "markdown",
   "metadata": {},
   "source": [
    "#### Object oriented design the parent 'Contract' class"
   ]
  },
  {
   "cell_type": "markdown",
   "metadata": {},
   "source": [
    "This ipython notebook solves for optimal contracts between a lender and a client. The python code makes use of Object oriented programming (OOP) ideas for modular design and more compact code. \n",
    "\n",
    "First we create a generic 'Contract' class that defines a few attributes (e.g. default parameters of the utility function, initial endowments, etc.) and useful methods to calculate profits, utility, etc. Later we will define MonopolyContract and CompetitiveContract as subclasses that will inherit and extend attributes and methods to solve related models. \n",
    "\n",
    "Before anything else, a few commands to import useful python libraries, and notebook settings to ake plots appear inline."
   ]
  },
  {
   "cell_type": "code",
   "execution_count": 2,
   "metadata": {
    "collapsed": false
   },
   "outputs": [],
   "source": [
    "%matplotlib inline\n",
    "import sys\n",
    "import numpy as np\n",
    "from scipy.optimize import minimize\n",
    "import matplotlib.pyplot as plt\n",
    "from matplotlib.backends.backend_pdf import PdfPages\n",
    "plt.rcParams[\"figure.figsize\"] = (10, 8)\n",
    "np.set_printoptions(precision=2)    # array printing format "
   ]
  },
  {
   "cell_type": "markdown",
   "metadata": {},
   "source": [
    "#### The Contract.Contract, Contract.Monopoly and Contract.Competitive classes"
   ]
  },
  {
   "cell_type": "markdown",
   "metadata": {
    "collapsed": false
   },
   "source": [
    "Most of the heavy-lifting code for this notebook is contained in the Contract library module **Contract** (found in the Contract.py module in the same folder as this notebook) which defines the following classes: \n",
    "\n",
    "- **Contract**:  base class where simple attributes (e.g. parameters of the utlity function, starting endowment y, etc) and methods (e.g. utility and profit functions are defined).  The next two subclasses of this class meaning that they inherit or override the attributes and methods co the base Contract class.\n",
    "- **Monopoly**: like Contract class but defines new attributes (e.g. $\\kappa$ and *guess* for solver) and methods (e.g. methods to calculate the full commitment and renegotiation proof contracts.\n",
    "- **Competitive**: like the *Monopoly* but full commtiment and renegotiation proof contracts solve differently \n",
    "\n",
    "The code for each of these class definitions can be examined by editing the file Contract.py or in Ipython by simply typing for instance\n",
    "\n",
    "Contract.Monopoly??\n",
    "\n",
    "in an Ipython cell after having imported the module. THis will open the code in a window. \n",
    "\n",
    "Let's import the entire module now:"
   ]
  },
  {
   "cell_type": "code",
   "execution_count": 5,
   "metadata": {
    "collapsed": false
   },
   "outputs": [],
   "source": [
    "import Contract"
   ]
  },
  {
   "cell_type": "code",
   "execution_count": 6,
   "metadata": {
    "collapsed": false
   },
   "outputs": [],
   "source": [
    "# Contract.Contract??     # run this to see definition of Contract class "
   ]
  },
  {
   "cell_type": "markdown",
   "metadata": {},
   "source": [
    "Let's demonstrate simple use. The following call establishes 'c' as a particular object instance of the Contract class. In this example we then initialize $\\beta$ explicitly for this instance. Other attributes (as the value of the income stream y are initialized to default values when c is setup since no value was specified). \n",
    "\n",
    "We then call on the print_params method to print out a summary of properties (parameters) of this specific contract c."
   ]
  },
  {
   "cell_type": "code",
   "execution_count": 6,
   "metadata": {
    "collapsed": false
   },
   "outputs": [
    {
     "name": "stdout",
     "output_type": "stream",
     "text": [
      "beta    : 0.7\n",
      "delta   : 1.0\n",
      "r       : 0.0\n",
      "rho     : 0.95\n",
      "y       : [100 100 100]\n"
     ]
    }
   ],
   "source": [
    "c = Contract.Contract(beta = 0.7)\n",
    "c.print_params()"
   ]
  },
  {
   "cell_type": "markdown",
   "metadata": {},
   "source": [
    "Let's plot an indifference curve in c1-c2 space.  For example if the agent in autarky has income $\\{y_{0},y_{1},y_{2}\\}$ and no access to saving or borrowing then (from period 0 self's perspective) entering period 1 they have reservation utility $u(y_{1})+\\delta u(y_{2})=\\overline{u}_{0}$.  But when period 1 rolls around their preferences change. From period 1 self's perspective they have reservation utility $u(y_{1})+\\beta \\delta u(y_{2})=\\overline{u}_{1}$.  "
   ]
  },
  {
   "cell_type": "markdown",
   "metadata": {},
   "source": [
    "### Monopoly contracts"
   ]
  },
  {
   "cell_type": "markdown",
   "metadata": {},
   "source": [
    "The contract class defines a generic contract which holds consumption stream objects of the form $\\left( c_{0},c_{1},c_{2}\\right)$ and allows a few manipulations.  Now comes the job of solving for optimal contracts and we do this with a 'monopoly contract' or mon__contract class which inherits the attributes and methods of the more generic contract class and then adds a few methods such as calculating the optimal contract full commitment and renegotiation-proof contracts in the monopoly lender case.\n"
   ]
  },
  {
   "cell_type": "markdown",
   "metadata": {},
   "source": [
    "#### Full-commitment contracts"
   ]
  },
  {
   "cell_type": "markdown",
   "metadata": {},
   "source": [
    "When the monopolist can commit to not-renegotiating the contract (i.e. to not pandering to the period-1 self's desire to renegotiate period-0's contract) it searches for the contract that solves\n",
    "\n",
    "$$\\max \\ (y_{0}-c_{0})+\\frac{(y_{1}-c_{1})}{(1+r)}+\\frac{(y_{2}-c_{2})}{(1+r)^{2}}$$\n",
    "subject to the participation constraint\n",
    "$$u\\left( c_{0}\\right) +\\beta \\left[ \\delta u\\left( c_{1}\\right) +\\delta ^{2}u\\left( c_{2}\\right) \\right] \\geq u\\left( y_{0}\\right) +\\beta \\left[ \\delta u\\left( y_{1}\\right) +\\delta ^{2}u\\left( y_{2}\\right) \\right] $$\n",
    "When $\\delta =\\frac{1}{(1+r)}$ for the CRRA case an optimum will set $c_{1}=c_{2}=\\overline{c}$ and $\\overline{c}=\\beta ^{\\frac{1}{\\rho }}c_{0}$ from which a closed form solution can be easily found (see fcommit() function below for formulas).\n",
    "\n",
    "**Note** that we are here assuming that the consumer has no choice but to consume their income stream $y$ under autarky.  This would be true if the agent does not have acess to any 'own savings' technologies.  Later below we see how things change only slightly when we allow them to use own savings to create a slightly more smooth autarky consumption stream (not perfectly smooth because they cannot overcome their self-control problems on their own)."
   ]
  },
  {
   "cell_type": "markdown",
   "metadata": {},
   "source": [
    "#### Renegotiaton-proof contracts"
   ]
  },
  {
   "cell_type": "markdown",
   "metadata": {},
   "source": [
    "The agent's period-1-self's preferences differ from those of his period 0 self so they will often want to renegotiate any contract their period 0 self contracted, and the bank can profit from this renegotiation so long as its renegotiaton cost $\\kappa $ is low.   In particular if the period-0-self agreed to contract $\\left( \\bar{c}_{0},\\bar{c}_{1},\\bar{c}_{2}\\right) $ a monopolist would offer to renegotiate the remaining $(\\bar{c}_{1},\\bar{c}_{2})$ to contract $\\left( c_{1}^{r},c_{2}^{r}\\right) $ chosen to maximize\n",
    "$$\\max \\ \\ (y_{1}-c_{1})+\\frac{(y_{2}-c_{2})}{(1+r)}$$\n",
    "$$s.t.\\ \\ \\ \\ \\ u(c_{1})+\\beta \\delta u(c_{2})\\geq u(\\bar{c}_{1})+\\beta \\delta u(\\bar{c}_{2})$$\n",
    "We can show from the agent's first order conditions for the CRRA case that a renegotiated contract will always satisfy $c_{2}=\\beta ^{\\frac{1}{\\rho }}c_{1}$ and indeed for CRRA we get the closed form:\n",
    "$$c_{1}^{r}(\\bar{c}_{1},\\bar{c}_{2})=\\left[ \\frac{\\overline{u}(\\bar{c}_{1},\\bar{c}_{2})(1-\\rho )}{1+\\delta \\beta ^{\\frac{1}{\\rho }}}\\right] ^{\\frac{1}{1-\\rho }}$$\n",
    "\n",
    "and $c_{2}^{r}(\\bar{c}_{1},\\bar{c}_{2})=\\beta ^{\\frac{1}{\\rho }}c_{1}^{r}(\\bar{c}_{1},\\bar{c}_{2})$.  See the reneg(c) function.\n",
    "\n",
    "A sophisticated present-biased consumer anticipates that this type of renegotiation may happen and will only agree to renegotiation-proof contracts that do not renegotiate to favor their period 1 selves.  The profit-maximizing renegotiation-proof contract solves\n",
    "\n",
    "\n",
    "$$\\max_{c_{0},c_{1},c_{2}}\\Pi \\left( c_{0},c_{1},c_{2}\\right) $$\n",
    "$$U(c_{0},c_{1},c_{2})\\geq U_{0}(y_{0},y_{1},y_{2})$$\n",
    "$$\\Pi \\left( c_{1}^{r},c_{2}^{r}\\right) -\\Pi \\left( c_{1},c_{2}\\right) \\leq \\overline{\\kappa }$$\n",
    "The first constraint is the period 0 self's participation constraint and the second is the no-renegotiation proof constraint that the bank not find it profitable to offer to renegotiate to the contract that period-1 self will demand."
   ]
  },
  {
   "cell_type": "markdown",
   "metadata": {},
   "source": [
    "Let's create an object instance which we will call cM, printout the parameters associated with this instance and then run a few checks to make sure the cM.reneg function works right:"
   ]
  },
  {
   "cell_type": "code",
   "execution_count": 7,
   "metadata": {
    "collapsed": false
   },
   "outputs": [
    {
     "name": "stdout",
     "output_type": "stream",
     "text": [
      "beta    : 0.5\n",
      "delta   : 1.0\n",
      "guess   : [100 100 100]\n",
      "kappa   : 0\n",
      "r       : 0.0\n",
      "rho     : 0.75\n",
      "y       : [80, 110, 110]\n"
     ]
    }
   ],
   "source": [
    "cM = Contract.Monopoly(beta = 0.5)\n",
    "cM.rho = 0.75\n",
    "cM.y = [80,110,110]\n",
    "cM.print_params()"
   ]
  },
  {
   "cell_type": "code",
   "execution_count": 8,
   "metadata": {
    "collapsed": false
   },
   "outputs": [
    {
     "name": "stdout",
     "output_type": "stream",
     "text": [
      "cMF: [ 145.46   57.73   57.73], sum: 260.9,    c0/tot: 167.3%, c1/avg: 66.4%\n",
      "cMR: [ 145.46   76.76   30.46], sum: 252.7,    c0/tot: 172.7%, c1/avg: 91.1%\n"
     ]
    }
   ],
   "source": [
    "cMF = cM.fcommit()         # the full commitment contract \n",
    "cMR = cM.reneg(cMF)        # what renegotiate to if full commitment unantipatedly undone     \n",
    "print(\"cMF: {}, sum: {:4.1f},    c0/tot: {:4.1%}, c1/avg: {:4.1%}\"\n",
    "      .format(cMF,cMF.sum(),cMF[0]/cMF.mean(), cMF[1]/cMF.mean()))\n",
    "print(\"cMR: {}, sum: {:4.1f},    c0/tot: {:4.1%}, c1/avg: {:4.1%}\"\n",
    "      .format(cMR,cMR.sum(), cMR[0]/cMR.mean(), cMR[1]/cMR.mean()))"
   ]
  },
  {
   "cell_type": "markdown",
   "metadata": {},
   "source": [
    "Note that cMR is __not__ the renegotiation-proof contract. It is what the bank would renegotiate if an accepted commitment contract were suddenly and unanticipatedly undone.  We'll solve for the renegotiation-proof contract shortly.  \n",
    "\n",
    "First let's just check that participation constraints are being met (consumer should to be pushed below their period-0 self's autarky utility under cMR):"
   ]
  },
  {
   "cell_type": "code",
   "execution_count": 9,
   "metadata": {
    "collapsed": false
   },
   "outputs": [
    {
     "name": "stdout",
     "output_type": "stream",
     "text": [
      "PVU from cMF: 24.92, from (autarky) y: 24.92, and from cMR: 24.51\n"
     ]
    }
   ],
   "source": [
    "print(\"PVU from cMF: {:4.2f}, from (autarky) y: {:4.2f}, and from cMR: {:4.2f}\"\n",
    "      .format(cM.PVU(cMF,cM.beta),cM.PVU(cM.y,cM.beta),cM.PVU(cMR,cM.beta)))"
   ]
  },
  {
   "cell_type": "markdown",
   "metadata": {},
   "source": [
    "The bank should profit from this type of opportunistic renegotiation:"
   ]
  },
  {
   "cell_type": "code",
   "execution_count": 10,
   "metadata": {
    "collapsed": false
   },
   "outputs": [
    {
     "name": "stdout",
     "output_type": "stream",
     "text": [
      "PV profits from cMF: 39.09   From cMR: 47.32\n"
     ]
    }
   ],
   "source": [
    "print(\"PV profits from cMF: {:4.2f}   From cMR: {:4.2f}\".format(cM.profit(cMF,cM.y),\n",
    "                                                                cM.profit(cMR,cM.y)))"
   ]
  },
  {
   "cell_type": "raw",
   "metadata": {},
   "source": [
    "A sophisticated consumer will however anticipate this type of opporunistic renegotiation and only agree to a renegotiation-proof contract.  "
   ]
  },
  {
   "cell_type": "code",
   "execution_count": 15,
   "metadata": {
    "collapsed": false
   },
   "outputs": [
    {
     "data": {
      "text/plain": [
       "array([ 148.83,   70.13,   44.24])"
      ]
     },
     "execution_count": 15,
     "metadata": {},
     "output_type": "execute_result"
    }
   ],
   "source": [
    "# Let's find reneg-proof contract for pure profit with zero reneg. cost\n",
    "cM.kappa =2\n",
    "cM.guess = cMF\n",
    "cMRP = cM.reneg_proof().x\n",
    "cMRP"
   ]
  },
  {
   "cell_type": "code",
   "execution_count": 16,
   "metadata": {
    "collapsed": false
   },
   "outputs": [
    {
     "name": "stdout",
     "output_type": "stream",
     "text": [
      "PV profits from full commitment cMF: 39.1, from renegotiation-proof cMRP: 36.8\n"
     ]
    }
   ],
   "source": [
    "y = cM.y\n",
    "profitRP = cM.profit(cMRP,cM.y)\n",
    "profitMF  = cM.profit(cMF,cM.y)\n",
    "print(\"PV profits from full commitment cMF: {:4.1f}, from renegotiation-proof cMRP: {:4.1f}\"\n",
    "      .format(profitMF, profitRP))"
   ]
  },
  {
   "cell_type": "code",
   "execution_count": 17,
   "metadata": {
    "collapsed": false
   },
   "outputs": [
    {
     "name": "stdout",
     "output_type": "stream",
     "text": [
      "         c0     c1    c2      profit = (y0-cMRP0)+(y1-cMRP1)+(y2-cMRP2)\n",
      "---------------------------------------------------------------------------\n",
      "y       80.00 110.00 110.00,   300.00 \n",
      "cMF    145.46  57.73 57.73,   39.09 = -65.46   +  52.27   +  52.27 ( 104.55 )\n",
      "cMRP   148.83  70.13 44.24,   36.80 = -68.83   +  39.87   +  65.76 ( 105.63 )\n"
     ]
    }
   ],
   "source": [
    "print(\"         c0     c1    c2      profit = (y0-cMRP0)+(y1-cMRP1)+(y2-cMRP2)\")\n",
    "print(\"-\"*75)\n",
    "print(\"y      {:6.2f} {:6.2f} {:5.2f},   {:6.2f} \"\n",
    "          .format(y[0], y[1], y[2], sum(y)))\n",
    "print(\"cMF    {:6.2f} {:6.2f} {:5.2f},  {:6.2f} = {:6.2f}   + {:6.2f}   + {:6.2f} ( {:5.2f} )\"\n",
    "          .format(cMF[0], cMF[1], cMF[2],profitMF,y[0]-cMF[0],\n",
    "                  y[1]-cMF[1],y[2]-cMF[2],y[1]-cMF[1]+y[2]-cMF[2]))\n",
    "print(\"cMRP   {:6.2f} {:6.2f} {:5.2f},  {:6.2f} = {:6.2f}   + {:6.2f}   + {:6.2f} ( {:5.2f} )\"\n",
    "          .format(cMRP[0], cMRP[1], cMRP[2],profitRP,y[0]-cMRP[0],\n",
    "                  y[1]-cMRP[1],y[2]-cMRP[2],y[1]-cMRP[1]+y[2]-cMRP[2] ))\n"
   ]
  },
  {
   "cell_type": "markdown",
   "metadata": {},
   "source": [
    "As expected the bank's profits are lowered due to its inability to commit to not renegotiate.\n",
    "(and at least in some scenarios it looks like larger period 0 loan, easy repayment (new refinance loan in period 1) and then heavy repayment due in the final period).\n",
    "\n",
    "    SAVED CASE: beta=0.5, rho=0.75 and y = [80,110,110]\n",
    "\n",
    "            c0     c1    c2        profit = (y0-cMRP0) + (y1-cMRP1) + (y2-cMRP2)\n",
    "    -------------------------------------------------------------------------------\n",
    "    y      130.00  85.00 85.00,     300.00 \n",
    "    cMF    145.46  57.73 57.73,      39.09 =   -15.46   +    27.27   +    27.27   \n",
    "    cMRP   152.45  84.03 33.35,      30.17 =   -22.45   +     0.97   +    51.65   \n",
    "\n",
    "\n",
    "Here's a plot."
   ]
  },
  {
   "cell_type": "markdown",
   "metadata": {},
   "source": [
    "### Plot of Monopoly full commit and reneg-proof contracts"
   ]
  },
  {
   "cell_type": "code",
   "execution_count": 18,
   "metadata": {
    "collapsed": false,
    "scrolled": true
   },
   "outputs": [
    {
     "data": {
      "image/svg+xml": [
       "<?xml version=\"1.0\" encoding=\"utf-8\" standalone=\"no\"?>\r\n",
       "<!DOCTYPE svg PUBLIC \"-//W3C//DTD SVG 1.1//EN\"\r\n",
       "  \"http://www.w3.org/Graphics/SVG/1.1/DTD/svg11.dtd\">\r\n",
       "<!-- Created with matplotlib (http://matplotlib.org/) -->\r\n",
       "<svg height=\"492pt\" version=\"1.1\" viewBox=\"0 0 617 492\" width=\"617pt\" xmlns=\"http://www.w3.org/2000/svg\" xmlns:xlink=\"http://www.w3.org/1999/xlink\">\r\n",
       " <defs>\r\n",
       "  <style type=\"text/css\">\r\n",
       "*{stroke-linecap:butt;stroke-linejoin:round;}\r\n",
       "  </style>\r\n",
       " </defs>\r\n",
       " <g id=\"figure_1\">\r\n",
       "  <g id=\"patch_1\">\r\n",
       "   <path d=\"\r\n",
       "M0 492.505\r\n",
       "L617.491 492.505\r\n",
       "L617.491 0\r\n",
       "L0 0\r\n",
       "L0 492.505\" style=\"fill:none;\"/>\r\n",
       "  </g>\r\n",
       "  <g id=\"axes_1\">\r\n",
       "   <g id=\"patch_2\">\r\n",
       "    <path d=\"\r\n",
       "M52.2909 453.6\r\n",
       "L610.291 453.6\r\n",
       "L610.291 7.2\r\n",
       "L52.2909 7.2\r\n",
       "L52.2909 453.6\" style=\"fill:none;\"/>\r\n",
       "   </g>\r\n",
       "   <g id=\"PathCollection_1\">\r\n",
       "    <defs>\r\n",
       "     <path d=\"\r\n",
       "M0 3.53553\r\n",
       "C0.937635 3.53553 1.83699 3.16301 2.5 2.5\r\n",
       "C3.16301 1.83699 3.53553 0.937635 3.53553 0\r\n",
       "C3.53553 -0.937635 3.16301 -1.83699 2.5 -2.5\r\n",
       "C1.83699 -3.16301 0.937635 -3.53553 0 -3.53553\r\n",
       "C-0.937635 -3.53553 -1.83699 -3.16301 -2.5 -2.5\r\n",
       "C-3.16301 -1.83699 -3.53553 -0.937635 -3.53553 0\r\n",
       "C-3.53553 0.937635 -3.16301 1.83699 -2.5 2.5\r\n",
       "C-1.83699 3.16301 -0.937635 3.53553 0 3.53553\r\n",
       "z\r\n",
       "\" id=\"m9bf8daa53a\" style=\"stroke:#0000ff;\"/>\r\n",
       "    </defs>\r\n",
       "    <g clip-path=\"url(#p229cb01c37)\">\r\n",
       "     <use style=\"fill:#0000ff;stroke:#0000ff;\" x=\"377.650216029\" xlink:href=\"#m9bf8daa53a\" y=\"193.31255445\"/>\r\n",
       "     <use style=\"fill:#0000ff;stroke:#0000ff;\" x=\"447.574948555\" xlink:href=\"#m9bf8daa53a\" y=\"254.117025243\"/>\r\n",
       "    </g>\r\n",
       "   </g>\r\n",
       "   <g id=\"line2d_1\">\r\n",
       "    <path clip-path=\"url(#p229cb01c37)\" d=\"\r\n",
       "M377.65 453.6\r\n",
       "L377.65 193.313\" style=\"fill:none;stroke:#000000;stroke-dasharray:1.000000,3.000000;stroke-dashoffset:0.0;\"/>\r\n",
       "   </g>\r\n",
       "   <g id=\"line2d_2\">\r\n",
       "    <path clip-path=\"url(#p229cb01c37)\" d=\"\r\n",
       "M447.575 453.6\r\n",
       "L447.575 254.117\" style=\"fill:none;stroke:#000000;stroke-dasharray:1.000000,3.000000;stroke-dashoffset:0.0;\"/>\r\n",
       "   </g>\r\n",
       "   <g id=\"line2d_3\">\r\n",
       "    <path clip-path=\"url(#p229cb01c37)\" d=\"\r\n",
       "M52.2909 193.313\r\n",
       "L377.65 193.313\" style=\"fill:none;stroke:#000000;stroke-dasharray:1.000000,3.000000;stroke-dashoffset:0.0;\"/>\r\n",
       "   </g>\r\n",
       "   <g id=\"line2d_4\">\r\n",
       "    <path clip-path=\"url(#p229cb01c37)\" d=\"\r\n",
       "M52.2909 254.117\r\n",
       "L447.575 254.117\" style=\"fill:none;stroke:#000000;stroke-dasharray:1.000000,3.000000;stroke-dashoffset:0.0;\"/>\r\n",
       "   </g>\r\n",
       "   <g id=\"line2d_5\">\r\n",
       "    <path clip-path=\"url(#p229cb01c37)\" d=\"\r\n",
       "M277.745 89.3764\r\n",
       "L308.745 127.763\r\n",
       "L339.745 160.084\r\n",
       "L370.745 187.699\r\n",
       "L401.745 211.574\r\n",
       "L432.745 232.419\r\n",
       "L463.745 250.769\r\n",
       "L494.745 267.036\r\n",
       "L525.745 281.546\r\n",
       "L556.745 294.558\r\n",
       "L587.745 306.28\r\n",
       "L618.491 316.798\" style=\"fill:none;stroke:#0000ff;stroke-linecap:square;\"/>\r\n",
       "   </g>\r\n",
       "   <g id=\"line2d_6\">\r\n",
       "    <path clip-path=\"url(#p229cb01c37)\" d=\"\r\n",
       "M277.745 -42.9589\r\n",
       "M291.656 -1\r\n",
       "L308.745 50.5481\r\n",
       "L339.745 123.772\r\n",
       "L370.745 181.996\r\n",
       "L401.745 228.858\r\n",
       "L432.745 266.944\r\n",
       "L463.745 298.143\r\n",
       "L494.745 323.865\r\n",
       "L525.745 345.183\r\n",
       "L556.745 362.928\r\n",
       "L587.745 377.748\r\n",
       "L618.491 390.058\" style=\"fill:none;stroke:#ff0000;stroke-linecap:square;\"/>\r\n",
       "   </g>\r\n",
       "   <g id=\"line2d_7\">\r\n",
       "    <path clip-path=\"url(#p229cb01c37)\" d=\"\r\n",
       "M277.745 108.386\r\n",
       "L308.745 145.239\r\n",
       "L339.745 176.235\r\n",
       "L370.745 202.689\r\n",
       "L401.745 225.535\r\n",
       "L432.745 245.461\r\n",
       "L463.745 262.985\r\n",
       "L494.745 278.505\r\n",
       "L525.745 292.334\r\n",
       "L556.745 304.722\r\n",
       "L587.745 315.873\r\n",
       "L618.491 325.868\" style=\"fill:none;stroke:#0000ff;stroke-linecap:square;\"/>\r\n",
       "   </g>\r\n",
       "   <g id=\"line2d_8\">\r\n",
       "    <path clip-path=\"url(#p229cb01c37)\" d=\"\r\n",
       "M277.745 -105.534\r\n",
       "M309.55 -1\r\n",
       "L339.745 77.508\r\n",
       "L370.745 141.904\r\n",
       "L401.745 193.987\r\n",
       "L432.745 236.527\r\n",
       "L463.745 271.554\r\n",
       "L494.745 300.584\r\n",
       "L525.745 324.777\r\n",
       "L556.745 345.028\r\n",
       "L587.745 362.042\r\n",
       "L618.491 376.26\" style=\"fill:none;stroke:#ff0000;stroke-linecap:square;\"/>\r\n",
       "   </g>\r\n",
       "   <g id=\"line2d_9\">\r\n",
       "    <path clip-path=\"url(#p229cb01c37)\" d=\"\r\n",
       "M52.2909 453.6\r\n",
       "L83.2909 428.8\r\n",
       "L114.291 404\r\n",
       "L145.291 379.2\r\n",
       "L176.291 354.4\r\n",
       "L207.291 329.6\r\n",
       "L238.291 304.8\r\n",
       "L269.291 280\r\n",
       "L300.291 255.2\r\n",
       "L331.291 230.4\r\n",
       "L362.291 205.6\r\n",
       "L393.291 180.8\r\n",
       "L424.291 156\r\n",
       "L455.291 131.2\r\n",
       "L486.291 106.4\r\n",
       "L517.291 81.6\r\n",
       "L548.291 56.8\r\n",
       "L579.291 32\r\n",
       "L610.291 7.2\r\n",
       "L618.491 0.64\" style=\"fill:none;stroke:#000000;stroke-dasharray:1.000000,3.000000;stroke-dashoffset:0.0;\"/>\r\n",
       "   </g>\r\n",
       "   <g id=\"line2d_10\">\r\n",
       "    <path clip-path=\"url(#p229cb01c37)\" d=\"\r\n",
       "M52.2909 453.6\r\n",
       "L83.2909 443.758\r\n",
       "L114.291 433.916\r\n",
       "L145.291 424.074\r\n",
       "L176.291 414.232\r\n",
       "L207.291 404.391\r\n",
       "L238.291 394.549\r\n",
       "L269.291 384.707\r\n",
       "L300.291 374.865\r\n",
       "L331.291 365.023\r\n",
       "L362.291 355.181\r\n",
       "L393.291 345.339\r\n",
       "L424.291 335.497\r\n",
       "L455.291 325.655\r\n",
       "L486.291 315.814\r\n",
       "L517.291 305.972\r\n",
       "L548.291 296.13\r\n",
       "L579.291 286.288\r\n",
       "L610.291 276.446\r\n",
       "L618.491 273.843\" style=\"fill:none;stroke:#000000;stroke-dasharray:1.000000,3.000000;stroke-dashoffset:0.0;\"/>\r\n",
       "   </g>\r\n",
       "   <g id=\"patch_3\">\r\n",
       "    <path d=\"\r\n",
       "M52.2909 453.6\r\n",
       "L610.291 453.6\" style=\"fill:none;stroke:#000000;stroke-linecap:square;stroke-linejoin:miter;\"/>\r\n",
       "   </g>\r\n",
       "   <g id=\"patch_4\">\r\n",
       "    <path d=\"\r\n",
       "M52.2909 453.6\r\n",
       "L52.2909 7.2\" style=\"fill:none;stroke:#000000;stroke-linecap:square;stroke-linejoin:miter;\"/>\r\n",
       "   </g>\r\n",
       "   <g id=\"patch_5\">\r\n",
       "    <path d=\"\r\n",
       "M610.291 453.6\r\n",
       "L610.291 7.2\" style=\"fill:none;\"/>\r\n",
       "   </g>\r\n",
       "   <g id=\"patch_6\">\r\n",
       "    <path d=\"\r\n",
       "M52.2909 7.2\r\n",
       "L610.291 7.2\" style=\"fill:none;\"/>\r\n",
       "   </g>\r\n",
       "   <g id=\"text_1\">\r\n",
       "    <!-- $F$ -->\r\n",
       "    <defs>\r\n",
       "     <path d=\"\r\n",
       "M4.6875 0\r\n",
       "Q3.71875 0 3.71875 1.3125\r\n",
       "Q3.76562 1.5625 3.90625 2.17188\r\n",
       "Q4.04688 2.78125 4.3125 3.14062\r\n",
       "Q4.59375 3.51562 4.98438 3.51562\r\n",
       "Q11.0781 3.51562 13.4844 4.20312\r\n",
       "Q14.7969 4.64062 15.375 6.89062\r\n",
       "L29.1094 61.8125\r\n",
       "Q29.2969 62.7969 29.2969 63.1875\r\n",
       "Q29.2969 64.2656 28.0781 64.4062\r\n",
       "Q26.2188 64.7969 20.9062 64.7969\r\n",
       "Q19.9219 64.7969 19.9219 66.1094\r\n",
       "Q19.9688 66.3594 20.1094 66.9688\r\n",
       "Q20.2656 67.5781 20.5312 67.9375\r\n",
       "Q20.7969 68.3125 21.1875 68.3125\r\n",
       "L74.0312 68.3125\r\n",
       "Q75 68.3125 75 67\r\n",
       "L72.6094 46.2969\r\n",
       "Q72.6094 46 72.2656 45.7031\r\n",
       "Q71.9219 45.4062 71.5781 45.4062\r\n",
       "L70.7031 45.4062\r\n",
       "Q69.6719 45.4062 69.6719 46.6875\r\n",
       "Q70.3125 51.2188 70.3125 54.1094\r\n",
       "Q70.3125 59.0781 68.1562 61.4219\r\n",
       "Q66.0156 63.7656 62.7344 64.2812\r\n",
       "Q59.4688 64.7969 53.7188 64.7969\r\n",
       "L43.0156 64.7969\r\n",
       "Q40.2812 64.7969 39.4062 64.3281\r\n",
       "Q38.5312 63.875 37.7969 61.375\r\n",
       "L31.3906 35.8906\r\n",
       "L38.9219 35.8906\r\n",
       "Q42.625 35.8906 44.9219 36.2812\r\n",
       "Q47.2188 36.6719 48.7344 37.7969\r\n",
       "Q50.25 38.9219 51.25 41.0469\r\n",
       "Q52.25 43.1719 53.0781 46.6875\r\n",
       "Q53.375 47.6094 54.1094 47.6094\r\n",
       "L54.9844 47.6094\r\n",
       "Q56 47.6094 56 46.2969\r\n",
       "L49.9062 21.5781\r\n",
       "Q49.4688 20.7031 48.875 20.7031\r\n",
       "L48 20.7031\r\n",
       "Q47.0156 20.7031 47.0156 22.0156\r\n",
       "Q47.2656 23.0469 47.4062 23.7344\r\n",
       "Q47.5625 24.4219 47.7812 25.7031\r\n",
       "Q48 27 48 27.9844\r\n",
       "Q48 30.8594 45.4531 31.6406\r\n",
       "Q42.9219 32.4219 38.8125 32.4219\r\n",
       "L30.6094 32.4219\r\n",
       "L24.125 6.5\r\n",
       "Q23.875 5.51562 23.875 5.51562\r\n",
       "Q23.875 4.34375 24.6094 4.20312\r\n",
       "Q27.2031 3.51562 34.8125 3.51562\r\n",
       "Q35.7969 3.51562 35.7969 2.20312\r\n",
       "Q35.4531 0.78125 35.25 0.390625\r\n",
       "Q35.0625 0 34.0781 0\r\n",
       "z\r\n",
       "\" id=\"Cmmi10-46\"/>\r\n",
       "    </defs>\r\n",
       "    <g transform=\"translate(372.013852392 179.785281723)scale(0.15 -0.15)\">\r\n",
       "     <use transform=\"translate(0.0 0.6875)\" xlink:href=\"#Cmmi10-46\"/>\r\n",
       "    </g>\r\n",
       "   </g>\r\n",
       "   <g id=\"text_2\">\r\n",
       "    <!-- $P$ -->\r\n",
       "    <defs>\r\n",
       "     <path d=\"\r\n",
       "M4.89062 0\r\n",
       "Q3.90625 0 3.90625 1.3125\r\n",
       "Q3.95312 1.5625 4.09375 2.17188\r\n",
       "Q4.25 2.78125 4.51562 3.14062\r\n",
       "Q4.78125 3.51562 5.17188 3.51562\r\n",
       "Q11.2812 3.51562 13.7188 4.20312\r\n",
       "Q14.9844 4.64062 15.5781 6.89062\r\n",
       "L29.2969 61.8125\r\n",
       "Q29.5 62.7969 29.5 63.1875\r\n",
       "Q29.5 64.2656 28.3281 64.4062\r\n",
       "Q26.4219 64.7969 21.0938 64.7969\r\n",
       "Q20.125 64.7969 20.125 66.1094\r\n",
       "Q20.1719 66.3594 20.3125 66.9688\r\n",
       "Q20.4531 67.5781 20.7188 67.9375\r\n",
       "Q21 68.3125 21.3906 68.3125\r\n",
       "L55.9062 68.3125\r\n",
       "Q60.6406 68.3125 65.0781 66.625\r\n",
       "Q69.5312 64.9375 72.3594 61.4688\r\n",
       "Q75.2031 58.0156 75.2031 53.0781\r\n",
       "Q75.2031 46.7344 70.7344 41.75\r\n",
       "Q66.2656 36.7656 59.5938 33.9844\r\n",
       "Q52.9375 31.2031 46.6875 31.2031\r\n",
       "L30.4219 31.2031\r\n",
       "L24.3125 6.5\r\n",
       "Q24.125 5.51562 24.125 5.07812\r\n",
       "Q24.125 4.6875 24.2344 4.42188\r\n",
       "Q24.3594 4.15625 24.5781 4.07812\r\n",
       "Q24.8125 4 25.2969 3.90625\r\n",
       "Q27.2031 3.51562 32.5156 3.51562\r\n",
       "Q33.5 3.51562 33.5 2.20312\r\n",
       "Q33.1562 0.78125 32.9531 0.390625\r\n",
       "Q32.7656 0 31.7812 0\r\n",
       "z\r\n",
       "\r\n",
       "M30.9062 34.1875\r\n",
       "L44.9219 34.1875\r\n",
       "Q54.6406 34.1875 59.7188 39.4062\r\n",
       "Q62.3125 42 63.9375 46.875\r\n",
       "Q65.5781 51.7656 65.5781 55.7188\r\n",
       "Q65.5781 60.6406 61.8125 62.7188\r\n",
       "Q58.0625 64.7969 52.4844 64.7969\r\n",
       "L42.9219 64.7969\r\n",
       "Q40.1875 64.7969 39.2969 64.3281\r\n",
       "Q38.4219 63.875 37.7031 61.375\r\n",
       "z\r\n",
       "\" id=\"Cmmi10-50\"/>\r\n",
       "    </defs>\r\n",
       "    <g transform=\"translate(430.665857646 276.662479789)scale(0.15 -0.15)\">\r\n",
       "     <use transform=\"translate(0.0 0.6875)\" xlink:href=\"#Cmmi10-50\"/>\r\n",
       "    </g>\r\n",
       "   </g>\r\n",
       "   <g id=\"text_3\">\r\n",
       "    <!-- $c^{mp}_{1}$ -->\r\n",
       "    <defs>\r\n",
       "     <path d=\"\r\n",
       "M7.71875 1.70312\r\n",
       "Q7.71875 2.29688 7.8125 2.59375\r\n",
       "L15.2812 32.4219\r\n",
       "Q16.0156 35.2031 16.0156 37.3125\r\n",
       "Q16.0156 41.6094 13.0938 41.6094\r\n",
       "Q9.96875 41.6094 8.45312 37.8594\r\n",
       "Q6.9375 34.125 5.51562 28.4219\r\n",
       "Q5.51562 28.125 5.21875 27.9531\r\n",
       "Q4.9375 27.7812 4.6875 27.7812\r\n",
       "L3.51562 27.7812\r\n",
       "Q3.17188 27.7812 2.92188 28.1406\r\n",
       "Q2.6875 28.5156 2.6875 28.8125\r\n",
       "Q3.76562 33.1562 4.76562 36.1719\r\n",
       "Q5.76562 39.2031 7.89062 41.6875\r\n",
       "Q10.0156 44.1875 13.1875 44.1875\r\n",
       "Q16.9375 44.1875 19.8125 41.8125\r\n",
       "Q22.7031 39.4531 22.7031 35.7969\r\n",
       "Q25.6875 39.7031 29.6875 41.9375\r\n",
       "Q33.6875 44.1875 38.1875 44.1875\r\n",
       "Q42.9219 44.1875 46.3594 41.7656\r\n",
       "Q49.8125 39.3594 49.8125 34.9062\r\n",
       "Q52.875 39.2656 57 41.7188\r\n",
       "Q61.1406 44.1875 66.0156 44.1875\r\n",
       "Q71.1875 44.1875 74.3281 41.375\r\n",
       "Q77.4844 38.5781 77.4844 33.4062\r\n",
       "Q77.4844 29.2969 75.6562 23.4844\r\n",
       "Q73.8281 17.6719 71.0938 10.5\r\n",
       "Q69.6719 7.03125 69.6719 4.5\r\n",
       "Q69.6719 1.51562 72.0156 1.51562\r\n",
       "Q75.9219 1.51562 78.5156 5.70312\r\n",
       "Q81.1094 9.90625 82.1719 14.7031\r\n",
       "Q82.4688 15.2812 83.0156 15.2812\r\n",
       "L84.1875 15.2812\r\n",
       "Q84.5781 15.2812 84.8438 15.0156\r\n",
       "Q85.1094 14.75 85.1094 14.4062\r\n",
       "Q85.1094 14.3125 85.0156 14.1094\r\n",
       "Q83.6406 8.45312 80.25 3.65625\r\n",
       "Q76.8594 -1.125 71.7812 -1.125\r\n",
       "Q68.2656 -1.125 65.7656 1.29688\r\n",
       "Q63.2812 3.71875 63.2812 7.17188\r\n",
       "Q63.2812 8.9375 64.1094 11.0781\r\n",
       "Q66.9375 18.6094 68.8125 24.5156\r\n",
       "Q70.7031 30.4219 70.7031 34.9062\r\n",
       "Q70.7031 37.7031 69.5781 39.6562\r\n",
       "Q68.4531 41.6094 65.8281 41.6094\r\n",
       "Q60.3594 41.6094 56.3438 38.25\r\n",
       "Q52.3438 34.9062 49.4219 29.3906\r\n",
       "Q49.2188 28.4219 49.125 27.875\r\n",
       "L42.6719 2.20312\r\n",
       "Q42.3281 0.828125 41.125 -0.140625\r\n",
       "Q39.9375 -1.125 38.4844 -1.125\r\n",
       "Q37.3125 -1.125 36.4062 -0.34375\r\n",
       "Q35.5 0.4375 35.5 1.70312\r\n",
       "Q35.5 2.29688 35.5938 2.59375\r\n",
       "L42 28.0781\r\n",
       "Q43.0156 32.1719 43.0156 34.9062\r\n",
       "Q43.0156 37.7031 41.8594 39.6562\r\n",
       "Q40.7188 41.6094 37.9844 41.6094\r\n",
       "Q34.3281 41.6094 31.25 39.9844\r\n",
       "Q28.1719 38.375 25.875 35.7188\r\n",
       "Q23.5781 33.0625 21.6875 29.3906\r\n",
       "L14.8906 2.20312\r\n",
       "Q14.5469 0.828125 13.3438 -0.140625\r\n",
       "Q12.1562 -1.125 10.6875 -1.125\r\n",
       "Q9.46875 -1.125 8.59375 -0.34375\r\n",
       "Q7.71875 0.4375 7.71875 1.70312\" id=\"Cmmi10-6d\"/>\r\n",
       "     <path d=\"\r\n",
       "M9.28125 0\r\n",
       "L9.28125 3.51562\r\n",
       "Q21.7812 3.51562 21.7812 6.6875\r\n",
       "L21.7812 59.1875\r\n",
       "Q16.6094 56.6875 8.6875 56.6875\r\n",
       "L8.6875 60.2031\r\n",
       "Q20.9531 60.2031 27.2031 66.6094\r\n",
       "L28.6094 66.6094\r\n",
       "Q28.9531 66.6094 29.2656 66.3281\r\n",
       "Q29.5938 66.0625 29.5938 65.7188\r\n",
       "L29.5938 6.6875\r\n",
       "Q29.5938 3.51562 42.0938 3.51562\r\n",
       "L42.0938 0\r\n",
       "z\r\n",
       "\" id=\"Cmr10-31\"/>\r\n",
       "     <path d=\"\r\n",
       "M11.7188 11.9219\r\n",
       "Q11.7188 7.5625 13.9375 4.53125\r\n",
       "Q16.1562 1.51562 20.3125 1.51562\r\n",
       "Q26.2656 1.51562 31.75 4.25\r\n",
       "Q37.25 6.98438 40.7188 11.8125\r\n",
       "Q41.0156 12.1094 41.5 12.1094\r\n",
       "Q42 12.1094 42.5 11.5469\r\n",
       "Q43.0156 10.9844 43.0156 10.5\r\n",
       "Q43.0156 10.1094 42.8281 9.90625\r\n",
       "Q39.1562 4.78125 32.9531 1.82812\r\n",
       "Q26.7656 -1.125 20.125 -1.125\r\n",
       "Q15.3281 -1.125 11.6719 1.14062\r\n",
       "Q8.01562 3.42188 6 7.21875\r\n",
       "Q4 11.0312 4 15.8281\r\n",
       "Q4 22.5625 7.76562 29.2031\r\n",
       "Q11.5312 35.8438 17.7812 40.0156\r\n",
       "Q24.0312 44.1875 30.9062 44.1875\r\n",
       "Q35.4062 44.1875 38.9844 42.0156\r\n",
       "Q42.5781 39.8438 42.5781 35.5938\r\n",
       "Q42.5781 32.8594 40.9844 30.9219\r\n",
       "Q39.4062 29 36.7188 29\r\n",
       "Q35.1094 29 34 30\r\n",
       "Q32.9062 31 32.9062 32.625\r\n",
       "Q32.9062 34.9688 34.6094 36.625\r\n",
       "Q36.3281 38.2812 38.625 38.2812\r\n",
       "L38.8125 38.2812\r\n",
       "Q37.6406 39.9844 35.4219 40.7969\r\n",
       "Q33.2031 41.6094 30.8125 41.6094\r\n",
       "Q24.9531 41.6094 20.5469 36.5938\r\n",
       "Q16.1562 31.5938 13.9375 24.625\r\n",
       "Q11.7188 17.6719 11.7188 11.9219\" id=\"Cmmi10-63\"/>\r\n",
       "     <path d=\"\r\n",
       "M-2.48438 -19.3906\r\n",
       "Q-3.42188 -19.3906 -3.42188 -18.1094\r\n",
       "Q-3.07812 -15.9219 -2.09375 -15.9219\r\n",
       "Q1.03125 -15.9219 2.26562 -15.3594\r\n",
       "Q3.51562 -14.7969 4.20312 -12.5\r\n",
       "L15.4844 32.5156\r\n",
       "Q16.2188 34.375 16.2188 37.3125\r\n",
       "Q16.2188 41.6094 13.2812 41.6094\r\n",
       "Q10.1562 41.6094 8.64062 37.8594\r\n",
       "Q7.125 34.125 5.71875 28.4219\r\n",
       "Q5.71875 27.7812 4.89062 27.7812\r\n",
       "L3.71875 27.7812\r\n",
       "Q3.46875 27.7812 3.17188 28.1406\r\n",
       "Q2.875 28.5156 2.875 28.8125\r\n",
       "Q3.95312 33.1562 4.95312 36.1719\r\n",
       "Q5.95312 39.2031 8.07812 41.6875\r\n",
       "Q10.2031 44.1875 13.375 44.1875\r\n",
       "Q16.7969 44.1875 19.375 42.25\r\n",
       "Q21.9688 40.3281 22.7031 37.0156\r\n",
       "Q25.4375 40.1875 28.75 42.1875\r\n",
       "Q32.0781 44.1875 35.5938 44.1875\r\n",
       "Q39.7969 44.1875 42.8906 41.9375\r\n",
       "Q46 39.7031 47.5625 36.0625\r\n",
       "Q49.125 32.4219 49.125 28.2188\r\n",
       "Q49.125 21.7812 45.8281 14.8906\r\n",
       "Q42.5312 8.01562 36.8906 3.4375\r\n",
       "Q31.25 -1.125 24.8125 -1.125\r\n",
       "Q21.875 -1.125 19.5 0.53125\r\n",
       "Q17.1406 2.20312 15.8281 4.89062\r\n",
       "L11.2812 -12.8906\r\n",
       "Q11.0312 -14.3594 10.9844 -14.5938\r\n",
       "Q10.9844 -15.9219 17.5781 -15.9219\r\n",
       "Q18.6094 -15.9219 18.6094 -17.1875\r\n",
       "Q18.2656 -18.5 18.0469 -18.9375\r\n",
       "Q17.8281 -19.3906 16.8906 -19.3906\r\n",
       "z\r\n",
       "\r\n",
       "M24.9062 1.51562\r\n",
       "Q28.375 1.51562 31.3438 4.375\r\n",
       "Q34.3281 7.23438 36.1875 10.7969\r\n",
       "Q37.5469 13.4844 38.7344 17.3594\r\n",
       "Q39.9375 21.2344 40.8125 25.625\r\n",
       "Q41.7031 30.0312 41.7031 32.625\r\n",
       "Q41.7031 34.9062 41.0938 36.9062\r\n",
       "Q40.4844 38.9219 39.0938 40.2656\r\n",
       "Q37.7031 41.6094 35.4062 41.6094\r\n",
       "Q31.7344 41.6094 28.4844 38.9844\r\n",
       "Q25.25 36.375 22.6094 32.5156\r\n",
       "L22.6094 32.1719\r\n",
       "L17.0938 10.1094\r\n",
       "Q17.7812 6.54688 19.7344 4.03125\r\n",
       "Q21.6875 1.51562 24.9062 1.51562\" id=\"Cmmi10-70\"/>\r\n",
       "    </defs>\r\n",
       "    <g transform=\"translate(447.574948555 480.654545455)scale(0.15 -0.15)\">\r\n",
       "     <use transform=\"translate(0.0 0.8781250000000114)\" xlink:href=\"#Cmmi10-63\"/>\r\n",
       "     <use transform=\"translate(57.140390625 48.06875)scale(0.7)\" xlink:href=\"#Cmmi10-6d\"/>\r\n",
       "     <use transform=\"translate(118.59546875 48.06875)scale(0.7)\" xlink:href=\"#Cmmi10-70\"/>\r\n",
       "     <use transform=\"translate(43.212890625 -29.30624999999999)scale(0.7)\" xlink:href=\"#Cmr10-31\"/>\r\n",
       "    </g>\r\n",
       "   </g>\r\n",
       "   <g id=\"text_4\">\r\n",
       "    <!-- $c^{mp}_{2}$ -->\r\n",
       "    <defs>\r\n",
       "     <path d=\"\r\n",
       "M4.98438 0\r\n",
       "L4.98438 2.6875\r\n",
       "Q4.98438 2.9375 5.17188 3.21875\r\n",
       "L20.7031 20.4062\r\n",
       "Q24.2188 24.2188 26.4062 26.7969\r\n",
       "Q28.6094 29.3906 30.75 32.7656\r\n",
       "Q32.9062 36.1406 34.1562 39.625\r\n",
       "Q35.4062 43.1094 35.4062 47.0156\r\n",
       "Q35.4062 51.125 33.8906 54.8594\r\n",
       "Q32.375 58.5938 29.375 60.8438\r\n",
       "Q26.375 63.0938 22.125 63.0938\r\n",
       "Q17.7812 63.0938 14.3125 60.4688\r\n",
       "Q10.8438 57.8594 9.42188 53.7188\r\n",
       "Q9.8125 53.8125 10.5 53.8125\r\n",
       "Q12.75 53.8125 14.3281 52.2969\r\n",
       "Q15.9219 50.7812 15.9219 48.3906\r\n",
       "Q15.9219 46.0938 14.3281 44.5\r\n",
       "Q12.75 42.9219 10.5 42.9219\r\n",
       "Q8.15625 42.9219 6.5625 44.5469\r\n",
       "Q4.98438 46.1875 4.98438 48.3906\r\n",
       "Q4.98438 52.1562 6.39062 55.4375\r\n",
       "Q7.8125 58.7344 10.4688 61.2969\r\n",
       "Q13.1406 63.875 16.4844 65.2344\r\n",
       "Q19.8281 66.6094 23.5781 66.6094\r\n",
       "Q29.2969 66.6094 34.2188 64.1875\r\n",
       "Q39.1562 61.7656 42.0312 57.3438\r\n",
       "Q44.9219 52.9375 44.9219 47.0156\r\n",
       "Q44.9219 42.6719 43.0156 38.7656\r\n",
       "Q41.1094 34.8594 38.125 31.6562\r\n",
       "Q35.1562 28.4688 30.5156 24.4062\r\n",
       "Q25.875 20.3594 24.4219 19\r\n",
       "L13.0938 8.10938\r\n",
       "L22.7031 8.10938\r\n",
       "Q29.7812 8.10938 34.5469 8.21875\r\n",
       "Q39.3125 8.34375 39.5938 8.59375\r\n",
       "Q40.7656 9.85938 42 17.8281\r\n",
       "L44.9219 17.8281\r\n",
       "L42.0938 0\r\n",
       "z\r\n",
       "\" id=\"Cmr10-32\"/>\r\n",
       "    </defs>\r\n",
       "    <g transform=\"translate(7.2 254.117025243)scale(0.15 -0.15)\">\r\n",
       "     <use transform=\"translate(0.0 0.8781250000000114)\" xlink:href=\"#Cmmi10-63\"/>\r\n",
       "     <use transform=\"translate(57.140390625 48.06875)scale(0.7)\" xlink:href=\"#Cmmi10-6d\"/>\r\n",
       "     <use transform=\"translate(118.59546875 48.06875)scale(0.7)\" xlink:href=\"#Cmmi10-70\"/>\r\n",
       "     <use transform=\"translate(43.212890625 -29.30624999999999)scale(0.7)\" xlink:href=\"#Cmr10-32\"/>\r\n",
       "    </g>\r\n",
       "   </g>\r\n",
       "   <g id=\"text_5\">\r\n",
       "    <!-- $c^{mf}_{1}$ -->\r\n",
       "    <defs>\r\n",
       "     <path d=\"\r\n",
       "M9.71875 -16.5\r\n",
       "Q11.5781 -17.9219 14.2031 -17.9219\r\n",
       "Q17.7812 -17.9219 20.0156 -10.0156\r\n",
       "Q20.9531 -6.20312 25.0938 15.0938\r\n",
       "L29.6875 39.5938\r\n",
       "L21.0938 39.5938\r\n",
       "Q20.125 39.5938 20.125 40.9219\r\n",
       "Q20.5156 43.1094 21.3906 43.1094\r\n",
       "L30.3281 43.1094\r\n",
       "L31.5 49.6094\r\n",
       "Q32.0781 52.6406 32.5625 54.8125\r\n",
       "Q33.0625 56.9844 33.625 58.8281\r\n",
       "Q34.1875 60.6875 35.2969 62.9844\r\n",
       "Q37.0156 66.2656 39.9219 68.3906\r\n",
       "Q42.8281 70.5156 46.1875 70.5156\r\n",
       "Q48.3906 70.5156 50.4688 69.7031\r\n",
       "Q52.5469 68.8906 53.8594 67.2812\r\n",
       "Q55.1719 65.6719 55.1719 63.4844\r\n",
       "Q55.1719 60.9375 53.4844 59.0469\r\n",
       "Q51.8125 57.1719 49.4219 57.1719\r\n",
       "Q47.7969 57.1719 46.6562 58.1719\r\n",
       "Q45.5156 59.1875 45.5156 60.7969\r\n",
       "Q45.5156 62.9844 47 64.625\r\n",
       "Q48.4844 66.2656 50.6875 66.5\r\n",
       "Q48.8281 67.9219 46.0938 67.9219\r\n",
       "Q44.5781 67.9219 43.2344 66.5\r\n",
       "Q41.8906 65.0938 41.5 63.4844\r\n",
       "Q40.875 60.9375 38.7188 49.7031\r\n",
       "L37.5 43.1094\r\n",
       "L47.7969 43.1094\r\n",
       "Q48.7812 43.1094 48.7812 41.7969\r\n",
       "Q48.7344 41.5469 48.5781 40.9375\r\n",
       "Q48.4375 40.3281 48.1719 39.9531\r\n",
       "Q47.9062 39.5938 47.5156 39.5938\r\n",
       "L36.8125 39.5938\r\n",
       "L32.1719 15.1875\r\n",
       "Q31.2969 9.85938 30.1406 4.35938\r\n",
       "Q29 -1.125 26.9219 -6.90625\r\n",
       "Q24.8594 -12.7031 21.625 -16.6094\r\n",
       "Q18.4062 -20.5156 14.0156 -20.5156\r\n",
       "Q10.6406 -20.5156 7.98438 -18.5781\r\n",
       "Q5.32812 -16.6562 5.32812 -13.4844\r\n",
       "Q5.32812 -10.9375 6.95312 -9.04688\r\n",
       "Q8.59375 -7.17188 11.0781 -7.17188\r\n",
       "Q12.75 -7.17188 13.8594 -8.17188\r\n",
       "Q14.9844 -9.1875 14.9844 -10.7969\r\n",
       "Q14.9844 -12.9375 13.3906 -14.7188\r\n",
       "Q11.8125 -16.5 9.71875 -16.5\" id=\"Cmmi10-66\"/>\r\n",
       "    </defs>\r\n",
       "    <g transform=\"translate(377.650216029 480.654545455)scale(0.15 -0.15)\">\r\n",
       "     <use transform=\"translate(0.0 0.6609375000000028)\" xlink:href=\"#Cmmi10-63\"/>\r\n",
       "     <use transform=\"translate(57.423890625 48.6390625)scale(0.7)\" xlink:href=\"#Cmmi10-6d\"/>\r\n",
       "     <use transform=\"translate(118.87896874999998 48.6390625)scale(0.7)\" xlink:href=\"#Cmmi10-66\"/>\r\n",
       "     <use transform=\"translate(43.212890625 -30.310937499999994)scale(0.7)\" xlink:href=\"#Cmr10-31\"/>\r\n",
       "    </g>\r\n",
       "   </g>\r\n",
       "   <g id=\"text_6\">\r\n",
       "    <!-- $c^{mf}_{2}$ -->\r\n",
       "    <g transform=\"translate(7.2 193.31255445)scale(0.15 -0.15)\">\r\n",
       "     <use transform=\"translate(0.0 0.6609375000000028)\" xlink:href=\"#Cmmi10-63\"/>\r\n",
       "     <use transform=\"translate(57.423890625 48.6390625)scale(0.7)\" xlink:href=\"#Cmmi10-6d\"/>\r\n",
       "     <use transform=\"translate(118.87896874999998 48.6390625)scale(0.7)\" xlink:href=\"#Cmmi10-66\"/>\r\n",
       "     <use transform=\"translate(43.212890625 -30.310937499999994)scale(0.7)\" xlink:href=\"#Cmr10-32\"/>\r\n",
       "    </g>\r\n",
       "   </g>\r\n",
       "  </g>\r\n",
       " </g>\r\n",
       " <defs>\r\n",
       "  <clipPath id=\"p229cb01c37\">\r\n",
       "   <rect height=\"446.4\" width=\"558.0\" x=\"52.2909090909\" y=\"7.2\"/>\r\n",
       "  </clipPath>\r\n",
       " </defs>\r\n",
       "</svg>\r\n"
      ],
      "text/plain": [
       "<matplotlib.figure.Figure at 0x7fea668>"
      ]
     },
     "metadata": {},
     "output_type": "display_data"
    }
   ],
   "source": [
    "c1min, c1max = np.min(cMR)*0.6, np.max(cM.y)\n",
    "c1min = 0\n",
    "c1max = 110\n",
    "c1 = np.arange(0,c1max,c1max/20)\n",
    "c1_ = np.arange(40,c1max,c1max/20)\n",
    "\n",
    "#indifference curves functions\n",
    "ubar0 = cM.PVU(cMF[1:3], 1.0)\n",
    "idc0 = cM.indif(ubar0, 1.0)\n",
    "ubar1 = cM.PVU(cMF[1:3],cM.beta)\n",
    "idc1 = cM.indif(ubar1,cM.beta)\n",
    "ubar0RP = cM.PVU(cMRP[1:3], 1.0)\n",
    "idc0RP = cM.indif(ubar0RP,1.0)\n",
    "ubar1RP = cM.PVU(cMRP[1:3], cM.beta)\n",
    "idc1RP = cM.indif(ubar1RP,cM.beta)\n",
    "\n",
    "\n",
    "fig, ax = plt.subplots()\n",
    "# trick to display contract points and coordinate lines http://bit.ly/1CaTMDX\n",
    "xx = [cMF[1], cMRP[1]]\n",
    "yy = [cMF[2], cMRP[2]]\n",
    "plt.scatter(xx,yy, s=50, marker='o',color='b')\n",
    "[plt.plot([dot_x, dot_x] ,[0, dot_y],':',linewidth = 1,color='black' ) for dot_x, dot_y in zip(xx,yy) ] \n",
    "[plt.plot([0, dot_x] ,[dot_y, dot_y],':',linewidth = 1,color='black' ) for dot_x, dot_y in zip(xx,yy) ]\n",
    "\n",
    "# indifference curves\n",
    "plt.plot(c1_,idc0(c1_),color='blue')          \n",
    "plt.plot(c1_,idc1(c1_),color='red') \n",
    "plt.plot(c1_,idc0RP(c1_),color='blue')\n",
    "plt.plot(c1_,idc1RP(c1_),color='red')\n",
    "# rays\n",
    "plt.plot(c1, c1,':',color='black')\n",
    "plt.plot(c1, cM.beta**(1/cM.rho)*c1,':',color='black')\n",
    "# isoprofit line(s)\n",
    "#isoprofline = cM.isoprofit(profitMF-(y[0]-cMF[0]), y)\n",
    "#plt.plot(c1,  isoprofline(c1),':' )\n",
    "\n",
    "ax.spines['right'].set_color('none'), ax.spines['top'].set_color('none')\n",
    "plt.ylim((c1min, c1max*0.9)), plt.xlim((c1min, c1max*0.9))\n",
    "ax.xaxis.tick_bottom(),ax.yaxis.tick_left()\n",
    "plt.xlabel('$c_{1}$'); plt.ylabel('$c_{2}$')\n",
    "\n",
    "# label the points\n",
    "ax.text(cMF[1]-1, cMF[2]+3, r'$F$', fontsize=15)\n",
    "ax.text(cMRP[1]-3, cMRP[2]-5, r'$P$', fontsize=15)\n",
    "ax.text(cMRP[1], -6, r'$c^{mp}_{1}$', fontsize=15)\n",
    "ax.text(-8, cMRP[2], r'$c^{mp}_{2}$', fontsize=15)\n",
    "ax.text(cMF[1], -6, r'$c^{mf}_{1}$', fontsize=15)\n",
    "ax.text(-8, cMF[2], r'$c^{mf}_{2}$', fontsize=15)\n",
    "\n",
    "#turn off the axis numbers\n",
    "ax.axes.get_xaxis().set_visible(False)\n",
    "ax.axes.get_yaxis().set_visible(False)\n",
    "plt.savefig('figs\\MonopolyFig_k2.pdf', format='pdf')\n",
    "plt.show()"
   ]
  },
  {
   "cell_type": "code",
   "execution_count": 110,
   "metadata": {
    "collapsed": false
   },
   "outputs": [
    {
     "data": {
      "text/plain": [
       "[57.725038327664777, 33.348330247159332]"
      ]
     },
     "execution_count": 110,
     "metadata": {},
     "output_type": "execute_result"
    }
   ],
   "source": [
    "y"
   ]
  },
  {
   "cell_type": "code",
   "execution_count": 160,
   "metadata": {
    "collapsed": false,
    "scrolled": true
   },
   "outputs": [
    {
     "name": "stdout",
     "output_type": "stream",
     "text": [
      "consumption and net saving in each period\n",
      "cMF        : [ 145.46   57.73   57.73]  sum: 260.91\n",
      "cMF (net s): [-65.46  52.27  52.27]     profit: 39.09\n",
      "\n",
      "cMR        : [ 145.46   76.76   30.46]  sum: 252.68\n",
      "cMR (net s): [-65.46  33.24  79.54]     profit: 47.32\n",
      "\n",
      "cMRP       : [ 152.45   84.03   33.35]  sum: 269.83\n",
      "cMRP(net s): [-72.45  25.97  76.65]     profit: 30.17\n",
      "\n"
     ]
    }
   ],
   "source": [
    "# compare three contracts (string label into var name)\n",
    "print(\"consumption and net saving in each period\")\n",
    "for contrat in ['cMF ', 'cMR ', 'cMRP']:\n",
    "    c = eval(contrat)\n",
    "    y = cM.y\n",
    "    print(contrat + \"       : {}  sum: {:4.2f}\"\n",
    "          .format(c, c.sum()))\n",
    "    print(contrat + \"(net s): {}     profit: {:4.2f}\"\n",
    "          .format(y - c, cM.profit(c,cM.y)))\n",
    "    print()"
   ]
  },
  {
   "cell_type": "markdown",
   "metadata": {},
   "source": [
    "##Optimal contract when renegotiation cost $\\kappa $ >0"
   ]
  },
  {
   "cell_type": "markdown",
   "metadata": {},
   "source": [
    "Plot to explore how the renegotiation cost $\\kappa $ affects the terms of the contract and firm profits"
   ]
  },
  {
   "cell_type": "code",
   "execution_count": 14,
   "metadata": {
    "collapsed": false
   },
   "outputs": [
    {
     "data": {
      "image/png": "[encoded data removed]",
      "text/plain": [
       "<matplotlib.figure.Figure at 0x7daef60>"
      ]
     },
     "metadata": {},
     "output_type": "display_data"
    }
   ],
   "source": [
    "# Note:  re-run all cells above if the plot seems wrong\n",
    "cM.y = np.array([100,100,100]) \n",
    "cMF = cM.fcommit()\n",
    "num_pts = 21\n",
    "kaps = np.linspace(0, 1.25, num_pts)      # different renegotiation cost values \n",
    "cMRP, profitRP = np.zeros((3,num_pts)), np.zeros(num_pts)  # init (c0,c1,c2) and profits at each kappa\n",
    "\n",
    "for i in range(0,num_pts):               # look through kappa recalculating optimal contract each time\n",
    "    cM.kappa = kaps[i] \n",
    "    cMRP[:,i] = cM.reneg_proof().x \n",
    "    profitRP[i] = cM.profit(cMRP[:,i],cM.y)\n",
    "\n",
    "c0,c1,c2 = cMRP[0,:], cMRP[1,:],cMRP[2,:]                # save results for plotting\n",
    "\n",
    "fig, (ax0, ax1) = plt.subplots(nrows = 2)\n",
    "#ax0.plot(kaps, c0, label='$c_{0}$')\n",
    "ax0.plot(kaps, c1, label='$c_{1}$')\n",
    "ax0.plot(kaps, c2, label='$c_{2}$')\n",
    "ax0.plot(kaps, np.ones(num_pts)*cMF[1], '--', label='$c_{F}$')\n",
    "ax0.grid()\n",
    "ax0.set_title('Renegotiation Proof Contract and $\\kappa$'), ax0.set_ylabel('consumption')\n",
    "ax0.legend(loc=9,bbox_to_anchor=(0.5, -1.7), ncol = 3)\n",
    "\n",
    "ax1.plot(kaps, profitRP)\n",
    "ax1.set_ylabel('Profit')\n",
    "ax1.grid()\n",
    "ax1.set_xlabel('renegotiation cost $\\kappa$')\n",
    "plt.tight_layout()\n",
    "plt.show()"
   ]
  },
  {
   "cell_type": "markdown",
   "metadata": {},
   "source": [
    "At lower renegotiation costs the bank is forced to offer less consumption smoothing in periods 1 and 2 as a way to credibly commit to limit their gains to renegotiation with a period 1 self.  Hence bank profits rise with their ability to commit to incur a renegotiation cost $\\kappa$\n",
    "\n",
    "We haven't plotted $c_{0}$ for each $\\kappa$ but that's because it varies less relative to $c_{1}, c_{2}$ and way above the full commitment consumption smoothing."
   ]
  },
  {
   "cell_type": "code",
   "execution_count": 15,
   "metadata": {
    "collapsed": false
   },
   "outputs": [
    {
     "name": "stdout",
     "output_type": "stream",
     "text": [
      "cMF[0]:  119.85867786\n",
      "  max, mean, min of c0 in cMRP:\n",
      "120.53 120.21 120.01 "
     ]
    }
   ],
   "source": [
    "print(\"cMF[0]: \",cMF[0])\n",
    "print(\"  max, mean, min of c0 in cMRP:\")\n",
    "for item in (c0.max(),c0.mean(),c0.min()):\n",
    "    print(\"{:5.2f}\".format(item), end=' ')"
   ]
  },
  {
   "cell_type": "markdown",
   "metadata": {},
   "source": [
    "### The choice to become a commercial non-profit"
   ]
  },
  {
   "cell_type": "markdown",
   "metadata": {},
   "source": [
    "### Modeling the non-profit"
   ]
  },
  {
   "cell_type": "markdown",
   "metadata": {},
   "source": [
    "The no-renegotiation constraint has two parts.  A pure for-profit captures fraction $\\alpha = 1$ of profits and faces renegotiation cost \n",
    "not-for-profit of type $\\alpha$ and faces renegotiation cost $h(\\alpha) = h(1)$.  More generally a non-profit of type $\\alpha$ has a no-renegotiation constraint of the form \n",
    "$$\\alpha \\left[ \\Pi ^{R}-\\Pi \\right] \\geq h(\\alpha )$$\n",
    "\n",
    "To be specific here let's model this as \n",
    "$$h(\\alpha )=\\kappa \\left( 1-\\alpha \\right) $$\n",
    "\n",
    "So that at $\\alpha =1$ there is no cost to renegotiation and at $0< \\alpha <1$ there is a non-negative non-pecuniary cost of up to $\\kappa$.  The constraint can then be written as \n",
    "$$\\left[ \\Pi ^{R}-\\Pi \\right] \\geq C(\\alpha )=\\frac{h(\\alpha )}{\\alpha }$$"
   ]
  },
  {
   "cell_type": "code",
   "execution_count": 16,
   "metadata": {
    "collapsed": false
   },
   "outputs": [
    {
     "data": {
      "image/png": "[encoded data removed]",
      "text/plain": [
       "<matplotlib.figure.Figure at 0x8349940>"
      ]
     },
     "metadata": {},
     "output_type": "display_data"
    }
   ],
   "source": [
    "# Similar to above but solve for contract as a function of firm type ALPHA\n",
    "y = np.array([100,100,100])          # To see how endowment affects contract\n",
    "cM.y     = y                            \n",
    "cMF      = cM.fcommit()\n",
    "num_pts  = 10\n",
    "alphs    = np.linspace(0.5,1.0,num_pts)       # iterate over different values of beta\n",
    "C        = 4*(np.ones(num_pts) - alphs)     #  h(alpha)/alpha  or cost of renegotiaton\n",
    "cMRP     = np.zeros((3,num_pts))          # matrix for (c0,c1,c2) at each kappa\n",
    "profitRP = np.zeros(num_pts)\n",
    "NprofitRP =np.zeros(num_pts)\n",
    "\n",
    "for i in range(0,num_pts):\n",
    "    cM.kappa = C[i]                 # change optimal contract\n",
    "    cMRP[:,i] = cM.reneg_proof().x \n",
    "    cM.guess =  cMRP[:,i]                 # use this sol as guess for next optimum\n",
    "    profitRP[i] = cM.profit(cMRP[:,i],y)\n",
    "    NprofitRP[i] = alphs[i]*cM.profit(cMRP[:,i],y)\n",
    "\n",
    "c0,c1,c2 = cMRP[0,:], cMRP[1,:],cMRP[2,:]                # save results for plotting\n",
    "\n",
    "fig3 = plt.figure()  \n",
    "plt.plot(alphs,c1,'--',label='$c_{1}$')\n",
    "plt.plot(alphs,c2,label='$c_{2}$')\n",
    "plt.plot(alphs,np.ones(num_pts)*cMF[1],label='$c_{1}$ commit')\n",
    "plt.grid()\n",
    "plt.title('Renegotiation Proof Contract and alpha' )\n",
    "plt.xlabel('alpha ')\n",
    "plt.ylabel('consumption')\n",
    "plt.legend(loc='upper left')\n",
    "plt.show()"
   ]
  },
  {
   "cell_type": "markdown",
   "metadata": {},
   "source": [
    "### 'Commercial' non-profits \n",
    "A 'pure' for profit (with $\\alpha$=1.0) earns a reduced (possibly negative) profit due to it's inability to commit. Seen in the plot as profits the height of the horizontal line.\n",
    "\n",
    "Any non-profit with $\\alpha$ above about 0.4 and below 1.0 can better commit to not renegotiate a larger set of contracts and therefore can offer a more profitable renegotiation-proof contract. Even though they capture only fraction $\\alpha$ of those profits, the take home profits exceed the profits of the pure for-profit. "
   ]
  },
  {
   "cell_type": "code",
   "execution_count": 17,
   "metadata": {
    "collapsed": false
   },
   "outputs": [
    {
     "data": {
      "text/plain": [
       "<matplotlib.legend.Legend at 0x877c898>"
      ]
     },
     "execution_count": 17,
     "metadata": {},
     "output_type": "execute_result"
    },
    {
     "data": {
      "image/png": "[encoded data removed]",
      "text/plain": [
       "<matplotlib.figure.Figure at 0x85deb70>"
      ]
     },
     "metadata": {},
     "output_type": "display_data"
    }
   ],
   "source": [
    "profitRP_full = profitRP[num_pts-1]*np.ones(num_pts) \n",
    "fig = plt.figure()\n",
    "ax = fig.add_subplot(111)\n",
    "plt.title('Renegotiation-Proof Profits vs. alpha')\n",
    "plt.xlabel('alpha ')\n",
    "plt.ylabel('Profits, take-home profits')\n",
    "plt.plot(alphs,profitRP,'--',label='pure-profit profits')\n",
    "plt.plot(alphs,NprofitRP,label='Non-profit take home profits')\n",
    "ax.fill_between(alphs, np.fmax(profitRP_full,NprofitRP), profitRP_full)\n",
    "plt.legend(loc='upper center', bbox_to_anchor=(0.5, -0.2),\n",
    "          fancybox=None, ncol=5)"
   ]
  },
  {
   "cell_type": "markdown",
   "metadata": {},
   "source": [
    "The more profit-focused (higher $\\alpha$) banks tend to offer seemingly 'riskier' contracts which concentrate repayment in the last period.  In this case at very high $\\alpha$ the consumer actually is a net borrower in period 0 and 1 and faces heavy repayment in period 2.\n",
    "\n",
    "One interpretation:  Sophisticated consumer knows that a bank that offers a smoothed consumption (balanced repayment) profile will approach their later self to opportunistically offer a new loan which will impose a heavy repayment in the last period. The consumer balks and then only agrees to a contract that the bank can credibly commit to not renegotiate, one that limits the amount of  period 1 self's "
   ]
  },
  {
   "cell_type": "code",
   "execution_count": 18,
   "metadata": {
    "collapsed": false
   },
   "outputs": [
    {
     "data": {
      "text/plain": [
       "<matplotlib.legend.Legend at 0x879ff98>"
      ]
     },
     "execution_count": 18,
     "metadata": {},
     "output_type": "execute_result"
    },
    {
     "data": {
      "image/png": "[encoded data removed]",
      "text/plain": [
       "<matplotlib.figure.Figure at 0x839e080>"
      ]
     },
     "metadata": {},
     "output_type": "display_data"
    }
   ],
   "source": [
    "#plot(alphs,cMRP[0,:],label='$c_{0}$')\n",
    "fig = plt.figure()\n",
    "plt.plot(alphs,cMRP[1,:],'--',label='$c_{1}$')\n",
    "plt.plot(alphs,cMRP[2,:],label='$c_{2}$')\n",
    "plt.title('Consumption profile as a function of alpha')\n",
    "plt.legend(loc='upper center', bbox_to_anchor=(0.5, -0.05),\n",
    "          fancybox=None, ncol=5)"
   ]
  },
  {
   "cell_type": "code",
   "execution_count": 19,
   "metadata": {
    "collapsed": false
   },
   "outputs": [
    {
     "data": {
      "image/png": "[encoded data removed]",
      "text/plain": [
       "<matplotlib.figure.Figure at 0x87f6fd0>"
      ]
     },
     "metadata": {},
     "output_type": "display_data"
    }
   ],
   "source": [
    "fig = plt.figure()\n",
    "plt.plot(alphs,cMRP[0,:]-y[0],label='$-c_{0}$')\n",
    "plt.plot(alphs,y[1]-cMRP[1,:],'--',label=' $c_{1}$')\n",
    "plt.plot(alphs,y[2]-cMRP[2,:],label='$c_{2}$')\n",
    "plt.title('Period 0 Loan, repayment')\n",
    "plt.legend(loc='upper center', bbox_to_anchor=(0.5, 0.0),\n",
    "          fancybox=None, ncol=5)\n",
    "plt.gca().spines['bottom'].set_position(('data',0))"
   ]
  },
  {
   "cell_type": "markdown",
   "metadata": {},
   "source": [
    "**Loan, repayment and Profit breakdown by periods as function of alpha**"
   ]
  },
  {
   "cell_type": "code",
   "execution_count": 20,
   "metadata": {
    "collapsed": false
   },
   "outputs": [
    {
     "name": "stdout",
     "output_type": "stream",
     "text": [
      "alpha      c0     c1    c2        profit = (y0-cMRP0) + (y1-cMRP1) + (y2-cMRP2)\n",
      "-------------------------------------------------------------------------------\n",
      " 0.50:   119.86  88.54 88.54,       3.05 =   -19.86   +    11.46   +    11.46   \n",
      " 0.56:   119.89  88.96 88.10,       3.05 =   -19.89   +    11.04   +    11.90   \n",
      " 0.61:   119.94  89.78 87.25,       3.04 =   -19.94   +    10.22   +    12.75   \n",
      " 0.67:   119.99  90.67 86.34,       3.00 =   -19.99   +     9.33   +    13.66   \n",
      " 0.72:   120.05  91.64 85.36,       2.95 =   -20.05   +     8.36   +    14.64   \n",
      " 0.78:   120.12  92.73 84.29,       2.86 =   -20.12   +     7.27   +    15.71   \n",
      " 0.83:   120.19  93.99 83.09,       2.74 =   -20.19   +     6.01   +    16.91   \n",
      " 0.89:   120.28  95.49 81.68,       2.54 =   -20.28   +     4.51   +    18.32   \n",
      " 0.94:   120.40  97.49 79.89,       2.22 =   -20.40   +     2.51   +    20.11   \n",
      " 1.00:   120.84 102.39 75.64,       1.13 =   -20.84   +    -2.39   +    24.36   \n",
      "\n"
     ]
    }
   ],
   "source": [
    "print(\"alpha      c0     c1    c2        profit = (y0-cMRP0) + (y1-cMRP1) + (y2-cMRP2)\")\n",
    "print(\"-\"*79)\n",
    "for i,a in enumerate(alphs):\n",
    "    print(\"{:5.2f}:   {:6.2f} {:6.2f} {:5.2f},   {:8.2f} = {:8.2f}   + {:8.2f}   + {:8.2f}   \"\n",
    "          .format(a, cMRP[0,i], cMRP[1,i], cMRP[2,i],profitRP[i],y[0]-cMRP[0,i],y[1]-cMRP[1,i],y[2]-cMRP[2,i],))\n",
    "print()"
   ]
  },
  {
   "cell_type": "markdown",
   "metadata": {
    "collapsed": false
   },
   "source": [
    "The inability to commit means the renegotiation proof contract doesn't smooth consumption very well for the consumer.  This ends up hurting the bank, since they must now 'compensate' the consumer for the higher variance of consumption if the participation constraint is still to be met.  "
   ]
  },
  {
   "cell_type": "markdown",
   "metadata": {},
   "source": [
    "The code that follows produces a grid of subplots to illustrate how the results (the relation between $\\alpha$ and retained profits) depends on the initial y vector, which in turn also determines whether this will be borrowing or saving.  "
   ]
  },
  {
   "cell_type": "markdown",
   "metadata": {},
   "source": [
    "##The role of y\n",
    "###Captured profits and net saving as function of $\\alpha$"
   ]
  },
  {
   "cell_type": "code",
   "execution_count": 21,
   "metadata": {
    "collapsed": false
   },
   "outputs": [
    {
     "name": "stdout",
     "output_type": "stream",
     "text": [
      "Left: captured profits (shaded = NP dominates). Right: net saving in each period as function of α :\n"
     ]
    },
    {
     "data": {
      "image/png": "[encoded data removed]",
      "text/plain": [
       "<matplotlib.figure.Figure at 0x8349978>"
      ]
     },
     "metadata": {},
     "output_type": "display_data"
    }
   ],
   "source": [
    "print(\"Left: captured profits (shaded = NP dominates). Right: net saving in each period as function of α :\")\n",
    "num_pts  = 21\n",
    "alphs    = np.linspace(0,1,num_pts)       # iterate over different alphas\n",
    "C        = 4*(np.ones(num_pts)-alphs)     # h(alpha)/alpha  or cost of renegotiaton\n",
    "cMRP     = np.zeros((3,num_pts))             # to store (c0,c1,c2) for each alpha\n",
    "profitRP = np.zeros(num_pts)\n",
    "NprofitRP= np.zeros(num_pts)\n",
    "\n",
    "fig, ax = plt.subplots(10,sharex=True)\n",
    "numy0 = 3     # rows of subplots\n",
    "ax = plt.subplot(numy0,2,1)\n",
    "\n",
    "# Vary y contracts (maintaining PV at 300 in zero interest rate setting)\n",
    "for j in range(1, numy0 + 1):\n",
    "    y0 = 70 + j*20\n",
    "    y = np.array([y0,100,100])            \n",
    "    y = np.array([y0,(300-y0)/2,(300-y0)/2])   \n",
    "          \n",
    "    ax1 = plt.subplot(numy0, 2, j*2-1, sharex=ax)  \n",
    "    for i in range(0, num_pts):\n",
    "        cM.kappa = C[i]             # change reneg cost  \n",
    "        cM.y = y\n",
    "        cMRP[:,i]    = cM.reneg_proof().x \n",
    "        cM.guess     = cMRP[:,i]         # store sol as guess for next search\n",
    "        profitRP[i]  = cM.profit(cMRP[:,i], y)\n",
    "        NprofitRP[i] = alphs[i]*cM.profit(cMRP[:,i], y)\n",
    "       #print(\"alph:{0:4.2f} profitRP:{1:5.2f} \".format(alphs[i],cM.profit(cMRP[:,i],y)))\n",
    "        \n",
    "    #ax.set_ylim([0, cM.profit(cMF,y)*1.2])\n",
    "    \n",
    "    profitRP_full = profitRP[num_pts-1]*np.ones(num_pts) \n",
    "    ax1.set_title(r'$y=( %2.0f, %2.0f, %2.0f)$' %(y0,y[1],y[2]))\n",
    "    ax1.plot(alphs, profitRP)\n",
    "    ax1.plot(alphs, NprofitRP)\n",
    "    ax1.fill_between(alphs, np.fmax(NprofitRP, np.fmax(np.zeros(num_pts),profitRP_full)), np.fmax(profitRP_full,np.zeros(num_pts)))\n",
    "    ax1.plot(alphs, np.zeros(num_pts))\n",
    "    plt.grid()\n",
    "    \n",
    "    ax2 = plt.subplot(numy0,2,j*2,sharex=ax, sharey=ax)    # Plot contract terms in right column plot\n",
    "    #ax1.set_ylim([0, 25])\n",
    "    ax2.plot(alphs, y0 - cMRP[0,:],\"d--\")\n",
    "    ax2.plot(alphs, y[1] - cMRP[1,:])\n",
    "    ax2.plot(alphs, y[2] - cMRP[2,:],\"x-\")\n",
    "    ax2.axhline(y=0, color ='k')\n",
    "    #ax2.plot(alphs, y[0]*np.ones(num_pts))\n",
    "    #ax2.plot(alphs, y[1]*np.ones(num_pts))\n",
    "    plt.grid()    \n",
    "plt.tight_layout()\n",
    "plt.show()    "
   ]
  },
  {
   "cell_type": "code",
   "execution_count": 22,
   "metadata": {
    "collapsed": false
   },
   "outputs": [],
   "source": [
    "plt.close('all')"
   ]
  },
  {
   "cell_type": "markdown",
   "metadata": {},
   "source": [
    "**INTERPRETATION**: The left column of plots above shows renegotiation-proof profits as a function of $\\alpha$ where $\\alpha$ affects both the share of profits that are captured as well as the cost of renegotiation as described above.  The blue shaded area indicates where commercial non-profits (that choose an $\\alpha <1$) capture more profit than a pure for-profit. \n",
    "\n",
    "The right column of plots shows the terms of the associated contract displayed as 'net savings' (y0-c0), (y1-c1), and (y2-c2).  When these are positive the client is saving or repaying, when negative they are borrowing.\n",
    "\n",
    "When we keep the PV of y constant but change the ratio of period zero income y0 to later period income, y vectors that lead to borrowing (lower y0, higher y1,y2) deliver higher full-commitment (and renegotiation-proof) profits at any level of alpha. \n",
    "\n",
    "Since most of the profits are in the 0 to 1 period, they weigh more heavily in total profits.  Turning non-profit is only attractive at relatively high values of alpha (since at lower alpha they're forfeiting the period 0-1 profits). At higher y0 (tilted more toward savings) full commitment (and renegotiation-proof) profits are lower The pattern seems to be that as we move toward first period savings..."
   ]
  },
  {
   "cell_type": "markdown",
   "metadata": {},
   "source": [
    "## Other Results"
   ]
  },
  {
   "cell_type": "markdown",
   "metadata": {},
   "source": [
    "### $\\beta$ and loan size"
   ]
  },
  {
   "cell_type": "markdown",
   "metadata": {},
   "source": [
    "Let's plot the the relationship between period 0 loan size in a full-commitment contract and the extent of present-bias captured by $\\beta$"
   ]
  },
  {
   "cell_type": "code",
   "execution_count": 27,
   "metadata": {
    "collapsed": false
   },
   "outputs": [
    {
     "data": {
      "image/png": "[encoded data removed]",
      "text/plain": [
       "<matplotlib.figure.Figure at 0x831c160>"
      ]
     },
     "metadata": {},
     "output_type": "display_data"
    }
   ],
   "source": [
    "cM = Contract.Monopoly(0.75)               # create an instance m\n",
    "cM.y=[140,80,80]\n",
    "num_pts = 21\n",
    "betas = np.linspace(0.1,1,num_pts)           # iterate over different values of beta\n",
    "CMF = np.zeros((3,num_pts))                  # a three row matrix to store (c0,c1,c2) for each beta\n",
    "\n",
    "for i in range(0,num_pts):\n",
    "    cM.beta = betas[i]                    # change beta before recalculating optimal contract\n",
    "    CMF[:,i] = cM.fcommit()       \n",
    "\n",
    "loan   = CMF[0,:] #- cM.y[0]               # save results for plotting\n",
    "repay1 = CMF[1,:] #- cM.y[1]\n",
    "repay2 = CMF[2,:] #- cM.y[2]\n",
    "\n",
    "\n",
    "plt.plot(betas,loan,'--')                          # plot    \n",
    "plt.plot(betas,repay1)\n",
    "plt.plot(betas,repay2)\n",
    "plt.grid()\n",
    "plt.title('Monopoly full commitment contract: Net loan size and $\\\\beta$')\n",
    "plt.xlabel('beta')\n",
    "plt.ylabel('net repayment')\n",
    "plt.legend(['loan','repay1','repay2'])\n",
    "plt.savefig(r'figs\\LoanVsBeta.pdf',format='pdf')"
   ]
  },
  {
   "cell_type": "code",
   "execution_count": null,
   "metadata": {
    "collapsed": true
   },
   "outputs": [],
   "source": []
  },
  {
   "cell_type": "markdown",
   "metadata": {},
   "source": [
    "#UNFINISHED\n",
    "Everything below is scratch or unfinished"
   ]
  },
  {
   "cell_type": "markdown",
   "metadata": {},
   "source": [
    "### Example full commitment contract (and renegotiation with a naive consumer)"
   ]
  },
  {
   "cell_type": "markdown",
   "metadata": {},
   "source": [
    "Here is an example of the full-commitment contracts a monopolist offers and the contract a monopolist and a naive consumer would renegotiate to from that same full commitment contract (but note that a intermediary who knows they are dealing with a naive consumer would bait them with a different initial contract). "
   ]
  },
  {
   "cell_type": "code",
   "execution_count": 28,
   "metadata": {
    "collapsed": false
   },
   "outputs": [
    {
     "name": "stdout",
     "output_type": "stream",
     "text": [
      "0-PVU full commit: 62.973   and   Naive renegotiate: 62.933\n",
      "Profits from full commit: -0.515   and   Naive renegotiate:-2.428\n"
     ]
    }
   ],
   "source": [
    "cMF = cM.fcommit()      \n",
    "cMr = cM.reneg(cMF)       \n",
    "print('0-PVU full commit: {0:4.3f}   and   Naive renegotiate: {1:4.3f}'\n",
    "      .format(cM.PVU(cMF,cM.beta), cM.PVU(cMr,cM.beta)))\n",
    "print('Profits from full commit: {0:4.3f}   and   Naive renegotiate:{1:4.3f}'\n",
    "      .format(cM.profit(cM.y,cMF), cM.profit(cM.y,cMr)))"
   ]
  },
  {
   "cell_type": "markdown",
   "metadata": {},
   "source": [
    "##### Scratch play area"
   ]
  },
  {
   "cell_type": "code",
   "execution_count": 31,
   "metadata": {
    "collapsed": true
   },
   "outputs": [],
   "source": [
    "cM.profit??"
   ]
  },
  {
   "cell_type": "code",
   "execution_count": 33,
   "metadata": {
    "collapsed": false
   },
   "outputs": [
    {
     "data": {
      "text/plain": [
       " success: True\n",
       "  status: 1\n",
       " message: 'Optimization terminated successfully.'\n",
       "   maxcv: 1.8189894035458565e-12\n",
       "       x: array([ 121.49,  103.49,   76.45])\n",
       "    nfev: 66\n",
       "     fun: 1.4289761454494396"
      ]
     },
     "execution_count": 33,
     "metadata": {},
     "output_type": "execute_result"
    }
   ],
   "source": [
    "cM.reneg_proof()"
   ]
  },
  {
   "cell_type": "code",
   "execution_count": 34,
   "metadata": {
    "collapsed": false
   },
   "outputs": [
    {
     "name": "stdout",
     "output_type": "stream",
     "text": [
      "beta    : 0.75\n",
      "delta   : 1.0\n",
      "guess   : [ 121.82  103.3    76.31]\n",
      "kappa   : 0.0\n",
      "r       : 0.0\n",
      "rho     : 0.95\n",
      "y       : [ 130.   85.   85.]\n"
     ]
    }
   ],
   "source": [
    "cM.print_params()"
   ]
  },
  {
   "cell_type": "code",
   "execution_count": null,
   "metadata": {
    "collapsed": true
   },
   "outputs": [],
   "source": []
  }
 ],
 "metadata": {
  "kernelspec": {
   "display_name": "Python 3",
   "language": "python",
   "name": "python3"
  },
  "language_info": {
   "codemirror_mode": {
    "name": "ipython",
    "version": 3
   },
   "file_extension": ".py",
   "mimetype": "text/x-python",
   "name": "python",
   "nbconvert_exporter": "python",
   "pygments_lexer": "ipython3",
   "version": "3.4.3"
  }
 },
 "nbformat": 4,
 "nbformat_minor": 0
}
