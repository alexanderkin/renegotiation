{
 "cells": [
  {
   "cell_type": "markdown",
   "metadata": {},
   "source": [
    "# Behavioral foundation for commercial non-profits in finance\n",
    "## Competitive contracts\n",
    "**Karna Basu and Jonathan Conning**\n",
    "\n",
    "Department of Economics\n",
    "Hunter College"
   ]
  },
  {
   "cell_type": "code",
   "execution_count": 1,
   "metadata": {
    "collapsed": false
   },
   "outputs": [
    {
     "name": "stdout",
     "output_type": "stream",
     "text": [
      "Last updated: Sat Jul 04 2015 12:32:56 \n"
     ]
    }
   ],
   "source": [
    "%reload_ext watermark\n",
    "%watermark -u -n -t "
   ]
  },
  {
   "cell_type": "markdown",
   "metadata": {},
   "source": [
    "**Abstract:** We explore new behavioral microfoundations for a theory of 'commercial non-profits.' In the spirit of Henry Hansmann's suggestion that in low regulation environments non-profits serve as \"a crude form of consumer protection\" our theory helps understand therole and ubiquity of non-profit and 'hybrid' (e.g. for-profits owned and/or controlled to varying degrees by socially-minded investors) financial intermediaries in low income markets.  However, where Hansmann (1996) and others have focused on asymmetric information problems -- the idea that nonprofits might prevail where patrons are \"incapable of observing with any accuracy either the quantity or quality of the goods or services that the firm has contracted to provide to them\" -- we draw attention to a different problem: the firm's willingness and incentive to pander to or 'exploit' their customers' self-control problems.  This is an issue that arises even when all parties are symmetrically informed and sophisticated.\n",
    "\n",
    "Sophisticated present-biased consumers are aware of their later period selves' impulse to renegotiate (or refinance) consumption smoothing plans to achieve long-term savings or loan repayment goals.  This creates a demand for commitment contracts that restrict their later period selves' to not renegotiating carefully laid out plans.  A pure for-profit financial intermediary may find it hard to credibly commit to not offering such refinancing options at later dates because clients understand full well that the intermediary can profit by doing so.  This limits the pure for-profit firm to offering credible but costly renegotiation-proof contracts that reduce the gains to trade.  In such circumstances a commercial non-profit which has adopted a legal ownership/governance structure which places limits on the distribution of profits may be in a position to offer more attractive contracts that pure for-profits.  We show how different equilibrium market and ownership structures may emerge depending on parameters of the economic environment, and apply the insights to a discussion of the development of modern microfinance and consumer finance in history. \n",
    "\n"
   ]
  },
  {
   "cell_type": "markdown",
   "metadata": {},
   "source": [
    "This (draft of an) Ipython notebook is not the main paper.  It emphasizes only some of the elements of the paper, highlighting a few elements and extensions to the theoretical model and the python code that generates figures and simulations.  "
   ]
  },
  {
   "cell_type": "markdown",
   "metadata": {},
   "source": [
    "## The model"
   ]
  },
  {
   "cell_type": "markdown",
   "metadata": {},
   "source": [
    "The paper describes a slightly more general multi-period model but here we specialize it to a three period setting where savers-cum-borrowers have constant relative risk aversion (CRRA) utility. In any period the consumer's instantaneous utility is given by $u(c)=c^{1-ρ}/(1-ρ)$.  Over three period the agent maximizes utility\n",
    "\n",
    "$$ U(c₀,c₁,c₂)=u(c₀)+β[δu(c₁)+δ²u(c₂)]$$ \n",
    "\n",
    "The consumer has an autarky income stream ${y}=\\{y_{0},y_{1},y_{2}\\}$ which defines autarky or reservation utility $ \\overline{u} = U(y₀,y₁,y₂)$ but in general will prefer a smoother consumption profile from contracting on financial markets. "
   ]
  },
  {
   "cell_type": "markdown",
   "metadata": {},
   "source": [
    "### The Competitive contract"
   ]
  },
  {
   "cell_type": "markdown",
   "metadata": {},
   "source": [
    "In an earlier notebook we examined the monopoly lender problem.  Now instead we assume ex-anted competition among lenders to offer contracts to a client.  We assume once the contract has been agreed to the contract becomes exlcusive. \n",
    "\n",
    "The offered contract will maximizes the period-0 self's present value of utility $ U(c_{0},c_{1},c_{2})=u(c_{0})+\\beta \\left[ \\delta u(c_{1})+\\delta ^{2}u(c_{2})\\right] $ subject to the bank's zero profit condition\n",
    "\n",
    "$$\\sum\\limits_{t=0}^{2}\\frac{\\left( y_{t}-c_{t}\\right) }{\\left( 1+r\\right) ^{t}} = 0$$\n",
    "\n",
    "The client may save or borrow, depending on their initial income stream and preferred/feasible smoothed consumption stream available from contracting.  "
   ]
  },
  {
   "cell_type": "markdown",
   "metadata": {},
   "source": [
    "The first order conditions imply $u^{\\prime }(c_{o})=\\beta \\delta (1+r)u^{\\prime }(c_{1})=\\beta \\delta ^{2}(1+r)^{2}u^{\\prime }(c_{2})$. To simplify, let us assume only for presentation purposes that\n",
    "$$\\delta =\\frac{1}{1+r}$$\n",
    "With this simplification the FOC imply $u^{\\prime }(c_{1})=u^{\\prime }(c_{2})$ and hence that any optimal solution will keep the agent at constant consumption in the last two periods $c_{1}=c_{2}=\\overline{c}$.  For CRRA utility $u^{\\prime }(c)=c^{-\\rho }$ we can use the FOC to find $\\overline{c}=\\beta ^{\\frac{1}{\\rho }}c_{0}$. Substituting this into the bank's binding participation constraint then allows us to solve for [***THIS HAS TO BE UPDATED***]\n",
    "$$c_{0}=\\left[ \\frac{\\overline{u}(1-\\rho )}{1+\\beta ^{\\frac{1}{\\rho }}\\left( \\delta +\\delta ^{2}\\right) }\\right] ^{\\frac{1}{1-\\rho }}$$"
   ]
  },
  {
   "cell_type": "markdown",
   "metadata": {},
   "source": [
    "### Python implementation to solve for optimal contracts "
   ]
  },
  {
   "cell_type": "markdown",
   "metadata": {},
   "source": [
    "#### Object oriented design the parent 'Contract' class"
   ]
  },
  {
   "cell_type": "markdown",
   "metadata": {},
   "source": [
    "This ipython notebook solves for optimal contracts between a lender and a client. The python code makes use of Object oriented programming (OOP) ideas for modular design and more compact code. \n",
    "\n",
    "First we create a generic 'Contract' class that defines a few attributes (e.g. default parameters of the utility function, initial endowments, etc.) and useful methods to calculate profits, utility, etc. Later we will define MonopolyContract and CompetitiveContract as subclasses that will inherit and extend attributes and methods to solve related models. \n",
    "\n",
    "Before anything else, a few commands to import useful python libraries, and notebook settings to ake plots appear inline."
   ]
  },
  {
   "cell_type": "code",
   "execution_count": 2,
   "metadata": {
    "collapsed": false
   },
   "outputs": [],
   "source": [
    "%matplotlib inline\n",
    "import sys\n",
    "import numpy as np\n",
    "from scipy.optimize import minimize\n",
    "import matplotlib.pyplot as plt\n",
    "plt.rcParams[\"figure.figsize\"] = (10, 8)\n",
    "np.set_printoptions(precision=2)    # array printing format "
   ]
  },
  {
   "cell_type": "markdown",
   "metadata": {
    "collapsed": false
   },
   "source": [
    "Now the definition of the Contract class.  "
   ]
  },
  {
   "cell_type": "code",
   "execution_count": 3,
   "metadata": {
    "collapsed": false
   },
   "outputs": [],
   "source": [
    "import Contract"
   ]
  },
  {
   "cell_type": "markdown",
   "metadata": {},
   "source": [
    "Let's demonstrate simple use. The following call establishes 'c' as a particular object instance of the Contract class. In this example we then initialize $\\beta$ explicitly for this instance. Other attributes (as the value of the income stream y are initialized to default values when c is setup since no value was specified). \n",
    "\n",
    "We then call on the print_params method to print out a summary of properties (parameters) of this specific contract c."
   ]
  },
  {
   "cell_type": "code",
   "execution_count": 4,
   "metadata": {
    "collapsed": false
   },
   "outputs": [
    {
     "name": "stdout",
     "output_type": "stream",
     "text": [
      "beta    : 0.7\n",
      "delta   : 1.0\n",
      "r       : 0.0\n",
      "rho     : 0.95\n",
      "y       : [100 100 100]\n"
     ]
    }
   ],
   "source": [
    "c = Contract.Contract(beta = 0.7)\n",
    "c.print_params()"
   ]
  },
  {
   "cell_type": "markdown",
   "metadata": {},
   "source": [
    "Let's plot an indifference curve in c1-c2 space.  For example if the agent in autarky has income $\\{y_{0},y_{1},y_{2}\\}$ and no access to saving or borrowing then (from period 0 self's perspective) entering period 1 they have reservation utility $u(y_{1})+\\delta u(y_{2})=\\overline{u}_{0}$.  But when period 1 rolls around their preferences change. From period 1 self's perspective they have reservation utility $u(y_{1})+\\beta \\delta u(y_{2})=\\overline{u}_{1}$.  "
   ]
  },
  {
   "cell_type": "markdown",
   "metadata": {},
   "source": [
    "### Exclusive competitive contracts"
   ]
  },
  {
   "cell_type": "markdown",
   "metadata": {},
   "source": [
    "The contract class defines a generic contract which holds consumption stream objects of the form $\\left( c_{0},c_{1},c_{2}\\right)$ and allows a few manipulations.  Now comes the job of solving for optimal contracts and we do this with a CompetitiveContract class which inherits the attributes and methods of the more generic contract class and then adds a few methods such as calculating the optimal contract full commitment and renegotiation-proof contracts in the competitive lender case.  Note that the methods have the same names as the mon_contract class but some behave differently, reflecting the reversed objective and constraint.\n"
   ]
  },
  {
   "cell_type": "markdown",
   "metadata": {},
   "source": [
    "#### Full-commitment contracts"
   ]
  },
  {
   "cell_type": "markdown",
   "metadata": {},
   "source": [
    "When the competitive lender can commit to not-renegotiating the contract (i.e. to not pandering to the period-1 self's desire to renegotiate period-0's contract) and the contracts are exclusive (so no third party lender will enter to offer such renegotiation either) the contract solves\n",
    "\n",
    "$$\\max \\  u\\left( c_{0}\\right) +\\beta \\left[ \\delta u\\left( c_{1}\\right) +\\delta ^{2}u\\left( c_{2}\\right) \\right] $$\n",
    "\n",
    "subject to the zero profit constraint\n",
    "$$s.t.  (y_{0}-c_{0})+\\frac{(y_{1}-c_{1})}{(1+r)}+\\frac{(y_{2}-c_{2})}{(1+r)^{2}}  \\geq 0$$\n",
    "\n",
    "\n",
    "When $\\delta =\\frac{1}{(1+r)}$ for the CRRA case an optimum will set $c_{1}=c_{2}=\\overline{c}$ and $\\overline{c}=\\beta ^{\\frac{1}{\\rho }}c_{0}$ from which a closed form solution can be easily found (see fcommit() function below for formulas).\n",
    "\n",
    "**Note** that we are here assuming that the consumer has no choice but to consume their income stream $y$ under autarky.  This would be true if the agent does not have acess to any 'own savings' technologies.  Later below we see how things change only slightly when we allow them to use own savings to create a slightly more smooth autarky consumption stream (not perfectly smooth because they cannot overcome their self-control problems on their own)."
   ]
  },
  {
   "cell_type": "markdown",
   "metadata": {},
   "source": [
    "#### Renegotiaton-proof contracts"
   ]
  },
  {
   "cell_type": "markdown",
   "metadata": {},
   "source": [
    "***[THIS EXPLANATION HAS NOT BEEN UPDATED YET]***\n",
    "The agent's period-1-self's preferences differ from those of his period 0 self so they will often want to renegotiate any contract their period 0 self contracted, and the bank can profit from this renegotiation so long as its renegotiaton cost $\\kappa $ is low.   In particular if the period-0-self agreed to contract $\\left( \\bar{c}_{0},\\bar{c}_{1},\\bar{c}_{2}\\right) $ a monopolist would offer to renegotiate the remaining $(\\bar{c}_{1},\\bar{c}_{2})$ to contract $\\left( c_{1}^{r},c_{2}^{r}\\right) $ chosen to maximize\n",
    "$$\\max \\ \\ (y_{1}-c_{1})+\\frac{(y_{2}-c_{2})}{(1+r)}$$\n",
    "$$s.t.\\ \\ \\ \\ \\ u(c_{1})+\\beta \\delta u(c_{2})\\geq u(\\bar{c}_{1})+\\beta \\delta u(\\bar{c}_{2})$$\n",
    "We can show from the agent's first order conditions for the CRRA case that a renegotiated contract will always satisfy $c_{2}=\\beta ^{\\frac{1}{\\rho }}c_{1}$ and indeed for CRRA we get the closed form:\n",
    "$$c_{1}^{r}(\\bar{c}_{1},\\bar{c}_{2})=\\left[ \\frac{\\overline{u}(\\bar{c}_{1},\\bar{c}_{2})(1-\\rho )}{1+\\delta \\beta ^{\\frac{1}{\\rho }}}\\right] ^{\\frac{1}{1-\\rho }}$$\n",
    "\n",
    "and $c_{2}^{r}(\\bar{c}_{1},\\bar{c}_{2})=\\beta ^{\\frac{1}{\\rho }}c_{1}^{r}(\\bar{c}_{1},\\bar{c}_{2})$.  See the reneg(c) function.\n",
    "\n",
    "A sophisticated present-biased consumer anticipates that this type of renegotiation may happen and will only agree to renegotiation-proof contracts that do not renegotiate to favor their period 1 selves.  The profit-maximizing renegotiation-proof contract solves\n",
    "\n",
    "\n",
    "$$\\max_{c_{0},c_{1},c_{2}}\\Pi \\left( c_{0},c_{1},c_{2}\\right) $$\n",
    "$$U(c_{0},c_{1},c_{2})\\geq U_{0}(y_{0},y_{1},y_{2})$$\n",
    "$$\\Pi \\left( c_{1}^{r},c_{2}^{r}\\right) -\\Pi \\left( c_{1},c_{2}\\right) \\leq \\overline{\\kappa }$$\n",
    "The first constraint is the period 0 self's participation constraint and the second is the no-renegotiation proof constraint that the bank not find it profitable to offer to renegotiate to the contract that period-1 self will demand."
   ]
  },
  {
   "cell_type": "markdown",
   "metadata": {},
   "source": [
    "Let's create an object instance which we will call cM, printout the parameters associated with this instance and then run a few checks to make sure the cM.reneg function works right:"
   ]
  },
  {
   "cell_type": "code",
   "execution_count": 5,
   "metadata": {
    "collapsed": false
   },
   "outputs": [
    {
     "name": "stdout",
     "output_type": "stream",
     "text": [
      "beta    : 0.6\n",
      "delta   : 1.0\n",
      "guess   : [100 100 100]\n",
      "kappa   : 0\n",
      "r       : 0.0\n",
      "rho     : 0.75\n",
      "y       : [60, 120, 120]\n"
     ]
    }
   ],
   "source": [
    "cC = Contract.Competitive(beta = 0.6)\n",
    "cC.rho = 0.75\n",
    "cC.y = [60,120,120]\n",
    "cC.print_params()"
   ]
  },
  {
   "cell_type": "code",
   "execution_count": 6,
   "metadata": {
    "collapsed": false
   },
   "outputs": [
    {
     "name": "stdout",
     "output_type": "stream",
     "text": [
      "WARNING: competitive reneg_proof not working yet\n"
     ]
    }
   ],
   "source": [
    "# Let's find reneg-proof contract for pure profit with zero reneg. cost\n",
    "cCF=cC.fcommit()\n",
    "cC.kappa =0\n",
    "cCR = cC.reneg(cCF)\n",
    "cC.guess = cCR\n",
    "cCRP = cC.reneg_proof().x"
   ]
  },
  {
   "cell_type": "code",
   "execution_count": 7,
   "metadata": {
    "collapsed": false
   },
   "outputs": [
    {
     "name": "stdout",
     "output_type": "stream",
     "text": [
      "D is equal to 0.5005234621350616\n",
      "[ 150.16   99.49   50.35] 37.2903988437\n"
     ]
    }
   ],
   "source": [
    "#Analytically calculated renegotiation proof when kappa=0\n",
    "def ccrpa(C):\n",
    "    B = C.beta**(1/C.rho)\n",
    "    D = 1/(1+(1+B)*((C.beta+B)/(1+B))**(1/C.rho))\n",
    "    print(\"D is equal to\",D)\n",
    "    c0 = sum(C.y)*D\n",
    "    c1 = (sum(C.y)-c0)/(1+B)\n",
    "    c2 = B* c1\n",
    "    return np.array([c0, c1, c2])\n",
    "\n",
    "cCRPa =ccrpa(cC)\n",
    "print(cCRPa, cC.PVU(cCRPa,1))"
   ]
  },
  {
   "cell_type": "code",
   "execution_count": 8,
   "metadata": {
    "collapsed": false
   },
   "outputs": [
    {
     "name": "stdout",
     "output_type": "stream",
     "text": [
      "consumption and net saving in each period\n",
      "cCF        : [ 149.1    75.45   75.45]  sum   : 300.00\n",
      "cCF (net s): [-89.1   44.55  44.55]     profit: 0.00\n",
      "                                        PVU(1): 37.56\n",
      "                                        PVU(b): 18.86\n",
      "cCR        : [ 149.1   100.2    50.71]  sum   : 300.00\n",
      "cCR (net s): [-89.1   19.8   69.29]     profit: 0.00\n",
      "                                        PVU(1): 37.31\n",
      "                                        PVU(b): 19.06\n",
      "cCRP       : [ 126.13  115.45   58.42]  sum   : 300.00\n",
      "cCRP(net s): [-66.13   4.55  61.58]     profit: 0.00\n",
      "                                        PVU(1): 37.58\n",
      "                                        PVU(b): 19.75\n"
     ]
    }
   ],
   "source": [
    "# compare three contracts (string label into var name)\n",
    "print(\"consumption and net saving in each period\")\n",
    "for con in ['cCF ', 'cCR ', 'cCRP']:\n",
    "    C = eval(con)\n",
    "    y = cC.y\n",
    "    print(con + \"       : {}  sum   : {:4.2f}\"\n",
    "          .format(C, C.sum()))\n",
    "    print(con + \"(net s): {}     profit: {:4.2f}\"\n",
    "          .format(y - C, cC.profit(C,cC.y)))\n",
    "    print(\" \"*40+\"PVU(1): {:4.2f}\".format(cC.PVU(C,1)))\n",
    "    print(\" \"*40+r\"PVU(b): {:4.2f}\".format(cC.PVU(C[1:],cC.beta)))"
   ]
  },
  {
   "cell_type": "markdown",
   "metadata": {},
   "source": [
    "DNOTE: cCRP is sensitive to starting point.. also seems different from analtic solutions in next cell"
   ]
  },
  {
   "cell_type": "code",
   "execution_count": 10,
   "metadata": {
    "collapsed": false
   },
   "outputs": [
    {
     "data": {
      "text/plain": [
       "(array([ 126.13,  115.45,   58.42]), array([ 126.13,  115.45,   58.42]))"
      ]
     },
     "execution_count": 10,
     "metadata": {},
     "output_type": "execute_result"
    }
   ],
   "source": [
    "cCRP, cC.reneg(cCRP)\n",
    "#cC.reneg_proof_cons(cCRP)\n",
    "#cC.profit(cC.reneg(cCRP),cC.y)"
   ]
  },
  {
   "cell_type": "markdown",
   "metadata": {},
   "source": [
    "Note that cCR is __not__ the renegotiation-proof contract. It is what the bank would renegotiate if an accepted commitment contract were suddenly and unanticipatedly undone.  We'll solve for the renegotiation-proof contract shortly.  \n",
    "\n",
    "First let's just check that participation constraints are being met (consumer should to be pushed below their period-0 self's autarky utility under cMR):"
   ]
  },
  {
   "cell_type": "code",
   "execution_count": 11,
   "metadata": {
    "collapsed": false
   },
   "outputs": [
    {
     "name": "stdout",
     "output_type": "stream",
     "text": [
      "PVU from cCF: 28.12, from (autarky) y: 27.02, and from cCR: 27.97\n"
     ]
    }
   ],
   "source": [
    "print(\"PVU from cCF: {:4.2f}, from (autarky) y: {:4.2f}, and from cCR: {:4.2f}\"\n",
    "      .format(cC.PVU(cCF,cC.beta),cC.PVU(cC.y,cC.beta),cC.PVU(cCR,cC.beta)))"
   ]
  },
  {
   "cell_type": "markdown",
   "metadata": {},
   "source": [
    "The bank does not profit from this type of opportunistic renegotiation, if we assume 'competition' at time of renegotiation **although one might argue** that the relation is ex-ante competitive but ex-post favors the bank."
   ]
  },
  {
   "cell_type": "code",
   "execution_count": 12,
   "metadata": {
    "collapsed": false
   },
   "outputs": [
    {
     "name": "stdout",
     "output_type": "stream",
     "text": [
      "PV profits from cCF: 0.00   From cCR: 0.00\n"
     ]
    }
   ],
   "source": [
    "print(\"PV profits from cCF: {:4.2f}   From cCR: {:4.2f}\".format(cC.profit(cCF,cC.y),cC.profit(cCR,cC.y)))"
   ]
  },
  {
   "cell_type": "raw",
   "metadata": {},
   "source": [
    "A sophisticated consumer will however anticipate this type of opporunistic renegotiation and only agree to a renegotiation-proof contract.  "
   ]
  },
  {
   "cell_type": "markdown",
   "metadata": {},
   "source": [
    "## CODE BELOW HERE IS NOT YET FINISHED"
   ]
  },
  {
   "cell_type": "code",
   "execution_count": 9,
   "metadata": {
    "collapsed": false
   },
   "outputs": [
    {
     "ename": "NameError",
     "evalue": "name 'cMF' is not defined",
     "output_type": "error",
     "traceback": [
      "\u001b[1;31m---------------------------------------------------------------------------\u001b[0m",
      "\u001b[1;31mNameError\u001b[0m                                 Traceback (most recent call last)",
      "\u001b[1;32m<ipython-input-9-8b3568b012ef>\u001b[0m in \u001b[0;36m<module>\u001b[1;34m()\u001b[0m\n\u001b[0;32m      1\u001b[0m \u001b[1;31m# Let's find reneg-proof contract for pure profit with zero reneg. cost\u001b[0m\u001b[1;33m\u001b[0m\u001b[1;33m\u001b[0m\u001b[0m\n\u001b[0;32m      2\u001b[0m \u001b[0mcC\u001b[0m\u001b[1;33m.\u001b[0m\u001b[0mkappa\u001b[0m \u001b[1;33m=\u001b[0m\u001b[1;36m0\u001b[0m\u001b[1;33m\u001b[0m\u001b[0m\n\u001b[1;32m----> 3\u001b[1;33m \u001b[0mcC\u001b[0m\u001b[1;33m.\u001b[0m\u001b[0mguess\u001b[0m \u001b[1;33m=\u001b[0m \u001b[0mcMF\u001b[0m\u001b[1;33m\u001b[0m\u001b[0m\n\u001b[0m\u001b[0;32m      4\u001b[0m \u001b[0mcCRP\u001b[0m \u001b[1;33m=\u001b[0m \u001b[0mcM\u001b[0m\u001b[1;33m.\u001b[0m\u001b[0mreneg_proof\u001b[0m\u001b[1;33m(\u001b[0m\u001b[1;33m)\u001b[0m\u001b[1;33m.\u001b[0m\u001b[0mx\u001b[0m\u001b[1;33m\u001b[0m\u001b[0m\n\u001b[0;32m      5\u001b[0m \u001b[0mcCRP\u001b[0m\u001b[1;33m\u001b[0m\u001b[0m\n",
      "\u001b[1;31mNameError\u001b[0m: name 'cMF' is not defined"
     ]
    }
   ],
   "source": [
    "# Let's find reneg-proof contract for pure profit with zero reneg. cost\n",
    "cC.kappa =0\n",
    "cC.guess = cMF\n",
    "cCRP = cM.reneg_proof().x\n",
    "cCRP"
   ]
  },
  {
   "cell_type": "code",
   "execution_count": null,
   "metadata": {
    "collapsed": false
   },
   "outputs": [],
   "source": [
    "print(\"PV profits from full commitment cMF: {:4.1f}, from renegotiation-proof cMRP: {:4.1f}\"\n",
    "      .format(cM.profit(cMF,cM.y),cM.profit(cMRP,cM.y)))"
   ]
  },
  {
   "cell_type": "code",
   "execution_count": 24,
   "metadata": {
    "collapsed": false
   },
   "outputs": [
    {
     "data": {
      "text/plain": [
       "array([ 150.16,   99.49,   50.35])"
      ]
     },
     "execution_count": 24,
     "metadata": {},
     "output_type": "execute_result"
    }
   ],
   "source": [
    "cCRPa"
   ]
  },
  {
   "cell_type": "markdown",
   "metadata": {},
   "source": [
    "As expected the bank's profits are lowered due to its inability to commit to not renegotiate.\n",
    "\n",
    "Here's a plot."
   ]
  },
  {
   "cell_type": "code",
   "execution_count": 13,
   "metadata": {
    "collapsed": false
   },
   "outputs": [
    {
     "data": {
      "image/png": "[encoded data removed]",
      "text/plain": [
       "<matplotlib.figure.Figure at 0x7938dd8>"
      ]
     },
     "metadata": {},
     "output_type": "display_data"
    }
   ],
   "source": [
    "c1min, c1max = np.min(cCR)*0.6, np.max(cC.y)\n",
    "c1min = 0\n",
    "c1max = 160\n",
    "c1 = np.arange(0,c1max,c1max/20)\n",
    "c1_ = np.arange(40,c1max,c1max/20)\n",
    "y=cC.y\n",
    "#cCRP = cCRPa\n",
    "#indifference curves functions\n",
    "ubar0 = cC.PVU(cCF[1:3], 1.0)\n",
    "idc0 = cC.indif(ubar0, 1.0)\n",
    "ubar1 = cC.PVU(cCF[1:3],cC.beta)\n",
    "idc1 = cC.indif(ubar1,cC.beta)\n",
    "ubar0RP = cC.PVU(cCRP[1:3], 1.0)\n",
    "idc0RP = cC.indif(ubar0RP,1.0)\n",
    "ubar1RP = cC.PVU(cCRP[1:3], cC.beta)\n",
    "idc1RP = cC.indif(ubar1RP,cC.beta)\n",
    "\n",
    "\n",
    "fig, ax = plt.subplots()\n",
    "# trick to display contract points and coordinate lines http://bit.ly/1CaTMDX\n",
    "xx = [cCF[1], cCRP[1]]\n",
    "yy = [cCF[2], cCRP[2]]\n",
    "plt.scatter(xx,yy, s=50, marker='o',color='b')\n",
    "[plt.plot([dot_x, dot_x] ,[0, dot_y],':',linewidth = 1,color='black' ) for dot_x, dot_y in zip(xx,yy) ] \n",
    "[plt.plot([0, dot_x] ,[dot_y, dot_y],':',linewidth = 1,color='black' ) for dot_x, dot_y in zip(xx,yy) ]\n",
    "\n",
    "# indifference curves\n",
    "plt.plot(c1_,idc0(c1_),color='blue')          \n",
    "plt.plot(c1_,idc1(c1_),color='red') \n",
    "plt.plot(c1_,idc0RP(c1_),color='blue')\n",
    "plt.plot(c1_,idc1RP(c1_),color='red')\n",
    "# rays\n",
    "plt.plot(c1, c1,':',color='black')\n",
    "plt.plot(c1, cC.beta**(1/cC.rho)*c1,':',color='black')\n",
    "# isoprofit line(s)\n",
    "#isoprofline = cC.isoprofit(cC.profit(cMF,cC.y)-(y[0]-cCF[0]), y)\n",
    "#plt.plot(c1,  isoprofline(c1),':' )\n",
    "\n",
    "ax.spines['right'].set_color('none'), ax.spines['top'].set_color('none')\n",
    "plt.ylim((c1min, c1max*0.9)), plt.xlim((c1min, c1max*0.9))\n",
    "ax.xaxis.tick_bottom(),ax.yaxis.tick_left()\n",
    "plt.xlabel('$c_{1}$'); plt.ylabel('$c_{2}$')\n",
    "\n",
    "# label the points\n",
    "ax.text(cCF[1]-1, cCF[2]+3, r'$F$', fontsize=15)\n",
    "ax.text(cCRP[1]-3, cCRP[2]-5, r'$P$', fontsize=15)\n",
    "ax.text(cCRP[1], -6, r'$c^{cp}_{1}$', fontsize=15)\n",
    "ax.text(-8, cCRP[2], r'$c^{cp}_{2}$', fontsize=15)\n",
    "ax.text(cCF[1], -6, r'$c^{cf}_{1}$', fontsize=15)\n",
    "ax.text(-8, cCF[2], r'$c^{cf}_{2}$', fontsize=15)\n",
    "\n",
    "#turn off the axis numbers\n",
    "ax.axes.get_xaxis().set_visible(False)\n",
    "ax.axes.get_yaxis().set_visible(False)\n",
    "plt.savefig('figs\\MonopolyFig.pdf', format='pdf')\n",
    "plt.show()"
   ]
  },
  {
   "cell_type": "code",
   "execution_count": 13,
   "metadata": {
    "collapsed": false
   },
   "outputs": [],
   "source": [
    "# isoprofit lines could be plotted like so\n",
    "# isop  = cM.isoprofit( 0.0, cM.y)   # returns a function of c1 \n",
    "# plt.plot(c1, isop(c1))"
   ]
  },
  {
   "cell_type": "code",
   "execution_count": 14,
   "metadata": {
    "collapsed": false,
    "scrolled": true
   },
   "outputs": [
    {
     "name": "stdout",
     "output_type": "stream",
     "text": [
      "cMF : [ 115.51   91.33   91.33]\n",
      "cMR : [ 115.51  101.35   80.13]\n",
      "cMRP: [ 116.2   102.3    80.88]\n"
     ]
    }
   ],
   "source": [
    "for contrat in ['cMF ', 'cMR ', 'cMRP']:\n",
    "    print(contrat +\":\", eval(contrat))"
   ]
  },
  {
   "cell_type": "markdown",
   "metadata": {},
   "source": [
    "##Optimal contract when renegotiation cost $\\kappa $ >0"
   ]
  },
  {
   "cell_type": "markdown",
   "metadata": {},
   "source": [
    "Plot to explore how the renegotiation cost $\\kappa $ affects the terms of the contract and firm profits"
   ]
  },
  {
   "cell_type": "code",
   "execution_count": 15,
   "metadata": {
    "collapsed": false
   },
   "outputs": [
    {
     "data": {
      "image/png": "[encoded data removed]",
      "text/plain": [
       "<matplotlib.figure.Figure at 0x7dc4128>"
      ]
     },
     "metadata": {},
     "output_type": "display_data"
    }
   ],
   "source": [
    "# Note:  re-run all cells above if the plot seems wrong\n",
    "cM.y = np.array([100,100,100]) \n",
    "cMF = cM.fcommit()\n",
    "num_pts = 21\n",
    "kaps = np.linspace(0, 1.25, num_pts)      # different renegotiation cost values \n",
    "cMRP, profitRP = np.zeros((3,num_pts)), np.zeros(num_pts)  # init (c0,c1,c2) and profits at each kappa\n",
    "\n",
    "for i in range(0,num_pts):               # look through kappa recalculating optimal contract each time\n",
    "    cM.kappa = kaps[i] \n",
    "    cMRP[:,i] = cM.reneg_proof().x \n",
    "    profitRP[i] = cM.profit(cMRP[:,i],cM.y)\n",
    "\n",
    "c0,c1,c2 = cMRP[0,:], cMRP[1,:],cMRP[2,:]                # save results for plotting\n",
    "\n",
    "fig, (ax0, ax1) = plt.subplots(nrows = 2)\n",
    "#ax0.plot(kaps, c0, label='$c_{0}$')\n",
    "ax0.plot(kaps, c1, label='$c_{1}$')\n",
    "ax0.plot(kaps, c2, label='$c_{2}$')\n",
    "ax0.plot(kaps, np.ones(num_pts)*cMF[1], '--', label='$c_{F}$')\n",
    "ax0.grid()\n",
    "ax0.set_title('Renegotiation Proof Contract and $\\kappa$'), ax0.set_ylabel('consumption')\n",
    "ax0.legend(loc=9,bbox_to_anchor=(0.5, -1.7), ncol = 3)\n",
    "\n",
    "ax1.plot(kaps, profitRP)\n",
    "ax1.set_ylabel('Profit')\n",
    "ax1.grid()\n",
    "ax1.set_xlabel('renegotiation cost $\\kappa$')\n",
    "plt.tight_layout()\n",
    "plt.show()"
   ]
  },
  {
   "cell_type": "markdown",
   "metadata": {},
   "source": [
    "At lower renegotiation costs the bank is forced to offer less consumption smoothing in periods 1 and 2 as a way to credibly commit to limit their gains to renegotiation with a period 1 self.  Hence bank profits rise with their ability to commit to incur a renegotiation cost $\\kappa$\n",
    "\n",
    "We haven't plotted $c_{0}$ for each $\\kappa$ but that's because it varies less relative to $c_{1}, c_{2}$ and way above the full commitment consumption smoothing."
   ]
  },
  {
   "cell_type": "code",
   "execution_count": 16,
   "metadata": {
    "collapsed": false
   },
   "outputs": [
    {
     "name": "stdout",
     "output_type": "stream",
     "text": [
      "cMF[0]:  115.513783331\n",
      "  max, mean and min of c0 in cMRP:\n",
      "116.20 115.68 115.51 "
     ]
    }
   ],
   "source": [
    "print(\"cMF[0]: \",cMF[0])\n",
    "print(\"  max, mean and min of c0 in cMRP:\")\n",
    "for item in (c0.max(),c0.mean(),c0.min()):\n",
    "    print(\"{:5.2f}\".format(item), end=' ')"
   ]
  },
  {
   "cell_type": "code",
   "execution_count": 17,
   "metadata": {
    "collapsed": false
   },
   "outputs": [
    {
     "data": {
      "image/png": "[encoded data removed]",
      "text/plain": [
       "<matplotlib.figure.Figure at 0x7ffbc50>"
      ]
     },
     "metadata": {},
     "output_type": "display_data"
    }
   ],
   "source": [
    "fig2 = plt.figure()  \n",
    "plt.plot(kaps, c0), plt.ylim((115.5,116.5))\n",
    "plt.show()"
   ]
  },
  {
   "cell_type": "markdown",
   "metadata": {},
   "source": [
    "### The choice to become a commercial non-profit"
   ]
  },
  {
   "cell_type": "markdown",
   "metadata": {},
   "source": [
    "### Modeling the non-profit"
   ]
  },
  {
   "cell_type": "markdown",
   "metadata": {},
   "source": [
    "The no-renegotiation constraint has two parts.  A pure for-profit captures fraction $\\alpha = 1$ of profits and faces renegotiation cost \n",
    "not-for-profit of type $\\alpha$ and faces renegotiation cost $h(\\alpha) = h(1)$.  More generally a non-profit of type $\\alpha$ has a no-renegotiation constraint of the form \n",
    "$$\\alpha \\left[ \\Pi ^{R}-\\Pi \\right] \\geq h(\\alpha )$$\n",
    "\n",
    "To be specific here let's model this as \n",
    "$$h(\\alpha )=\\kappa \\left( 1-\\alpha \\right) $$\n",
    "\n",
    "So that at $\\alpha =1$ there is no cost to renegotiation and at $0< \\alpha <1$ there is a non-negative non-pecuniary cost of up to $\\kappa$.  The constraint can then be written as \n",
    "$$\\left[ \\Pi ^{R}-\\Pi \\right] \\geq C(\\alpha )=\\frac{h(\\alpha )}{\\alpha }$$"
   ]
  },
  {
   "cell_type": "code",
   "execution_count": 18,
   "metadata": {
    "collapsed": false
   },
   "outputs": [
    {
     "data": {
      "image/png": "[encoded data removed]",
      "text/plain": [
       "<matplotlib.figure.Figure at 0x79f3f98>"
      ]
     },
     "metadata": {},
     "output_type": "display_data"
    }
   ],
   "source": [
    "# Similar to above but solve for contract as a function of firm type ALPHA\n",
    "y = np.array([100,100,100])          # To see how endowment affects contract\n",
    "cM.y     = y                            \n",
    "cMF      = cM.fcommit()\n",
    "num_pts  = 10\n",
    "alphs    = np.linspace(0.5,1.0,num_pts)       # iterate over different values of beta\n",
    "C        = 4*(np.ones(num_pts) - alphs)     #  h(alpha)/alpha  or cost of renegotiaton\n",
    "cMRP     = np.zeros((3,num_pts))          # matrix for (c0,c1,c2) at each kappa\n",
    "profitRP = np.zeros(num_pts)\n",
    "NprofitRP =np.zeros(num_pts)\n",
    "\n",
    "for i in range(0,num_pts):\n",
    "    cM.kappa = C[i]                 # change optimal contract\n",
    "    cMRP[:,i] = cM.reneg_proof().x \n",
    "    cM.guess =  cMRP[:,i]                 # use this sol as guess for next optimum\n",
    "    profitRP[i] = cM.profit(cMRP[:,i],y)\n",
    "    NprofitRP[i] = alphs[i]*cM.profit(cMRP[:,i],y)\n",
    "\n",
    "c0,c1,c2 = cMRP[0,:], cMRP[1,:],cMRP[2,:]                # save results for plotting\n",
    "\n",
    "fig3 = plt.figure()  \n",
    "plt.plot(alphs,c1,'--',label='$c_{1}$')\n",
    "plt.plot(alphs,c2,label='$c_{2}$')\n",
    "plt.plot(alphs,np.ones(num_pts)*cMF[1],label='$c_{1}$ commit')\n",
    "plt.grid()\n",
    "plt.title('Renegotiation Proof Contract and alpha' )\n",
    "plt.xlabel('alpha ')\n",
    "plt.ylabel('consumption')\n",
    "plt.legend(loc='upper left')\n",
    "plt.show()"
   ]
  },
  {
   "cell_type": "markdown",
   "metadata": {},
   "source": [
    "### 'Commercial' non-profits \n",
    "A 'pure' for profit (with $\\alpha$=1.0) earns a reduced (possibly negative) profit due to it's inability to commit. Seen in the plot as profits the height of the horizontal line.\n",
    "\n",
    "Any non-profit with $\\alpha$ above about 0.4 and below 1.0 can better commit to not renegotiate a larger set of contracts and therefore can offer a more profitable renegotiation-proof contract. Even though they capture only fraction $\\alpha$ of those profits, the take home profits exceed the profits of the pure for-profit. "
   ]
  },
  {
   "cell_type": "code",
   "execution_count": 19,
   "metadata": {
    "collapsed": false
   },
   "outputs": [
    {
     "data": {
      "text/plain": [
       "<matplotlib.legend.Legend at 0x87e42e8>"
      ]
     },
     "execution_count": 19,
     "metadata": {},
     "output_type": "execute_result"
    },
    {
     "data": {
      "image/png": "[encoded data removed]",
      "text/plain": [
       "<matplotlib.figure.Figure at 0x8668588>"
      ]
     },
     "metadata": {},
     "output_type": "display_data"
    }
   ],
   "source": [
    "profitRP_full = profitRP[num_pts-1]*np.ones(num_pts) \n",
    "fig = plt.figure()\n",
    "ax = fig.add_subplot(111)\n",
    "plt.title('Renegotiation-Proof Profits vs. alpha')\n",
    "plt.xlabel('alpha ')\n",
    "plt.ylabel('Profits, take-home profits')\n",
    "plt.plot(alphs,profitRP,'--',label='pure-profit profits')\n",
    "plt.plot(alphs,NprofitRP,label='Non-profit take home profits')\n",
    "ax.fill_between(alphs, np.fmax(profitRP_full,NprofitRP), profitRP_full)\n",
    "plt.legend(loc='upper center', bbox_to_anchor=(0.5, -0.2),\n",
    "          fancybox=None, ncol=5)"
   ]
  },
  {
   "cell_type": "markdown",
   "metadata": {},
   "source": [
    "The more profit-focused (higher $\\alpha$) banks tend to offer seemingly 'riskier' contracts which concentrate repayment in the last period.  In this case at very high $\\alpha$ the consumer actually is a net borrower in period 0 and 1 and faces heavy repayment in period 2.\n",
    "\n",
    "One interpretation:  Sophisticated consumer knows that a bank that offers a smoothed consumption (balanced repayment) profile will approach their later self to opportunistically offer a new loan which will impose a heavy repayment in the last period. The consumer balks and then only agrees to a contract that the bank can credibly commit to not renegotiate, one that limits the amount of  period 1 self's "
   ]
  },
  {
   "cell_type": "code",
   "execution_count": 20,
   "metadata": {
    "collapsed": false
   },
   "outputs": [
    {
     "data": {
      "text/plain": [
       "<matplotlib.legend.Legend at 0x880ac50>"
      ]
     },
     "execution_count": 20,
     "metadata": {},
     "output_type": "execute_result"
    },
    {
     "data": {
      "image/png": "[encoded data removed]",
      "text/plain": [
       "<matplotlib.figure.Figure at 0x87fb9e8>"
      ]
     },
     "metadata": {},
     "output_type": "display_data"
    }
   ],
   "source": [
    "#plot(alphs,cMRP[0,:],label='$c_{0}$')\n",
    "fig = plt.figure()\n",
    "plt.plot(alphs,cMRP[1,:],'--',label='$c_{1}$')\n",
    "plt.plot(alphs,cMRP[2,:],label='$c_{2}$')\n",
    "plt.title('Consumption profile as a function of alpha')\n",
    "plt.legend(loc='upper center', bbox_to_anchor=(0.5, -0.05),\n",
    "          fancybox=None, ncol=5)"
   ]
  },
  {
   "cell_type": "code",
   "execution_count": 21,
   "metadata": {
    "collapsed": false
   },
   "outputs": [
    {
     "data": {
      "image/png": "[encoded data removed]",
      "text/plain": [
       "<matplotlib.figure.Figure at 0x8876278>"
      ]
     },
     "metadata": {},
     "output_type": "display_data"
    }
   ],
   "source": [
    "fig = plt.figure()\n",
    "plt.plot(alphs,cMRP[0,:]-y[0],label='$-c_{0}$')\n",
    "plt.plot(alphs,y[1]-cMRP[1,:],'--',label=' $c_{1}$')\n",
    "plt.plot(alphs,y[2]-cMRP[2,:],label='$c_{2}$')\n",
    "plt.title('Period 0 Loan, repayment')\n",
    "plt.legend(loc='upper center', bbox_to_anchor=(0.5, 0.0),\n",
    "          fancybox=None, ncol=5)\n",
    "plt.gca().spines['bottom'].set_position(('data',0))"
   ]
  },
  {
   "cell_type": "markdown",
   "metadata": {},
   "source": [
    "**Loan, repayment and Profit breakdown by periods as function of alpha**"
   ]
  },
  {
   "cell_type": "code",
   "execution_count": 22,
   "metadata": {
    "collapsed": false
   },
   "outputs": [
    {
     "name": "stdout",
     "output_type": "stream",
     "text": [
      "alpha      c0     c1    c2        profit = (y0-cMRP0) + (y1-cMRP1) + (y2-cMRP2)\n",
      "-------------------------------------------------------------------------------\n",
      " 0.50:   115.51  91.33 91.33,       1.82 =   -15.51   +     8.67   +     8.67   \n",
      " 0.56:   115.51  91.33 91.33,       1.82 =   -15.51   +     8.67   +     8.67   \n",
      " 0.61:   115.51  91.33 91.33,       1.82 =   -15.51   +     8.67   +     8.67   \n",
      " 0.67:   115.51  91.33 91.33,       1.82 =   -15.51   +     8.67   +     8.67   \n",
      " 0.72:   115.53  91.66 90.98,       1.82 =   -15.53   +     8.34   +     9.02   \n",
      " 0.78:   115.58  92.75 89.87,       1.80 =   -15.58   +     7.25   +    10.13   \n",
      " 0.83:   115.64  93.99 88.63,       1.75 =   -15.64   +     6.01   +    11.37   \n",
      " 0.89:   115.70  95.48 87.17,       1.64 =   -15.70   +     4.52   +    12.83   \n",
      " 0.94:   115.79  97.46 85.31,       1.44 =   -15.79   +     2.54   +    14.69   \n",
      " 1.00:   116.05 102.38 80.95,       0.63 =   -16.05   +    -2.38   +    19.05   \n",
      "\n"
     ]
    }
   ],
   "source": [
    "print(\"alpha      c0     c1    c2        profit = (y0-cMRP0) + (y1-cMRP1) + (y2-cMRP2)\")\n",
    "print(\"-\"*79)\n",
    "for i,a in enumerate(alphs):\n",
    "    print(\"{:5.2f}:   {:6.2f} {:6.2f} {:5.2f},   {:8.2f} = {:8.2f}   + {:8.2f}   + {:8.2f}   \"\n",
    "          .format(a, cMRP[0,i], cMRP[1,i], cMRP[2,i],profitRP[i],y[0]-cMRP[0,i],y[1]-cMRP[1,i],y[2]-cMRP[2,i],))\n",
    "print()"
   ]
  },
  {
   "cell_type": "markdown",
   "metadata": {
    "collapsed": false
   },
   "source": [
    "The inability to commit means the renegotiation proof contract doesn't smooth consumption very well for the consumer.  This ends up hurting the bank, since they must now 'compensate' the consumer for the higher variance of consumption if the participation constraint is still to be met.  "
   ]
  },
  {
   "cell_type": "markdown",
   "metadata": {},
   "source": [
    "The code that follows produces a grid of subplots to illustrate how the results (the relation between $\\alpha$ and retained profits) depends on the initial y vector, which in turn also determines whether this will be borrowing or saving.  "
   ]
  },
  {
   "cell_type": "markdown",
   "metadata": {},
   "source": [
    "##The role of y\n",
    "###Captured profits and net saving as function of $\\alpha$"
   ]
  },
  {
   "cell_type": "code",
   "execution_count": 23,
   "metadata": {
    "collapsed": false
   },
   "outputs": [
    {
     "name": "stdout",
     "output_type": "stream",
     "text": [
      "Left: captured profits (shaded = NP dominates). Right: net saving in each period as function of α :\n"
     ]
    },
    {
     "data": {
      "image/png": "[encoded data removed]",
      "text/plain": [
       "<matplotlib.figure.Figure at 0x79c2748>"
      ]
     },
     "metadata": {},
     "output_type": "display_data"
    }
   ],
   "source": [
    "print(\"Left: captured profits (shaded = NP dominates). Right: net saving in each period as function of α :\")\n",
    "num_pts  = 21\n",
    "alphs    = np.linspace(0,1,num_pts)       # iterate over different alphas\n",
    "C        = 4*(np.ones(num_pts)-alphs)     # h(alpha)/alpha  or cost of renegotiaton\n",
    "cMRP     = np.zeros((3,num_pts))             # to store (c0,c1,c2) for each alpha\n",
    "profitRP = np.zeros(num_pts)\n",
    "NprofitRP= np.zeros(num_pts)\n",
    "\n",
    "fig, ax = plt.subplots(10,sharex=True)\n",
    "numy0 = 3     # rows of subplots\n",
    "ax = plt.subplot(numy0,2,1)\n",
    "\n",
    "# Vary y contracts (maintaining PV at 300 in zero interest rate setting)\n",
    "for j in range(1, numy0 + 1):\n",
    "    y0 = 70 + j*20\n",
    "    y = np.array([y0,100,100])            \n",
    "    y = np.array([y0,(300-y0)/2,(300-y0)/2])   \n",
    "          \n",
    "    ax1 = plt.subplot(numy0, 2, j*2-1, sharex=ax)  \n",
    "    for i in range(0, num_pts):\n",
    "        cM.kappa = C[i]             # change reneg cost  \n",
    "        cM.y = y\n",
    "        cMRP[:,i]    = cM.reneg_proof().x \n",
    "        cM.guess     = cMRP[:,i]         # store sol as guess for next search\n",
    "        profitRP[i]  = cM.profit(cMRP[:,i], y)\n",
    "        NprofitRP[i] = alphs[i]*cM.profit(cMRP[:,i], y)\n",
    "       #print(\"alph:{0:4.2f} profitRP:{1:5.2f} \".format(alphs[i],cM.profit(cMRP[:,i],y)))\n",
    "        \n",
    "    #ax.set_ylim([0, cM.profit(cMF,y)*1.2])\n",
    "    \n",
    "    profitRP_full = profitRP[num_pts-1]*np.ones(num_pts) \n",
    "    ax1.set_title(r'$y=( %2.0f, %2.0f, %2.0f)$' %(y0,y[1],y[2]))\n",
    "    ax1.plot(alphs, profitRP)\n",
    "    ax1.plot(alphs, NprofitRP)\n",
    "    ax1.fill_between(alphs, np.fmax(NprofitRP, np.fmax(np.zeros(num_pts),profitRP_full)), np.fmax(profitRP_full,np.zeros(num_pts)))\n",
    "    ax1.plot(alphs, np.zeros(num_pts))\n",
    "    plt.grid()\n",
    "    \n",
    "    ax2 = plt.subplot(numy0,2,j*2,sharex=ax, sharey=ax)    # Plot contract terms in right column plot\n",
    "    #ax1.set_ylim([0, 25])\n",
    "    ax2.plot(alphs, y0 - cMRP[0,:],\"d--\")\n",
    "    ax2.plot(alphs, y[1] - cMRP[1,:])\n",
    "    ax2.plot(alphs, y[2] - cMRP[2,:],\"x-\")\n",
    "    ax2.axhline(y=0, color ='k')\n",
    "    #ax2.plot(alphs, y[0]*np.ones(num_pts))\n",
    "    #ax2.plot(alphs, y[1]*np.ones(num_pts))\n",
    "    plt.grid()    \n",
    "plt.tight_layout()\n",
    "plt.show()    "
   ]
  },
  {
   "cell_type": "code",
   "execution_count": 24,
   "metadata": {
    "collapsed": false
   },
   "outputs": [],
   "source": [
    "plt.close('all')"
   ]
  },
  {
   "cell_type": "markdown",
   "metadata": {},
   "source": [
    "**INTERPRETATION**: The left column of plots above shows renegotiation-proof profits as a function of $\\alpha$ where $\\alpha$ affects both the share of profits that are captured as well as the cost of renegotiation as described above.  The blue shaded area indicates where commercial non-profits (that choose an $\\alpha <1$) capture more profit than a pure for-profit. \n",
    "\n",
    "The right column of plots shows the terms of the associated contract displayed as 'net savings' (y0-c0), (y1-c1), and (y2-c2).  When these are positive the client is saving or repaying, when negative they are borrowing.\n",
    "\n",
    "When we keep the PV of y constant but change the ratio of period zero income y0 to later period income, y vectors that lead to borrowing (lower y0, higher y1,y2) deliver higher full-commitment (and renegotiation-proof) profits at any level of alpha. \n",
    "\n",
    "Since most of the profits are in the 0 to 1 period, they weigh more heavily in total profits.  Turning non-profit is only attractive at relatively high values of alpha (since at lower alpha they're forfeiting the period 0-1 profits). At higher y0 (tilted more toward savings) full commitment (and renegotiation-proof) profits are lower The pattern seems to be that as we move toward first period savings..."
   ]
  },
  {
   "cell_type": "markdown",
   "metadata": {},
   "source": [
    "### NOT FINISHED\n",
    "Profitability as a function of y0"
   ]
  },
  {
   "cell_type": "code",
   "execution_count": 24,
   "metadata": {
    "collapsed": false
   },
   "outputs": [],
   "source": [
    "cM.kappa = 0"
   ]
  },
  {
   "cell_type": "code",
   "execution_count": 25,
   "metadata": {
    "collapsed": false
   },
   "outputs": [],
   "source": [
    "PDV =300\n",
    "y0_step = 2\n",
    "y0_start = 50\n",
    "y0_end = PDV -50\n",
    "Y0 = range(y0_start,y0_end,y0_step)\n",
    "n = len(Y0)\n",
    "profity0 = zeros(n)\n",
    "profity0B = zeros(n)\n",
    "i=0\n",
    "\n",
    "for y0 in Y0:  \n",
    "    ybar = (PDV-y0)/2\n",
    "    cM.y =([y0,ybar,ybar])\n",
    "    cMF = cM.fcommit()\n",
    "    cMRP = cM.reneg_proof().x\n",
    "    cM.guess = cMRP\n",
    "    profity0[i] = cM.profit(cMRP,cM.y)\n",
    "    profity0B[i] = cM.profit(cMF,cM.y)\n",
    "    \n",
    "    i += 1"
   ]
  },
  {
   "cell_type": "code",
   "execution_count": 26,
   "metadata": {
    "collapsed": false
   },
   "outputs": [
    {
     "ename": "SyntaxError",
     "evalue": "invalid syntax (<ipython-input-26-3fcc6e5b8381>, line 4)",
     "output_type": "error",
     "traceback": [
      "\u001b[1;36m  File \u001b[1;32m\"<ipython-input-26-3fcc6e5b8381>\"\u001b[1;36m, line \u001b[1;32m4\u001b[0m\n\u001b[1;33m    plt.ylim([80,160])c\u001b[0m\n\u001b[1;37m                      ^\u001b[0m\n\u001b[1;31mSyntaxError\u001b[0m\u001b[1;31m:\u001b[0m invalid syntax\n"
     ]
    }
   ],
   "source": [
    "plt.plot(profity0,Y0,'b-',label=\"reneg. proof\")\n",
    "plt.plot(profity0B,Y0,'r',label=\"full commit\")\n",
    "plt.xlim([-2,6])\n",
    "plt.ylim([80,160])c\n",
    "\n",
    "plt.title(\"Profits as a function of y0\")\n",
    "plt.xlabel(\"profits $\\pi$\")\n",
    "plt.ylabel(\"y0\")\n",
    "plt.legend(loc='center right')\n",
    "plt.grid()\n",
    "plt.axvline()"
   ]
  },
  {
   "cell_type": "markdown",
   "metadata": {},
   "source": [
    "## Modifications when consumer has a home savings option##\n",
    "The above ana"
   ]
  },
  {
   "cell_type": "code",
   "execution_count": null,
   "metadata": {
    "collapsed": false
   },
   "outputs": [],
   "source": [
    "cM.kappa =0\n",
    "cM.guess = cMF\n",
    "cMRP = cM.reneg_proof()\n",
    "cMRP.x"
   ]
  },
  {
   "cell_type": "code",
   "execution_count": null,
   "metadata": {
    "collapsed": false
   },
   "outputs": [],
   "source": [
    "plot(alphs,C)"
   ]
  },
  {
   "cell_type": "code",
   "execution_count": null,
   "metadata": {
    "collapsed": false
   },
   "outputs": [],
   "source": [
    "# Three subplots sharing both x/y axes\n",
    "f, (ax1, ax2, ax3) = plt.subplots(3, sharex=True, sharey=True)\n",
    "ax1.plot(alphs, profitRP)\n",
    "ax1.plot(alphs, NprofitRP)\n",
    "ax1.plot(alphs,cM.profit(cMF,y)*ones(num_pts))\n",
    "ax1.grid(True)\n",
    "ax1.set_title('Sharing both axes')\n",
    "ax2.plot(alphs, NprofitRP)\n",
    "ax3.plot(alphs,cM.profit(cMF,y)*ones(num_pts))\n",
    "show()"
   ]
  },
  {
   "cell_type": "markdown",
   "metadata": {},
   "source": [
    "## Other Results"
   ]
  },
  {
   "cell_type": "markdown",
   "metadata": {},
   "source": [
    "### $\\beta$ and loan size"
   ]
  },
  {
   "cell_type": "markdown",
   "metadata": {},
   "source": [
    "Let's plot the the relationship between period 0 loan size in a full-commitment contract and the extent of present-bias captured by $\\beta$"
   ]
  },
  {
   "cell_type": "code",
   "execution_count": null,
   "metadata": {
    "collapsed": false
   },
   "outputs": [],
   "source": [
    "cM = MonopolyContract(0.8)               # create an instance m\n",
    "\n",
    "num_pts = 21\n",
    "betas = linspace(0.1,1,num_pts)           # iterate over different values of beta\n",
    "CMF = zeros((3,num_pts))                  # a three row matrix to store (c0,c1,c2) for each beta\n",
    "\n",
    "for i in range(0,num_pts):\n",
    "    cM.beta = betas[i]                    # change beta before recalculating optimal contract\n",
    "    CMF[:,i] = cM.fcommit()       \n",
    "\n",
    "loan   = CMF[0,:] - cM.y[0]               # save results for plotting\n",
    "repay1 = CMF[1,:] - cM.y[1]\n",
    "repay2 = CMF[2,:] - cM.y[2]\n",
    "\n",
    "plot(betas,loan,'--')                          # plot    \n",
    "plot(betas,repay1)\n",
    "plot(betas,repay2)\n",
    "grid()\n",
    "title('Monopoly Commitment Contract as function of beta')\n",
    "xlabel('beta')\n",
    "ylabel('net repayment')\n",
    "legend(['loan','repay1','repay2'])"
   ]
  },
  {
   "cell_type": "markdown",
   "metadata": {},
   "source": [
    "### Example full commitment contract (and renegotiation with a naive consumer)"
   ]
  },
  {
   "cell_type": "markdown",
   "metadata": {},
   "source": [
    "Here is an example of the full-commitment contracts a monopolist offers and the contract a monopolist and a naive consumer would renegotiate to from that same full commitment contract (but note that a intermediary who knows they are dealing with a naive consumer would bait them with a different initial contract). "
   ]
  },
  {
   "cell_type": "code",
   "execution_count": null,
   "metadata": {
    "collapsed": false
   },
   "outputs": [],
   "source": [
    "cM.beta = 0.8            # Reset to beta = 0.8 case and print out other parameters\n",
    "cM.params()"
   ]
  },
  {
   "cell_type": "code",
   "execution_count": null,
   "metadata": {
    "collapsed": false
   },
   "outputs": [],
   "source": [
    "cMF = cM.fcommit()      \n",
    "cMr = cM.reneg(cMF)       \n",
    "y = cM.y\n",
    "print '0-Discounted utility full commit: {0:4.3f}   and   Naive renegotiate: {1:4.3f}'.format(cM.PVU(cMF), cM.PVU(cMr))\n",
    "print 'Profits from full commit: {0:4.3f}   and   Naive renegotiate:{1:4.3f}'.format(cM.profit(y,cMF), cM.profit(y,cMr))"
   ]
  },
  {
   "cell_type": "markdown",
   "metadata": {},
   "source": [
    "##### Scratch play area"
   ]
  },
  {
   "cell_type": "markdown",
   "metadata": {},
   "source": [
    "#### 3D plots"
   ]
  },
  {
   "cell_type": "code",
   "execution_count": 54,
   "metadata": {
    "collapsed": false,
    "scrolled": true
   },
   "outputs": [
    {
     "data": {
      "application/javascript": [
       "/* Put everything inside the global mpl namespace */\n",
       "window.mpl = {};\n",
       "\n",
       "mpl.get_websocket_type = function() {\n",
       "    if (typeof(WebSocket) !== 'undefined') {\n",
       "        return WebSocket;\n",
       "    } else if (typeof(MozWebSocket) !== 'undefined') {\n",
       "        return MozWebSocket;\n",
       "    } else {\n",
       "        alert('Your browser does not have WebSocket support.' +\n",
       "              'Please try Chrome, Safari or Firefox ≥ 6. ' +\n",
       "              'Firefox 4 and 5 are also supported but you ' +\n",
       "              'have to enable WebSockets in about:config.');\n",
       "    };\n",
       "}\n",
       "\n",
       "mpl.figure = function(figure_id, websocket, ondownload, parent_element) {\n",
       "    this.id = figure_id;\n",
       "\n",
       "    this.ws = websocket;\n",
       "\n",
       "    this.supports_binary = (this.ws.binaryType != undefined);\n",
       "\n",
       "    if (!this.supports_binary) {\n",
       "        var warnings = document.getElementById(\"mpl-warnings\");\n",
       "        if (warnings) {\n",
       "            warnings.style.display = 'block';\n",
       "            warnings.textContent = (\n",
       "                \"This browser does not support binary websocket messages. \" +\n",
       "                    \"Performance may be slow.\");\n",
       "        }\n",
       "    }\n",
       "\n",
       "    this.imageObj = new Image();\n",
       "\n",
       "    this.context = undefined;\n",
       "    this.message = undefined;\n",
       "    this.canvas = undefined;\n",
       "    this.rubberband_canvas = undefined;\n",
       "    this.rubberband_context = undefined;\n",
       "    this.format_dropdown = undefined;\n",
       "\n",
       "    this.image_mode = 'full';\n",
       "\n",
       "    this.root = $('<div/>');\n",
       "    this._root_extra_style(this.root)\n",
       "    this.root.attr('style', 'display: inline-block');\n",
       "\n",
       "    $(parent_element).append(this.root);\n",
       "\n",
       "    this._init_header(this);\n",
       "    this._init_canvas(this);\n",
       "    this._init_toolbar(this);\n",
       "\n",
       "    var fig = this;\n",
       "\n",
       "    this.waiting = false;\n",
       "\n",
       "    this.ws.onopen =  function () {\n",
       "            fig.send_message(\"supports_binary\", {value: fig.supports_binary});\n",
       "            fig.send_message(\"send_image_mode\", {});\n",
       "            fig.send_message(\"refresh\", {});\n",
       "        }\n",
       "\n",
       "    this.imageObj.onload = function() {\n",
       "            if (fig.image_mode == 'full') {\n",
       "                // Full images could contain transparency (where diff images\n",
       "                // almost always do), so we need to clear the canvas so that\n",
       "                // there is no ghosting.\n",
       "                fig.context.clearRect(0, 0, fig.canvas.width, fig.canvas.height);\n",
       "            }\n",
       "            fig.context.drawImage(fig.imageObj, 0, 0);\n",
       "            fig.waiting = false;\n",
       "        };\n",
       "\n",
       "    this.imageObj.onunload = function() {\n",
       "        this.ws.close();\n",
       "    }\n",
       "\n",
       "    this.ws.onmessage = this._make_on_message_function(this);\n",
       "\n",
       "    this.ondownload = ondownload;\n",
       "}\n",
       "\n",
       "mpl.figure.prototype._init_header = function() {\n",
       "    var titlebar = $(\n",
       "        '<div class=\"ui-dialog-titlebar ui-widget-header ui-corner-all ' +\n",
       "        'ui-helper-clearfix\"/>');\n",
       "    var titletext = $(\n",
       "        '<div class=\"ui-dialog-title\" style=\"width: 100%; ' +\n",
       "        'text-align: center; padding: 3px;\"/>');\n",
       "    titlebar.append(titletext)\n",
       "    this.root.append(titlebar);\n",
       "    this.header = titletext[0];\n",
       "}\n",
       "\n",
       "\n",
       "\n",
       "mpl.figure.prototype._canvas_extra_style = function(canvas_div) {\n",
       "\n",
       "}\n",
       "\n",
       "\n",
       "mpl.figure.prototype._root_extra_style = function(canvas_div) {\n",
       "\n",
       "}\n",
       "\n",
       "mpl.figure.prototype._init_canvas = function() {\n",
       "    var fig = this;\n",
       "\n",
       "    var canvas_div = $('<div/>');\n",
       "\n",
       "    canvas_div.attr('style', 'position: relative; clear: both; outline: 0');\n",
       "\n",
       "    function canvas_keyboard_event(event) {\n",
       "        return fig.key_event(event, event['data']);\n",
       "    }\n",
       "\n",
       "    canvas_div.keydown('key_press', canvas_keyboard_event);\n",
       "    canvas_div.keyup('key_release', canvas_keyboard_event);\n",
       "    this.canvas_div = canvas_div\n",
       "    this._canvas_extra_style(canvas_div)\n",
       "    this.root.append(canvas_div);\n",
       "\n",
       "    var canvas = $('<canvas/>');\n",
       "    canvas.addClass('mpl-canvas');\n",
       "    canvas.attr('style', \"left: 0; top: 0; z-index: 0; outline: 0\")\n",
       "\n",
       "    this.canvas = canvas[0];\n",
       "    this.context = canvas[0].getContext(\"2d\");\n",
       "\n",
       "    var rubberband = $('<canvas/>');\n",
       "    rubberband.attr('style', \"position: absolute; left: 0; top: 0; z-index: 1;\")\n",
       "\n",
       "    var pass_mouse_events = true;\n",
       "\n",
       "    canvas_div.resizable({\n",
       "        start: function(event, ui) {\n",
       "            pass_mouse_events = false;\n",
       "        },\n",
       "        resize: function(event, ui) {\n",
       "            fig.request_resize(ui.size.width, ui.size.height);\n",
       "        },\n",
       "        stop: function(event, ui) {\n",
       "            pass_mouse_events = true;\n",
       "            fig.request_resize(ui.size.width, ui.size.height);\n",
       "        },\n",
       "    });\n",
       "\n",
       "    function mouse_event_fn(event) {\n",
       "        if (pass_mouse_events)\n",
       "            return fig.mouse_event(event, event['data']);\n",
       "    }\n",
       "\n",
       "    rubberband.mousedown('button_press', mouse_event_fn);\n",
       "    rubberband.mouseup('button_release', mouse_event_fn);\n",
       "    // Throttle sequential mouse events to 1 every 20ms.\n",
       "    rubberband.mousemove('motion_notify', mouse_event_fn);\n",
       "\n",
       "    rubberband.mouseenter('figure_enter', mouse_event_fn);\n",
       "    rubberband.mouseleave('figure_leave', mouse_event_fn);\n",
       "\n",
       "    canvas_div.on(\"wheel\", function (event) {\n",
       "        event = event.originalEvent;\n",
       "        event['data'] = 'scroll'\n",
       "        if (event.deltaY < 0) {\n",
       "            event.step = 1;\n",
       "        } else {\n",
       "            event.step = -1;\n",
       "        }\n",
       "        mouse_event_fn(event);\n",
       "    });\n",
       "\n",
       "    canvas_div.append(canvas);\n",
       "    canvas_div.append(rubberband);\n",
       "\n",
       "    this.rubberband = rubberband;\n",
       "    this.rubberband_canvas = rubberband[0];\n",
       "    this.rubberband_context = rubberband[0].getContext(\"2d\");\n",
       "    this.rubberband_context.strokeStyle = \"#000000\";\n",
       "\n",
       "    this._resize_canvas = function(width, height) {\n",
       "        // Keep the size of the canvas, canvas container, and rubber band\n",
       "        // canvas in synch.\n",
       "        canvas_div.css('width', width)\n",
       "        canvas_div.css('height', height)\n",
       "\n",
       "        canvas.attr('width', width);\n",
       "        canvas.attr('height', height);\n",
       "\n",
       "        rubberband.attr('width', width);\n",
       "        rubberband.attr('height', height);\n",
       "    }\n",
       "\n",
       "    // Set the figure to an initial 600x600px, this will subsequently be updated\n",
       "    // upon first draw.\n",
       "    this._resize_canvas(600, 600);\n",
       "\n",
       "    // Disable right mouse context menu.\n",
       "    $(this.rubberband_canvas).bind(\"contextmenu\",function(e){\n",
       "        return false;\n",
       "    });\n",
       "\n",
       "    function set_focus () {\n",
       "        canvas.focus();\n",
       "        canvas_div.focus();\n",
       "    }\n",
       "\n",
       "    window.setTimeout(set_focus, 100);\n",
       "}\n",
       "\n",
       "mpl.figure.prototype._init_toolbar = function() {\n",
       "    var fig = this;\n",
       "\n",
       "    var nav_element = $('<div/>')\n",
       "    nav_element.attr('style', 'width: 100%');\n",
       "    this.root.append(nav_element);\n",
       "\n",
       "    // Define a callback function for later on.\n",
       "    function toolbar_event(event) {\n",
       "        return fig.toolbar_button_onclick(event['data']);\n",
       "    }\n",
       "    function toolbar_mouse_event(event) {\n",
       "        return fig.toolbar_button_onmouseover(event['data']);\n",
       "    }\n",
       "\n",
       "    for(var toolbar_ind in mpl.toolbar_items) {\n",
       "        var name = mpl.toolbar_items[toolbar_ind][0];\n",
       "        var tooltip = mpl.toolbar_items[toolbar_ind][1];\n",
       "        var image = mpl.toolbar_items[toolbar_ind][2];\n",
       "        var method_name = mpl.toolbar_items[toolbar_ind][3];\n",
       "\n",
       "        if (!name) {\n",
       "            // put a spacer in here.\n",
       "            continue;\n",
       "        }\n",
       "        var button = $('<button/>');\n",
       "        button.addClass('ui-button ui-widget ui-state-default ui-corner-all ' +\n",
       "                        'ui-button-icon-only');\n",
       "        button.attr('role', 'button');\n",
       "        button.attr('aria-disabled', 'false');\n",
       "        button.click(method_name, toolbar_event);\n",
       "        button.mouseover(tooltip, toolbar_mouse_event);\n",
       "\n",
       "        var icon_img = $('<span/>');\n",
       "        icon_img.addClass('ui-button-icon-primary ui-icon');\n",
       "        icon_img.addClass(image);\n",
       "        icon_img.addClass('ui-corner-all');\n",
       "\n",
       "        var tooltip_span = $('<span/>');\n",
       "        tooltip_span.addClass('ui-button-text');\n",
       "        tooltip_span.html(tooltip);\n",
       "\n",
       "        button.append(icon_img);\n",
       "        button.append(tooltip_span);\n",
       "\n",
       "        nav_element.append(button);\n",
       "    }\n",
       "\n",
       "    var fmt_picker_span = $('<span/>');\n",
       "\n",
       "    var fmt_picker = $('<select/>');\n",
       "    fmt_picker.addClass('mpl-toolbar-option ui-widget ui-widget-content');\n",
       "    fmt_picker_span.append(fmt_picker);\n",
       "    nav_element.append(fmt_picker_span);\n",
       "    this.format_dropdown = fmt_picker[0];\n",
       "\n",
       "    for (var ind in mpl.extensions) {\n",
       "        var fmt = mpl.extensions[ind];\n",
       "        var option = $(\n",
       "            '<option/>', {selected: fmt === mpl.default_extension}).html(fmt);\n",
       "        fmt_picker.append(option)\n",
       "    }\n",
       "\n",
       "    // Add hover states to the ui-buttons\n",
       "    $( \".ui-button\" ).hover(\n",
       "        function() { $(this).addClass(\"ui-state-hover\");},\n",
       "        function() { $(this).removeClass(\"ui-state-hover\");}\n",
       "    );\n",
       "\n",
       "    var status_bar = $('<span class=\"mpl-message\"/>');\n",
       "    nav_element.append(status_bar);\n",
       "    this.message = status_bar[0];\n",
       "}\n",
       "\n",
       "mpl.figure.prototype.request_resize = function(x_pixels, y_pixels) {\n",
       "    // Request matplotlib to resize the figure. Matplotlib will then trigger a resize in the client,\n",
       "    // which will in turn request a refresh of the image.\n",
       "    this.send_message('resize', {'width': x_pixels, 'height': y_pixels});\n",
       "}\n",
       "\n",
       "mpl.figure.prototype.send_message = function(type, properties) {\n",
       "    properties['type'] = type;\n",
       "    properties['figure_id'] = this.id;\n",
       "    this.ws.send(JSON.stringify(properties));\n",
       "}\n",
       "\n",
       "mpl.figure.prototype.send_draw_message = function() {\n",
       "    if (!this.waiting) {\n",
       "        this.waiting = true;\n",
       "        this.ws.send(JSON.stringify({type: \"draw\", figure_id: this.id}));\n",
       "    }\n",
       "}\n",
       "\n",
       "\n",
       "mpl.figure.prototype.handle_save = function(fig, msg) {\n",
       "    var format_dropdown = fig.format_dropdown;\n",
       "    var format = format_dropdown.options[format_dropdown.selectedIndex].value;\n",
       "    fig.ondownload(fig, format);\n",
       "}\n",
       "\n",
       "\n",
       "mpl.figure.prototype.handle_resize = function(fig, msg) {\n",
       "    var size = msg['size'];\n",
       "    if (size[0] != fig.canvas.width || size[1] != fig.canvas.height) {\n",
       "        fig._resize_canvas(size[0], size[1]);\n",
       "        fig.send_message(\"refresh\", {});\n",
       "    };\n",
       "}\n",
       "\n",
       "mpl.figure.prototype.handle_rubberband = function(fig, msg) {\n",
       "    var x0 = msg['x0'];\n",
       "    var y0 = fig.canvas.height - msg['y0'];\n",
       "    var x1 = msg['x1'];\n",
       "    var y1 = fig.canvas.height - msg['y1'];\n",
       "    x0 = Math.floor(x0) + 0.5;\n",
       "    y0 = Math.floor(y0) + 0.5;\n",
       "    x1 = Math.floor(x1) + 0.5;\n",
       "    y1 = Math.floor(y1) + 0.5;\n",
       "    var min_x = Math.min(x0, x1);\n",
       "    var min_y = Math.min(y0, y1);\n",
       "    var width = Math.abs(x1 - x0);\n",
       "    var height = Math.abs(y1 - y0);\n",
       "\n",
       "    fig.rubberband_context.clearRect(\n",
       "        0, 0, fig.canvas.width, fig.canvas.height);\n",
       "\n",
       "    fig.rubberband_context.strokeRect(min_x, min_y, width, height);\n",
       "}\n",
       "\n",
       "mpl.figure.prototype.handle_figure_label = function(fig, msg) {\n",
       "    // Updates the figure title.\n",
       "    fig.header.textContent = msg['label'];\n",
       "}\n",
       "\n",
       "mpl.figure.prototype.handle_cursor = function(fig, msg) {\n",
       "    var cursor = msg['cursor'];\n",
       "    switch(cursor)\n",
       "    {\n",
       "    case 0:\n",
       "        cursor = 'pointer';\n",
       "        break;\n",
       "    case 1:\n",
       "        cursor = 'default';\n",
       "        break;\n",
       "    case 2:\n",
       "        cursor = 'crosshair';\n",
       "        break;\n",
       "    case 3:\n",
       "        cursor = 'move';\n",
       "        break;\n",
       "    }\n",
       "    fig.rubberband_canvas.style.cursor = cursor;\n",
       "}\n",
       "\n",
       "mpl.figure.prototype.handle_message = function(fig, msg) {\n",
       "    fig.message.textContent = msg['message'];\n",
       "}\n",
       "\n",
       "mpl.figure.prototype.handle_draw = function(fig, msg) {\n",
       "    // Request the server to send over a new figure.\n",
       "    fig.send_draw_message();\n",
       "}\n",
       "\n",
       "mpl.figure.prototype.handle_image_mode = function(fig, msg) {\n",
       "    fig.image_mode = msg['mode'];\n",
       "}\n",
       "\n",
       "mpl.figure.prototype.updated_canvas_event = function() {\n",
       "    // Called whenever the canvas gets updated.\n",
       "    this.send_message(\"ack\", {});\n",
       "}\n",
       "\n",
       "// A function to construct a web socket function for onmessage handling.\n",
       "// Called in the figure constructor.\n",
       "mpl.figure.prototype._make_on_message_function = function(fig) {\n",
       "    return function socket_on_message(evt) {\n",
       "        if (evt.data instanceof Blob) {\n",
       "            /* FIXME: We get \"Resource interpreted as Image but\n",
       "             * transferred with MIME type text/plain:\" errors on\n",
       "             * Chrome.  But how to set the MIME type?  It doesn't seem\n",
       "             * to be part of the websocket stream */\n",
       "            evt.data.type = \"image/png\";\n",
       "\n",
       "            /* Free the memory for the previous frames */\n",
       "            if (fig.imageObj.src) {\n",
       "                (window.URL || window.webkitURL).revokeObjectURL(\n",
       "                    fig.imageObj.src);\n",
       "            }\n",
       "\n",
       "            fig.imageObj.src = (window.URL || window.webkitURL).createObjectURL(\n",
       "                evt.data);\n",
       "            fig.updated_canvas_event();\n",
       "            return;\n",
       "        }\n",
       "        else if (typeof evt.data === 'string' && evt.data.slice(0, 21) == \"data:image/png;base64\") {\n",
       "            fig.imageObj.src = evt.data;\n",
       "            fig.updated_canvas_event();\n",
       "            return;\n",
       "        }\n",
       "\n",
       "        var msg = JSON.parse(evt.data);\n",
       "        var msg_type = msg['type'];\n",
       "\n",
       "        // Call the  \"handle_{type}\" callback, which takes\n",
       "        // the figure and JSON message as its only arguments.\n",
       "        try {\n",
       "            var callback = fig[\"handle_\" + msg_type];\n",
       "        } catch (e) {\n",
       "            console.log(\"No handler for the '\" + msg_type + \"' message type: \", msg);\n",
       "            return;\n",
       "        }\n",
       "\n",
       "        if (callback) {\n",
       "            try {\n",
       "                // console.log(\"Handling '\" + msg_type + \"' message: \", msg);\n",
       "                callback(fig, msg);\n",
       "            } catch (e) {\n",
       "                console.log(\"Exception inside the 'handler_\" + msg_type + \"' callback:\", e, e.stack, msg);\n",
       "            }\n",
       "        }\n",
       "    };\n",
       "}\n",
       "\n",
       "// from http://stackoverflow.com/questions/1114465/getting-mouse-location-in-canvas\n",
       "mpl.findpos = function(e) {\n",
       "    //this section is from http://www.quirksmode.org/js/events_properties.html\n",
       "    var targ;\n",
       "    if (!e)\n",
       "        e = window.event;\n",
       "    if (e.target)\n",
       "        targ = e.target;\n",
       "    else if (e.srcElement)\n",
       "        targ = e.srcElement;\n",
       "    if (targ.nodeType == 3) // defeat Safari bug\n",
       "        targ = targ.parentNode;\n",
       "\n",
       "    // jQuery normalizes the pageX and pageY\n",
       "    // pageX,Y are the mouse positions relative to the document\n",
       "    // offset() returns the position of the element relative to the document\n",
       "    var x = e.pageX - $(targ).offset().left;\n",
       "    var y = e.pageY - $(targ).offset().top;\n",
       "\n",
       "    return {\"x\": x, \"y\": y};\n",
       "};\n",
       "\n",
       "mpl.figure.prototype.mouse_event = function(event, name) {\n",
       "    var canvas_pos = mpl.findpos(event)\n",
       "\n",
       "    if (name === 'button_press')\n",
       "    {\n",
       "        this.canvas.focus();\n",
       "        this.canvas_div.focus();\n",
       "    }\n",
       "\n",
       "    var x = canvas_pos.x;\n",
       "    var y = canvas_pos.y;\n",
       "\n",
       "    this.send_message(name, {x: x, y: y, button: event.button,\n",
       "                             step: event.step});\n",
       "\n",
       "    /* This prevents the web browser from automatically changing to\n",
       "     * the text insertion cursor when the button is pressed.  We want\n",
       "     * to control all of the cursor setting manually through the\n",
       "     * 'cursor' event from matplotlib */\n",
       "    event.preventDefault();\n",
       "    return false;\n",
       "}\n",
       "\n",
       "mpl.figure.prototype._key_event_extra = function(event, name) {\n",
       "    // Handle any extra behaviour associated with a key event\n",
       "}\n",
       "\n",
       "mpl.figure.prototype.key_event = function(event, name) {\n",
       "\n",
       "    // Prevent repeat events\n",
       "    if (name == 'key_press')\n",
       "    {\n",
       "        if (event.which === this._key)\n",
       "            return;\n",
       "        else\n",
       "            this._key = event.which;\n",
       "    }\n",
       "    if (name == 'key_release')\n",
       "        this._key = null;\n",
       "\n",
       "    var value = '';\n",
       "    if (event.ctrlKey && event.which != 17)\n",
       "        value += \"ctrl+\";\n",
       "    if (event.altKey && event.which != 18)\n",
       "        value += \"alt+\";\n",
       "    if (event.shiftKey && event.which != 16)\n",
       "        value += \"shift+\";\n",
       "\n",
       "    value += 'k';\n",
       "    value += event.which.toString();\n",
       "\n",
       "    this._key_event_extra(event, name);\n",
       "\n",
       "    this.send_message(name, {key: value});\n",
       "    return false;\n",
       "}\n",
       "\n",
       "mpl.figure.prototype.toolbar_button_onclick = function(name) {\n",
       "    if (name == 'download') {\n",
       "        this.handle_save(this, null);\n",
       "    } else {\n",
       "        this.send_message(\"toolbar_button\", {name: name});\n",
       "    }\n",
       "};\n",
       "\n",
       "mpl.figure.prototype.toolbar_button_onmouseover = function(tooltip) {\n",
       "    this.message.textContent = tooltip;\n",
       "};\n",
       "mpl.toolbar_items = [[\"Home\", \"Reset original view\", \"fa fa-home icon-home\", \"home\"], [\"Back\", \"Back to  previous view\", \"fa fa-arrow-left icon-arrow-left\", \"back\"], [\"Forward\", \"Forward to next view\", \"fa fa-arrow-right icon-arrow-right\", \"forward\"], [\"\", \"\", \"\", \"\"], [\"Pan\", \"Pan axes with left mouse, zoom with right\", \"fa fa-arrows icon-move\", \"pan\"], [\"Zoom\", \"Zoom to rectangle\", \"fa fa-square-o icon-check-empty\", \"zoom\"], [\"\", \"\", \"\", \"\"], [\"Download\", \"Download plot\", \"fa fa-floppy-o icon-save\", \"download\"]];\n",
       "\n",
       "mpl.extensions = [\"eps\", \"jpeg\", \"pdf\", \"png\", \"ps\", \"raw\", \"svg\", \"tif\"];\n",
       "\n",
       "mpl.default_extension = \"png\";var comm_websocket_adapter = function(comm) {\n",
       "    // Create a \"websocket\"-like object which calls the given IPython comm\n",
       "    // object with the appropriate methods. Currently this is a non binary\n",
       "    // socket, so there is still some room for performance tuning.\n",
       "    var ws = {};\n",
       "\n",
       "    ws.close = function() {\n",
       "        comm.close()\n",
       "    };\n",
       "    ws.send = function(m) {\n",
       "        //console.log('sending', m);\n",
       "        comm.send(m);\n",
       "    };\n",
       "    // Register the callback with on_msg.\n",
       "    comm.on_msg(function(msg) {\n",
       "        //console.log('receiving', msg['content']['data'], msg);\n",
       "        // Pass the mpl event to the overriden (by mpl) onmessage function.\n",
       "        ws.onmessage(msg['content']['data'])\n",
       "    });\n",
       "    return ws;\n",
       "}\n",
       "\n",
       "mpl.mpl_figure_comm = function(comm, msg) {\n",
       "    // This is the function which gets called when the mpl process\n",
       "    // starts-up an IPython Comm through the \"matplotlib\" channel.\n",
       "\n",
       "    var id = msg.content.data.id;\n",
       "    // Get hold of the div created by the display call when the Comm\n",
       "    // socket was opened in Python.\n",
       "    var element = $(\"#\" + id);\n",
       "    var ws_proxy = comm_websocket_adapter(comm)\n",
       "\n",
       "    function ondownload(figure, format) {\n",
       "        window.open(figure.imageObj.src);\n",
       "    }\n",
       "\n",
       "    var fig = new mpl.figure(id, ws_proxy,\n",
       "                           ondownload,\n",
       "                           element.get(0));\n",
       "\n",
       "    // Call onopen now - mpl needs it, as it is assuming we've passed it a real\n",
       "    // web socket which is closed, not our websocket->open comm proxy.\n",
       "    ws_proxy.onopen();\n",
       "\n",
       "    fig.parent_element = element.get(0);\n",
       "    fig.cell_info = mpl.find_output_cell(\"<div id='\" + id + \"'></div>\");\n",
       "    if (!fig.cell_info) {\n",
       "        console.error(\"Failed to find cell for figure\", id, fig);\n",
       "        return;\n",
       "    }\n",
       "\n",
       "    var output_index = fig.cell_info[2]\n",
       "    var cell = fig.cell_info[0];\n",
       "\n",
       "};\n",
       "\n",
       "mpl.figure.prototype.handle_close = function(fig, msg) {\n",
       "    // Update the output cell to use the data from the current canvas.\n",
       "    fig.push_to_output();\n",
       "    var dataURL = fig.canvas.toDataURL();\n",
       "    // Re-enable the keyboard manager in IPython - without this line, in FF,\n",
       "    // the notebook keyboard shortcuts fail.\n",
       "    IPython.keyboard_manager.enable()\n",
       "    $(fig.parent_element).html('<img src=\"' + dataURL + '\">');\n",
       "    fig.send_message('closing', {});\n",
       "    fig.ws.close()\n",
       "}\n",
       "\n",
       "mpl.figure.prototype.push_to_output = function(remove_interactive) {\n",
       "    // Turn the data on the canvas into data in the output cell.\n",
       "    var dataURL = this.canvas.toDataURL();\n",
       "    this.cell_info[1]['text/html'] = '<img src=\"' + dataURL + '\">';\n",
       "}\n",
       "\n",
       "mpl.figure.prototype.updated_canvas_event = function() {\n",
       "    // Tell IPython that the notebook contents must change.\n",
       "    IPython.notebook.set_dirty(true);\n",
       "    this.send_message(\"ack\", {});\n",
       "    var fig = this;\n",
       "    // Wait a second, then push the new image to the DOM so\n",
       "    // that it is saved nicely (might be nice to debounce this).\n",
       "    setTimeout(function () { fig.push_to_output() }, 1000);\n",
       "}\n",
       "\n",
       "mpl.figure.prototype._init_toolbar = function() {\n",
       "    var fig = this;\n",
       "\n",
       "    var nav_element = $('<div/>')\n",
       "    nav_element.attr('style', 'width: 100%');\n",
       "    this.root.append(nav_element);\n",
       "\n",
       "    // Define a callback function for later on.\n",
       "    function toolbar_event(event) {\n",
       "        return fig.toolbar_button_onclick(event['data']);\n",
       "    }\n",
       "    function toolbar_mouse_event(event) {\n",
       "        return fig.toolbar_button_onmouseover(event['data']);\n",
       "    }\n",
       "\n",
       "    for(var toolbar_ind in mpl.toolbar_items){\n",
       "        var name = mpl.toolbar_items[toolbar_ind][0];\n",
       "        var tooltip = mpl.toolbar_items[toolbar_ind][1];\n",
       "        var image = mpl.toolbar_items[toolbar_ind][2];\n",
       "        var method_name = mpl.toolbar_items[toolbar_ind][3];\n",
       "\n",
       "        if (!name) { continue; };\n",
       "\n",
       "        var button = $('<button class=\"btn btn-default\" href=\"#\" title=\"' + name + '\"><i class=\"fa ' + image + ' fa-lg\"></i></button>');\n",
       "        button.click(method_name, toolbar_event);\n",
       "        button.mouseover(tooltip, toolbar_mouse_event);\n",
       "        nav_element.append(button);\n",
       "    }\n",
       "\n",
       "    // Add the status bar.\n",
       "    var status_bar = $('<span class=\"mpl-message\" style=\"text-align:right; float: right;\"/>');\n",
       "    nav_element.append(status_bar);\n",
       "    this.message = status_bar[0];\n",
       "\n",
       "    // Add the close button to the window.\n",
       "    var buttongrp = $('<div class=\"btn-group inline pull-right\"></div>');\n",
       "    var button = $('<button class=\"btn btn-mini btn-danger\" href=\"#\" title=\"Close figure\"><i class=\"fa fa-times icon-remove icon-large\"></i></button>');\n",
       "    button.click(function (evt) { fig.handle_close(fig, {}); } );\n",
       "    button.mouseover('Close figure', toolbar_mouse_event);\n",
       "    buttongrp.append(button);\n",
       "    var titlebar = this.root.find($('.ui-dialog-titlebar'));\n",
       "    titlebar.prepend(buttongrp);\n",
       "}\n",
       "\n",
       "\n",
       "mpl.figure.prototype._canvas_extra_style = function(el){\n",
       "    // this is important to make the div 'focusable\n",
       "    el.attr('tabindex', 0)\n",
       "    // reach out to IPython and tell the keyboard manager to turn it's self\n",
       "    // off when our div gets focus\n",
       "\n",
       "    // location in version 3\n",
       "    if (IPython.notebook.keyboard_manager) {\n",
       "        IPython.notebook.keyboard_manager.register_events(el);\n",
       "    }\n",
       "    else {\n",
       "        // location in version 2\n",
       "        IPython.keyboard_manager.register_events(el);\n",
       "    }\n",
       "\n",
       "}\n",
       "\n",
       "mpl.figure.prototype._key_event_extra = function(event, name) {\n",
       "    var manager = IPython.notebook.keyboard_manager;\n",
       "    if (!manager)\n",
       "        manager = IPython.keyboard_manager;\n",
       "\n",
       "    // Check for shift+enter\n",
       "    if (event.shiftKey && event.which == 13) {\n",
       "        this.canvas_div.blur();\n",
       "        event.shiftKey = false;\n",
       "        // Send a \"J\" for go to next cell\n",
       "        event.which = 74;\n",
       "        event.keyCode = 74;\n",
       "        manager.command_mode();\n",
       "        manager.handle_keydown(event);\n",
       "    }\n",
       "}\n",
       "\n",
       "mpl.figure.prototype.handle_save = function(fig, msg) {\n",
       "    fig.ondownload(fig, null);\n",
       "}\n",
       "\n",
       "\n",
       "mpl.find_output_cell = function(html_output) {\n",
       "    // Return the cell and output element which can be found *uniquely* in the notebook.\n",
       "    // Note - this is a bit hacky, but it is done because the \"notebook_saving.Notebook\"\n",
       "    // IPython event is triggered only after the cells have been serialised, which for\n",
       "    // our purposes (turning an active figure into a static one), is too late.\n",
       "    var cells = IPython.notebook.get_cells();\n",
       "    var ncells = cells.length;\n",
       "    for (var i=0; i<ncells; i++) {\n",
       "        var cell = cells[i];\n",
       "        if (cell.cell_type === 'code'){\n",
       "            for (var j=0; j<cell.output_area.outputs.length; j++) {\n",
       "                var data = cell.output_area.outputs[j];\n",
       "                if (data.data) {\n",
       "                    // IPython >= 3 moved mimebundle to data attribute of output\n",
       "                    data = data.data;\n",
       "                }\n",
       "                if (data['text/html'] == html_output) {\n",
       "                    return [cell, data, j];\n",
       "                }\n",
       "            }\n",
       "        }\n",
       "    }\n",
       "}\n",
       "\n",
       "// Register the function which deals with the matplotlib target/channel.\n",
       "// The kernel may be null if the page has been refreshed.\n",
       "if (IPython.notebook.kernel != null) {\n",
       "    IPython.notebook.kernel.comm_manager.register_target('matplotlib', mpl.mpl_figure_comm);\n",
       "}\n"
      ],
      "text/plain": [
       "<IPython.core.display.Javascript object>"
      ]
     },
     "metadata": {},
     "output_type": "display_data"
    },
    {
     "data": {
      "text/html": [
       "<img src=\"data:image/png;base64,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\">"
      ],
      "text/plain": [
       "<IPython.core.display.HTML object>"
      ]
     },
     "metadata": {},
     "output_type": "display_data"
    },
    {
     "ename": "AttributeError",
     "evalue": "'module' object has no attribute 'coolware'",
     "output_type": "error",
     "traceback": [
      "\u001b[1;31m---------------------------------------------------------------------------\u001b[0m",
      "\u001b[1;31mAttributeError\u001b[0m                            Traceback (most recent call last)",
      "\u001b[1;32m<ipython-input-54-7c7df5cfd1f9>\u001b[0m in \u001b[0;36m<module>\u001b[1;34m()\u001b[0m\n\u001b[0;32m      6\u001b[0m \u001b[0max\u001b[0m \u001b[1;33m=\u001b[0m \u001b[0mfig\u001b[0m\u001b[1;33m.\u001b[0m\u001b[0madd_subplot\u001b[0m\u001b[1;33m(\u001b[0m\u001b[1;36m111\u001b[0m\u001b[1;33m,\u001b[0m \u001b[0mprojection\u001b[0m\u001b[1;33m=\u001b[0m\u001b[1;34m'3d'\u001b[0m\u001b[1;33m)\u001b[0m\u001b[1;33m\u001b[0m\u001b[0m\n\u001b[0;32m      7\u001b[0m \u001b[0mX\u001b[0m\u001b[1;33m,\u001b[0m \u001b[0mY\u001b[0m\u001b[1;33m,\u001b[0m \u001b[0mZ\u001b[0m \u001b[1;33m=\u001b[0m \u001b[0maxes3d\u001b[0m\u001b[1;33m.\u001b[0m\u001b[0mget_test_data\u001b[0m\u001b[1;33m(\u001b[0m\u001b[1;36m0.05\u001b[0m\u001b[1;33m)\u001b[0m\u001b[1;33m\u001b[0m\u001b[0m\n\u001b[1;32m----> 8\u001b[1;33m \u001b[0mcset\u001b[0m \u001b[1;33m=\u001b[0m \u001b[0max\u001b[0m\u001b[1;33m.\u001b[0m\u001b[0mcontour\u001b[0m\u001b[1;33m(\u001b[0m\u001b[0mX\u001b[0m\u001b[1;33m,\u001b[0m \u001b[0mY\u001b[0m\u001b[1;33m,\u001b[0m \u001b[0mZ\u001b[0m\u001b[1;33m,\u001b[0m \u001b[0mcmap\u001b[0m\u001b[1;33m=\u001b[0m\u001b[0mcm\u001b[0m\u001b[1;33m.\u001b[0m\u001b[0mcoolware\u001b[0m\u001b[1;33m)\u001b[0m\u001b[1;33m\u001b[0m\u001b[0m\n\u001b[0m\u001b[0;32m      9\u001b[0m \u001b[0max\u001b[0m\u001b[1;33m.\u001b[0m\u001b[0mclabel\u001b[0m\u001b[1;33m(\u001b[0m\u001b[0mcset\u001b[0m\u001b[1;33m,\u001b[0m \u001b[0mfontsize\u001b[0m\u001b[1;33m=\u001b[0m\u001b[1;36m9\u001b[0m\u001b[1;33m,\u001b[0m \u001b[0minline\u001b[0m\u001b[1;33m=\u001b[0m\u001b[1;36m1\u001b[0m\u001b[1;33m)\u001b[0m\u001b[1;33m\u001b[0m\u001b[0m\n\u001b[0;32m     10\u001b[0m \u001b[1;33m\u001b[0m\u001b[0m\n",
      "\u001b[1;31mAttributeError\u001b[0m: 'module' object has no attribute 'coolware'"
     ]
    }
   ],
   "source": [
    "from mpl_toolkits.mplot3d import axes3d\n",
    "import matplotlib.pyplot as plt\n",
    "from matplotlib import cm\n",
    "\n",
    "fig = plt.figure()\n",
    "ax = fig.add_subplot(111, projection='3d')\n",
    "X, Y, Z = axes3d.get_test_data(0.05)\n",
    "cset = ax.contour(X, Y, Z, cmap=cm.coolware)\n",
    "ax.clabel(cset, fontsize=9, inline=1)\n",
    "\n",
    "plt.show()"
   ]
  },
  {
   "cell_type": "code",
   "execution_count": 51,
   "metadata": {
    "collapsed": false
   },
   "outputs": [
    {
     "data": {
      "text/plain": [
       "43200"
      ]
     },
     "execution_count": 51,
     "metadata": {},
     "output_type": "execute_result"
    }
   ],
   "source": [
    "cm.cool"
   ]
  },
  {
   "cell_type": "code",
   "execution_count": 55,
   "metadata": {
    "collapsed": false
   },
   "outputs": [],
   "source": [
    "from mpl_toolkits.mplot3d import axes3d\n",
    "import matplotlib.pyplot as plt\n",
    "from matplotlib import cm"
   ]
  },
  {
   "cell_type": "code",
   "execution_count": 56,
   "metadata": {
    "collapsed": false
   },
   "outputs": [
    {
     "data": {
      "application/javascript": [
       "/* Put everything inside the global mpl namespace */\n",
       "window.mpl = {};\n",
       "\n",
       "mpl.get_websocket_type = function() {\n",
       "    if (typeof(WebSocket) !== 'undefined') {\n",
       "        return WebSocket;\n",
       "    } else if (typeof(MozWebSocket) !== 'undefined') {\n",
       "        return MozWebSocket;\n",
       "    } else {\n",
       "        alert('Your browser does not have WebSocket support.' +\n",
       "              'Please try Chrome, Safari or Firefox ≥ 6. ' +\n",
       "              'Firefox 4 and 5 are also supported but you ' +\n",
       "              'have to enable WebSockets in about:config.');\n",
       "    };\n",
       "}\n",
       "\n",
       "mpl.figure = function(figure_id, websocket, ondownload, parent_element) {\n",
       "    this.id = figure_id;\n",
       "\n",
       "    this.ws = websocket;\n",
       "\n",
       "    this.supports_binary = (this.ws.binaryType != undefined);\n",
       "\n",
       "    if (!this.supports_binary) {\n",
       "        var warnings = document.getElementById(\"mpl-warnings\");\n",
       "        if (warnings) {\n",
       "            warnings.style.display = 'block';\n",
       "            warnings.textContent = (\n",
       "                \"This browser does not support binary websocket messages. \" +\n",
       "                    \"Performance may be slow.\");\n",
       "        }\n",
       "    }\n",
       "\n",
       "    this.imageObj = new Image();\n",
       "\n",
       "    this.context = undefined;\n",
       "    this.message = undefined;\n",
       "    this.canvas = undefined;\n",
       "    this.rubberband_canvas = undefined;\n",
       "    this.rubberband_context = undefined;\n",
       "    this.format_dropdown = undefined;\n",
       "\n",
       "    this.image_mode = 'full';\n",
       "\n",
       "    this.root = $('<div/>');\n",
       "    this._root_extra_style(this.root)\n",
       "    this.root.attr('style', 'display: inline-block');\n",
       "\n",
       "    $(parent_element).append(this.root);\n",
       "\n",
       "    this._init_header(this);\n",
       "    this._init_canvas(this);\n",
       "    this._init_toolbar(this);\n",
       "\n",
       "    var fig = this;\n",
       "\n",
       "    this.waiting = false;\n",
       "\n",
       "    this.ws.onopen =  function () {\n",
       "            fig.send_message(\"supports_binary\", {value: fig.supports_binary});\n",
       "            fig.send_message(\"send_image_mode\", {});\n",
       "            fig.send_message(\"refresh\", {});\n",
       "        }\n",
       "\n",
       "    this.imageObj.onload = function() {\n",
       "            if (fig.image_mode == 'full') {\n",
       "                // Full images could contain transparency (where diff images\n",
       "                // almost always do), so we need to clear the canvas so that\n",
       "                // there is no ghosting.\n",
       "                fig.context.clearRect(0, 0, fig.canvas.width, fig.canvas.height);\n",
       "            }\n",
       "            fig.context.drawImage(fig.imageObj, 0, 0);\n",
       "            fig.waiting = false;\n",
       "        };\n",
       "\n",
       "    this.imageObj.onunload = function() {\n",
       "        this.ws.close();\n",
       "    }\n",
       "\n",
       "    this.ws.onmessage = this._make_on_message_function(this);\n",
       "\n",
       "    this.ondownload = ondownload;\n",
       "}\n",
       "\n",
       "mpl.figure.prototype._init_header = function() {\n",
       "    var titlebar = $(\n",
       "        '<div class=\"ui-dialog-titlebar ui-widget-header ui-corner-all ' +\n",
       "        'ui-helper-clearfix\"/>');\n",
       "    var titletext = $(\n",
       "        '<div class=\"ui-dialog-title\" style=\"width: 100%; ' +\n",
       "        'text-align: center; padding: 3px;\"/>');\n",
       "    titlebar.append(titletext)\n",
       "    this.root.append(titlebar);\n",
       "    this.header = titletext[0];\n",
       "}\n",
       "\n",
       "\n",
       "\n",
       "mpl.figure.prototype._canvas_extra_style = function(canvas_div) {\n",
       "\n",
       "}\n",
       "\n",
       "\n",
       "mpl.figure.prototype._root_extra_style = function(canvas_div) {\n",
       "\n",
       "}\n",
       "\n",
       "mpl.figure.prototype._init_canvas = function() {\n",
       "    var fig = this;\n",
       "\n",
       "    var canvas_div = $('<div/>');\n",
       "\n",
       "    canvas_div.attr('style', 'position: relative; clear: both; outline: 0');\n",
       "\n",
       "    function canvas_keyboard_event(event) {\n",
       "        return fig.key_event(event, event['data']);\n",
       "    }\n",
       "\n",
       "    canvas_div.keydown('key_press', canvas_keyboard_event);\n",
       "    canvas_div.keyup('key_release', canvas_keyboard_event);\n",
       "    this.canvas_div = canvas_div\n",
       "    this._canvas_extra_style(canvas_div)\n",
       "    this.root.append(canvas_div);\n",
       "\n",
       "    var canvas = $('<canvas/>');\n",
       "    canvas.addClass('mpl-canvas');\n",
       "    canvas.attr('style', \"left: 0; top: 0; z-index: 0; outline: 0\")\n",
       "\n",
       "    this.canvas = canvas[0];\n",
       "    this.context = canvas[0].getContext(\"2d\");\n",
       "\n",
       "    var rubberband = $('<canvas/>');\n",
       "    rubberband.attr('style', \"position: absolute; left: 0; top: 0; z-index: 1;\")\n",
       "\n",
       "    var pass_mouse_events = true;\n",
       "\n",
       "    canvas_div.resizable({\n",
       "        start: function(event, ui) {\n",
       "            pass_mouse_events = false;\n",
       "        },\n",
       "        resize: function(event, ui) {\n",
       "            fig.request_resize(ui.size.width, ui.size.height);\n",
       "        },\n",
       "        stop: function(event, ui) {\n",
       "            pass_mouse_events = true;\n",
       "            fig.request_resize(ui.size.width, ui.size.height);\n",
       "        },\n",
       "    });\n",
       "\n",
       "    function mouse_event_fn(event) {\n",
       "        if (pass_mouse_events)\n",
       "            return fig.mouse_event(event, event['data']);\n",
       "    }\n",
       "\n",
       "    rubberband.mousedown('button_press', mouse_event_fn);\n",
       "    rubberband.mouseup('button_release', mouse_event_fn);\n",
       "    // Throttle sequential mouse events to 1 every 20ms.\n",
       "    rubberband.mousemove('motion_notify', mouse_event_fn);\n",
       "\n",
       "    rubberband.mouseenter('figure_enter', mouse_event_fn);\n",
       "    rubberband.mouseleave('figure_leave', mouse_event_fn);\n",
       "\n",
       "    canvas_div.on(\"wheel\", function (event) {\n",
       "        event = event.originalEvent;\n",
       "        event['data'] = 'scroll'\n",
       "        if (event.deltaY < 0) {\n",
       "            event.step = 1;\n",
       "        } else {\n",
       "            event.step = -1;\n",
       "        }\n",
       "        mouse_event_fn(event);\n",
       "    });\n",
       "\n",
       "    canvas_div.append(canvas);\n",
       "    canvas_div.append(rubberband);\n",
       "\n",
       "    this.rubberband = rubberband;\n",
       "    this.rubberband_canvas = rubberband[0];\n",
       "    this.rubberband_context = rubberband[0].getContext(\"2d\");\n",
       "    this.rubberband_context.strokeStyle = \"#000000\";\n",
       "\n",
       "    this._resize_canvas = function(width, height) {\n",
       "        // Keep the size of the canvas, canvas container, and rubber band\n",
       "        // canvas in synch.\n",
       "        canvas_div.css('width', width)\n",
       "        canvas_div.css('height', height)\n",
       "\n",
       "        canvas.attr('width', width);\n",
       "        canvas.attr('height', height);\n",
       "\n",
       "        rubberband.attr('width', width);\n",
       "        rubberband.attr('height', height);\n",
       "    }\n",
       "\n",
       "    // Set the figure to an initial 600x600px, this will subsequently be updated\n",
       "    // upon first draw.\n",
       "    this._resize_canvas(600, 600);\n",
       "\n",
       "    // Disable right mouse context menu.\n",
       "    $(this.rubberband_canvas).bind(\"contextmenu\",function(e){\n",
       "        return false;\n",
       "    });\n",
       "\n",
       "    function set_focus () {\n",
       "        canvas.focus();\n",
       "        canvas_div.focus();\n",
       "    }\n",
       "\n",
       "    window.setTimeout(set_focus, 100);\n",
       "}\n",
       "\n",
       "mpl.figure.prototype._init_toolbar = function() {\n",
       "    var fig = this;\n",
       "\n",
       "    var nav_element = $('<div/>')\n",
       "    nav_element.attr('style', 'width: 100%');\n",
       "    this.root.append(nav_element);\n",
       "\n",
       "    // Define a callback function for later on.\n",
       "    function toolbar_event(event) {\n",
       "        return fig.toolbar_button_onclick(event['data']);\n",
       "    }\n",
       "    function toolbar_mouse_event(event) {\n",
       "        return fig.toolbar_button_onmouseover(event['data']);\n",
       "    }\n",
       "\n",
       "    for(var toolbar_ind in mpl.toolbar_items) {\n",
       "        var name = mpl.toolbar_items[toolbar_ind][0];\n",
       "        var tooltip = mpl.toolbar_items[toolbar_ind][1];\n",
       "        var image = mpl.toolbar_items[toolbar_ind][2];\n",
       "        var method_name = mpl.toolbar_items[toolbar_ind][3];\n",
       "\n",
       "        if (!name) {\n",
       "            // put a spacer in here.\n",
       "            continue;\n",
       "        }\n",
       "        var button = $('<button/>');\n",
       "        button.addClass('ui-button ui-widget ui-state-default ui-corner-all ' +\n",
       "                        'ui-button-icon-only');\n",
       "        button.attr('role', 'button');\n",
       "        button.attr('aria-disabled', 'false');\n",
       "        button.click(method_name, toolbar_event);\n",
       "        button.mouseover(tooltip, toolbar_mouse_event);\n",
       "\n",
       "        var icon_img = $('<span/>');\n",
       "        icon_img.addClass('ui-button-icon-primary ui-icon');\n",
       "        icon_img.addClass(image);\n",
       "        icon_img.addClass('ui-corner-all');\n",
       "\n",
       "        var tooltip_span = $('<span/>');\n",
       "        tooltip_span.addClass('ui-button-text');\n",
       "        tooltip_span.html(tooltip);\n",
       "\n",
       "        button.append(icon_img);\n",
       "        button.append(tooltip_span);\n",
       "\n",
       "        nav_element.append(button);\n",
       "    }\n",
       "\n",
       "    var fmt_picker_span = $('<span/>');\n",
       "\n",
       "    var fmt_picker = $('<select/>');\n",
       "    fmt_picker.addClass('mpl-toolbar-option ui-widget ui-widget-content');\n",
       "    fmt_picker_span.append(fmt_picker);\n",
       "    nav_element.append(fmt_picker_span);\n",
       "    this.format_dropdown = fmt_picker[0];\n",
       "\n",
       "    for (var ind in mpl.extensions) {\n",
       "        var fmt = mpl.extensions[ind];\n",
       "        var option = $(\n",
       "            '<option/>', {selected: fmt === mpl.default_extension}).html(fmt);\n",
       "        fmt_picker.append(option)\n",
       "    }\n",
       "\n",
       "    // Add hover states to the ui-buttons\n",
       "    $( \".ui-button\" ).hover(\n",
       "        function() { $(this).addClass(\"ui-state-hover\");},\n",
       "        function() { $(this).removeClass(\"ui-state-hover\");}\n",
       "    );\n",
       "\n",
       "    var status_bar = $('<span class=\"mpl-message\"/>');\n",
       "    nav_element.append(status_bar);\n",
       "    this.message = status_bar[0];\n",
       "}\n",
       "\n",
       "mpl.figure.prototype.request_resize = function(x_pixels, y_pixels) {\n",
       "    // Request matplotlib to resize the figure. Matplotlib will then trigger a resize in the client,\n",
       "    // which will in turn request a refresh of the image.\n",
       "    this.send_message('resize', {'width': x_pixels, 'height': y_pixels});\n",
       "}\n",
       "\n",
       "mpl.figure.prototype.send_message = function(type, properties) {\n",
       "    properties['type'] = type;\n",
       "    properties['figure_id'] = this.id;\n",
       "    this.ws.send(JSON.stringify(properties));\n",
       "}\n",
       "\n",
       "mpl.figure.prototype.send_draw_message = function() {\n",
       "    if (!this.waiting) {\n",
       "        this.waiting = true;\n",
       "        this.ws.send(JSON.stringify({type: \"draw\", figure_id: this.id}));\n",
       "    }\n",
       "}\n",
       "\n",
       "\n",
       "mpl.figure.prototype.handle_save = function(fig, msg) {\n",
       "    var format_dropdown = fig.format_dropdown;\n",
       "    var format = format_dropdown.options[format_dropdown.selectedIndex].value;\n",
       "    fig.ondownload(fig, format);\n",
       "}\n",
       "\n",
       "\n",
       "mpl.figure.prototype.handle_resize = function(fig, msg) {\n",
       "    var size = msg['size'];\n",
       "    if (size[0] != fig.canvas.width || size[1] != fig.canvas.height) {\n",
       "        fig._resize_canvas(size[0], size[1]);\n",
       "        fig.send_message(\"refresh\", {});\n",
       "    };\n",
       "}\n",
       "\n",
       "mpl.figure.prototype.handle_rubberband = function(fig, msg) {\n",
       "    var x0 = msg['x0'];\n",
       "    var y0 = fig.canvas.height - msg['y0'];\n",
       "    var x1 = msg['x1'];\n",
       "    var y1 = fig.canvas.height - msg['y1'];\n",
       "    x0 = Math.floor(x0) + 0.5;\n",
       "    y0 = Math.floor(y0) + 0.5;\n",
       "    x1 = Math.floor(x1) + 0.5;\n",
       "    y1 = Math.floor(y1) + 0.5;\n",
       "    var min_x = Math.min(x0, x1);\n",
       "    var min_y = Math.min(y0, y1);\n",
       "    var width = Math.abs(x1 - x0);\n",
       "    var height = Math.abs(y1 - y0);\n",
       "\n",
       "    fig.rubberband_context.clearRect(\n",
       "        0, 0, fig.canvas.width, fig.canvas.height);\n",
       "\n",
       "    fig.rubberband_context.strokeRect(min_x, min_y, width, height);\n",
       "}\n",
       "\n",
       "mpl.figure.prototype.handle_figure_label = function(fig, msg) {\n",
       "    // Updates the figure title.\n",
       "    fig.header.textContent = msg['label'];\n",
       "}\n",
       "\n",
       "mpl.figure.prototype.handle_cursor = function(fig, msg) {\n",
       "    var cursor = msg['cursor'];\n",
       "    switch(cursor)\n",
       "    {\n",
       "    case 0:\n",
       "        cursor = 'pointer';\n",
       "        break;\n",
       "    case 1:\n",
       "        cursor = 'default';\n",
       "        break;\n",
       "    case 2:\n",
       "        cursor = 'crosshair';\n",
       "        break;\n",
       "    case 3:\n",
       "        cursor = 'move';\n",
       "        break;\n",
       "    }\n",
       "    fig.rubberband_canvas.style.cursor = cursor;\n",
       "}\n",
       "\n",
       "mpl.figure.prototype.handle_message = function(fig, msg) {\n",
       "    fig.message.textContent = msg['message'];\n",
       "}\n",
       "\n",
       "mpl.figure.prototype.handle_draw = function(fig, msg) {\n",
       "    // Request the server to send over a new figure.\n",
       "    fig.send_draw_message();\n",
       "}\n",
       "\n",
       "mpl.figure.prototype.handle_image_mode = function(fig, msg) {\n",
       "    fig.image_mode = msg['mode'];\n",
       "}\n",
       "\n",
       "mpl.figure.prototype.updated_canvas_event = function() {\n",
       "    // Called whenever the canvas gets updated.\n",
       "    this.send_message(\"ack\", {});\n",
       "}\n",
       "\n",
       "// A function to construct a web socket function for onmessage handling.\n",
       "// Called in the figure constructor.\n",
       "mpl.figure.prototype._make_on_message_function = function(fig) {\n",
       "    return function socket_on_message(evt) {\n",
       "        if (evt.data instanceof Blob) {\n",
       "            /* FIXME: We get \"Resource interpreted as Image but\n",
       "             * transferred with MIME type text/plain:\" errors on\n",
       "             * Chrome.  But how to set the MIME type?  It doesn't seem\n",
       "             * to be part of the websocket stream */\n",
       "            evt.data.type = \"image/png\";\n",
       "\n",
       "            /* Free the memory for the previous frames */\n",
       "            if (fig.imageObj.src) {\n",
       "                (window.URL || window.webkitURL).revokeObjectURL(\n",
       "                    fig.imageObj.src);\n",
       "            }\n",
       "\n",
       "            fig.imageObj.src = (window.URL || window.webkitURL).createObjectURL(\n",
       "                evt.data);\n",
       "            fig.updated_canvas_event();\n",
       "            return;\n",
       "        }\n",
       "        else if (typeof evt.data === 'string' && evt.data.slice(0, 21) == \"data:image/png;base64\") {\n",
       "            fig.imageObj.src = evt.data;\n",
       "            fig.updated_canvas_event();\n",
       "            return;\n",
       "        }\n",
       "\n",
       "        var msg = JSON.parse(evt.data);\n",
       "        var msg_type = msg['type'];\n",
       "\n",
       "        // Call the  \"handle_{type}\" callback, which takes\n",
       "        // the figure and JSON message as its only arguments.\n",
       "        try {\n",
       "            var callback = fig[\"handle_\" + msg_type];\n",
       "        } catch (e) {\n",
       "            console.log(\"No handler for the '\" + msg_type + \"' message type: \", msg);\n",
       "            return;\n",
       "        }\n",
       "\n",
       "        if (callback) {\n",
       "            try {\n",
       "                // console.log(\"Handling '\" + msg_type + \"' message: \", msg);\n",
       "                callback(fig, msg);\n",
       "            } catch (e) {\n",
       "                console.log(\"Exception inside the 'handler_\" + msg_type + \"' callback:\", e, e.stack, msg);\n",
       "            }\n",
       "        }\n",
       "    };\n",
       "}\n",
       "\n",
       "// from http://stackoverflow.com/questions/1114465/getting-mouse-location-in-canvas\n",
       "mpl.findpos = function(e) {\n",
       "    //this section is from http://www.quirksmode.org/js/events_properties.html\n",
       "    var targ;\n",
       "    if (!e)\n",
       "        e = window.event;\n",
       "    if (e.target)\n",
       "        targ = e.target;\n",
       "    else if (e.srcElement)\n",
       "        targ = e.srcElement;\n",
       "    if (targ.nodeType == 3) // defeat Safari bug\n",
       "        targ = targ.parentNode;\n",
       "\n",
       "    // jQuery normalizes the pageX and pageY\n",
       "    // pageX,Y are the mouse positions relative to the document\n",
       "    // offset() returns the position of the element relative to the document\n",
       "    var x = e.pageX - $(targ).offset().left;\n",
       "    var y = e.pageY - $(targ).offset().top;\n",
       "\n",
       "    return {\"x\": x, \"y\": y};\n",
       "};\n",
       "\n",
       "mpl.figure.prototype.mouse_event = function(event, name) {\n",
       "    var canvas_pos = mpl.findpos(event)\n",
       "\n",
       "    if (name === 'button_press')\n",
       "    {\n",
       "        this.canvas.focus();\n",
       "        this.canvas_div.focus();\n",
       "    }\n",
       "\n",
       "    var x = canvas_pos.x;\n",
       "    var y = canvas_pos.y;\n",
       "\n",
       "    this.send_message(name, {x: x, y: y, button: event.button,\n",
       "                             step: event.step});\n",
       "\n",
       "    /* This prevents the web browser from automatically changing to\n",
       "     * the text insertion cursor when the button is pressed.  We want\n",
       "     * to control all of the cursor setting manually through the\n",
       "     * 'cursor' event from matplotlib */\n",
       "    event.preventDefault();\n",
       "    return false;\n",
       "}\n",
       "\n",
       "mpl.figure.prototype._key_event_extra = function(event, name) {\n",
       "    // Handle any extra behaviour associated with a key event\n",
       "}\n",
       "\n",
       "mpl.figure.prototype.key_event = function(event, name) {\n",
       "\n",
       "    // Prevent repeat events\n",
       "    if (name == 'key_press')\n",
       "    {\n",
       "        if (event.which === this._key)\n",
       "            return;\n",
       "        else\n",
       "            this._key = event.which;\n",
       "    }\n",
       "    if (name == 'key_release')\n",
       "        this._key = null;\n",
       "\n",
       "    var value = '';\n",
       "    if (event.ctrlKey && event.which != 17)\n",
       "        value += \"ctrl+\";\n",
       "    if (event.altKey && event.which != 18)\n",
       "        value += \"alt+\";\n",
       "    if (event.shiftKey && event.which != 16)\n",
       "        value += \"shift+\";\n",
       "\n",
       "    value += 'k';\n",
       "    value += event.which.toString();\n",
       "\n",
       "    this._key_event_extra(event, name);\n",
       "\n",
       "    this.send_message(name, {key: value});\n",
       "    return false;\n",
       "}\n",
       "\n",
       "mpl.figure.prototype.toolbar_button_onclick = function(name) {\n",
       "    if (name == 'download') {\n",
       "        this.handle_save(this, null);\n",
       "    } else {\n",
       "        this.send_message(\"toolbar_button\", {name: name});\n",
       "    }\n",
       "};\n",
       "\n",
       "mpl.figure.prototype.toolbar_button_onmouseover = function(tooltip) {\n",
       "    this.message.textContent = tooltip;\n",
       "};\n",
       "mpl.toolbar_items = [[\"Home\", \"Reset original view\", \"fa fa-home icon-home\", \"home\"], [\"Back\", \"Back to  previous view\", \"fa fa-arrow-left icon-arrow-left\", \"back\"], [\"Forward\", \"Forward to next view\", \"fa fa-arrow-right icon-arrow-right\", \"forward\"], [\"\", \"\", \"\", \"\"], [\"Pan\", \"Pan axes with left mouse, zoom with right\", \"fa fa-arrows icon-move\", \"pan\"], [\"Zoom\", \"Zoom to rectangle\", \"fa fa-square-o icon-check-empty\", \"zoom\"], [\"\", \"\", \"\", \"\"], [\"Download\", \"Download plot\", \"fa fa-floppy-o icon-save\", \"download\"]];\n",
       "\n",
       "mpl.extensions = [\"eps\", \"jpeg\", \"pdf\", \"png\", \"ps\", \"raw\", \"svg\", \"tif\"];\n",
       "\n",
       "mpl.default_extension = \"png\";var comm_websocket_adapter = function(comm) {\n",
       "    // Create a \"websocket\"-like object which calls the given IPython comm\n",
       "    // object with the appropriate methods. Currently this is a non binary\n",
       "    // socket, so there is still some room for performance tuning.\n",
       "    var ws = {};\n",
       "\n",
       "    ws.close = function() {\n",
       "        comm.close()\n",
       "    };\n",
       "    ws.send = function(m) {\n",
       "        //console.log('sending', m);\n",
       "        comm.send(m);\n",
       "    };\n",
       "    // Register the callback with on_msg.\n",
       "    comm.on_msg(function(msg) {\n",
       "        //console.log('receiving', msg['content']['data'], msg);\n",
       "        // Pass the mpl event to the overriden (by mpl) onmessage function.\n",
       "        ws.onmessage(msg['content']['data'])\n",
       "    });\n",
       "    return ws;\n",
       "}\n",
       "\n",
       "mpl.mpl_figure_comm = function(comm, msg) {\n",
       "    // This is the function which gets called when the mpl process\n",
       "    // starts-up an IPython Comm through the \"matplotlib\" channel.\n",
       "\n",
       "    var id = msg.content.data.id;\n",
       "    // Get hold of the div created by the display call when the Comm\n",
       "    // socket was opened in Python.\n",
       "    var element = $(\"#\" + id);\n",
       "    var ws_proxy = comm_websocket_adapter(comm)\n",
       "\n",
       "    function ondownload(figure, format) {\n",
       "        window.open(figure.imageObj.src);\n",
       "    }\n",
       "\n",
       "    var fig = new mpl.figure(id, ws_proxy,\n",
       "                           ondownload,\n",
       "                           element.get(0));\n",
       "\n",
       "    // Call onopen now - mpl needs it, as it is assuming we've passed it a real\n",
       "    // web socket which is closed, not our websocket->open comm proxy.\n",
       "    ws_proxy.onopen();\n",
       "\n",
       "    fig.parent_element = element.get(0);\n",
       "    fig.cell_info = mpl.find_output_cell(\"<div id='\" + id + \"'></div>\");\n",
       "    if (!fig.cell_info) {\n",
       "        console.error(\"Failed to find cell for figure\", id, fig);\n",
       "        return;\n",
       "    }\n",
       "\n",
       "    var output_index = fig.cell_info[2]\n",
       "    var cell = fig.cell_info[0];\n",
       "\n",
       "};\n",
       "\n",
       "mpl.figure.prototype.handle_close = function(fig, msg) {\n",
       "    // Update the output cell to use the data from the current canvas.\n",
       "    fig.push_to_output();\n",
       "    var dataURL = fig.canvas.toDataURL();\n",
       "    // Re-enable the keyboard manager in IPython - without this line, in FF,\n",
       "    // the notebook keyboard shortcuts fail.\n",
       "    IPython.keyboard_manager.enable()\n",
       "    $(fig.parent_element).html('<img src=\"' + dataURL + '\">');\n",
       "    fig.send_message('closing', {});\n",
       "    fig.ws.close()\n",
       "}\n",
       "\n",
       "mpl.figure.prototype.push_to_output = function(remove_interactive) {\n",
       "    // Turn the data on the canvas into data in the output cell.\n",
       "    var dataURL = this.canvas.toDataURL();\n",
       "    this.cell_info[1]['text/html'] = '<img src=\"' + dataURL + '\">';\n",
       "}\n",
       "\n",
       "mpl.figure.prototype.updated_canvas_event = function() {\n",
       "    // Tell IPython that the notebook contents must change.\n",
       "    IPython.notebook.set_dirty(true);\n",
       "    this.send_message(\"ack\", {});\n",
       "    var fig = this;\n",
       "    // Wait a second, then push the new image to the DOM so\n",
       "    // that it is saved nicely (might be nice to debounce this).\n",
       "    setTimeout(function () { fig.push_to_output() }, 1000);\n",
       "}\n",
       "\n",
       "mpl.figure.prototype._init_toolbar = function() {\n",
       "    var fig = this;\n",
       "\n",
       "    var nav_element = $('<div/>')\n",
       "    nav_element.attr('style', 'width: 100%');\n",
       "    this.root.append(nav_element);\n",
       "\n",
       "    // Define a callback function for later on.\n",
       "    function toolbar_event(event) {\n",
       "        return fig.toolbar_button_onclick(event['data']);\n",
       "    }\n",
       "    function toolbar_mouse_event(event) {\n",
       "        return fig.toolbar_button_onmouseover(event['data']);\n",
       "    }\n",
       "\n",
       "    for(var toolbar_ind in mpl.toolbar_items){\n",
       "        var name = mpl.toolbar_items[toolbar_ind][0];\n",
       "        var tooltip = mpl.toolbar_items[toolbar_ind][1];\n",
       "        var image = mpl.toolbar_items[toolbar_ind][2];\n",
       "        var method_name = mpl.toolbar_items[toolbar_ind][3];\n",
       "\n",
       "        if (!name) { continue; };\n",
       "\n",
       "        var button = $('<button class=\"btn btn-default\" href=\"#\" title=\"' + name + '\"><i class=\"fa ' + image + ' fa-lg\"></i></button>');\n",
       "        button.click(method_name, toolbar_event);\n",
       "        button.mouseover(tooltip, toolbar_mouse_event);\n",
       "        nav_element.append(button);\n",
       "    }\n",
       "\n",
       "    // Add the status bar.\n",
       "    var status_bar = $('<span class=\"mpl-message\" style=\"text-align:right; float: right;\"/>');\n",
       "    nav_element.append(status_bar);\n",
       "    this.message = status_bar[0];\n",
       "\n",
       "    // Add the close button to the window.\n",
       "    var buttongrp = $('<div class=\"btn-group inline pull-right\"></div>');\n",
       "    var button = $('<button class=\"btn btn-mini btn-danger\" href=\"#\" title=\"Close figure\"><i class=\"fa fa-times icon-remove icon-large\"></i></button>');\n",
       "    button.click(function (evt) { fig.handle_close(fig, {}); } );\n",
       "    button.mouseover('Close figure', toolbar_mouse_event);\n",
       "    buttongrp.append(button);\n",
       "    var titlebar = this.root.find($('.ui-dialog-titlebar'));\n",
       "    titlebar.prepend(buttongrp);\n",
       "}\n",
       "\n",
       "\n",
       "mpl.figure.prototype._canvas_extra_style = function(el){\n",
       "    // this is important to make the div 'focusable\n",
       "    el.attr('tabindex', 0)\n",
       "    // reach out to IPython and tell the keyboard manager to turn it's self\n",
       "    // off when our div gets focus\n",
       "\n",
       "    // location in version 3\n",
       "    if (IPython.notebook.keyboard_manager) {\n",
       "        IPython.notebook.keyboard_manager.register_events(el);\n",
       "    }\n",
       "    else {\n",
       "        // location in version 2\n",
       "        IPython.keyboard_manager.register_events(el);\n",
       "    }\n",
       "\n",
       "}\n",
       "\n",
       "mpl.figure.prototype._key_event_extra = function(event, name) {\n",
       "    var manager = IPython.notebook.keyboard_manager;\n",
       "    if (!manager)\n",
       "        manager = IPython.keyboard_manager;\n",
       "\n",
       "    // Check for shift+enter\n",
       "    if (event.shiftKey && event.which == 13) {\n",
       "        this.canvas_div.blur();\n",
       "        event.shiftKey = false;\n",
       "        // Send a \"J\" for go to next cell\n",
       "        event.which = 74;\n",
       "        event.keyCode = 74;\n",
       "        manager.command_mode();\n",
       "        manager.handle_keydown(event);\n",
       "    }\n",
       "}\n",
       "\n",
       "mpl.figure.prototype.handle_save = function(fig, msg) {\n",
       "    fig.ondownload(fig, null);\n",
       "}\n",
       "\n",
       "\n",
       "mpl.find_output_cell = function(html_output) {\n",
       "    // Return the cell and output element which can be found *uniquely* in the notebook.\n",
       "    // Note - this is a bit hacky, but it is done because the \"notebook_saving.Notebook\"\n",
       "    // IPython event is triggered only after the cells have been serialised, which for\n",
       "    // our purposes (turning an active figure into a static one), is too late.\n",
       "    var cells = IPython.notebook.get_cells();\n",
       "    var ncells = cells.length;\n",
       "    for (var i=0; i<ncells; i++) {\n",
       "        var cell = cells[i];\n",
       "        if (cell.cell_type === 'code'){\n",
       "            for (var j=0; j<cell.output_area.outputs.length; j++) {\n",
       "                var data = cell.output_area.outputs[j];\n",
       "                if (data.data) {\n",
       "                    // IPython >= 3 moved mimebundle to data attribute of output\n",
       "                    data = data.data;\n",
       "                }\n",
       "                if (data['text/html'] == html_output) {\n",
       "                    return [cell, data, j];\n",
       "                }\n",
       "            }\n",
       "        }\n",
       "    }\n",
       "}\n",
       "\n",
       "// Register the function which deals with the matplotlib target/channel.\n",
       "// The kernel may be null if the page has been refreshed.\n",
       "if (IPython.notebook.kernel != null) {\n",
       "    IPython.notebook.kernel.comm_manager.register_target('matplotlib', mpl.mpl_figure_comm);\n",
       "}\n"
      ],
      "text/plain": [
       "<IPython.core.display.Javascript object>"
      ]
     },
     "metadata": {},
     "output_type": "display_data"
    },
    {
     "data": {
      "text/html": [
       "<img src=\"data:image/png;base64,iVBORw0KGgoAAAANSUhEUgAAAoAAAAHgCAYAAAA10dzkAAAgAElEQVR4XuydB3Qc1dXH/7ur3rssyVWSm9yLXMCm2DhgWgiBQAKEQEKAUEL5IOWjJQRCTUJNvlBCAknoIVRTDQZ3y0W2ZNmSZcuWZdnqve3ufOeO/OTRanZ3dme0u9q9c84e2bszb977vzczv7nv3vtM4I0VYAVYAVaAFWAFWAFWIKQUMIVUa7mxrAArwAqwAqwAK8AKsAJgAORBwAqwAqwAK8AKsAKsQIgpwAAYYh3OzWUFWAFWgBVgBVgBVoABkMcAK8AKsAKsACvACrACIaYAA2CIdTg3lxVgBVgBVoAVYAVYAQZAHgOsACvACrACrAArwAqEmAIMgCHW4dxcVoAVYAVYAVaAFWAFGAB5DLACrAArwAqwAqwAKxBiCjAAhliHc3NZAVaAFWAFWAFWgBVgAOQxwAqwAqwAK8AKsAKsQIgpwAAYYh3OzWUFWAFWgBVgBVgBVoABkMcAK8AKsAKsACvACrACIaYAA2CIdTg3lxVgBVgBVoAVYAVYAQZAHgOsACvACrACrAArwAqEmAIMgCHW4dxcVoAVYAVYAVaAFWAFGAB5DLACrAArwAqwAqwAKxBiCjAAhliHc3NZAVaAFWAFWAFWgBVgAOQxwAqwAqwAK8AKsAKsQIgpwAAYYh3OzWUFWAFWgBVgBVgBVoABkMcAK8AKsAKsACvACrACIaYAA2CIdTg3lxVgBVgBVoAVYAVYAQZAHgOsACvACrACrAArwAqEmAIMgCHW4dxcVoAVYAVYAVaAFWAFGAB5DLACrAArwAqwAqwAKxBiCjAAhliHc3NZAVaAFWAFWAFWgBVgAOQxwAqwAqwAK8AKsAKsQIgpwAAYYh3OzWUFWAFWgBVgBVgBVoABkMcAK8AKsAKsACvACrACIaYAA2CIdTg3lxVgBVgBVoAVYAVYAQZAHgOsACvACrACrAArwAqEmAIMgCHW4dxcVoAVYAVYAVaAFWAFGAB5DLACrAArwAqwAqwAKxBiCjAAhliHc3NZAVaAFWAFWAFWgBVgAOQxwAqwAqwAK8AKsAKsQIgpwAAYYh3OzWUFWAFWgBVgBVgBVoABkMcAK8AKsAKsACvACrACIaYAA2CIdTg3lxVgBVgBVoAVYAVYAQZAHgOsACvACrACrAArwAqEmAIMgCHW4dxcVoAVYAVYAVaAFWAFGAB5DLACrAArwAqwAqwAKxBiCjAAhliHc3NZAVaAFWAFWAFWgBVgAOQxwAqwAqwAK8AKsAKsQIgpwAAYYh3OzWUFWAFWgBVgBVgBVoABkMcAK8AKsAKsACvACrACIaYAA2CIdTg3lxVgBVgBVoAVYAVYAQZAHgOsACvACrACrAArwAqEmAIMgCHW4dxcVoAVYAVYAVaAFWAFGAB1jgFJkiSdRfDhrAArwAqwAqwAK+BjBUwmU0gzUEg33oixxgBohIpcBivACrACrAAr4FsFGAB9q3fQnY0BMOi6lBvECrACrAArEAIKMACGQCcPZxMZAIdTXS6bFWAFWAFWgBUYHgUYAIdH15AplQEwZLqaG8oKsAKsACsQRAowAAZRZ/qjKQyA/lCdz8kKsAKsACvACuhTgAFQn34hfzQDYMgPARaAFWAFWAFWYAQqwAA4AjstkKrMABhIvcF1YQVYAVaAFWAFtCnAAKhNJ97LiQIMgDw0WAFWgBVgBViBkacAA+DI67OAqjEDYEB1B1eGFWAFWAFWgBXQpAADoCaZeCdnCjAA8thgBVgBVoAVYAVGngIMgCOvzwKqxgyAAdUdXBlWgBVgBVgBVkCTAgyAmmTindgCyGOAFWAFWAFWgBUIHgUYAIOnL/3SErYA+kV2PikrwAqwAqwAK6BLAQZAXfLxwQyAPAZYAVaAFWAFWIGRpwAD4Mjrs4CqMQNgQHUHV4YVYAVYAVaAFdCkAAOgJpl4J2cKMADy2GAFWAFWgBVgBUaeAgyAI6/PAqrGDIAB1R1cGVaAFWAFWAFWQJMCDICaZOKd2ALIY4AVYAVYAVaAFQgeBRgAg6cv/dIStgD6RXY+KSvACrACrAAroEsBBkBd8vHBDIA8BlgBVoAVYAVYgZGnAAPgyOuzgKoxA2BAdQdXhhVgBVgBVoAV0KQAA6AmmXgnZwowAPLYYAVYAVaAFWAFRp4CDIAjr88CqsYMgAHVHVwZVoAVYAVYAVZAkwIMgJpk4p3YAshjgBXQr4AkSejt7YXFYpE/JpNJf6FcAivACrACXijAAOiFaHzICQXYAsijgRVwrwCBn9Vqhc1mQ3d3N+j/tIWFhQ3AIEOhex15D1aAFTBOAQZA47QMyZIYAEOy27nRGhUg0LPb7ejs7Byw+PX19cmWP/qNPj09PXJpERER8v8JBJVgaDabQR/eWAFWgBUwUgEGQCPVDMGyGABDsNO5yZoUIPAj2KO/zc3NSEhIkOGOpoCVU78CACMjIwegUMAhnYj2pQ9BIX0IBsX0MU8ha+oK3okVYAVUFGAA5GGhSwEGQF3y8cFBqADBG4EfTfcKgGtqakJiYuLAFLCw6tFf2pc2AkC1TcCgGhQ6WgsFLAahrNwkVoAVMFgBBkCDBQ214hgAQ63Hub3OFBB+fuTrp7Tc0b8bGxtl6x39Rn9pI0AUvoDCwkdAR1DoDuSUUCjqQ98J66CYQhagyZZCHresACvgqAADII8JXQowAOqSjw8OAgWEnx9Z8ujfSnij6d+uri7Zzy88PBwxMTEDlkFqOu0vgkII1mh/+lAZAt68gUJRD/FXAKGYQhaQGQTycxNYAVbASwUYAL0Ujg/rV4ABkEdCqCogrHDCz09Y2USAB0EfwR8BHFn+hA+gmPIVutF+VFZUVJS4pmQIJAuhAEL6S5uAQa1+gMLCSMcr/01l0ZSziDxWQmao9ie3mxUINQUYAEOtxw1uLwOgwYJycSNCAQIqkdaFKiysfsL/j6J+aSOLH1n+KAgkPj5+IAhEHEN/HQFQTQBhZXQEQ9pXwKDSr9DVlC9ZHOl3qpcAS1EfpU+hEjJHRKdwJVkBVsAjBRgAPZKLd3ZUgAGQx0QoKeDKz4+AkMCPLHfR0dGyhU2AGAWBOANAigomEBMWQK16KqFQCYbuoFAAoDLoRFgHRZnCikllOU4fcwJrrT3E+7ECga0AA2Bg90/A144BMOC7iCtogAIERgR2BHmu/PwIqgj+HPP2kQUwNjZWhikCPqUF0FsAdGYpFHVVg0LhZ0iAR8DpLjjEMQJZgCHnKjRgUHERrICfFWAA9HMHjPTTMwCO9B7k+rtSQFjECPxEcIaAJhHAQX5+IsCDwEht8xUAaoFCAbHCUqgWbOJOE8coZGWuQqVfobtoZh59rAAr4D8FGAD9p31QnJkBMCi6kRuhooBI5NzW1iav0kEfYQGjQA6a7qX/Cz8/VyL6EwAd60VTwLRRexx9CoV1Uy3YxFsoJMAUSaw5gTVfaqxA4CjAABg4fTEia8IAOCK7jSvtQgFHPz8CQJrWJWBS+vkR+AkodCeoEgCV6WLoOJoCFn6D7sox4nc1H0BRrjLqWEQh64VCkRRbrHTCuQqN6EUugxXQrwADoH4NQ7oEBsCQ7v6garwAP5GgWUxftrS0yKBH3xOske8cAaE7/zmlOFQGHUNTxYEMgGodqvQpFBZDAYVqEciOZVB76UPA7MynUJkIm3MVBtVlxY0JYAUYAAO4c0ZC1RgAR0IvcR3dTV+K6V7HAA/6P1nv6C9BIEGcMz8/V+cIJABUrj3s7chwB4VKMCSrKX0IAJ0BJn2vzFUo4Fot2MQT8Pa2fXwcKxAKCjAAhkIvD2MbGQCHUVwuetgVEOAnAjzohMLPj6x95OcnkjQ7AxgtlXQFgGQdI0AiuPTFZgQAOgM5ZwmsaX+yfnqawFoE4YjzUd9wrkJfjBI+RygowAAYCr08jG1kABxGcbnoYVPAWSJnOqEI8CD4ICgjnznyX/M0T5+y8gIAyYpIYCksjeJ8wQCAzqCQ2kvtI3ATPoa0r9JKqCU4hHMVDtvlwAWHqAIMgCHa8UY1mwHQKCW5HF8o4CqRM/n4UUoXAhYCP5Enj4JAyHqlBwBbW1tliKRPKAGgGuB6m8Da2fhQ8ysk4CRfQgJukZZGpLvxxTjjc7ACI0EBBsCR0EsBXEcGwADuHK7agAKuEjnTbwR+ZOkjYKCpXmUiZwZAfQNJyxS3Oyh0DDZx5wdIU/diBRNhOeRchfr6kY8OPgUYAIOvT33aIgZAn8rNJ/NQAXeJnMkfjuCPrEQEfgQNjhsBIH2vx0fPnQVQRMl62Dyvdh8uH0BnldECgGrHCsueSEcj/AtpX+W6xyJnoRIKCQAJ5pX96WgppHIEFDoGm3ACa6+GFh80whRgABxhHRZo1WUADLQe4foIBQgYCHaUkb0CEpR+fiKRszOrUnt7uwyIDIDejS1vAdAVFKolsFZCIZ2TAJCm7l1tjiua0L70Hecq9K6v+aiRpQAD4Mjqr4CrLQNgwHVJyFdI6edHKVwSEhIGLEFkTSLrEPmIkU+flvVwjQBA5TSymg8gWwC9H7YC4pRQSP0sLHx6VzURUeGcq9D7PuIjA1MBBsDA7JcRUysGwBHTVUFfUTU/PwLA+Ph42aJDU71kEaRADLLmKf38XInT0dExsOSbtyIqAZBgT5l2hmCUoFBPmhlP6jVSpoA9aZPjvtRnYpUWJRh6ksBaWabwI+RchXp6hY8NNAUYAAOtR0ZYfRgAR1iHBWF1Xfn5NTY2DkTekj8YQZaniZwZAPUNGiOngLXWhPqMQN/Rp9OTBNbu/AAd09IQWNOUs4g6FkEoytyHWuvP+7ECvlCAAdAXKgfxORgAg7hzR0DTlImcxZSfmLIj8KDpW3oAi3V7vWkSA6A3qp04xl8ASNP7WmBfvEAog02EhVb4FSoDTVz5igrLsihTjEVSQwChWOpO5D7Upy4fzQp4rwADoPfa8ZH9DtMSC8EK+FoBV/n8aEqV/PyEH1hsbKw8HejtRgBIG5Xj7ab0I+QpYG9V1H4c9ZlWAFQr1RkU0r5qPoUEetTHjimERNlquQrpO7Wl7rS6JmhXg/dkBdQVYADkkaFLAQZAXfLxwR4q4Ar8yGoj/PxEgAf53pFVRg8AiuXghhMAafpQT/meyCgio/UktvbkfIFuAdTaFmWuQqW1kI4naKPxJxJP0//d5Sp0lZZGWAvFdLK76WitbeD9WAGlAgyAPB50KcAAqEs+PlijAuLhSzChTOtCh9P/KYkzwR/5YCn9/JRLsGk81ZDdGAC9Va7/uGABQHeWQgrkESAooNDTBNacq1DfWOOjPVOAAdAzvXhvBwUYAHlIDLcCSj8/YVURvlX00CXwo/+LfH7K+hgFgFSHuLg4r5vqbgqYLYBeS6t6IOlNll8tPoBGnJnAjaadhRVXLdjECCgUdRW5Cmnc00uP8CvUYnk0or1cRnAowAAYHP3ot1YwAPpN+qA/MUEX+fMpc7oJAFT6+YkAD7UpN+UKHN4KRoBJddADgMpAEkcfQCqbLJg8BextDw09zp8AqDYOXeUqdLeqiTPLo7B8Cz9CYRl3DDZhKDRuXAVbSQyAwdajPm4PA6CPBQ+B09GDjCxiBEr0MFP6PxEU0pQsWf7Ih42sPK58rRgAhw6YUPABDDQAdAVxaqua0JjWksBaueQd5yoMgZujwU1kADRY0FArjgEw1Hp8+NqrTORMFjECQFrFgzb6jSxx9D052mud3lMmYPa25nResjhSQmlvN6UFkMqij4j2DHYLIME6tVHPUnqe6u5rABQvJmTFdRf84a4tVJb4iGATtQTWBIg0Nh3XPFaW75irUPwmAJNzFbrrjeD+nQEwuPt32FvHADjsEgf9CdQSORM0kKWKoIv+TZYOAiZ6wDom93UlkBEAKGCUAdC7oegvAHSWksW7Vrg+ykgAdGYtVEYe078F3NF14egD6ApCHaGQcxUOx4gYGWUyAI6MfgrYWjIABmzXjIiKOfPzI/gj8BLWP5HKxVPrSqAAoDKSWM0CSJYcPT6GnnQ2ARnp7qs0MKEEgL7qQ3FdkGVZvBAJKKRrxJME1mLscK5CT66i4NiXATA4+tFvrWAA9Jv0I/rErvL50YOMpvDEtCGBiqfgJ8RRRt96KxiBKEGMmI72phwGQN9PAfvDAuhLAKRx6Jjw2psE1q7Gs1paGtpfvECIPIViVRNvr1Nvrik+Rr8CDID6NQzpEhgAQ7r7PW68AD+ltUI8NOihQrBFH7Jq0P+TkpI8PofyACMAkKyR9GEA9K4r2ALonW5ajtLi6+gugbUINtEKceSbK4KwxHSyCNRyXNmEE1hr6UX/7cMA6D/tg+LMDIBB0Y3D3gg1Pz8BfiLql6ZB6QFClhuRV00vABqxju9wA6DwH/OV9SjYp4DF2PGlBZBeaHw5ja+0cHvTTiUUKqOQqVzH5NWOaWTIhYHGEJ1XbEpLofI7UZYy2ITT0gz77VbzCRgANUvFO6opwADI48KdAspEzrSv0ipA1gQxPSoSOdPv9D3BW6AAIFklExMT3TXV6e/KXIKOPoAMgF7LqnqgvwDQl7kc9QKgk3v5QPSxGhQKmBO/KQHQWXlKMBTBJvSXcxUaO+a9LY0B0Fvl+DhZAQZAHgjOFKCbP4GcWiJn+o7Aj2BIrNur9B+i7ymAIzk5WZfARizjJlYbYQD0rit8PQUcKgDoi3YKgHOMQBaWQrVgE1ejhHMVencNDddRDIDDpWyIlMsAGCId7UEzXQV4kPWArGE0rRoZGSnnhhP58JSnYAD0QHAPdw2VKWAjcvJpldbXuRyPv3wPLD/ny+ALunapvZR/UAmGIlehlgTWSl05V6HWUWb8fgyAxmsaUiUyAIZUd7tsrAA/EcShnOpV+vnR9A9NH7lap5UeLLSOb0pKii6BjbIAUjl6pqO1TAH7ClgYAHUNKdWD6YXFl+s5+xMA1caPsBQ6S2CtFwrpXkIa00YvjiLYRExL+xKAjR89/iuRAdB/2gfFmRkAg6IbdTVC3Pxpupc+FJlIsCR8foSfH/1f5PNzd0IBgDQFrOfmbsQ6vkb4IyqTSVPbqExh+RzuJMKOWjMAuht9nv/uDwD09bgRqniylKDWVU3EVLIr5cV5yfIo7jniHuMYfaylPM97OfiOYAAMvj71aYsYAH0qd8CdzDGRM/2f1t8lyx09FMlyJvL50Zu7Vpijcpqbm2UfQK3HqInDADhUFX8AoC8TTwvfOF9ZVElhtcjY4b5Y/QmAwhLnTRupf9RWNXGXwJoAUO28arkKxeyDCDYR+Qo5Lc3gHmMA9GYE8zEDCjAAhuZgcObnJyx39JYucoVRkIean58r5YwCQCOWcRNWTT0BKa4sgL4GFgZA469ZfwKgr9IHKS2AegBQTX0tCazp3kL3ES0vkq6gkHMVnugBBkDj7wUhVSIDYEh1tzz1QjdieuAJp29lPj+yuBHshIeHu/Xzc6Ucld3U1CRPJXsKj8pyjQBAIwJSAg0AhVXWF6PX18DpD8uYPwDQX7kHaSzTNU8gNpybMlehuOeI86n5FLqbKeBchUN7iwFwOEdwCJTNABgCndyf7kfOEUYPOvrrGOAhUqXQ93Sz1gtuwQaAymTSjj6A/rAAMgAae90K/1d3ufGMPKs/AZBeysjK78uNXi7pvGKVIOU0MtXDXQJrZ5bHUM5VyADoyxEchOdiAAzCTnVokqtEzko/P5HImXz39AIgVaGxsVFOvuwqWtid+kas4kFtFH6N7s7n7HcGQLuc79EXmz8sgP4CQH8knxYr9vgDAAn+aHZBuSktha4SWIvAEC2WQiqfylKWTecV08f0PeUpzczM9MWQHrZzMAAOm7ShUTADYPD2s6t8fsL6IPz8KLpXROTR1K1ecAskADQiJY0WAPRmSS9vRp+vEzP7awrYl75xBID0okDXga82f+QepLYRAKqB2HC3mwLKCMIcAdCVZc9VAmvlNLIrKBRwT30rgLCyshJ33303Pvzww+Fu9rCWzwA4rPIGf+EMgMHXxwL86Obpys+PLAB0U3S00BlhuSNVCSTj4+Plh43YbE31sFbuRvjE6TAnuF8lxIhVPIwEQII8WuKOrAvKKSuy5DAAGnMt+XppPaq1PwDQH6ln/A2AdM9R3g88GTHKXIUCDMUqRcI6qLwmBRSqvTBt3boVzz77LF577TVPqhBw+zIABlyXjKwKMQCOrP5yVVvxdksPMzXwoxshvYUT8BGsOLsRq4GbNyo5lmOrO4K2vz4Ic2IK7B3tSLjuf+V/u9qMBEA9KWnIAiiSUgvneWU6DKG3sEqIv+6mq7zRlS2A3qjm+hhfa0q18UfgCZ3XE0uckUrTixNdO94CoCtLoXLqWEz90rVH16EARzHLQeWsWbMG//nPf/D8888b2USfl8UA6HPJg+uEDIDB0Z8iMEGACLVKwIdI5Ey/iUTOrsDEKAAkX0LK5SamfNpfeQrmxGREn3sZOt9+EVJnO+Ku+LlbANS7ioeelDSkmYA/qihNjZN2BAzK6GZKnk0PN0codGWZ8Hbk+RpWQmEK2Nea+hsA9VjivB23BIDkR6rHJ1jruZUJrMULMR37xhtv4NNPP0V2drbso/zMM88gIyPDZbGvvvqqvF9xcbHsN0jgrrz26fsbb7wRZFWk+8NPf/pT3HvvvYPKpP8TbNLqSPPmzZOtj9OmTdPaHKf7MQDqljC0C2AAHNn9LyJ7xfq8CQkJA+BHUEjwRDdAAj+6+WqxSDmCm7cKKcux1dWi9Zl7kfg/j8Aclwh7eytaHv8F4n98B8JG5zo9hRGreHgLgEpwpgcm/Z9u8FSeGgA6TgE7LqvlOF2l1YfJURxfT1eGCgD6Mtk19ak/Ak/ovMNhidNyj6CXJDWXEy3H6tlHpL2ha3jnzp345JNPsH79ehQVFckQOHr0aMydOxfnn38+fvzjHw85Fe1PL8V0L6XflQBIQDhp0iRcffXVuOeee1BeXo6VK1fi9ttvxy233CKX9eijj+Kpp57CRx99hLy8PPz2t7/FP/7xD+zZs0d+QdazMQDqUY+PJYuFxDKMPAUcAzzopkQQKACFbnr0IasU3XQ9ycVHb6lal3xzpZyynK7V78FWU4W4y24cOKTzw1chtbci9ns/9QkAao1sFj5oBD4CnOlhrdRXCwA6NsqdD5MSCKm/nMF6sAOgP9Kj+BpyBQD6OvBEAKCvLHHKa4AA0Fd+ssrz0n3QMe0NWeNIe7LWbd++fcB6RyDnbPvyyy+xbNmyQQD497//HXfeeSeOHDkycI998sknQZ+Kigq5qAkTJuC2227DTTfdJP+fxjdZIB9//HFcfvnluh4+DIC65OODGQBH1hhwlshZrHZBwCLSPLjy89MKbnrUUQJg61P3IuqUlYiYtWigSFttNVr/7wEk/eIPMEWpR18akcRZa05C2o8eFqSfY4CM0hKp1QKoRTsBhUqndiqfNqVDO8GhyN3IAKhFWc/2CSUA9IclTuTK9AcAqqW9+eMf/yingLn22ms1DxQ1ALz11ltRVlYmW/fEtm7dOixZskROPUXXNfkek8Vx4cKFA/uceeaZmD59ugyBejYGQD3q8bFsARwhY8BVImdqAoELTVEQNIh8flqme9WaTzcushzqXSlAlBPe14OWh29D4q/+BHNM3KBTtj77W0QuPB2R85aq9oSvAFAAHmkm9FNWSAsAGjW95SovmvCfIkgUTu3e9rPWoe9rOPKHBZD8PEl3X+U6JO394XdI5/WHJc7XydKVY1st7c3999+POXPm4Pvf/77WywBqAEhTwjSlTn6CYtu9e7fs31ddXS0D4Lhx40DfTZ48eWCfSy+9FOSu89e//lXz+dV2ZADUJR8fzBbAwB8Dws9P+JApV/FQ+vlRS/REugoljAZAU8VOdH/xHhJu+s0QsbvXfAhrVQXirrhZtSOMSOEiLIBquQ2FfmIqztk6pb4EQDUhlFBIdRFWQtpXLfLYSCj0BwD6OkEyASBtel96PLmb+FpXUTd/AKA/knuL9tKLsWPQyy9+8QvZV++8887T3GVqAEhTu6WlpVi1atVAOVosgN/61rcwc+ZMPPbYY5rPzwA4VAGTLvX4YLYABvAYcJXImW6oIvCDHlp0gyOH5JQU12lVtDSXyqHIXb3WEFGO/bO3aS06xJx32ZDT247VgKyASb9+AqaIoWuTGgGAdFLH3IaO073upqb8DYBK4cQUMPWPY6CJWOZPRB8r/Qq19L3aPr4GFX8kSA4VAPTXVKw/cjuKsawW9PKzn/0M11xzDU455RTNl4UaAFIwxx133IGampqB6OYnnngCTz/9tBwQQltubi5oqlj4ANLLJvkA0jT0ZZcNvSdqrlB/poeQZqCQbrwnA8XZvmwBNEJFY8tw5udHZxHgQhYSyqdF4EIPeW8jXdVqThYCKlPvqggCAHtfegxRi88Y5P8nzkvtaf3TrxF95sWIKJg7FBBtNjl1gl7LpgBAAiMR3Uv3TorC05KXTDkVreYD6MsUF658AIWlUOlTKFIDqfkUahm5vp4eDRUA9LWu4v5BY5XGvS/ZwR/T+koAdAx6ufLKK3HXXXfJ0b/uNnG9U+7As846S55Cp2uJXrxJSxEFTOUR9J1zzjly0IeIAiYrH0UB06ojBIMUBfzKK6/IUcB6155mAHTXe/y7SwUYAANngLjy86PflODi6Kcmpjn1ghKpYRQAyjdKE9Dz6P8g4YZ7YUnPUhW784N/QbLZEHv+FUN+NwpsCQDpoUcPXXoYkX5kNdX6EBwpAKgmsDI3oUiY65i4WsChmh6+BhV/AKBIFeLLKWB/WB39NRXrjz4V14Ja0MuFF16IP//5z8jPz3f7AHjppZfkNC+0ieUy6d9kESQLIqWWueGGG+S0MuTXd/3118spYZQb5QEkfz9yryksLJTzCnIeQLfSu92BLYBuJXK9AwOgTgENOpxuzErfLqWfH8EH+bHQTZSscmp+alojXbVUl95qRTCElv2d7UM3XlPDUeqld3cAACAASURBVPT+/XEk3fU0TGaz6q69ZTvQ9dGrSLz198MCgEIbKtybtDh03EgGQHdQKKyFjlAopo9pCtiXARL+WCKNAVDPle7+WH/0KdXK2ZT3ihUr8O6777pNAu2+Zf7dgy2A/tV/xJ+dAdC/XSgse2oBHko/P5rCoI+rfH5GreFrFADKa+bu2gxpx3ok/PRXA0JLtZXAwV1ASjaQNw/o7UbzAz9Hwq0PwpKcNqhD9IAtHSuWv6N/kwXQWwtPsAGg2qhXrp6ghEJh+SCLqfAt1Go59ebq8gcsqOWK86bunhyjGTolO9DTCVNvN2C3AiYzpPBIIDIWsJxYZ1vLuf3li+evZe+cRR8vXrwYmzdv1u3mokXz4dyHAXA41Q2BshkA/dPJIsCDrGTkg0ZBF+KhqgxQoO+Fn5+7mhq1hJtY81ZvlnoCQNsX/4VFOjG9K7U1ANs+ASYWAgdLgIzxME2YhbbnHkLEnJMQOX+wU7a3AKi0mpJ+VJf4+PiBZencaen4uzIYxZkPoNHrnDqro6/yAJL29KGpSmozwZ9Rq5m40j+UANAxQfGALl1tMDccgqn5KEztjXIQFQj6CPgoT2QfwaAdiEmAPSkTUspoSPGpNEfpcmj7yxfPX6ueqE1505imaVhKzeJJgnxP7xm+2J8B0BcqB/E5GAB927nCz0+sT0mBEmTZE+vIksWKonud5aNzVVsjAZBunHFxg3P2eaoUgWTva39B1JRZiFq8XD5cKl4NxCbAlDcPUnsTsHUVsOB8dH/zCexN9Yi9+BpVC6BaChdnViwRHU26ilx5epe3C0UAFPoqfQAFFAoLofAppH2VQSZ6LIUhC4CSBFPTEZhr9sLUVg8paRTsyVmQEtKB6DjZ8jewERD2dsHU1gBzcy1MDdVARBRsWZMgZYwHzBbVy9Vfvni+emlxbLSaxVMAICVwHk5Ltqf3S2/2ZwD0RjU+RnEf4aXgfDUclH5+4sZDAChyVAk/P08DFET99UKOKIcAih4URgBgz7P3Ie6CHyE8vwASTWGtewtY/B2YImP6gbBkDRARDaspFh3/+Zu8VrDjTVnL1LawVImkr45WU73aBBoA0gNVbwSh1nHvLgjEEQoFHDpCoXI1E3cWQHoR8lX7qC5qq0Vo1cfb/ZTnJOAz798BU0877FkTYc/M67f4ad3sNpjqD8FyuEyeJraNnQEpbewQi6A/4Jqa4K+k12oWTxqvCxYskC2ADIBaB1hg7sdBIDr7hS2AOgXUcLirRM4UFSaiNJUWKw3FDtnFqDV8yTeJAIOmTPVsna0t6HnkdiTe+SjMCcmQjlQARypgmnvWiReQljqg+AtI889Fy+9vVfUDdAeAIjqadBTw7FhvAkBnv2lpowBAirIWvoXK6SO1ZLNayvVmH19Pp7kDQLU2CEu3Y55C2tdd4mp/+Iv5DQBhR1TNbpjrqmDPmQJ79iTAEu7NsOg/RrLDVHcQlqpiSDEJsOXNB6JOWPL9oa0AQBoLenOLeiqMmsWTxvPpp58uR++O9I0tgCO9B/1cfwbA4esA4edHN13alJG99Bs9dAi26IFIsKXXHyXQALDjQDl6//FHJN39TH/6hJ1fAglpsCWPhyW+Pw8Z6YBN7wHjZ6LtnX8isvA0RM49eVCnOJvaFtM7ZF2gqV56uDh7o9erjTIdDQOgd9eMEgqVU8iOUCgCo3xtARS+uN61zvOjeusPI/rANnl61xHUPC/N4QhrL8xVxTDXH4Rtwtz+aeHj0ey+tq7Seb15idCtgZP21tfXywmYacWOkb4xAI70HvRz/RkAje8AYdEj8BOpNZQBHiIyVUyJ0V8jHnZGLeFGN2v6UE4rPVvHtnXoXfsJkm+8T9bBvuY1lD63AUf/uxrR43Mw4+XHkDC7AFLVLqC1Dl2H6yB1dyH2gitdAqAySIamz7WswcsA6H1PDufDW0ChEgjFMnd0XSithcM5Xae2Xqz3irk5UpJgPlIO88Gd6MspgGn0FLfBG97WxdRYA0vFJthTR8M+YQ76bP3ppoy433hSJ3/kPKT6qVnLKysr5dU7PvnkE0+aEJD7MgAGZLeMnEoxABrXV+JhRuAnluRSPrSUU5UELQQv9OARKUr01sSoJdzoZk2WSQq80LO1ff4ubEcOIunyGyF1tmLPj3+O5qp2zPrXH3H0rY9x4E9/w6L1byIyORrY8gH6Uiei64t3kXjz/YNOq/TfE0uyeRokYyQAUuUI4pV9y1PAekbK4GNJW+pnioB3TFzt7Wom7mpH/Ufno8+wbnYbLJVFcnRvx7i5MCdlDP85uztg2bOO5t7RnbsAVpP+VX481UhzyhtPC3azv1rwSXFxMf7whz/grbfeMvhsvi+OAdD3mgfVGRkAjelOV35+ZN2gBwzdjBynKo1KuUKtMAoARSSyXgBsffMF2KNjkXTOpWhf+xU2nXcrFm58G7ET+6ejSq69C31NLZj9+lOQNr4L+6iJaH3+cST+6k8wx5zwWyIAJN2oXgTXzpJhu+pJvdZR5RSwMwD0CUA4sWoYM4rVS/G19UbNaiOs6gII6a+wrqv5FHqqh08A0NoHy561gLUPtikno9OGgQAwT+vr8f42KyzlG4GOFnTkLURUUqrHReg5wB95FsV1KhLoi/qvXbsWr776KmiFj5G+MQCO9B70c/0ZAPV1gCs/P3pI0Y2PPs5WoDAq4pZaYdQSbsLKlpSUpEucluceglQwH0knn4HSy2+Qp7kKXn56oMzehmasnb4Sc95+FokZlNaiG60fv4/osy5BxJRZ8n6kLwEg/SWLKU1deeMrqRcAlfkIyfKnZgFkANQ1XAYO1hrkYiQUDrsFt68bYaVrIIVHwTZ5sRzoMezndOwOSihdUQRL8xHYpp0m5xD01eaPIBsBgI7BJ6tWrQKt60vr8470jQFwpPegn+vPAOhdBwjwo7dLNT8/spqImx5BCzmYq21GRdxS2Uat4GEUADY/fDtw7uWIGzcZX084FXP/9TskrjhzkAwV9z2Bth1lmP3ivcDuteisbYE5PglRZ3xnYO1juoGT1Y8+3m4EgASQ3kYhBhIA+jqSMxAsgFr73THqWFgKRV5CYS2k//tsCr+3C2ElX0GKSYRt4kJKmCg3h65XXyUPF/r1dHcjvGY3IhoOwlpwGhCrz81Da7/41MdSUSm1sfvmm2+ioqICDzzwgNbqB+x+DIAB2zUjo2IMgJ71k/DzE4mclZG94o1T+PUR+ClX+FA7k1EBF0YCoHLZM8/UObG31NeH5t9cB9P196Hr6x2oeuBPWPDNv2FOTB9UZO+xBnwz9UwsXP86Ymo3oceShN7dO4DvXT+w9jFBsp4ULnRCvdPj7gDQlw+4UABAMdXv7fgTx4kchcqpY7XVTMiiSy8IhvsAyvD3JaS4FNjyCwclcyYApBcSglJfbQKIoo9VwFxbAeu0031iCfTJFLuKiGq+h3/7299k6+svf/lLX8k+bOdhABw2aUOjYAZA7f0sEjnTVCtZEMQqE1SC8PPz1EfNqIALqoNR/oRGAKCtrhatz9wH/Pz3OHTT/YiN7kTun5+CKWyok/3OH92JqJxM5F8yFz19Ejrfex0Rtz2CmLg4WWe907cMgNrHuLOXFPre23WUPT37cK8aYXTiaqft6+tB2K7VkOKSh8CfeGHzFwBSX1IUsvnYAVinnz4oV6Cn/aVlf59Pdx+vlJrvIU39kn/zDTfcoKXqAb0PA2BAd0/gV44B0H0fibxkwnKgXKqNoFAsPebMz8/VGYwKuKBzGOVPqFz1wr066nv0le9Cx/v/gv2yW7Fj1nmY+/APkfjDn6nu3PDlBuz60S8w94NHEdndiI6PPkD8VbcjLKc/WMQoAKRpeD3TyCIhNUGpow8gWwC9HSlDjxtuAFSrKb3UkQWQLPpKayHtqxZ57DYljbW3f9o3Kha2SYsGL+N2vAJ0Ti0pjIxTFrI/MtVdhnlKR3NgO8xNR2CdvkxeSm64Nn9Md4t7IllYqW/F9uCDD2Lq1Kn44Q9/OFzN9Vm5DIA+kzo4T8QA6LxfnQV40NssPSToxkI3VAILx6XHtI4Wo/ztjARAZcSr2wedk4b2bPoSPaVb0TxqLvZfezeW/vdemGefMWRvsjZ2tLdje+F3MfnhW5GZ1ob2yiMIn3xi/WAjANCIABkGQA+WJtN6Aajs5w8AVJuO1Zq4WvgTDlwrlOqldI28Hi9F+zpbl5fGpLdBTd7KO8QiJkn90cFdbbBNP03fKiQuKuWP6W6qjtrU869//WssX74cF1xwgbcyBsxxDIAB0xUjsyIMgEP7zV0iZ7qZkQVIJHDW4zdkxHSraIFRASVGAGDnx2/C3tWBqm2NsO3chRkPXwfTxMIBsZWWU5oGq37gL+itPYZpV89Dd6sVttZWxF1yrby/Xv89KsMXAOhoaRiuO0Kw+wD6Y91YrYDiDAoJ/uRAE5MJ0fu3wNTX3R9pa1EP/hJj0tcAqBqNS8C6+2vZSmmbukTVWql3LPvD2ikAUKy1Ltpw880344orrsCyZcv0NsvvxzMA+r0LRnYFGABP9J/wDSILhFoiZ3rw0hsl/aWHPa2U4a2FTJyVyiILV0pKiu6BZFRAiTLgwZuUK/LD7dW/wJw1BsW/ew05SyZh9I8vklc8oLJFhLTSctq6vRRFZ12NpR8+CHtXJ7rWr0Hi/zxiKABSW/SsgODOAsgAqHsIywX4AwD1AMrAaiZWK8IP7oCltQ5teYuB8EjV6WNqIx1D0OkPAFRd8o6mrHd+AXtiOuwT5hq6Mom/2ko6q009X3XVVbjzzjuxYMECYwasH0thAPSj+MFwagbA/l50lchZueYsWauED5jepdLovMLfLjk5WTdMBhIAtv7lAYTNPw3rz/w5Fv7lOsQuWwlrQsZAoIpjhDQ9JNbNOBsT77wcaVNT0PLuW0i841GYE5INsd4ZkSJHrElMoKfmA8gAaMwdcaQBoGi1+XAZzDV7YZ2xHFJkzCBfQmW6KLEEpFiSzduXLG/Udumr2t2BsJ2fwT66APasid4Ur3qMvwHQMdDm4osvxhNPPIHJkycb1kZ/FcQA6C/lg+S8oQ6ArhI5O1tz1sjIXSOmW8VQNDKgRFi7vE1R0fzwbbBNW4Hia3+HU175GbpnLEOPOXLISijKy6j87j+ip7oG066ai9YdZYg+/TxETJ8/IgDQlysdhMIUsGPy3uG+3er1xzM1VMNSvkn2o6OUL2qbY+JqEVRGswhGrGaiRSN36VhMbfWwlHwl+y5KSaO0FOl2HwGAsbGxul9y3Z7MYQe1fl25ciXeeOMNZGVleVpcwO3PABhwXTKyKhSqAOjOz0/AlNqas0aClhHTrWLEGRlQQgBIFk5nCaxdjXLJ2ofm+65DS8oiHPt8AwrvOB0dc89DdGycy5xnLZt2YNt3b8DSV25E97FWmGITEHP2pYYkuCYLIG30EPJ2c2UBZAD0VtWhx9H1NZIA0NTW0A9NkxZCSsnRJISYVSBLuGPyaroniMTVyghkve4mVDEt6VhMxw7AcmA7rDPPMCQ9jGirrwHQmeVx6dKl+OabbxAXd2K5SU2dFoA7MQAGYKeMpCqFGgAKfx2yojjz8yNYoN9E8mHHG6+RoCUAkPJSeWttGw4AFLDjDQDaGo6h9Ym7sL8yDlGj0zDlvEkwn3yR28tCstvx9cQzMO2e7yMuJwk9FXuQcN1dhgCgETkSGQB9EwU8HABI/e/K/9NrC2BPB8KKP4c9ZzLs2dqnFF1BkSMQqiWuFoDoKRRqTcdi3r8d5uZaWGcu1x0ZLNrqa+BSszzSd4WFhSgtLdV9v3V7Q/PBDgyAPhA5mE8RSgAoEjnTX9qUq3jQTZb8Y+jhQ7m5yG/E2c3VyMhdqofe6VYxPo2sF62/S2/snkY4k47tu3fA/tG/UfJyKcb9zw+QMz0V5rlnabqMdt98P0w9bci/8mS0rfoASXc/jc7ePrkv9ARwGAGAQhOCYnoJUG5sAdTUvZp2MgoAqU9aWlrw0kv/RklJLc4+ex4uvfTiIXXw2kfN1tcfOBGfCnvuPI8CJzyBInermSiXt3Nc4s6xsVqjnSHZ+1PZhEXANmmxR21zPKe4t/oaANUgWwBgWVmZz6ejNQ1+D3diAPRQMN59sAKhAIAi8lRp8RNwR78R+NHDgtIFaInKMyJRsrIX9FjblOUYWS9PAVDpLxlWtg3WonXY+qs3UPjpHxGfEA7ztFM0XXr1n3yNspt+i8X/dxXaNmxB7CXXoi9zjBw1qWf61hcAOJBgV1NLvd+JQJ/8UPXo4cnZfb0WsLcASC9SZNkpLa3C3r11aGzsRkPDMRw50orExGxIUj3y8jIwb14+pk/PRUFBAZKSkryLyCVAKlsH2K2wTT1lYH1frbrqhSIBhVSOJ4mrNQMgNaSvG2E7PoM9Kx/2nClamzZkP6oj3V99NV5FBdQgm3Sj6N/du3czAHrdo4FzoClwqjIyaxLMACgCPAQYkWVPLGdFv9GDhsBA5PPTOt1pZOAGjRpPYcvZSDMyopgsJ6SXMoO+2nlJR7KGkY4EQHST71vzIZrWFmHfP9ej8PX/RURMHMz58zRdILbuHqwZdwrmPXo5zCYbLGMmQlpwum4ANGKVFKUFkMYObeJFQm3NUU0N9mKnYAdAAk4aV2SF17LRw3z16s0oKqqF1ZqDiIgxSEjIRHR0EoqLX8b48cuRkZGPvXuLUF9fjZycLPT0HEJERC3mz8/BsmULkZ2dLY9drVOq5gM7YG6s6Z8iDTuxyoSW+tI+egHQ2bUopo8doVBYCelapXsg3eu0tNXU1ghLyWrYpi6FlJihtXmD9vN10JI4uRp4UvuXLFkivygEw8YWwGDoRT+2IZgBUKSToBsdJROmGx99BLDQQ8YxHYmWrjAycIPOpxW23NXNSDDVUidn6x93/OclHPlsJzoabJh6x0pYMsbBMka7BWHHD25FfGYksldMQ19dPcK+d538wNQzhcQA6G70OP/d1xZAdwBIQLFjxw75mt60aS927uxGZOR0jBo1DVFRJxz76+rKcODAesybd8Xx1E1d2Lz5M8yZc4p83Xd1tePIkVLYbCWYPj0aF198NsaP719+0NVmOloJS1WxnO4F0fHudlf93VdWMeHzLICQtBObWuSxGhSaa/fBfKgE1lkrgIhoj9vrLwBUe1EiK/H3vvc9bNy40eN2BOIBDICB2CsjqE7BDIAEenSjFQBINzz6P90YyLrgys/PVRcaGbhhJAAaCaaull9TTpurrX/c9vc/ovI/OxG/aCHGnpYJ5M5FWMZYzVdFzT//i+qnX8Kchy5H+5rViLztYdglye8AKKCY/CIdLYC+hCRfWwB9ad2kQeIOAJ977iW8/fZ22O0mJCaeioKCUxGmYoUrK3sPZnM8Jk064X6wfftXSEvLxujRJ0Cvt7cbBw5sgcWyG+ecMxkTJoyR6zB//vwhFnBTyzF51Qw9FjFqo6/7kM4pfB3FethKK6Fwj1FGHYtAE1oz2FKxCejphG3aqR6vFEL3YZHzUPNNwIAd1cDz4MGDoJVAPv/8cwPO4P8iGAD93wcjugbBDIAC9ujmRkBDf9WAxZsONCpwg85txFq34gZP/oTk16Q3uaza8mtap81bnrwbpS8UIf/BO5AafxS2mcsQnqR9+qi3rhFf5y/DSS/dgO5d2xFx+S2Q0rN0AaARy+QxAPomCtgVTH/44Yd45JE3kZZ2BuLictHc3Ii5c5eqjveNG59Bfv45SE098fJRVbUbra1NmDFDuSxhvxuD1dqJ4uJ/orm5GOnp43HhhXPwwx/+4MTtoasNYTs/h23sDEij8ry5bQwc408AVJvqFpZCpU8hfSeWuLNAQnTZGkjJWbCPn+VR2/2xtjNVUA08S0pK8NBDD+Gdd97xqA2BujMDYKD2zAipVzADIN1kyemZpv9oI8uNnmlEZZcaFbhBZRqx1q2om1Fg6lgnsQwePSCcpccRdWi493ps/9N6nLT9XURVrYF1wQUIjxmac0vkYhQrIyj13bziSoyaPwpJE9Ngyp8Oac4SxMd7N91G5TIAen9D8ocFkGor/HWFxezddz/Eiy+ugSQVYPHiy2C3S9i06SNMnDgHqanpgxrY1laLXbvewsKF1w6Cw9bWRpSUbMDChcsHvqdyCBZMpl4UFf0DCQn5aGragdjYNjz88C3Iz88H5KXSPoc9KQv2CbO9F/P4kf6YFlVLi+KqIeL6FH6FUkcz4svXomPcHEjJ2QO5CtWuX2W53gb16BVZDTw3bNiAf/zjH3j55Zf1Fh8QxzMABkQ3jNxKBDMAUm4vsd6mSNthVCSaUYEbNHKonnQTFVMzekaTUWAq6kQPYQJossrQlDnV0ZXzuNTdicM3XY2Kj6pxStn7QNGHsC76LiIiB1uP6KHSUF8vT6VS21NSUwdNtx3409/Q9MHHmHLzSvQ2t8B8wVUBBYA0noSFhPqLp4D1jNrBxzpqSRbyF198A5s2SWhoOIpZs66Qgzxo27t3K2w2O6ZOHQxl1dWb0NhYjZkzLxhUOI27TZtWYerUQiQmJsm/CQCsrd2ClpZjmDnzPDQ1HcbWrf9GYWEYHnrwPoSXfSPnw7NNOcnjKVA1ZfwBgEYkZJaTRO/fjq6C02ANi5RnVcR14Gw1E38BoNp5P/vsM3z66ad49tlnjRuwfiyJAdCP4gfDqYMZAMla1f9mb5IhRm8ggbK/tQRJaB0fBFs0Zasnz504FwEgWTk9zd/nWFeyAArLC0UMUt20JKq2Ha1G5Y0/R0tbIub96wHY9myAfd45Q3ypqJ70EExNTUV7Wxs6OjuRkZExcI6O8gPYsOBCnPTP29C9dSPMN90/8MDWqqtyPyPWSRZT9RQZrQaAnkSuetMGcYyvAgjE+fxpATx69Ciefvo1VFWNQ0LCaBw6tBmFhVcNyNfUVIc9e7ZgwYITFj36sbT0LURFZSM3d+EQqYuLv0FSUgbGjp0wCAB37nwZOTmLkZXVn9CZIoa3b/83vn96DK45ewHMc78FWML0dJ0MS1JLI/pqDsJaX4uwzjZIHa1AVyekvl5y1APMFpgio2CKiYMpIQmmlHSY07NhzsiGKSzc6/N7knvQ1Uks+7YAnS2wTTtdTn/jmLhaQKHwIRT+hd76XHvbYDVfUpr63bVrFx5++GFviw2o4xgAA6o7Rl5lghkAReJn6hUjpgCVvWuU3x6VSVZKvYmORd2MsEwS3BCU0iaSQWtJGUH79+3dibIb70bEzEWYdPvFsB7eC/uMZUOm847W1iIjM1MGVXooNjY0yBCcnHJiHdV1s89F7kVzEWlvgPn7NyBxYoHXFxgDoNfSydeOr3IcUi2FBfDIkSN44on/oLV1NiZMOBl7934ISYrE5MnLBhrTPw38IaZMKURS0omxs3HjX5Cff9Yg/z9x0P79Jejq6kBBwRz5K7IgNjcfxt69H6Cw8MpBASUbv3wLpr5KfOs7efjJdVdqTk0jziVJdthrDsK2fw/sVXthO3wA6O2GKSUTUnIawlIyYIpLgCk6BqbwCDnhsmSzyftIHW2QWpthbzwG+7HDQG8vzFljYZkwGZb86TCPmQCTyay5Yw1LPWOzHp8OH6XqD+iYuJpe9Og72gQUKpNXa723aG7o8R3VrPI0/Usvn3fddZenxQXk/gyAAdktI6dSoQKARgCAsleN9NszIkmxqJsey6SwENDUCVn96Gbtqc9kz+avsOPaB5Bz00+RvWwK+prrIE05aRAAtra0oO+49U/Umx4Sx44eRVp6+oC1sPzeJ9C9dQPGfWcu7GPykbTiO15fWNT/BDK05J63m4B+glbxcBErL7iLXPX2nGrHBbsFkPqpvLwcf/7zJ7DbT8Ho0f1BB0VFz2P06KXIzJw0SJaSknWIiUnChAn933d3t2LLlhewcOF1CA8fGrhSV3cYVVVlmD+/PzqYALCy8hv09LRg+vSzT5Td3oR9JevRHZMES3gD5s2z4frrr3ALgZLNCtu+3bBRQvS9O+kE/dA2biLMo3NhzsyBVeqPBNbq9iFDVVM9bIcqYKssg62iBCaLBZaCeQibtRiWrDFuh5ih46arFWHFn8E2cRGklGyX5xYvEHTdiCATEYEsoFA5faxcoclto1zsoPbiQlO/NJtx00036Sk6YI5lAAyYrhiZFQlmABRRq9QzRgCAsoeN9NszcnqaAJCmWpQO9O5GpljFg26YYrpXAI2nPpOdn/4Hm674Pea89zwSErvRa7NDmjB74KFJ5yLrX2JS0pCHH1kvbQSGaWlylVu3lqBo5VUo/Mu16KuvR/I1v3DXFKe/E9SSznoBkB5iwrmcTiaiJOnf1DZ3PpJeN0BxoKEPcg0V8rUFcPv27XjmmU8REbECWVn9Vt/e3nZs3vxXFBZei4iImEG1PnRoLxobj2HWrEXy9w0Newfy/6k1r7e3Cxs3fopFi86QLdAEgDt2/Avp6dMxZsyM/kM622BqPIx6cwT2Ve/H3LknoaLiMyxYYMd11/1wiEuDHEV7qBLW4g2wlhbBFBkNy9Q5CJs8C+YxuTCZLYOqInKUagVAx3ZIdhvsB/bCunMzrKVbYU4fhbAFpyNs2jyYnExTGx15bKqrgmX/NlhnfQuIHNwnyvrSdUeA55hU3tvVTDQMWXkXteUZH3nkEeTm5uKqq064EWgtLxD3YwAMxF4ZQXUKFQA0AgAcAdAovz0jp6c9nZommFFOQQvfQW+htOmFp1D08+dwWu0GWA5sRk9UIjB6ygAA9vX2oq6uDlnZ2UOCSQhsao8cGTQ1vHbKGcj7yXJEdVQh6X+f6p8m82LT2//0sCK4FqmECJSVDzB6uCrXmKYH3nBNcwUzANKqHo8//h4iIs5EdvbUgZ4mqKusXIvCwh8N6X1K61Jauh4LFpwhW6337//q+BSv8/WnN236GHl5M5Gamoaenm7QlPG8eZcjNjYZ6O6Aqf6QbNnqC4+SYXHevFMQHh6GFFjlwQAAIABJREFUioqPccopkfjJTy6Xz0XTtNYdG9C37RtIHe0Imz4fYTMWwjyapmedL1RlZGCE1NMFa/FG9G1cDVj7EH7SCoTNXTLEX3A4Ak8c/QHVLk26l9D1osUvWZm42tlqJuK6cmcpVDvv3XffLa8EctFFF3lxFwm8QxgAA69PRlSNQgUABehQjjwjNiP99owEQK1T085W8RDaeAuAh+68DVXvbMeSvV9A2roK3WnjgfRxA9Y+Cvjo7ulB2nErn2NfUBobs8mEpORk+ae9d/4evWU7kXNyFuIuvArhE6d71X16AFAsGUgPJ7Ks0hQSfaeMAhYPdLJyKB9cpDNtygS7Im2Gt75PwQiAhw4dwpo1a7B6dTUiIs5CRsYkhIWdsJrt379atuAWFKwc0v/kB7hx4weYNu0kJCQkYNeuNxAfPx7jxjlffnDXrnVISEiTA0Hq6/ejvPwzLF58tZzs2FR3EFJSJhDXPwa3bv0KWVnjkZWVg76+HlRUfIizFtpx8ZhY2Mj6NjoX4fOWwDJltuYgDSMBUAgi2e2w7dmOvjUfQepsR/ip5yBs9uIB6+NwACDc+ANS3cjFheBPCwCqXdyOq5mIoBPa1zHyWJn/VO28t956Ky655BKsWLHCq/tIoB3EABhoPTLC6hPMAEhdIXy16OZHcJR8HCz0dpORfntG+ie6m5oW0730MCVYIZhRSxrtLZTuufhSdHZFY877f4O0/j/oGj8HpiRal7V/CSlK/UIpYZzl9KMHY31dHUZlZcn1ainaha0rr8LsR36AyLQMxJx7mVdd580LAD1oCPSFrxbVjTSjKXZnAOi4fq2raS7lw8tdLjVlo4MNAA8fPox77vkL9u3rQFjYLCxe/B1YLOGDAHDXrlcRHz8R48bNVe3/HTu+QmrqaIwePU6eKs7N/ZZqAIg4eN++Ynkqf8qUmais/BptbY2YNfUMmOoOQIpPBxJSB86zZ882mM0W5OdOhr2uFl2H9uBAzWe47Ns5OOe6G2FOG+XxmBxOn1EKPLHt3obez/8LhIUh8syLYcmdqpoY2eOKqx3gxh+Q7pV03Whda11LnRwTVwsoHEhcbbHI7aXzKsHzmmuuwS233IJFi/rdBUb6xgA40nvQz/UPdgAUD2p6aNIUHgGgt5YXZVd5ayFT62491inH8pwBIN0wxRrI1H7y7XN1QyYApHqRRUXrRufYvngF4k5djvyHfgms+Te6pvevl0qgSb8fqakZFOihVjYFg8TExsoBKHTM2inLMfaypUiM7UbCbQ951X+eACCdkx7Q4sElIFlpXVUDQBpjWny6HB9edJy7XGr+BkCCcUcfLq3jwt1+v/vd4/jsszpMnnwR6usbEB8/CuPHD7YAbtr0DPLyzkNqqnqwQ3n5djnAID9/KmgFkHnzfjxoXWDHOtTWHkRNTSXmzj0ZxcWvIT5qDHJjkyDFpwAJg5NK11SV4+i+nZgeHSsDlTl7PDpjY1Bb9xFuvHEZCgtPrCrirq3id1/kjaRgFOvmr9D71fuw5BbAvOzbsMXEaxqjWtsh9jvhD7gCiIwddDi9RJHl3EgAVKuf43Ul1j2m+92DDz4or5C0c+dO3HHHHTjppJM8auJ9992H+++/f1CqrvPPPx///Oc/5XKKi4tx4403YuvWrbKf8U9/+lPce++9Hp3Dm50ZAL1RjY8ZUCBUAJDeECnIwCgA9NZCpjb0PIETd0NXbWra3XSvWpneWCXtXR3YMG05ch/8X2ReuAJY9yY6554nT4sRRNENmQJAsnNyXEIctaGjvR3pGRnyfuW/+j3at2zF+CVpiL/21wgb5T7i0bFNWjUWkEwPE5ECR5SlhGs9AOjs4aVchssxl5rwKSQ96Dcaf54G6LgbO85+V3Om97Ysx+Noaa5bbnkSOTmXID//VDQ01GDPniLMn78CERH9Oe8oAGTTpr9i4cIbEO7EB7S2tkoGury88Sgp+QATJ34bbW3N6OxsQ09PB/r6umG3W2GzSbBYTDJwHz1agylT5qCq8r+YkbMAORNmw6RYstDW2gyppgptNfuxq6Uei5euhCW1f0zS1tBwCA0NH2DmzBTk5o7Hueeu1AzJvgBAobW9vQW9n74N254dMJ1yLqIXL/MofYzWvpb9ATtaYJt+mpzLUGx0PZNlXEseUa3n0rKfAE/al6J/N27ciPXr16O+vl5e3YXWeqbPD37wA2RlZbkskgDwiy++kN0UHDd6MZw0aRKuvvpq3HPPPXIE+8qVK3H77bfL1sbh3BgAh1PdECg7VACQbvhGrZNLw8IbQHI2nLTCiZbhqJyapjaTpZIe4J6ugeyNVbLv8AGsmXYBFm14GzGjk4Ftn6Br3nnyw5ZghepGPoCU/8/VRoBDwSAiJUxbWQU2LboIcx/6PqImTkb08sGrO2jRxZ0LAJ1TrHhCVjy1pLVKAKQ+Ewlu+yGlV7ZAabEAaqmv2tSxqa0BkQ1VkCKiYQ+LhCU2AabIGPmDiChDVqhQq9twASDpeeutv8HevdlYseLmgVNv2PA+xo2bgays0fJ3jY37sG/fFygs/IlT6VpaGrFx48eIiOhAQ0Mlxo5djNjYOMTGJiImJhaRkdFyfj9iN+q33t4eFBV9hYzkBFTu+S/SRy2FJSYZiQlpSA+PQGJ7ixzgQSlbTFljsbF4HaZPXzDIIk7RxF9//QJ6e2tk/8DzzivAlVcq1g520dG+jqymqnTvKYZt1WswJ6Ui8vwrYE4ebOnUMi5d7iP7A34Be2LGoOXyqJ/puvA1ANJ5HV1cTjvtNLzxxhvYu3cvtmzZIn/IOlhQ4DrHKAHg559/jq+//nqIBH//+99x5513gvJWCneaJ598EvSpqKjQLaurAhgAh1Xe4C882AFQPKj7HySNsnneiBuRN4DkbDS5gxNPRiFBFj3gyO+F/k1tpZugp9Mv3rSv5ZNV2PK9X+L0+i0wtdYB5ZvQNWPFAAC2NDfL/xYBHq7aRbBOG1lsCayKTvkuUuflIS0vGgk33+/xNLAzjUWqINLK3YonrgDQFwve23YXAbs3whQXD1NUJMw0HWmSYJZsoDS7EuW8C48CIqLlj0RQGB4lA+PAX/rOISWJu/E1HABI4+vJJ1/Chx8ewZQplyA7e+JANcrLt6K7uwczZiyQv6uu3oCmplrMmPHtIVVtbm5CTc1+NDfX4OjR/UhOptVlxmHGDPdO/kXrP0asvREdpk5Mn3Y+2g7uRd2BPWjq6UZY0ihkT5yJrNHj5Wto+/Y1yMwcJ4Oe2MrL16Or6xAiI0ehubkUSUk9uP/+6zB+/Hh3kqqmKHF7kM4d5JeU7i6Y134kRy5HrPhuf7Swi2hlj0/Z1QZLdSls+YUDLyRqIOZxuR4eQNe1WAZUQBl9t2DBApDV2dNnwG9+8xs8+uij8r2UPieffDIeeOABua8psKSsrAwfffTRQC3XrVsnRxtTVgZPc6l60lQGQE/U4n2HKBBKAGjUOrkkoogMNSKqWPgnpihWwfB2qNJNj+pGG92oyG/Lmxu8N1bJw4/9CVXPv4OTyr6EVFsJHKlA95SlA0vwUXAHWQJi4+LcNk8ZDEI37kN/fh6Hn3oVU38wBQnX/BJh2ePclqHcQQ0ASXfSi/5qWfHE3wC48aXPYdm0GmHhJqSNjkFykhmmtiZ5KTGCQnNqOsy0dFhcHMzRMTBHRsBsscBsssPU1wP09cAECVJYxHFAjJbztxEgSuS3Rf+W/0YPsiYaDYD0gvLCC//Ep5/2oLW1GwsWXIUIAtPjW0NDLfbs2YxFi86SLSplZf9FeHgK8vKWKPapQ3V1OTo66pGWlo7s7AkoLy9GW1sxcnOXYPToac7HB9Fyaz12F69FY+dBJEkWTIwdA1NqhrzShhSfjGPHqnHkyEF5yjg7Ox/t7fVyYMrEif2paXp7u1FU9AoKClYgLi4TO3asQnv7Hlx66VxcffUP3Y5NozV1e8LjsxZ0LZF1mxJV97z7d9mfMfK8y+Vl54ZjUwOx4TiPY5nivHRdi/sffUf+mpRqSC3wzVW9CBrJH3rMmDGoqamRLX4bNmzAjh07cPPNN8v3kVdffXWgCDrHtGnTUF1djexs14my9ejBAKhHPT6WLDL9a/QE6aa0ABqxTJqQyRtAciaxEf6JyilMurmRpdMb8NPTvj0/vgldh+swe9WrkA6WAG2N6M6dPwCAFACSkpqqKUk1Dctjx47Jb88EjU2HD2PX4ouRd9UypCyajphztE21ifYoIdtxapxAWYtWSv9KxylgX1gAN39TjcxMuwyAreuL0fPZ16jZcgA9GTkYtSAP4+dmIzkzGlJro7xqhL25AWhplHPDSdGxMCUkw5ycCnNiMizxcbBERcMcEQaT2QSTrQ+m3k6gp0tejgxRsZCi4iBFxaMvPBpSTCLCKDJWx1q0oi9ef/0d/Pe/9YiLm476+kOYM+fCQZcGabl58ypMnlyI1NR0bN/+EjIzFyAraypaWppx4MBudHXVIz09C2PG5CMion+1j7KyraisfB8LF16J1NQTljpl4ZLVCtOxAzIQ7929ExV1mzC1YBlypi5FeMzQZMZHj1ajunof2ts7ER0dhwULlsrFVVeXoK5uO+bMuUT+Py0tV1T0OlJT6/HCC4+4XS3EWXLk4bwNO/odUqqYnvf/Cfvh/Yi84Cp5tRKjNzUQM/ocauWJVY0cAZAsgARnWq53V/WkF1S6x7777ruy5a+0tBSrVq0aOIQtgL7oZcB5pk3fnH/EnyXYAZAsPyIXm55l0hw72shpWz3+iSJiVSQ9pakNaq+zNCtaB6w37dt66neQMHMi8p96BFLFFtC8ZM+Y6XL0MUEW+fVRAmitb99kcaOpWcoZSPDefP8jaNyyF/krxyDxjkc9SgotAJCAksrUEgntqJW/AZDq02uVUN9iQ1NLD8JsHUiKl1C3uxYNn2yA7Z33gLoGtGXnIXJmAUYtnY38lXMRkxIjw6CNlhJrboDU0giptQmm9hagrRnoaJMtfqb4RJjik2RItCTEw0IpgsLJmd8Os70XZlufbCGUKFo2NhlSHH1SAJXl1pyNsy++WI0XXyzBuHHfw8GDW2AyJWDSpMVDALC8fDMiIxOQlzcVGzY8hby889HQ0IjGxoNITx+FceMmDYCfOLiqaje2bHkR55xzN6KiTsCcvadHBmKpuQ5hEWZyAoTVHIV6swnrtr6EU0+9DgkJGXKiZ7WNxs6ePduxe/cOTJtWiLy8KSgt/QjJyRkYO3b+wCENDUdQXPwSbr/9XJx9tmJJOZVC/QGAan6HdP+wFn2N3k/fQvjiFQg/5WyYzNrXF3Z3P1EDMXfHGPG7OK9y+pW+o/QvBGtGAiD5/lFkMVkGxdTyE088gaeffloOCBnOjS2Aw6luCJQdSgDo6SoZrrrfyGlbbwFQGbFKgEV+f/RmSm/6nqRvcfbQI2D2ZFr66/EnY+Ivf4RR110DqfQbIDYJPZn5A/m4mhob5fx+WjdlMAjBYOyxQ1i39MeYdOUipF16CSLn91tjtGykFUXr0Y2fLIoUFOPpQ8AdAArQ1VIfPfvQ2COAoCCHpg4JLe09sPf1IC6iB7U1vSj/rAxN761GysESpLYeRndcCmwTpyBp4QxMOHM+Ri2eBlN42EDCaltfL+wtTcehsBUmWgaN4FAGxBbYW5uA9laYwiywpKUjLCUFlvh4WKIjYbaYYDdZYI+Ig5SQCil1NJCUoQoRtMTbn/60GhkZFyIhYRS2bn0dOTkLkZmZNwQAyZ+vru4Ipk2bjc8+ewSJifOQmBiPvLzpsiVObauu3oX16/+O755zF6S2ln5LaHMjpO5OhGVkwBIdJVsyaYUPsno2Ntbi448fwgUX/EYOEHEGgHSuvr5erFv3CeLiEtHT04nOzhIsWXL1kFQza9e+h+zsCjzzzIMurYCerI6hZ6woj3U17WyrrUbPW8/JVuKoC6+GKVZ7+idX9fMXAKrlyqT7P6VuKSoq8ljS119/HcuXL0dqaiqOHj0qA98333wjp5Wh+7eIAr7rrrtk6DvnnHNw2223cRSwx0p7dgBbAD3Ta8jewQ6AdCMQ+aC0rpKhRVIjpm2V5/EkQEXcVAn2HCNWvQneMAIAre2d+DJrERZ/9n+IXbgY0vZPgVG56E0eLQOpxWyWoYUiez3ZCBppSlIOHomPQ+XPbkHjrsOYdMl0JFIwiBtrBR1HDz46N216goAIAGmjaSW1KWBfA6DSukGOHC2dElraemC2dyHMbEVtSzS27ujBoS+2I+XAdiRXlyKjrgIR9l50jclH1JzpGLN8HsaumIvI9BRZY2UqGmE5pzbTjTa8rxvmjjZIx8FQamuG1N4Mc1+X7GcYFhUuTy1LNhts7Z2w9lphR7hsNTzQ2oXH3ipDVMx5SEufCLsZ2LjjdcybdwWiYshd4cSoIB27uzuwdesXCAvrxpEjG3DqqTfKU760UfmStRdST488ZU2Ah65OHK7eho0V67By4kpEJSXDlJAEc2w8LPZuOfCFwE+Olj6+1dXtw+rVL+Css/5Hvo5cASAdsmnTahlADx7cjsrKrzB37uWYMCF/0HBuamqQwfZHP5qBK6/8vtOhrnd1DE+uIbGvO79DqacbPe+/AvvBCkRedA0sYwaDuTfnFC8rwxkIoVYvtXWPKeH4tddei6+++srjpnz729+WU8jQPYAC00499VQ5LyCtK0wbgeANN9wgwyW9fF9//fVySpjh3tgCONwKB3n5oQSA7lbJ8KSrvbXaOTuHlgAVATN0I3cWsWoUAHoKuM0bd2D7uVdhye4PEZY2CtKm94C8eeiNS5UBUKyT6xg0Q+DS1GmC1QakxEpQrP4lSyWCQSKjovojgnd8g3Xn/wpjl+ci+5afIXL24OlDpb5KCyk94MXN+8C63Vh/9W8w5Xc3Ye7FJwIL3PW/MsVOoAGgsu60NFpDmw2dnd2IMnehyxqB+vZo7DsSjtJKK8z7y5BWtRUx+3Yh8VAZUttr0Z06CpYZ05F1+jyMP2s+YvL7g2zEmBPli350tgSX1N0F1FfD1FwLc2czzNYu1Da04MGXt6K9YwmyY8aA1q5tbjuK8mO7MD9nab/PoYV8EcNozTzYyceuuR5bDxUjNbYLCVHhmJW9CLAT+PXJU7jyRmldoqKAqGiYouNwoGknyg7uw6KTL0MaRUpTJLq1B1JiOkBr/DpEux48uAHFxd9g/vyLkZqaiXB5utv5tmvXRnmquL19H+z2TnR1UbqgeEyePHMg/x/ps27dx4iPp0CBc5wmifYHAGqxOspTwpu/RO/n7yBi+QUIKzzNY0u5UkFfr1ojzq227N2ePXtA0bzvvfeeu0t9xPzOADhiuiowKxpKAGjk+r0CAPVYlJQjwl2Aigg6oWMcExQ7Qg+1U290sqcAeOjZl1Hz1F+woPhLmMLDIX3zOjDrDPRFxsnWN2tfHwjilJaAHiuwqdKC9m4T6NnbZwOm5dgwNnVwXFLdsWOwS5LsC2ju6UTtIw9h7wtfouCquUj730dgoqhVxaaW008OKjlYg7U3/xkxX67CsbxZmH7fTzDv29pXBHAFgMOyzqqTW4YnVpXuXjvqW3pgsXXAarfAFhaH7u4w7Kk2obQKoPVj021HEFlSBNuOHYisKEFW8wHYaNWLadORedp8ZC+fhbjpExEZHS0DoVh2S1gLRT5Esd6xgMODBw+isb4O77zxOar35yE3cyZAgSamMBxq2o/GzjbMnH427BSbTFBHU9sd7dizbwdstlY5xU137yGkpYzBxNyT+iExLOz43wiYLIN91Up3voljRxqQlz4ZYzPSIcWnArEpgMN+Qtbdu99HbW0Dxo0rxJgxuW4BcN++EvT1UUL5LZgy5VTExGSirGwbenp6UVAwV56Sp23XriLY7e1ITz+Ie+75MTJV8l4Ox/Jo7p4wWgBQlGE7uA89bz4H84TJiDz3Mo/8bZX1ULPEuaunEb/T/dLRIk85/5577jn861//MuIUAVEGA2BAdMPIrUSwAyA9nOhGQJuR6/dSeTRtS+Z+T3PsqY0WZwDo6Soe3gRvqNXHUwtn6U9/Adu+Esz4/H1Idpu8DBwWX4g+U1h/MuquLiQmJQ34RdklYG25BVHhwJyxNvkZfbTVhO0HLRibYsfUbPuAwYaOJ63pQUpa20u+xq67X0JXZRUKfnUp4i/pTxDsLKcfTRlufvgV1P7hebRFJyH6Oysw/9qVGFOQ75F1Qzl+SGf6iICWQAVA0bdkFaxr7oG9twN9djNsYQnISjKjut6EnfuB0gNATBQwY7wdcbYm1Hy5HY1rtyJ8TwlyGitgpg4iIFw2H2POWoj4mZP7Yey47o6rmNCqCy++uB7HjtVDkrKxZMlNMFO0MZl8e7uwp3QVwqRo5GdS/j9JzlN4uKkJVUcrkJyShLz8WThSV4OSkrcxbdqZGDt21uBhSuWQNbCvWy7P1N2JbSWvw27JRkzieEyZudAp+ImCtm17BXZ7CqKi0jFp0gy3AEjLx+3fvwfAPixceJXc96RrZWUJ6uuPYdKk2UhJSUVV1T60tdWBgoonTz6G22+/dsg9wh8A6KnV0d7WIkMg+noR+b1r5QTSnm6+vC6UdVNLzL569Wq8//77+Otf/+ppMwJ2fwbAgO2akVGxUAJAI9fvpd7VMm2rdRQ4Rigrfdcol59jRntn5RoNgFotnJsWX4i0aSnIff55SN0dwIb/AKf8AFabDXI0b0cHMkeNGngQ7q8zo7LOjNOmWAcZaNq7gXUVYRhzHAIFYFAKmbj4eBm4JVpuau072Prb94GWOhQ8fBOivvVtGfAJ+EVADKX8OPjye9j5m7+gp7MPDQtPw8KfnIQxJ89Hanqy1q4Z2C9QAFAtwlFrYwhYGlu7Ye3pQGdfBMwRCRiT1j+rurca2FYBVNQA40cB8ycBeVl2lJY0oOKLEjR+sw2RZbswprkcYSbAPHMGslcUYtSKRbKF0GTpn0IlZ/tf/epZVFZGyn51fX0RGDfuJKSnT+iHQJMJxcVvYdSo+cgaNRF9Xe0oL9uCjrYa5GWPRlpsPEx2K5o72vDpln/g1HnfQ3qyIq0LVdbeJ3MjTQOTX58UGYd1O15G5ihKvtuGOXPcW3bXr/8zMjMXoqmpFTNnLnILgK2tTVi37l1kZUVj1qzvDJL88OH9Mvjl5hbIEchlZVtQWHgq9u79EJdckovzzz9n0P6+Wh9XeVJvoJPWE+79+A1YS4oQddFPYJkwRetQk/dTs8R5VICXOxMA0nVCOQ/FRlO/tFbvY4895mWpgXcYA2Dg9cmIqlEoAaCR6/dSJ7ubtvVkIIgIZYI94btGD0oBM1rLMjI6WWtgCk3frc5YgOm/+DYy7rgbUmsDsPMLmE6+WG4LBd90dXYOrAFsswOfloRh9lgbRiUOTUPZ1g2s3RuGyVl2TEjv9/eqq6uTp5Epiph0kfYVwXr4EHY99j5aNm5HxorZSL7kIsSOn4DugzVo+OgLVL/1BVptEaiYfAomXbgAM5aMQXbBRMTEDp4y1qqt8gXCnxZAPQAo2kplNDR3wt7XhcaeeCTGRyMrSZKtrm2d/SC4pRzoswKzc62YP9GO1KQIdPfYsau0BWWfFKNhTRHiK3ZhbEs5LGEWRM6fgzErF6EorBd/fv0AoqNTMHPmj1Bfvw+HDxfL+f761zKWsHHji5g27UL09Niwf/92xMSEY/Lk2fKSbVZrH8wmsxzo8ebbd2DZkhuRkaaIHifQJH9BS7jsM0hbd3criopewrRpl6C0dCtOOsn1SiCdnY3Yvv01FBRcKO9fWHi6WwC02ax4990nUFAwE5MnnzZk2FDUcnl5CUaPzkN1dQVmzVoISbLi6NEP8MtfXoTJk0/k2fPH+rh6oLNv2zr0rnoNEaefj7CFtJawtvhLX+THVLt+ye9YJL0Wv9PUb21tLe69916tl3zA78cAGPBdFNgVDHYAFNOC1AtGrt9L5RmZV5AgSeTwI7jwNlWJp757rkanVgtnZ0UV1hdegIX/uANx5/0AUn01sH87TIXnytOkBMoC3uh8VQ0mVB6zyNY/Z8+Rxg4T1ldYMG98PyQSjPZR1HNMTL8V0GaFVLQKvZFxqN1+FPX/9wraK2pgt9phjovC/oRJ2JqxGKmLZ+HiJVZE5k5AcmqUvAydp8tACY3cASCNL/LPVNtIBzqv1genq34xAgBF+X19VjQ2t8FK+QV7U5CbaUJ8VD+U0zT9vsPAulI79teaMW08cPI0IFsxE9jc0odtO5qx5+NtaFtbhKwjpXj1yE4cDZuEWeMvR9rkqYgYMwrbdr+B3NylSE8fi66uFhQVvYnMzJNRV1eBnJxx8koedK2KvPRkKezubsPHH/8eCxdejzFjJri8kTY1VaG8/AvMn38FNmz4GLNnL5HXAHa21dWV4eDBrZg9+7ty0MacOUs1Ldn11lv3YM6cs5GbO0+1aIoC3rNnG7q7+zBlSgFGjRqLw4d3IylpF+6++2fyCx1t/gJAsoh5O/5t1fvR8/r/wZI7BRHkF6ghKbjRa2RrfZo6Jr2m42jql64/Ss8SLBsDYLD0pJ/aEUoAaFSErOgqo/IK0kOPYJIe7JSfjuBPa7Jkx2HjDwCsfeMj7L/vMcx5/teIWrwcUk05UFcF06wzZACkVC504xUpYL7ea8HoZGnAuuds6Nc0mbDtoAUn5dtg6muSIy2bm5qQmpYmRwfbOtuQUElr4yYD+fPQ1WvGy/+uxNurO5CWnYLvFPagYIIJceNHY8yoRHnKXuuUtlqdvAFA6g9aEH7jxgpYLCZkZSUjJydFDtKhulB/e7oZCYB07v7VGrrkafpjXfGIjI5DXjr5N/bXjCznTe0WFFWEY2sFMDYdOGUmMGHU4MBaKufpZ17Gk0+8h9FxNyC6SUJKTwOiu5pxJLoBSI/EzPnno950FFt3fIgxYxZg0qSZiI9PGpCArIM0ZujFoLGxEps3v4EJE87GpEnT5TEV7am7AAAgAElEQVTk+BEH1tRsQ339fsyceQGKir7E6NETkZnpPOdkVdU6tLe3Ytq0Fdi48XNMmDAVGRmjXHZFV1c7Pvro95g9+/vIzXW+akZrazPWr/8UMTGJWLq03xK5Z89nWL48Gj/6Uf8KNuQWQde5tzDm6ZgxCjplv8A3/ipHZMt+gQmuXSnUpmK9qbunx6ilvHn88ceRk5ODa665xtPiAnZ/BsCA7ZqRUbFQAkAjl2+j3tWbV1AZtEDlEeA4syBpHU2eBm+4KlfrFHf5XX9A5/ovMfXp3yJi6mxIVTuBjhaYCpbIeeVoDeCIyEg5jUtHD/DF7jCcOd2KCPWFFwZVifwE9xwxY0ZmEzKSI9HW2ipbcuMTEmStTNZe2PYW4eM1jXh+fRrMUTGYNTMFK6e1wZo2GpPHmpGc2L8eqNYpbWeaeAqADQ0N2LBhJw4dAtLSJsNkMqOzs0WerpSkVlgsnUhNjUFOTjLS05NlIKSPO/g3GgBFe/utta3o6jOjpjNNDsRJiLbLQTwEKjQ+O7uBDbuBDWVAWgJw+iwgP6cfBCnR8/33v4be/2fvO8DjuK6rz/beASx6740oJMFOUSQlUVS1iiXLsmNZthXHTvQ7sZ3YiZ24KIlbXCJZtiVb7pIcNaqQptjETrCABEj0uqiLRdney//dtxxwCaIRXImSyPd9+4EEZt7MvPd25sy5957jr0Vd3T3wByIYGfVhpN+Oyc5W2MbfQGY4EabAUUgUiVhb+yAUOVkQJ+qYMDPX6HvK5wswMtKA7u7TUCgKsWTJyimGkJOioXGKAkI+enr2IhTisdBsc/NxyGRq5ORQgcnMjSqAxeIE5OUtw5kzh5i8S07O3Lp3ZnMXTp9+CVlZm1BcXDHnV7K3txXnzjWguLgaeXlF8Ps96Ol5DY8/vgm1tbUMAC40r3eh3/35tosX6CQpHv/2FxBsb4T0vs9CkHmxFmLsecwUip3vPOPx95mcVkgChqzg7r///ngc4n3Rx3UA+L6Yhg/uSXzYASDNDBcOiFeBBDfbV6IrSOdCSdkEkOhBEH3o8adCRItdUfGUpyEASOdGD/652qnbPgOVdAI5P/sxhCkZiHQcj1qL5dey6yMZF7lCwUK3HWY+Jpw81OWFWJf9o2Hsb6QQYwQeX7QSNdXAQ34aDyWZfCRoeOgY4aPDzENpkh1aWYCxf/Tg1+r0OHB0Es/8aQBOdxiZRanYvEoJvkqFdLUDJekiSKUXGLaFhrRnu9bYHNLpOYCxemd0fs3NrThxYgBCYQ6SkjJnDP1STpnLZYXLZUcoZEMkQk4lLjgcZmzYsApGYxJjCrmwIXde7xYApP5p/TgdTri9XvTYEpGsEyJJ7oBQGAWAXPMFgGOtwKGzgEENZKta8Jffb4fJJEJe3makpl7MkJFUyvbtP4UvGEDQ7YXco0cBPwlKxxjzI5Zlp7GPNDsdEYmQAcDe3j1wuymHFKir2zzFlkWlaChcHJ4ChS0tr0KhyERWVg1MpjZ4PG6UldXOmmLQ0PBHpKQsRXJyPrN5o7qSkpLKOdd5R8cRTEy0QyzORXX1ijm3JXbx1KmDkEjESEhIZyBwdLQPZvPLyMrSo6QkFw8+eO+8nsGLvQ/MtF88QWfUQm4//G+/DPHmj0BYu27GNT5TKDae1zRbXzNJ3pB7BzmBzGfT916cX7yOcR0Axmskr9F+rgUASA9kzuXgcu3N5loWi9EVjNWoo3wcCgMRmImnRM2VMl3cNS8kx5EKQN5JX4P8rZlI+9mvwZPKETm3H1AZwMssY2FtSrzWajQMBJL0S5ougixDCDtPhHGwKYy6Uj7KsnhQynhweiIYsETQNhBB91CEgYvclBAIx9mDcuQbI9BIfHhz5yDeOTQJrz+CzIJkbFibAKVOAokgjOIkJ1ITlZcwae8FACTtu927j8Hp1KKoaDWk0tnz0KavrdbWYzh37ii02kwUFhaDx3NQsBBarZiFjY1GHQOEBKTpwfpuuisQ2HXYHRjxaOENS1Ga7IVCJrrk60BA8P92dODJ/90GuXgDwp6jWFn38EV2bePjZnR1nYbbbYZGkwAerxdaXS3CyMbgkAcu0wi0njEk+MYgclgh0Gsgy0mDCU3QZlbDbJlAUVEtdDr9rF/HhobfIjm5DomJuRgbG4bJ1IElS1ZNrQGOVY2yhsCRI0+jrOxuqNUJGBjogsUygurq2UXF6cBnzrwGuVyL8XEvVqy4cd4nBlnH5eaWgzyKExLSIBIF0NT0OhQKCQwGHTZuzMJnP/upefuJxwbRML8r7qxjqK8D3v/7FYSFFRBveeCSvMCZ/IfjcT3z9TGT5M1jjz3GHDrWrFm4+Pt8x7naf78OAK/2DHzAj38tAcB45sfRtMdag823DOgGTA9t7s2UWJ3Y/B9OwiQeD/UrBTrctSwkx9HV3oOjK+5F9eMroP/Gk2zXSMNOICUfvORcBgBJwoWJOAul2NEkxMayIHadCKG5N4xPbRHCqLu0opDGy+70o7nHhz6LCKaRCHpNLowNTWJy1AqFSori8iRUVevYvyXCCDJ1XuQaiam6FKjQeV3puMzFANJYHTvWgMbGMXR1jSIYdAIIQatNgE6XDIMhFYmJ6Zd4x9J5Wa2jOHFiB7zeIKqrb0RaWvbUcgqHydHDzlhCv99KiQcQiXzQaiXIy0uFVCpGSkoKVCrVfEvwsv9OrLTNaoPNL0W/y4DaTP9UgQjXGeU3/uhHryEU2ogxlwJtbcdQUfUQcpMBkSCIrq6zGB/vQVZWLgN/jY2HmY5eWdk90GiMrJtQKILRcT+GRihc7IB4chQpoQmMTL6GxGAWnFoF9Om5yF1SBXGS4RIBaOrjyJGnWJ9qdSI8HhdOntyPFSs2RSvGzxeXcKFjv9+JM2f+iOXLP808gCcnLWhvP4OVKzfOOka0L1Uul5bejKamRtTWroNMdkFiZKYdz5w5wuadQPvp0wdht5/DsmV3o7e3AWo15T9Y8NWvPojy8vLLnpvL3YEDgCxtYoEVvAs9BnlFU3EIIWvJfZQXeCGncz77uYUe43K3m0ny5qGHHsJ3vvMdVFbOzfRe7rGu5vbXAeDVHP0PwbGvJQAYz/w4mvqFsnYULiSwSMfnZF2m34TjqVG40Ny9+ZbvQgDg8J9fR/9Pf43ih6uh/nzU+zJybBtQsBQ8feoUAEwyGjHmEqN1WAAlz4/t9SF84S4h9OpLwR+N14jZjrYuN3pMQTR3uNDc5kSCQYTVyw2oW5YIlUEJfxAsj9CgiECniEqYzNWudFxmAoB0vO7ubhw61AanU4esrHIIBEJ23ePjo5iYMGN8fBg2mxlO5yTLWyQgpNenwGBIw8BAO3p7zyErawkqK1dBJJoZvMZel9frZixXS8sBlk9YXJwHo1HNWMLkZB3LtSTQEY8CAwptE3D2hURomTCiKNEFozrEwsFkev8//7MNwEakppajp+co7A4PxNpNMA2MIuI+jSR9CMXFVZDLoy4ZR4++CZvtNDZs+BLEMb683PWRvvPEhAfm8RBOnngaEqyDwjsIecCKXC+P5QpKM1Kin8xUiBJ0CARcqK//NerqPgORKBryp0rggoIlEIuFCAa97Hd8vhBCoRQu1yh6eg6gpuZBFkqmUPzx41RBfAOkUirAorzCi1cSzV1T0/Ooq/s0A5e5uSUwGJLmXG8dHU0IhykvsQxnzuxEb+9JVFXdC5VKgXPn3kBCggGVlSJ89atfnO+reMV/fzcBIPvOU17gW88j1HEWssf+FTxF9IVkply8K76YBXQwU5X1XXfdhWeeeQY5OXNXlC+g+/fNJtcB4PtmKj6YJ3ItAEDOtzWe+XHczY0ekLOxdlyuFoWgKdRLId/Z3r7jqVG40Ny9+VbsQopcWv/xPxEaMSHrtgooH/x8FACSDVzVZladS2M/ajYz/b6WYRHsrgi2H/bj4c0CFKZfsPLy+kKob7Di6IlxNLY4MDIaQFqyFCUFSpSXqJCfzUd2huqKcqauFADGygjRvFNou77+HEymMPT6QohEMjbPszVipsbGCBCOMO273t4W8HgCZGXlIyurmIUJk5IyZmQJY/scHu7B8eM7IJVqUVt7I3S6RMYSUoGJz2cjKWaIxX4GCtPT9TAYolXH03MJ55t/7u/0okNOLsdPnsbTv22EShrC5huSceSIeQr80bZnz26DXJ4Jv5+HEXMfwpJsSFT5yEsBjOeteE+f3oX+/sO4/fZ/m/Xwfn8AoZAfJ0/+GtU1j6KrewTtHa3gi6ogdduQxp+E2jMO/rgFApEQ/iQh+gVdqFnxN3BErLDa+tHefghSqQhqtY6xfGxdRsgVyAe324pgkI+Sko3Q67NYWJcqh3NyyqDTGdiLGoFAgH/+Jw9mcztGRk6gpuajOHu2HiqVHllZcxeNkHPI8PAgystrcOLEH5GZuRz9/QOsQpnC4TZbC9RqP7797c8hO/sC67vQebmc7bh70bvBAHLnwXIz+7suKgq5HPu5y7me+badqeBl48aN2L59OwyGy3c0me94V+vv1wHg1Rr5D8lxryUASFMWT/u22UDbfOHemZZOPDUKF5K7t5DluxAAeGzNR5GyNh8J66sgv+U+kO0aDpAN3D3Mo9fn9YKqYckF5ECHBO2dXuhUwH3royXAQyNevLhtCLv2j0GnEWLpEiVql+hRWaqFWnWhTHgh5zLfNcULAJId3SuvbEN/vx86XSWMxizG+HFAf67zIPauoWE3hof7UFi4HCkpmcxGbGJiCJOTZrhcUZZQq01kxQP00euj8iTBoJ/t29/fxazRampWz1oxTFWnTqeNgR0ChKGQFU6nGWVleSgqymUs4UIqjrkXnf7+fnzn2y9BobwVPcPDcNpeR0byVpSV3TR1uTt3fg9icRb0+kQUFFSw/MdRK9A1BEjFQEEaMGjai5aWg7j77n+dEwC6XGa0te3AihWPwu/3or5+N5Yt2wiHi4dhs499JiZ9MPKd4NkPYMJ2GjKvF2KeELrEXLjlCqiSclG+Yj0EMSkB4XAQTU0vM2kbpVIFu30EAoEKLheQnV2DnJzC8wUmUcDIeR93dx9h+ZgFBZvQ09PKXmxKSpbMyTpTIUhj4zGkp6difJyEsO/D5OQYWloakJ6ej7GxJrjdPXjkkXW4//575lu+V/T3d7NwaK4Tu1z7uSu6yJidZyp4qaurY5Xq8xW1xesc3ot+rgPA92KUP8THuNYA4JXmgcUuhZlAG+fiQQ8OepAvJKRHfcZTo3AhoduFLOn5qpyDTjfeSVuNJf9xD1QrV0NSt+EiGzgen89C33abDboEI/5yVIiOLj++8oAQAoTxm+f78fpOM1YuVWPLjVpUlOiYLt5MLGk8AOCVAmN6mLW1taGhwYRjx3oY60amFMQykYwI5Z+lpeVCqbyQAxU7zt3dZ9DUdBAaTSpqam6AOiZXituOqlfHxkZYiHdycoR9BAIKU/oxOTkKjSYN69ffwxiouRjl2OOazX04fnw7AAUqK+vA57uZDI1UGkJqqo6xhAQI6TPTw5FYnKef/iOamnJYtezg4HHw5ZXwucewdsVHGMjs6NiHvr49WL36H5ioc2wLhoA+MzA4BvA978AyfAwbb/wcK2aZqREDODbWBrP5HKqrP8o2OX58NyuoiA27kujymaZDMJkOw+MVQ6m9C5lKJYxhK9wTnbCOjyAnoIAoUQdJSiLEydFP6/AuJCSUIS2tlIHqkZFzaG5+G16vHxUVm5GeTr7AF6rHKSx95syrMBjSkZJSAbO5H0NDJmYfx1nb0ZrlCkxir4kKQfh8K9LTs5GeXsP+NDo6jLa2RmRm5qK3dy9yc0P4+c//e175n4V8Z2fbhhhrmsd45Bhfznksxn7ucvqfaduZCl7od8uWLUNLS8u7Os5Xeu6Xu/91AHi5I3Z9+4tG4FoAgJRTRjdAalfKAsUOXixoo/7pZkcAcL5w78wPPT+7QRMrc6WNACA9yGN9MBfT53xVzhP7juHc5/4VlY8tg/z2hyDKL0PEPgY07QNv9b3skHQuLFdSkoTn/hrB0gIgS+fFt3/YDr1WiEceTEBetmre6sT5wOhCru9KAODQ0BAOHToDkymItLQlUCjUIKBis00wwEZAzWIZZDl5NO5U/KHXp8JgSIFAIEJj4164XF6Ul69Bbu7C/VRJfHj//pcwONjPrNUUChECATekUhWMxjTmrGE0Zs4YNqZ1f+YMAbMWFBauQGlp7UUPP6/XBafTypw5iCUkXcKkJCUyMggQahhAI1BIhR7//u8vIxwuhN3eg5ycrVCpMnDoxDb43E7oVNEUByp8Wb78E7NOhcsD7D/6GsbHJlFRugaVpXkzMmg0roODx+B2u1BWdjPrj7T96JpJgJly9vr6TsJsPgmdLgM+nwsqVTYSEqowYvHDbPFjcHgU9slzKM5eiiSeAyqvFXzbBALmMbQFDiPTsAIJafkQJRlY1fFkxIXe/kYoFF74/T5kZNQhNfXCPB058gzKym6BWp3MBKQbG4+iru5GEDiMfogtjOohki4h9/PkyT2YnGzAhg2fhVgcdQGhohfyDh4Y6IZGo8DExF788IePv6vFILEyRQv5rsRrmyuxn1vsOcyU78gBwNbW1rgXwSz2POOx33UAGI9RvIb7uNYA4JWAgOnLhMAeARN64BN4I9C1WHHXeIpUx4Mto2udDwB2P/FzuNq6kZ5lg/rx70KgT7zIBo76IMaVgHLLaCJ2HQ9hfYENP366G/dsNeDuLQYolQtjSa8WACQP4oaGFnR1OSEWZ0ClSmTMLlXnBoOh8zliYGFDYoQFAj7IE5akT8zmHphM5zAw0IO8vDLk5ZWzcDHl+SnJvWSe1tt7Fo2NBxjooFw/lSrKmFmtkxga6oPdPobJyWFWXELjSNXGFDJOTs6Gz+dhrB+PJ8PSpZthMCTOdzjmwUuAcHCwAyZTA/R6NUpLc3Du3Ans2uWETmdERcVDiETErLrXYmnDuG0EtSseBt9/Bl6PC6Wlt8x5nIaGP8DhTobFpkBB8QoWFpZNM0MhANjd/TZEIi3y8lax/vr7O2G1jiM7Oxft7W+Dx/MhP38j1Oo0nDnzZyQmVl0E2Mjibv+BHUgwLoPdIYRl3M+EqbXqMFyjz2FJyi1Q+30IT04gYJlgVda9Eheq0srglDswHOyGTJOGosqbIJCIcfr0n7BixadYIQmFU48e3YXKypUXMWoEAOlvF6qOI6ivfwMuVy82bvz8FFtI2xE4J2Z2cLAPDkc31q0T4Tvf+da8c7TYDa4mALwS+7nFXO9M+Y70OwoBEwMY7yroxZxjvPa5DgDjNZLXaD/XGgCMV3iUbvKUR8RVuXHVvYtdRvEUqY4HWKLrmK/K+eSWTyNxy2qoxo9C+42fgycQnLeBM4G3JCqpMTY2xh6Ifzigh3XIghNHTHj8M8lYU5e44BAm9ROPa7qcuafzfv75VzA0ROFSDfLza1leHhHJcwFAkgahnLXm5iPo6TnLigzy8irg87lZ8YfVSsn/Y5BIRAxQUTUwAUKdLgWUW0iN/n7q1Nuw2x2MMczLK7loWXFgk0Su6WFG63B0dBBjY0MYHR1g3rMEQrOySlBVtY6FZDWa+QEgHaStrR7NzceQlVXNQpxUpfzkk98Bn78Eyclb4HZbEAqNITHRgNTUXAwNdYAnz4HfdxYpulTk5i6d8ytQX/9LZGTciM7ODhjSN2PMIWCWcqkJgOB8TRCJRre2Usi1hIVjqdntkzhy5FWo1V4kJeUjJ+eGKTbz+PFfIT9/C3S6tIuO3dDwDlJS8pCcnMrYOYcziL7+PrS27oBCcx9s9iCkEj50WiF00iCGu/egPCkXMq8PHssYBiwnMOkfhUKShrDMhfLMmyHSaiDUqnHO3Ib0nGKkZmbNer10zAMHfo9AwI/16z/OWEIKoXONXhZ6elrQ19cOobADTz75JRQVzW4xt9h7C+1H9xd6EVtsIdBijx0v95HLOf5M4W56mb3llltYDuCHqV0HgB+m2bwK13ItAEC6IdANkFo82DEu3Et9ErihMNmVvlVSn/ESqZ6PuVvoMpsLAIa8Ppb/V/vCfwJn90Lz+BOs20hvE+BxgFcSZW7MZjPsbiH++7d+DHX04xtfysSyqsTLliiJxzUtBADS+TY1daCz0wqHQ85AmMs1wdg2n49YQCkSE41QKg1QqRKQkJDM2DwCZZTg39fXCJOpBUqlEWVldUhJSb9kuIntJYBGFcETE1GJmFDIx6RSiDmkvnJzq1Fbu2HGMP50AMgdgPQEqTrY5wsjk4lwBzA+PsT6JycPKiYhLUKjMRtabVTCxGYjDbyTjM10OCxMi7C2djMrTqF8xV27DqO/34WEhM0IBu3sWtXqVFYhC3hhsw3A4RiCP9KP3PxbUVFUBLFoZo8/yrc7duznqK19FE1NR5GdXQqhNBltA4BQABSlAyo5Off40dj4B2Rn34jExGzGqnV27kdDw6tYseITTDKHa9Tn0aNPY+nSRy4R3W5tPcVkX/LzL4RyR0bOYni4FdXV9yAQCGPCGoBl3AubPYyuzsOI8NOgUBmhU4ug1QghCPait+NPEIeFWJZyE+DwImi1o2usF4IAD+kyHYRaFYSa6EfAfiohUqsAhQQHj/wKfH4K1q69kzGABArpux4Khc8D2DCam0+io+MUli8X4r/+6ytTxTlXek+JXXhXEwAuNiqy0PvU9O1mYjvpe/2pT30KBw4cWGy378v9rgPA9+W0fHBO6loDgFfCJBHYI8aPGBcqVqCQLwHKeALAePQVD7BEK3gubUKW//eZr2Pp7/4FwY4mqD7xeBQAttcDAiF4edGE96HBQfx+Ox+7d/Xj21/JQ13N4iQY4nFNswFAAhiDg4NobOyEyeSBRELVtxlMzy+2Wa0TGB0dAuXOWa0WJuDsdE4gGPRgbGwQQiGxemkoL1+JoqKqGXXuZrozUGXwqVO70d19Djabj7FrfH6IFYlotUZmJUcfuTwaAp4OAOn8z549hK6uBlYdTKHJ2OIjAnfEENK5EyC0WkcgEgkgEonR1NQHj6cMTucolEoTPvGJR6BSafHmm39AT0+UeQPUyM29jbGZAsHFtoCkc9jYuA08XidScx6BXCpFkk4AjUYGuZycbqQQi4mpJBZ3lFXgrlz5GNraGgAIUVRUzljVvlFgwAKkJQCpOqp2/iUqKx+EVKpGa+tf4fWaEYkkIyWlmBVUcO1Cn5+7ZGgHB7swNmbBkiXLp/5G+n9er49JwHCN8x7u6DgNHk8MQ0IBrPYArPYgbPYAentehs87DqlMg5TUDUgwJMLv7UfIO46KrEKIvG6EHA4ErQ4EbU4EbQ4E7U7YgpMYEfcCkmwUpxRBZTBApFGBr1GCp5RDqtWAJ+CxnMDXX/8tBffx6KNVePjhj56XoiEZGj57WaKfnPfxYp4udI30eS8ZwHfLfWS+6yewS+kYsb7qlMf6ta99jcnAfJjadQD4YZrNq3At1xoAXAyQoBsZhU+IEaObMd1EKVwXT2eRePY1X+h2octsLm3Cjn/7H/jHJpGztZgUdiG/9YEoADy7H9AkAOklbLyOnzLjif8dw6Zb8/GVT85u5TXfOcXjmqazv/SgOHXqFPbvPwWrVQClMg3p6UWsipfA0fQW+2AhcNHX14zh4S7GmolEOpYPJhSG4XCMw+93QyaTswphYs2IcdPrjcx6jLMls1j60d3dhKGhblZFXFy8DGlpmeywbreTATb6UIEJMZAKhZKFjBMSMlnIWK9PwMhIDxoa9oDPl6GmZgOSklLmG0rG9lEO4Usv/Rb9/Tnw+egcFQiFBhEK7WbADciHwVALl6sDGk0tEhMrmD9vbDObTUzoOhIZw8TEO6irewITHiEEEQ8krNLYR07cIAthlUoGv78fY2OtrFCEQuFdXc1YvnzDBTDnAWMDXR4nvJZfY+2qTzHwx+d7UVJyFwYGehl4Ky2tmtrHYmmHyXQCtbUPXnLdBF7PnatHXd2mqVzN5ubXIJOlISen9hIAODzci4kJCyorl13UV339s8jI3IThkU4MDbVApVkNj1eKkaFWSFXRfhRyAZQKIZQKAVQKAfu/ZeAQBAEzPHYx9EI19GFRFBzaHAjZXQCfB6FaxRjEEZ4TJo8FGt0kvvnVO1G35SYWEyc2i+4NXBFbLCCkexGxhAthCgn80fqdS6dy3oVzmRu82+LTs53OTGxnQ0MDnnzySbzwwguXeRXv782vA8D39/y878/uWgCAdAOlG2D0wUoPpqhEy0Ia3UxoH7oBE/Aj1o+74cbTWSSefcXLVWQuAEj2b9n/9CgUzmaIS2sgWX5DFAA2/BXBpFy4FIkYH/fjS9/qgzE7BZ/9ZBqW5s5j1THHhFzuvM3UFQcACbz39PSgvr4Tg4MEhqyMcfN47PB6nQiFApBIxEwKhJwhZDIFxGIZrNYxjIz0gcejRC4hDIYMVtiRmVnAKj+JdeDy8kjOZWJiDDbbOANvY2P9sNvHEQhQ3ih5/AIymRoJCamoqFiDzMy5RYWjeX4ECPtZLuHoaB8LH8tkKuTkVGL16q2Qy6PuC8RGDgy0serjzMwS5jzCNQqZ0jkdOfI63n7bBD6f9PoE8Pn64fH0IhBwQCAoRFraWtb3+PgbyMl5EGp1yhQApGIRKhShUG1aWj683h40N7+IysrHoVAYMO4WQiEOQymNVsbSMSkv0mI5DKdzCBrNEqSkGDAwcAbl5atgMCRAdD5sHI4ALV29aGz6K1RKDdKTBKisoPCpkIXHu7rOXQQaTaZjLIxdUbH1kimP2rftRFnZiinJmYaGPyI1dTmMxvyp7enljthel8vKwrErVlxgBwnI19c/h+XLP8nWwOhoK7q69iM5uRqDgxZmCRcIieB0BuF0haIfN/07jMH+VyGS5IFWvUwiQiq9XMgFUMj4kEoiUPECEHvdCNodsJmH0NzfgqDHBo3/FL4o5CEpLxvy/CzICrIhL8iGrF498yEAACAASURBVDAb4rxM8ORSBgrpw8nPcCwhBwqnDwZdI93D3ksA+F6IT8/0PZ8J7O7fvx8vv/wynn322YXc9j8w21wHgB+YqXp/nui1BgAXCo7o5kXbRh/qFMqSXfKmHU9nkXj2tdBrnG9FziZO7R0YwaHyW7G2aw88v/4u5Pc+ClEOyXOEgPptcKeVI6JLx5e/1Y4gX4rVG/OwpoKPwpQLzh/zHXv63+MBACkETHIup08T0yOHXp/H9PSmNwrJOhwkX+NgYKmjo56BP5fLDx5PgoQEHaRSIWg7IGpBRzl2AI/9JH1Acv1wOKwsr4/mlhqFiEMhYnXAXiTEYtrWygpE6EGu0ehZQQixfHp9Eis6oUbgkuzkiDEkqRlitnw+EjKmXEQ1y1GkUDQBVbvdhqEhEcLhHPB4IYhEA9DrfUhIyIPD4YHL5YHV6ga5iUilVaxyOBAYYueTkLASWm0xuroOMs1AAsUjI7ug0WxiKQ8EWCkHkoCnWKxCenoeCzWPjh7GwMBpJBjWIjmFGGExxl0CaGRhyMUXqh46Ov4PVqsTaWk3Qqs1wGQ6ColEgYSEJMhk5NoRDRubzU1o79gDsaocUt0dyE/lI0VPUitBHDv2NpYsWcPYUGrt7TvB40lRULB2xiV15sxBpt+Xnh5lVg8ffhoVFWTHdiEVgQOANJcEGJcsWT3V/8RELxuPZcs+NtW/3T6M1ta3MDbmQ23t7TAaL2Vdo+LVv0XlkgcxNGTG4NAAklNq4PIE4XASUAzC440CZLmM2EMBJixHkJpagNGR/agqdOBf7rkD4YEB8EwjcLf1wN3eg8DYJCRpRshL8qAoyYOsOBfS4lxIcjMQEQrYWqO1FAsIiTXk3JCuVBrqcr63V0t8eiaw+9Zbb+HIkSP48Y9/fDmX8L7f9joAfN9P0fv7BK81ADif5drlunjEU1g6Xi4l813jQlfkbACw/+k/Y3TbLtS8+hSs3/o81F/5IfwiCQPM2rN/RaTqZnzvuQn0DbihySvEqlo5luf6kKKf3+d2tnO7UlBLY7t3bz36+yNISiqbtyqWHuDnzh1Ed/dZJtycn1/NCiOIEY5WAUfYv4ndIjBGAO306T1MRoXCsUKhGkKhDEqlnLGJBPYIYJCGHTGAZnMXXC4nIhF6aPMZMCVnCp+P8peoYjNaYBSJhOD1Uh6eFKEQhY8pH4zcQmRMeJrcNigvLxikIhSShHEwvT6BgI5L50FFFRbI5YlITi6D1WrD5ORZBAImlq9I9nV6fQ00mtKp0DRpGZKvr0olQjDoQnLyZhaStlgGWMiXwCABOAKEFC6fnDyEUEgCn4+PrMyVEIklCEZEmHTzoVeEIBFGGHPZ3f0CkpLqkJu7jk3zxEQPrNZhZGfXMWaUxpwKTTo6fgcez4Xly7+IAMQYnpRAoVShOEOAns5DMBhSp/IAz559CWp1Hst9nKlRXiUXNqbrOnHiD8xdhMA41zgASFW5DQ0HmFRPamq0eMdkqmdV2RUVF8vbeDxW7NnzJOTyVKxb97FLippofknLkKzjXC4Hzpw5grq6jUwmiApACBwRq+nxnmcNXUF0dDQgGJYjHFFgeOB5KHV66A2ZyM3NQFVNDTLTZEiVepDoHobM3A9fezdczZ1wnetE2OuFvDAHivJCyMvyISsvgLQkj+Uaci16TD4TLgzT2uIka9irC3vTmGIUWaiZ8g4FApbustBQc+wcXC3xaZpPutZYsEuh376+Pnz7299e6O3vA7HddQD4gZim9+9JXgsAkMvho1mYy3KNHuiUI0jbc7Iu8+XXEACk3K+FOn7MtRLiBSbjZSs3mzvJqds+g4Qt65F691o4nv0+eF/8DntAyMUiCI+9jP+zrcdf3hzF/ffnY9QpRnqWGhsKHVApKLdscW2xAJAeQu+8cxBvvkksXojl4pGIs0QSBUhSKYX1ZYzZot/RvymvrrFxH6RSA2ObjMYoGKAHN4V2ab45AEig7uzZd9DZ2QiDIQdlZctZZfBsjbTfjh59HRpNBkpKljIx59jmdLqYeDaFq4eGBnD8+KuIRCj3rxR+v5D57EYiMjidJDruYV7Cej1ZuyWgt/cVpKRsgEaTw9hJEiwmkGmzUQFIPYJBAo5yiERBKJU5yMm5HQrFxcfnzsVsbkZ//1tIS1uPhIQaxj4SG5qSksuYRtLNow+xpOPjO1hYl/T7EhIKkZiYy8Ln3qAAdg/gd7TCy9IoTjD2T6OJhruDQS/a2/ciP38dE0mmSuje3jfgcLRCr18NqTSbgVoqhvGFRXD4RBDzh2BQBrFkyVIGRBsafoeMjHVISrrYfSQ6XyHm2tHd3YqSkmqMjXWiv/8EiotvY8xbFPPw2FxGi7okoNxO8g4uLo7KzxDTJxLpkZd3oZCEG6Ouria0tLyOzMxylJZuvghUtrUdAo/nRmHhjWxz0g0sLq6BVqubAoBc2Jvrj8ShyRYwIyMRwWAjY1rzCtbC5nBAn5gIkawAA8NeDI74EPCHYUySICNVgkz6CO1IcvRDPtwDf2sHnGfbwU/QQ3vXRihWVUOYlgRQ5bFQCL4wmjtI4I4rLuFHlaunrO9YiJlVK0dzEGl7AoJCkQii8z+JZZyrXS3tQbr/0T08FgA+88wz7IXty1/+8uJuQO/Tva4DwPfpxHxQTutaA4AzgRouVMF5uS7UYovmOJ7OIvHq690EgD7zGA4W3YSVTW8iONiK4KmDkH3qn6I3W48DJ1/ajW/uSMP3v1mCN06KUV0QRkSiwNp81xXlHy2G1aTx3L+/AX19QggEiXA4bCzcSqFEquQlv1z6EPvEMVCTk0OscjQjI589rIlxI3Afza2iUFoQcjmxbkIEAj6cO3cYcjnZqRVCqdSwnEH6G+XfRcNwQvbgpH4mJkZw7twRJvFSVFTDAAN9otuIp3QAuXvHvn3Pg8eTY+3aO6bYOZIKIo1CkrWwWJwwmcgyjkBYK0IhAoNLzusrkrOMBW63mYE0gYCkaoQMPEYiJhiNpJuXzQpUCBBPf9Eh5vHo0W8iIWETBAIDYxjT0wtmrCI9d+4pqNXr4HBMwmodglabwwC1QqGBeXwM4ClQnF+Avt5nkJFxH2MjudbTcxgKhZEVtvT1UYWmk4ls83ip8PspPJyJhAQjAyEutw+9gyOwjJ5GdvYSJOmBgf4XkJe3hQFICnOSZR7NMbl50PzweBFm25aVlc8EmSnPMzNzBQvbc4LN0fzg8HkpHCuTY6JKY2JXh4ffQVpaHQN5FG4nBo9rdvsEzp49BoXCjnBYxHyR6bqpnTz5F2RklCMpqZD9v6npGGOdMzNz2HHo2NMBILGsJ07sRnm5BmvXLmeFOqdPRx1HwuFx3HUXAd0ktu/YRAD9Q170D3phOv+h/4uEEWzdqEZdlQxkgewatCLS0Y3AkXo43zkO//AoZHmZUNaUQlldCtmSYkiKcsATRVm+6aFj+h0xhcHzUlpBqiYmZ6VgkK1JSh0QUTqDSMQAZWybqRr3vXgu0v2PGoF6rlHoNzExEY899th7cQrv2TGuA8D3bKg/nAe6FgAgzRx3U4h13LjccO9MKyCeziLx6itevsIzuZP0PfkHjG7bjfznfwTewbcgDAWhvOuTbGgG2wfwd98y4bFH8lFWnoBfvhHEfTcCTr8I1Rne9xQAUpHHvn2tCIdzYTTmTgkm0wMt9sHAzSlZrh048AJj2UgHjwAtPcAIRERDvSSj4WOMGu1PoOrs2T3weiUoL69hgIJCwUIhnwn+UqiXQBT9DIepkMiOrq5G6PXp0OuJBQqcT+SP6lNGcwmjD2ACmqTJZ7GMo6CgnAHQqL1YtIgmWtTkYw9gYlkoX7Gx8RiEQi0cDj+EQg0iEQKpeggECUhKKmAFK5Rv19m5HaOjp5CX9zfsuug66NhcOFet1jMwGg77ceLEf8HjSUVa2nJkZZXOyHJHWbxnUVj4CJNQ6ezcB52uAD5vACPmPiZ8LJKqIZKI4HW8hcLCR6FWG6euZXy8GzYbydI44fcPIzPzXjQ2/i8EghLk5a2BSnXBGpEs3wjAtbUfQpBvRDBgg9+1AwmGGyCV0jlTvmEEWVlZ0Go1bF9yT2lpOc7yAN1usgGToaBg9UVfZSpmISAuEPDYHB49uhulpdXMTaWh4fdITl7JpFqoewLLarUBWq2eMZP19btRUlKD/v59DCSTXRy1+vrfYfnyB6fs33p72+ByuVFWVnUeAIJJ8Uxve/c+gw0bSlFbG9XRbG4+gfb2ZpSV1aCgQIFbbrlxxqpfzoPc7/PB4+OjZyCMphYvekwe9PTTi04YackSFBn8yAv0I2m8B5LedngbWxDyeKGsLIKypox9ZNUlECZHC4c4hnC6FA1XWMfkZfx+tpZoG6VKNeUnfbW0B+llkQOn3PhS6Leqqgof+9iFXM4PwxP9OgD8MMziVbyGaw0Aco4bFMaLLSxYbAh3IeLCC53eePUVL1u56e4k1G/96vthfOReZD5yH3zPPwVRYQWkKzaypPYvfrUByzJc+PxXb8Brh0KwOTwoKVBAIgwjP5GEji/kIy10TLjtFspqEiBqaGjEsWMWGAxVFxV50INhJgDocEyA2DatNgMrVtw6azify2minL49e34HPl/N2Dli+DhnGAKHnMwLd+70sHz77WdZ0cmyZRdkTzgwR+CSPgQWacyJndy//8/Iy1uJlJQMFqKMukhcKKggFokKk+jYJtNZxlrefPPDU8eenLSC8h6JLRwcnITFQp6/YYyPN8PpJD04YjizkJyczySOnE4bC+kS6CGc6XCY4PW2wmiMSqjk5Cy/hKGk83e7B9Hfvx1FRZ9hlzsy0ozJyVHw+UpIpVqkppItnQ99wz2YsLyJJMPmqfwsAp3EmLa1PQ+VSoCCgo9jZGQQvb1/QF7eQ8z7l/IlfT47/H4HA9QikRQu1zgkEg2EEg2GzadgTP80xJEBeJxDzBuZ5HconEwyNHy+H3b7wPmCGBMSEsqQk1N9vmgnOkMEAOn7T9dJ7eTJfYzRVSiEaGp6FXV1ZAHHZyF1KgaiUDixyZQ5RzmXyclZKCoqRVvbdjaWycmlGB6+WJpmYmIUHR3nUFd3w6wAkHIUW1r+hMrKcixfvmbqK3Ly5AHGYubnZ+Ghh25GUpIRvgDg9QM+yhUNusCP+OAPy+AJyRGBgOX0UbofkXJCfgRjY06YR30wjwZgGvCgq8+NkVE/DFohytVW5Pv6kDTeDUl3G3xtXRAn6qFaVgHV0nLIa8sgLc2PqnWfB4UE9jhQyFjC81JZHFtO210N7UE6LufOROwk1/75n/+ZOYHcfvvtl3vrec+3J7HqW2+99ZLjcozq73//ezz00EPs79cB4Hs+PR+uA14rAJBuzHSTopsS5VdRowfo5YR7Z5r5eDiLcP2+XwGgVqtlN9XxI6fQ+dA/YW3nbgiVCli//2Uo7vk0eJmF+Jcn2iAMuPDt+1zgla/Dd/8QxC3VNriFScjUeZGsptDpuwsACeDt338c7e1AenoNy0OLbTMBQBJzfued52E0lmLFipvm/HKzMKTLhdOn34TbHcK6dR+ZAotzAcDGxj3sAb5p00MzgqjpBz137gDziL3ppuhNfnqj/DW6lujaBXbseAZ5eStQUFA56/nTudtsdrz11s+h0RTBag2jvb0bgQDJGikhEFBfVKVMoVASPO8Gn++DVrscDkc/VKoU5OUtu0TcmgpKJiZakZd3Hzs2+R+3t+9DdvYqpKUVMkBED+IJayv6h5tQXPBRBliIeXS5bBgdbcD4+C7I5WQhR/ImxIw2IDn5VshkGojFCkilGvZv+lDOo8MxgqGhZiQlGTAx0YlgpByWCTu0+gKkGlXQKqLghxrNi91uRl/fcQBdSEwk/14Dq+IOh70wGLQsFzTqSR0V/m5vP8MKczQaHoaHm5lryPQWHc8JtLSchM1mZTmYxAw6nWdZ0UhqahbKyi48xAncHzu2m1UYSyRSloM4nQG0WFqhUvXBZneibvU9cHoAhwdwe4HGhr8yGZy8ytXIKNnMTmdZnhPVuW50m6VoMingDwrA40cLOpgvMXMdAQIhwB+gn1GAK+BHQFKPYkEIQbcHHocbNqsb4xYPRi0eqIRBVEuGke/tRcJIOwQdrYh4PFBVlTBQqFxaAXltKQQ6zZxSNFdDe5Cuj+5V9GIU+1L/d3/3d/j0pz+N9evXfyAf4LTetm7dylKO9u3bNxXFuA4AP5DT+f456WsFABILQTcG+lDTaDSXbUc206xdibPI9P7iBSbj5StM/RAo5cJAvf/wXYh1GhT/6GsIu52wPfEPUP3LT/CDZ0fQY3LjR48EIRcG0CpdhlcOhPDwWjPOTGRjeZYTCnFowdqLM43zfAzg6Ogonn32BZjNIuZHS1IqlHMVy8ZNTw4nfb59+/6E1NRKLF0aTdafq9FN+OTJnRga6sGGDQ+yUGmsQwPnEBN7TDrG7t2/w+rV9yMpaeaCi9hj0pi/9dZTqKragszMC1p1sdvEAkCyeduz53ncdtvnWRHDXI00Dl9//Wls3fp5Jk9D19Pd3Y329naMjxOjRaFlKooQMIkWQMeYQqeTpGNGweMpoFTqIZNpWfUv5Q/abA3spSo5eTVISJnGWCymcKkfqalloJAkVUrbHadhd45DLF8GmcCLcNgNl4uqlk9CKi3C5KQdMlkGFAo+7PYGpKTcyQp0pFIl0zcktpCr3CU2tL19N0QiNwNbKlUNY+zcASnGbFHQo1cBOjUgPm/m0tb2NtzuBpSVfY5Vaff3tzAQbTSSrR2FgIlRFUGplMLns4FErhMTKZwvQFFRtGp5pkb2f21tZ1BSUsXcViyWEXR0vAiNJhsbN36Guapw7cyZwzAY0pCcHF0HBGZdPkSBniuAsYkjMKSVorXxFZRUfRw6rQxKGUC1U1JxGM2nX4NUEsDj//A3zKqOGEuVSrWgAjS679HxwhDD4wdc3uhxOZBJutQ2FzBhD2NoxAOnzYOgxw233Q3bhBuJfgsqIybkurqgH+4A+k2Q5WZAvbwSquVLoFhaBnEusdUkbRNNZ+CYQXpRuRIXk/m+l9P/TpEdAn+xAPCTn/wkvv71r6O29oIA+OX2ezW3/8IXvgCSsjl27BjLZeTadQB4NWflQ3DsawEAsqTpsbGp6l4CWsRqTQ/VLWY6F+MsMttx4gUm4+ErTH3QtREgIeYubB7Hkeo7sPLEq5DnZiDQ2QzXq7/Fnwx/i8PHJ/GT75ZBP3IckKnxp84S6JQRFCWPo8WajhsK7OBh4eLbM43PXHmNJKGyc+cp9PaSGLMHTuc4nM5JFjKkwgzS+iMHDrlcD53OCIMhGRT23bv3j0hOpnDbBeHfudYAVQfv3ftnrFr1URgMRrZ+aG3FhmajBR8XbLsor1AkUmPFiotlRGY7Tnd3A1pbG3DrrZ+a9VRiAeCZM7vhcLiZ1+x8ra/vLMsp27Llkfk2xc6dzyAxsYxZ4lFuKhWdHD/ehPFxKp+lAhiS2gjA620Bj6eFUJjMwrPEglHBi9U6ALncAIUiCoCcziYIBCqodCsQggwqsRdjY29Dp6uCwyGCw9GH9PQlkEj8MJsbkJq6lWkpUt4fAVfKNSTATaBQIlHCZuvFwMBO6HRLUF4eDcNTo7EhUDNuj/4k8KRVAZOj+2CxHEBt7ZcZ+CM9xoyMAgaaaY0TmCKWjnIryfPZZDoMgWAYCQlFrABEoSA7Ox4TlI4t3qC5pwpfqv7WaLRs/z17fsxkfCi0XFi4iRUUKVV6NLc2w+4MQG+sgNPLY0CMQrRKqhsJDiI1eRS1NdU4fvgFlBRXIS+v6KJ5or7feOP3WL+uDHfffRdkcvmCXECoE44VEwhF8Abo2Dx4g3z4gjwEgkAwzEMoQuMXrYqm8LLbE2ZjaHcEMTTkwfCwC+MWN2MMw+MWZLt6UOTvQ4a1E4qBDggVMlS9+SsmWE3jwkVdOB3MxbqYzLtYp21AAJBYZ25N0J8/8pGP4KmnnkJBQcHldnfVt//pT3+Kb3zjGzh8+DBKS0svOp/rAPCqT88H+wSuBQDI3QC5JHqSW4kXA0ggidpCnUXmWi3xApMcAFyMrzAXyqQHBt1E6SZO/bR88T8QcnlQ8Zv/Zpfg2b8Dv/mrF/ssGfjxt8qQmixF5PQuePQ5+O7bmfjb2yOwO10Y9SWiLtvBihUo73KxbTYASOzVnj0dUKsrLtL2o4cYCSZbreOMJSImjmQ1KOxImnwmUwdSUoqwbNkmxsqQIPJcjYDlW2/9AmlpVaioWAGxmMKloRgQSHaBlHNGun5RFmR8fBBHjryGm276FCtIWIiWGuUKpqUtQWnp7ExFLAAkoJafvwZ5eRc/GGa6lhMndiAYFGDFipvnnYZXX/0RVq/+GBITUxirR/lexJgdOXIcLS1DCIep6pbA2tuQyVJhNBYgGKSwqgp8PhVuhDE5aUJm5jLI5Vr0dP8FSmUBkozVsNi9GBp4GXKRBKFQVPhaKuVjZKQVGg3pSVqRnX0rC29zjVhGyo2kSllyVLFYemG17kBy8gYYDGVMwofkaYgxpJAuNX8QsDoAKzFb4/Wwj72JxMSboVHpkZWZxyp6o04lwfNadxeORyHjsbE9yM29D3y+gh2PGoWdJRI+YwoJFFLOJ9n5kbB0bm4hJib60NyyD4WlH8OZ0y/CMmYGX5QDnsDAtAyD3hFULLkBSmkEGiUfEhFTX4HF0oClS5ORkJACyvnz+QJYteoCKx1VKvCwSmuRaAwPPXTXvC+wDAz7eJh0CzDuiMAVEMHlJx1AQCaOMH1G+ogFEQjow2PudOdjyOdDyBRGDvMQDPHgDwEeH2B1AuPWEIYGXRgbcWDc4oJz3AbtcDse//5NqCiLelZzjDuNEX0fYm3tuJem2Krj2VxM5l2s0zag+yixjrEyNTfddBNee+01VkX9QWrE+t1zzz3Ytm0bNm+Ohv5j23UA+EGazffhuV4rAJBTwqcpiJfeHvUVD4cKblnEC0zSzZVyRS4XAHLFI0zT77zfMY2VyDyB42sewIpjLzFrKgJXP/v66zg4ZMCPnqhBRlr0gRupfx3HeKtxfECNR28JoGUwgohQhVIj2atdGQCcXthC/Z06dQb19RYYjdXMtmy+RowMFTtQ2DcSkTPfXYcjCg6JAaKQMQFBKiSgymFO0oOOdeDAi3C5Ali37m4GZKPAIXDRQ5hAM1cEQnOwb9/voVCko6pq9RRLOKW7FsMScudN/rh79vwZt976uYs0zKZfFwcAg0E3dux4Drff/nesmGK+tmvXb5CVtWzOXEHqg8Sst2//Fe6663HmicwBQI5RIQadY9RPnXoZq1d/lBWrULrAyIgZZrMFJtM4BgZGWVWyWJwOj+cY9LqVSEmtQHf3axizjkKtXIXszJypMClJwjgczdDp8pGevv4iAHhhjEaZHR95Iff0/AIq1UrmU0zSLwTSSc6H5pLyP0nTkaRc6NM/sB99puPQ6LdCZVjGmDe5hIAQObSEIJcIQCmAnMrL+HgnWlqeQUXF4yDtRspDTE3NZaCRgL7X54PP70cg6IfVZmJuLAmptbDZzyIU9CAzbwtUch4mhl4HH0EYkwoxOTGM4eEhpgeYm0vsY1SMms7Z5arH+vUrWZh7eLgP9fXv4M47P8H+zrHxAr4AMrkMAwONuOMOKhC61IEkFAbGnAKYHQL2MxTiQSMPQyH0QqcANHIeA3/n613mWzKz/p3WILGHxCa6AzxYnTz0DYdwQ0UYMkkUuc8kx8J1yDHnsaBwNheT+bRYp58kRVIovzsWAK5atQr19fVXpESw6MFa5I6NjY1Yu3Ytvv/97+Ozn/3sjL1cB4CLHNzru0VH4FoBgPSWzxmqx0tvj8ZvsQLFM62/eIHJy/UVnk0HkfqhStLeT3wVyvJCFP33VxAIhPGDn3ej6Vgf/vPvjciqK5+6lMiBF/CU5U5UF4mwJMuD0wNSJGrFyNSSaHGA5SsttsUCQGKiDhw4jra2MNLTqxhIWUgjCZf9+19gFaTr1t05VQlKgJYS7MfGRhhLODk5ArfbxoCJVpuCYDDMBIK3bHmUafZxAJBChrEPpyhrKmEgwWLpw8GDr+CWWx5lzFT0gUefqAZcbK4UBwpPn94JrzeENWtum/NyOADY29uAoaF+bNz4wLyXT+v/tdd+jE2bPg2N5oIN2kw7Dg624syZQ7j11kenHuT0MI0NqdEfqM9XXvkRtmz5W+ZiMr15PF6cOHEc9fVt6O7eC6l0KbzeXoRCI9Drb4NQkQ2jTg2VUsnAGvnuNjT8CAZDHfLzb7oIABLYNpt7GYA3GnNYKPbs2Z+Azy9EXl7Ut5gaC1963exDAIRYQ8qTHB3dC5ksCWKxHqmp1eAJlIjwlAhCxrx8KQxKRdZUPELFrj5vNwa6n4ZStRlqXSnkquQo6A8D4VD0SinqTEouAr4Po4N7kJJSDZv1bUhEekgkCVCplDAYlBgZ2cucWcrLN6Ox8TCTg1GrdUhLyz4PnAeRmmpFaWlUfJrWxrZtz2HVqltZcYnH7WJsvIQV/VBhSh8KC2VYs2bF+Xs4mOvKgFUIs13IWL0kVRBJqhC0MnL/iL6oTg+LzrtornCD2aruZ+t2JpaQfhcrRcOxhLOBQtqeXqTpBZZL8aHfLVu2DC0tLfOypld4yXHbfWRkBMuXL8cDDzyA733ve7P2ex0Axm3Ir82OrkUAGC+9PVoxixEonm2lxQtMLhQALkQHse0nv8HoU3/CyvqX4YAU//GDdng9AXxF9Cxyvvk98M4zT5FQEKO738RPTVvw9YdFCHrtqO/XoCydB52UmJn4AEB6OO7efRwTEwakppYs+IZO++3Z80d4vWHcfPMD8ybO22yTGBjoYZ65p07thF5vRE4OWciloahoKcttm4kB5ADgO+/8CUplCmprb5j1xsKBQOa6EA6z4o+KipuRkZHHWKyo7Rvp/13cBQcA6+tfhU6Xi8rKKBCYq42N9ePgti8X6AAAIABJREFUwddw111/P9+maG4+CItlDOvX3z0nALTZRrFr1+9xzz3/OGefpFP4hz98GwkJJRgePoM1q++HQKhAz4ANvQNOCAJ2hIL0MiqBybQDQDo0mmIYDJlTDCSF8UnsOTU1h1XRer0W9PS8Aq12FVyuSWRnXypTQyBwaKgT4TAPgcBxqNXVzM5OLNZCJtMxJi8YpLC9kDGoQpGc2feBJ0L/wC44rN0wGNciJ3s1C4sSO8g+JK0iOB8uPX/lfX0nIBarYTZvZ6CUHFHIESZqFejE8PAbzEdao8mF2z2BzMwsTE6a2RyrVB7cfPMSJCdHHWeoHTiwHRKJCkWF5Yy1EseIGpNl3sREMz76wO0Y9yjQNyFibFyqJohUbRBqKTl3XDwlBIqInZ4O4uddDFewwUx6fJfTHSfUTd8Nennn2ELqY7pgdSzYo2ullBwOJHIAsLWVdCCnDczlnNB7tC09B6haOS0tDS+//PKc53wdAL5Hk/JhPcy1CADjJbdCa2K+6tTLWTfxBJPE3M2V5xgVAXYz4EFvy7GaWdw5OxpbcXzTJ1D5/E8wnFKG7/xPJypKVPj7DXbgwDaov/gfU5cXcTvw5pt9sOuL8bGNQoyPT+CwKQk3lgYhBCXW+xhrs9hG59vU1ITnnnsDbreYVX2mpOQxNmi+hxpd46FDL8FqdWLNmjtYaHy2RgwSnSsdjx6YJ05sh8fjQ03NegYI+/pa4HZTDqkBycmFyMlZArk8el0cA0iM0969zzPGkKptF9KGh7tQX78DW7d+jm3OgUIuLBZbWEIPMTrWzp2/wJo10Ty9+Vpb21FmLbdhw/3zbYqjR19lTBldM7fGZ2IAiSlsbDzIrnOuRkDxjTd+BblcgmXL7oBGbYRSRePCQ9+EkBVDGKVjcDoc2L79SWg0lZic9MJq9TAGmgp4RCIK5dI4E9srhss1CKezE5mZd4Bs66ha12gkNxZyLfGzqmXKAdVokpjdXkfHs8jMvIuxfAMDZ5CZWQu5XMNeTIgZpn0IWJGGIRUIeTxnIJeTA4kQRiMBf+N560DlRZZv3HWPj/ejrW0XQqE+VFQ8Bq32QqUmbUNFLL29r5E/BRyOEFJTKyCTiWGzkf3bDuj1YqxZcyOKiysZw0zC0WfPnsTtt3/skpcVCvOeaW1BTlUNMrNykW0IIEUTnApfzzQXM+XFzbsQrnCDmfT4rrDLi6zqOEBI3xVmbXc+rYLmdDoDWFdXh+bm5g8EACSdP6paJuA/U6Hiww8/zApaqF0HgFe6oq7x/a8VAEg3C3qoUyMASIAn1ityscsgXq4bdHwCgNTflQAl7jpmy3MkQEE3Zk5Hjm4yM70Ve4fMOH7jw9B+dCvqi+7Cy2+a8ehDmbhrixGe7S8gEvBDcT5HiY4ZGDfjiVeV+PgWGfJS+TANTaJxNBFblwQZ03IlAJAJUNefxJEjA0hKqsDk5ARGR/thsZgYg0NFBMnJOcjIKGbyJNPb4cOvMkC6fv1dLDeMrnl643L6uHw3An8Eyo4c2Y6bb/44K+JgSfVOJ3OMMJk60dfXCqt1GAZDKrKzq5CQQD65chw79goTQp5PVzD2HI4d20bKlKir23TRqTE9N8YQkifrhYpj8ualoo7bb//8FBsy1xomUEdhyerq2SVNuP337HkOGRm1U7mC03MAue3a2o5geHgAN9wQ1QCcrbW2nmRahXfc8ShycqrgojEUiiCTScmeFm0jYqhlYSSr3Hj55R9j8+ZPQ6e7EKam9UovKwRiomvXBwK0o6MWpKbWwuXywmKxsLxXvz/EtAOJyYv6PSvZGhke3oX09LshFMphtw8xgWmDIZs5swBUPe7CxMQQ8zNOTExn/sZyeSUL1zqdY9Bqs1nRCzm40AtH1D+acgyVrPKX8jdHRw9BrVZiyZKZq6wpZ5P8mu12B5KSViE9vQRDQ42w2fazF4pQyMKY36SkTCQYEtDdcxg33ngHUlPT2boSCIUYdwowbBPA7RhGcZYTD3xkw4y5ktPnYqa8uMXe8xa630x6fAvd93K2i80n5JhC2n98fBxPPPEEcwB58cUXceTIkXmZ/4Ue95vf/CbIX5iiSSQtQ4CsrKxsobvHbbvrADBuQ3ltdnQtAkBKYqeb+ExA4HJXQbxcN+i48WQTpwNATgSbHqT0VskVecx0vQT+Tm19FLzySjxjuAfgCfC1f8hHXraCbW5/8t8hXbcV4oplU7ufOjGC3c1S/NPD0WrX5l47zG4tNpRG5SDoYUCM5OU2YoD27z+JgQEhewjrdPqLupiYsDBmbnS0jz3AycosNTUf2dnk3arD0aPbGGBcv/4eVtRBeXvT550AFo09PTyiYTIRS8zfseM3KChYhpKSanZMDgByFd/0QuFyOdDT0wKTqYUVIqSlFcNkOofNmx9l+VsLaXT811//GZYuvRNpaVlz7sIBwoaGXXA4XFi16raLxHjJMi7KhER12Li2c+evUFi4HtnZxfOe0rZtP0Vd3T0wGqMhydkA4MmTbyEYFKGu7tLqRO4g9KLx6qtPIhBw4uGH/439msbZ6XBCoSQ2TQBPgIfWETF0ggGcOvpHbNnyuXm/m/X1rzNdwlhnFRpHAjrUP625aA6gF8PDnWhtPca8el0usvPzMvDY09PHmEUqixUIaN4VzL+YZG4GB7cjI+MOFiomdxMqAsnIqJzKMaSCE2IYqSLZbrdCo9HB6TyGYJCHoqKPQCZTsrxErpCIGw8Cgc3Nz8HtJu3EdbDZmlFZmY2CglpmGWgynUG/qQEisYq5nygUSUwP0h8KwC9QQqlWIssoRIJaCLe7Fw8+eMuCvlc0LrGs2LyLIA4bzKTHF4du5+yCc+uhax0eHsYvfvELnDx5kunnEYtdU1PDcuuoKOTee+9d1OlQUcbPfvYzbN++HXl5efjWt76F3/3ud2hra4uLGsTlnNR1AHg5o3V920tG4FoEgHQz5EDQlS6JeIku03lcCVCafh2xhS50U6SbMafpR+znbLkwjqY2NNzzBZgzK/Fc4n2489YEfPzeDMhlUZFhJgD9n49D89Ufga+8ENJ98kU7KnVmrN0c1dk60e4ChAoszV3cddHDvK2tHYcOdUAgyEZCQjpjYyixfrZGOV99fV0YGupi7CDJsJAEydatn2H5WNOtqQhM0e8IKNALQbSCNwqaCDiSAPKmTRceErEAkMaPcgBjx7GrqxWHDhHbOI7lyzegpGQNYyfnayMj3Th69C3cccfnp44/1z50Hm+//RzS0ipQVrYsJiwWZQiJLaTGhcQ4gHnTTZ9hxQdzNQqDvvbaT3H77X8/VVk8GwA8cODPLAexvLxuxi6jldAvYWTkLHJyVmDlygvyM1y6A4U7aQwnXHycbO6A1/wONm18cF4AuG/fH2E0FjMf3vka5TSOjppxww3RnMbYZrXamJ0bvRRQ0Qp9T6jK+OTJ7SgsvBk2mxtWq4MxjDabB3J5EnNMoTkg5lCh0CE9PY/9v63tT/B46MUyA3J5AmO+qSCImEJiI6kamYCh1TqIpqYnoVaXobAwG0uWLGU+zVFf3QAEQh6GhppgMp2A1WZFee3nEBYaoBA64LP3wWLpYUyjROJGTU0C1qypgV6vZUCQCq2mf7dnKoyYb8zi8ferUXhC9zpaW7GyXOQL/o//+I8MtBEQpGpgIgEItC2m5eTk4Etf+hK++MUvst3pmKmpqfjhD3+Ij3/844vpctH7XAeAix666zvSCFwrAJAeRnSDpRYvuRXqi3PL0OsvZqYWs7riySZSaIJC3HTdnDzJbDkl59cBTL9+Ce1f+R6O5m+B544H8PlHsqGS+6NJ6Od9Nf1N9fDue/Oi/D/TaBi/et2Pr61pgayomgGSgy1+GHUSFKZEQRaNOYlvL6QRe1lf34jOTh/Lv6KHJoU/qY8oYJi7FwrVvfPOixgetiAhIYEJQyclpSMrqwJJSTmMCYk+KHyM/aGiAmKiuNbf387y8W66KRr65dp8AJC8Ynft+h1KStbBarVgcLCNhYfLytYxQeXZWn39mwiH+QsWi6Y5/ctffoANGz6BpCRysri4xSbP07YEhA8efJXJxXCODNECk4tZQuqFqpcPH34Dd975halOZwOAb7/9DAoK1szKKh49uhNWayezcNNoMpkczoWxjDAWkKRQqLqV2v76egwOD+LOzbdALp9b1mb79qdRXk4iy3nzLqmjR1+DUKjG0qWX2oCR9R29eFE4mmudnSfR19eOjRs/OvU70uBraWlGX5+JvTBQYQnlIjqdXng8VKDAx9DQPiQmbmLrTa8nn+UCVo1M3z9ih8lDmHQo6fvA51NI+xjy8gqxfPntkIiVUQZaSlXkpCUJWKxu7N37EyjkWmSmFUHAlzD7uZSUAmRlFTDpGbe7FeXl1eDx3AAcUCr5SE7WIiVFy3JdCRTSfWB6YcS8gxaHDa5G4Qndj2k+Y20nKXeYwNlLL710xVdF91UaVwonU14h126++WaUl5ez47yX7ToAfC9H+0N4rGsRAMZLboWWw5WILk9fTvFkE4kB5CQU6GYYa4s0/bjOrn4ceeTf4WnuwLENn8VdX7sNy6qiYG16xbTrL78CX6OH7KYL/qh/3BWEyjOI26s94KUXM1C8p1mAykwekrULB4AEVjo7O/HUU8/D6eQjPb0AmZklMBqj2oMLAYCkYUfyK5TrtW7dbQy4Wq2T6O5uRk/POSaJQXloBAblcgWTbYkFlB6PEzt3Pofi4jUoKorKcsQ2B4UuFeTAwL+EAWxsPITBwR5s2RL18CXR4paWUyw8rNcno6LixhkZwTfeeBKVlTfNav02/RyoonfPnv/DRz7y+EXAdbbbEwGa3t5OVgDCFZdwQryxxSX0756e0+jpaWW+xVybDQCSrMzKlWRxdykIbW4+iY6O/di48WHU129DRkbNJfqDwWCI5QNSQQiBHmLdesckqK6+Ebnz6PW+/PIPsHHj38wraUPXsHv3c8jMrJpR/3AmAHj8+JusInn58vntAal/WhPt7Q04dWovcnPXoadnAL29AwgEyI5MAz6fGEMqUpCw+VcoVPD5vOjsfBUKhRlGYwVjC0l2iKrL5Qo9AvxEQGxAwHoU5qFGOJ1UmOJAUdFaFBWtnrL9Gx09i9raSiQlZbDvO8neEMj0eGzg8SgcboXdPoyCgixUVBRNgcL5Cqfi8ai7GoUn01l+uo5Dhw7hz3/+M377299e8WX19/cjKyuLScoUFV1waiG5Fsrd/uUvf3nFx7icDq4DwMsZrevbXjIC1yIAjJfcCg3mYkWXZ1qK8QCAsZp+BH5i5RCmH9NndeLAl59C8MUX0Z2zEvnf+X/YuCWHFTlwLbZiOhIKwfZf/w/Kh/8ewvM+tf+fvfeAqvM6s4Y3XHrvvYMAISGaBEK9d6u4JY4TJ3HGmRTbKf/k+2a+mZX513zzTWbNl0kynt9xHCeOEydxl1WtDggQSEISRRRRRe8dLpdLufxrn1cvXOA2imXZcNbSsqX7lvOec+55932eZ+/d0TuBX300hv9nZRZcV0TAzDMIqmE1LpfZCwawvbUUJWXKxRD7llG/3Nx83L8/KtKKrNuj5y613wjafHyC4ekZitDQlXojgCSG5OaegqdniLB3047qSYBMhaqqUtTWlmB0dAjh4WsQHZ0q7MXklp7+V5ib22Hr1sd07haGAODJk68hOnrjLOBIIFhSchsNDaXw8aFsy3bhqctG3UFGKw8d+q7JBeplZTngi2jXri+ZJIMjARq7aZZ32lFCuYiea6e4OF1EtFJT90+mkBlRmckCJmuWGoCHDr0sCArajQSZW7dOYPPmJ+DpGYyzZ+ltfEDo3s1sqiEVxjWST/S1ax/Axi4IFp5bEOg6BncHjc45IBg6d+5NHDv2A6MMcF7g5Mn/wvr1xyZrGrUvSgDIiLE2IUwCjASsUxqXxl4dBQVXoFSqsHHjQXEo11pxMdO4DYJFrlSOQ62mG4YVNBqSR5wxPFwIoAqhoZvg5uqPIZUSnT19aO9RYkzdB2sLNQb66GBThuDgzYiMjEV7+z0MD/fDxycWAQGrMDTUBXv7Qaxdu21W6relpQZ5eRdgaemCqKg1sLCgbuUgLCwYWXeCn58L3N2lKCHBy2JLpHwWdYcEgNxvtOt8L1y4gKtXr4oU8EKbvgggnUbWrFmDn//85wu9xZzOXwaAcxqu5YNnjsBSAYB8yfFFxraYciumau6ZsvIW4uE7U9OPf9fHdB5RDuPqT/8I9R//hF5HH7j+3cvY8+3NsLQ0n9VNbcb0aGUxlMf/AOef/F+YEZUBeD9DYlY/ZXkCiN0GMycPtPcM42adPQ7GjQuwZggA8rPS0nu4caMa5uaB8PYOmfYiIihpaqpDQ0Ml6upK4eBAB48ViIiIF76zcisru4HS0uuIjk7BqlXTbdQYPeTc8+XAlxzBRnNzPcrKbqG/vx1hYWsQE7MRFRV5qKm5hz17vqKXIa4PANbX38OtWxk4ePCbsLbWLUxNPTwKAbe33xfyMatXb0Np6TURZTXFy1d+1uzsD2Bl5SVSmqb4Wael/RH+/gmIioo3uAy5Zq5dex8ODoFYuXKtiCjxD5u2jyvHkNIu9EU+duyH067Z3t6Ma9feQ0LCdoSErBGfSdG6b+qM1nFuWIPHNHxm5p8QGpoKZ88oNPbbI8pbDTsdQ0lSx+3bV3DokG53BO0O0Uf49OnXHrilTKV55WN0AcATJ36FjRufhqenYXtA7fukpb0NX99Vk4QhXQPNSCprCeld3djYjLq6K7CxNkNfvwoKhSe8AtbBzCYAtuY9GO5vRCdt5MwpkN0umMju7pGipnB8fBiDg02C7RwWlgJb2wmsX58ifK7ZCM4LCtJQX1+NmJgNiIyMF2lrOc1N1rJS2Q+lklmCAfHHzo52lmZISYkT9WwLbZ9V3SG/59xHtQEgU7+0jCQjeDFaWFgYfvSjH03WAHIP45j98pe/xLPPTkXOF+Nexq6xDACNjdDy58Y2fWmH/4I3bQC4mGxbGQAuhrfwfKOJEhtVKV7WsqafLqazekCFtJ++jZG//AVqawc4fudvsPMnh4U3rr7G6zB9LOqIPvw9zOwdYLdfqo1q65nAK8fH8OMnzOBW8C6Q+gTMrG1R3axGXbcVdqyWIon6gC1ZeteuFaGtTQEfn5XTInEz+8NnI1CieC7lV0jycHPzQGDgSjQ2VmBgoA/JyXvg6zslpiu9DMdErR8BDNNeBIFM4cqNMiYlJTfAaAnrtUjEoG6c/vHQnQK+cuXPcHVlQf/6aRZUuq7T3t4inDaGh5mqG0JCwkGsWDE73ayvD2fO/BoxMbsQEhJpEgAkqWP9+id1RsBm3kNiC28RdX0yAORLVY4OyZprzc3lKC29if37n5+sKyQrlhFUPktMzCZx6aGhfpw587oAivrKEDgnqqEhpGe8heTkY3B19UL3sD26hxSI9h4RosvaraLiBhoba7Fjh3FNQxJs8vIu4rHHdIPFmQCQtoCXLr0taiBnRpD1zQfHhFHGLVuegbu7BMIMNf4A7e5ugqdHHaKiQ1BUcg9vvPUx1MMKWIxT084RFhauCA+PE+UP9FW+c+ckXFwYBQ8XrOOBgV7hndzRUQGFwhJBQV7iRwRlamprSwUJJTl5F5yd3aArza3dP/a/trYIdnbd2Ls3aVEBoKEMhLFxms/nXKt8Hu2I7ltvvSXY4f/wD/8wn0vOOodRPkYT6dNLMEgW8J///GfBAtauPVyUmxm5yDIAfBij/AW+x1KMAC4m25ZLY7G8hecaTeTxrGckoOWGp63pJ+nVKcS/DfUokfZPf8T4++9ixMYRzn/7Tez4n8dgQR8rI02+jjUm0Pd//w6OL/w9LHyDxFl/ODcGNyczHE5QAnlngC3PCKBQUDMC9bg5UlZYiONm1kmyz++++xFqawfg6bkaYWHGwQ+flX3hC4VgjmnV7OyzKCzMFCnI9et3YfXqDZMgUhJ0HhYvP9kBgf3gv2kzBNm/3t5OnDjxhpD/8Pb2RmLi7gcv3tmDI+upkUQhs4CpyZeVdRo7d35FkFS0PUgNDW9paT5OnPgNkpL2Izl53zTtO33nscbx/Pk3sXv3C4LxaSwCKEXAfoMjR34wWTdmqE8nTvwCmzd/dRqQkVnSEjlBYhrfu5eDlpYmbNp0VBAWWHuWlfUBfHx8sXbtQbEO+IekktzcMzh8+PsGV1p/Xz9On3kFR468DAsLKxERrOqwFJ61YR6M3E6dzlrBsTGFQfkZ+WjqBba0NGDbtqmaVe2OcE0QgMqAoaamEJWVRdi71/RIDkk2mZkf4cgRiWRjrDE93NBwCzt3eMAvLA6FTTbwsB9HjN8I2lqaQNZqaWkNiovr0NfHCLsrNBpLtLeXIyRkvfjRIzfK0VRU5OL+/evw9HREd3c/goPDhasIfa09PPzh6uoviFS6dE+HhshwLkV4uCVSUxPE+l2MJkcAHzYA1OU/TLDGFPeLL04Rmxb6jNQBZL0fMyS0mXv11VeXdQAXOqjzOP/R93WZx0M9zFOWCgDkmMqbw1xZqcbmY7G8hU0FgLKmH6N+fClzk50JOvjZYOcArv/LuzA/8QFUju7w/N7z2Pyjx0wCfvIzywDQLD8bI3fz4PS3/0t8VFqrwftXx/GTL1nAbqgVqLwJs5Qj4rPse+NwtRvHqiApfydHNhklra6uRk5OOZqbyThtRW9vqwCprPEj4cPT01D0jbpo9oJRefv2JbS1NWH16lQJLFRRULcNQUHRwqrN3NxKjIm2tAtJBzMBICNUaWnvCWZlXFwqSkvvoLIyH/7+EUhM3DVLx00XAMzM/AB2dp6IjV0vooymAsDKyhJUVd0UL+mGhvsICVknrmGIsFNXVyyIJVu3funBsxkGHE1NlSgoYGpachgx1AgWT5167UG0bir3qg0A5fO1NQAZxeQYOjhYi1o7bYIJNRFraoqxZ8/XDNaY0YHj3Lnf44knfixAJsHK6LgkEu3uMA5f5wcGvGQLZ74DNzfKzyQbeyTcuHFa+PCuXbtd57GyQDzXCdvt2+dBsYC5iHiXlUmC2Dt2GNeV47P19/WhrS0Te44dQKPSHVE+I6LmcSa7nePIWs+amhoUFXEeK9HY2AmNxhkuLgHw8gqbdD3p6emAuztw7NizgqDE7xb9rSVnky5hOefh4QtXVz9BROGao24m0ICNG1dgxYoIk8Cr0QF/cIBci/ywAaAu/+Gf/exniI6OxnPPPWdq9z83xy1HAD83U/VodnQpAUBG/rgBm0JKmMtsEQDqs1Oby3V4rDELN1M0/Xqbe3D5734Dm3MnoXT3h98P/wYbv7d3Xhu8kMzRjGPs9X8VzF+rNSlQqSfwiw/HsCdJgXXR5phoqQLaamEWL7lYXCgyQ4zPMAK9HmgHajQC+JWW1qGxUQNPz8gHgrvUCFSjsbEOTU1VojbO2toSfn7hCA2NFalA7cZ0dGPjPSHq6+bmh6SkrXBwcJw8hJGeoqIbIr0WGhqD+Pgt09LKMwEgGb/p6e/Dyckbmzbtm7wOU2w3b6YLmY21a/cJMCi3mQCwr68DV668j717nxO+tXMBgFlZZ+Ds7IQ1a7aiq6sFd+5cwsiIBeLjd8LfP1Tn0qH7x9iYBeLiNpsEACUNvA69ETDtm0xF66ZHSnQBwOzs9+DkFIzo6ARkZHwIa2sNNm9+RqwxKUooRQpLSzPR2dktBKtl2RmCEcm6a0qGhrZyt29fxbatX4alldVkDdfQiBnK26wQ6j4KFzuJFHL+/OuIidmOoCBJc9JQo6uJv3+8IEHoajMBYHr62/DzW2W0XlL7WqzJdHDwQ3z8BmPdwbBKhc6uFijRgrgt+xEfqIbrg+cydjL3r5KSEpw6dQp5ebQ1c8TYmAPMzd1FFN3cfAy+vlaIjV0nAJ/c1OoRtLc3gf7WtMijH7K5+Qj27EnBzp0bTBKSNta3mZ/LAHCxIoqm3l+X//A//uM/Yvv27Th2bLYOpKnXfVSPWwaAj+rMfE76tRQB4GJKt3CaZ0qlLGTqDVm4cXMzpOnX09iN9J+8DuvzJzDgFQK/H30Dm749P+AnPwMBoCb/GjS3M+H00r/QfBJ/vTIO9SjwzX3Si3zifiGgHoJZdCrGxoFPiiywNUIJZ0dr0d+CgmLk5FTDxYWSLoF6I0GMzFJGhT6onZ11Ih0VHBwj2LrU1cvNPSvEd+PjN4s0l9zk+k6+IBk9o1ZacfFN9Pe3IjIyEStXpghgwnQw++PgYI/BwT5cvfoBHB0l8KcrdVdWlo+SkpsICSGY3CHA3UwAmJNzEgoFbd92PnDMsDCpdoxg9PTp32LLlmNwd5fEoiXx6zyUl+fD0zMaiYnbZjFsr1z5EwICEhAUFGkSAJyLBVxNzR1BgtGWgGG/dAFAagAGBa1DfX0pLCxGBPjTJS1y8+YZmJnZISlpOyYmKFIt/5kilxAIVlXdQktLPZKTDwrLFQfHKWBPkej6bktE+ahhawl8/PF/Ytu250xyWjHEAOazzQSAPH7DhqfmRAA5ffpVJCUdhJ+fYRcXufSk5H4LVqyxxtN7omBjOf8SbKYfpR9W5SgsJGNeiZERS3h5uSAxcbPQvtR+xtFReis3wMlpGHFxoSIqZkrKej77mS5B5vlcZ67n6PIffvnll4VA886dO+d6uUf++GUA+MhP0aPdwaUIAOdLttA3k9pSKQudbV3pZDllTbClS9OPEb+0v3sd1uc+xqBPGML+13ew+slk8XJb6C9wZWc7Rn7zv2H/xLdgtTIeVwvHkV2swQ8et4CDrVSBMVF2DbB1hFnIGnQPArlV5tgZrcLNmzdw9y6jDUFwdPQVdlmy04axcSLYpRjvvXt5qKu7K15UERGJ2L79sEj5yk1+0fDvTBtqp1+ZViXrFhhFfPw24RfMFwQttrKzTwlxZtYOGnoJ9vR04saNy0IweuPGYyK1zPvzPp2dTUhP/0AAJicnlzkBwKZUsaU6AAAgAElEQVSmWuTnX9LJZCU4ZTSwp6cfMTFbJwkiEtngFWzZ8jXY2dEJgs4lhlPAly//QbhwhIcb9yktKLgMlWoUqakHpk2PLgB44sQvhVaei4u9XvDHi0jp2gisXj1lGyjWzIMoofTfcdy5cwGjo2ZIStqJ0RE1bGxthSWfHCVs6lGgR6VAgH07Ll38nUkSMEzvnz37Oo4efVlvWp1AnPaAHEtGcy9f/vOcCCCUpLlw4Y+ixtFQ6l4QtQaVaFM5o6M9B999Lgr+fqazjI19X/h5U1OTYLvm5t5BR0c/1GozWFk5ISKC0c8BeHhYIy4uDOHhYZPC7qZcdz7H8Hm5bmbW287nWnM5R5f/8PPPP4+f/OQnwgLui9aWAeAXbUYf8vMsJQBIIMWXqKm1dqZOhTZT1tRz9B2nnU7W1vQj8ONLSlura7BjAJf/xxuwOPE+lF5BCPun72Pd1yS3g8WQuhH1Sm+/IsbL5es/xO0KDU5eG8e3DykQ4DkFPCbuXAD8I2HmHYr77UBBeQsUPSW4dq0GbW3tQl7GwcFFRNIo7qytu6dvHKjNVlKSg+rqQtjYuAnA09paBTc3d0RHr0VQUJR4wXBOKXejz96OY8hI3r17t4RgsaOjF6qrbyMsLB4JCcZTduwfX2Z5eVdBRinFnENCVgoAmJHxnhD6ZfSPTRJMNi0CeONGGiYm1Fi/fjrY0h4PSssUFmbBzs5H1CNqNMPIzPxYABTeyxQASKC2ceNX4Olp3JKOOnz29v7THDvk59JObTNF/sYb/wPx8euxdetXDWrxXbz4O0RG6ncLkZ/32rUP4eAQgJiYJMlpY3wcFpa0LJQkaFjXVt9ri9aWSvTU62f1ao8fnVgKCjJx8OC39H4ttQFgTU0+qqtLsXv3MyZ/jSmyff9+ucFzGHmmfFD3sB0sFOOA6hKef/6QybqPJndG60CWktDyjLIz1KejC09AQIDJ9anzuaf2ObocORZ6TVPO12U/9/TTTwuJFkY8v2htGQB+0Wb0IT/PUgSAHGJjtXZzmQZtxu1cztN1rGzhRtAl/5qVma/y8cODw7j893/AxDt/hsrVG8H/6/tY943t06JBiwEAVZeOYzg/B4pv/AQFrR64dFuDr+9RIMJ/etRpIucjYNUWqK0d8eH5YhQX1iEqaAU8PYMEeCRZo7q6DH19rRga6oabmyf8/MIQGBgNB4cpqzX5+aqqmHq9DmtrB8TFbZyUdunq6kRDQzVqaopgZqbBihUJogaNkSJjjUXyx4//Ds3NVeJlzcjfXFt5+V3cuZOBNWs2i2fLyPgAe/Y8N1mHyForSTDZOLv6zJk3kZCwRWgaGmr05i0svCpIIjY2rrC0tBP9l0sBDEUAJcbw73HkiH4JFu17X778ps5ooXYEsKurHZmZ76G1tRx/+7e/MhqBZEo1NfUpnW4huu4dEhIlNBvHx8YEmLaytp5MHY+NaZB5pwh93Q04uleqKdR2Mpk5jiUlWeju7jSosSgBwHGh3ThXBxDeLzf3BKysXJGUtEXnNLIWsrdfiaFRSzjY20A9UAsvr3rs37990YWX9a0jXeLIc137cz1elyPHXK8xn+N12c8dOHAA77333qLI28ynT5/mOcsA8NMc3SVw7aUKABdLuoVLhJuOnJ5d6JIhAJTFd2cSS8ZGxpD+f97H4G/ewLi1Hbz+7rvY9OIBnS/hhWgdToyNQnX+fcH6VT/xQ5yp9EFrrwLP7VYg0GsG+Bsfg+bqX1Hrtw7Xblaj6L4rAr0DEBE43fdXrp1TKgcEiGturkZPTxNcXNwECCJpg4zFoqJM8KW8cmUyIiKm5C60x3lkhLWCNSI6qFBMICYmGaGh+lOc9PbNz8+AtbUTXFw80dRUgYCAUBFVm6slVk0Nr3VVFNOvXr0TSUmS3h2bqQCQ7EzWHx4+/F2T70+SyPHjr2Fiwh579jwrZGpoY0dhYH1NioBl4+DBF0xalrR2W7/+qVl6gTIAbGioQn7+JyLdPTw8YvS6jALRLeTgwe+JCK6hdurUK0hJeVwwVXmeqLccGIC9g8O0Mcq9fgZNPfbCps3bQTWNcTzT1i4n5yPY2XnNimhq90MbADJdHhKShIgI0x1Azp79Ddas0e1JPDY+ge6+YWBCI+pO7ayB+vrb2LDBXvjGLrbzhr7x1SWObNKCWMBBnwXolPeImaUgmzdvRnZ29oLLYRYwHJ/aqcsA8FMb2qVx4aUEAPli4a99tsWSbuG1FsNbWFvTjy8/arxpvyByXr+I5v/zChRqJRy+8wK2/+PTsLCSdPZ0tfloHU6Mj2G0LB+qKycxZmaJWyu/g6wGV0QFaPD4FmvY28xWXWqoLEXRxx/gvl0K3N2jUdHljkCnAXi720/rlgwAtWv0qOVXV1eF8vIbuH+fUT1zREUlYPv2o9PSxDJzm1FNns8Nni97zielVCoqbsHGxgoJCduEJ6rcurvbRPSst7cbMTHrsGLFKiiVQ5iYGENOziVoNGPYtOkxODlJtmymNIL9ioq7uHDhrwKEbNhwdBKgmAoACwpyMTDQIqzS5tLOn/8LHB2d0NnZAmtrT+GZa0i0ei4MYMna7Zc4dOgl2NpOnzs+c2lpLhobC8Q96STR0EAhZkkQXF+jWwhr6ijtYqhpA0Vra1sxr0xvq4eHRTSQhBD5u5CR8Re4eazEhEsKvJ3G4O04PqlNKJd3yGLVaWl/EOln2gdqM461+yIDQALp06dfwbZtXzNJj5HXYISVlnRHjnxvlsYiSVLtvaOwtyDpyAFWluYCrDY2puHw4Xj4+hpPyc9lbRg6Vpc48mJd29D+M9OR49O+pzQng4JBLu8z3DtY+0f2tKnyTA+jn4t1j2UAuFgjuUSvs1QB4GIydwkAubnPh3AxU9OPLzoCQNnK6N6lIhT86D/g0FQFzdPPYs9/vgAbB4kEwQ22v60XA62dUHf3Ykw5CI1qGBilGv646JOoo7KwgJmlFcytrKCwsoC5pQUUTJ9NjAMjKmCgF2adTbBuq8SIwhb5Lrtww2YLVoVZICV6HO4OaiGkqt0YFbp7txR/eO1dKDt64BWdDBf3YPSMRyIx1AJOTtMjPrpSM3yB3r2bKTx/PTxCYW/vgLa2+1Cr+4UMClO8jNgR+MlRUVnUWbsvjDbQa5epY19ff2ETRy2/trYGBAZGYc2adQJQMh3HfnCeOHZ37mSDOnlr1+5BYOCU1IuhrYBp6IyMjxAdvQa1tTWi9pBAjuLFpgJAgkf6zIaFxZm86/AZKRq9f/83hDbh7dtpaGqqhrd3tBDAdnX1mHUtMoCtrNyRmCjVhRpqkifxezh27EfTDmO0kkLOCsUwUlOPwsXFG/S91UUWmXl9RlqlGry/MXjv3t42pKX9FY8//qNprFwhJiwEzS1ga2crrnH27KuIj98PF48wVLZbwt9lDJ6O0z2DZVb4qVP/hW3bvirqT9mmp4zNxd9HR8ce6FS2IDf3NI4e/Z6xoZr8nPV/NTXl2LNnes1gv8oMrb0aeNr0w8HRHpYW0g+1/v4uKBR3sW9f6rz2CpM7NuNAfldlbcX5XmOu530WoFMWn2bmRC6N4L9RqPnevXsPLeI617FayPHLAHAho7d8LjeG+esQfM7GTzsCuJjMXdZjzYdxq0vTTxZ37m/sRcZ3fg6nvAwMbjuIXb/+IcytzNBWcA8jtVWw7qqD01AzLCdGoLRwwbCVM8asHaCxtAUUltBQj218XDgpmGnGYTY2ArPxUZiNjcJsYgwT1GkzU2DU3Eacq7T3hcorAlaBIQj0UiDM1wxWlmYiAsPno4gzG5dLbW0tcnJK0d/vDE9zG/S1N6FNYYvaxgbUNzfD310BX99gUefn5xch9PG0AaBE8MhGVdVdeHsHiTo/phXlRlHd6uoSMIVpZ2ePyMgERETECnIAmZb62JaUj0lL+0j4Bq9cmYh9+7407braAFAW3a2sLENRUTZWrkxCTMx6oyv6ypUTpNhgx46nMDSkRHb2eUxMjGPbti+BwWW+eCwt9Udm6Qd88eJbIn1qChlGe0xYo0arOjaVitExFcrKsoWvMbUVo6PXTSN7XLnyFoKC1mLFCt0aeNoPKwlM38a+fd94cH0l7t6Von6BgZFYs2aniMqx5eYeh62tr8HUKo+rrMxDQ0ON0UhhQ0OZqPnct++bs2RZ+B1hKtjO3kEQQuhUsncvXVBcMDhshsoOSyGi7OEwHQTSnSMr6yMcPfriA0s7SWZnSopmYlJ4mT+6GIUm43vr1qNG14B8QE7OcdjYeAjJFem7AbT1K9A9MAE/hx5hOai9VqlhuXYta1fDHzoAZP/k+TP5ARdw4GcBOnW5j8gRwLKysmUAuID5fFRPXXYCWeDMLCUAKGt+ccgWk7k7V8IFNyV9mn5dLZ24+g9/hPWJ9zAQEYfI//kNWKnaYFtfAJfhZvTYBWLYawWsgkLhHBIIt2AvWFpPuTbIy2GxxK61ASDT5jduFKKqSgVX10g4O3tgorEcsLCCmU8oGrvN0ds/BOtR1ve1ob29DipVr7AVc3HxFSxgig1TyNnW1k04b+hKYUrSLmrhzct6wbq6EpiZjYloXnR04rQUJV/qZMtWVhYIoVvq49H/9N69O6LuKiVlDxwcpOilLgDIf29ra0FOzgX4+wcjOXmv3m8USSCFhenYt+9ZAUA4xrSDy8oiCBwVLhiMzhkCgMXFt9HeXokdO0xnmrJDPK+7+z62bJHSrgSAjD4ydTk42CNStNRQpCBxSMhqBAdH4dy51x8QMPS7q8gPW1KSKYhR8fHbUVFRgLq6fLi5uSE+fhdsbV2mCVynpf0JgYGJRoElZWWGhkaxYcN+g7tUWVkO2tqasW3bk7MAIE+U61kp30O7uWPHfjB5vYFhM2EZFzAjEkjwWV9fhe3bn0JnZ6tIm/f3d2NoqA9q9SDGx9Wi1pTyPmZmFmhoKIeLiz/Cw2Ph4uIuRMg9PHzE+Oqr1aP+X2LiAfj7hwj9y7puS6hHJ+Bv3y1IJTOt1xoasnDoULT4MfUw5VF02aMt8LVh9PTP4p663Ef4Hd2wYQMIAL+IbTkC+EWc1Yf4TEsVAC4mc3cuhAttTT++BGQSAjevrF+dRtd/vIJxKxvYPHEIq9yb4aDuRIdHLCxXJsB/3WrYu04J5BpaJosFANlfAr+mphbk5dXB3DwQXl4hUymW6nzAzRdmrj4obzGHJYYQ4K6AlZXEzO3t7UFjYzUKCzPQ2FghhI1ZZE+rLTc372mPwAgKnUFI8piSdpGAW00No0Q3MTY2KEBgcHA0amvvCUYwYCbAZWTkatjYSKnC4WEVbt+mC0atiFSRZMLrT/kJT//tSGmTrCwSHJyRmvrYLHIGrbWuXv0YcXEbEBISLT7nGLPxv1lZ5zA6OowtW56eJd6s/ZCXL7+PoKBwREaundO3nH1zcXFGbKzENtUGgPKFCJhragoEIO7vV6KxsR67dj0norGurp46CSdcd4x8ZWa+L8bGzk4BLy9fREYSnIeIS8/UATx79jXExx8UwMdQkyKFJGFMEWV0HX/r1ifQaKyRnLxTjKXEypWijWxSZIc/BorFs9F1RbsNqs1Q1W4JL0fJMo66fhcuvIW+vn7Y2jLVOwEnJ084O3uJdLCtrZMA6kwtc61x3jIy3kZYWBIsLMxEqpZgkaLjzs700w0SJQkEhHItIdPWV668K+r/hsctcb/TEnaW4/Cy6RWg0dbObhpwpM3e4OB1PP30DvGMDxMA6nLHmNPim8fBuizZ5nGZOZ2iy32EZL8nn3xSSOJ8EdsyAPwizupDfKalCgAXk7lrCuHCkKZf5dVS3P7+v8G+uQaDG7Zie2w3+lzDgTWbELI5Edb2U8LHpi4N2e2EUZyFNDoNvPHGuxgetkNQ0Brh10tj+cmXc2kOELwasHPCnToFvG174ONOYCtJodDBo6AgTUTZWPNGMeiWllp0dNTC1tYG/v7hAsw5OroLn14SQWxsdAscMxVdUnILRUVXBZikuHFKym6Ehel3NJBYu5nw9w9CUtIOEXmVZHVmJw8IoDIyzgo7us2bH58ETASHaWkfIjw8CuHhCSKtpw0AGSEiUE5LoyuIQqSDdbGLBwcHBDA5ePB52NgYZsXOnLOzZ99CfPzWSVs6XQBQ+5zKyjvIzDwpgC/BzNjYBGxtHWFlReswhUiFjo4OiYgYARJFrQMD12DTpiOTNXPy9WYCwI8++k/s2vU8nJ3dDS6t9PQ/wc8vDlFRhmsdtcWidQFA3oRaenQVGR3RYMtWyXNauw2NACW1w+hsugV1XwEaG8sQHp6Idev2CsFvfY3z1tPTCtq5HT784rR56+pqRmvrfXR08E+LkODx9AwV67Wri2u4DSuTvoT2AUv4OY/CQTGACUyI9TUzakgNyaioASQnxz90geTPCgCyHII/5B5W454nOf1Mfbfq6+vx0ksvIS0t7WF146HeZxkAPtTh/uLdbCkBQIIwbvhsi8HclVeDHNWj2OrMxugFX6C6NP362npx8YVfwCHjLDojE7B+qxVUkalw2bQRQavCFrTYFup2wmhQXl4RSkp60NdnjZGRQQESBge7RErV3d0HXh7+8OltgU3cTozAEgV1CoQ5tcPDg2BuSAC1+npKrkQjMjIejo7OkzVRHDPKitTXVwqBZxZuBwevxIoVcbMkQ/gstbUlQsx5YKBPiEAzitPcXAGNRo3Y2A0IDo7UO14859q1CwBGEBe3TaSd9TmSEMxnZJyGQmGGLVsex+BgP7KyTsPPzx9r1+4S60YXAOTNCfAyM88JBrfkGjJdomW+6V+Vaghnz/4Ohw797WTdoDEAWFGRJ5whmAKV+taNvr4uEe0i49fc3ALW1nYC7BF8Uy8wLm6vTg9ibQAouWv8FseO/diohM0nn/wacXH79foayxN28eJvERm5DSEhkTojgPJxV6++K0gtycnbpzE6VSoliotvoLauCGNW/vAPSkZr1UfYvZN2cZ4Gv0dchxUVN9HaWoedO7+s91gC05aWKjQ0lKC1tRa1ddVw9t6AuHWHEe5jAUszEq80grxF8D8TANbX38CBA8GC/cs1xvX+sJoue7RP+96fxT112c+VlpbiZz/7GU6cYO3uF68tA8Av3pw+1CdaqgBwvsQNXZOjL90q7J+USpHC0tb044vi8v/7DlSvvgalkwdCdobCeedOBOzahLGRYYwqlbA0k1JfZgoLKGxtYePkCGs7W5jpiFzp6tN8ASA30YqKSuTmVmJszBeeniFQq0fh6Cj9qmaUrLm5Ae3tjehqqYSyuRxO4bGwtg/AhE0YVgXZobe3EaWlN+Dk5I2EhM1C+HnmC0GWdpHcPEYEY5dRvZ6eZnh5+SAsbA08PPwEm7e2thiAhSCUREaummQkMzXMujzaxZGlnJS0DS4us9mw7Lfs5lFfX4ZNm5i+DNX7PZNA4Bkh8zExYYbQ0HAkJu6Y/OEgA0COlZijB4wSnscoZlbWWdH35OTptW8XLryDsLAorFiRNKfveH19NYqLM3DgwLcnz2ONJPuhTwcwL491iXYirWpK++ijX2LXrm/qjOppA8C2tlrcvHkejz1mnC17/PjPsX37N4x69pLYsXnzs6JWVF8EkM9AVxGSWvz9QielYVjree/eNVG3Fxu7Ha6u/rhb0yYiel9+8iW42WsmyR66xoEAkHqBzs6zHVB0Hj8O1LaP4PgH/4LgwBBYjPfA1SUA/gFRCA2JBBl1XBOSe4kkVE3A3dt7Dc8+K9kOfhYAkKDUkFWdKWtkLsfosmSby/nzOVaX+8iNGzfw1ltv4c9//vN8LvnIn7MMAB/5KXq0O7iUAKAsDyEBmWERDWS0ZqFtZrpVW9OPheCMCsggofR8AYq+/79h09cO89R4BDyxHb5R3nAc64L9eD9GzKyhVthjXMEaKDOYa0ZhOa6CjWYQanM7KO38oPAJhoufN8wM+MDOx+6uvb0dOTmFaGoyh5fXStjZOYqoBuuvZACoPVYTXc0Yaq9Hi6UTSmua0FBXgN72YhF1WbEiXgAyNzfJ71QbAPKaBBUcN6Z7WYsljw81+8g+LSu7LkgkJDOsW7dT1PfxHL5AWWCv3TiXRUU3UF9fioiIGCGLok/g+c6dXNTUFIq6QDKL9YGC/PwcXL16GkFBoXjqqZcmo3nyc/BlqgsAMoWtUg0iPf2EALGxsVL9W09PF9LT/4oDB/5mTuxfnkvdwKGhTqE5KDdjADAj4134+sYiKire6PKW9Oz+ICRgdLmYaANA1hhKdmlfNXhdRgrPnHkdx44ZdiFhbdzp07/GkSM/EFp6+gAg1wyB4rZtz8HKyhaDA724W5yJkZFeQVTx95+y+aqouIGKmloErv4qbC0nEOg2Cls9ZjHcA86c+W+sX/84fH2D9D7TuAboGFSgrd8CA52F6KrPwpHD3wK1JrlWmSa2tHRAaGgcwsJiBPOdfeaftrY6BAW1Ydu2VHF9/ht/ED4sIWg5av0wAeBncU9d7iNXrlzBhQsX8Nprrxn9HnweD1gGgJ/HWXuE+rxUAeBciBvGpksGgEwBcxPi5sdaMNYCyeKjvS09+OSr/wbXvDT0Rq9B6Je3IDbWBhobByjtfDBm7wILezuYWVlgQqMRDEJLKytRDC/qzUbGMNjRidH2Jjj012LCTIEhrxi4RoRDocN6TAaAZBwaE0BllPKTTy6gsXEULi6x08SUp5izs+uaJpoqAHMFVM6eOHUlDareWgT5hsLL2xednY3o6mqAlZWFsAFzdQ1AQAAlYawn5VxYH6SdJqXbBf1/29rq4e0dCgcHN+EW0tPTgoCAIISExApwqU/Oor29BXfuZGJ8fBjJybvg6ek3a+rI/qYtXF7eZSEMvWbNxsljyAqVhKXzYWtriTVrNoCAkcSQTZsOTwOy+gGgmYi0kDSSnX1GCCeTlXvnThaUyo45iz/zpunpH8PHJwArV07J1BgDgGfOvIHExIPw8ws2tnxFndutW1dEillX0waAxcVX0dPTb9Bejdcg2zs3d0q2Rl8npOPO4PDh74tD9AFASVT6bQEoq6qKcefOeVEKkJx8UGgwarfr1z+GpaUr4uK3ornPAl2DCrjYjcPbaRx2VtNVr9rb65GZ+QGOHn1J548GCjp3DirQqbSAlUIDP5dxlBUeh0LhgPj4zRhSKmH3oOavvv4uKitvix87gYES+Ga5RH39TezZ4wd/f3/xfASAbASA/G7yjyFLO6MTaOQAXf64C72msfM/i3vqch9h6vfu3bv4j//4D2Nd/lx+vgwAP5fT9uh0eikDQEaOZH27hcyInG4lUCMYlNO93OD52Sd//0eM//73GHJyh8cTW5C0OxgqtyBoXD1g5+L0IJWnEBE9viD4wrWytBSpIv4hoGBhs8ws1Ixr0FPXAKvmu1BoxjAclAS3kNmF7sb8jgkS6+rqkJZWgNzcaoyMKAWLlvV9Hh7+ggXq5OTxQDx5NgAcr7yNsq4mVDTXom8iHDvXJ8LdxWGS4UhA1dJSL0gfTO8OD/eLdDBf3CEhjDBK8iwdHU1CF5ByHQEBUYiJSZym30f/2fJyslvL4OHhKYCZl5duaRMC1uLiPJAEER6+EmvWbJoGMmWngO7uDly79omQfgkKikFdXaXwCba0VAgNwbAwyVqOWn+XL38sgNTatTsnI5nGACDPra+vEYLNGzYcwY0bl4T3L6Vs5tpOnHhdkDM4J3IzBAAlV49f4+DB7xq1YOP1KGhcV1ejtwaO3xMp3azAjRusj3TG2rXbDD4GI4XUedyz52tGjst/EFF81iAApE4htQLd3ALR3n4PcXF74OISADs721mpzXPnfoOVK7eLmkI2grjWfgt0KxWwsdTAxU4DRxuNiA4W301DR0c7du16WhxLLUfVmBkGh83RqzLH0Ig5nG3H4ekwDkebCUGeOX36vwW4dnZyh42t7SyiAwF1efl1dHW1wscnEv7+Gnzzm/vFDxcZpPAHHvcK/uEeITsUyWBQBoaLESX8LMCYLuH3ua77uR6vy/Lu7bffFvJG//RP/zTXy30ujl8GgJ+LaXp0O7mUAKB4GajVYjK4WXBj1EXcmMtsEUTxFz9fkoxoaavQl1zIR+H3/hX2vW1Qb92C5G9tgEVIBBz9fUTUQFex+ExCicweJnChjomzC2UsJKkTRgq7qmvg2JyPQVsfOMSug7XtFGPYkN8xnVBu3ixCRcUQXF2jhKYfJVja2prQ0dEMCun29bWKGjM7O2cRvfP1DZ1M6TY31yD/3G8BjzBErtmNfrMwrHDtEVFLsnvlpi3tMjDQI0AeGZG9vc183UKp7Ie1tST2TOBnyDO2q6sDFRVMUVfC1dUFq1enwNtbN8OTx16/fhkKhQYbNx4Qun1snZ0dAojSd5gagyRmEETEx6cKVrGv72xpE6al09NPITo6QUTz+HI2BQDyfiUld4Qfr729oxBxnkkMMbbWpNTxOyJCpX2uIQBIsg6jjxRBNqVRr0+l0iA1VbdenzYAvHr1HVEeQJBsqEmRwj5s3ixFTvW1oqIrGBgYxsaNB8UhkjPHdBkY/vutW+cFsPf19cHGjU+K6PDoyKj47knfJYl1zhpV6vMdOvS9WXI81OrrVSnQpzLHoNpcaPeV3HoT7p4xCIlYhzGNmfg3XsrBehxONhq42GqgrevNtcvI5vZtX4Gtnf2scgTt56RUTGFhGlatssTXvibpN+rz5eU+IqeMZWAo15cuNEr4WYAx3nOmJ68pa3Ehx+gSn2bql8D7Bz+Y0o5cyD0etXOXAeCjNiOfs/4sVQBoiLlr6hRqa/px09ZOtzKS91HoEYx4+yDmxf3w37IO7gG+AiAZavoIJaKuUKmE7GDi4uo6CQjUQ8NQ3r0JW3UnRlZshrOvxHzU5XfMfpaV3cP16zUAAuDtHa4XlLAv7e3Nwq9XqewSgHB0VAXKY9hY2SDK0R3rn3gZHUorDAwDXjbd4qUr1+gxAkhShKhlpOx/t7EAACAASURBVPWcqN+zFuDr1q2LaGi4j7ExBRwdLQWgCwhYISKDDg6S68jMJm/wBI6lpQVCA5DnsZ7P3X26tyrr8Ag2c3IuinQ0xaHpo8vxc3JyFalk2sxRlob1g25urgIA6QNoFCrOzv4Ea9ZsEWLTfEaOjzYJRGaYz6y1evPNX8LCwhzPPPOTORfik+TS2HgXO3dOj6QZAoBSnV4Vdu82TWw6O/sjODoGCmFuXU0bAJ4//1vExOxEUNAKg+tYihQ6Go0U5uR8CDs7n0mtQF0AkOzlv/zlX+HuHognnmCqduo7JEo5htWwd5DKLRoaSlFcnIP9+79lsH/8YaJUDePkyVeweds3xVpQmE/ASjEhAKDsFDPzIrm5JzA8rMGGDQcMgj/5vIaGazhwIAwBAQGTAJBAb6ZItK7Ocm3pihJyjc4EhYYe9rMAY7q8v03dV+d7nC7xaaZ+Q0ND8fzzz8/3so/0ecsA8JGenke/c0sNAPIXuMxAZT2Yq6vrnCdJl6YfwRYJJdrkg5JLufBYEQjPID+TIz/G9Pv4OSN7Y6OjcPfwmAQUtHbrqqiEc+sd9PmthUdkxCwA2NbWhmvXitDSYgFv7+l6foYGgePEqGN5+U3h7To6agNPeyuoeuth7u6LEYUP/H0DEeDhjMCgFeJZuRkTIBHwERAxujg42IeKiuvCsYJF+7GxyaJGilEbgszGxkp0dzfCxcVNkD8IBinYK7eZv/CHhyn/QQ/gO7CyUogU6diYGn193eJ+1CukzMnAwBA6O+sRFBSMhAQyhV2nzRPTvNTwc3NzN+haQd/XvLx0bNv2hJCSMQUA0js4Pf194XPs5BSKjRv3zWm95eZegqWlufAr1m6GAOCdO5ehVpsjNVW/q4n2tS5ffguhoYyAxhgFgCdO/GqSsWvoQa5e/YtJkcIrV/6A4OB1QhycbSYApP5eTs7H6O1twY4dzyMwcLY80jBt8UZHROlBfv5FjI5O6I1mave5trYIxcXXsXfv100C5urhYZw4+V+CMBIcHG50HkmEGRq6gWee2TW53hbikct9ayYo5F4k1xLKwFBmIMsd/CzAmCQqPuXJa3SwFuEAXeLTP/3pT7Fx40YhBv1FbMsA8Is4qw/xmZYqAJSBFgGgqXU22pp+BDXaG5yuaNt8ptEU+Rb2Y6C/Xzg3EARqkyL6WtphU3EV/c7hsAwOg529nUgtXbiQhszMYoyNMd2aJOr7tAWdDfW1rq4cxcVZQhKFOnp8CU80V4rrtls4ILugCXYTtejuqBGRGCcnN/j4hIpaP0bbKPNSUJCBmppiIeUSG5sqQJ6uNjQ0iPv3K9DQcA+Dgx2C/BAaukoIRhMA8p58XjIrm5qqRLq6t7cTnZ09UCjG4ePjj+TkHcLNgqxSufX0dItoIEWPN28+OGkPN/WSHEBGxil4eHhh/Xr9wOn69QxBmti372siEmUsAnjtGu85jri4Tbh8+QNERGxCTEyCyUvj3Lm3EROTjODg6eDMEAAkqcHNLQKrVyebdJ9Tp15FSsrj8PaWolQzmxwBHB1VC8buY4+9NOm4ou8G58+//iBSGGGwDycFoCKglu6tDQDb2hqRm/uxePbq6nzs2/cdODjMZu0zmkdwRnCVk/suIiJSJwGloZtnZ78PKys3IVVkiCEr1APUatTU3EVF5U0cOfJdk8a1sbEUSUkaJCZOCWEvtkeuDAjlOkK5llA7Ssj5e5hgTPbkfZj35IToErz+8Y9/jKeeegp79kz/AWXSBH4ODloGgJ+DSXqUu7jUACDTdHKtDUGbqQBQn6afPLesqWOUbKHK96YAQPmeTO309fbCzd19WkpJ2TsAFKVBaeWGbmdP5N2qxsCAC9RqBci07e5uFild1tu5udHzlPZuQSINpt1GRoZFDROZsZGRySJFKL8oJypvAZ5BGLD2RmWbOVb7qkRf+vo70d3dLti7/f3tUCp7oFL1w9nZF6mpB4Rrh6mNRA1KjjQ23hO1fJT/ADRQqQYAKET9n48P/5AMYA+ygAsKcjA83IPY2BSEhq6c8TxqpKd/ArW6D1u2PCa047QbBaNZ6xcQEIzERN0kB9acZWdfECndzZuPGgSAjEReufK+IBgQFFPrkIBw/fqj8PPTLzki94kvtNOnf4vHHnthlnOIIQD4ySe/R2zsbgQGGo9SSYSRV3Do0Et6LexkANjb24qsrI9x9OjLRqfw+PH/xNatz8HdXb8QM9fXqVOv4ODBFyfvTQBIogXLBGglFxWVLCK7OTmncOSI4ZpGzt+pk69g/4HvwM1Ntx6k3HF+n0+d+hXWr38Snp6+egEgv4/DKhXGxseRn38WTk6+gsxjrLGOsakpA08+uVZ4Ksvt0/bINRQlnJk6NvWHr7Fnnfm5DAB1OaLM9VpzOV6X9uC3v/1tvPzyy0hN1V3eMJfrP4rHLgPAR3FWPkd9WqoA0FSdPL4AuLFw456p6ac9zQSA/FyfRImpS8LUfsnXI5Glt6dnViSwvaUNue/+CeXNtvCPOwiXGY4IfKkzwkIGbnd3i6jvo3+vq6sX3N39wZczBZgdHX2xcmWySHnKhfYT42NA6TUgej0aB2yhUmvgZdsnSCkkqbDejxG6mzfPobt7AI6OnjAzG4Za3S9etj4+IcLSTJ9o83RQ1oPy8tvCBaSlpVXIswQGBokony7CBs+trGQd2HU4OTlg3bptAnzJjVHTkpLbaG6uxPr1u4VPrnYj6YKRwKioWBF5m9k4bqxrzMw8K86Ni9s8GUHmjwvOn/wjgO4jjP4R+MpNepZ72L37K0YZuqyRvHs3bZoA9BQ41C0ETWBz8uSvsWfPtyaJL4bWHuf+6tWPcOyY/iJ5GQA2NZWjtDQP+/Z90+Bynqntp+/gzk4C4hM4cuSlyUMIANvbm5CXd0qsu6ioVFDXj2Oxc6dEpNDXWP9H279tW78sam35fdQHcsgqLi7Oxa5dXxX1dLp0IzmWqqEhwc43N9fg3LnfYteub4h6UmONz+bp2YB9+zZPO/TTBoAz+yWDMe5L2tFCWaxam3XMsVoMUCiXyDxsAKhLe/CZZ57Bv//7v2P1aqnE4IvWlgHgF21GH/LzLFUAyGE2JJMii0br0vTTNUUyOWOhANBYv3TdWzk4CAJQTy8vUX937145rl+vxmC/K3xGRjFhaQP7iFUwV0y3JtO+FsELSRO1tWUoLc1Bff19hIVFIiAgRFiF+fmFC+DGF+VEfxfQUglNxDqUNFnAzVYNV9sRaCYgInX5+Wloba1HeHgSVq1a+6AGkNdvQ09Pm9D56+pqhK2tFby8AuDrGy4YxtovYQLI8vI8AVIZoaQsC9OEjKrRPo5RQWtrC5HqCwtbPesFPjysQn5+LpqbyxEdHY+VK5PE2FDUmgSOqqoyISuSmLhpVqSQkUS6eUifzUy90q/YTNQzpqV9jHXr9iAgQIq0aQPAlpZGXL9+VhAxWOeo3XJyzkKlMsf27U/otaTj8XfuXMPwcC82bJjNpNUXAeztbUd6+ocGAZ12XyieXVp6G/v2fUPvziMDwPLyXHR0dGLr1scN7lISsDtpNGInkVVKsHu3JAHDRtJRVtYHWLlyHWJiJBHt69ePw8LC1Sih5ObNU5iYsMHatTsEw59uz5Rp0QXu6D/s5ERtxbWzAKCI+g2rMToi/eizsrbG3bsZILN8+3bTasnq60n+CEVg4HSWuq46tU9zy9cVjdOOEsqpY7mWcDGihDIA1Pbk/TSfUb62Lrmbxx57DH/6058QFGQ84v4w+rjY91gGgIs9okvseksNAMpCs5xmfTIprKNhenWmpp+hpUGiBNOjprD7jC0xQ/It+s7t7+sTmn5Fd++jp8cRPj4ELpKoNOrKMK6wMggCuWmXll5Defkd+PpGIzFxs/Dd5Qu5qakGg4PtGB8fEWlTdzMN3J19YBuajNo+DyQEj0GlHEBV1S3U1hXD0zNUsDrp/Su3kZFRjI+PTUrYECw1N9ehufk+2ttrMTY2BA8PH5ibK9Df3wmVSi1IIBTTJXuXTVtCg+fX1NxDdXUh1OoBhIauQFRU4qy6RgKx27evwtISImpoZSVJdxAUUPuOAsirViUhOnq6rAk/y8u7gs2bD0yTmtF+gZeVFQnLOyma5zgJAPkSvXTpA5FKpk/xzMa066VL78PbO0aMs77Ga4SErNBpHacPADJqW1FRgj17DDt1yPck2JdA3TGjADA//wI0Ghshsm2okVxRXl6IvXsNawBSfkapVE9KwPT39yAt7a+CZZ2YOFWHSa9g1k6GhU1P6c/sw9mzr4rUNxnKcr0uawMtLCwFiGMEm+CdEcqzZ1/D7t3PCz9kOQLI7/uIekTUrPLfCB75X+4Z9DWOj99rlP3MPvX1dcDCohjHjk33LOZnuurUjO0HC/nc1GicLEOjzTqeb5SQ12DW5GEDQF1yN9u3b8fly5cXLPe1kDn4NM9dBoCf5ugugWsvZQA4k7jBDY8bNDcvRvJY02eqbhtTi3xZyBp9C1k68wGA7HtmZhYKC+thYcE0rAs0GlvBgnW0d8FYTTHGLRgJjJkVdWpvb8Dt2xeh0VgIz1tf3+lRC26sTGsy6kXQ1lWchY7xUfSOKWBh4wE/1wnU11UIH9aU9Xvh7z9bS0+yaRoTmnu6WlFRjiCKNDc3wcPDHQEBgQgMXIGgoOjJVKYuqydei+nBiooCUXcYFBQiUoey7h8/53lFRTdRW3sXQUERWLMmdTJVT3mXa9fOIyIiWghMa7eyskKRet6584nJNDLXBxsBJP//xo10IaC9deuTAlxQiLqo6Dq6u+sFMNS3fnp7O5CefhJJSYcQFDS7Vo99PnXqdWG55uQ0vVZRAhK6U8BFRVcxMDAitA9NaTdvnoG5uWFhZzkCeO3a+w/IJSkGL00NwN7evkn3FH0HZ2d/CEdHf1FbqlINCfDn7u4lRJZZjsAmpbR/id27vyUIRfqa7BRy+PBL0+r5xsc1ghE+OjIitF04b/fuZYto3ratT4gfFfx3zQNBZv6Ik8CixeStKipuorq6GPv364+Saverru46du/2QXj47Hn9rADgXMGYvighn1Nbgob/PzNtTADI52QK+GE2XXI369atQ3FxsV5ryIfZv0/jXssA8NMY1SV0zaUMALWJG9qafty49HnJ6lsa3Hy4EZL5ttA2X0ax8B1tbcXI6Kh4cd6/34SmJpIwzDE6ags0tsDa0Qteq9aJGinW+RUUpImUKkkeMTHrdD43UyscD5EuGuqHbXMZzFZuxLXidlQUvQNlb7uINnp4OIview+PAGEnx5QxPVFlEKYLALa03EdxcbZgNEdEJAixZcrCUKS5ubkaPT3NcHJyhJ9fmEhD29o66h1jOoaUlt5CW1sN3N09RCTJxsZOjAVbT0+n0PxzdLTHrl2PT4JEnpeV9Ynw/U1M3Dpt+m7evIqOjgbs3v20kKThi032ACZYYD0gnUL8/cMQE5OCqqp7QuqGaVJqDbIeUl9dFVmld+8WYMeOr0xGOeWbNzXV4c6di3jsse/oXE76AGB29nE4OQVjzZop2zhD6zEj4x0RiTQk7CwBQCtQsiUycjNCQgwTeUzVALx48XeIjNwkGN6UymF9JxnBZPXKAJBWcaYQQO7eTUdXV5eQ6NHVZOknAr7z5+kUsg1BgREiUigLeyssLGYBdq6dCxdeR1TUZpOYxYxeA0V44ontOr9L2p7YC90nTDl/MaNx2lFCOXUsRwm1U8cikjoiyfI8zDZTeoZ9IwAsKysz+Yf8w+zvYtxrGQAuxigu4WssNQDIzUkGBKzbkx0duGERvDHyN59CaIIkbjiLsekthFFMINvR3i6Ywdyk5V/yrHdsrG9FXWY6WpVWMPOMQFFRPiwsnLBhw0FBzjAEbuWN3qavFWajQ7jbr0LGjRtYFRqAdWu3YHREA0srczCiRsBE8WWmZim0TBanu3sAXFx84ewspXMZASsszBCeuQR+MTFJ02Rb5L5Q64/pWEq+tLffFxFEsnuDg6Mno3IC+LY1oK2tFt3drYINTPeO1tZG4b/KtLWjo6tIQTOtTaIHgWdU1GqEhkYL4guBZWFhLnx9KSOzc3IoeO30dEbJJrBp06HJFB4jvfL4Sr6/Z+HvHwPW1KWk7IG3d5BwtGCTfV51+b1ev34e/f1jgilMsCi3/PwcDA11YuNG3alZfQDw/Pk3EROzw6RUJe917twbWLOGUdtQvfMvA8AzZ17Bhg3PGFwrvEhGxl+EzqQxt5CPP/5PbNnyVVGLOTLSg23bnnuwXqcAYFkZvaGbsG2b4dq7ixffQGhoMlasWGNwN6ftHb2eWfMo61Xyx40+v+zS0mzU1VVg797njIIIfkfq6nKwd28AwsJm6xWyY58FAPw0o3Ez3Uv4d7nJXt+6ooSL/crVJT3Df0tJSUFpaem89vTF7uOncb1lAPhpjOoSuuZSBYDcHAi0uGHNtHCbz/RzYye4nGuqRde9FkooYTSSNYGOThLY0u6TanAIqhvn0KBSoNncGjCzR3NzD0ZHqZnnDGtrFxEZIyDi2MiCznxJ2lhbo/v2OdxurkHLkB3Co7ZhU2KYSLGyBlJb7oL37e/vRUtLAzo6GkWd3/Awhbc90NPTIqI8oaGJwoLNkP2b9vgMDg6guvqeIJAwMsS6QcrCsG/W1g5wd/cTPsaUHiFTk7VcZPySMOLl5S2s42xsHMTLoKKiFIWF12BhYSbOoU3d2NgoBgf7Re3igQPPTtYwMj157twH8PUNELWNPJ8/FOR6Up539uz7wlP3ySe/j/DwWNFtGXzLL0kZMPJ8GQxqNGNIS/sQXl7T6wEvXXpPAF2CY11NFwDk9T/++P8TtW2G0qXa1zt+/JfYufObcHaenWaeAuHDQprlzJlf49ChKckWfd8TevEaA5WDg904d+5NBAcnoKOjHDt3Pi+itTPdVLKz34ODg79we9HXGHW7dOmPOHDgO3qlbHiupIf5G4SFpSIqKk5EwAcGesE5MDObeADWCQa5niSAf+nSmyIlbYqkTkdHPVxd63Dw4Ba9YFGXVMl89htTz3nY6ViZPMfvBoGfHC2X17vMOp4pVm3q8+g7ThfZhfO3fv36ZQC40MF9hM+f+sn8CHfyUe7aUgSA/EUskzwI/hYDtHFj56ZHN5CFNgJA9mu+hBIhJdPdLfpja2c3q09DA0OYKLgEtZ0XXBNSMK7RCNcQESVs7BJ/+vrGMDrKiKirqCO0sbHHvfxLqC2+hsDEQ5hw24pVAQo42kp1k7TjcnbRbeHG8SAJ5MaN86iuLkJvrwre3m6wtlaINCk1CJniZSTOUCPQIguYgK6yshD9/Uqo1eNwdKQmoI+IetFBhEBiOnAcFExXRufoAsJaPwpFM2WUm3sZIyP9WLduB1gvVl1dgaysi3B3d4KfXwicnLwEICbILCm5gbVrt4qUJTAh6siammrR0FAh/I9VqjF4enpj/foDwkpMV/2fnEbTBoUUsmYEcd26xxAYGCFq1s6efUPIrXDsTQWAc2UADw724ty5P+DYsR9NSvzovheBUheYXjYkFyOfe/z4z42Cyqame8jI+Bj29nbYvv1ZODtLcz8TAJ45899ISDiks65Uvh/dP+j2smXLEZ1jRYBIZjLFzJuba4WQOdesNAcTsLCYqvmTpFKoFTqOlpZKKBSMOEcJnUkbG0c4OtJS0A0uLt7TajMpkt3amo1jxxLg6alf+1CXVMlC9wvD35kx8SNuMTITpvaTcyj2ngee5dpRQjl1zGtpS9AsNEqoi+zCfZQs4Dt37pja9c/dccsRwM/dlD1aHV5qAJBAjWCH4IqbBl/Si1G3xxcKN77FAICLwSjms7W2topIlbv77OgOQaCm4ApGbVzhkpgKM4VCLEz+Yicw4hjxmTo7+1BZ2YzCghKMtHQgKCwJFkFbMGbmilUBrG+DANN8ceoD0iSZ0Pt3aEiNtWt3IiQkUtyLqVMpQlgvCBxWVhYiGkeXEoIsbaeS/v4uFBVliXpFfs4oG8kTnD9GBmtry4WV3MBAG7y8fESKOCAgYlod1sBAv5BWaW2tRkBAkBCLdnBwRUHBTdy/X4jY2HWIjIwTkctLlyg9YgYPDz8olX2gXRzJORSmjohYJWriOLaenj6iJo41j0wtUx9w3bpdD0Aio4ASEDQMCCdQVUVbsgJs2/YldHW1obz8Gvbt+xvBipYihtN/6+qKANIbmfI2pjKAW1qqBUP60KEXDG5KXAetrVW4d49yMYY1ACVQ+TujoJJgksSfY8e+L2SA5KYNAKVrvSF0ArVdXbQ7y3X+ySevYvXqPZPriv/W0iK5yUilCCOwsXFBU1MFoqK2CcIPWdvS+jITZSAzU8DV1QWgpV5qKsW+xzE0NAClku47PRga6hYC5+bmjK47CUBoY2OJPXuCkJQUb3AsPwsAKJe3PKw3jzZbX9c9tX8Eyaxj/ptsaTefKKEu6Znm5mZQCPrq1asP69Ef+n2WAeBDH/Iv1g2XGgDkhsNfxNxkFrNuT5jSq9VwepB2XcgqWSxGMe3i+CvYx9dXZ42TanAYIwXpgIUl7OM3YXRiYpIBTVAs10KKlHJNCdSVt9HkvRbnbgzAzWIAtpYOMDd3wsSEpXARkeVa5GdXqQZRUJAuoi5hYYnC0s1FT5RwbGxc1PG1tNQLQDgw0C6uxxc1I1scWx+fCKEHSHkVfY21fzU1ZWhursDIyCD8/AIRHLxyUvBZpRoWad6KikK0tFQJILh69XoB7m7dSoe3t5ewBuPfZXZwQsImAXBJTsnNzRDRJGr42drai39n41gxSki/4IqKO0JgmKCFHzN9yvbg0AdgTgLP2lHC3NxzUConYGvrBEtLMyQk7JqMUslpY/m/BEoScJnSdiwouAKVyjQfXPanoiIPTU18lqeMAsDq6tvo6GjXS7KQL9DaWoPbty/j4MFv670m5V7effffEBAQjwMHpkvFaAPAmpo7qKoqxp49+uVkKOhcVJSNgwdfwMBAJ8jYJXmIkTsvrwhBziE4v379I2g01rPkbmSGszYAJKM4Pf1PiI/fj5CQKJ3PQcDR19eD7u42NDaWw9+/D9/5zleNegrr0qpbyF5h7Fx9zHlj5y3k8/n4HUuR13HxR1+UUE4j6+qbrlR3RUUF/vmf/xlnzpxZyOM80ucuA8BHenoe/c4tNQDIzUV+ySxm3R43PV7P2Vl/GtTU1bBYjGKCJkby+HJjFFAXuUU9PIr+/BzYj/ZAHZoAR186fkxJYLDPqp4OWBenwSwyBTcHw2GhAGK8B0XKuLOzG4UFFVCyHA+OQlLE1tYVjPrdu3cDLi7+SEraDnt7xzlpg9FOLj39A0HkYF25h4cLvL194eTkjYiIWJNcREgeuH//nkjlaTRqkcZjbSOjd6z5oqxNa2sLxsaUcHPzRHz8FpSU3BHAcevWgyI6lJFxBpGRqyZ1ApkavHLljHAZSUzcLuoGpfGiBIz08srKuiCiyqmpB8XYc9wl8MeXHMHgxCTZQV4TfLlRZ5F+wa2t3di79xnhliIDR+2UsVxoz6ig9FJUiP9mZVGmJQqrV681aamRZTwyosD69YZ9UgmSioquALA1qgFYWZmHhoYa7Nih27WD6e0rV/6Kzs77glASHr5qWl+1AWBOzkewsfFAYqJ+67UrV94URKaJiWEROfXxWYnQ0NXw85v6kUAnkbKyW9i9++uz6k1nAkBqBKalvQVv72gkJem2A9TuMNPLanU+Dh9ONklr7rMAgNrpWJMWxgIPWgy/45lRQnn9y1FCmXUs1xLyGWemum/duoXf/va3eOeddxb4RI/u6csA8NGdm89Fz5YaAJSLlDk5i5m2lWVkXFx012zNZTEsVmSSoJTXop0VLdpmpro5Fvx8aGgYqsZW+PUVQe0RDrvwlTCzdZSiW33t0JRmY9zVD1VOG9Hca44tUWOweoARRbqtuVmwjkmqoRQHU8a5ubdgb+8LL69IAQjt7Z1BNRZHR6bd9DeJuJEjagXd3UOERhyJI/QFrq+XpGGUyk7Y2FjDw8P3gTxM2KTcjPaVCULr6+8JVxLW6/X1DUCjGREyMAR8jA6Zm1sK5nJlZbFI7Xl6uguQyMhaauouQRrJzj4nxKKjoiSGKSM/Fy58hNhYWpXFTYviccykFPJHSEjYLqRw2AjSeE35xSUDQokYMhUlrK4uw0cf/QZf+co/T+oDzkz/8ni+7OTooUwuuXDhLSQk7BOMXvnFaIjRTsDo6hqO1atnW95pjyO/JzdvfgwPjyjExBgGlwUFFx9EIaeEnLWvdfXqCYyP94N1j1u3fg3u7t7TFgNrRRkZZXRTqv87qJehXFaWjYyMDx84xawTrh4E+dqNaV9qHaakPC5qOmc2bQDICO/Vq2/Dzs5LiFMb0wBVKnvR05OHQ4di4eurn0WvfU9dYsVz2RvmeuzMery5nj+f4z8tuzs5SihHCBn1k75bLLHgDzDNNO3WjIwMnD59WoDAL2pbBoBf1Jl9SM+1lAHgYqZt+QuUtXuurvrFak2d0sUCgDIoJaGkr7cX3j502pBShjI45N9ZIE6A0tLcD9QVwXukXtjHmZtNwGx8FEqfVSieWIX+ESukRozB0WbqSTiG3V1d8PXzm/Z4HA9GCJlKra/vQENDJ3p7WRjuAxsbVyHLol3jx5NZw1ZcfA1WVk7CY3emIDU3eFnslani1tY6tLfXQ6Xqgauru5BecXf3Fd7GdXVlUKtHHxBMQkUqmOSQvr5eASRbW++jt7dZMIZ9fIIFkOzu7sL162mijnB0VLJ8W7kyDhERa3Dz5hVhDUf/YT4baxeLiq5h164ndTJuy8tLhKvK3r1MC1pPprbkSIZ25I7AUI4SskaxtrZQpNapD8g0s/yS43/lekCOOx0u5BQwre9OnfoN9u59QTwn7yN7u2rL0GgDwgsXfi9q4uSaTH3rkyApPf2PWLlyqn5T37EUi3Z0pA7hbLHogoJsNDUV1UTiCAAAIABJREFUCjCWnv6OzjpBGQAODfXg8uU/4fDhl2elVcneLSy8hOvXz8DdPQHHjn1dJ/tXAn+nERu7V6+GH6P2/H6oVAPIzn4Htrae2LjxMYOkGD47wV939y3s2bMCISGzgaW+8dElVmzqvjCf44zV483nmsbOeVh2d9pi1dzr5Mj4+fPnceLECWHDxxIYAsD5Eur4rASSO3bsmEak4T5fX18/ORTc51588UWcPXtWfO8OHjyIV199dVEyQobGexkAGluNy58bHIGlDAAXM23LX6OMgM2UQpnP8lus1LQMAJmWJkgjEGAkkACTn5GlN1P3UD0K1LSMor+zD2MaMwxYumNUYwEvxxHEBZvDRjJomGysVxxWqeBhgPnIg3k/WtVxk25s7ERDQ5cQqKb0zMSEFYqKMkWEcNWqVKxYodu4XQaAM4k2jLiVlxc88DCuFCLQZPlSOiQgYMU0VrD8cuJLn1HBqqpSsG6NkjK+vn7CeYT1iLdvZwutQAIDOpMwmkcSREoKNfYiRB3fzZtZQtJm586ndIr+pqWdFqnvlJR908aMzFOmi5kOlgDh+ANgRwu594QgN/s0PGw1WbMmv+ykmsMJ0UdZv459oXfy9esXceTI98S9dLGNZSApA8KTJ/8bW7d+dVYUbuaa5ZjRCm3r1q8LwGyoyeLOM8Wia2vvIT//E2zd+iwGB7tQUnIT+/c/P+tSMgCsqKDvcNss/b+GhlLQQm5wUAkLCzscPfp9nXV3lOS5ezdTWMPRL1pusgYo/87x43eN9abXr58QNYPJybuNRv5ISOrvz8fu3XMDfxJwVAowok93cD77haFz5lOPt9A+PGy3E3l/4dxybKn7x7q/zMxM3L59W/xgS0hIEJIwTz31FDZu1C8ppOvZZQDIPV5fRJ2Aj3vcu+++K757X/7ylwVgJBD9NNsyAPw0R3cJXHupAUBOqZyiWMy0LV/krLfjL8P5CElrL7XFSk1rRyVlgWjaXBH0SVG/KQLBzKVOnKEcISsYUEwMY0Kjm+FMuRm+zJyM1D7OHB/574wS3rlTjOrqFjg4eMHS0hNWVtQidBMEEO0mA0CyjeUxpn7f3btZAqx5eYWLWj1GiFpa6gQoUiq7hPSLt3egiN45OEi1kDKg4lgQCJCRfP9+uWCKsgaQEcWJCXM0NtaCaVmFYgIJCVswMaHCli0HBWgiCLt8+QQ8Pb101osRmF6+fFzUAvr66ieuyGCNAtaZmSewf/9zAhxevXocgYGJiIvbOC3dyzQ552eqvnACFRW3RD3j9u2SYPLMuZ2pSUhmMyVgDh9+UZBVpDQaU9SznUuYrr14kXIxPzZKcjhx4hfYvPnZaaCSQDsz869ITNyF4OBYUU9I2RZG2mY2CQCaISvrz/D1XYOVKyUdRPon3779iSAJBQWtRl1dPpKTHxdpfLmxfo/MZkYhR0bG4OzsKZjpjOZyzFivyVpNubEOtK+PouB1CA6Ogbe3H6ys7ITkESVfuP7s7V2FRqKdHe0VzQUBaHz8HnbvXiVExufa+IOJP7weFgBcjHq8uT7jwxa7Zv90AV1G/rjujx07htzcXFy/fh2pqal49tln5/RIMgDkHqpr3vjDNjQ0FIWFVBKQNECLiooQHx8vooQBAQFzut9cDl4GgHMZreVjZ43AUgSA3Cy4MSxm2nYxAeBipablqCQjgIw8CO2z8XGRCp4LSDXUH1rPEfwZ80AW2oQ9PaJQXp8+3pQWIev9OgUjdmLCaRIQ8sXM6CVf6nQIIfCrr6+Aj88KIfJMoDezUSKGtmoEgx0dtRgfVwvGMuvBqBlIjb/29kbhNNLV1Szq+xhd4jM3NNTCxcUJZmZ0GmkWJA1alMXFpWDfvqfFuT093UhPP4GUFEq/zHbTKCnJR21tmXCSMGYvmJd3VYDPDRsOifXZ3t6EzMwzSEo6DB+fwEngyvGTXRZkYHf9+ilYWLgJBrMsqSHPscwc1h4bpsDz8i7jwIEXJpnGU+QSqVZRJpk0Nlbh9u1LOHr0RYM7KAHY6dOv4ejRH04CRYpoX778FyGkHB+/S5yfmfkO3NzCxJzpAoBqtRJ09tiz5wUhxk1Wbm7ucSgUToiP34q8vBPw8YkV7jFke7e13Ud3dxO6ulqgVA5CpVIgJWU73Nzo8OIAa2sb2NjYPoiYWohxJEM9L+8surq6ERe3A66ubuKHA/urVg+BzzI01C/Ey/lfCo5bWlogJSUMhw9v1SmtZMrrZaZdmSnnLOSYT6sez1CfHrbYNfuiC+j+4he/gJ+fH154wbDMkbHxlQEggRzfHatXr8ZPf/pTbNkikZNOnjwpIn58bu3GaOSHH36IQ4cOGbvFvD9fBoDzHrrlEzkCSxkALmba1hjAmctq42ZGsLZQRjEBLmtg2BjpIkjr7OiAja3tnORq9AFAmQCiT2ZG+5nnOj48XiaVNDd3oq6uA/39GqhUlgLM3r9fDHf3YBEd+//Zew/wuK4yffydrlHvsiRbllXcZFtucey4hRQnIaRSAiEkhM4PlqWThQC7LCXPwo9dlpb8ISyQHyG0kJAlvZgUO3bcq2zLVrF6LyNNn/t/3nN15KvJjOZOUXE053nmGZV7zz33nHPPfc/7fd/7MaAjUlF1wpzo7m5DZ2cLOjvPCuBAP0KCq9zcYlRXr0FRUalIXwcYxWLf29shNAZbW8/gzJmT6OnphNvtQGlpAf75n+8TTGFd3TGcPr0fO3a8900i1Lzus8/+FQUFJSIaOlwhm/i///trASSLiy8ASaYtO3HiKLZufbdgpshASMZQAjv+7YUXHkJV1WZUVCwTl5CBIRIgStZTOszTRNrS0owrrnjPeJPUevlhYIpqnibT2Nh4BDThXn31HeMZTELdB83Wb7zxDG644ZPjbWAkt8UCbNv2vvFT1OCOG0KKO5MBPHNmD9ramnH11e9Dc/NxHDjwDMrK1qK6eiX+8Y/fYWTEg7y8XJFOMCMjX/iv9ve3COmX2tq3CZ3GyUpj41EcPvwScnMXYcWKTWK8gwNttOcTLNbXv4rCQiduueW6uJ7LuQAAp1vrUAJAuc7Jsfu3f/s3kQv4tttCR6R/8IMfxG9/+9uwU+Xyyy/Hiy++iM7OTnR1daGmpkZsQB944AHce++9glGsra3FQw89hC996UtCd1Vb5s2bB4LQ22+/PdLyFPP/kwAw5q5LnjjXAWAiWTv2Jc2ZBG3xmncS4ZtI8CezndBnjlGVLKybILCgkObWIIe+MI9EuPYQpA709wudQT0lnv4hOCFD2NDQgIMHj8LlYlQtU91RM48m4xxhsgtmNglgaLohiOX9Mk8xwRpzBmdllcBiYd8ogkFyuYaQlZUtTIcMKKF5UbJ2Auy2U9rmCB577A8CGKalKdi6dTtuuOFOHDmyTzCF27a92azZ29uFnTufEObZ3NyJUa+y3+iLSAmV666bKLRMYPjKK4/D6TQIQEQWSn1uVZAnZY3+9refCdNrbi4BkXE8y4KsXwsI+Tdmz3C7zdi0iRIwqtk3FAgiINy/nyLeHmzceO14cMkFk/EFszHbzwCbK698r7jsnj3Pob+/EVdddTfMZqv4GyNtn3jix3jHO/4pZOAGAeDOnb8RGoGKMiICaVav3oHh4Tbs2/cUFMWMBQsWY8ECijmnoLHxkGCWKyrWYdmy0PmkZR9QWPrAgacxMNCPFSu2izzQnMPcHIUDgAwocjrrsHFjGZYvXxrRP3Cy54BzmM8ko/EjRRjreZ70HDNdARnatky31I06r9SgLY6lLARlzARC/7xQhWMhGdJQ/+d6EU7Yn0EhNCd/5zvfSTKAeibiFB2TTAUXZ8fORQZQRoxFy0pF6mq+iLhgRDL1RaonHt9E3hNNEVwQaYLgd7DZlaDN6/MhPz9flyk4HABkvmECTUrA6CnxAEAV9FwwI3OxJ7tJ2Zm2tm40NfVgeNgPRckYMxnnCAkXaRoaGurGiRO7QTBWUrIUK1ZcIrI4qJGyKqCiH2BbW5MAh4ODHVAUjzAjFhSUCpaQEcYs9Bt78MGf4dChfcKknJ+fhdzcNLhcfYLBu+KKW98UGbx//y5hotyxI7T/0dNP/wELF1Zh2bJLxDUIvOi3pjqeMxLxL8jLW4ING654U1ezvTt3Poqbbvr0OCicGG18QX5GMoEvv/wH5ORUCTOqGlgis5ZwSZ0ICHfufARZWQvGzctq3Wogi9ZsfPQo0+qpoPLUqYM4deoVXHnlXUhPzx1vM30sDx3aGVYourOzGf/4xyNCx6+np1vI/TB4xGzOEn54VVWLRRYORnlbLGnIzMxFWlrmeNSu6hdpFBHS/FDz0WKxCx/RwcFuAfoZ6EEJIeaPls8J+1hb6C/Y1nYSeXmD2LZtFQoLJ09TqGf+SwBI/9toXDD01B3umJkIyJhuqRsJAKVrhOyLT3ziE/jkJz+JLVu2xNOFIc/VAsBQPoD0B2TgSdIHMOFdP6HCJACMs3+TALA/Iawdh4EMFRd3vcxauKGL1TdRAscL0i7GkH53fGnTrMGsJXpyhIYDpN3d3Ui125GWPrm2n7zPeAHyZIBd1d+TgLAH9fVt6O11CjkVpkcbGRlFeflKLF68Smj/8YUvU06xfWSe2G+SDSLAIVjs6Dgv0okxawgzTdD3MDMzTzCOg4Ne7N17HCMjXsHqUGw6EBhEQUEWSkvzUF1dhdraLSgsZLCAgqee+pMQsZYgT/YLWbODB1/E299+twAsZP0omKy+0FR2amioDy+++BcsX341Fi+eGCVNRrO5mUybyrzJEqybJsEa7/u55/4HK1ZcLSRgLmgS0ueSZt8LgJB1vfji/6Ci4jJhgg0u0mzM81555RHk5FSIvjlw4O/YtOlWzJun1SSkc/wLGBoaxZYtb2ZK2b6//vX7OHr0VbhcFNi2C/MuM6OsWnWJ6F+COAbn5OQswtKlK0WUtTYYhu3g8+P3+0Qfdne34OzZAxgacopxoAYk/fo8Hqd4Ti2WFAEi2WaOK3MSm0xmDA7WobY2B2vXrpzAKsWz3M4EAJyJgIzpjnTmmITyO7zjjjvwrW99S5hp4ynPPvssqquZZ3yh2DAwuOSee+7Brl27sHbtWlE1/fy4Tj788MPjUcD0VU5GAcfT85HPTQLAyH006RFzGQCyY8hKEQjFy9qxLvqs0c+ODvrxFOm7p1dSRvVvCy3tEo5144LJCF4GhEQyWXNho++SVuNQ+v8VFhXpBrzxAkA5XpOZ2WUuY8mAkSF85ZXdUBS7YKcApq/LFqwRIz3JYl1I0aaaTlXBZpMAEefOHcW5c4cFgLRac2G1MpjAJ4AI4AVz8u7efQwOhxXFxTUwGm3o72+A2azAaPTAZvOhsDAbZWXFsNuNgmG84YYPCe1BFrbz6acfQXl5NZYt2yBM9ASAnENms5pFRJbW1rPYs2cnNm9+t4hYlYV6eGZzNtavD+9jyGOlPyDH87HHfoTt2+8UwEerE6iCYorqqqm5OBf//vef4NJL34XCQjWaUTWXvjmV3VNP3Y8FC9bhzJndWLFiK8rLa8dYQhVQ8jqvvfZ7FBUtF4LSjEQmsD51ajfq6g5iaMiH1tZumExFIshi9erFuPbatwu9xlOn9sLl8mDRojVYsmR1xGeMUcOHD7+CpqbjKC9fg5UrN06Yp+xnpqTr6WGaQYqhD4DyLhQZnzfPhI9+9D0oKyuL5zF+07nyOZ1OBnAmAjKmO9KZHR3K75DRvwRrFRUXIsVjGdBvf/vb+MUvfiGsDVzfV61aha9//eugj6AsWh1A/o2mZ+oAJiI16GRtTvoAxjKiyXPGe2AuAkCVIVBV5PngcqcWL2vHushAkUHS+qHEMtVkcEokSRm+0KWgMwFsKGmXyUAXtQH5aubLdrISipHki0WKS+s1ZyWCIQ0HaNkX3J2zXTR9c6GW5k72J//PFxP7o6OjBw0NnejsHBYMIYEdgRBNxjQfut1OnDlzAI2NJ2C1pqOiohbV1TUTQAcBUn9/Nzo6WlFffxzPPvuk2ABQZsZuL0F6er6or6+vBSMjXQgERoVZ2O0ehMHgRk5OFtLTbTCZKNgcwM03/58xuRGasMP7pJ04sQdnzpwWItGMkGV57rnfYNGiy1BVtVzXdGPwBCNzb731cwLIyfyrqklXEewo+0EF0T48+eT9uOGGT4sAl3Cp7Hjhv/71BzCb00S+Zhnxy797vRRJp/ZjHZ58ki/FEgwOjsDhcMPp9AodSPr2DQ0NgspEtbXlqKlZIkB2X1+b8NMsKFiA6upVIvKakb3MLCP9CoNvWjUzvyRcAZiuLy8vtPmW90oXAc6X0dFBdHcfx9Kldqxbt2JKXtwzAQCnOyBjJvwcJQBUN00X0lheeeWVeOqppyKub7oemll6UBIAztKBuViaNdcBYCJAiRxrAkAuQvGozrMuPcEpfGlzcSc4k2bnUEBsMgDIOro6O0OmidPO31DR0vQjZMmOIvNJIvo61P3IgBe+fAjm+RKQkbLS7CmzYkgfSekHSlDY3d0nooy7uykhAhw9egRGox3Lll2K8vIl4yyW1mwsfc0kQdfW1o777/8tmpsbBDNoNrtBf3SyiQQ3o6PDsNkKkJZWKq6RnZ0Lg8GPnp5zSEszwmIJID3diry8HBQU5CMvL0tIkxDoqFlTUpGaStBjxu7dT6G/34WrrrpNsGqPPfYT7NjxkZAZSUKtQ83NJ3D8OANO3izETFBE0ymBHpm+np5W7Nr1uNALlCZzGYks56rqP9mMRx75D2FiLy9fjf5+Rk52o729UWyMnE4PRkac6OsbEikCyZRmZMwXH5PJhvr6XbBah7BtWy3S001Cssft5njOQ2lpsZDgcbtd8Pno3zoigKn6rLFfMoSZmJu4pqYT4lqUdlm8mGn6whuJeK/cMAwNtcFobMGWLdWorKycMv88CQA5R6erTHdAxkwBwFB+hxR+PnjwYES2eLrGYiqukwSAU9Grc6jOuQ4AE2W25ZRhKji+hOIFgJF83chacGGX0i6TRRRGAl3ME9zPNHFFRWFNwcGMJNvX0d4usp7YUjR54SI8N4noay0A1MP6SeCnMlFe8cIngCFDGNxvZBDb29tx4sRJAHZ0dAzB77dBUdKRkkLmieycfZwxY50XQJERe/a8jD/96fci97DZXIzc3KVYvnwj3G4CoC60tR2G290PozFFsIxAigA4+fnLYDbbBFPo93ths5kRCPTD7x+BwUDNSg9crn6RFo7tTkuzYWioHTk587BmzXbU1x8Ven4EiKmpmRPui4EkNHGyWK0p4sMMGf39BFs3jY+YPI46ejSfkomjgDLNsydO7MfixWsEMCRLSNaQ6e3or0jtPH72738NAwNOYQJ2Ov0igEUVq06DzTYfipICBuIAVlRXb0VWlmpOZrDNiRNPwmTy4uqraRbvhcMxioqKNYLxkyLVUpNQbnKo1+dwDGFkZFh8MwKZYNPvN6GwME+89NPS0pGeTt++fOTkFIr+Yv/IwnNbWg5i2TI7Nm1aPSWsX/BGivNvLgDA6TRzs4+D/Q65NlAC5uTJk9MWcT0TsCEJAGei199C15yLAFD6NnEYE2W2ZV1kkyS4iGeKSAAY7OumZbr0BpvoAV00q1IgOi9MVHAwI0mgRP9Byr/oNf+qL/v4fSQloOV1ueizsC/0sn4EUATpetpNwEjAyU9LSy9aW/swOkoTKX1GmSmCfoTpoFAyI4zpo2YwZOHkyUGhCUbGKzW1CCtXbkZWlhoJW1//OgYGOoXYtNUaQEaGGS5XD3w+CnX3CWbL5zMjJaUIBQUrYLcTzFBaiPIWlLMZFmBwdLQHQ0Mdwk8xNdWGkpLSMbDoRCBAVqtTgNZAgLqBaq5hgiizmaxeHbKyKoXeoNnMSHG3MNN6vUxP5x2LPqYvInMvUxCZARTVCASojUjWmQwhc6864fe74HYTLLphtRJYp4l7ycxcBIPBBK/XCa93FCkpeQgEUgT7l5fH62YKgef29hPimamq6kdxcQHmz18uBKI5Thc0CdWIYwLKC0BQjWweHu4VMjUEjatWbRe+lPShHBzsEx8Gz/CYoaEeIehMIe/MzCzYbGkoK0vHunXzsXo1mcLwWXHieZZnGgBOd0TuTJi55dqrldeRALCurk7Xs56oMZ7uepIAcLp7/C12vbkOABPF2sldKF+0XIjiLVpft2BpF+nfpucaekAXF22aglPTKKtxgSGR9QcDwN6eHpgtlqgFcRMBtgnGCODo+xjO1y8a1k9PH2r7gf1JENrR0Yvz53tw5kwTWlq6YbcXYuXKy5Ceno0jR47j+edVfbrBwQGRXiwtrRBpabkCODkcrUhNzRU6hoWFWRgersPoKMFfqmAC/X4HentPCaYtI4NRqWQr+T+at+mnyACVgKiL/m4+3wBSU2nq9MBk4nE54ttkso6leGNkr1eANfoiDg62C8DMaGh+UlLoS+gSUbfMr0sfxqwsZklZKISyCYStVppLe8XLlG1PSytARsY8AX67u3fD6WyAwcD5Uw6DIV0wrWQu6a9XULAENlsqGhsPIDubqfhc6Ok5gb6+ehiNZMQ8WLVqAxYsqEBOTgEyMwuQlzdPZGzR+vkREEqBam6GGBhCX83i4mVYu3YrbDaV1Q2WdJHjx/sgO8s0cgUFTtx2241Ctmm6GDluPLl50hN5H828nOzY6Y7InQkzdyizM9tx6aWXCgZQz2YvUf093fUkAeB09/hb7HpzEQBK8dxEsnasi2ZZLkaJWOClqVMublzEJNMVzRTUC7q8Hg8o65KTm/umtG5akzSZQkrIUOXepHG41tMmvW0JV5eMjuZLPhpfv2hYPz33oT2GgJBgfXjYgfPne9HZSW1EK/btq8e+fQwA8cFgyEBKCnXp0lBUVCn0B+vqnsHQUKNg9ioq3ob8/KUCgF0AKx40NLwizLcERV4vpUt64fePiuMYnEJA1tFxBgYDU50tFGxhSck6FBRUTnobJ07sQklJJRyOM2ht/QecTpqbU5GTU4aMjDx4PAOCYSR753D0CbBHeZesrIUC4Nls1I804eTJxzE0VId582rhcqVi/vxLhYmbDCNTp6Wk5AjfPZU1ZBDOEHJzS9HX14BAoB0WSytWrarFli3XChZQZex64XQOY2RkAH6/UzCKBNVZWfkCEGZnq0La+/Y9DY8HWLPmbULeRUZ9838qS8hoZpUllICQcj4uVz0uvbQMNTVqxpTpNMly/tJ9IxHrg955Ot0RuQS509mn7IdQ8jpci3fs2CHy876VSxIAvpVHdxruba4DQO6QE8XaceHjApgIRoEAkCwNWQsyivT3i2UnGw3DKfwB+/uFKVgbyaw1STP4w2gyTZCE0TtNo2mLtk4tAyrHiu2TOnf8nirWT++9yeP4kpc5jX/960fw1FOHMTDgQ07OMlitGULE2OvtEUyf12uD2VwmzJ75+SXj9yDHmWbPpqZ9AMxYuHCtADU0Abe3v4rBwQZhYna7mRYtX4hTW61q3uK0tIUoK9uEtLQiGI0TJYnoe3j8+JNIS6MZ14fs7BXIz68RoKyj45QwBxOgMu0chZLJmBUVMQ8xzcSDAhw6na3o7j4Bi6UQ8+atEPfGVHFpadmw2bJRXFwr2EFZeJ3z54+IbCuBQAeGh48jM9OMd73rfaitvUSANAI4PjvaHMf00RsY6MXAgGrGVU3G9WhurkdlZQ0qKtR+Yxq/nJxiod+nDf6R2U/o09jVdRpFRaPYvn0tCgoKRF9PNyM3UwBwOjOPTHefco6FMjtzk8pUb6+++mq0j/BFdXwSAF5UwzX7GjvXAWAiWTuadwjYwqUP0jP6fIFJ3T2yIgSTkXT6Jqs3WtA14nAIXz1m99AGs5DlslosGBoenjRgJJFtYV3S75E/kzmRJi2C48kifKeS9Qt3j24f4A8AqWOYi+P4s5/9Ag8//CIcDj9WrdomfNHa25vgdpOdyhX+cykp87F48SaRsYJ+bqoMC3X2GEHsQ1PTG7BYGA1sRlfXIRFYkZ+/Gl5vCpjebOHCpSIopKnpsBBLdrvboCguIXBssXDzQGBGHzyyvMcwPDyCysrrkJ6+ACMjfXA4OuHxOISZlunwAAtKS9cJk/WZMwexdOmlAqQNDNSho+M1EUBitzNVXg3c7j60te1Hf/8Z5OWVCPOwzUZpHV6zAHY7P0U4duxlDA3tEaZkMnkf/vD7hN8i/fWYdUMWydxJLUb5d0Yj79//FDweExYvXi9YPsrZsD8ZXEK/xIyMTJHGj+n28vJKBVs4PExfwBNYtSoPK1YsHX+WpHi0jKKPZXOl53nWHsNr0XUhES4ieq49ExG5MwFyQ7GOZ8+exb/8y78IGZi3ckkCwLfy6E7Dvc1FACj189i9iWTtaN7hJ1bxTwIaAhwuoiyS+YtnGsQSmDI6MiJYLPoEEoDy5d/TQ5OgV2hqxRrlHE1btKwfwRyvyZc0wSnBH/0AVfOeKvMRKcI3nj7Ue27PMNDYC2SmAEWZfpgCZOjceOCBX+PRR1+F1Vos8gEzera/vwNNTftx7twRdHUNIz9/MRYt2gSjkf57qq+fyZQiAOHQ0DmcPv0XAeLKy69Cbu5iARKbms4IGRTmLVb7wI3m5lMIBMiEMdrYivz8BXA4GtHbS6HlNnBqBQIE09kwGGzIzFyA7OwlyM9fLiJ7Wfr7m9HZyVRrufD5LCIDQlvbTiGW7PXSFFuNsjKyhs3CV5GSmjZbCSoqVgsTMINZXK5eeDx9cLu70dV1BD09RwRoTU/PwPXXb8eqVetF1DIBEceSaduYLYW+jTLFnAT4dXW7cfbsMREZvHr1ZsGEymP5zT4aHh4U+ZkHBggIu9Df3w6DwYs1a8px881XoKREFc6WDKEMBNOmslNFwC+YjvWOu97j5goAnE6Qy74PxToeOnQIP/7xj/HHP/5R7/BclMclAeBFOWyzp9FzHQAmgrWToxkrAORLSUq70ARG4EewlAhR6VhN3ARUzPWsCfkVAAAgAElEQVTL/mExGI0ip3A87IVeAChTz2n9HuWLm4Cd/+fv8oXNFwA/M8H6BT/JHp+C9n4/ehwm2K0BlGQbYTO68W//9l089dRBLFiwARs2XDV+msvlwMsv/xpdXV1CpiQnZ4Fg+ygVQykaMlhkuUwm+uaZxfnMiUvgQ/mXsrKlIquJ9HNjP7S21ouoWJ+vE15vG/z+ARiN+bBYCsDr0X8wN7cARiM1//qEbyF99mw2Rsfmighksoz19XswOtostAlNpoXw+5nzmIAxH21tR4RMDf3/hoYcQtevpKR8Qnf4fA4cP/4/wlyclrYemZkGLF9uRU5OimDvyOKxHZRoyc0tQX4+U7XljNdBLcHXX/87fD4DVq++XDB7vM9glpBzgf2hBokoos96e0+gpMSHbds2TsiFrY32JSDj/OaclmLY8ptzT6t7qN1sxLp6c95Kl45Y64jmvFC+cdGcH8ux032PbGMo1vGVV17Bn//8Z/zqV7+K5TYumnOSAPCiGarZ2dC5DgBjBW2hRpM7XwIUyrfoLXzhEKSRidBKu0Rrug13Pa1Uit42aY/jS4QfNctFfBlTIoHRcKxfsK+fZHI4duxzWfiS5kubDKF8eU+HaU9eX/oi8dtqS0XfqBmdQ4DVDOSmuPCte7+Cl19uwIYNt2DRoqXj7aZky65dj8FiycPChdUYHqZMzICI4lWBnVWwgt3dbXA6fSgtvUyAwd7eHlRUMEcu/efcwgxKFtDjGUFHxwH09x8S0itFRRuxcOFGZGQUCXCYl1cuonG17SZzx8APMnYuVzccjiZRh6JYYDIx+KIGCxZcJiKTGb3LbB4EfyaTBefOHUR29nwB5mTp7T2K+vo/AMiC3b4eKSk+bN+ej82b1XR3xGxMBdfX14WBAfXDbCEWi1mYrvk7fQArK9djw4YrBUPIc7TsoJrhRU0xJz9dXQ2wWtuwZcsSwVxKP0A5j9k+CeZkMFjwpkbON+mXKLMGaQGhNCFH80wRHBGscKMyHWUmJFmm+x4lAAxmHZ988kmRq/dHP/rRdHT1jF0jCQBnrOvfGheeiwCQI0fwwBILaAs38pK5IlMWqUSSdtHLlkW6TqJ8HPXIyURqy2RgVMv6Sb9HrUM/6w6VzUOyfvKlLU17/JYsjgSEsby0I92TBKPSBC0zwVwI5AC6hoGOQcDlHMGXP/4u9Han4NprPyxSv8nCTBgnTx5HdfUWLF16CXw+l5BroTnT6RyA202dwBG0tp6g/DQ8HvqKKkhNzQeQCZMpBxYL9QlTMDJSL4BSTs5aOJ0qYCstpczKcpw+vR+VlWvDpiukhl9b20sYHm7DwAClYqjH1wm/fwiKMgqTiakDlyMrqwJ2ezFSU4tx7lwdystXCckXj2cYra1Po7PzOFJTl6C09Gq0tLyBTZsycNVVm8XtBqfskn1AX8CmptNgbuPe3iERrMFUedwYUcyZwR5MCcdvVfdRNemqWXEYHHME5eXAxo2rBesnNwMEfBIAymhhCe74TRO0nBuh9AC181CyzfybBJ2SidYGIoWaN9MNjmYCAHI9lWy8nmcnEceE6leafhsbG/Hv//7vibjErK0jCQBn7dBcHA2b6wAwGtAWaURD5cwN9yKQbFg4aRcCQL5g4jG58tqJ8nFMBAAMBUb5IuXfCcilr58EVZK9iSXCVwIDmfdZ+lVKUCBBYbwMIdso+1iC0VBjHlCA/hHgcF0b7v3CP6Ovy4ebbvoU0lLTxOGMVN2z51EMDVG/7CZh7gxVGKRx8OBjcDisWLlSNYuqmUaGMDw8hPPnj4ro4tTUclit80TkcWdnE1pbjyMtrUKYUwkwmSUjOLioq+sgWltfhqJkwWotFwLQixbVClNvW9tB0cbS0lqkpNgxOtoFt5tMZRuGh/uxYAEzhbAdDChJQVZWDRYt2oGTJ59HaWk/br/9HeI8ujWES89GcHrs2KsoKanB+vXbBetHE21PTzt6ejqEX9/gIM3abmRlZQuTOQNPKBUTCJzH5s2LsGQJU/epEcVawXc53qr+oXF8zGTUsfQFVM3JF1hF+XPwWEggKa/D31WxbZWFDsVATzc4mglNPt4jrxurn3CkNTbU/0P164MPPig291/+8pdjqfKiOScJAC+aoZqdDZ2rAFA1QynCJENza04UOW3DjWSonLnaY0OBnXAAJJK5VO9sShQAjFfDj+0NBoASfPOlSSAsc8xO1HRTMzRIxpTnxOLrJ1kcLSDU+hFqzcZ6+lZGa7N/ySDpFecmvnjh5T340ue/C483Ddsvvwv5OZkwm4De3ibs3fuMCLK45JLrJiS217bp5MnXcPToi7j55q+L1G6yyOAmSsUwZy5BoczD293dgfb2XphMJWMSLVYhRUPpFPrqDQ7uFZHA2dlrUFBQI4JEGhoOIzXVLKRlSkrWCADY1nZICEQXF68QQI4m1+7uOijKKTgcvQKc0beQWUyGhkbg8TTjox+9E0uXrhL3E2q+O50O7N37d/T3D2Lt2qtQVlYx6RAMDFBrsA1dXefR19eE8nILPvSh9yE/n2zoxBJu3HmUGnxiHm+XlumTjCG/5QZEfk/GEkpAKM3GWkComqyVaQNHM6HJJy0rWhkpPc9TPMeEAp3/9V//JebDJz/5yXiqnvXnJgHgrB+i2d3AuQ4AI4G2aEaPwIXRswSTwS86LlIEdQQ5EuxMVneiTLeJCnJJBACUYJT3L1k/baSzfAFrX7rso6mK8OV4aQEhf9fjR6iX9ZtsfO+//5f4+f2PwmYvxuKaG5CfV4R0G3Dq5PNobW1HRcVGkX83VDl58hDOn9+F8vINWLx4izCFSrZLMpzabBj0DWQE74sv/hSBQC6qqjZjdJQ5gs1gTt3BwWNITa1AaekVIr0ds200Nu5HZ2cdqqo2obBw+VjkLYRMTEvLXhiNaSgtXYuGhhfgcBxHfv5KeL3MJGLDvHnr0N19HOfPP40lS6woLubzQPkX5uQtEsEeBQVlIoK5sfE4Dh/eidzccqxf/zbY7fqy6AwOdmNw8CTWri3CmjUrBZibrHBOSX9flYU0jrOE0l1A6yogNyOhQCGfbbl5kKxfKOCpdUvQbmq0m41EBJdMtiGd7swjMwEAec1gYP3tb38btbW1uP3226NZwi+6Y5MA8KIbstnV4LkKAAkq5KIcDrRFO1JchCikTP8jyRJopV0Idmhy0mN2TBRzl6ggl0QEpcgIXgm0IrF+PE4C2FhYv1jGTwsIQ/kRyjbxJU4zV6w5ZLkh+MpX/hUvvngYefllKFmwERl5i+HzDKHuyGMwKJlYu3YHcnMLJ9wGz9u//0Uhgnz27MuoqbkRdnuOeAGqwCJ8Ttu9e58S2UeWL3878vIWCt/Czs5TwnRsNGaKgJHhYeY/7oDb7UNGxhJUVq4TTJ/UJSSwVIWdd6Oj4yWQvVu06F1CvoV9sWDBVpHF4+zZp7FypRl33PFe0bb+/m6QheztpW8hxaB70dt7XkQPV1evxdq1NGdfEI+eDNS0t59BWloXLr98FUpLSyMOszSFsh18BoNN35HcBSSoluZhyeRJszEbIH0CJ2MJOZd5DuuTZmqeqzUZJ9JPdSY0+XiPnAdc56arhAKd1ABkJpAbb7xxupoxI9dJAsAZ6fa3zkXnOgAMBdpiHV1tXXwRcGGSJsJo1fgTxdwlKsiFAJAAI9YIRvYNWUS+PGeS9YtmbLUMDjcMWrOeDBwIZ9bUcx1qK372s1/HuXNDItVZVtYClC7cgLONh9DSeBrZWQuxceNVsGpS7jU2nsHAQKeQRamvfxV9fT1Ys+Ym4S8XLgcu28K2v/76MygrqxJBGbW17x2Tk1FbOjzcjVOnnsfAQAMyMyvQ2zsMkykXOTlVMBgyYbFQmzATRqMZDsdZdHW9LDQCe3sdIlcxBaCLi9eJNG4DA0exbFkK7rzz/SH9/eiTuGvX3+B2m7BgQbVIRUcxZ4PBPybkPE8EexQUzJ9g4magR1fXUSxZYsemTWt1+cfK+R8cnBOJLZQATW4I5KZFyxJqg0skKJSmY9Yv2T3JEgYDFckuaiVoJJAMlqDRM5+Cj5lu3UFefyYAYKhrfvrTn8bdd9+Nyy+/PJauu2jOSQLAi2aoZmdDkwBQZe0o3RJPxg05usyYwShWuduXrF+0oz/bAGA8Ucl8CdPkK1+KFMrWmtbk3/k93ayfnnGRJmi+0Gk+1IID+cKWvmTyxa2nXh5z4sQJfPnL/wGfLxepqXb4fAEsWrQOp06/jgGHDTl5VViyZD3SrIARXhw4sBMVFauQnV0It9uFY8cex/z5G0Q6uckKdfdOnTqCSy99B06ffk7oTK5e/U4EAoy8PSCAFTUIy8u3IyUlA2+88SRKSqgxaIPDQYA2AJfLIwSXBwdbkJ6+BAZDCVpaDiMrKwdpafPg97swMtKOFStScdttt74J/LHfDh9+CQ0NJ7FkyUbU1KwfbzI1/Hp7O9HV1SYYyIGBdoyODiEzM1tkDsnKIhj1YMuWalRXV0dk0Tku3HxJ2ZVIJuJI4xUMCMNFmUsAKK0LkjXkN9tCMCjTOoayBMjraL9j1SScCQDIPpdC7ZH6NFH/5zX53GlZx7vuugtf/epXsX79hTmWqOvNpnqSAHA2jcZF2Ja5CgDlzp5DRgDI9G1cuOIpkgFkHVzkCf70mHtDXTNRpttERTnHEpQiTW9ajS7+TIDM/02Xr1+sYypBxGSBJ7H6EWrb9Pzzz+O++36FoqK1wqzc2lonWDWXywmjqRilC9fCnjkfrY3H4Pf2o3YFs2EYhGZeV9cZNDQcwPr17xb+d+FKY+MJjIx4UVOzUQRzHDz4eygKo2edsFrtqKzcJhhIFo/HDZqLN2y4AVbrhTq9XicGB1vhdPaJPMR79z4qsoVUVNwEkylbgLaSkj7cfPNVsNtV87hkwQhA9+x5AoGABRs27EBeXugoZ237HY5htLU1iDzCBQVOfPzjd+kK1lJlYUbHc3zHaqafbN5o2WG5lki/wGCWkO3hho7HyQw2EhgGs4TB15TXkYAwGk3CmRBlZr/zHuMF3NE8s6FA5zvf+U789Kc/FZuFt3JJAsC38uhOw70lASBE4IZWhDmWbpc5a6WJM14ZhESZbmVe4XijnKMFgDLohS9D6XclTeI0I0twwL6ejawfx5MvMzILsr165oVkeqLVI/zd736H//t/f41Vq96HoqJCnD37OlpbzwDIQ1bWfJSVrUT9uRMor94Kqz0HKRY157DNDBw58hhSU0tRXb0pbBOPHt2FrKwyzJs3H+3tJ9DcvFcEeaxd+35UVGydcB7z7p47dxIbNlwbsj63exTHjj2G5uY6rFnzQdjtVjQ3vwHgELZv3wS7nX6LGbDbM2G3Z6Cp6ThOndqDBQtqsW7dNt3ggJlAhofrsH59CVavXhFxg8a+57wj2JJZdGLdgOkZa+0xWnNusNlYgj3OI1W/UBVXD2U2Zp2J0iRkO6ZTeJpt5zMTTucx2j7Ve3wo0HnNNdfgr3/9q8hb/lYuSQD4Vh7dabi3JACEyHLBxTkWx2Uu5FodO4KcWM2+2uFOFHOXKJkbvVHJkvWTKa9kn7KfpCmVx/DFLBlX/p0vvWj9JKfi8WA7CSAIJAji9QbthGuLHqZI+hEyd+mjj+5HUdElqKpaLpivo0dfEGLO1PbbtOkWVFXVwuc3YNQLjHpoFgYCnk6cPf0M1qy+Vci3hCovvPCIiML1eDqRkpIuZF1crn50dTVhzZrbJrCHDQ1HRZRwTc2lb6qKYtQEf16vHz5fMTZtuhF9fefg9T6Je+55p5DeIKPe1dWH8+d7cepUA5qbu5CbW4GFC2tgtzMzSOrYBoB6ecznzM+FSxEYtbWdQmZmLy6/vBbFxcURh1obmc15FC+bH/GCOg6QmzjJ8mnNxtqMNVqzsQSSrF7LkEsWM5wEjVZ+RganSPArg5WmAwzPFAAMBp2XXXYZ9uzZo8tPVMdQztpDkgBw1g7NxdGwuQoAtSKxsUqcSN82rY5drHUFz5ZEAcBEydzoAYBa1o+MqnSSl/5Q2kwevD+CZW0kpVasN5HRkHqfRIJlmpPYTm4IEuETGnztyZgi3v/99/8CTzxxDGZzAVJTs9DScgQORx/MZrsATmVltSLtWnb2PKSm5cIXsAggyAAOQ8CAVauugc2swO0aFFlEBgc70NV1Gu3tDaitvQYlJatEGjdZDh/+MyyWfCxfvmP8b0eO7ER2drkIGNEW+uQdP/44UlIIMucLMzWjcHt6/oQvfnEHVq5c+aau5rwhIOQmq6WlD21t/XA6jfD5GFSisoTMZUw9QoJB5iru6TmBmpp0XHrpGl1BR3JjIYOUpgPoTDantJsI7cZyss1AcApD+cxIV4nJgkvCzTGpjyfBZLBI9VSYxmkpIOCcimcnXJ8HX5N9dckll+DkyZMxR+nrXTNm+rgkAJzpEbjIr58EgBDRqTJKUM9walkuLvDSqZvnJkIuhfUkirljWxMhczOZLM1krJ8eXz++sKUvXTh/qniibSONaaJZv0jXC/6/NsCA7OMDD/wau3d3o6CAWS38aGnZj7KyDWhqOid84BTFI0Ah/2exEKimwB/wobn5ONIzF8EgslH4kZ6ahdzsIjidXmFKrq1lLt+Jhbp+hw79GWVlW0UGDvbF668/geXL3yaCO2ShyDMDTtLSSrBkyY04ePApESQyOvoCPvGJddi6dYuu25YbEoJCClOfP9+H/n7quKXD57PBYunExo2LhO9WpEjrYKDF42ca/EWSnNF2kgR14bQow6Wyk5sIaVpmnaHMxlIfj+uTFnxqN2RaCZpEaBIyuGiqNk/hJljwNXmvGzZsEABwpueDrocijoOSADCOzkueKswMau6jOVa0DKBeiRPpY0RWg4BEslzartNbV6TuThRzlygAGC4qWS/rx/uVvn584ZElCPfCjsSSRZu1Y7K+ng7WL9JYB4MCRpL/8If349w5CyorL0Fz8xF0d7ehuLgWra2NWLXqbUhPzxpLATcIj8cpxJvp0zc87MCKlTfBYMmF22eELwA0nnoFBQWVqFhUAZPG1Cqv29t7FqdO7cSKFe+EwWDCsWOvY+PGG8dfnsxJfOzY/yI3lxG416GvrwVnzuxDbm4/7rhjEa6/PrSvoN775gucgJAblfnz54NR4lofymAJFo6/NPlOJVurt/3yuFgkZ4KvEcqHlMcEs+Ny2Q7WJJR/J5iT6Q9D+SMHA0JtcIlWgiZaAMWxnG5XjuBrJgFgtDP34j0+xHJ28d7MTLR8rgJAvkBoOmLRk3eXCyRNDfwm8AvnLxiPXIp2/BMF3LgYBotTxzLPggFgvKxftOanRETbBgMtbWYILYsbS/8k4hytHxsZ1x/96EG0taVj4cLVOHjwCeTmVsHjMYOp0GpqtsBmU4NppM6coviwb9+fUFJyQRZmxOnGnr0voHrZtTBZU2E1QQSQ8MP0c7KcO/cqentbkJNTIxjDlStVRq+zsx6nTz+L4uL1qKx8m7jWG288Ab+/HnfdVSXkXqa6aBlSghrpNsB7lxGniWCvYr0PPmOJlJwJnqfBc5/X4/0G5zfWmo25TnF9k8dp09lNlspOG20srxMMCMOBQh7PNXI6AWCoaxKIb9u2DcePH491SC+a85IM4EUzVLOzoUkACLFosRDYhdqRE/xwgSdIiBQRGm20bLhZkSjgJuuJV+dQgiXK5UjfRy0LKlk7GeAhXxJ6Wb9on45QTInUS5OafOFAgZQJ4TVDZYaIti2JOF7rxyad9ru6uvCDH/x/6OrKQk5OIU6e3I3Vq6/H2bNn4PcrWL58iwBkZP+oo0dpmJ6ec2hsPIR1694jAGJ7+zm0t3dg7dorBBvo9gK0CHt8EGwggaCNHzOEibep6TSWL383Fi1ajqam/Whu3o3Kyh0iaITXam+vx4kTD+MDH1iMD32IQs/hM48kol+CN0USaLGPJIslmS6tH91Uugxo2zQdkjPB/RhqMySDqqTvHdcsgmNuVEOZjCW400bjh7qOFhDKZzvYl1A+6xKMcR2NljmMda6EumZvby/e9773Yffu3bFWe9GclwSAF81Qzc6GJgGgKl3AhSQYAEppF/k/PdpWeoIl9MyERAFAXosmxUQAQKm4z36RLKgW+PFakmngz1OVwzdU/2nBgNa8H8ySELwSzE63TMhkQF+myAsViU4Q+J//+Uu0tdlBHT6v14Dly7fj8OE3YLOlY/nyjWMgUDWx83PkyN9gt5egsnITTpzYLeRfFi1aytEZj7al4wfBoMunfvsVQPG58OqL38L8+euRkZGL4aFmLF/+LuTklIvmMwjkmWfuxTXXFOK73/3mtIK/yWR55BzU+tKFY8n0PHt6jmH9cn7P9FzSzn3Ob2kGDgbEwWZj/i4/vGc9moRaQKjNjCN9EHn96QSA0hKhvWZjYyM+//nP47nnntMzlBf1MUkAeFEP38w3fq4CQC58XKxYggMcpEmHgIdMA1/Mene0icrhmyjgxnriFbpmf0ipGzIK0sQz3axfNE9LOFDAOqTZcLpYonDt1qs1SAD/3//9IE6edGJoqAfl5ZciL68MR47sRXp6PpYuvWTCJRyOHhw58hQqK6/G6dPHUFt7pRB7li95MoXqy/6C/IrPD7R1NOPUqb0YGDgGf0DBuvWfR2FRNWwmwOPuxxt7f4ElS7rxs5/9YNpkVjiOkn2ORpYnEkvGsY/VbCzXB47fbJGc0QafyPVKAmKZai7YbKyyx/FpEkrwKWVo+Ltk4mWAiXZTGM0zrOdYXpdrLsXlZTl69Ch+8IMf4NFHH9VTxUV9TBIAXtTDN/ONTwJANX8ld/M0b0r5FS5a3FVGqyeWqBRuiQBucnbFI3TNFwvN2tLMpkahKuNsE68xU6yfnqdHAn1pEuNLSb6sQgUXTIdJk22KVmuQvqW//OVDeP75E3C7Faxbd4vIy3v06BvjIFC7SamvfwUNDacxb95GrFx5Gcj4SVOxGpnNj8r6EBBSUXDPnj+jp6ceVVUbYTSloKv7HOxplXB7FAwO7EPlEgPuufdrKMzPEKnpKESt9SPUMx7RHBNNRG2kevUwxHqkh2TQEPstkjtIpDYl6v+SieTGhiA51GZV60cp57/WZUKCNQkI1TmiPucskj3UmoyDnxUJxtgG7TPG82X90p9Q74Y6Uh/JLCta682uXbvw8MMP4ze/+U2k0y/6/ycB4EU/hDN7A0kACMEw8IXMxUmmLYs1KCBRKdw4K+IBbtpZFUs9EjhJlX0yf/yZpmRpatQCv6ny9Yvn6ZAAgt+hmJpQwQXSl0obaZyolxXvReszFq1cBsHHE088iQcffBxOZzq2br0NHo8Xx47tF/l7ly69dHzD4nKN4m9/uw81NbegpubyN3WjGvvPbBRkdwdQX/8qTp/eidra96OqaqtgB12uXhEA4vefxjXXVuP9H/w4nF4jRtwQH68fsJpVIGjnx6J+069QYMo4SiIiaie7fDiGWAKV4Ehz7UZipk2+8r60G4loheyDAbGMJtaajSVY0waXTGY2lu3RgjHZz5KFlNdJlCYhnwmuudprPvvss3jppZfwk5/8JI4ZeHGcmgSAF8c4zdpWzlUAyAGROlnSvMkddLxBAYlK4ZZIABhtphMt6yd9/WRKOelrM9tZP8mKSH1HPSCOLyutH5k2c4M2v6ueuoIfeK0pM14AcfDgQXzzm99Hd3cKtm17r9ACPH78oGD0li1jKrY01NcfQUdHE0ymUdTWvgepqW/OEOLzedHQsB/t7YeZvRoWy0KR/1cC46am3bDbD+OjH70aq1evFuBSazYlAHR61Iwk8tvlJVukBpYQEIqI4zFQmGKOzBhqzasENXr8bhOxuEpgE0qTj/csQRDXh+lq02T3lUh2VDJ8wSyhZMiDRaq1LKFkCrWAWpqgw0UbS/ApryeDS7TRxnrN8xwvba5x3gtNv3V1dfje976XiKkxq+tIAsBZPTyzv3FzGQDSd0Rr3szOztbt6xduZBMJAKMFbuHapDc7STDrp/X140JLMySP0QrUymwDk+n6TedTwJeJ9MOMF0Bo/ZtkXlXeS7QZS6RpjPXJfLDx9klLSwvuvfc+nDs3gpKSFUKUubOzA319PSgsXIjOzjasXPk2tLfvg8MxitWr3zlm6lWDOdrajqOj47gIJKmsvAKNjWeRn18lsn8MDXWire0l1NS48cEP3oy8vLxxXb5I90/wxwhjRhrz4yI49KqBJoxCNhnViGMZeSyikPm7mSEqPrhdaiaW6ZQSCTcWWtAu/eW0/m1yHsSyIYhn/Kcr80k0ZmO2iVYU2ScSVPJ7MrOxPE7LEGo1CbVMYah+5nWD8x3/+te/FoL8X/3qV+Pp5ovi3CQAvCiGafY2cq4CQC7ujLDkgkVGhuCG/m3xlkSlcGM79AK3SG3WU08oncNgXz+5WHPB5X1qowCl9Mp0BVaMugGHWwUU9EMzGRQg4IXX44TNaokqcCdS/8n/x2I2jIWJ1NseBod873s/wsGD7QgETEhLy8XQ0Ci6uggCK7FmzQ7YbKk4evRRWK1FyM4uwdBQC4aHu5CWVoTS0vUoLFyC3t5WnD17DCtWbEZb237YbKfwzneuxtVXXznBBzba+w++DylD4x6LPJbfLp8iQKMAlwSIFpqWDQIU0sRM7UILP2M/a/MG6+2raI/Tgj8ZfMI6pG9bcMaaYJYs2uvpOV7bpmhNvnrqj3RM8IZImnMlOCbbzrVUy5hqGUKer9Uj5M/RahIGA0K5DrE/ZKHpl/7cn/70pyPd0kX//yQAvOiHcGZvYK4CQPY6d6xchGTWDQLAeHfziUrhxvYlKq3cZPXIlwrN4FqdQy34C/b1kwwbX4wEfJIdCxdtOBWBFQOjQNeQyir5/AoYxUopEyl1QiBBYGgZ++bP/BuBhPi75neCyFhAhdZsKAGB1mwm+2MqzYZkYP/+96fx9NOvo69vEHwPpqdnoLfXgcFBB5zRAFkAACAASURBVEZGrACsGBhoQUnJOgH6mNEjPT1XvHzdbhdef/1PsFiAoqIRbNtWhhtuuAqFhYURF6ZI9y83BZNFgV5gbAMwW+0IwAwCQwJCfvgzTc3yw0Zx7AQopEnZqIJE8bex3+UYc1xjKXrNq1r/tlDjn0g/Ur1tiuV+Yz1H+rOyH3iv2udfr9lYgsdQqey07ZImeG1wiVyr+S2BJ3++7777sHjxYtx1112x3tpFc14SAF40QzU7GzqXASB3j3JhSUS+XMkQ0HSbm5sb94AnCgCGy04iWT/2AX376NsUzPrJlzf/Ls08XKzDRUCGCqyQu/ZEvhBl52rNYTZbChQYBVhQgeGFb+3fxM8EFQHVX43xCuOgULJNYb4jgUXeP31LCcy0ZsNgPcJ4NxrBk0sCBK0cBhnuPXv2YNeuUzh7tgsdHYMwGhehqGi5ON3lGkZn537k5fXjYx+7FRs3bkBRUVFc8zac2TDU/UdrygwoKhAkMBwHhZqfxd/Hxp03wUAUCQongH4CRiMjUyduEHh8tG0KNQ7BLGGoaNtoxj/eNsU1oGFODtemUH60rEJvKjseyzr0ahJKP26e97WvfQ2UgJk3bx6WLVuGL3zhC7o2MvIWDx8+jHvuuQeHDh1CZ2en0BG88sorJ/QAJbXILP79738Xz/f111+Pn/70pyI4TpY///nPuPfee9Hc3Izy8nJ85zvfwS233DIVw8A2xBluNSXNmrZK5/TNJ6KXkwBQlTtIRLo0jgdfgIkCk4lKKxdcTzDrR4ZKgpVwEb6x+tWFC6yIFxAFRx2HS8032TNC8EdQIcCg5hP8uwAdfhUsEiRItkmYJceYJ5WFUhDwuqD4PUhNtY9nYZDC1JIlihcQRPPcy6CK9vZ2nDlzBk8++TIaGpgmLB12uwtr1uTgS1/6lAD0U1Gk2VAbXMHraM2G4aRLYm0Px8kfUMfM69NsAsbAoRxruUHgsSpgVMRHHVOj2BQIJjkILAq3gzFmmfNhsldwOLNpqGjb4PudaZNvqP6Ptk3a+5fPgfQjDmYJpblYmpYlwyzniwSFWosCASALn/+Ghga8+uqr+OMf/yjAV1NTEyorK3HZZZcJf8AlS5ZMOqUYOPLaa6+JgKdLLrkEzz//PK644ooJ5xDwEfw+8sgj4r3x3ve+V2yeH3vsMXEcN1yXX365kKG58cYb8fjjj+OOO+7AK6+8gnXr1sU6pcOelwSACe/SuVVhEgCqq38ismWwnkSCyUSlldPWEyvrR8AmU5TF84RoAUGsgGg6M4zIexWgggzUGOMkWSiCDGGq9NKPTYFfMcIARfiwCf+1sQAHGehgNZOj9CMQ8I9HHMsXojSZ6tGj0zMGUrMuOKiCL7qenh7k51NEmhlCQhcl4AfEh1RpQIN0DPTsB4wmQIhJ69+HS/FrXlFqMoYDBHruMRHH+P0BDDmcgjW2WFMQgGl8U0BwGMwm83cJGiV7TFAogSEBpPZ3CSTZZfRVNRoCMCh++P2+CWZTbaQ574ubLvZNvMoEiegj1iHN9VJWSaadi6Z+rduABIQyCjh4UyiPlcCQ33KN5TeBoMx3TBOwLB/+8IfxxS9+EdXV1Xj99dcFqPvIRz4i2Di9hXUHA0ACykWLFoFM4cqVK0VVR44cEYCRgHP+/Pm4++67he/2X/7yl/FL3XrrrcIi9Mtf/lLv5XUflwSAursqeWCoHpjLAFACEPZLvNkyLgAFlU2MN/Ua60tUWjnWw8WTC6z09ZtK1i+aJy2YIZGC06EibSWbxUVfRvhGAz6iaZfeY9kmraiz2WKF128Y91/T+rIxEpaAkXiJgFCNgFVgNSmwGH0wG3xAgNEQaqR1rIEFWpYmGskZxdEHZagHinMY8LpU8CeLBHlj+oET+sdAZGNWASG/TRYYxr75M8wW8TevYoDbF4A1NQ22FDW7TjhAMJVuA9q2x6o3KFlGgkEyisQmAiiOsYwEiMHgUf6NrLMAMIYxoGhQYDKq7KMBAfEhUBQ+qxYTLGaj+jEZxN8EkOS3ftytdzqHPU6btUauHXFXOlZBOJZYC4hlcJl0MZDncPzksyIZQuYB/uEPfyjMwLGWUACQbB4ZPwJzbeHGmGbfd7zjHVi7di1uu+02fOUrXxk/5Lvf/a4AhPv374+1OWHPSwLAhHfp3KowCQDVl1wsYsnhZkqi2EQJ3LR+XbHMTpqACZr4wo3G1y9RrF80bZY+iKHyusoAi9nCiMQi6syXP4EggxuomSfz8VIuheCQL/YUiwKbKQCryQ+LwSfAIRlFCQjlyzAU+I01WCDQcx5KTzMM2fNgSM0CrCmA2TbG8jGH8AW0wTFSU4uMIR8CRb8KXhV+j3+o/eKB4vMi4HXD4PeKY0RNBIYWphKxwWCxAWYrYEkRPwdMVgSMJpGOLlaWONKck8Bdu5mIdE6i/i/dDiQglEDR61fg8frgIaI0mOEPGASIZD/4FQMCinE80EkCSLKLEkiOm6slSDSovq1ZqeqGI5bCfiLIkmkxaWqd6k3XZGuABIVy/Oi3zDZJlpB+rzT57ty5c5yl++AHP4jf/va3YW+fJtsXX3xxwv9DAcCHHnoIX/rSl9DR0THhWPocEnDefvvtqKqqEsd8/OMfHz/m5z//ufg/XTASXZIAMNE9Osfqm8sAUJogOOSJ0txjXYliE+PNKywXSdbDBY2s5FT5+k3VYyN9/fiiJgCSC73MaxqcsWGq2qGtN1aGLVLb+LInIBQaemP6eRRZJotoNipIMQdgM/thNXphNweQYjXBbObHLMZVmnyjEb+WbfKfPwGD2QJjcXWkZkb1/+B8xwI8+Dzqx+uGMvYNnxuKl+lFXICXOboVgMDQkiI+itkKv8kKv9ECr4Goxxy1HuP4vfr9ggkPNo1HdWMJPngy4K4FRD6fHz4/Pwp5YtEPqhneJNwPpHmaIFMASz9Qkg2kp0TfYMm4z4acx9rgIq4FbBvHjxt3Cj9v2rRJmNM/85nPCH8/MnV8LljoAiN9BUP1AkEkZWO0JR4G8D3veY8IJpElyQBGP/f0njGNJLjeJl1cxyUBoCpApkcrT+/IJopNjCevMBdDKdzMBY4LKJlEGeTBewkV4TsTrF+4ftX6sGnTpvEeQmVs0DJkUyE9w3ZOhahzpHnFl7rItOFWs26MuBUBEsn4pJj9sJl8sJt96s9WlRGJ1o9QcToQaDwEQ8FCGPLmx83yaEGy1NHTyxwJhtHnBjwuKASEHoJCFxR+e5wAmUSTGYolBQGzDX6jFX4yibZUGG2pMFss4v6D5wDrlf6j0ZjGI41PvP+XIJnPnsyiEanOaKKtI9UV6v9adns2iHKzjVofRBm0dPLkSRFxu3fvXgHq16xZgx07dggWkKAwVm1XvT6A9AfkNaUP4Ic+9CFBJmh9ABkBTH/bX/ziF7EMxaTnJBnAhHfp3KowCQBVAJgoyRXWlSg2MZa8wlrWjy9eLpRSloTmX+lwLV/GclHlgh9v5oxEPTnBfnWRzE6TvQwTJT2jBQ+xMGyJ6htZD9kdgsFhpx+DIwG4/Cb4AgaVGTSrgDDdpsBmNY+bjiMBMPr+Bc4fB2xpMBZXwWCNLTJYC5KnwlwvzMyeUShupwoIPU4o7hEo/JmWaYsNfnMKFKsdBt6LPQNGawrcHo8A8LNpnstnPF6f1kh+dNFkLSFIJpiaDfN8fL77/YLJI7DX+iByk0y5F665NL0eO3ZMBH3ww6hbRutGU1gf+5Jr5ZNPPikiermBlgEv9PNj/zDKl8eRaeTGOjgK+Pe//72QiPnb3/6GD3zgA8ko4GgGIYpjkwxgFJ0V6tC5DAAJHPgwsyRKciWRbGK0aeXIJHCR5MLERYmLvhYQciHTivNq0zclIsI3zqkoTg/H+kVTt/ZlGMqHjH2gN9eolnmYbeBBG3xiGQs+GXYBwy4F/Kafod0SQKrZh1SzF2l0tRszGYdiyHivBFdK5zkog10qE8gPAzp0llBBFYprFEp3G5TBXiijDtXE6+NzRxHGsQASswUGqw2w2YGUVBjsaTDY04H0TGGa1lMEc0jG0DUiAGHA6QDcI+rfaCK12AEb606H0Z4JI78ZUTEDJRERtZM1O5wfnQyY0KZzlPVoN15TKV4ebXfLORXM2p4/fx533nknbrrpJmFyDR5Lrm/R5G1ubGxERUWFaJ50leHP//qv/4pvfOMb4u9aHUD+fsMNNwgdwMzMzPHbYkDI17/+dbA+Rg0ndQCjHXH9xycBoP6+CnlkEgCqADBRkiusK1Fsol4AGIr10/r6SWFareyCnAza9E1xTqW4Tp8qvzoBahRlPJet1u8zVKRx8E1oBW8TBZKJU4SPn1sNBPH6VGd/bXQocQl1BSkjk2KV6dHUCGJpnmNbJ2PYCACHncCgExhyKqL+dJsfaWavAISWSQJLlNEhBDrPCXZNmIVz5sFAsBamaP3FJJulDPTA++KjUM6fAdKzYMjKgyEtYyzwQwV1CsNn/VTmZoi0S2X1CBidIwLIifBamx0Gnp+RDWTkwJCVq9aVzU8+DAxYCVHGAxico7DBD5NPBYdwO2DwjIqsMQGynCnpMNgzYUrLFnVFYkrjmuhjmxwybNGYfOO9Js8P5TrBe5UbIulbR/YrFomXRLRRW0e4QB3+nbp6n/vc5/Cf//mfuOaaa6Z8zBJ9b4mqL2kCTlRPztF6kgBQBYCJklxhXYliE/XkFZasH6/LhVuyfpP5+jEoRDJAodI3yRfCdD0SegFNotoz0ale1WLj34LFeaUPZqx5Vwn0eoeBtl4DOgcM6B4CBhwGDDn5MjbAbFKEFAxTmmllPQjUiHtk1gu3V93nUiokzaYg1eZHhh3IyTAiJx3ITgNyMxTxHU6Sj20Z8QCDowDT6I16FKRZFWQQEFo8VL4TL1EtKBY+oo5eBLqaRMSvIb8MhuyiNwFBydqSgdFmiPH87ocwFJbCfOkOGDKjz7OtUHvQOQrFMSg+GB6AMtwPZbBPZRMHegACxrRMGHIKYMgtgjGvCIa8eVByi+Ci4qLfL0CyDAiQc0gEE7kc8I8MAa5hwOWA0esUQRVKSjqQmgVjWhaMqZmTAt9o5mQ8fpHRXEfvsWyPzOstLSE8V8/GSO81Yj1OGxTDdU2ye/w7c/3Sx47mXQo9z+WSBIBzefQTcO9zGQBKhoDdGG/ErXYoCAC5YPHFE0+ZLK+wZFykPIN0HpfgJhpfP/kikOZSvjQlGEiUD12ofphK1i+afpd9ps3YIcyJzDtrsYz7AOkxFxK4NXYZcPK8AWfbDYLhm5cDzMtWkJ+lCMCWlaoIAEfgp6ewTqcngP5BN4adCrxKCkbdJgyOGjDgAPpH1G+yhnkZQGGWgqJsBUW8bo4CWwgLKiOLCQT7R1WW0G5VkGUPINPqg8ngE8BgHAwYjTA7B2HoOy8EoQ15C4RcDNGm9GELFejheegHMK24FKY1W/XcZkzHkClU+rug9MlPJwI97SpYTM2AsbAUxsL5AogaixYAGdlh2SK/zwv/yCDIfhIUmtwOcb+KLR2gyTg9G4bUbBiZQy7KMtUm3yibIw7XPn9cP+TmMViCKR5NyljaFS4ohlaaT33qU8I38YEHHhAb3rlekgBwrs+AOO8/CQApOcG8qC7hDxgsBxBL9ybKnExAEiqvcCysH+9Pb4SvBIQSEGkBodZ3KB5T2UxE00YaS60PlEwurzWbS+mZUP5THi9w4KwB++qNwtS6fIGCqhIF8/MUocUWT9GTC5Ym5H4H0DNkQNcAGUego98gwB1BYWmegvn5ChYUKMhNn8gUUiqEYLBvhKZiINUG5KYpyLYzY4UKBgVLGgjA6h6CZahT6Pl5MwrhS8uDPU31Nw0ugcY6eJ/4DczX3Q5TlZo5YSrLBIaNQspDvUB3GwL0P+w8D6W3E7CnwlhUBkNxGYzF5TDMK1N9D0MUEVzkHIYiQOEgjK5hGAJ+BAgIyQ6m5agsYQQ/wqkUUY61P9lXtHpwXMOZfHlM8FogtTiDRcrjWQvkPYyb7F0ukXVIG/x19uxZ3HXXXeLzT//0TxH7PNZ+udjOSwLAi23EZll7kwBQBYCxRNyGG8pEmZMlAKSUgfTpI1NJMMcdu8yhKn3c+C2lXdi2REX4hvKh0+azjSaoQrvIz7YoQ6kNp5WckWMcLtLYZDLjbKcNO49ZkZGq4LKlCqpLmMw+/gddC0hjjRJ1OIG2PoMwQ5/vMaCtj2wfsLBQQXmRgooiBRkaoppgsH8E6B0BHC4g0w7k0cxsJyMaEIDBw/yrI/2wDnfC6PcgkFkEQ24JTNaUN72Y/fVH4Xvm9zCt3AjTZdfpDugI1XvevgF4unqh+AhGFZhSU2DJzYY5O4PhJONuHOH8IhWvB0p3KwIdzVDamxBobwIcQyo7WLoIhvmVMJZWwJASmrkXbhWuEQQc/cDoAIzMmEJpIHsGkJoDY0YuzAxgGbPDTwZo4p8dsdcg00EGR9TqqTHc5jDYfSJaQKj1IdWa7Pn3Z555Bl/72tdw//33Y/v27XqaOWeOSQLAOTPUU3OjcxkASuAnvwmsKJYcb0mUOZkvHGoKEgDKRZtti8bXjybMRAUvaHfqMrCE7MZk6du0fan165Emp3j7Ot7zYzVDC3Dm9uGZg2ac6zRh69IRLC5m1OEF2ZVoIo2D7yNYh40M38CgD6NOP7zegBACNhoNsFqMsKcYkWo3IS2V2neTx8UR4LX2Ak1dRjR0qoAwPxOoKiZwDaAkVzUli2fCB/Q61A/9EckKZlrdMClusQERuXyH+2Doa4XB7YA3NQf+zCJVi8+s9gP7QOnvhu/ph4W/nvmKW2FcuET3sLGfz//kIbQ88Hu4z3fAlGaHgWyjwYCA04WA2wOD2QRLUT6sJYVILZ+P1KqFSFtSgbSaKqRWlsEwiclWGepHoK0BgZZzUFrPirYaCkphLKuGceFiGEoq1OuFKMKPkMEyjj4BiA2MPLbYEbBnQknLgc+UgsCYpEgohlR3JyToQPZlonUQ5eZQay2Q/rR6UxmyH7VWE8moss7vf//7IifvH/7wByxYsCBBPfHWqSYJAN86YzkjdzLXASAjbeVOnQxQdnZ23OOQKHMy20XZAZojyVBOJ+sXTSdIHzoJBkMFVciMHrON9SNYZ/ujBaQEUn961QgGaLxzsx/pKeEjjbU5TSMxI2xLR6cD+48MoL7Rg6YWD1o7XAL8saTYjLBajTCbGDnMNF0BuNwBkZmNf8vJtqAgz4p5hVYUF6VgQUkKFs63Y0FpigCLwYXRyASC9W2qzyLJq8WlCpYtULCwQGUyWfeQ04/OAT+GPRbhU1iYYRCmZIpRswgNwd4WKMM9UFJz4KF52GQTbJgAAkYjjCffQGD3M4JtM225Hsb84ojTzHW+HbtXvB0rHv4hsjevhyX7QsYG9tVIbx9GWzthGBhGoKsPzsZWjNY3YrTuHEbqzgmgmL6iGhlrliPzklXI2lCLlIUlYf0AFccQAufPINB8BoGmU4DbBeOCKhgXLYOxYhkMGeGDWUTKu+FeBIZ6YBgdgGIwwp+SCX9qNgxp2WCeaAmKI82DiB0T5QHhGLYoq4l4eLA/baggM20fSEAqN6qyX+j68rGPfQwlJSX47//+b7EGJsubeyAJAJOzIq4eSAJAFQDqibjV29GJMiezTZSU4YI506yf3nsXYEBRxiUntAwhd/ZSVFWmL4um3kQdq2VCYgWk/7vXKPztbt/uhzVEkMVkzIjUYtRm6yCYe+X1Pvzt6Q6crB/FojI7Vi7LRGV5qgBxhXlWZGUy/dmbQZx4ubsCGBj0orffi+5eDzq63AI4nm91obnVCY9HQfkCO5ZWp2FZdTpWLsvAvMKJL1UGm9BMXNdiwKkW5p4Fls4PYEmJBzn2UaSk2GC22NA/akD3sCplQ/NwQQaExqAYe4oy97ZCGegA7BlQskvgs6XDP5a9Bc4RWI++BsPJfTBWr4L50qthzC0MO7QBrxf7tr4PacursPQn34QpVRWnnix1mqxMYcq3+iYMHzqJ4QPHMfjGUTgO18FalIfsLeuRs30Dcq/YCFtx6OsLH7jeDgQaToqP0tYIQ0ExjFUrYaxaJSKOtWWCyddmhcXnhDLcKz4I+OG3Z8GbkoVASiZM5gup7KLN2hLtczDTWT3CuU8Q7PF/BHd8DiXzd+LECXz4wx8Wvn78nm6wHG3/zuTxSQA4k73/Frh2EgCqAHCyiNtoh1mvfl+4euVunUwiCwNTCJwkqJCO2LM9m0ewhl5wlK02unC6AGEi/CJPtxrw9zeM+Mg1qhyLnqIFxbIfpKms8bwHP36wFcMjPrzj6jzsuLwI+bmJYzwEq9jlxulzo6g748DxUw6caRhFfq4Fa1dmYv3qLKxblSXMyLIQDDZ1KTjaoOB0uxlpKcCqcgUryxVkjrnIjbghgCBNxPQrLMykmRigFVrxe6H0tUPpawUo8pxbCmQWCl89EVTS3w3sfwnGs0ehlC+HYd3lMFEyZiyvsbZPPd19OPr+z8PT3o2q+76IrKs3i6j9WMC7f9SJwb1HMPDKPvTv3IOhA8eRXlOFvOu2o+AdVyB91ZLw7KBzRAWD9UfBABdqEBoX18K0dC2QlTceVBEsO8P+B4NJhrqhDPVACfihpOfCa8+Gz2wXfaI1lybyWZiNWT0keOdzIPN7M8MGgSCFk19++WX86le/wlVXXaXn0ZrTxyQB4Jwe/vhvfq4DQC6QcodKs4MMuIinZwkAYzUnSyaS4I7ZPJijmN/cHbOdLME5fPkynApfv1j7QA/IkqK0MsJUglotOxYpujLa9iVC1Jnv8gefNWF1RQDrq1WpmFiKYJcUBa/t7cX3f9aEG3fk4uZrc2CzXWCGplKP0eny41idAweODGLvwUEBEFevyMS2jTnYvCEHKTY1qIIvaKstFWfajTjaYEBDl0EEjqypVFA5TzURM1dxz7AKBmkaJxAkK0gRa0YOM6uI0tcixJ4NOcUiYMRgtqobmoEe+N94CUrdfijFC+Gr2QjMrxrP5yv7gPW0PfQYzv3rj2FdMA9ln7kTRTdfDWMY/zy9Y8LAkt7nd6H3yX+g97lXYS3Kx7z33YB5t9+AlNKJDN8Ets/jRuDccQROHRJgMJBXDGXJGthWXAKTPbw8iQoGh6AMEgx2q5lQMgvgT8+Hz2gWvr7aZyFUxLmeexM+qi4XuBbNpqweko3UakayrcePH8fPf/5zHDhwQFg9mEVjxYoV2Lx5M7773e/GnNNXT19dzMckAeDFPHqzoO1JAKgCQG3ARbwmh1jMyVwE+cIN9vVjEAh3xsG+Q3pA1kxMr1hBltZMRFCYiJegvH/JqLJtsYo6y7o6+oH/95IJ/3yjX7eOX7hxaGx24DP31uEzHy7FFVtVsKFlSYMlNyQzFO/8DNUemotf29OPf7zeh8ZmJ9auSsO1byvApWtzJ5idh0aBQ+eMONRgEOLV6yoDqK1QBAOo+goCnUPAkEtlA4syVfOwAD4j/Qj0tooIWkNmIQx5pTBQdJmm49Fh+A+9Bv+RXYA9HYEVG+FbtBwBk2Xcj1CAIzJ4f34WbQ/8XtRZeve7BGCzlYQ3I+t9DvxOF3qffgXtv3tcsIN512zF/E/ejuzN60KyguMm34E+pLSchuHUQSE1Y1yyGqbazTAWzZ/00kLo2tGPwEAn4OgVWoMEyEparggeCaXLqUeGSY95XG+fJPI4yUYGp3Tr6enB3XffjdWrV+O+++4Tm9mOjg7s2rVLfL73ve9FldItkW2e7XUlAeBsH6FZ3r4kAFQBoAy4YBBIvMxTtOZkCRh5XanJJU2GjI5jfVoNOrm750IpBaBneprJIA+2VWp4xdOmcH5DwQxhJDCk1WDTZqmItW1vnDbgXKcBt21V2dhYCsePQP8/ftqIjHQLPvuxirAAQyvKOxV6jNr2S23GlnYXdu1z4vmXe5ktDTdcXYjrry5EZvqFaFhGJdMU/sYZo9AcrF2kYMPigMhGwkL/wK4hoMehAsB5WUCWXdUfVNyjwjSsEPgwHy/Nwxn5qtQRAynqDsB/+DUoA70wLl0D35J18GTkjksh8TijomDo+d3ofOhxDL6yD1mb1qDwlqtRcMMVsBbmxTIsE85xNbeh9cE/oe3XjyJ91VJU3/dFpNdUjx8jN2zBmUaoOUgQGzi5H4b8EpjWXw5jZU3EbCKKzyP6Q/hO+r1CaNuQUyJS00nXD22QFRsSKmNHOBHluDskjgomYyMPHjwogj3uvfdevPe9751yf79bbrkFjz/+OJ577jlceeWV4q6OHDmCT3/604J9pAoE2/PNb34zjjuevlOTAHD6+voteaW5DgDlC5aD29fXJxaAePNgBuv3hZs4WtaPZhrujKXen4yklQAnOGWTNlPHVJoK9Ux6yfqx3xIBskJdU/pp6hWn1r50QmWp0HNfoY554ZBR5O3dsTY2AKgVwL77s2fw719ZjGWLVRYsUgkFBLR6jNKnMhIoDr4O65VjqPWr8/sV7D04gEef7MSp+hG8/aoCvPsd85CXa51QRXsf8PopowCEjB6+bFlASMuw0CRM0zBZQTKGZATz01WpGeEn2N8Bpb9N0IcC8DDn8Jh5mDp9noOvwnD2qEjvZl5xKQyLaxGw2CYwpd7OXgw++Q/0/+9LGD5wApmXrET+NVuRe9VmEQFsiEOU0TswjKbv/0KAwYqvfwoLPnWH2JBJ83i4+a64nPAfex3+Ay8LXUETg10Wr4oMBMmUjg4i0NemsoLpeTCSKU29IE8l50Gw9IpcO2abO4jURdXqM/Iefve73+HHP/6x+F61alWk6R/3/3/729/i4YcfxrPPPiukZa644gphbl68eDE+9KEP4Rvf+AbOnDmD6667Dl/4whfw2c9+Nu5rTnUFSQA41T38Fq8/CQDVLAcslFxhwEW8ml16zMmTsX56fP20i7+WGZIMmVYQeqqmcLBplS+eaMFHrG2bDAyRLWX/si3hRIFjve4Lp0qSmwAAIABJREFUh5lfNnoAOG4udLnGgxeuf/9+/OKHK1A6LyWm5gQDAb16jNqLyTHkuVJsOlRjTtU78PvH2rH/yBDeeX0RbrupGPaUiSlOmIlkd50Rx5oMQkpm6/IA8saAICOK+xxAx6CqKViURSkZSteMmYeZc5igZ3QQhox8KFnzMKqYBHizmwzA6cPwn3gDSncbjIuWw7hsLYzlSwGTeTziXIDr1k4MPL8LQy+9juHXDsBgsyJ7yzrkXLYWmZfUIn3lYhhDhW1HGIGh/cdx+Nb/g4rvfxnp12x5U6aKsJs8ujMc3wvf3udhSMuE+fKbYSwp1zXeisclwLHS3w7Y0mAsWAhD+ptlaLRBFXz+pUtLcOaa6VgTtDcWjo2kX+I999yD8+fP46GHHkJubq6u/ojnoJaWFuFP+Oqrr2LhwoXjAPA3v/kNvvzlL6O9vX3c8kPZGX7q6+vjueS0nJsEgNPSzW/diyQB4AUASH87mmAJZOIpk5mT9bJ+0UT4TsaOTVUuXz0sSDx9GO25sg9oWpWAnnVoTcaJkNvYe9qAxk4D3hOFCVjrr6mNEP3oF47iA+8uxbaNiXkBSreBULlcteZCLascickKHoe6egfu/815dPW48dmPlWPDmjfrZg6OAK+dNOJoowErFyrYtiKA9LFoaRJcg04VCDKKmMEiNA8zYISFmTb8va0wDHUBZhuMDBjJLoLBpB4Q6OtCoG4//HUHQUkZmleNi1cL4WaDWY2Ul3PB43Rh+MAxDO06CMfeoxg5dAKBURfSllUifcViIRadWr0Q9ooFSCkrGZeYCTX3RhtacOyDX0b6xlos/s4Xot4k0rTt37cT/jdehLHmEpi33aA7K4ri942zpASB2hIqqEL0E9PY+f0x+xFG+/wFHy+VEILZd/r23XnnnYJ9o5k1XmuLnnZyPlxzzTV4z3veg4985CMC6EkG8HOf+xzq6urw1FNPjVdFv8MtW7aMB+DpucZMHZMEgDPV82+R6851ACgXSQ4no4DjDRJgPRIABpuTZXRwKF+/SKxfNL5+4dgxLQiINUvFVJlW432ctKZVmaUiONKYbQ/lNxXNtWnufPgfahCInhy/k5nH/99f2nDw6BB+8M3w0iPRtC34WAkItUBAKyHEvwc75Ou5Hut9ZmePAIJXb8/DJ+4sg4ksXVDpGwZ2HjXibIcBm5YGsHHJxLzIDjfQMQAMMF+xCBgJQPE5BXBJTbHBONqvsl+uERgy82HILgZSM8fdJJjfN3D6EPxnjqpgsHypCgjLl8KgicSVYEgEIZw7D8eROrjqzsFV3wz3ufNwNbYg4HTDnJMFS04mTOlpMNptIsOIb2AY3p4+ePsGkbl9A2ru/xZsBbH7GNKv0fv07wCvB5ZbPgpDeuyZhyTI0jOG2jVBu+bF+zyEmnNSCD9YDmf37t1C249RvTfddNO0WQt+9rOfCb8/ppRj0QJA6gzSz/qRRx4Zv5WTJ0+ipqYGZA0pRD2bSxIAzubRuQjalgSA6i6ZhZIrcjGNd+i05mRpopFRqOF8/aJh/aJpXyTfMb25fNlPlJxhO0Ply42mTYk6Npz/WjgwpJcdC9c+MlgPPG3C5mUBoYkX/rgLMhzh8viOjPrxkc8fFebUm68LLzmSqL5iPZK5Zb9JaSF+y+jSaPxJ27vc+Ob/396XgElRnV2/PTPAsAzMsMsqECQuqIiocYmKC8YNTVxRo3EXNPq5fDFiVKLRqIn8JLhGjSYqMaIxnxqNQeOCBhcQIwKiyCL7AMIwMAww0/9z7vA2d4runuquqq7q6XOfp5+Bmaq6t869XffUu5z3ni+lW5eWcut130kqUo0+l6wW+eeMYtmyTeS4ofXSr1tj3JAwsuzbeiMw3a5VnfTqWCTtSncIXsc3b5T4uuUSXwerYAuJdegmsfKuEmvR4Do3Vj/U+J3/uZFmiVcul1j33g2EsO8giXXrJbGiHe5q5/fBrIm166Vu5RqJV2+S+KbNIlu3SXzrVpF2bSRe1kba7zFQ2nbp5AtpgUD1tinPSXzZAmkx6hqJtXIpJrl9Ibh126dbN+msxW5LuDmvr885/B7kT5Pp8PtHH31U4G4F0Ro0yH0pQK9rf/78+XLYYYfJtGnTpE+fPgkCqEkg1157rUB4+rXXXkt0RQugV9Rzd376wpe5G0fe9kQCuIMAIiBYA6i9TqgSQDz88IaJjVXj0fTh66fVL5PxJrMG2MkETkIYVaufFykcp3UMJAC/cyNOPfPrmIl1u2REciugXXmhKaL8+dwN8vM75xl36vBDs7csuZl/W6JHLcpes62rN26T68fNlb33KJPRFzR2T9pjgoTl9PkxefuzItmzb1yO2rveVFAB5lo5p6hFqazd1FJWV8ekrFRkl3IxP7UZTUFU1li/QqR6XYM1EGQQ1sHtLmJDCKvXN2jzLfrClHST+nop6tlfYr0HNPzs0rNRfWBnLKWdgIW/+ZlElLiXeL1sfeEPUtSlh3EHu236PNH4Vq+KBTvGs8N17tTmtF8OUsURpor3wwsjkilgFXzsscekffvtQaFub9jjcU888YRcdtlljfpds2aN+f+ZZ55p4gJvuOEGWbZsWcIdPWHCBJk4caJJCIl6owUw6jMU8fEVOgHEAxUbI1p1dbV5CGBz9NpAAHEtlYlAdmWyDN+grH6ZjD+deyjIhIpMxug8Nlu9wXR9uhWnBpl58o1i6dMlLkftuyMbGDjCLYfNzo1bTsfy8cz1cvv4r+RHJ3SXc07rIcUopeFjU4sRMGtKFDgbazE0BC+9fpY8dt/gncrLOW9jXbXISx8Wy6YtIj88aKu0LtlkSKCdrIMkEcQIQkYGEjI9thNBSMgkCMvW2obKGutXidRuFGnXsUFbEHIxjax99RJftVTql8yX+JL5Ur90AcQWGyyE3ftIrFtvKerWW6R9RcK6p2TGyM0UIemnbqeXA9Xl9DJNdf/9j9TNnSEtzxjj6jK5rurhJo4QGGFcWPPO8JlFixbJ+eefL6eddppcf/31nuW1XIHkOAgEFM9im+j27t3bWCKPPfZY82KuWcCQogHpO+GEEwSWQWYBZ4N4bs/x90mZ27FHojcSwB0EEJY6fbP2MjkgAUomkVWMTSRsq18m96MkAA/1IBMqMhmT/QDHQ90PUeem+ldCqDFTtjj1+k0l8vTbpXLc/vWyZ5+G2scqd4GNMNNM8gWLN8kd4+dLmzbFcvXFfeU7/VJXk2hq3PbfbWuk7ZZzew23sWNjbpwtZ526i6uEFhDof/83Lp98XSwnD6uRgb0aXo6cDRIykI/Bp7SFSM9ykfbbtQTtY42uIKqNoLLG1lqRdhUmk9iQweLGCV0QX46vWSXxFYukfvliia9cbOr9SotWEuu8i8Q7dpOtZRVS0qWHtOzaw2TuYmyp1oIb65jzvozLeukC2frPSVI8+CApOaBBjy5Vs62kfsQou537ZOO240k1dAbHwXOCTNpu3bqZRLq33nrLkD5k06KkW67UAdzcmx0DiOM/++wzGTNmjEyfPt1YBq+44gojCZMPjRbAfJilCI+RBHAHAdQNHA+wbJod64cHHlxH+Ogmip+2C8WLCzOb8bk9R0kDjlfSEERChdvx6HFhZx7bFhGMZcHKYnnt0zIZse9G2bVzrSF9XnQQa7fUy9PPL5MXXllhiNTZP9xFevfIzhqdrTWyqTmxY8fUVfjt+q1y1diFctfY/rJb/3ZJ6/naBF5LlH21qp28+d+Wcub366RPl9Q9Q3cR1kBYBVu1aLAIqqj0TiQF8YIbVpuau1K7qcFNXNZJYu06irRsnVxwG+LTq1fIluWLpL5yuZRsWCPy7WqRDd82EMMOsC52FCkrlxg+bdtLvHVbqW9ZKnUlLaWuuIXUFZcYN3SjbGuUbdy21SSowC0dX1cp9ZVLJb5onsQ3VknxsKOkeNiRabUB7RcLvyWNmprrdH/HM0JfmEH+ME5Y+6CxB4saNFWR5fvDH/5Qunb1XqXFy1ib87kkgM15dnNwb4VOAHWjBNSwLOHBhtq7mTZY/TTWDwQS/8aDUR+OuJ6SPztxIUrVPGxLQzoXZjISoPFztuyKX2/9UY5B/OzrrfLPT9vIYd/dJHv02mzmONNqJc61huSKZ15YJm9OXSP7DW4vJxzdVYbtC4Fydw6PVLIzma5pN8d/s7TGuK/79WktV1/cwySZOGMp1V2ajMzMQFzgrCK5dESdtG1CDjFBBKtEWhaL9KxITQQxdqOjV71G4hvWmvJzkJWBjl6sbYVI2w4J62AqK2l86xaJr0fM4VqJV60V2bBO4tX4VInUVEu8ZqPI5hoUPN4OVUziEJ025U7iEqtv0Bc1qtdtyiTWoZMUde0psZ79pWjXQRJr0SotxFGs6oEBp3JFQ0UBsiqI6ezUqZNJvECCxcCBA2XSpEmy3377uVlSPCYDBEgAMwCLh+6MAAlgQ9wWmsoXwG3rttlWP7yha6wfEkrQ8H9bfy7KVj8QYGzembow02UUeiWEmSRUuJ0zP46zrZGrq9vIC9NKZLcecTly8BYpkm0J/bV0yTVNjWPN2i3yypRKee3flbJ1W1wOO7BCDt6/wiRctGy5I0vWvk6yRI+m+snm74uX1MiLr62U199aLSce21UuHtUrkQWczF2q8a8aY2vrvz03tciUkDtmiLvqKiCCqC6yfF2DfiAsguVtGnhXqhYHGdu4TuL4VH8rsmWTSGk7qW/VTmqLS6WkrEJatWmXsasSax+SLrKlVqR+m0k4QbIKWl1RsdQXFcu2omKpq29IsrAzbLW2s3PMtvU2iASUbObbEGorYcfpikbs3AUXXCCQVRk9enQi3g+WQGTVItmiomJnEetsx8LzGhAgAeRK8IRAoRNAgIc3Vv2Jf7vJVNOHNNzGeJDD6mfH+uE6IJYaN6YbHjboqFn9NHHBLgPmZVEpIdR4IdsqlEyQOFlfbq2RXsaZzbn2uOzNuWqTyIvTigUKIscPa3BpJoufy6Z0G8jDrDkb5J1p38q06eukasM22fO77WTwd8tk94FtZWD/ttKubbF5gcFcppKdyeZ+9ZzNtXUyb/5GmfFZlXwwY70sXlojhx/UUU4/ubv069MmNfGKx41lHesec6+Y2JbShatayJRPS2T0CdstZi4HmiCC6xssgm6IoF66fkutbIGsTE2VlGzdJLEtNQ0u4tZlIq3LJFZaJlLatlFCicthJT0s1XdCq3Xo9wK44JmiyWOZxpJ6GWO6c/XFFT+dJd3+8Y9/GHfvI488YgSUg2jjxo0zVUNWr15tnrPQ6UOfiC/Uls81fbPFjAQwW+R4nkGABHAHAVRhVQg4N/UwhIsXxMa2+iWL9dMsYxBCYy3YLkTqFGUOYzl6TVxwO+ZMCaFT1Dkqm6A9rmTxWDD8fPRlTN75vEgG9YzLEYPrpb3FjXR92MQYGGYixotrLF66WWbOqpLPv6iWOV9Wy8rKLdK5Y4n07tFK+vZuKz26lRptvk4VLaW8Q4l0aN9CWqWwGOoc4rqbaupl3fqtgpi+FZW1smLVFoGLd9E3NbJo6WbpUFYi++xZZtzRBw0tl3Ztt5fvSLEQUrpW4/GEhbQhlrJI3prdVi46amPCQpaJULkSQcQItnDhGk42LtQllk0bJF5TJfGaDSKbq0Xwu1ZtJFbazpRii7VqK1LapsGVnM7c6PKLkcxSilNxbYRguNXndNld1odpvB9eYrHu9d7x+7vuukveffddefbZZwMVTZ43b55JMMGzGWsGySU33XSTQNIFL9/5XtM328khAcwWOZ5HArh9DYD4aVweiF15+c7lrbaTZWNhwRs6rHiaIKEEJ5mun9O6ZluF8CCzM0vVPeSXtleqJW7HIPpl9cv065RKcgX3DlyiZiVV16obvGANfPO/RfLl0pjsNyAuBw7aUQrNxslrLKXO48pV1bJsVZ2sWFUvkGQBcVtVWStr1m2V9VUNIuclxTFpXVokLVoWSYuSBl8p3ke2bYvL5tp62by5TlCvF8eVl5dI9y6tzKfnLqWya5/W8p1d20jXzsmzdZ1zb6+vpuRwQJonvVMkncvq5fA9G7LO7ZrGSo7dlPGzXcOt4BpOEiPotnqGeVnbVmuIoBGi3ryxQW4GlsJYUQMxbNnaWA2lZWmDKLX5ZEcOdVxK+oADPmoptZ8NfpBPt9/XVHhBWgVl1fr37y/jx483oS65aniZfvDBB02/qNeLZ0W+1/TNFjsSwGyR43kkgA4CiI0Hb5LJYlVUgBXH4I1TH3jJrH64rFrX8FNdcsmWnDOzNGhCGNUYRK0ygvFpvJjTPRY0MU41P5oclG4ek52LsnFTZxfJgpUx2atvXIYNrJcuaYzLmVhKcSzGBdzSjauuLi4bNm6TTZvqpGZzvWzZWm9IX4OlSUxiCayDbdsUJz5eCIbbcaH/mlqRlz8qknUbY/Lj4XUmw1dftJJlnduSK+kIoU0EIR/ToCOIyixN49XUtmDi+0ACt2ySuPlZY5JNBB8QRsO2WxoiiJ8x/Hv7p6hil50uD7w09tg5j8lCCMzlS0oaxRJ6ma90L4mpxjVr1iwT63fdddeZzN8g+k82rldeeUXOPfdcU7ITVT3wf7iC0fK9pm9T6y7V30kAs0WO55EAOggg3rjxcOnYsWNiddixftla/TJ5QAZFCG2rTJSsawA6mahzKt01Z4ZtkF/jdHV8M+l31TqRD+cVyexvYtKjo8g+/eqNixiVMNI1zBk+IHnO6gz6ohA1aRBYx5uqUgF9v/8uiMm7s4tkl4q4nHRAvbROkxBrW0rVQojfNVW1BUQQGoIr1selZVGddG27RTqXlwYmSAyNQZMQsq1W4tAj3IZ/47PVZAoX9dq90XTrSyJ+6UajsSmLsRLkTJ43ydafHRqisc1KzCdPniz33HOPoMLGsGHDMvka+HYsrI/Q6XvppZcEZBSqDfle0zdbcEgAs0WO55EAbl8D2Ojx0MNn3bp1xgKo4q8a65ep1c9ZCD3b5eYHIYyq1U+tRW5Enf3Awe0cqFXG74SKTbUisxbG5NOFRfJttcjAHnHZvXdc+ndrmgzqBqyJHtjslRCopTRXIQROHPUlqakKKLjnzxYWCUrplbYU+f5eDUQ403C6dMTYGVtrRNk31ciGrW1lzcZiadMqJr0qRNo1ITnjdq1ke5y+XGjpyWxIm9NiDHLs1YOQSnoG40XSxeeffy7PPPOMdOmSRrgxW1AyOA/3jnhAuH5PPfVUYwGcM2dO3tb0zeDWGx1KApgtcjyPBNBBAPFQwdulBhp7ifXL5oHuZknaFiE3MYRBlExzM86mjvEq6pyKENpuwmxcxrmSnYFVcPY3RTJ3SUzWbxTp2zUu/bvHpV+3uHRuv7OkiW2Vsa1+QeHQ1Pzp3+2XC+dLD8LoKteLfLU8JvOWFsmKdSIDusdlyIC4+Zkp8Us3pmQ46PEI10AsYl19TFZtiBlBadQYho4gSs3lsuH7q7WPg6jqkcpybsvPJEuwsUm8U3pm1apV8pOf/MRY/O68886Mq9wEgS+eH3hOv/jii3LMMcfIn/70p7yu6ZstRiSA2SLH80gAt68Bda8pAYQVAUQgLKtfJkszFSHEA183xSA2mkzGaB9rW9f81Dhzukoxf9jo3BJCt1asbO873XlrqkTmL4/J1ytjsrgyZrTteneOS6/OcenRMS4VbbdI3dYaE3cKzNK9XCTDwQ9x6mTjd5L4eLxIVq0XWbomJt+sbriXLdtEdu0aNxqJA3vGpU0OCJddpUK/y3ZCRVyKZfWmFrK6OiYdWscMEWydgxyGVCQ+iDWl19T1YJdwc2pT4v+w3qqqgZ11j/Jol112mdx2221y+umn5yzez4nJhAkT5OyzzzZVRSorK2Xs2LHyxhtvmDJuePFA6c18rumb7RogAcwWOZ5HAmgRQDz88GauVj+nrp+bDN+grH6ZLFWbYOl5YbsIdRy5sq6hv1QbX7IqHemsWJlg78exiI9D8ggIFIjU0jVIlohJRbu4dC0X6dIhLp3ai3QqixvxZE2cSNV3OhyyzSzdVheXym+3yKp1dVJd20q+3dhCVq2PGWtfCWRYOsXNB1ZNxDzid7lqmrXqJMt2QoW+8NXFi2Tt5lJZV1MiHVrHpVfHmLRu6a7aSqb3E5WqHqkSS3A/wAxZtQMGDDCJRdDde+CBB4zLd6+99sr0ln09/qSTTpKPPvrIED2E6BxxxBHyy1/+Uvr165foJ59r+mYLFglgtsjxPBLA7WsAxK+qqioRB4hKIFrCDeQAD01nDV8QRfzNr1g/P5ajM6YO94CmSQRuXMZ+jMN5Ddvt1ZQsSBD9pyOEIMcgpl7r+Po9bpss18XaSGVVscBtvLoqJmuqYrK2WqR2a0xat4pLhzYi7VvHpV1rkbalDVY2WLQQZ9eqRVxalDQIJRcXixTF4oKqGHV128x9b91WJ/F4TCRWLHEpkXopka11RebaNVsaMnWrN8ekerPIhpqYQOJmw6YGFzVIKdzVIKRdy+PSvTwuFe3SV+TwGye9nr74aDyprv10xFilVmpq62RVdYlU1baQDqXbpFtZvbQpLW5UwSfbcadzrWZ7Tb/O05Ju+lIEPA4//HBBVQ/Iu+D/t99+u4wYMYJVPPwC3efrkAD6DGihXY5C0GLIn7o/kAWsMVb5YvVTkgdSqqW2UsW/ZRpD6PX7EFVRZ3XHqatY5WecSQS5tuq6dUUjvg4Ebd1GkapNMUPKQNQ2bhZBsknNlphs3gKSKMYNu7UOVtH01q2SoriUFMelZUncWBZbt4xLm9KYlLVuSJpo06pOWhZtlo5lMelSgWzaYKxlma65VILTmVwHuG+qrZdl60TW1xRJeekWqSitlVYtihrJrmSyHvSFLJlrNZOx+X1sujjEpUuXypgxY4yrFRbBqVOnGqsgLICvvvqq9OzZ0+/h8HoeECAB9AAeT2UlECVP2ETwYAQZBAmABcEOllYiE0Wrn2aGZhNT5zV2Lp2FJRPx5Fx+F1Vz0JYrSeYi9FLHN5v7CdoVDQk7SKNA8Hl7URoBhysuEikqarDcaWapLT2jFnD81ISKbBJsssGkqXPUiuUmPrKpa+nfN20RWbI2Lhs2i3RqWy+dWteKxBtn2OqLQioc/CClbsebyXGG6G4vNYcwF7smM8je1VdfbWReTjzxxES838qVKw0RHDlyZCQSQDK53+Z+LAlgc5/hgO+PFkBpcIVtl4JRMoUHpeqM4d/4u5+bjB/TahMZxOzYD/Nsr+8HIYyy7IxmYDZFlpPFSgVJCO1sbcxlJpambOfazXlKZPT7oC9KdlYpyFCux2vHusJi35TL1829Oo/ZWAsiKLJxi0j39iJdyuolXt/gOrfDKZyJRm6rjWQzJi/n6FyCtGKNKXnF9/Whhx6SSZMmyV/+8hcZOHCgl25SnnvjjTcK6gYvWrTIJNghjg9ks1evXolzCrGerxewSQC9oMdzWQtYRGbMmGEkBeD2UKsfHopr1641pA+bDZrbSgRBLyt782uKyHgdS6aEMKqyM7YrOhvxZCWEuvlnW67MOR/2XGoliFyTqVRrJJl1TS2ENg72y5LGkwV5D5kKKHv9DlTViCz9VmTz1oaqIl3aI5ayodqPnV2Lf2vDcwOfTGoaex1nuvN1Lp0xuLAG/vSnPzX38uijjxpR5aAaavcik3jw4MECfdXRo0fL7Nmz5ZNPPjFdFmo9Xy94kwB6QY/nkgCKyCOPPGKU7fEAOvDAA+XQQw81b6n33nuvkRpAuSGni1A3PTurNMhNT5dqEFa/TL4G6QhhVGVngnBFpyOEtnUs3ZrIZVZ0pnOslnA31jXVnnNWKwmiaksQLl832OAdcH1Ng0WweweRzmWNzwIGIDVoTukZp4UwF88JHV06S+mCBQtMKTfIq0BIOddu/ZkzZ8p+++2X0F4t1Hq+btZfqmNIAL2gx3NJALevATwoITHw7LPPyrhx48zDfOjQoSYb7vvf/74cdthh0qlTp0SdWqfgatCE0A7cDiuTNtnXxR6X/j0T/b0gv4K5dEWnip1LVrdVQwpQyzdKc4m58CN2LYiqLblw+bpZixo7aYtYp6rqkSyMQAmi25cEN2NKdUwq3UGMCy+2P/vZz2TixIkyfPjwnLvwMWa4f+F6/vrrr80tFGo9Xy9zTALoBT2eSwJorQG4QK655hq58MILjeI9LBrvvPOOvPXWW/Luu++a/x988MGGEMJKWF5enpYQ+lW0XTdlDDUb92VQyzyZKxp92QkEmQoy+zVWr5VGvI4jFSG0S7i5sa55HUcm56fS0MvkGsmOTeYqzUScOgwBZTf3bL/8uBFbT7cm7GeFHxZCe/1jnek1geV9991nMnoR79e3b183t+r7MVOmTJFTTjlFXnjhBTn22GPN9Qu1nq8XcEkAvaDHc0kArTXwt7/9TTp27Gi0sJwND2+UiXv77bfl3//+t8mKw0P1kEMOMYQQP9u3b78TIbSrjNguMRCBph70UbX6OS1F6RJQMo0h9PqVzGV8ZCZjta1+Ou9BW43djg/jgDUSa1XjEN2em81xuiac1SmSSfCE5fJt6r7UuqyqANkkYLmJp8R1M3XNKpF3xgdD4eDyyy83noz777/fVJUJo7388sty3nnnmbAbZBZru/baa01M4GuvvZb43fvvv29etjH2IOMTw8DBjz5JAP1AsYCvwSzg7CYfD+/Vq1cb6yA+7733nslEhKsYhPB73/ueeWBhs3e++TsTCLDxOYPFo6qf55WUBkkIoxxT58w+xqpzukptQqguwqZeErJbvTvO8sPl63UMzvhajMkmyVFzk6eyrnnFQdeEvjRmKtyuLz8gzU6B+rlz5xrPBsq6gQQGva5SYfH0008bncHJkyfL0Ucf3eiwQq3n62XdkAB6QY/n0gLo0xrAwxd6WSCDsBDizRVSB0oIDzroIPNQbooQqosQb/FRk50JgpT6QQhxDeCFxIWokQW37kvcg40FNn9kq7x2AAAgAElEQVQlhHYSgV8bd5Qxs6VntFILvqaZWtB9+monLmNjFnT2vXbq1n2OsSGjFw3PGbUa4vcvvfSSKZuGEBeEsITVEG94yy23mPHAY+JshVrP18t8kAB6QY/nkgAGtAbw4F22bFmCEE6bNs1IzYAQwsV8wAEHGBeMEkJ709Mh6YaXzEIY0LCTXtZ2XwZNSjMlhEGLJ3vB2WtMXbLsWtWm9CK3EmXMkiVUpIqd8yvG1s0c227yMMs/pnKf4/cgffBC6NrAS8Qdd9whH3zwgUlu6969u5tbDewYHR+eIXaDy1cJYSHW8/UCOAmgF/R4LglgjtYAHtDffPONsQ7i8+GHH0rnzp0NIcTn888/N4knSDpBYLYzyzhIEeJ0EOQykzbZONIRQmACkoVNL0riyUHF1DnXBP6PTTUTuZWwk2NSrTV1X2I+m0qosAmhxhEG6T6Pgps81XdDQwuwBoAB4uuQTTts2DATswwVA8TawRvB1vwQIAFsfnOa0ztiDGBO4U50hof1woUL5fnnnzdZeXDfHHnkkbL33nsbQrj//vsbFzBaqhipoOvWRlHUWQkh3L0gQGh2RqlaS8OZ1YYMaCRU2GXmghpLJoTQjt3MlfvS7X27dZOnI4+p4im9us+jWtUjlUUS31m4WBFPt27dOiOxgmcLYpJPO+00ueKKK9xOC4/LAwRIAPNgkqI8RBLA8GYHAdFXXnmlkUMACVyzZo28+eabxm08ffp06d27t0kowWfIkCGJclfpCKFdozTbeDHdXLCZNGWNyTV6ToKFe7SD5jWBwOk+D3qcUYipS6W/BxKkJdyc9V+DxqWp6wdVAs+rOLVtkYyaXE8qiyTGDFcvniUggBBZxu/mzJljZKywDi6++OKmpoR/zyMESADzaLKiOFQSwPBmBVIMIHknn3zyToPABvbll18aQgiXMVTz4c7RpJJ99tknUZi9KUKYiVUsyi5CN3V8U8VIBUkIbUkQEGb0FYWGcQEzWLG0RUWk27ZI5uIlI521VK2Edm1cWM0wRhDmTGVYgpz7VLI4mOObb77ZPDOeeeYZI/USVIN+IJ5dqNuL6kl4ZtgYsZ5vUMjvfF0SwNxh3Sx7IgHMj2nFBoY3ebUQ4iG72267JZJK9tprL/OGj5YNIbQtHs3JRRg0IQzKguV1VToJFuIk0Zwi3U73Of6freXY7Zi9unzd9pPuuFTWUhAZYAQSD2IaFfKXjjBDfeCCCy4wiRTI9g36BeT111838YUgyRBvtgkg6/n6sTrdX4ME0D1WPDIJAiSA+bkssIHNmjUrQQiRRLL77rsnCOEee+zRSArC6Sa1LUHY8BFTh5/pRJ1zjRQ2Pb/r+PpFCDNJWsg1bm4JVlNYqAixn4QwqoRZrbhKZvD/TKqVBDnHmCeQrWSi00gmGz16tCF+P/rRjwIn7/Z9IlQFZeRsAsh6vkGuBFoAnQjEcgt38+uNBLB5zCniguAmhrsY1Uq++OILgVVQXcaDBg3aiRDiwY0NGRtMlBIp1IqZi+oUTZGgZO7zqApOAzcvlTPSYWG7SbMhhLl2+WbyrU5W1SOVFd1OKnGKt2fSp9tjda2hL7ukG8b3xz/+0Wj7weWLF75ct2QEkPV8czsLtADmFu9m1xsJYLOb0oSrb8aMGYYQ4kE9f/58k2GsSSU4CFUBbrjhBjnmmGMS52RafSAI9MKMQ2yKBIEsIN4qaoLTQSQt+JV97tYiGcRaauqabqt62Fio9AyuHaQ4daoMZFjrr7vuOpPlC4kX6IuG0ZIRQNbzze1MkADmFu9m1xsJYLOb0qQ3hM3k448/Ni5jWAxACCE7c8IJJ8gRRxwh/fr1S2ohdBJCO8vYb+SiGIeohBA4aDJFGHFz6bDOlU5dNlYxJVgaU5eN9dDvdaYWZq0ek03Mq2KhZNAu76hWQjf1vpPdWzoyDy3R888/X0466ST5+c9/HmqMYjICyHq+QazW1NckAcwt3s2uNxLAZjelKW9oxYoVcskllwgsgw8//LCxHKiFEFVLhg4dmogh7NOnTyKeKFXAvJ1Z63VjVxKDwcPVpQktUZgd20oEsuAszxUmIfRabcQLvsmsYipYjvkDTiolhCQUr2vEy1jtczFuDS/wq6oHrumUnsHvbJexG0KYylqKa0HKBS5WyLwcd9xxoeOZjACynq9fq9TddUgA3eHEo1IgQAJYOEsDotPPPfecPPDAA9KxY8dGN44NESWjlBBWVlaaagKHHnqoKV3Xs2fPQAghNrao1vG149ZSWYncxBAGkVlrkxgk7miWb5irWQkhSJ8tPROkmzTT+82ltTSVOLUt4G6T4lTWUlwHsiuTJ08WSLAMGDAg09v29XgNg0DVIhBR1PBFjCLCIjZu3GjUCS688MKELA28DLAMXnPNNb6OgxczIvgFnQdR0DfvxxegUAnghAkTzNv02LFj5fbbb09ACXkDiDO/8sorhvDg4YWHb1hxNn7McabXUHLxn//8J5FljHijAw88MJFUgrqi+uxJprHmpmatBt9jU/bLEpPpvaY6HmMCKQYWmVgk08XN2fV7vTy3c0VissHSJjEgzbYL3U83aTZj85Igk01/TqujjQXm0C7lh79hfM4XDRCqMWPGGIL/yCOPRKKkG+IOQfDQtJY5/g2LIGKMWc/X62pxfz4JoHuseGQSBAqRACJD9vjjj5eysjIjwgwJBW0gfHgQ400bD+WzzjrLPHRffPHFgl0/wAEb0XvvvWcshHjzh97XQQcdlKhl3LVr150IoUrPYKOz46JAhLSiR9RiwzDJfrpV/SSEzcFamsxNalvE3LhJM/0iBpEgk+kYkh2vWECsG/9Gw1jxPDrggANMXC6SPRDzd9VVV4Ua7+fH/fIa/iNAAug/pgV1xUIjgHjzhmDqTTfdJOPHjzcERgngokWLzEP3008/lcGDB5t1AMHlfffdVxYvXiy9evUqqLWR6maxSYEAIiZJCSE2MdQbhQUAmMLF7LQQqggxzkfDxo96x/jpxSLm16Tkwq2aLSHEedCCi6K1NJmMips5sePmNJkim7i5dH1FOQMZY8OLldaNxn3A0n7HHXeY7xaE3xF6MWLECBOGge9W37593UDLYwoEARLAApnooG6z0AggHq5z586Vp556ymTB2gTw73//u7H4wfVnN7hlEH9z4oknBjUNeX1dbNrr1683lkEQQmxe2NAPPvhgs2khjrC8vNzUNwaOIN+IFwpq088GTLVIIpYplxUgmiKEmkyBNYl/53JsbnD0M8vXb0Lo59jcYJHJMSqIDdcuni/6AoTvxL333itTpkwxLl+8lELXE98tvJiuXr06Em7gTO6VxwaHAAlgcNgWxJWbAwFEGSRkn6VqkDmB/AmEkkeOHGl+VlRU7EQA//znPxtdPGTL2g3xbsi8GzVqVEGsCa83iY0csZSICVJCCMsGSlbBnfWLX/zCEEKNH3LGifltBUp3P24SPbzikcn5yQghzgcxVWtpLgSImxpzLnBTQmhLrdhrQ8MKnNZje2yaIBMFCzMwdY4Nc6oNL1GXXnqp7LLLLvL73//evCTZDfp/IItBtVtvvdUIS2McUARAstiee+4ZVHe8rg8IkAD6AGIhX6I5EEC4UeCCTNX0LRsPtXHjxsmpp55qDgUxhAVQk0BoAfT/mwALxo9//GNZsmSJEZ5euHChiSXExqdVSmApRJylEsJ02ZMaL+bHhm67B0EUgq6hmgm6doIMiICSZJChsEuUZevyzeT+kx0LDFK9LNgxprCWAiesqSjJCdlufOfYZs+eberqIuEDUk1+rO9M8IbVEaTz1VdfNVnGCIvBSzXipTFWtmgiQAIYzXnJm1E1BwLoBmwQj/79+0unTp0avXGDHOL3yFxLFgMIt8uQIUMYA+gGZMcx2PCAHbKHYUHVjQS/h5VVLYTINm7Xrp1xFcNljOQSLXuVyi3oNXEgqjVpAWE616Ubl3GQFkK3lTOyWC5ZnWInlWBsGl+q1lKtZ5zVxX08yS7pZrvxMV4kmP3qV78ypd3wXQmjIfYZUi1INkHDeHv06CG//e1v5dxzzw1jSOzTBQIkgC5A4iGpESgUAoiNwnbt4sF7+umnmwfujTfeKN26dTMgIc4P5ADVMnAMYgJBTrLJAoZF8ZZbbhGo9+OB2rt3b7n88suNzIy25i47A9cv3L3pGnCGEDXcxfhMmzbNnAMLIYLfkRGpcVI2IdQsY/zOrdYcjoUrDZm+2IhtF1zYz4lsXJe5IoTox0vljCCxxdiU0GM+QfrUbWxLrQRZxSbd/an8jLN8INYvLG2IjYXqgD6DgsQq2bXh8kVIDF7EbAKK5BPUEwcJZIsmAiSA0ZyXvBlVoRDAZBPiTALBMTYhw/9Rcgk6gO3bt894TkFq4MpBTA8akiNQd/ell15K1N+l7MzOsGJDB2lG3CYI4YcffiiQmQEhxAeEUOOjmiKE2PTVIhZl/Ty/slWDIIRR1mvE/aar6pFMoxLrwbYg4/9BNJvQw6Jti3UjmeMnP/mJ7LPPPnL33XeHKuSN7xqyi5F1PGjQoAQUePnFcw/JKGzRRIAEMJrzkjejKmQCmMtJwkb0/vvvG2HpqVOnGpkZys64mwFspAsWLEhUKfnoo4+Me0pjCBHbqZY8JyFU8WFs8pgDjQcNatN3d0eNj0qVEZrNtZzneCWEUXP52veXDaFPV9ZQ4wj9WBvp4iQ/+eQTk+wBEfqzzz475/F+zjWSygJ47LHHyt577y2/+c1v/FiKvEYACJAABgBqIV2SBDDY2cbDFW/X0HADSXn88cfljDPOMJ0y6SQ77LG5zp8/P1GlBLWNUbtYCSHiDtXasmrVKhO/OXDgwIRrUOvVqts4yJi5dHcYhjvaLSHEuKPq8sXY/KrqkYoQ2jV8MyWEIKZITMM1NJYVYwb2CC353e9+Z2SoYP2LSkMcNCojaQwgiD9esqCVes4550RlmByHAwESQC4JTwiQAGYOn1vZGfvK2EwnTZoko0ePNrpe+++/v1B2JnPsk52BTXzevHkJlzFkfpDJiA90B1GvFG58bORKgGxpkTAIYTbWK3/QanyVVIRQCUsUZVQ0htPpVvUDHzvLGHPkzLpW0fJUWbpaRcZZ0g2/R6wxXkZA/py1uP0Yu5drwMqHLOB//OMfJikOsYkYJ7KAgTNbNBEgAYzmvOTNqEgAM58qN7IzKDOXrMEFDGICKwAtgJlj7+YMEAQQ7aefftpUUYDEBmKbNKkEge0qD2ITICWFKrNiuwT9lOXws9ScGzwyOUYta7hfEOYoyM7o+P2Kk8wEDyWEujZS4YFrYt0BP2ddaySfQQoJMce33XZbpKRpbCygA4h4v6qqKhk2bJh5aaIOYCarJffHkgDmHvNm1SMJYG6nE0kgSGKA7ANlZ/zHHpswpGTU4rr77rub2D+U9ENCCaRnQAj32GOPBCHEMermc+sizYYQ2gkLalnzH4HsrpgqyzdIPDIZaVSqeqSzmOJ+MK+29Awya5H1f+edd8opp5wSerxfJpjz2OgjQAIY/TmK9AhJAIObHgipoj4uXCogJE8++aSJs8GmgPrCaH7KzgR3J/l15RdeeMEk2zgrKehdwIqDQHyQQXzg5kJSjsYQwlrolhA25RK0+0QcqNZ9zTSuLMgZAKlxW2c4HSEMwmIaZfkZzIlaTDWOdM2aNUZgHnIq0BzFd/1vf/ub4CWDjQj4jQAJoN+IFtj1SACDm3C4e0ACkYgAtxCCvm+++WajbafNT9kZXBP9wY0DSQeQDRAbWBtRbSNZnzgGZAnung4dOgQHRoSvDOsStNjUQvj111+buYIlEaTwO9/5TkaE0CZ3NoFx6sBFAZJUAsVuxxYkIcyEmLodr1/HpSKmeNGD3NMTTzxhXjJQ/hBWQawlfO+R/Yv/N8eG5wheAv7v//6v0e2h8hIs86gywuYvAiSA/uJZcFcjAWxeU476nch4BeFDIPrEiRNN7V0Qwp49e5qbpfZg+jnHJv7xxx8nCCEC95FZjE0cH1RNUBdwuhgxbIawEMEF7YwLC3vVBUVM/SKEXolpkPim0x7U0oennXaaqSuO+8BaQuLXBx98IM8991ykSg76iRO0DfHidNNNN5mSdmgPPfSQKbWJikqdO3f2szteSwTPoVghA1HQN+/HxJMA+oFitK8BlX9YJEaOHEntwSymCnWmsXmrhXD58uUmixul62DVgQSNkxDC4gHih2bX7lVh6iyG4dspTYkn+9bRdukTO+PaTqJI5TLWJJkoW0ydrnxginCC6667ziR4IdY3l3szCBayjJEBD6vjv/71LznqqKMaTWUuqg7hOwLxfFTzwfwi3hlVlJxj8XONFfK1SAALefZ9uHcSQB9AjPAlQFxAVL788kvZddddmXnsca5Uuw+4olIJNv3Kykqz0WmlEmi9IQ4RfwOJsTNI8e9cVaJIdqthW9aashDCHY9PEBIvHqc+pfYgiL5m9aOkGyzEuW5z586V9957z8QWI4N3ypQpMnz48EbDyJXlHx4HxD1C9/QHP/iBCUFhCwYBEsBgcC2Yq5IA5sdUZ6M9iBJPICWQoICuFxq1B/2db7WmocoLSvwBX2x82GzVQogar04LoRKdXNWqDcrl6xVNJYRwlcPyZ1tMg0gqyWa8GCOswPg460dXV1fLFVdcIW3btpWHH344EvF9eMFwEsBcVh3CS8ZBBx1kLOCo2hOlhKds5j/K55AARnl28mBsJIB5MEkiprIANqBUDZUvbO3Br776yrihzjzzTPn1r3+dOI3ag8HMNzbc8847z7iEf/vb38qsWbOMhfCdd94RkARsiJpU0qVLlwQhTFeaTOvVet1Ac+nyzQZdu6oHLKZavxck2Y3LOJs+3Z6jiSgax6n6kTgfVnW8mF100UVGd9LrPLkdU1PHJSOAuf7eo84x5g5JaWzBIUACGBy2BXFlEsDmN83QvEP1CwRio96o3ag9GMx8Y8M75JBDDBmwY79AIDZs2GCIIOKjkCEKIg95ICWEqAqh5zRFCFV2xu1dRKXiSLLxprOs6fFNuYw1pjKIeDvbXe4s6YaKGbfccovJuIeVPaiWjeU/GQHMteUf4wZ+6JctOARIAIPDtiCuTALYvKYZrkhoC0KC5qc//WnSm/NTezAqwef5MosgNKgPjaxQJYT4HbK2QQhBIsvLyxsRQrWE4afTZZyKEOKasKzV1NSYOER8giBJ2eKebVWPXBHCVIkoIDV33XWXIfR//etfTb3cIFumln+MJQoWQBLAIFfFjmuTAOYG52bbCwlg85paBH5jc3JqjcESiCxBND+1B6MUfJ6PMwlCs3bt2oQo9dSpU80GjvhBJYRw7dsWQo0fBBkBkYJbUuPlQAjRQPw0mUJ/FxV8/KzqYRNCP0r5aZIPCKAzEQXfm4svvtgkeYwfPz6l0HjYOLuNAcTLG+SNIHPUq1cvX4dNF7CvcKa8GAlgbnButr2QADbbqc35jbndeOCiRrZiEBtPzm/a5w5BQJBVjAxiWAhh0YX1TjOMYSlEwkE6Qogh4e/QgURsaFQsf7mo6uGFEKazSiKmE+79a6+91sT9RQVTe/lBegj3j/UBFzUqkmD+NW7RT8u/z8uel8sSARLALIHjaQ0IkAByJfiFQBRcT37dS1Sugw19xYoVhgzig9JisAhqhjGSS2DtBSFBwD1KkMGag//D0obzbesg/h0GeQmrqkcqQmhjgnWr8X6wliqe25+PMnnyZLnnnnuMliYkVqLYFi5caEpOKvnHfaMhFASximh+Wv6jiEEhjokEsBBn3cd7JgH0EcxmdKl8DT5vRlOQ9FawsS9dujRBCCG4ixJ+kJ75/PPPTb1pWH6SWQjDIoRhaw/aQCYjhPp3jaeE5RSkEDGUt956q8nonjRpkiB7m40IRAkBEsAozUYejoUEMA8nLQdDztfg8xxAE6kuZs+eLaeccoohLMgsBiHs2rWrcRkjhhAWK7iQ1ZrlzDIO2kIY5aoeapUEMYarFP//wx/+YGR8YFldtmyZKW2GTF8QbDYiEDUESACjNiN5Nh4SwDybsAgP120MYJDB5xGGx/ehffLJJ4bkXXXVVUboGxYskJgFCxYkqpRAiBc1oJUQDh06NEFmcKxq7mkCBX6n+oP6MxuXsSZTwIoGlyoIVpSaxvthTEj2UA0/SPSgigsqeiAWE1p/+DtwBtGG1iMbEYgKAiSAUZmJPB0HCWCeTlyEhh1W8Dncc48++qiRVQGxeeCBB2TPPfeMEDLBDgWWK1j8EA+YqoHozJ8/3xBCxBDOmDFD+vbtawgNPkjGUXJmE0KVnsmGEKYiV8Gi4f7qmoWM+4a7167SAt06rCOU89trr71MdZLp06ebpBwQ4htuuMF9RzySCASMAAlgwAA398uTADb3GQ72/sIKPr/33nvl97//vbz66qsyYMAAYwFDEsQXX3xhsiDZkiMAcgaMtI7xzJkzDX5KCPfee29DdNDSEUK1DjqTSlR70EmuojAfdhays6QbLH8gdytXrjTixdBizGXD2oWrec6cOYaQDh482NTQRda3NjuJA8eg3OD9999vYkDZChMBEsDCnHff7poE0DcoeaEcIgAtNkhywP2JBhcmRHkRv3XuuefmcCT53RUIIeIIlRB+9tlnMmjQIOMyRlk7WFRVRsRJCGFJQ1MyiGupyzdqMXN2FjJeEOySboj1Q73sESNGyM0339zob7maXVgdBw4caAgfrJITJ06UX/ziF4YQwoWPBsIHfOGexv2cddZZ5mXnxRdfzNUw2U/EECABjNiE5NtwSADzbcY4Xrh8KyoqjCQKZE+0YQOH2w4kkC07BECkodMIdzHcniCHIIFKCHffffdEvJwSQoQA4DyVHgEh1A9i67KJIcxu9MnPSpeFDOHtq6++Wu6++2456aSTQh+rfQdY45CeGTlypCQr4Ug9TT9XSX5eiwQwP+ctMqMmAYzMVHAgLhH45ptvTBwbrCOwVmmDRaR9+/bGlcbmDwIgT0g2UUI4b948gZtYhalRxeSSSy4xMilwWzqzjEH+nJp7uSSEsJht2rRpp3J4GOfDDz9sYv0w9t12280fwHy6ygcffGBiO5GEsuuuu8rf//53Y/FDhRe7wVoInUKIPLMVHgIkgIU3577eMQmgr3DyYjlAIJUF8NhjjzXk5De/+U0ORlGYXcDt+/HHHxuXMWLlkGBy8sknmxhCuIwRT6gZtV6qcnhFF30jrg8fZ0k3EELUyQYJhOwLhLWDatnoaeIFBwQbbmnEtqIBa8QoQhTcbt27d5f77rtPRo0aFdQt8LoRRoAEMMKTkw9DIwHMh1niGJ0IoOrB//zP/yRiAEFMEAOIGq3nnHMOAQsQgerqalMT99133zUWNLh71UII8rLffvslZGcQq2ln2arcjGYZ42/qLoal0A+XMYgdLGX4CfJnx/tBIuf888831jTEkCpZDQquTPU0v/rqKznmmGPkzDPPlF//+teJYdECGNQM5fd1SQDze/5CHz0JYOhTwAFkgQCsfMgCRs1TkEFYSp566imT4YpNny04BJB0gCQFkD+ITtsN8YBwXyohXL58uRGj1hjC3r17B0oIQTBBukD6sA5s8vnGG2/Iz372MzP24cOHRyreDxgipu+4446TMWPGyNixYxvhmiwGkHqawa3xfLkyCWC+zFREx0kCGNGJ4bCaRAA6gIj3q6qqMiQDkhh+6QAi0xLXw6a8YcMGU1fXthbh91deeaXR1YMMx6WXXmrKhhVKg3WtKeuZikFDq1CzjFevXi0HHHBAghDCauvWQghLYbo+U1UdwVjhJsXLwrPPPmviR6PW3n//fRPHh9q9cE8na/g7YhpBvDULuF27dswCjtpk5nA8JIA5BLs5dkUC2BxnlffkFYHXX39doLuGeLGLLrqoEQEEIUTSwIUXXii33HKLCdT/wQ9+INddd51cc801XrtutuerFAvIjloIEc+JsmtaqaRbt24ZE8J0VUfwcnD55ZdLx44djcAzkiai2GCRfOedd0zVFLvBEnjjjTeaX9k6gPg/spbxkoLEJ7bCRIAEsDDn3be7JgH0DUpeqBkiACkUbM62BfDJJ5+U//3f/xW4N9Ui9bvf/U7wQQwXmzsEQNwQT/jee+8ZCyEIENy3IIQqTN25c+dGhFBjB+0YQu0NLl8Vscbv5s6da0g6rLNXXHFF5Fy+7lDiUUQgNQIkgFwdnhAgAfQEH09u5ggkI4BIPgG5QBUSbbBqQbYDFie45dgyRwCEEPiBCAJ3JJnArfu9733PEELgC0ueuowRa4gkE7WawZoINymO32WXXeT55583OnqHHHJI5oPhGUQgDxAgAcyDSYryEEkAozw7HFvYCCQjgHAJw1KFOEFt0CRE/OGSJUtMNjKbdwRACNetWydvv/22cRmDEOJ3qJYBy+tjjz0mTz/9tED+B6QQCSivvfaaPPfcc0YkvLKy0uhEHnHEEXLkkUeaShpMEPI+L7xCdBAgAYzOXOTlSEgA83LaOOgcIZCMAEI+BBUyQDZoAczRRGyvTQyZGcj8IAMWySQgiLAMIoZwjz32MFU9vvvd7xotSJB0WBM13hBZwJ06dcrdgNkTEQgYARLAgAFu7pcnAWzuM8z784JAMgL4pz/9yYjyooasasxNmDDByIsgIYQtGARA/uDiLS8vN9m8SBhZtWqVcReD5P31r3+VcePGmezsXFYbwd1Cpw8JQRgjpGggd4PkE4xFm53EgfHBIokkDmSRsxGBbBAgAcwGNZ6TQIAEkIshbAQQ0A8LDiw3f/zjHxPDwcaOTRJJAvvuu29OhwnpEMSfwYIEbTYkK8Dt2KpVK2NZ0izgm2++2ZA+jBOWQS9ZwMj2hFQJNN/atm1rXJf33HOP9OrVK3HvhSw/g+xraD+CfLdo0WKn9eBGmiaoRYSXAZA6xB6iwV0NQeeXXnrJ/ETDGoGMC0IHVMYF8wxdRTYikA0CJIDZoMZzSAC5Bp8gTiIAAAr3SURBVCKFwMKFCw3Je+ihh0yVhjVr1sg+++wj119/vSdSle1NInkAGaRo2NixYaOBlCIh4bPPPjOCvdOnTzcyHMgyhQXIS7vpppvk9NNPNzV1QTJHjx5tXM2oxYtG+Rkv6ObuXBBRJAWB8E2dOtXMZzIhZ5B5rPnFixc3Ivm5Gyl7yncESADzfQZDHj8tgCFPALtPIACBW5AeEB7EcsEyCItYobaZM2easmpwHcJNSPmZaK8EZCFDZBrakS1btpTHH39czjjjDDNolnKL9tzl6+hIAPN15iIybhLAiEwEh2EQQJ1WyKsgtg4Wki5duhQsMnD/wiL69ddfGwwoP5P7pXDBBRcIYj5TNbjpoWFoN4QOTJo0ybzMIIN5//33lz//+c/Gdb1ixYpGx3bv3t1UKRk1alTub4495j0CJIB5P4Xh3gAJYLj4s/fGCGCzxaZ7ySWXyMMPP1yw8EyZMkVOOeUUeeGFF4zMCRrlZ3K/HOCKr62tTdkxYhHLysqS/h0u4AEDBhiBcFoAcz93hdAjCWAhzHKA90gCGCC4vHRGCCBOCjFRsJzAKgKZlcMPPzyjazSHg19++WU577zzjIjxyJEjE7dE+Zn8ml0kf0Cq5le/+lXSGEBI2QwZMoQxgPk1rZEaLQlgpKYj/wZDAph/c9YcRwzpDCRXIBMYAr933323kciAGxiyH4XSIGyM5JLJkyfL0Ucf3ei2KT8T3VWAuUEFkv79+5vsccRrwmUPQWrNYIeEDbKAEeuqWcCoGsMs4OjOa9RHRgIY9RmK+PhIACM+QQUyPGTQQsdtxowZploDNkhYUCoqKkxlh0Jo0BEEDpAOSVa+DFI0QcjPFAK2Qd/jbbfdZmIFoUuI9YsMdkgE2RZsWwcQ4znppJPMSw6yyNmIQDYIkABmgxrPSSBAAsjFEDYCqrUHyQxkvWqDtho2UlgDVZIl7LEG2T90BhFThgxSu8EVroQwCPkZiCcjSWH16tVG6xAl7W699dZGFshC1h8Mcs55bSLgBQESQC/o8VxYWhoEztiIABEoSATmzZtnqmpAagbSO0hagCYhtBghVEz9wYJcFrzpPECABDAPJinKQyQBjPLscGxEILcIIOP1wQcflPHjx8tXX31lLJLUH8ztHLA3IuAWARJAt0jxuKQIkAByYRABIvDKK6/IueeeKxAz7tOnj+D/cAWjUX+Q64MIRBMBEsBozkvejIoEMG+migMlAoEjgEQFTUSZNWuWIEu1kPQHJ0yYYAjv2LFj5fbbb0/gbSdwoDQgNP6QwAG3ORsRCAsBEsCwkG8m/ZIANpOJ5G0QAZ8QQFiwlp479dRTDSGaM2eO0WXUhlq3hx56qFRVVRmS2BzaF198Iccff7wRdj755JPll7/8ZeK2QPgg4fKXv/wlIeGC+EhKuDSHmc/feyABzN+5i8TISQAjMQ0cBBGIDAJIBAEBBLmBFE8h6A9ChxKZ1kh+QfzjYYcdliCAECjv16+fQLh58ODBZp6QFQ19v8WLF0uvXr0iM3ccSGEhQAJYWPPt+92SAPoOKS9IBPIKAbg9zz77bOnatatUVlYa9+cbb7whkJyBpl0h6A/ecccdMnfuXHnqqafkyCOPbEQAWcYtr5ZzQQ2WBLCgptv/myUB9B9TXpEI5BMCECT+6KOPDNGD8PYRRxxhrF+wemkLQn/QiRHczSBb//rXv+Soo45KWNquvPJKIxAOq+Sll15qNArdNNSUhvUyVcN9vvnmmzJz5kxTcg8/cf9OAgiNxBtuuEFWrFjR6FLdu3c3JQtHjRrlZjg8hgj4jgAJoO+QFtYFSQALa755t0QgigiAqKFE2uuvvy5TpkyR4cOHe9Yf3Lhxo0DWJlWDxE1paakMHTpUIIYNAooGYggXsCaB0AIYxRXDMQEBEkCuA08IkAB6go8nEwEi4BGBJUuWmPg7VILp27dvggDmQn9w4cKFpn5vp06dEncBKRyQQ/wels9kMYCIBxwyZAhjAD3OPU/3hgAJoDf8Cv5sEsCCXwIEgAiEhgAyjkeMGCFnnHGGXHzxxaYUnVoAc6E/WF9f38i1i/GcfvrpcuCBB8qNN95oKqSgnXjiiSYLGFZKHHPWWWeZ7GdmAYe2dNgxLYAS4yrwhgAJoDf8eDYRIALZI/DAAw+YuL9//vOf5iI2AQxLf9AZA4hx2TqA+D/iJqED2L59++xvnmcSAY8I0ALoEcBCP50EsNBXAO+fCISDwPz5802s3bRp00z1ESWAmgRy7bXXyuzZs5u9/mA46LPX5oAACWBzmMUQ74EEMETw2TURKGAEnnjiCbnssssaWdHWrFlj/n/mmWeauEBk3y5btkyKi4sNUpCsmThxonz55ZcFjBxvnQg0IEACyJVABIgAESAC+YhAaxGpsAaOkJ5vROQsEXldRLaJyDwReVxE7hCRgSLyiojcJyL/Lx9vmGMmAkTAPwQYA+gflrwSESACRCBsBOpF5GgReXP7QFB6434RGSoiVSLyoIjsqNEW9mjZPxEgAqEhQAIYGvTsmAgQASJABIgAESAC4SBAAhgO7uyVCBABIkAEiAARIAKhIUACGBr07JgIEAEiQASIABEgAuEgQAIYDu7slQgQASJABIgAESACoSFAAhga9OyYCBABIkAEiAARIALhIEACGA7u7JUIEAEiQASIABEgAqEhQAIYGvTsmAgQASJABIgAESAC4SBAAhgO7uyVCBABIkAEiAARIAKhIUACGBr07JgIEAEiQASIABEgAuEgQAIYDu7slQgQASJABIgAESACoSFAAhga9OyYCBABIkAEiAARIALhIEACGA7u7JUIEAEiQASIABEgAqEhQAIYGvTsmAgQASJABIgAESAC4SBAAhgO7uyVCBABIkAEiAARIAKhIUACGBr07JgIEAEiQASIABEgAuEgQAIYDu7slQgQASJABIgAESACoSFAAhga9OyYCBABIkAEiAARIALhIEACGA7u7JUIEAEiQASIABEgAqEhQAIYGvTsmAgQASJABIgAESAC4SBAAhgO7uyVCBABIkAEiAARIAKhIUACGBr07JgIEAEiQASIABEgAuEgQAIYDu7slQgQASJABIgAESACoSFAAhga9OyYCBABIkAEiAARIALhIEACGA7u7JUIEAEiQASIABEgAqEhQAIYGvTsmAgQASJABIgAESAC4SBAAhgO7uyVCBABIkAEiAARIAKhIUACGBr07JgIEAEiQASIABEgAuEgQAIYDu7slQgQASJABIgAESACoSFAAhga9OyYCBABIkAEiAARIALhIEACGA7u7JUIEAEiQASIABEgAqEhQAIYGvTsmAgQASJABIgAESAC4SBAAhgO7uyVCBABIkAEiAARIAKhIUACGBr07JgIEAEiQASIABEgAuEgQAIYDu7slQgQASJABIgAESACoSFAAhga9OyYCBABIkAEiAARIALhIEACGA7u7JUIEAEiQASIABEgAqEhQAIYGvTsmAgQASJABIgAESAC4SBAAhgO7uyVCBABIkAEiAARIAKhIUACGBr07JgIEAEiQASIABEgAuEgQAIYDu7slQgQASJABIgAESACoSFAAhga9OyYCBABIkAEiAARIALhIEACGA7u7JUIEAEiQASIABEgAqEhQAIYGvTsmAgQASJABIgAESAC4SBAAhgO7uyVCBABIkAEiAARIAKhIUACGBr07JgIEAEiQASIABEgAuEgQAIYDu7slQgQASJABIgAESACoSHw/wGeu2Sz+EjQJgAAAABJRU5ErkJggg==\">"
      ],
      "text/plain": [
       "<IPython.core.display.HTML object>"
      ]
     },
     "metadata": {},
     "output_type": "display_data"
    }
   ],
   "source": [
    "fig = plt.figure()\n",
    "ax = fig.gca(projection='3d')\n",
    "c0, c1 = np.arange(0,150,1), np.arange(0,150,1)\n",
    "c2 =  \n",
    "ax.plot_surface(X, Y, Z, rstride=8, cstride=8, alpha=0.3)\n",
    "cset = ax.contour(X, Y, Z, zdir='z', offset=-100, cmap=cm.coolwarm)\n",
    "cset = ax.contour(X, Y, Z, zdir='x', offset=-40, cmap=cm.coolwarm)\n",
    "cset = ax.contour(X, Y, Z, zdir='y', offset=40, cmap=cm.coolwarm)\n",
    "\n",
    "ax.set_xlabel('X')\n",
    "ax.set_xlim(-40, 40)\n",
    "ax.set_ylabel('Y')\n",
    "ax.set_ylim(-40, 40)\n",
    "ax.set_zlabel('Z')\n",
    "ax.set_zlim(-100, 100)\n",
    "\n",
    "plt.show()\n"
   ]
  },
  {
   "cell_type": "code",
   "execution_count": 57,
   "metadata": {
    "collapsed": false
   },
   "outputs": [
    {
     "data": {
      "text/plain": [
       "array([[-30. , -29.5, -29. , ...,  28.5,  29. ,  29.5],\n",
       "       [-30. , -29.5, -29. , ...,  28.5,  29. ,  29.5],\n",
       "       [-30. , -29.5, -29. , ...,  28.5,  29. ,  29.5],\n",
       "       ..., \n",
       "       [-30. , -29.5, -29. , ...,  28.5,  29. ,  29.5],\n",
       "       [-30. , -29.5, -29. , ...,  28.5,  29. ,  29.5],\n",
       "       [-30. , -29.5, -29. , ...,  28.5,  29. ,  29.5]])"
      ]
     },
     "execution_count": 57,
     "metadata": {},
     "output_type": "execute_result"
    }
   ],
   "source": [
    "X"
   ]
  },
  {
   "cell_type": "code",
   "execution_count": 47,
   "metadata": {
    "collapsed": false
   },
   "outputs": [],
   "source": [
    "ubar = cM.PVU(cM.y,cM.beta)"
   ]
  },
  {
   "cell_type": "code",
   "execution_count": 48,
   "metadata": {
    "collapsed": false
   },
   "outputs": [
    {
     "data": {
      "text/plain": [
       "64.00988831949365"
      ]
     },
     "execution_count": 48,
     "metadata": {},
     "output_type": "execute_result"
    }
   ],
   "source": [
    "ubar"
   ]
  },
  {
   "cell_type": "code",
   "execution_count": null,
   "metadata": {
    "collapsed": true
   },
   "outputs": [],
   "source": []
  }
 ],
 "metadata": {
  "kernelspec": {
   "display_name": "Python 3",
   "language": "python",
   "name": "python3"
  },
  "language_info": {
   "codemirror_mode": {
    "name": "ipython",
    "version": 3
   },
   "file_extension": ".py",
   "mimetype": "text/x-python",
   "name": "python",
   "nbconvert_exporter": "python",
   "pygments_lexer": "ipython3",
   "version": "3.4.3"
  }
 },
 "nbformat": 4,
 "nbformat_minor": 0
}
