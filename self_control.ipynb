{
 "cells": [
  {
   "cell_type": "markdown",
   "metadata": {},
   "source": [
    "# Time-inconsistent preferences and the demand and supply of commitment:\n",
    "## A graphical analysis\n",
    "**Karna Basu and Jonathan Conning**\n",
    "\n",
    "Department of Economics, Hunter College and The Graduate Center, City University of New York"
   ]
  },
  {
   "cell_type": "code",
   "execution_count": 1,
   "metadata": {
    "collapsed": false
   },
   "outputs": [
    {
     "name": "stdout",
     "output_type": "stream",
     "text": [
      "Last updated: Fri Jul 08 2016 16:21:26 \n"
     ]
    }
   ],
   "source": [
    "%reload_ext watermark\n",
    "%watermark -u -n -t "
   ]
  },
  {
   "cell_type": "markdown",
   "metadata": {},
   "source": [
    "**Abstract:** Important empirical and theoretical literaturea have developed around models of procrastination and the struggle for self-control or resistance to present-bias or temptation. A popular modeling strategy is to follow Laibson (1997) in assuming that consumers are present-biased and have time inconsistent $\\beta-\\delta$ quasi-hyperbolic and preferences. While several papers have analyzed different properties of this model have variations and extensions have even been employed in calibrated numerical macro models, we are not aware of any papers that explain the model in simple graphical terms. \n",
    "\n",
    "  This note describes the relatively simple mathematical and graphical analysis of the challenges facing a time-inconsistent in consumer attempting to smooth consumption over time. Because the sophisticated present-biased quasi-hyperbolic discounter anticipates the ways in which her future self will attempt to renegotiate or refinance the terms of a contract, she acts to choose the terms of the contract anticipating her latter-period self's best reaction. The equilibrium contract is found as the sub-game perfect Nash equilibrium of a Stackelberg game.  The equilibrium that the time-inconsistent consumer can achieve on her own will in general deliver less utility than if the period zero consumer could commit their latter selves to sticking to the the terms of the contract that the period zero self prefers.  This gives rise to the demand fr commitment services."
   ]
  },
  {
   "cell_type": "markdown",
   "metadata": {},
   "source": [
    "## Python Preliminaries\n",
    "\n",
    "The simulations and diagrams below were written in python. The following code block just imports various libraries and sets a few global parameters."
   ]
  },
  {
   "cell_type": "code",
   "execution_count": 2,
   "metadata": {
    "collapsed": true
   },
   "outputs": [],
   "source": [
    "%matplotlib inline\n",
    "import numpy as np\n",
    "import matplotlib.pyplot as plt\n",
    "from matplotlib import gridspec\n",
    "from ipywidgets import interact,fixed\n",
    "plt.rcParams['figure.figsize'] = 10, 8\n",
    "np.set_printoptions(precision=2) "
   ]
  },
  {
   "cell_type": "markdown",
   "metadata": {},
   "source": [
    "## The model"
   ]
  },
  {
   "cell_type": "markdown",
   "metadata": {},
   "source": [
    "Consider the following simple workhorse three-period consumption smoothing model where consumers' preferences are summarized by constant relative risk aversion (CRRA) utility. In any period the consumer's instantaneous utility is given by $u(c)=c^{1-ρ}/(1-ρ)$.  Over three period the agent maximizes utility\n",
    "\n",
    "$$ U(c_0, c_1, c_2) =u(c_0) + \\beta [\\delta u(c_1) + \\delta^2 u(c_2)]$$ \n",
    "\n",
    "This is a version of the classic $\\beta-\\delta$ quasi-hyperbolic discounting model.  We assume the consumer has an autarky income stream ${y}=\\{y_{0},y_{1},y_{2}\\}$ which defines autarky or reservation utility $ \\overline{u}(y) = U(y₀,y₁,y₂)$ but in general will prefer a smoother consumption profile from contracting on financial markets. "
   ]
  },
  {
   "cell_type": "markdown",
   "metadata": {},
   "source": [
    "### Consumption smoothing with and without commitment services"
   ]
  },
  {
   "cell_type": "markdown",
   "metadata": {},
   "source": [
    "#### Competitive full-commitment\n",
    "Assume at first that financial intermediaries compete to offer contracts to a client.  \n",
    "\n",
    "Let's assume at first that a financial intermediary can offer a multiperiod contract and can -- at zero cost -- credibly commit to not renegotiating the terms of that contract. For the moment as well we will assume that this contract can also be made exclusive in the sense that we can stop a new bank from offering a more attractive additional or alternative contract to the period 1 self.  We'll relax both assumptions shortly."
   ]
  },
  {
   "cell_type": "markdown",
   "metadata": {},
   "source": [
    "The offered contract will maximize the period-0 self's present value of utility $$ U(c_{0},c_{1},c_{2})=u(c_{0})+\\beta \\left[ \\delta u(c_{1})+\\delta ^{2}u(c_{2})\\right] $$\n",
    "subject to the bank's zero profit condition or, same thing, consumer budget constraint:\n",
    "\n",
    "$$\\sum\\limits_{t=0}^{2}\\frac{\\left( y_{t}-c_{t}\\right) }{\\left( 1+r\\right) ^{t}} = 0$$\n",
    "\n",
    "\n",
    "At the optimal contract $C^fc$ the consumer may save or borrow, depending on their initial income stream and preferred/feasible smoothed consumption stream available from contracting.  "
   ]
  },
  {
   "cell_type": "markdown",
   "metadata": {},
   "source": [
    "The first order conditions for an optimum are:\n",
    "\n",
    "$$u'(c_0) = \\beta \\delta (1+r) u'(c_1)$$\n",
    "\n",
    "$$u'(c_1) = \\delta (1+r) u'(c_2)$$"
   ]
  },
  {
   "cell_type": "markdown",
   "metadata": {},
   "source": [
    "The optimal contract will be the three period consumption profile that brings the consumer to the highest feasible iso-utility surface (analagous to an indifference curve except in 3 dimensins), and that will be at a point where the iso-utility surface is tangent to the zero-profit hyperplane that cuts through endowment point *$y$*  \n",
    "\n",
    "Rather than try to depict the optimal contract om three-dimensional space, we will employ a simple trick to depict the optimal contract in two-dimensional figures.  Since the optimal contract must satisfy the consumer budget or zero-profit constraint, if we know the $c_0$ and $c_1$ the value of $c_2$ is determined from the budget constraint."
   ]
  },
  {
   "cell_type": "markdown",
   "metadata": {},
   "source": [
    "For the CRRA case these can be rewritten as:\n",
    "\n",
    "$$c_1 = c_0 [ \\beta \\delta (1+r) ]^\\frac{1}{\\rho}$$\n",
    "\n",
    "$$c_1 = c_2$$"
   ]
  },
  {
   "cell_type": "markdown",
   "metadata": {},
   "source": [
    "In what follows we'll assume for simplicity and without loss of generality that $\\delta = \\frac{1}{1+r}$ and furthermore that $r=0$ and hence $\\delta = 1$. This simplifies the expressions without changing the essential tradeoffs.\n",
    "\n",
    "If we substitute the FOC $c_1=c_2$ into the consumer's binding budget constraint (the bank's zero profit condition) the problem can be reduced from three equation (two FOC and the zero profit condition) to two:\n",
    "\n",
    "$$c_1 = \\beta^\\frac{1}{\\rho} c_0$$\n",
    "\n",
    "$$ c_1 = \\frac{\\sum y - c_0}{2}$$"
   ]
  },
  {
   "cell_type": "markdown",
   "metadata": {},
   "source": [
    "The first equation highlight's the period-zero self's present bias --they want to consume more in period zer than in period one--  while the second summarizes that hey want to smooth whatever resources are left to future consumption equally between periods 1 and 2. "
   ]
  },
  {
   "cell_type": "markdown",
   "metadata": {},
   "source": [
    "Figure 1 below illustrates how the equilibrium contract is determined, drawn for the CRRA case where $\\beta=0.5$ and $\\rho = 1$ and $\\sum y =300$.  The first of these two lines (that the MRS between period 0 and period 1 equal the price ratio or interest rate) can be seen as the upward sloping income-expansion income-expansion line in the rightmost quadrant diagram in $c_0$ and $c_1$ space.   The second line which combines the second FOC and zero profit condition is seen as the downward sloping dashed line.\n",
    "\n",
    "The two dashed lines meet at point $(c_0^{fc}, c_1^{fc})$ in the rightmost quadrant.  \n",
    "\n",
    "The leftmost quadrant is in $c_1$ and $c_2$ space, turned on its side, 90 degrees counterclockwise. The FOC condition ($c_1 = c_2$) is represented by a 45 degree line.  We can simply read off $c_2 = c_1$ from this line and the value of $c_1$ determined in the other quadrant, but we should also note that the point of intersection must also satisfy the budget constraint, namely that consumption in periods 1 and 2 cannot exceed the value of the endowment less period zero consumption. "
   ]
  },
  {
   "cell_type": "code",
   "execution_count": 3,
   "metadata": {
    "collapsed": false
   },
   "outputs": [
    {
     "data": {
      "image/png": "[encoded data removed]",
      "text/plain": [
       "<IPython.core.display.Image object>"
      ]
     },
     "metadata": {},
     "output_type": "display_data"
    }
   ],
   "source": [
    "from IPython.display import Image, display\n",
    "i = Image(filename='Figure1.png')\n",
    "display(i)"
   ]
  },
  {
   "cell_type": "markdown",
   "metadata": {},
   "source": [
    "For the CRRA case it's easy to find closed form solutions:\n",
    "\n",
    "$$c_0^{fc} = \\frac{\\sum y}{1+2\\beta^\\frac{1}{\\rho}}$$\n",
    "$$c_1^{fc} = c_2^{fc} = \\beta^\\frac{1}{\\rho} c_0^{fc} $$"
   ]
  },
  {
   "cell_type": "markdown",
   "metadata": {},
   "source": [
    "#### A simple numerical example\n",
    "\n",
    "Suppose the model parameters were as follows (and as all along $r=0$ and $\\delta=1$)"
   ]
  },
  {
   "cell_type": "code",
   "execution_count": 4,
   "metadata": {
    "collapsed": true
   },
   "outputs": [],
   "source": [
    "beta = 0.5\n",
    "rho = 1\n",
    "Y = 300"
   ]
  },
  {
   "cell_type": "markdown",
   "metadata": {},
   "source": [
    "The following function solves for period zero's optimal 'full commitment contract' using the equations above:"
   ]
  },
  {
   "cell_type": "code",
   "execution_count": 5,
   "metadata": {
    "collapsed": true
   },
   "outputs": [],
   "source": [
    "def c0fc(beta=beta, rho=rho):\n",
    "    '''Full Commitment contract'''\n",
    "    btr = beta**(1/rho)\n",
    "    Y = 300\n",
    "    c0 = Y/(1+2*btr)\n",
    "    return c0, btr*c0, btr*c0"
   ]
  },
  {
   "cell_type": "markdown",
   "metadata": {},
   "source": [
    "The optimal contract for these parameters is "
   ]
  },
  {
   "cell_type": "code",
   "execution_count": 6,
   "metadata": {
    "collapsed": false
   },
   "outputs": [
    {
     "data": {
      "text/plain": [
       "(150.0, 75.0, 75.0)"
      ]
     },
     "execution_count": 6,
     "metadata": {},
     "output_type": "execute_result"
    }
   ],
   "source": [
    "c0fc()"
   ]
  },
  {
   "cell_type": "markdown",
   "metadata": {},
   "source": [
    "If the consumer had an income stream  $ y =(100, 100, 100)$ then we'd interpret this as a borrowing contract, as the period 0 consumer would want to borrow 50 in period zero andthen balance repayments between period 1 and 2.\n",
    "\n",
    "Saving/repayments (positives) and borrowing/dissaving (negatives) in each period would be written:"
   ]
  },
  {
   "cell_type": "code",
   "execution_count": 7,
   "metadata": {
    "collapsed": false
   },
   "outputs": [
    {
     "data": {
      "text/plain": [
       "array([-50.,  25.,  25.])"
      ]
     },
     "execution_count": 7,
     "metadata": {},
     "output_type": "execute_result"
    }
   ],
   "source": [
    "[100, 100, 100] - np.array(c0fc())"
   ]
  },
  {
   "cell_type": "markdown",
   "metadata": {},
   "source": [
    "If on the other hand the consumer had an income stream  $ y =(200, 50, 50)$ then we'd interpret this as a savings contrac, with the consumer saving 50 in period zero to be shared equally between period 1 and 2 consumption."
   ]
  },
  {
   "cell_type": "markdown",
   "metadata": {},
   "source": [
    "## refinance and self-control"
   ]
  },
  {
   "cell_type": "markdown",
   "metadata": {},
   "source": [
    "We recast this slightly to focus on the role of savings.  Period 0 self (henceforth 'zero-self') chooses period zero savings $s_0$ (and by implication period 0 consumption $c_0 = y_0 - s_0$).  In period 1 his later 'one-self' reacts by choosing her own preferred period 1 savings $s_1$ (or, same thing $c_1$ and by implication $c_2$).  \n",
    "\n",
    "We need to find one-self's 'reaction function'.  They choose $c_1$ to maximize\n",
    "\n",
    "$$u(c_{1})+\\beta \\delta u(c_{2})$$\n",
    "\n",
    "subject to\n",
    "\n",
    "$$c_1(1+r)+c_2 =y_1 (1+r) +y_2+s_0 (1+r)^2$$"
   ]
  },
  {
   "cell_type": "markdown",
   "metadata": {},
   "source": [
    "The FOC give us\n",
    "\n",
    "$$u'(c_{1})=\\beta \\delta(1+r) {u'(c_2)} $$\n",
    "\n",
    "which for this CRRA case give us\n",
    "\n",
    "$$c_{2} = [\\beta \\delta (1+r) ]^\\frac{1}{\\rho} c_1$$\n",
    "\n",
    "Substituting this into the intertemporal budget constraint above we can solve for the reaction function:\n",
    "\n",
    "$$ c_1(s_{0} )= \\frac{s_0 (1+r)^2+y_1 (1+r) +y_2}\n",
    "{(1+r)+[ \\beta \\delta(1+r)]^\\frac{1}{\\rho} }\n",
    " $$"
   ]
  },
  {
   "cell_type": "markdown",
   "metadata": {},
   "source": [
    "Note that if $\\delta=\\frac{1}{1+r}$ and $r=0$ then this last expression simplifies to:\n",
    "    \n",
    "$$ c^1_1(s_{0} )= \\frac{s_0+y_1 +y_2}{1 + \\beta ^\\frac{1}{\\rho} }  $$\n",
    " \n",
    " Without loss of generality we will focus on this stripped down version of the expression."
   ]
  },
  {
   "cell_type": "markdown",
   "metadata": {},
   "source": [
    "Note that the zero-self wants each extra dollar of saving (or debt) $s_0$ that they pass on to period one that 1/2 of that dollar be for period 1 and the other half for period 2.  In other words they want\n",
    "\n",
    "$$\\frac{dc^0_1}{ds_0} = \\frac{dc_2}{ds_0} =\\frac{1}{2}$$\n",
    "\n",
    "But One-self instead prefers \n",
    "\n",
    "$$\\frac{dc^1_1}{ds_0} =\\frac{1}{1+\\beta^\\frac{1}{\\rho}} > \\frac{1}{2}$$\n",
    "and \n",
    "$$\\frac{dc^1_2}{ds_0} =\\frac{\\beta^\\frac{1}{\\rho}}{1+\\beta^\\frac{1}{\\rho}}<\\frac{1}{2}$$\n",
    "\n",
    "Zero-self will therefore act to strategically control how much savings is passed on, behaving much like a Stackelberg leader."
   ]
  },
  {
   "cell_type": "markdown",
   "metadata": {},
   "source": [
    "They choose $s_0$ to:\n",
    "    \n",
    "$$\\max u(y_0-s_{0})+\\beta \\left[ u(c^1_1(s_0))+u(c^1_2(s_0))\\right] $$"
   ]
  },
  {
   "cell_type": "markdown",
   "metadata": {},
   "source": [
    "Recall that One-self will always have $c_2^1 =\\beta^\\frac{1}{\\rho} c_1^1$ and also note that for the CRRA case we can write\n",
    "$u(\\beta^\\frac{1}{\\rho}c_1^1)=\\beta^\\frac{1-\\rho}{\\rho}u(c_1^1)$ \n",
    "so we can rewrite the objective as:\n",
    "\n",
    "$$\\max u(y_0-s_{0})+\\beta (1+\\beta^\\frac{1-\\rho}{\\rho}) u(c^1_1(s_0))$$"
   ]
  },
  {
   "cell_type": "markdown",
   "metadata": {},
   "source": [
    "The  FOC will therefore be:\n",
    "$$u'(y_0-s_0) = \\beta (1+\\beta^\\frac{1-\\rho}{\\rho}) u'(c_1^1(s_0)) \\frac{dc_1^1}{ds_0}$$"
   ]
  },
  {
   "cell_type": "markdown",
   "metadata": {},
   "source": [
    "$$u'(y_0-s_0) = \\frac{\\beta +\\beta^\\frac{1}{\\rho}}{1+\\beta^\\frac{1}{\\rho}} u'(c_1^1(s_0)) $$"
   ]
  },
  {
   "cell_type": "markdown",
   "metadata": {},
   "source": [
    "and after some substitutions and simplifications:\n",
    "$$(y_0-s_0)^{-\\rho}\n",
    "= \\frac{ \\beta+\\beta^\\frac{1}{\\rho}}{1+\\beta^\\frac{1}{\\rho}}\n",
    "(\\frac{s_0+y_1 +y_2}{1 + \\beta ^\\frac{1}{\\rho} })^{-\\rho} $$"
   ]
  },
  {
   "cell_type": "markdown",
   "metadata": {},
   "source": [
    "$$   \\frac{s_0+y_1 +y_2}{1 + \\beta ^\\frac{1}{\\rho} }\n",
    "= \\Lambda^\\frac{1}{\\rho}\n",
    "(y_0-s_0) $$\n",
    "\n",
    "where $\\Lambda = \\frac{\\beta +\\beta^\\frac{1}{\\rho}}{1+\\beta^\\frac{1}{\\rho}}$"
   ]
  },
  {
   "cell_type": "markdown",
   "metadata": {},
   "source": [
    "Or solving for  $c_0$ :\n",
    "\n",
    "$$c_0 = \\frac{\\sum y}{1+\\Lambda^\\frac{1}{\\rho}(1+\\beta^\\frac{1}{\\rho})} $$"
   ]
  },
  {
   "cell_type": "markdown",
   "metadata": {},
   "source": [
    "Note that we can compare period 0 consumption under this 'own smoothing' situation to the full commitment situation where we have shown that:\n",
    "\n",
    "$$c_0 = \\frac{\\sum y}{1+2\\beta^\\frac{1}{\\rho}} $$\n",
    "\n",
    "From which it's clear that savings is higher or lower depending on a comparison of the two denominators... Empirically however the difference in period 0 consumption seems very small... Most of the action is in terms of period 1 and 2 as the follownig shows."
   ]
  },
  {
   "cell_type": "markdown",
   "metadata": {},
   "source": [
    "### Visualized"
   ]
  },
  {
   "cell_type": "markdown",
   "metadata": {},
   "source": [
    "As in the other notebooks we import a module that gives us a generic 'Contract' class that defines a few attributes (e.g. default parameters of the utility function, initial endowments, etc.) and useful methods to calculate profits, utility, etc."
   ]
  },
  {
   "cell_type": "code",
   "execution_count": 8,
   "metadata": {
    "collapsed": false
   },
   "outputs": [],
   "source": [
    "def c0own(beta=beta, rho=rho):\n",
    "    '''Own-smoothing contract'''\n",
    "    btr = beta**(1/rho)\n",
    "    lm = (beta + btr)/(1+btr)\n",
    "    c0 = Y/(1+(1+btr)*lm**(1/rho))\n",
    "    c1 = (Y-c0)/(1+btr)\n",
    "    c2 = btr*c1\n",
    "    return c0, c1, c2\n",
    "    \n",
    "    \n",
    "def plotC(rho=rho):\n",
    "    bt = np.linspace(0,1, 100)\n",
    "    fig, ax = plt.subplots(figsize=(7,6))\n",
    "    c0F,c1F,c2F = c0fc(bt, rho)\n",
    "    c0o,c1o,c2o = c0own(bt, rho)\n",
    "    ax.plot(bt, c0F)\n",
    "    ax.plot(bt, c1F)\n",
    "    ax.plot(bt, c0F+c1F,'r')\n",
    "    ax.plot(bt, c0o,'--')\n",
    "    ax.plot(bt, c1o,'--')\n",
    "    ax.plot(bt, c0o+c1o,'r--')\n",
    "    ax.plot(bt, c2o,'--')\n",
    "    fig.suptitle(r'$\\rho$ = {}'.format(rho),fontsize=18)\n",
    "    ax.set_xlabel(r'$\\beta$', fontsize=16)\n",
    "    plt.grid()\n",
    "    plt.show()\n",
    "    return"
   ]
  },
  {
   "cell_type": "code",
   "execution_count": 9,
   "metadata": {
    "collapsed": false
   },
   "outputs": [
    {
     "data": {
      "text/plain": [
       "(150.0, 75.0, 75.0)"
      ]
     },
     "execution_count": 9,
     "metadata": {},
     "output_type": "execute_result"
    }
   ],
   "source": [
    "c0fc(beta, rho)"
   ]
  },
  {
   "cell_type": "code",
   "execution_count": 10,
   "metadata": {
    "collapsed": false
   },
   "outputs": [
    {
     "data": {
      "text/plain": [
       "(150.0, 100.0, 50.0)"
      ]
     },
     "execution_count": 10,
     "metadata": {},
     "output_type": "execute_result"
    }
   ],
   "source": [
    "c0own()"
   ]
  },
  {
   "cell_type": "code",
   "execution_count": 11,
   "metadata": {
    "collapsed": false
   },
   "outputs": [
    {
     "data": {
      "image/png": "[encoded data removed]",
      "text/plain": [
       "<matplotlib.figure.Figure at 0x53fa828>"
      ]
     },
     "metadata": {},
     "output_type": "display_data"
    },
    {
     "data": {
      "text/plain": [
       "<function __main__.plotC>"
      ]
     },
     "execution_count": 11,
     "metadata": {},
     "output_type": "execute_result"
    }
   ],
   "source": [
    "interact(plotC,y0=(1,150,1),y1=(1,150,1),rho=(0.1,3,0.05))"
   ]
  },
  {
   "cell_type": "markdown",
   "metadata": {},
   "source": [
    "## Best response function, and Stackelberg"
   ]
  },
  {
   "cell_type": "code",
   "execution_count": 12,
   "metadata": {
    "collapsed": true
   },
   "outputs": [],
   "source": [
    "def c1br(c0, beta=beta, rho=rho):\n",
    "    '''One Selfs best response to Zero-self contract '''\n",
    "    btr = beta**(1/rho)\n",
    "    c11 = (Y - c0)/(1+btr)\n",
    "    c12 = btr*c11\n",
    "    return c0,c11,c12\n",
    "    \n",
    "def c0rp(beta=beta, rho=rho):\n",
    "    '''Zero's Stackelberg contract '''\n",
    "    btr = beta**(1/rho)\n",
    "    lam = (beta + btr)/(1+btr)\n",
    "    lmr = lam**(1/rho)\n",
    "    c00rp = Y/(1+(1+btr)*lmr)\n",
    "    c01rp = lmr*c00rp\n",
    "    c02rp = btr*c01rp\n",
    "    return c00rp, c01rp, c02rp "
   ]
  },
  {
   "cell_type": "code",
   "execution_count": 13,
   "metadata": {
    "collapsed": false
   },
   "outputs": [
    {
     "data": {
      "text/plain": [
       "(150.0, 75.0, 75.0)"
      ]
     },
     "execution_count": 13,
     "metadata": {},
     "output_type": "execute_result"
    }
   ],
   "source": [
    "c0fc()"
   ]
  },
  {
   "cell_type": "code",
   "execution_count": 14,
   "metadata": {
    "collapsed": false
   },
   "outputs": [],
   "source": [
    "cc = np.linspace(0,300,300)"
   ]
  },
  {
   "cell_type": "code",
   "execution_count": 15,
   "metadata": {
    "collapsed": true
   },
   "outputs": [],
   "source": [
    "cc = np.linspace(0,300, 100)\n",
    "btr = beta**(1/rho)\n",
    "lam = (beta + btr)/(1+btr)\n",
    "lmr = lam**(1/rho)"
   ]
  },
  {
   "cell_type": "markdown",
   "metadata": {},
   "source": [
    "## Two-quadrant plot  - Competitive"
   ]
  },
  {
   "cell_type": "code",
   "execution_count": 34,
   "metadata": {
    "collapsed": false
   },
   "outputs": [],
   "source": [
    "def bdplot(beta=beta, rho=rho, fc = True, rp = True, figname='Figure', monopoly=False):\n",
    "    '''Plot two quadrant diagram representation. The flag fc and rp allow us to turn on\n",
    "    or supress full commit or '''\n",
    "    ymax = 200\n",
    "    aspect = 1\n",
    "    cfc = c0fc(beta=beta, rho=rho)\n",
    "    crp = c0rp(beta=beta, rho=rho)\n",
    "    fontsize = 18\n",
    "    \n",
    "    btr = beta**(1/rho)\n",
    "    lam = (beta + btr)/(1+btr)\n",
    "    lmr = lam**(1/rho)\n",
    "\n",
    "    fig = plt.figure()\n",
    "    gs = gridspec.GridSpec(1, 2, width_ratios=[1, 2]) \n",
    "\n",
    "    ax0 = plt.subplot(gs[1])\n",
    "    #ax0.set_title(r'$\\beta=$ {:2.2f} $\\rho=$ {:2.2f}'.format(beta, rho))\n",
    "    ax0.set_ylim(0, ymax)\n",
    "    ax0.yaxis.set_label_position(\"right\")\n",
    "    #ax0.yaxis.tick_right()\n",
    "    ax0.set_xlabel(r'$c_0$', fontsize=fontsize)\n",
    "    ax0.set_ylabel(r'$c_1$', fontsize=fontsize)\n",
    "    ax0.text(Y,3,'M',fontsize=15)\n",
    "\n",
    "    ax1 = plt.subplot(gs[0])\n",
    "    ax1.yaxis.set_ticks_position('left')\n",
    "    ax1.xaxis.set_ticks_position('bottom')\n",
    "    ax1.yaxis.set_label_position('left')\n",
    "    ax1.set_ylabel(r'$c_1$', fontsize=fontsize)\n",
    "    #ax1.set_title(r'$c^f =$ ({:3.1f}, {:3.1f}, {:3.1f})'.format(cfc[0],cfc[1],cfc[2]))\n",
    "    \n",
    "    if monopoly:\n",
    "        pass\n",
    "    else:\n",
    "        \n",
    "    \n",
    "    if fc:\n",
    "        fcstyle = '--'\n",
    "        fccolor = 'r'\n",
    "        if fc and not rp:\n",
    "            linestyle = '-'\n",
    "        ax0.plot(cc, 0.5*(Y-cc),'r--', label='Zero FC future')\n",
    "        ax0.plot(cc, btr*cc, linestyle=fcstyle, color = fccolor, label='FC smooth')\n",
    "        ax0.plot(cfc[0],cfc[1], marker='o')\n",
    "        ax0.plot(cc, Y-cc, ':', label = 'Future net income')\n",
    "        ax0.text(cfc[0],cfc[1]+3,'F',fontsize=15)\n",
    "        ax1.plot(cc, (Y-cfc[0])-cc,'k-')\n",
    "        ax1.plot(cc, cc*btr**(-1),'b-')\n",
    "        ax1.plot(cc, cc,'r--')\n",
    "        ax1.plot(cfc[2], cfc[1],marker='o')\n",
    "        ax1.text(cfc[2]+4,cfc[1]+8,r\"$F$\",fontsize=15, rotation='vertical')\n",
    "        ax0.text(250, btr*230, r'$\\beta^\\frac{1}{\\rho}$', fontsize=15)\n",
    "        xx = [cfc[0]]\n",
    "        yy = [cfc[1]]\n",
    "        zz = [cfc[2]]\n",
    "        [ax0.plot([dot_c0, dot_c0], [0, dot_c1],':',linewidth = 1,color='black' ) for dot_c0, dot_c1 in zip(xx,yy) ] \n",
    "        [ax0.plot([0, dot_c0], [dot_c1, dot_c1],':',linewidth = 1,color='black' ) for dot_c0, dot_c1 in zip(xx,yy) ]\n",
    "        [ax0.plot([0, dot_c0], [dot_c1, dot_c1],':',linewidth = 1,color='black' ) for dot_c0, dot_c1 in zip(xx,yy) ]\n",
    "        [ax0.plot([dot_c0, dot_c0], [dot_c1, Y-dot_c0],':',linewidth = 1,color='black' ) for dot_c0, dot_c1 in zip(xx,yy) ]\n",
    "        [ax0.plot([dot_c0, 0], [Y-dot_c0, Y-dot_c0],':',linewidth = 1,color='black' ) for dot_c0, dot_c1 in zip(xx,yy) ]\n",
    "        [ax1.plot([dot_c2, dot_c2], [0, dot_c1],':',linewidth = 1,color='black' ) for dot_c1, dot_c2 in zip(yy,zz) ]\n",
    "        [ax1.plot([dot_c2,0], [dot_c1, dot_c1],':',linewidth = 1,color='black' ) for dot_c1, dot_c2 in zip(yy,zz) ]\n",
    "\n",
    "    if rp:\n",
    "        ax0.plot(cc, c1br(cc, beta, rho)[1],'b-', label = 'One BR')\n",
    "        ax0.plot(cc, lmr*cc,'b-', label='Stackelberg')\n",
    "        ax0.plot(crp[0],crp[1],marker='o')    \n",
    "        ax0.text(250, lmr*235, r'$\\Lambda^\\frac{1}{\\rho}$', fontsize=15)\n",
    "        ax0.text(crp[0],crp[1]+3,'P',fontsize=15)\n",
    "        ax1.text(crp[2]+4,crp[1]+10,r\"$P$\",fontsize=15, rotation='vertical')\n",
    "        ax1.plot(crp[2], crp[1],marker='o')\n",
    "        xx = [crp[0]]\n",
    "        yy = [crp[1]]\n",
    "        zz = [crp[2]]\n",
    "        [ax0.plot([dot_c0, dot_c0], [0, dot_c1],':',linewidth = 1,color='black' ) for dot_c0, dot_c1 in zip(xx,yy) ] \n",
    "        [ax0.plot([0, dot_c0], [dot_c1, dot_c1],':',linewidth = 1,color='black' ) for dot_c0, dot_c1 in zip(xx,yy) ]\n",
    "        [ax0.plot([0, dot_c0], [dot_c1, dot_c1],':',linewidth = 1,color='black' ) for dot_c0, dot_c1 in zip(xx,yy) ]\n",
    "        [ax0.plot([dot_c0, dot_c0], [dot_c1, Y-dot_c0],':',linewidth = 1,color='black' ) for dot_c0, dot_c1 in zip(xx,yy) ]\n",
    "        [ax0.plot([dot_c0, 0], [Y-dot_c0, Y-dot_c0],':',linewidth = 1,color='black' ) for dot_c0, dot_c1 in zip(xx,yy) ]\n",
    "        [ax1.plot([dot_c2, dot_c2], [0, dot_c1],':',linewidth = 1,color='black' ) for dot_c1, dot_c2 in zip(yy,zz) ]\n",
    "        [ax1.plot([dot_c2,0], [dot_c1, dot_c1],':',linewidth = 1,color='black' ) for dot_c1, dot_c2 in zip(yy,zz) ]\n",
    "\n",
    "    ax1.set_ylim(0,ymax)\n",
    "    ax1.set_xlim(0,150)\n",
    "    ax1.invert_xaxis()\n",
    "    ax1.set_xlabel('$c_2$', fontsize=fontsize)\n",
    "\n",
    "    for side in ['right','top']:\n",
    "        ax0.spines[side].set_visible(False)\n",
    "        ax1.spines[side].set_visible(False)\n",
    "\n",
    "    #scaling and grid    \n",
    "    ax0.set_aspect(aspect)\n",
    "    ax1.set_aspect(1)\n",
    "    #ax0.grid()\n",
    "    #ax1.grid()\n",
    "\n",
    "    #ax0.text(20, 0.5*(Y-50), r'$\\frac{1}{2}\\sum (y-c_0)$', fontsize=14)\n",
    "    #ax0.text(20, (1/(1+btr))*(Y-30), r'$\\frac{1}{1+\\beta^\\frac{1}{\\rho}}\\sum (y-c_0)$', fontsize=14)\n",
    "\n",
    "    ax1.text(btr*150, 150,  r'$\\beta^\\frac{1}{\\rho}$', fontsize=15, rotation='vertical')\n",
    "\n",
    "    fig.subplots_adjust(wspace=0)\n",
    "    plt.show()\n",
    "    fig.savefig(figname+'.png', format='png')\n",
    "    print(cfc)\n",
    "    print(crp)\n",
    "    return"
   ]
  },
  {
   "cell_type": "code",
   "execution_count": 35,
   "metadata": {
    "collapsed": false
   },
   "outputs": [
    {
     "data": {
      "image/png": "[encoded data removed]",
      "text/plain": [
       "<matplotlib.figure.Figure at 0xac87f0>"
      ]
     },
     "metadata": {},
     "output_type": "display_data"
    },
    {
     "name": "stdout",
     "output_type": "stream",
     "text": [
      "(150.0, 75.0, 75.0)\n",
      "(150.0, 100.0, 50.0)\n"
     ]
    }
   ],
   "source": [
    "bdplot(fc=True, rp=True, figname='Figure1')"
   ]
  },
  {
   "cell_type": "code",
   "execution_count": 36,
   "metadata": {
    "collapsed": false
   },
   "outputs": [
    {
     "data": {
      "image/png": "[encoded data removed]",
      "text/plain": [
       "<matplotlib.figure.Figure at 0x807eac8>"
      ]
     },
     "metadata": {},
     "output_type": "display_data"
    },
    {
     "name": "stdout",
     "output_type": "stream",
     "text": [
      "(150.0, 75.0, 75.0)\n",
      "(150.0, 100.0, 50.0)\n"
     ]
    },
    {
     "data": {
      "text/plain": [
       "<function __main__.bdplot>"
      ]
     },
     "execution_count": 36,
     "metadata": {},
     "output_type": "execute_result"
    }
   ],
   "source": [
    "interact(bdplot,beta=(0.1,1,0.05),rho=(0.05,5,0.005))"
   ]
  },
  {
   "cell_type": "code",
   "execution_count": 19,
   "metadata": {
    "collapsed": false
   },
   "outputs": [
    {
     "data": {
      "text/plain": [
       "array([ 150.,   75.,   75.])"
      ]
     },
     "execution_count": 19,
     "metadata": {},
     "output_type": "execute_result"
    }
   ],
   "source": [
    "cCF =np.array(c0fc(beta=0.5))\n",
    "cCF"
   ]
  },
  {
   "cell_type": "code",
   "execution_count": 20,
   "metadata": {
    "collapsed": false
   },
   "outputs": [
    {
     "data": {
      "text/plain": [
       "array([ 150.,  100.,   50.])"
      ]
     },
     "execution_count": 20,
     "metadata": {},
     "output_type": "execute_result"
    }
   ],
   "source": [
    "cCR = np.array(c0own(beta=0.5))\n",
    "cCR"
   ]
  },
  {
   "cell_type": "code",
   "execution_count": 21,
   "metadata": {
    "collapsed": true
   },
   "outputs": [],
   "source": [
    "import Contract"
   ]
  },
  {
   "cell_type": "code",
   "execution_count": 22,
   "metadata": {
    "collapsed": false
   },
   "outputs": [
    {
     "name": "stdout",
     "output_type": "stream",
     "text": [
      "beta    : 0.5\n",
      "delta   : 1.0\n",
      "guess   : [100 100 100]\n",
      "kappa   : 0\n",
      "r       : 0.0\n",
      "rho     : 0.99\n",
      "y       : [100 100 100]\n"
     ]
    }
   ],
   "source": [
    "cC = Contract.Competitive(beta=0.5)\n",
    "cC.rho = 0.99\n",
    "cC.print_params()"
   ]
  },
  {
   "cell_type": "code",
   "execution_count": 23,
   "metadata": {
    "collapsed": false
   },
   "outputs": [
    {
     "data": {
      "text/plain": [
       "array([ 74.74,  74.74])"
      ]
     },
     "execution_count": 23,
     "metadata": {},
     "output_type": "execute_result"
    }
   ],
   "source": [
    "cCF = cC.fcommit()\n",
    "cCF[1:3]"
   ]
  },
  {
   "cell_type": "code",
   "execution_count": 24,
   "metadata": {
    "collapsed": false
   },
   "outputs": [
    {
     "data": {
      "text/plain": [
       "(150.57014747879336, 99.85212555140448, 49.57772696980215)"
      ]
     },
     "execution_count": 24,
     "metadata": {},
     "output_type": "execute_result"
    }
   ],
   "source": [
    "c0own(cC.beta, cC.rho)"
   ]
  },
  {
   "cell_type": "code",
   "execution_count": 25,
   "metadata": {
    "collapsed": false
   },
   "outputs": [],
   "source": [
    "cCRP = cC.reneg_proof().x"
   ]
  },
  {
   "cell_type": "code",
   "execution_count": 26,
   "metadata": {
    "collapsed": false
   },
   "outputs": [
    {
     "data": {
      "image/png": "[encoded data removed]",
      "text/plain": [
       "<matplotlib.figure.Figure at 0x76b2da0>"
      ]
     },
     "metadata": {},
     "output_type": "display_data"
    }
   ],
   "source": [
    "plt.rcParams[\"figure.figsize\"] = (10, 8)\n",
    "c1min = 0\n",
    "c1max = 160\n",
    "c1 = np.arange(0,c1max,c1max/20)\n",
    "c1_ = np.arange(40,c1max,c1max/20)\n",
    "y = cC.y\n",
    "#cCRP = cCRPa\n",
    "#indifference curves functions\n",
    "ubar0 = cC.PVU(cCF[1:3], 1.0)\n",
    "idc0 = cC.indif(ubar0, 1.0)\n",
    "ubar1 = cC.PVU(cCF[1:3],cC.beta)\n",
    "idc1 = cC.indif(ubar1,cC.beta)\n",
    "ubar0RP = cC.PVU(cCRP[1:3], 1.0)\n",
    "idc0RP = cC.indif(ubar0RP,1.0)\n",
    "ubar1RP = cC.PVU(cCRP[1:3], cC.beta)\n",
    "idc1RP = cC.indif(ubar1RP,cC.beta)\n",
    "\n",
    "\n",
    "fig, ax = plt.subplots()\n",
    "# trick to display contract points and coordinate lines http://bit.ly/1CaTMDX\n",
    "xx = [cCF[1], cCRP[1]]\n",
    "yy = [cCF[2], cCRP[2]]\n",
    "plt.scatter(xx,yy, s=50, marker='o',color='b')\n",
    "[plt.plot([dot_x, dot_x] ,[0, dot_y],':',linewidth = 1,color='black' ) for dot_x, dot_y in zip(xx,yy) ] \n",
    "[plt.plot([0, dot_x] ,[dot_y, dot_y],':',linewidth = 1,color='black' ) for dot_x, dot_y in zip(xx,yy) ]\n",
    "\n",
    "# indifference curves\n",
    "plt.plot(c1_,idc0(c1_),color='blue')          \n",
    "plt.plot(c1_,idc1(c1_),color='red') \n",
    "plt.plot(c1_,idc0RP(c1_),color='blue')\n",
    "plt.plot(c1_,idc1RP(c1_),color='red')\n",
    "# rays\n",
    "plt.plot(c1, c1,':',color='black')\n",
    "plt.plot(c1, cC.beta**(1/cC.rho)*c1,':',color='black')\n",
    "# isoprofit line(s)\n",
    "isoprofline = cC.isoprofit(cC.profit(cCF,cC.y)-(y[0]-cCF[0]), y)\n",
    "plt.plot(c1,  isoprofline(c1),':' )\n",
    "\n",
    "ax.spines['right'].set_color('none'), ax.spines['top'].set_color('none')\n",
    "plt.ylim((c1min, c1max*0.9)), plt.xlim((c1min, c1max*0.9))\n",
    "ax.xaxis.tick_bottom(),ax.yaxis.tick_left()\n",
    "plt.xlabel('$c_{1}$'); plt.ylabel('$c_{2}$')\n",
    "\n",
    "# label the points\n",
    "ax.text(cCF[1]-1, cCF[2]+3, r\"$F$\", fontsize=15)\n",
    "ax.text(cCRP[1], cCRP[2]+1, r\"$P$\", fontsize=15)\n",
    "ax.text(cCRP[1], -6, r'$c^{cp}_{1}$', fontsize=15)\n",
    "ax.text(-8, cCRP[2], r'$c^{cp}_{2}$', fontsize=15)\n",
    "ax.text(cCF[1], -6, r'$c^{cf}_{1}$', fontsize=15)\n",
    "ax.text(-8, cCF[2], r'$c^{cf}_{2}$', fontsize=15)\n",
    "ax.text(140, btr*145, r'$\\beta^\\frac{1}{\\rho}c_1$', fontsize=15)\n",
    "\n",
    "#ax.text(0, -10, r'Competitive $\\kappa = {}$'\n",
    "#        .format(cC.kappa), fontsize=12)\n",
    "#ax.text(0, -15, r'$\\beta = {}, \\  \\rho = {}$'\n",
    "#        .format(cC.beta, cC.rho), fontsize=12)\n",
    "\n",
    "# isoprofit lines could be plotted like so\n",
    "#isop  = cC.isoprofit( cC.kappa, cCRP)   # returns a function of c1 \n",
    "#plt.plot(c1_, isop(c1_),':')\n",
    "#turn off the axis numbers\n",
    "ax.axes.get_xaxis().set_visible(False)\n",
    "ax.axes.get_yaxis().set_visible(False)\n",
    "plt.savefig('figs\\Figure2.pdf', format='pdf')\n",
    "plt.show()"
   ]
  }
 ],
 "metadata": {
  "kernelspec": {
   "display_name": "Python 3",
   "language": "python",
   "name": "python3"
  },
  "language_info": {
   "codemirror_mode": {
    "name": "ipython",
    "version": 3
   },
   "file_extension": ".py",
   "mimetype": "text/x-python",
   "name": "python",
   "nbconvert_exporter": "python",
   "pygments_lexer": "ipython3",
   "version": "3.4.5"
  },
  "widgets": {
   "state": {
    "01378c1363ce40e897ac8048506ce333": {
     "views": []
    },
    "0174fbda0c6b416abe299e4e648dc63a": {
     "views": []
    },
    "0ebc3ab91f1b44c986094473d15e8999": {
     "views": []
    },
    "11eed4fab24d421a85f3d034ce1d18ff": {
     "views": []
    },
    "1441460ff0f84d2198fbacb10ae5d0ea": {
     "views": []
    },
    "165ee0c0010e4bab8494a2a31a8fdb57": {
     "views": []
    },
    "1732d9f6fa354bb5b4db5a2f67870f49": {
     "views": []
    },
    "1b0cfc6708a345eda4edfae61ffb934d": {
     "views": []
    },
    "1fca090d171947bfbdba9e519cb87fad": {
     "views": []
    },
    "21f49d79c32c4f168dff5a95afb0496d": {
     "views": []
    },
    "241b25d824b64f36b42018c32f565d41": {
     "views": []
    },
    "2b85430d250746168e87b8c94635805b": {
     "views": []
    },
    "2f84b2e0d7a244088e30244369351d33": {
     "views": []
    },
    "38933f42b5fb458ebf6eef4406c9298d": {
     "views": []
    },
    "39ae36b778e043928f7ca9d7242766dc": {
     "views": [
      {
       "cell_index": 54
      }
     ]
    },
    "3b5587221488449c92d1a63103ac0dcf": {
     "views": []
    },
    "3c2522325ac64983971b55adc76db422": {
     "views": []
    },
    "3ceff2c025144f4486c9d217b0a98ef1": {
     "views": []
    },
    "3ea24ad82d974c43836f9ceca9256222": {
     "views": []
    },
    "41c4439a23da433bb06de37ae049e7bd": {
     "views": []
    },
    "435a95dc36d34787a3a6a3ccdcc71214": {
     "views": []
    },
    "43a5fc12b9b54294b94beee7e05bd541": {
     "views": []
    },
    "445758d2c39c4a5a84305fb54d85c25d": {
     "views": []
    },
    "44e65b468ab54bc4b747bb4966cdd19d": {
     "views": []
    },
    "478c2e2dba3f47d89184465da5a336dd": {
     "views": []
    },
    "4a1275660b4943cba74229caa2d47c2b": {
     "views": []
    },
    "517067f93f294f0fb36b72129a352fb7": {
     "views": []
    },
    "559482159e374cdd96da320283967658": {
     "views": []
    },
    "57f9e9afaba647a4bb619652eecbd9cf": {
     "views": []
    },
    "588c56a10ee44057b28933eaa3d990c7": {
     "views": []
    },
    "5a4a08a3580e4a978372aa11a75ac887": {
     "views": []
    },
    "5c091ec463b34d449484ba5f4308f7bc": {
     "views": []
    },
    "5c9837b589ff4477bf92591cc3ae5e24": {
     "views": []
    },
    "65aedf8d4f334abe9cd723090e321270": {
     "views": []
    },
    "6f808f635ba6470ebe706dfe7818ef7d": {
     "views": []
    },
    "6fd19ed597f3485ca852d130b0f9d749": {
     "views": []
    },
    "798b0ebf763c4174b8e4801bc8ecd454": {
     "views": []
    },
    "7af0814f5f0e4fa3bc465f2487e961eb": {
     "views": []
    },
    "7ba0fe09cd6c432ab46fe02e77e597c3": {
     "views": []
    },
    "7de543f268ab4f059d83488ce2ede22b": {
     "views": []
    },
    "7f5a6b0d56b34a36bceaf6f50347c6eb": {
     "views": []
    },
    "8500a9d938db471383cb29bb0511a2bc": {
     "views": []
    },
    "895bd5b6ee914c7da669867bdbfd91f4": {
     "views": []
    },
    "8c072396b94347598bf5da155ce1fa7d": {
     "views": []
    },
    "8e2736907134419a9a5eb1fcf1c7a256": {
     "views": []
    },
    "920ee976e4274423b015d449e507ce3d": {
     "views": []
    },
    "95022a7b7e204f0ebb683de043fe6ff9": {
     "views": []
    },
    "9b80a65d92494e12aa6030c6a846236a": {
     "views": []
    },
    "9c05dab03e3647568ca8ab8d265c9fa1": {
     "views": []
    },
    "9ec709a7ddaa49819bf96c8b6b8a1c8d": {
     "views": []
    },
    "a4696ed001f34d4f8bab04aa1e080e5b": {
     "views": []
    },
    "aa3036e5d3454fbbae15c9541e9a4643": {
     "views": []
    },
    "b14efa285a4d4fffaba6aa0744562cb7": {
     "views": []
    },
    "b21fef370e904be78572ad6668454776": {
     "views": []
    },
    "b28a1282a3ef469b9471c43a65a02527": {
     "views": []
    },
    "b3348a8f49dd4125a05732d343fc47f4": {
     "views": []
    },
    "b46063d7a9e14980a4f7dc82f3681de7": {
     "views": []
    },
    "b70143cb15ab4458bf89db8f1dddceac": {
     "views": []
    },
    "bca5852ca5144fe3a78e6d058bcced48": {
     "views": []
    },
    "be956b5ed73b4f42882fe2d8dd2f4db7": {
     "views": []
    },
    "bf66900677894b07bb8282b4c19c2df5": {
     "views": []
    },
    "c31a48faf3fe4676bae203f74c460151": {
     "views": []
    },
    "c84f9731da534009b30ef581433257da": {
     "views": []
    },
    "c956db0004444c34a5f6d77067d014d9": {
     "views": []
    },
    "cdc031b797204c9c946f35b25af78cec": {
     "views": []
    },
    "d13838c7f1f545c6a3577cbaa781015d": {
     "views": []
    },
    "d4b3d011fcc948fd9728c01bac107c8b": {
     "views": []
    },
    "d7ef39aa0bcd47d4aa62308209e824ec": {
     "views": []
    },
    "d857a7de9f7d4075b5cebb205b16ff47": {
     "views": []
    },
    "d8ca883de2944755a7f017af2d85711c": {
     "views": []
    },
    "dbb9727a67d241a1ac8d6dcebd809b35": {
     "views": []
    },
    "e06e47f0729d473287e1504a6d84daae": {
     "views": []
    },
    "e6236f10c1994f88a55c9a365de3f668": {
     "views": []
    },
    "eeb662f721724e1f976fa5fe72797455": {
     "views": []
    },
    "eec72cb92f374b0aa14b1fc2b8f3bdeb": {
     "views": []
    },
    "eff26ccb542c476cad592233f6c15b3a": {
     "views": [
      {
       "cell_index": 45
      }
     ]
    },
    "f00575fb27124eb3b6bb58242b4c3832": {
     "views": []
    },
    "f3796b8025fd4dc69434c81df5400b16": {
     "views": []
    },
    "f4fbf06166b94a559f7eb70ef626e8c5": {
     "views": []
    },
    "f75d9d08dbf24022982b5d4baa8ac45a": {
     "views": []
    },
    "fa80d5e056c2450588a1b69e234e5629": {
     "views": []
    },
    "ff0f4fe45f1d41549c43cfd956eb2028": {
     "views": []
    }
   },
   "version": "1.1.2"
  }
 },
 "nbformat": 4,
 "nbformat_minor": 0
}
