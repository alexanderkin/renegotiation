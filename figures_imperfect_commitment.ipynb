{
 "cells": [
  {
   "cell_type": "markdown",
   "metadata": {},
   "source": [
    "# Breakable Commitments...\n",
    "## Code to generate figures\n",
    "**Karna Basu and Jonathan Conning**\n",
    "\n",
    "Department of Economics, Hunter College and The Graduate Center, City University of New York"
   ]
  },
  {
   "cell_type": "code",
   "execution_count": 1,
   "metadata": {
    "collapsed": false
   },
   "outputs": [
    {
     "name": "stdout",
     "output_type": "stream",
     "text": [
      "Last updated: Mon Oct 17 2016 16:23:41 \n"
     ]
    }
   ],
   "source": [
    "%reload_ext watermark\n",
    "%watermark -u -n -t "
   ]
  },
  {
   "cell_type": "markdown",
   "metadata": {},
   "source": [
    "**Abstract:** Important empirical and theoretical literaturea have developed around models of procrastination and the struggle for self-control or resistance to present-bias or temptation. A popular modeling strategy is to follow Laibson (1997) in assuming that consumers are present-biased and have time inconsistent $\\beta-\\delta$ quasi-hyperbolic and preferences. While several papers have analyzed different properties of this model have variations and extensions have even been employed in calibrated numerical macro models, we are not aware of any papers that explain the model in simple graphical terms. \n",
    "\n",
    "  This note describes the relatively simple mathematical and graphical analysis of the challenges facing a time-inconsistent in consumer attempting to smooth consumption over time. Because the sophisticated present-biased quasi-hyperbolic discounter anticipates the ways in which her future self will attempt to renegotiate or refinance the terms of a contract, she acts to choose the terms of the contract anticipating her latter-period self's best reaction. The equilibrium contract is found as the sub-game perfect Nash equilibrium of a Stackelberg game.  The equilibrium that the time-inconsistent consumer can achieve on her own will in general deliver less utility than if the period zero consumer could commit their latter selves to sticking to the the terms of the contract that the period zero self prefers.  This gives rise to the demand fr commitment services."
   ]
  },
  {
   "cell_type": "markdown",
   "metadata": {},
   "source": [
    "## Python Preliminaries\n",
    "\n",
    "The simulations and diagrams below were written in python. The following code block just imports various libraries and sets a few global parameters."
   ]
  },
  {
   "cell_type": "code",
   "execution_count": 2,
   "metadata": {
    "collapsed": true
   },
   "outputs": [],
   "source": [
    "%matplotlib inline\n",
    "import numpy as np\n",
    "import matplotlib.pyplot as plt\n",
    "from matplotlib import gridspec\n",
    "from ipywidgets import interact,fixed\n",
    "plt.rcParams['figure.figsize'] = 10, 8\n",
    "np.set_printoptions(precision=2) "
   ]
  },
  {
   "cell_type": "markdown",
   "metadata": {},
   "source": [
    "## The model"
   ]
  },
  {
   "cell_type": "markdown",
   "metadata": {},
   "source": [
    "Consider the following simple workhorse three-period consumption smoothing model where consumers' preferences are summarized by constant relative risk aversion (CRRA) utility. In any period the consumer's instantaneous utility is given by $u(c)=c^{1-ρ}/(1-ρ)$.  Over three period the agent maximizes utility\n",
    "\n",
    "$$ U(c_0, c_1, c_2) =u(c_0) + \\beta [\\delta u(c_1) + \\delta^2 u(c_2)]$$ \n",
    "\n",
    "This is a version of the classic $\\beta-\\delta$ quasi-hyperbolic discounting model.  We assume the consumer has an autarky income stream ${y}=\\{y_{0},y_{1},y_{2}\\}$ which defines autarky or reservation utility $ \\overline{u}(y) = U(y₀,y₁,y₂)$ but in general will prefer a smoother consumption profile from contracting on financial markets. "
   ]
  },
  {
   "cell_type": "markdown",
   "metadata": {},
   "source": [
    "### Consumption smoothing with and without commitment services"
   ]
  },
  {
   "cell_type": "markdown",
   "metadata": {},
   "source": [
    "#### Competitive full-commitment\n",
    "Assume at first that financial intermediaries compete to offer contracts to a client.  \n",
    "\n",
    "Let's assume at first that a financial intermediary can offer a multiperiod contract and can -- at zero cost -- credibly commit to not renegotiating the terms of that contract. For the moment as well we will assume that this contract can also be made exclusive in the sense that we can stop a new bank from offering a more attractive additional or alternative contract to the period 1 self.  We'll relax both assumptions shortly."
   ]
  },
  {
   "cell_type": "markdown",
   "metadata": {},
   "source": [
    "The offered contract will maximize the period-0 self's present value of utility $$ U(c_{0},c_{1},c_{2})=u(c_{0})+\\beta \\left[ \\delta u(c_{1})+\\delta ^{2}u(c_{2})\\right] $$\n",
    "subject to the bank's zero profit condition or, same thing, consumer budget constraint:\n",
    "\n",
    "$$\\sum\\limits_{t=0}^{2}\\frac{\\left( y_{t}-c_{t}\\right) }{\\left( 1+r\\right) ^{t}} = 0$$\n",
    "\n",
    "\n",
    "At the optimal contract $C^fc$ the consumer may save or borrow, depending on their initial income stream and preferred/feasible smoothed consumption stream available from contracting.  "
   ]
  },
  {
   "cell_type": "markdown",
   "metadata": {},
   "source": [
    "The first order conditions for an optimum are:\n",
    "\n",
    "$$u'(c_0) = \\beta \\delta (1+r) u'(c_1)$$\n",
    "\n",
    "$$u'(c_1) = \\delta (1+r) u'(c_2)$$"
   ]
  },
  {
   "cell_type": "markdown",
   "metadata": {},
   "source": [
    "The optimal contract will be the three period consumption profile that brings the consumer to the highest feasible iso-utility surface (analagous to an indifference curve except in 3 dimensins), and that will be at a point where the iso-utility surface is tangent to the zero-profit hyperplane that cuts through endowment point *$y$*  \n",
    "\n",
    "Rather than try to depict the optimal contract om three-dimensional space, we will employ a simple trick to depict the optimal contract in two-dimensional figures.  Since the optimal contract must satisfy the consumer budget or zero-profit constraint, if we know the $c_0$ and $c_1$ the value of $c_2$ is determined from the budget constraint."
   ]
  },
  {
   "cell_type": "markdown",
   "metadata": {},
   "source": [
    "For the CRRA case these can be rewritten as:\n",
    "\n",
    "$$c_1 = c_0 [ \\beta \\delta (1+r) ]^\\frac{1}{\\rho}$$\n",
    "\n",
    "$$c_1 = c_2$$"
   ]
  },
  {
   "cell_type": "markdown",
   "metadata": {},
   "source": [
    "In what follows we'll assume for simplicity and without loss of generality that $\\delta = \\frac{1}{1+r}$ and furthermore that $r=0$ and hence $\\delta = 1$. This simplifies the expressions without changing the essential tradeoffs.\n",
    "\n",
    "If we substitute the FOC $c_1=c_2$ into the consumer's binding budget constraint (the bank's zero profit condition) the problem can be reduced from three equation (two FOC and the zero profit condition) to two:\n",
    "\n",
    "$$c_1 = \\beta^\\frac{1}{\\rho} c_0$$\n",
    "\n",
    "$$ c_1 = \\frac{\\sum y - c_0}{2}$$"
   ]
  },
  {
   "cell_type": "markdown",
   "metadata": {},
   "source": [
    "The first equation highlight's the period-zero self's present bias --they want to consume more in period zer than in period one--  while the second summarizes that hey want to smooth whatever resources are left to future consumption equally between periods 1 and 2. "
   ]
  },
  {
   "cell_type": "markdown",
   "metadata": {},
   "source": [
    "Figure 1 below illustrates how the equilibrium contract is determined, drawn for the CRRA case where $\\beta=0.5$ and $\\rho = 1$ and $\\sum y =300$.  The first of these two lines (that the MRS between period 0 and period 1 equal the price ratio or interest rate) can be seen as the upward sloping income-expansion income-expansion line in the rightmost quadrant diagram in $c_0$ and $c_1$ space.   The second line which combines the second FOC and zero profit condition is seen as the downward sloping dashed line.\n",
    "\n",
    "The two dashed lines meet at point $(c_0^{fc}, c_1^{fc})$ in the rightmost quadrant.  \n",
    "\n",
    "The leftmost quadrant is in $c_1$ and $c_2$ space, turned on its side, 90 degrees counterclockwise. The FOC condition ($c_1 = c_2$) is represented by a 45 degree line.  We can simply read off $c_2 = c_1$ from this line and the value of $c_1$ determined in the other quadrant, but we should also note that the point of intersection must also satisfy the budget constraint, namely that consumption in periods 1 and 2 cannot exceed the value of the endowment less period zero consumption. "
   ]
  },
  {
   "cell_type": "code",
   "execution_count": 3,
   "metadata": {
    "collapsed": false
   },
   "outputs": [
    {
     "data": {
      "image/jpeg": "[encoded data removed]",
      "text/plain": [
       "<IPython.core.display.Image object>"
      ]
     },
     "metadata": {},
     "output_type": "display_data"
    }
   ],
   "source": [
    "from IPython.display import Image, display\n",
    "i = Image(filename='Figure1.jpg')\n",
    "display(i)"
   ]
  },
  {
   "cell_type": "markdown",
   "metadata": {},
   "source": [
    "For the CRRA case it's easy to find closed form solutions:\n",
    "\n",
    "$$c_0^{fc} = \\frac{\\sum y}{1+2\\beta^\\frac{1}{\\rho}}$$\n",
    "$$c_1^{fc} = c_2^{fc} = \\beta^\\frac{1}{\\rho} c_0^{fc} $$"
   ]
  },
  {
   "cell_type": "markdown",
   "metadata": {},
   "source": [
    "#### A simple numerical example\n",
    "\n",
    "Suppose the model parameters were as follows (and as all along $r=0$ and $\\delta=1$)"
   ]
  },
  {
   "cell_type": "code",
   "execution_count": 4,
   "metadata": {
    "collapsed": true
   },
   "outputs": [],
   "source": [
    "beta = 0.5\n",
    "rho = 1\n",
    "Y = 300"
   ]
  },
  {
   "cell_type": "markdown",
   "metadata": {},
   "source": [
    "The following function solves for period zero's optimal 'full commitment contract' using the equations above (note: Competitive.fcommit() calculates the same):"
   ]
  },
  {
   "cell_type": "code",
   "execution_count": 5,
   "metadata": {
    "collapsed": true
   },
   "outputs": [],
   "source": [
    "def c0fc(beta=beta, rho=rho):\n",
    "    '''Full Commitment contract'''\n",
    "    btr = beta**(1/rho)\n",
    "    Y = 300\n",
    "    c0 = Y/(1+2*btr)\n",
    "    return c0, btr*c0, btr*c0"
   ]
  },
  {
   "cell_type": "markdown",
   "metadata": {},
   "source": [
    "The optimal contract for these parameters is "
   ]
  },
  {
   "cell_type": "code",
   "execution_count": 6,
   "metadata": {
    "collapsed": false
   },
   "outputs": [
    {
     "data": {
      "text/plain": [
       "(150.0, 75.0, 75.0)"
      ]
     },
     "execution_count": 6,
     "metadata": {},
     "output_type": "execute_result"
    }
   ],
   "source": [
    "c0fc()"
   ]
  },
  {
   "cell_type": "markdown",
   "metadata": {},
   "source": [
    "If the consumer had an income stream  $ y =(100, 100, 100)$ then we'd interpret this as a borrowing contract, as the period 0 consumer would want to borrow 50 in period zero andthen balance repayments between period 1 and 2.\n",
    "\n",
    "Saving/repayments (positives) and borrowing/dissaving (negatives) in each period would be written:"
   ]
  },
  {
   "cell_type": "code",
   "execution_count": 7,
   "metadata": {
    "collapsed": false
   },
   "outputs": [
    {
     "data": {
      "text/plain": [
       "array([-50.,  25.,  25.])"
      ]
     },
     "execution_count": 7,
     "metadata": {},
     "output_type": "execute_result"
    }
   ],
   "source": [
    "[100, 100, 100] - np.array(c0fc())"
   ]
  },
  {
   "cell_type": "markdown",
   "metadata": {},
   "source": [
    "If on the other hand the consumer had an income stream  $ y =(200, 50, 50)$ then we'd interpret this as a savings contrac, with the consumer saving 50 in period zero to be shared equally between period 1 and 2 consumption."
   ]
  },
  {
   "cell_type": "markdown",
   "metadata": {},
   "source": [
    "## refinance and self-control"
   ]
  },
  {
   "cell_type": "markdown",
   "metadata": {},
   "source": [
    "We recast this slightly to focus on the role of savings.  Period 0 self (henceforth 'zero-self') chooses period zero savings $s_0$ (and by implication period 0 consumption $c_0 = y_0 - s_0$).  In period 1 his later 'one-self' reacts by choosing her own preferred period 1 savings $s_1$ (or, same thing $c_1$ and by implication $c_2$).  \n",
    "\n",
    "We need to find one-self's 'reaction function'.  They choose $c_1$ to maximize\n",
    "\n",
    "$$u(c_{1})+\\beta \\delta u(c_{2})$$\n",
    "\n",
    "subject to\n",
    "\n",
    "$$c_1(1+r)+c_2 =y_1 (1+r) +y_2+s_0 (1+r)^2$$"
   ]
  },
  {
   "cell_type": "markdown",
   "metadata": {},
   "source": [
    "The FOC give us\n",
    "\n",
    "$$u'(c_{1})=\\beta \\delta(1+r) {u'(c_2)} $$\n",
    "\n",
    "which for this CRRA case give us\n",
    "\n",
    "$$c_{2} = [\\beta \\delta (1+r) ]^\\frac{1}{\\rho} c_1$$\n",
    "\n",
    "Substituting this into the intertemporal budget constraint above we can solve for the reaction function:\n",
    "\n",
    "$$ c_1(s_{0} )= \\frac{s_0 (1+r)^2+y_1 (1+r) +y_2}\n",
    "{(1+r)+[ \\beta \\delta(1+r)]^\\frac{1}{\\rho} }\n",
    " $$"
   ]
  },
  {
   "cell_type": "markdown",
   "metadata": {},
   "source": [
    "Note that if $\\delta=\\frac{1}{1+r}$ and $r=0$ then this last expression simplifies to:\n",
    "    \n",
    "$$ c^1_1(s_{0} )= \\frac{s_0+y_1 +y_2}{1 + \\beta ^\\frac{1}{\\rho} }  $$\n",
    " \n",
    " Without loss of generality we will focus on this stripped down version of the expression."
   ]
  },
  {
   "cell_type": "markdown",
   "metadata": {},
   "source": [
    "Note that the zero-self wants each extra dollar of saving (or debt) $s_0$ that they pass on to period one that 1/2 of that dollar be for period 1 and the other half for period 2.  In other words they want\n",
    "\n",
    "$$\\frac{dc^0_1}{ds_0} = \\frac{dc_2}{ds_0} =\\frac{1}{2}$$\n",
    "\n",
    "But One-self instead prefers \n",
    "\n",
    "$$\\frac{dc^1_1}{ds_0} =\\frac{1}{1+\\beta^\\frac{1}{\\rho}} > \\frac{1}{2}$$\n",
    "and \n",
    "$$\\frac{dc^1_2}{ds_0} =\\frac{\\beta^\\frac{1}{\\rho}}{1+\\beta^\\frac{1}{\\rho}}<\\frac{1}{2}$$\n",
    "\n",
    "Zero-self will therefore act to strategically control how much savings is passed on, behaving much like a Stackelberg leader."
   ]
  },
  {
   "cell_type": "markdown",
   "metadata": {},
   "source": [
    "They choose $s_0$ to:\n",
    "    \n",
    "$$\\max u(y_0-s_{0})+\\beta \\left[ u(c^1_1(s_0))+u(c^1_2(s_0))\\right] $$"
   ]
  },
  {
   "cell_type": "markdown",
   "metadata": {},
   "source": [
    "Recall that One-self will always have $c_2^1 =\\beta^\\frac{1}{\\rho} c_1^1$ and also note that for the CRRA case we can write\n",
    "$u(\\beta^\\frac{1}{\\rho}c_1^1)=\\beta^\\frac{1-\\rho}{\\rho}u(c_1^1)$ \n",
    "so we can rewrite the objective as:\n",
    "\n",
    "$$\\max u(y_0-s_{0})+\\beta (1+\\beta^\\frac{1-\\rho}{\\rho}) u(c^1_1(s_0))$$"
   ]
  },
  {
   "cell_type": "markdown",
   "metadata": {},
   "source": [
    "The  FOC will therefore be:\n",
    "$$u'(y_0-s_0) = \\beta (1+\\beta^\\frac{1-\\rho}{\\rho}) u'(c_1^1(s_0)) \\frac{dc_1^1}{ds_0}$$"
   ]
  },
  {
   "cell_type": "markdown",
   "metadata": {},
   "source": [
    "$$u'(y_0-s_0) = \\frac{\\beta +\\beta^\\frac{1}{\\rho}}{1+\\beta^\\frac{1}{\\rho}} u'(c_1^1(s_0)) $$"
   ]
  },
  {
   "cell_type": "markdown",
   "metadata": {},
   "source": [
    "and after some substitutions and simplifications:\n",
    "$$(y_0-s_0)^{-\\rho}\n",
    "= \\frac{ \\beta+\\beta^\\frac{1}{\\rho}}{1+\\beta^\\frac{1}{\\rho}}\n",
    "(\\frac{s_0+y_1 +y_2}{1 + \\beta ^\\frac{1}{\\rho} })^{-\\rho} $$"
   ]
  },
  {
   "cell_type": "markdown",
   "metadata": {},
   "source": [
    "$$   \\frac{s_0+y_1 +y_2}{1 + \\beta ^\\frac{1}{\\rho} }\n",
    "= \\Lambda^\\frac{1}{\\rho}\n",
    "(y_0-s_0) $$\n",
    "\n",
    "where $\\Lambda = \\frac{\\beta +\\beta^\\frac{1}{\\rho}}{1+\\beta^\\frac{1}{\\rho}}$"
   ]
  },
  {
   "cell_type": "markdown",
   "metadata": {},
   "source": [
    "Or solving for  $c_0$ :\n",
    "\n",
    "$$c_0 = \\frac{\\sum y}{1+\\Lambda^\\frac{1}{\\rho}(1+\\beta^\\frac{1}{\\rho})} $$"
   ]
  },
  {
   "cell_type": "markdown",
   "metadata": {},
   "source": [
    "Note that we can compare period 0 consumption under this 'own smoothing' situation to the full commitment situation where we have shown that:\n",
    "\n",
    "$$c_0 = \\frac{\\sum y}{1+2\\beta^\\frac{1}{\\rho}} $$\n",
    "\n",
    "From which it's clear that savings is higher or lower depending on a comparison of the two denominators... Empirically however the difference in period 0 consumption seems very small... Most of the action is in terms of period 1 and 2 as the follownig shows."
   ]
  },
  {
   "cell_type": "markdown",
   "metadata": {},
   "source": [
    "### Visualized"
   ]
  },
  {
   "cell_type": "markdown",
   "metadata": {},
   "source": [
    "As in the other notebooks we import a module that gives us a generic 'Contract' class that defines a few attributes (e.g. default parameters of the utility function, initial endowments, etc.) and useful methods to calculate profits, utility, etc.\n",
    "\n",
    "(Noe Competitive.ownsmooth() calculates the same as c0own)"
   ]
  },
  {
   "cell_type": "code",
   "execution_count": 8,
   "metadata": {
    "collapsed": false
   },
   "outputs": [],
   "source": [
    "def c0own(beta=beta, rho=rho):\n",
    "    '''Own-smoothing contract'''\n",
    "    btr = beta**(1/rho)\n",
    "    lm = (beta + btr)/(1+btr)\n",
    "    c0 = Y/(1+(1+btr)*lm**(1/rho))\n",
    "    c1 = (Y-c0)/(1+btr)\n",
    "    c2 = btr*c1\n",
    "    return c0, c1, c2\n",
    "    \n",
    "    \n",
    "def plotC(rho=rho):\n",
    "    bt = np.linspace(0,1, 100)\n",
    "    fig, ax = plt.subplots(figsize=(7,6))\n",
    "    c0F,c1F,c2F = c0fc(bt, rho)\n",
    "    c0o,c1o,c2o = c0own(bt, rho)\n",
    "    ax.plot(bt, c0F)\n",
    "    ax.plot(bt, c1F)\n",
    "    ax.plot(bt, c0F+c1F,'r')\n",
    "    ax.plot(bt, c0o,'--')\n",
    "    ax.plot(bt, c1o,'--')\n",
    "    ax.plot(bt, c0o+c1o,'r--')\n",
    "    ax.plot(bt, c2o,'--')\n",
    "    fig.suptitle(r'$\\rho$ = {}'.format(rho),fontsize=18)\n",
    "    ax.set_xlabel(r'$\\beta$', fontsize=16)\n",
    "    plt.grid()\n",
    "    plt.show()\n",
    "    return"
   ]
  },
  {
   "cell_type": "code",
   "execution_count": 9,
   "metadata": {
    "collapsed": false
   },
   "outputs": [
    {
     "data": {
      "text/plain": [
       "(150.0, 75.0, 75.0)"
      ]
     },
     "execution_count": 9,
     "metadata": {},
     "output_type": "execute_result"
    }
   ],
   "source": [
    "c0fc(beta, rho)"
   ]
  },
  {
   "cell_type": "code",
   "execution_count": 10,
   "metadata": {
    "collapsed": false
   },
   "outputs": [
    {
     "data": {
      "text/plain": [
       "(150.0, 100.0, 50.0)"
      ]
     },
     "execution_count": 10,
     "metadata": {},
     "output_type": "execute_result"
    }
   ],
   "source": [
    "c0own()"
   ]
  },
  {
   "cell_type": "markdown",
   "metadata": {},
   "source": [
    "### How optimal contract depends on $\\rho$ and $\\beta$"
   ]
  },
  {
   "cell_type": "code",
   "execution_count": 11,
   "metadata": {
    "collapsed": false
   },
   "outputs": [
    {
     "data": {
      "image/png": "[encoded data removed]",
      "text/plain": [
       "<matplotlib.figure.Figure at 0x7b47630>"
      ]
     },
     "metadata": {},
     "output_type": "display_data"
    },
    {
     "data": {
      "text/plain": [
       "<function __main__.plotC>"
      ]
     },
     "execution_count": 11,
     "metadata": {},
     "output_type": "execute_result"
    }
   ],
   "source": [
    "interact(plotC,y0=(1,150,1),y1=(1,150,1),rho=(0.1,3,0.05))"
   ]
  },
  {
   "cell_type": "markdown",
   "metadata": {},
   "source": [
    "## Best response function, and Stackelberg\n",
    "Competitive case"
   ]
  },
  {
   "cell_type": "markdown",
   "metadata": {},
   "source": [
    "Note: Once again we are just working out what Contract module already does with its own methods.  c1br is just like Competitive.renegC(c) and c0rp is Competitive.reneg_proof(monop_reg = False)"
   ]
  },
  {
   "cell_type": "code",
   "execution_count": 12,
   "metadata": {
    "collapsed": true
   },
   "outputs": [],
   "source": [
    "import Contract as ctr"
   ]
  },
  {
   "cell_type": "code",
   "execution_count": 13,
   "metadata": {
    "collapsed": false
   },
   "outputs": [
    {
     "data": {
      "text/plain": [
       "array([ 150.,   75.,   75.])"
      ]
     },
     "execution_count": 13,
     "metadata": {},
     "output_type": "execute_result"
    }
   ],
   "source": [
    "CC = ctr.Competitive(beta=0.5)\n",
    "CC.rho=1\n",
    "CC.fcommit()"
   ]
  },
  {
   "cell_type": "code",
   "execution_count": 14,
   "metadata": {
    "collapsed": true
   },
   "outputs": [],
   "source": [
    "def c1br(c0, beta=beta, rho=rho):\n",
    "    '''One Selfs best response to Zero-self contract '''\n",
    "    btr = beta**(1/rho)\n",
    "    c11 = (Y - c0)/(1+btr)\n",
    "    c12 = btr*c11\n",
    "    return c0,c11,c12\n",
    "    \n",
    "def c0rp(beta=beta, rho=rho):\n",
    "    '''Zero's Stackelberg contract '''\n",
    "    btr = beta**(1/rho)\n",
    "    lam = (beta + btr)/(1+btr)\n",
    "    lmr = lam**(1/rho)\n",
    "    c00rp = Y/(1+(1+btr)*lmr)\n",
    "    c01rp = lmr*c00rp\n",
    "    c02rp = btr*c01rp\n",
    "    return c00rp, c01rp, c02rp "
   ]
  },
  {
   "cell_type": "code",
   "execution_count": 15,
   "metadata": {
    "collapsed": false
   },
   "outputs": [
    {
     "data": {
      "text/plain": [
       "(150.0, 75.0, 75.0)"
      ]
     },
     "execution_count": 15,
     "metadata": {},
     "output_type": "execute_result"
    }
   ],
   "source": [
    "c0fc()"
   ]
  },
  {
   "cell_type": "code",
   "execution_count": 16,
   "metadata": {
    "collapsed": false
   },
   "outputs": [
    {
     "data": {
      "text/plain": [
       "(150.0, 100.0, 50.0)"
      ]
     },
     "execution_count": 16,
     "metadata": {},
     "output_type": "execute_result"
    }
   ],
   "source": [
    "c0rp()"
   ]
  },
  {
   "cell_type": "code",
   "execution_count": 18,
   "metadata": {
    "collapsed": false
   },
   "outputs": [
    {
     "data": {
      "text/plain": [
       "     fun: -9.2692311803624943\n",
       "   maxcv: 4.1211478674085811e-13\n",
       " message: 'Optimization terminated successfully.'\n",
       "    nfev: 84\n",
       "  status: 1\n",
       " success: True\n",
       "       x: array([ 149.85,  100.1 ,   50.05])"
      ]
     },
     "execution_count": 18,
     "metadata": {},
     "output_type": "execute_result"
    }
   ],
   "source": [
    "CC.reneg_proof()"
   ]
  },
  {
   "cell_type": "code",
   "execution_count": 22,
   "metadata": {
    "collapsed": false
   },
   "outputs": [
    {
     "data": {
      "text/plain": [
       "array([ 150.,  100.,   50.])"
      ]
     },
     "execution_count": 22,
     "metadata": {},
     "output_type": "execute_result"
    }
   ],
   "source": [
    "CC.renegC(c0fc())"
   ]
  },
  {
   "cell_type": "code",
   "execution_count": 23,
   "metadata": {
    "collapsed": false
   },
   "outputs": [],
   "source": [
    "cc = np.linspace(0,300,300)"
   ]
  },
  {
   "cell_type": "code",
   "execution_count": 24,
   "metadata": {
    "collapsed": true
   },
   "outputs": [],
   "source": [
    "cc = np.linspace(0,300, 100)\n",
    "btr = beta**(1/rho)\n",
    "lam = (beta + btr)/(1+btr)\n",
    "lmr = lam**(1/rho)"
   ]
  },
  {
   "cell_type": "markdown",
   "metadata": {},
   "source": [
    "## Two-quadrant plot of Figure 1"
   ]
  },
  {
   "cell_type": "code",
   "execution_count": 25,
   "metadata": {
    "collapsed": false
   },
   "outputs": [],
   "source": [
    "def bdplot(beta=beta, rho=rho, fc = True, rp = True, figname='Figure'):\n",
    "    '''Plot two quadrant diagram representation. The flag fc and rp allow us to turn on\n",
    "    or supress full commit or '''\n",
    "    ymax = 200\n",
    "    aspect = 1\n",
    "    cfc = c0fc(beta=beta, rho=rho)\n",
    "    crp = c0rp(beta=beta, rho=rho)\n",
    "    fontsize = 18\n",
    "    \n",
    "    btr = beta**(1/rho)\n",
    "    lam = (beta + btr)/(1+btr)\n",
    "    lmr = lam**(1/rho)\n",
    "\n",
    "    fig = plt.figure()\n",
    "    gs = gridspec.GridSpec(1, 2, width_ratios=[1, 2]) \n",
    "\n",
    "    ax0 = plt.subplot(gs[1])\n",
    "    ax0.set_title(r'$\\beta=$ {:2.1f} $\\rho=$ {:2.1f}'.format(beta, rho))\n",
    "    ax0.set_ylim(0, ymax)\n",
    "    ax0.yaxis.set_label_position(\"right\")\n",
    "    ax0.yaxis.tick_right()\n",
    "    ax0.set_xlabel(r'$c_0$', fontsize=fontsize)\n",
    "    ax0.set_ylabel(r'$c_1$', fontsize=fontsize)\n",
    "\n",
    "    ax1 = plt.subplot(gs[0])\n",
    "    ax1.yaxis.set_ticks_position('left')\n",
    "    ax1.xaxis.set_ticks_position('bottom')\n",
    "    ax1.yaxis.set_label_position('left')\n",
    "    ax1.set_ylabel(r'$c_1$', fontsize=fontsize)\n",
    "    ax1.set_title(r'$cfc=$ ({:3.1f}, {:3.1f}, {:3.1f})'.format(cfc[0],cfc[1],cfc[2]))\n",
    "    \n",
    "    if fc:\n",
    "        fcstyle = '--'\n",
    "        fccolor = 'r'\n",
    "        if fc and not rp:\n",
    "            linestyle = '-'\n",
    "        ax0.plot(cc, 0.5*(Y-cc),'r-', label='Zero FC future')\n",
    "        ax0.plot(cc, btr*cc, linestyle=fcstyle, color = fccolor, label='FC smooth')\n",
    "        ax0.text(250, btr*230, r'$\\beta^\\frac{1}{\\rho}$', fontsize=15)\n",
    "        ax0.plot(cfc[0],cfc[1], marker='o')\n",
    "        ax0.plot(cc, Y-cc, ':', label = 'Future net income')\n",
    "        ax1.plot(cc, (Y-cfc[0])-cc,'k-')\n",
    "        ax1.plot(cc, cc,'r-')\n",
    "        ax1.plot(cfc[2], cfc[1],marker='o')\n",
    "        xx = [cfc[0]]\n",
    "        yy = [cfc[1]]\n",
    "        zz = [cfc[2]]\n",
    "\n",
    "    if rp:\n",
    "        ax0.plot(cc, c1br(cc, beta, rho)[1],'b-', label = 'One BR')\n",
    "        ax0.plot(cc, lmr*cc,'b-', label='Stackelberg')\n",
    "        ax0.plot(crp[0],crp[1],marker='o')    \n",
    "        ax0.text(250, lmr*235, r'$\\Lambda^\\frac{1}{\\rho}$', fontsize=15)\n",
    "        ax1.plot(crp[2], crp[1],marker='o')\n",
    "        ax1.plot(cc, cc*btr**(-1),'b-')\n",
    "        xx = [crp[0]]\n",
    "        yy = [crp[1]]\n",
    "        zz = [crp[2]]\n",
    "        \n",
    "    [ax0.plot([dot_c0, dot_c0], [0, dot_c1],':',linewidth = 1,color='black' ) for dot_c0, dot_c1 in zip(xx,yy) ] \n",
    "    [ax0.plot([0, dot_c0], [dot_c1, dot_c1],':',linewidth = 1,color='black' ) for dot_c0, dot_c1 in zip(xx,yy) ]\n",
    "    [ax0.plot([0, dot_c0], [dot_c1, dot_c1],':',linewidth = 1,color='black' ) for dot_c0, dot_c1 in zip(xx,yy) ]\n",
    "    [ax0.plot([dot_c0, dot_c0], [dot_c1, Y-dot_c0],':',linewidth = 1,color='black' ) for dot_c0, dot_c1 in zip(xx,yy) ]\n",
    "    [ax0.plot([dot_c0, 0], [Y-dot_c0, Y-dot_c0],':',linewidth = 1,color='black' ) for dot_c0, dot_c1 in zip(xx,yy) ]\n",
    "    [ax1.plot([dot_c2, dot_c2], [0, dot_c1],':',linewidth = 1,color='black' ) for dot_c1, dot_c2 in zip(yy,zz) ]\n",
    "    [ax1.plot([dot_c2,0], [dot_c1, dot_c1],':',linewidth = 1,color='black' ) for dot_c1, dot_c2 in zip(yy,zz) ]\n",
    "\n",
    "    ax1.set_ylim(0,ymax)\n",
    "    ax1.set_xlim(0,150)\n",
    "    ax1.invert_xaxis()\n",
    "    ax1.set_xlabel('$c_2$', fontsize=fontsize)\n",
    "\n",
    "    for side in ['right','top']:\n",
    "        ax0.spines[side].set_visible(False)\n",
    "        ax1.spines[side].set_visible(False)\n",
    "\n",
    "    #scaling and grid    \n",
    "    ax0.set_aspect(aspect)\n",
    "    ax1.set_aspect(1)\n",
    "    #ax0.grid()\n",
    "    #ax1.grid()\n",
    "\n",
    "    #ax0.text(20, 0.5*(Y-50), r'$\\frac{1}{2}\\sum (y-c_0)$', fontsize=14)\n",
    "    #ax0.text(20, (1/(1+btr))*(Y-30), r'$\\frac{1}{1+\\beta^\\frac{1}{\\rho}}\\sum (y-c_0)$', fontsize=14)\n",
    "\n",
    "    ax1.text(btr*150, 150,  r'$\\beta^\\frac{1}{\\rho}$', fontsize=15, rotation='vertical')\n",
    "\n",
    "\n",
    "    fig.subplots_adjust(wspace=0)\n",
    "    plt.show()\n",
    "    fig.savefig(figname+'.jpg', dpi=fig.dpi)\n",
    "    return"
   ]
  },
  {
   "cell_type": "code",
   "execution_count": 26,
   "metadata": {
    "collapsed": false
   },
   "outputs": [
    {
     "data": {
      "image/png": "[encoded data removed]",
      "text/plain": [
       "<matplotlib.figure.Figure at 0x9201320>"
      ]
     },
     "metadata": {},
     "output_type": "display_data"
    }
   ],
   "source": [
    "bdplot(fc=True, rp=False, figname='Figure1')"
   ]
  },
  {
   "cell_type": "code",
   "execution_count": 27,
   "metadata": {
    "collapsed": false
   },
   "outputs": [
    {
     "data": {
      "image/png": "[encoded data removed]",
      "text/plain": [
       "<matplotlib.figure.Figure at 0x91cd7b8>"
      ]
     },
     "metadata": {},
     "output_type": "display_data"
    }
   ],
   "source": [
    "interact(bdplot,beta=(0.1,1,0.1),rho=(0.1,3,0.05))"
   ]
  },
  {
   "cell_type": "markdown",
   "metadata": {},
   "source": [
    "## Figure 2: Full commitment and renegotiation-proof contracts under Competition"
   ]
  },
  {
   "cell_type": "code",
   "execution_count": 62,
   "metadata": {
    "collapsed": true
   },
   "outputs": [],
   "source": [
    "import Contract as ct"
   ]
  },
  {
   "cell_type": "code",
   "execution_count": null,
   "metadata": {
    "collapsed": true
   },
   "outputs": [],
   "source": [
    "y =[100,100,100]\n",
    "cM = ct.Monopoly(beta = 0.5)\n",
    "cM.rho = 1\n",
    "cM.y = [110,95,95]\n",
    "cMF = cM.fcommit()         # the full commitment contract \n",
    "cMR = cM.reneg(cMF)        # what renegotiate to if full commitment unantipatedly undone  \n",
    "# Let's find reneg-proof contract for pure profit with zero reneg. cost\n",
    "cM.kappa = 0\n",
    "cM.guess = cMF\n",
    "cMRP = cM.reneg_proof().x"
   ]
  },
  {
   "cell_type": "code",
   "execution_count": null,
   "metadata": {
    "collapsed": true
   },
   "outputs": [],
   "source": []
  },
  {
   "cell_type": "code",
   "execution_count": null,
   "metadata": {
    "collapsed": true
   },
   "outputs": [],
   "source": []
  },
  {
   "cell_type": "code",
   "execution_count": null,
   "metadata": {
    "collapsed": true
   },
   "outputs": [],
   "source": []
  },
  {
   "cell_type": "markdown",
   "metadata": {},
   "source": [
    "## Figure 2: Full commitment and renegotiation-proof contracts under Monopoly"
   ]
  },
  {
   "cell_type": "code",
   "execution_count": 37,
   "metadata": {
    "collapsed": true
   },
   "outputs": [],
   "source": [
    "import Contract as ct"
   ]
  },
  {
   "cell_type": "code",
   "execution_count": 60,
   "metadata": {
    "collapsed": false
   },
   "outputs": [],
   "source": [
    "y =[100,100,100]\n",
    "cM = ct.Monopoly(beta = 0.5)\n",
    "cM.rho = 1\n",
    "cM.y = [110,95,95]\n",
    "cMF = cM.fcommit()         # the full commitment contract \n",
    "cMR = cM.reneg(cMF)        # what renegotiate to if full commitment unantipatedly undone  \n",
    "# Let's find reneg-proof contract for pure profit with zero reneg. cost\n",
    "cM.kappa = 0\n",
    "cM.guess = cMF\n",
    "cMRP = cM.reneg_proof().x"
   ]
  },
  {
   "cell_type": "code",
   "execution_count": null,
   "metadata": {
    "collapsed": true
   },
   "outputs": [],
   "source": []
  },
  {
   "cell_type": "code",
   "execution_count": 51,
   "metadata": {
    "collapsed": true
   },
   "outputs": [],
   "source": [
    "# limit values to display\n",
    "c1min, c1max = np.min(cMR)*0.6, np.max(cM.y)\n",
    "c1min, c1max = 0, 160\n",
    "c1 = np.arange(0,c1max,c1max/20)\n",
    "c1_ = np.arange(40,c1max,c1max/20)\n",
    "\n",
    "#define indifference curves functions \n",
    "# full-commit and RP utility for period-0 and period 1 selves\n",
    "ubar0 = cM.PVU(cMF[1:3], 1.0)   \n",
    "idc0 = cM.indif(ubar0, 1.0)\n",
    "ubar1 = cM.PVU(cMF[1:3],cM.beta)\n",
    "idc1 = cM.indif(ubar1,cM.beta)\n",
    "ubar0RP = cM.PVU(cMRP[1:3], 1.0)\n",
    "idc0RP = cM.indif(ubar0RP,1.0)\n",
    "ubar1RP = cM.PVU(cMRP[1:3], cM.beta)\n",
    "idc1RP = cM.indif(ubar1RP,cM.beta)"
   ]
  },
  {
   "cell_type": "code",
   "execution_count": 61,
   "metadata": {
    "collapsed": false
   },
   "outputs": [
    {
     "data": {
      "image/png": "[encoded data removed]",
      "text/plain": [
       "<matplotlib.figure.Figure at 0x7f093c8>"
      ]
     },
     "metadata": {},
     "output_type": "display_data"
    }
   ],
   "source": [
    "fig, ax = plt.subplots()\n",
    "\n",
    "# plot indifference curves\n",
    "plt.plot(c1_,idc0(c1_),color='blue',linewidth=2)          \n",
    "plt.plot(c1_,idc1(c1_),color='red', linewidth=2) \n",
    "\n",
    "# plot rays\n",
    "plt.plot(c1, c1,':',color='black')\n",
    "plt.plot(c1, cM.beta**(1/cM.rho)*c1,':',color='black')\n",
    "\n",
    "# plot isoprofit line(s)\n",
    "profitMF = cM.profit(cMF,cM.y)\n",
    "isoprofMF = cM.isoprofit(profitMF-(y[0]-cMF[0]), y)\n",
    "plt.plot(c1_,  isoprofMF(c1_),':', color='black' )\n",
    "profitMR = cM.profit(cMR,cM.y)\n",
    "isoprofMR = cM.isoprofit(profitMR-(y[0]-cMR[0]), y)\n",
    "plt.plot(c1_,  isoprofMR(c1_),':', color='black' )\n",
    "\n",
    "# label the points\n",
    "ax.text(cMF[1]-1, cMF[2]+3, r'$F$', fontsize=15)\n",
    "ax.text(cMR[1]-3, cMR[2]-6, r'$R$', fontsize=15)\n",
    "ax.text(Q, -5, r'$Q$', fontsize=15)\n",
    "ax.text(N, -5, r'$N$', fontsize=15)\n",
    "\n",
    "ax.text(cMF[1]-3, -6, r'$c^{mf}_{1}$', fontsize=15)\n",
    "ax.text(-8, cMF[2], r'$c^{mf}_{2}$', fontsize=15)\n",
    "\n",
    "# draw contract points and coordinate lines http://bit.ly/1CaTMDX\n",
    "xx = [cMF[1], cMR[1]]\n",
    "yy = [cMF[2], cMR[2]]\n",
    "plt.scatter(xx,yy, s=50, marker='o',color='b')\n",
    "[plt.plot([dot_x, dot_x] ,[0, dot_y],':',linewidth = 1,color='black' ) \\\n",
    "     for dot_x, dot_y in zip([cMF[1]],[cMF[2]]) ] \n",
    "[plt.plot([0, dot_x] ,[dot_y, dot_y],':',linewidth = 1,color='black' ) \\\n",
    "     for dot_x, dot_y in zip([cMF[1]],[cMF[2]])  ]\n",
    "\n",
    "plt.scatter(cMRP[1],cMRP[2], s=50, marker='o',color='b')\n",
    "\n",
    "# plot intercept points\n",
    "Q = np.sum(cM.y) - profitMR -cMR[0]\n",
    "N = np.sum(cM.y) - profitMF -cMF[0]\n",
    "plt.scatter(Q, 0, s=50, marker='o',color='b')\n",
    "plt.scatter(N, 0, s=50, marker='o',color='b')\n",
    "\n",
    "#turn off the axis numbers\n",
    "ax.axes.get_xaxis().set_visible(False)\n",
    "ax.axes.get_yaxis().set_visible(False)\n",
    "ax.spines['right'].set_color('none'), ax.spines['top'].set_color('none')\n",
    "plt.ylim((c1min, c1max*0.95)), plt.xlim((c1min, c1max*0.95))\n",
    "ax.xaxis.tick_bottom(),ax.yaxis.tick_left()\n",
    "plt.xlabel('$c_{1}$'); plt.ylabel('$c_{2}$')\n",
    "\n",
    "\n",
    "plt.savefig('figs\\Figure2.pdf', format='pdf')\n",
    "plt.show()"
   ]
  },
  {
   "cell_type": "code",
   "execution_count": null,
   "metadata": {
    "collapsed": true
   },
   "outputs": [],
   "source": []
  },
  {
   "cell_type": "code",
   "execution_count": 28,
   "metadata": {
    "collapsed": true
   },
   "outputs": [],
   "source": [
    "import Contract"
   ]
  },
  {
   "cell_type": "code",
   "execution_count": 31,
   "metadata": {
    "collapsed": false
   },
   "outputs": [
    {
     "name": "stdout",
     "output_type": "stream",
     "text": [
      "beta    : 0.5\n",
      "guess   : [100 100 100]\n",
      "kappa   : 0\n",
      "rho     : 1\n",
      "y       : [100 100 100]\n"
     ]
    }
   ],
   "source": [
    "cC = Contract.Competitive(beta=0.5)\n",
    "cC.rho = 1\n",
    "cC.print_params()"
   ]
  },
  {
   "cell_type": "code",
   "execution_count": 33,
   "metadata": {
    "collapsed": false
   },
   "outputs": [
    {
     "data": {
      "text/plain": [
       "(150.0, 75.0, 75.0)"
      ]
     },
     "execution_count": 33,
     "metadata": {},
     "output_type": "execute_result"
    }
   ],
   "source": [
    "c0fc(cC.beta, cC.rho)"
   ]
  },
  {
   "cell_type": "code",
   "execution_count": 35,
   "metadata": {
    "collapsed": false
   },
   "outputs": [
    {
     "data": {
      "text/plain": [
       "array([ 150.,   75.,   75.])"
      ]
     },
     "execution_count": 35,
     "metadata": {},
     "output_type": "execute_result"
    }
   ],
   "source": [
    "cCF = cC.fcommit()\n",
    "cCF"
   ]
  },
  {
   "cell_type": "code",
   "execution_count": 43,
   "metadata": {
    "collapsed": false
   },
   "outputs": [],
   "source": [
    "cCRP = cC.ownsmooth()"
   ]
  },
  {
   "cell_type": "code",
   "execution_count": 79,
   "metadata": {
    "collapsed": true
   },
   "outputs": [],
   "source": [
    "#Figure dimensions\n",
    "plt.rcParams[\"figure.figsize\"] = (11, 8)\n",
    "c1min, c1max = 0, 160\n",
    "c1 = np.arange(0,c1max,c1max/20)\n",
    "c1_ = np.arange(40,c1max*0.9,c1max/20)\n",
    "y = cC.y\n",
    "\n",
    "cR = cC.reneg(cCF)   # If reneged on full-commit\n",
    "\n",
    "#indifference curves functions\n",
    "ubar0 = cC.PVU(cCF[1:3], 1.0)      #Zero's full-commit indiff\n",
    "idc0 = cC.indif(ubar0, 1.0)\n",
    "ubar1 = cC.PVU(cCF[1:3],cC.beta)   #One's full-commit indiff \n",
    "idc1 = cC.indif(ubar1,cC.beta)\n",
    "ubar0RP = cC.PVU(cCRP[1:3], 1.0)\n",
    "idc0RP = cC.indif(ubar0RP,1.0)      #Zero's \n",
    "ubar1RP = cC.PVU(cCRP[1:3], cC.beta)\n",
    "idc1RP = cC.indif(ubar1RP,cC.beta)"
   ]
  },
  {
   "cell_type": "code",
   "execution_count": 96,
   "metadata": {
    "collapsed": false
   },
   "outputs": [
    {
     "data": {
      "image/png": "[encoded data removed]",
      "text/plain": [
       "<matplotlib.figure.Figure at 0x95fc588>"
      ]
     },
     "metadata": {},
     "output_type": "display_data"
    }
   ],
   "source": [
    "fig, ax = plt.subplots()\n",
    "# indifference curves\n",
    "plt.plot(c1_,idc0(c1_),color='blue')     #Zero's full-commit indiff     \n",
    "plt.plot(c1_,idc1(c1_),color='red')      #One's full-commit indiff \n",
    "#plt.plot(c1_,idc0RP(c1_),color='blue')\n",
    "#plt.plot(c1_,idc1RP(c1_),color='red')\n",
    "\n",
    "# rays\n",
    "plt.plot(c1, c1,':',color='black')\n",
    "plt.plot(c1, cC.beta**(1/cC.rho)*c1,':',color='black')\n",
    "# isoprofit line(s)\n",
    "isoprofline = cC.isoprofit(cC.profit(cCF,cC.y)-(y[0]-cCF[0]), y)\n",
    "plt.plot(c1,  isoprofline(c1),':' )\n",
    "\n",
    "# label the points\n",
    "ax.text(cCF[1]-1, cCF[2]+3, r'$F$', fontsize=15)\n",
    "ax.text(cCRP[1], cCRP[2]+1, r'$P$', fontsize=15)\n",
    "ax.text(cR[1]-2, cR[2]-6, r'$R$', fontsize=15)\n",
    "ax.text(cCF[1], -6, r'$c^{F}_{1}$', fontsize=15)\n",
    "ax.text(-8, cCF[2], r'$c^{F}_{2}$', fontsize=15)\n",
    "#ax.text(cCRP[1], -6, r'$c^{cp}_{1}$', fontsize=15)\n",
    "#ax.text(-8, cCRP[2], r'$c^{cp}_{2}$', fontsize=15)\n",
    "\n",
    "# display guide lines http://bit.ly/1CaTMDX\n",
    "xx = [cCF[1]]\n",
    "yy = [cCF[2]]\n",
    "ax.scatter(xx,yy, s=50, marker='o',color='b')\n",
    "[ax.plot([dot_x, dot_x] ,[0, dot_y],':',linewidth = 1,color='black' ) for dot_x, dot_y in zip(xx,yy) ] \n",
    "[ax.plot([0, dot_x] ,[dot_y, dot_y],':',linewidth = 1,color='black' ) for dot_x, dot_y in zip(xx,yy) ]\n",
    "ax.scatter(cR[1],cR[2],s=50, marker='o',color='b')\n",
    "ax.scatter(cCRP[1],cCRP[2],s=50, marker='o',color='b')\n",
    "\n",
    "#ax.text(0, -10, r'Competitive $\\kappa = {}$'\n",
    "#        .format(cC.kappa), fontsize=12)\n",
    "#ax.text(0, -15, r'$\\beta = {}, \\  \\rho = {}$'\n",
    "#        .format(cC.beta, cC.rho), fontsize=12)\n",
    "\n",
    "# plot isoprofit line(s)\n",
    "profitCR = cC.profit(cR,cC.y)\n",
    "isoprofCR = cC.isoprofit(profitCR-(cC.y[0]-cR[0]), cC.y)\n",
    "plt.plot(c1,  isoprofCR(c1),':', color='black' )\n",
    "\n",
    "# plot profit intercepts\n",
    "prf = sum(y)-cCF[0]    #profit through F\n",
    "prr = sum(y)-cC.profit(cR,cC.y)-cR[0] #profit through R\n",
    "ax.text(prf, -5, r'$\\Pi^F $', fontsize=15)\n",
    "ax.text(prr, -5, r'$\\Pi^R$', fontsize=15)\n",
    "ax.scatter(prf,0,s=50, marker='o',color='b')\n",
    "ax.scatter(prr,0,s=50, marker='o',color='b')\n",
    "\n",
    "# isoprofit lines could be plotted like so\n",
    "isop  = cC.isoprofit(cC.kappa, cCRP)   # returns a function of c1 \n",
    "plt.plot(c1_, isop(c1_),':')\n",
    "#turn off the axis numbers\n",
    "ax.axes.get_xaxis().set_visible(False)\n",
    "ax.axes.get_yaxis().set_visible(False)\n",
    "\n",
    "\n",
    "ax.spines['right'].set_color('none'), ax.spines['top'].set_color('none')\n",
    "plt.ylim((c1min, c1max*0.95)), plt.xlim((c1min, c1max*0.95))\n",
    "ax.xaxis.tick_bottom(),ax.yaxis.tick_left()\n",
    "plt.xlabel('$c_{1}$'); plt.ylabel('$c_{2}$')\n",
    "\n",
    "\n",
    "plt.savefig('figs\\Figure2.pdf', format='pdf')\n",
    "plt.show()"
   ]
  },
  {
   "cell_type": "code",
   "execution_count": 94,
   "metadata": {
    "collapsed": false
   },
   "outputs": [
    {
     "data": {
      "text/plain": [
       "8.2588818868268845"
      ]
     },
     "execution_count": 94,
     "metadata": {},
     "output_type": "execute_result"
    }
   ],
   "source": [
    "cC.profit(cR,cC.y)"
   ]
  },
  {
   "cell_type": "code",
   "execution_count": null,
   "metadata": {
    "collapsed": true
   },
   "outputs": [],
   "source": []
  },
  {
   "cell_type": "code",
   "execution_count": null,
   "metadata": {
    "collapsed": true
   },
   "outputs": [],
   "source": []
  },
  {
   "cell_type": "code",
   "execution_count": 4,
   "metadata": {
    "collapsed": false
   },
   "outputs": [],
   "source": [
    "%matplotlib inline\n",
    "import sys\n",
    "import numpy as np\n",
    "from scipy.optimize import minimize\n",
    "import matplotlib.pyplot as plt\n",
    "plt.rcParams[\"figure.figsize\"] = (10, 8)\n",
    "plt.rcParams['axes.formatter.useoffset'] = 'False'\n",
    "np.set_printoptions(precision=2)    # array printing format "
   ]
  },
  {
   "cell_type": "code",
   "execution_count": null,
   "metadata": {
    "collapsed": true
   },
   "outputs": [],
   "source": []
  },
  {
   "cell_type": "markdown",
   "metadata": {
    "collapsed": false
   },
   "source": [
    "Now the definition of the Contract class.  "
   ]
  },
  {
   "cell_type": "code",
   "execution_count": 5,
   "metadata": {
    "collapsed": false
   },
   "outputs": [],
   "source": [
    "import Contract"
   ]
  },
  {
   "cell_type": "code",
   "execution_count": 6,
   "metadata": {
    "collapsed": false
   },
   "outputs": [
    {
     "name": "stdout",
     "output_type": "stream",
     "text": [
      "beta    : 0.7\n",
      "delta   : 1.0\n",
      "guess   : [100 100 100]\n",
      "kappa   : 0\n",
      "r       : 0.0\n",
      "rho     : 0.5\n",
      "y       : [200, 50, 50]\n"
     ]
    }
   ],
   "source": [
    "c = Contract.Competitive(beta = 0.7)\n",
    "c.rho = 0.5\n",
    "c.y = [200,50,50]\n",
    "c.print_params()"
   ]
  },
  {
   "cell_type": "markdown",
   "metadata": {},
   "source": [
    "## Plot of Zero self's utility as a function of $s_0$"
   ]
  },
  {
   "cell_type": "code",
   "execution_count": 22,
   "metadata": {
    "collapsed": false
   },
   "outputs": [],
   "source": [
    "def C_opt(c0):\n",
    "    \"\"\" Return contract from consuming y0-s0 and splitting rest equally across c1 and c2\"\"\"\n",
    "    s0 = c.y[0] - c0\n",
    "    ce = (np.sum(c.y[1:])+s0)/2\n",
    "    C = [c.y[0] - s0, ce, ce]\n",
    "    return C\n",
    "\n",
    "def C_bias(c0):\n",
    "    \"\"\" Return contract from consuming y0-s0 and then having One self allocate across c1 and c2\"\"\"\n",
    "    B1p  = c.beta**(1/c.rho)\n",
    "    s0 = c.y[0] - c0\n",
    "    c1 = (np.sum(c.y[1:])+s0)/(1+B1p)\n",
    "    c2 = B1p * c1\n",
    "    C = [c.y[0] - s0, c1, c2]\n",
    "    return C"
   ]
  },
  {
   "cell_type": "markdown",
   "metadata": {},
   "source": [
    "Just like above above but with $s_0$ argument:"
   ]
  },
  {
   "cell_type": "code",
   "execution_count": 35,
   "metadata": {
    "collapsed": true
   },
   "outputs": [],
   "source": [
    "def C_opt(s0):\n",
    "    \"\"\" Return discounted utility from consuming y0-s0 and splitting rest equally across c1 and c2\"\"\"\n",
    "    ce = (np.sum(c.y[1:])+s0)/2\n",
    "    C = [c.y[0] - s0, ce, ce]\n",
    "    return C\n",
    "\n",
    "def C_bias(s0):\n",
    "    \"\"\" Return discounted utility from consuming y0-s0 and splitting rest equally across c1 and c2\"\"\"\n",
    "    B1p  = c.beta**(1/c.rho)\n",
    "    c1 = (np.sum(c.y[1:])+s0)/(1+B1p)\n",
    "    c2 = B1p * c1\n",
    "    C = [c.y[0] - s0, c1, c2]\n",
    "    return C"
   ]
  },
  {
   "cell_type": "markdown",
   "metadata": {},
   "source": [
    "$$   \\frac{s_0+y_1 +y_2}{1 + \\beta ^\\frac{1}{\\rho} }\n",
    "= \\Lambda^\\frac{1}{\\rho}\n",
    "(y_0-s_0) $$\n",
    "\n",
    "where $\\Lambda = \\frac{\\beta (1+\\beta^\\frac{1-\\rho}{\\rho})}{1+\\beta^\\frac{1}{\\rho}}$"
   ]
  },
  {
   "cell_type": "markdown",
   "metadata": {},
   "source": [
    "So we can solve for $s_0$ as:\n",
    "\n",
    "$$s_0 = \\frac{y_0 \\Lambda^\\frac{1}{\\rho} -y_1 -y_2}{1+\\Lambda^\\frac{1}{\\rho}(1+\\beta^\\frac{1}{\\rho})} $$"
   ]
  },
  {
   "cell_type": "code",
   "execution_count": 57,
   "metadata": {
    "collapsed": false
   },
   "outputs": [
    {
     "data": {
      "text/plain": [
       "[190, 73.825503355704697, 36.174496644295296]"
      ]
     },
     "execution_count": 57,
     "metadata": {},
     "output_type": "execute_result"
    }
   ],
   "source": [
    "C_bias(10)"
   ]
  },
  {
   "cell_type": "code",
   "execution_count": 58,
   "metadata": {
    "collapsed": false
   },
   "outputs": [],
   "source": [
    "def C_own(y):\n",
    "    \"\"\" Return discounted utility from consuming y0-s0 and splitting rest equally across c1 and c2\"\"\"\n",
    "    b, rh= c.beta,c.rho \n",
    "    B1p  = b**(1/rh)\n",
    "    Lp = b*(1+b**(1-rh)/rh)/(1+B1p)\n",
    "    s0 = (y[0]*Lp -y[1]-y[2])/(1+Lp*(1+B1p))\n",
    "    c0 = y[0]-s0\n",
    "    c1, c2 = C_bias(s0)[1],C_bias(s0)[2]\n",
    "    \n",
    "    C = [c0, c1, c2]\n",
    "    return C"
   ]
  },
  {
   "cell_type": "code",
   "execution_count": 68,
   "metadata": {
    "collapsed": false
   },
   "outputs": [
    {
     "data": {
      "text/plain": [
       "([143.06025036094968, 105.32869103291968, 51.611058606130634],\n",
       " array([ 151.52,   74.24,   74.24]))"
      ]
     },
     "execution_count": 68,
     "metadata": {},
     "output_type": "execute_result"
    }
   ],
   "source": [
    "c.y = [180,60,60]\n",
    "C_own(c.y) , c.fcommit()"
   ]
  },
  {
   "cell_type": "code",
   "execution_count": 66,
   "metadata": {
    "collapsed": false
   },
   "outputs": [
    {
     "name": "stdout",
     "output_type": "stream",
     "text": [
      "G =0.7986577181208053\n"
     ]
    },
    {
     "data": {
      "text/plain": [
       "array([ 153.81,   98.11,   48.07])"
      ]
     },
     "execution_count": 66,
     "metadata": {},
     "output_type": "execute_result"
    }
   ],
   "source": [
    "c.ownsmooth()"
   ]
  },
  {
   "cell_type": "code",
   "execution_count": 67,
   "metadata": {
    "collapsed": false
   },
   "outputs": [
    {
     "data": {
      "text/plain": [
       "300.0"
      ]
     },
     "execution_count": 67,
     "metadata": {},
     "output_type": "execute_result"
    }
   ],
   "source": [
    "sum(C_own(c.y))"
   ]
  },
  {
   "cell_type": "code",
   "execution_count": 39,
   "metadata": {
    "collapsed": false
   },
   "outputs": [
    {
     "data": {
      "text/plain": [
       "array([ 25. ,  25.5,  26. ,  26.5,  27. ,  27.5,  28. ,  28.5,  29. ,\n",
       "        29.5,  30. ,  30.5,  31. ,  31.5,  32. ,  32.5,  33. ,  33.5,\n",
       "        34. ,  34.5,  35. ,  35.5,  36. ,  36.5,  37. ,  37.5,  38. ,\n",
       "        38.5,  39. ,  39.5,  40. ,  40.5,  41. ,  41.5,  42. ,  42.5,\n",
       "        43. ,  43.5,  44. ,  44.5,  45. ,  45.5,  46. ,  46.5,  47. ,\n",
       "        47.5,  48. ,  48.5,  49. ,  49.5,  50. ,  50.5,  51. ,  51.5,\n",
       "        52. ,  52.5,  53. ,  53.5,  54. ,  54.5,  55. ,  55.5,  56. ,\n",
       "        56.5,  57. ,  57.5,  58. ,  58.5,  59. ,  59.5,  60. ,  60.5,\n",
       "        61. ,  61.5,  62. ,  62.5,  63. ,  63.5,  64. ,  64.5,  65. ,\n",
       "        65.5,  66. ,  66.5,  67. ,  67.5,  68. ,  68.5,  69. ,  69.5,\n",
       "        70. ,  70.5,  71. ,  71.5,  72. ,  72.5,  73. ,  73.5,  74. ,  74.5])"
      ]
     },
     "execution_count": 39,
     "metadata": {},
     "output_type": "execute_result"
    }
   ],
   "source": [
    "sz=np.arange(-50,50)\n",
    "C_opt(sz)[1]"
   ]
  },
  {
   "cell_type": "code",
   "execution_count": 38,
   "metadata": {
    "collapsed": false
   },
   "outputs": [
    {
     "data": {
      "text/plain": [
       "array([  33.56,   34.23,   34.9 ,   35.57,   36.24,   36.91,   37.58,\n",
       "         38.26,   38.93,   39.6 ,   40.27,   40.94,   41.61,   42.28,\n",
       "         42.95,   43.62,   44.3 ,   44.97,   45.64,   46.31,   46.98,\n",
       "         47.65,   48.32,   48.99,   49.66,   50.34,   51.01,   51.68,\n",
       "         52.35,   53.02,   53.69,   54.36,   55.03,   55.7 ,   56.38,\n",
       "         57.05,   57.72,   58.39,   59.06,   59.73,   60.4 ,   61.07,\n",
       "         61.74,   62.42,   63.09,   63.76,   64.43,   65.1 ,   65.77,\n",
       "         66.44,   67.11,   67.79,   68.46,   69.13,   69.8 ,   70.47,\n",
       "         71.14,   71.81,   72.48,   73.15,   73.83,   74.5 ,   75.17,\n",
       "         75.84,   76.51,   77.18,   77.85,   78.52,   79.19,   79.87,\n",
       "         80.54,   81.21,   81.88,   82.55,   83.22,   83.89,   84.56,\n",
       "         85.23,   85.91,   86.58,   87.25,   87.92,   88.59,   89.26,\n",
       "         89.93,   90.6 ,   91.28,   91.95,   92.62,   93.29,   93.96,\n",
       "         94.63,   95.3 ,   95.97,   96.64,   97.32,   97.99,   98.66,\n",
       "         99.33,  100.  ])"
      ]
     },
     "execution_count": 38,
     "metadata": {},
     "output_type": "execute_result"
    }
   ],
   "source": [
    "C_bias(sz)[1]"
   ]
  },
  {
   "cell_type": "code",
   "execution_count": 34,
   "metadata": {
    "collapsed": false
   },
   "outputs": [
    {
     "data": {
      "text/plain": [
       "0.48999999999999994"
      ]
     },
     "execution_count": 34,
     "metadata": {},
     "output_type": "execute_result"
    }
   ],
   "source": [
    "c.beta**(1/c.rho)"
   ]
  },
  {
   "cell_type": "code",
   "execution_count": 48,
   "metadata": {
    "collapsed": false
   },
   "outputs": [
    {
     "data": {
      "text/plain": [
       "<matplotlib.legend.Legend at 0xacec160>"
      ]
     },
     "execution_count": 48,
     "metadata": {},
     "output_type": "execute_result"
    },
    {
     "data": {
      "image/png": "[encoded data removed]",
      "text/plain": [
       "<matplotlib.figure.Figure at 0xadb2940>"
      ]
     },
     "metadata": {},
     "output_type": "display_data"
    }
   ],
   "source": [
    "\n",
    "plt.plot(sz,C_opt(sz)[1],label='copt[1]')\n",
    "plt.plot(sz,C_bias(sz)[1],label='cbias[1]')\n",
    "\n",
    "plt.plot(sz,C_opt(sz)[2],label='copt[2]')\n",
    "plt.plot(sz,C_bias(sz)[2],label='cbias[2]')\n",
    "plt.legend()"
   ]
  },
  {
   "cell_type": "code",
   "execution_count": 18,
   "metadata": {
    "collapsed": false
   },
   "outputs": [
    {
     "data": {
      "text/plain": [
       "[10, 145.0, 145.0]"
      ]
     },
     "execution_count": 18,
     "metadata": {},
     "output_type": "execute_result"
    }
   ],
   "source": [
    "C_opt(10)"
   ]
  },
  {
   "cell_type": "code",
   "execution_count": 19,
   "metadata": {
    "collapsed": false
   },
   "outputs": [
    {
     "data": {
      "text/plain": [
       "[10, 194.63087248322148, 95.369127516778519]"
      ]
     },
     "execution_count": 19,
     "metadata": {},
     "output_type": "execute_result"
    }
   ],
   "source": [
    "C_bias(10)"
   ]
  },
  {
   "cell_type": "code",
   "execution_count": 20,
   "metadata": {
    "collapsed": false
   },
   "outputs": [
    {
     "data": {
      "text/plain": [
       "48.48484848484847"
      ]
     },
     "execution_count": 20,
     "metadata": {},
     "output_type": "execute_result"
    }
   ],
   "source": [
    "cF = c.fcommit()\n",
    "cF0=cF[0]\n",
    "sF = c.y[0]-cF[0]\n",
    "sF"
   ]
  },
  {
   "cell_type": "code",
   "execution_count": null,
   "metadata": {
    "collapsed": true
   },
   "outputs": [],
   "source": [
    "Plot Zero self utility under each "
   ]
  },
  {
   "cell_type": "code",
   "execution_count": 21,
   "metadata": {
    "collapsed": false
   },
   "outputs": [
    {
     "data": {
      "text/plain": [
       "<matplotlib.lines.Line2D at 0x83ceb38>"
      ]
     },
     "execution_count": 21,
     "metadata": {},
     "output_type": "execute_result"
    },
    {
     "data": {
      "image/png": "[encoded data removed]",
      "text/plain": [
       "<matplotlib.figure.Figure at 0x84a77f0>"
      ]
     },
     "metadata": {},
     "output_type": "display_data"
    }
   ],
   "source": [
    "cz=np.arange(cF0-50,cF0+50)\n",
    "plt.plot(cz,c.PVU(C_opt(cz),c.beta))\n",
    "plt.plot(cz,c.PVU(C_bias(cz),c.beta))\n",
    "plt.xlim(cF0-50,cF0+50)\n",
    "plt.axvline(cF[0], color='k', linestyle='dashed')\n",
    "plt.axvline(0, color='k', linestyle='solid')"
   ]
  },
  {
   "cell_type": "code",
   "execution_count": null,
   "metadata": {
    "collapsed": true
   },
   "outputs": [],
   "source": []
  },
  {
   "cell_type": "code",
   "execution_count": null,
   "metadata": {
    "collapsed": false
   },
   "outputs": [],
   "source": [
    "U_opt(50)[0]"
   ]
  },
  {
   "cell_type": "code",
   "execution_count": null,
   "metadata": {
    "collapsed": true
   },
   "outputs": [],
   "source": [
    "s=np.arange(1,sum(c.y))\n"
   ]
  },
  {
   "cell_type": "markdown",
   "metadata": {},
   "source": [
    "Let's plot an indifference curve in c1-c2 space.  For example if the agent in autarky has income $\\{y_{0},y_{1},y_{2}\\}$ and no access to saving or borrowing then (from period 0 self's perspective) entering period 1 they have reservation utility $u(y_{1})+\\delta u(y_{2})=\\overline{u}_{0}$.  But when period 1 rolls around their preferences change. From period 1 self's perspective they have reservation utility $u(y_{1})+\\beta \\delta u(y_{2})=\\overline{u}_{1}$.  "
   ]
  },
  {
   "cell_type": "code",
   "execution_count": null,
   "metadata": {
    "collapsed": true
   },
   "outputs": [],
   "source": []
  },
  {
   "cell_type": "markdown",
   "metadata": {},
   "source": [
    "### Exclusive competitive contracts"
   ]
  },
  {
   "cell_type": "markdown",
   "metadata": {},
   "source": [
    "The contract class defines a generic contract which holds consumption stream objects of the form $\\left( c_{0},c_{1},c_{2}\\right)$ and allows a few manipulations.  Now comes the job of solving for optimal contracts and we do this with a CompetitiveContract class which inherits the attributes and methods of the more generic contract class and then adds a few methods such as calculating the optimal contract full commitment and renegotiation-proof contracts in the competitive lender case.  Note that the methods have the same names as the mon_contract class but some behave differently, reflecting the reversed objective and constraint.\n"
   ]
  },
  {
   "cell_type": "markdown",
   "metadata": {},
   "source": [
    "#### Full-commitment contracts"
   ]
  },
  {
   "cell_type": "markdown",
   "metadata": {},
   "source": [
    "When the competitive lender can commit to not-renegotiating the contract (i.e. to not pandering to the period-1 self's desire to renegotiate period-0's contract) and the contracts are exclusive (so no third party lender will enter to offer such renegotiation either) the contract solves\n",
    "\n",
    "$$\\max \\  u\\left( c_{0}\\right) +\\beta \\left[ \\delta u\\left( c_{1}\\right) +\\delta ^{2}u\\left( c_{2}\\right) \\right] $$\n",
    "\n",
    "subject to the zero profit constraint\n",
    "$$s.t.  (y_{0}-c_{0})+\\frac{(y_{1}-c_{1})}{(1+r)}+\\frac{(y_{2}-c_{2})}{(1+r)^{2}}  \\geq 0$$\n",
    "\n",
    "\n",
    "When $\\delta =\\frac{1}{(1+r)}$ for the CRRA case an optimum will set $c_{1}=c_{2}=\\overline{c}$ and $\\overline{c}=\\beta ^{\\frac{1}{\\rho }}c_{0}$ from which a closed form solution can be easily found (see fcommit() function below for formulas).\n",
    "\n",
    "**Note** that we are here assuming that the consumer has no choice but to consume their income stream $y$ under autarky.  This would be true if the agent does not have acess to any 'own savings' technologies.  Later below we see how things change only slightly when we allow them to use own savings to create a slightly more smooth autarky consumption stream (not perfectly smooth because they cannot overcome their self-control problems on their own)."
   ]
  },
  {
   "cell_type": "markdown",
   "metadata": {},
   "source": [
    "#### Renegotiaton-proof contracts"
   ]
  },
  {
   "cell_type": "markdown",
   "metadata": {},
   "source": [
    "***[THIS EXPLANATION HAS NOT BEEN UPDATED YET]***\n",
    "The agent's period-1-self's preferences differ from those of his period 0 self so they will often want to renegotiate any contract their period 0 self contracted, and the bank can profit from this renegotiation so long as its renegotiaton cost $\\kappa $ is low.   In particular if the period-0-self agreed to contract $\\left( \\bar{c}_{0},\\bar{c}_{1},\\bar{c}_{2}\\right) $ a competitive firm would offer to renegotiate the remaining $(\\bar{c}_{1},\\bar{c}_{2})$ to contract $\\left( c_{1}^{r},c_{2}^{r}\\right) $ chosen to maximize\n",
    "\n",
    "$$\\max \\ \\ u(c_{1})+\\beta (\\delta u(c_{1}) +\\delta^{2} u(c_{2})) $$\n",
    "subject to $$(y_{1}-c_{1})+\\frac{(y_{2}-c_{2})}{(1+r)} \\geq 0$$\n",
    "\n",
    "\n",
    "We can show from the agent's first order conditions for the CRRA case that a renegotiated contract will always satisfy $c_{2}=\\beta ^{\\frac{1}{\\rho }}c_{1}$ and indeed for CRRA we get the closed form:\n",
    "$$ \\hat{c}_{0} =\\frac{\\sum y_{i}}{1+2\\beta^{1/\\rho}}$$\n",
    "\n",
    "and $c_{2}^{r}(\\bar{c}_{1},\\bar{c}_{2})=\\beta ^{\\frac{1}{\\rho }}c_{1}^{r}(\\bar{c}_{1},\\bar{c}_{2})$.  See the reneg(c) function.\n",
    "\n",
    "A sophisticated present-biased consumer anticipates that this type of renegotiation may happen and will only agree to renegotiation-proof contracts that do not renegotiate to favor their period 1 selves.  The profit-maximizing renegotiation-proof contract solves\n",
    "\n",
    "\n",
    "$$\\max_{c_{0},c_{1},c_{2}}\\Pi \\left( c_{0},c_{1},c_{2}\\right) $$\n",
    "$$U(c_{0},c_{1},c_{2})\\geq U_{0}(y_{0},y_{1},y_{2})$$\n",
    "$$\\Pi \\left( c_{1}^{r},c_{2}^{r}\\right) -\\Pi \\left( c_{1},c_{2}\\right) \\leq \\overline{\\kappa }$$\n",
    "The first constraint is the period 0 self's participation constraint and the second is the no-renegotiation proof constraint that the bank not find it profitable to offer to renegotiate to the contract that period-1 self will demand."
   ]
  },
  {
   "cell_type": "markdown",
   "metadata": {},
   "source": [
    "Let's create an object instance which we will call cM, printout the parameters associated with this instance and then run a few checks to make sure the cM.reneg function works right:"
   ]
  },
  {
   "cell_type": "code",
   "execution_count": null,
   "metadata": {
    "collapsed": false
   },
   "outputs": [],
   "source": [
    "cC = Contract.Competitive(beta = 0.5)\n",
    "cC.rho = 1.25\n",
    "cC.y = [200,50,50]\n",
    "cC.print_params()"
   ]
  },
  {
   "cell_type": "code",
   "execution_count": null,
   "metadata": {
    "collapsed": false
   },
   "outputs": [],
   "source": [
    "cC.beta**(1/cC.rho)"
   ]
  },
  {
   "cell_type": "markdown",
   "metadata": {},
   "source": [
    "###Full commitment contract: closed form solution\n",
    "#### Case 1: where potential renegotiation surplus goes to consumer"
   ]
  },
  {
   "cell_type": "code",
   "execution_count": null,
   "metadata": {
    "collapsed": false
   },
   "outputs": [],
   "source": [
    "#Analytically calculated renegotiation proof when kappa=0\n",
    "def ccrpa(C):\n",
    "    B = C.beta**(1/C.rho)\n",
    "    D = 1/(1+(1+B)*((C.beta+B)/(1+B))**(1/C.rho))\n",
    "    c0 = sum(C.y)*D\n",
    "    c1 = (sum(C.y)-c0)/(1+B)\n",
    "    c2 = B* c1\n",
    "    return np.array([c0, c1, c2])\n",
    "\n",
    "cCRPa =ccrpa(cC)\n",
    "print(cCRPa, cC.PVU(cCRPa,1))"
   ]
  },
  {
   "cell_type": "code",
   "execution_count": null,
   "metadata": {
    "collapsed": false
   },
   "outputs": [],
   "source": [
    "# Let's find reneg-proof contract for pure profit with zero reneg. cost\n",
    "cCF=cC.fcommit()\n",
    "cC.kappa = 0\n",
    "cC.guess = cCRPa\n",
    "cCR = cC.reneg(cCF)\n",
    "cCRP = cC.reneg_proof().x\n",
    "cCRP"
   ]
  },
  {
   "cell_type": "code",
   "execution_count": null,
   "metadata": {
    "collapsed": false
   },
   "outputs": [],
   "source": [
    "# compare three contracts (string label into var name)\n",
    "print('kappa = ',cC.kappa)\n",
    "print('y =',cC.y)\n",
    "print(\"consumption and net saving in each period\")\n",
    "for con in ['cCF ', 'cCR ', 'cCRP','cCRPa']:\n",
    "    C = eval(con)\n",
    "    y = cC.y\n",
    "    print(con + \"       : {}  sum   : {:4.0f}\"\n",
    "          .format(C, C.sum()))\n",
    "    print(con + \"(net s): {}     profit: {:4.2f}\"\n",
    "          .format(y - C, cC.profit(C,cC.y)))\n",
    "   \n",
    "    print(\"PVU0: {:4.3f} {}  b*[]: {:4.3f}\"\n",
    "          .format(cC.PVU(C,cC.beta),cC.u(C),\n",
    "                cC.beta*cC.u(C)[1:].sum() ))\n",
    "    print(\"PVU(1): {:4.4f}\"\n",
    "          .format(cC.PVU(C[1:],cC.beta)))\n",
    "    print(\"rate: {:4.2f}%\".format(-100*(C[1:].sum()-sum(y[1:]))/C[0] ))\n",
    "    print()"
   ]
  },
  {
   "cell_type": "markdown",
   "metadata": {},
   "source": [
    "The bank does not profit from this type of opportunistic renegotiation, if we assume 'competition' at time of renegotiation **although one might argue** that the relation is ex-ante competitive but ex-post favors the bank."
   ]
  },
  {
   "cell_type": "markdown",
   "metadata": {},
   "source": [
    "A sophisticated consumer will however anticipate this type of opporunistic renegotiation and only agree to a renegotiation-proof contract.  "
   ]
  },
  {
   "cell_type": "markdown",
   "metadata": {},
   "source": [
    "As expected the bank's profits are lowered due to its inability to commit to not renegotiate.\n",
    "\n",
    "Here's a plot."
   ]
  },
  {
   "cell_type": "code",
   "execution_count": null,
   "metadata": {
    "collapsed": false
   },
   "outputs": [],
   "source": [
    "c1min, c1max = np.min(cCR)*0.6, np.max(cC.y)\n",
    "c1min = 0\n",
    "c1max = 160\n",
    "c1 = np.arange(0,c1max,c1max/20)\n",
    "c1_ = np.arange(40,c1max,c1max/20)\n",
    "y = cC.y\n",
    "#cCRP = cCRPa\n",
    "#indifference curves functions\n",
    "ubar0 = cC.PVU(cCF[1:3], 1.0)\n",
    "idc0 = cC.indif(ubar0, 1.0)\n",
    "ubar1 = cC.PVU(cCF[1:3],cC.beta)\n",
    "idc1 = cC.indif(ubar1,cC.beta)\n",
    "ubar0RP = cC.PVU(cCRP[1:3], 1.0)\n",
    "idc0RP = cC.indif(ubar0RP,1.0)\n",
    "ubar1RP = cC.PVU(cCRP[1:3], cC.beta)\n",
    "idc1RP = cC.indif(ubar1RP,cC.beta)\n",
    "\n",
    "\n",
    "fig, ax = plt.subplots()\n",
    "# trick to display contract points and coordinate lines http://bit.ly/1CaTMDX\n",
    "xx = [cCF[1], cCRP[1]]\n",
    "yy = [cCF[2], cCRP[2]]\n",
    "plt.scatter(xx,yy, s=50, marker='o',color='b')\n",
    "[plt.plot([dot_x, dot_x] ,[0, dot_y],':',linewidth = 1,color='black' ) for dot_x, dot_y in zip(xx,yy) ] \n",
    "[plt.plot([0, dot_x] ,[dot_y, dot_y],':',linewidth = 1,color='black' ) for dot_x, dot_y in zip(xx,yy) ]\n",
    "\n",
    "# indifference curves\n",
    "plt.plot(c1_,idc0(c1_),color='blue')          \n",
    "#plt.plot(c1_,idc1(c1_),color='red') \n",
    "plt.plot(c1_,idc0RP(c1_),color='blue')\n",
    "plt.plot(c1_,idc1RP(c1_),color='red')\n",
    "# rays\n",
    "plt.plot(c1, c1,':',color='black')\n",
    "plt.plot(c1, cC.beta**(1/cC.rho)*c1,':',color='black')\n",
    "# isoprofit line(s)\n",
    "#isoprofline = cC.isoprofit(cC.profit(cMF,cC.y)-(y[0]-cCF[0]), y)\n",
    "#plt.plot(c1,  isoprofline(c1),':' )\n",
    "\n",
    "ax.spines['right'].set_color('none'), ax.spines['top'].set_color('none')\n",
    "plt.ylim((c1min, c1max*0.9)), plt.xlim((c1min, c1max*0.9))\n",
    "ax.xaxis.tick_bottom(),ax.yaxis.tick_left()\n",
    "plt.xlabel('$c_{1}$'); plt.ylabel('$c_{2}$')\n",
    "\n",
    "# label the points\n",
    "ax.text(cCF[1]-1, cCF[2]+3, r'$F$', fontsize=15)\n",
    "ax.text(cCRP[1]-3, cCRP[2]-5, r'$P$', fontsize=15)\n",
    "ax.text(cCRP[1], -6, r'$c^{cp}_{1}$', fontsize=15)\n",
    "ax.text(-8, cCRP[2], r'$c^{cp}_{2}$', fontsize=15)\n",
    "ax.text(cCF[1], -6, r'$c^{cf}_{1}$', fontsize=15)\n",
    "ax.text(-8, cCF[2], r'$c^{cf}_{2}$', fontsize=15)\n",
    "\n",
    "#ax.text(0, -10, r'Competitive $\\kappa = {}$'\n",
    "#        .format(cC.kappa), fontsize=12)\n",
    "#ax.text(0, -15, r'$\\beta = {}, \\  \\rho = {}$'\n",
    "#        .format(cC.beta, cC.rho), fontsize=12)\n",
    "\n",
    "# isoprofit lines could be plotted like so\n",
    "#isop  = cC.isoprofit( cC.kappa, cCRP)   # returns a function of c1 \n",
    "#plt.plot(c1_, isop(c1_),':')\n",
    "#turn off the axis numbers\n",
    "ax.axes.get_xaxis().set_visible(False)\n",
    "ax.axes.get_yaxis().set_visible(False)\n",
    "plt.savefig('figs\\CompetitiveFig.eps', format='eps')\n",
    "plt.show()"
   ]
  },
  {
   "cell_type": "code",
   "execution_count": null,
   "metadata": {
    "collapsed": false
   },
   "outputs": [],
   "source": [
    "# isoprofit lines could be plotted like so\n",
    "# isop  = cM.isoprofit( 0.0, cM.y)   # returns a function of c1 \n",
    "# plt.plot(c1, isop(c1))"
   ]
  },
  {
   "cell_type": "code",
   "execution_count": null,
   "metadata": {
    "collapsed": false,
    "scrolled": true
   },
   "outputs": [],
   "source": [
    "for cont in ['cCF ', 'cCR ', 'cCRP', 'cCRPa']:\n",
    "    print(cont +\":\", eval(cont))"
   ]
  },
  {
   "cell_type": "markdown",
   "metadata": {},
   "source": [
    "##Optimal contract when renegotiation cost $\\kappa $ >0"
   ]
  },
  {
   "cell_type": "markdown",
   "metadata": {},
   "source": [
    "Plot to explore how the renegotiation cost $\\kappa $ affects the terms of the contract and firm profits"
   ]
  },
  {
   "cell_type": "code",
   "execution_count": null,
   "metadata": {
    "collapsed": false
   },
   "outputs": [],
   "source": [
    "# Note:  re-run all cells above if the plot seems wrong\n",
    "cC.y = np.array([100,100,100]) \n",
    "cCF = cC.fcommit()\n",
    "num_pts = 21\n",
    "kaps = np.linspace(0, 10, num_pts)      # different renegotiation cost values \n",
    "cCRP, pvu0RP = np.zeros((3,num_pts)), np.zeros(num_pts)  # init (c0,c1,c2) and profits at each kappa\n",
    "\n",
    "for i in range(0,num_pts):               # look through kappa recalculating optimal contract each time\n",
    "    cC.kappa = kaps[i] \n",
    "    cCRP[:,i] = cC.reneg_proof().x \n",
    "    pvu0RP[i] = cC.PVU(cCRP[:,i],cC.beta)\n",
    "\n",
    "c0,c1,c2 = cCRP[0,:], cCRP[1,:],cCRP[2,:]                # save results for plotting\n",
    "\n",
    "fig, (ax0, ax1) = plt.subplots(nrows = 2)\n",
    "#ax0.plot(kaps, c0, label='$c_{0}$')\n",
    "ax0.plot(kaps, c1, label='$c_{1}$')\n",
    "ax0.plot(kaps, c2, label='$c_{2}$')\n",
    "ax0.plot(kaps, np.ones(num_pts)*cCF[1], '--', label='$c_{F}$')\n",
    "ax0.grid()\n",
    "ax0.set_title('Reneg-Proof Contract terms, PVU and $\\kappa$'), ax0.set_ylabel('consumption')\n",
    "ax0.legend(loc=9,bbox_to_anchor=(0.5, -1.25), ncol = 3)\n",
    "\n",
    "ax1.plot(kaps, pvu0RP)\n",
    "ax1.set_ylabel('PVU0')\n",
    "ax1.grid()\n",
    "ax1.set_xlabel('renegotiation cost $\\kappa$')\n",
    "pvumin,pvumax = min(pvu0RP), max(pvu0RP)\n",
    "plt.ylim((pvumin, pvumax))\n",
    "plt.tight_layout()\n",
    "plt.show()"
   ]
  },
  {
   "cell_type": "markdown",
   "metadata": {},
   "source": [
    "At lower renegotiation costs the bank is forced to offer less consumption smoothing in periods 1 and 2 as a way to credibly commit to limit their gains to renegotiation with a period 1 self.  Hence bank profits rise with their ability to commit to incur a renegotiation cost $\\kappa$\n",
    "\n",
    "We haven't plotted $c_{0}$ for each $\\kappa$ but that's because it varies less relative to $c_{1}, c_{2}$ and way above the full commitment consumption smoothing. The following shows a non-monotonic relation though ws should remember this is varying very little."
   ]
  },
  {
   "cell_type": "code",
   "execution_count": null,
   "metadata": {
    "collapsed": false
   },
   "outputs": [],
   "source": [
    "plt.plot(kaps, c0) \n",
    "plt.ylim((min(c0), max(c0)))\n",
    "plt.xlabel('renegotiation cost $\\kappa$')\n",
    "plt.show()"
   ]
  },
  {
   "cell_type": "markdown",
   "metadata": {},
   "source": [
    "### The choice to become a commercial non-profit"
   ]
  },
  {
   "cell_type": "markdown",
   "metadata": {},
   "source": [
    "### Modeling the non-profit"
   ]
  },
  {
   "cell_type": "markdown",
   "metadata": {},
   "source": [
    "The no-renegotiation constraint has two parts.  A pure for-profit captures fraction $\\alpha = 1$ of profits and faces renegotiation cost \n",
    "not-for-profit of type $\\alpha$ and faces renegotiation cost $h(\\alpha) = h(1)$.  More generally a non-profit of type $\\alpha$ has a no-renegotiation constraint of the form \n",
    "$$\\alpha \\left[ \\Pi ^{R}-\\Pi \\right] \\geq h(\\alpha )$$\n",
    "\n",
    "To be specific here let's model this as \n",
    "$$h(\\alpha )=\\kappa \\left( 1-\\alpha \\right) $$\n",
    "\n",
    "So that at $\\alpha =1$ there is no cost to renegotiation and at $0< \\alpha <1$ there is a non-negative non-pecuniary cost of up to $\\kappa$.  The constraint can then be written as \n",
    "$$\\left[ \\Pi ^{R}-\\Pi \\right] \\geq C(\\alpha )=\\frac{h(\\alpha )}{\\alpha }$$"
   ]
  },
  {
   "cell_type": "code",
   "execution_count": null,
   "metadata": {
    "collapsed": true
   },
   "outputs": [],
   "source": []
  },
  {
   "cell_type": "code",
   "execution_count": null,
   "metadata": {
    "collapsed": false
   },
   "outputs": [],
   "source": [
    "# Similar to above but solve for contract as a function of firm type ALPHA\n",
    "y = np.array([100,100,100])          # To see how endowment affects contract\n",
    "cC.y     = y                            \n",
    "cCF      = cC.fcommit()\n",
    "num_pts  = 10\n",
    "alphs    = np.linspace(0.0,1.0,num_pts)   # iterate over different values of beta\n",
    "HA       = 10*(np.ones(num_pts) - alphs)   #  h(alpha)/alpha  or cost of renegotiaton\n",
    "cCRP     = np.zeros((3,num_pts))          # matrix for (c0,c1,c2) at each kappa\n",
    "pvu0RP   = np.zeros(num_pts)  #PVU0 when contracting with alpha=1 firm\n",
    "\n",
    "for i in range(0,num_pts):\n",
    "    cC.kappa = HA[i]                 # change optimal contract\n",
    "    cCRP[:,i] = cC.reneg_proof().x \n",
    "    cC.guess =  cCRP[:,i]                 # use this sol as guess for next optimum\n",
    "    pvu0RP[i] = cC.PVU(cCRP[:,i],cC.beta)\n",
    "    \n",
    "#last entry is 'pure profit' pvu0RP[-1]\n",
    "pvu0RP_pure = pvu0RP[-1]\n",
    "\n",
    "c0,c1,c2 = cCRP[0,:], cCRP[1,:],cCRP[2,:]                # save results for plotting\n",
    "\n",
    "fig3 = plt.figure()  \n",
    "plt.plot(alphs,c1,'--',label='$c_{1}$')\n",
    "plt.plot(alphs,c2,label='$c_{2}$')\n",
    "plt.plot(alphs,np.ones(num_pts)*cCF[1],label='$c_{1}$ commit')\n",
    "plt.grid()\n",
    "plt.title('Renegotiation Proof Contract and alpha' )\n",
    "plt.xlabel('alpha ')\n",
    "plt.ylabel('consumption')\n",
    "plt.legend(loc='upper left')\n",
    "plt.show()"
   ]
  },
  {
   "cell_type": "markdown",
   "metadata": {},
   "source": [
    "### 'Commercial' non-profits \n",
    "A 'pure' for profit (with $\\alpha$=1.0) earns a reduced (possibly negative) profit due to it's inability to commit. Seen in the plot as profits the height of the horizontal line.\n",
    "\n",
    "Any non-profit with $\\alpha$ above about 0.4 and below 1.0 can better commit to not renegotiate a larger set of contracts and therefore can offer a more profitable renegotiation-proof contract. Even though they capture only fraction $\\alpha$ of those profits, the take home profits exceed the profits of the pure for-profit. "
   ]
  },
  {
   "cell_type": "code",
   "execution_count": null,
   "metadata": {
    "collapsed": false
   },
   "outputs": [],
   "source": [
    "cC.y = [130,85,85]  \n",
    "#last entry is 'pure profit' pvu0RP[-1]\n",
    "pvu0RP_full = pvu0RP[-1]*np.ones(num_pts)\n",
    "pvu0_aut  = cC.PVU(cC.y,cC.beta)*np.ones(num_pts)\n",
    "\n",
    "fig = plt.figure()\n",
    "ax = fig.add_subplot(111)\n",
    "plt.title('Renegotiation-Proof PVU0 vs. alpha')\n",
    "plt.xlabel(r'type of firm $ \\alpha$')\n",
    "plt.ylabel('0-self present discounted utility')\n",
    "plt.plot(alphs,pvu0RP_full,'--',label='PVU from pure-profit')\n",
    "plt.plot(alphs,pvu0RP,label='PVU from non-profit')\n",
    "plt.plot(alphs,pvu0_aut,label='PVU from autarky')\n",
    "\n",
    "ax.fill_between(alphs, np.fmax(pvu0RP,pvu0_aut), pvu0_aut,hatch='/')\n",
    "plt.legend(loc='upper center', bbox_to_anchor=(0.5, -0.1),\n",
    "          fancybox=None, ncol=5)\n",
    "plt.show()"
   ]
  },
  {
   "cell_type": "markdown",
   "metadata": {},
   "source": [
    "The figure above compares what the customer can get (present discounted utility of period 0 self) from autarky compared to what he could get contracting in a situation with competition and exclusive contracts.\n",
    "\n",
    "In the particular example ($\\beta = 0.5, \\rho=0.75, y=[130,85, 85]$) the autarky consumption bundle is rather close to what could be offered via consumption smothing so the total surplus to be divided is not that large.  The pure for profit firm offers a renegotiation proof contract that does such a poor smoothing job that the consumer prefers to stay in authaky.  However a commercial non-profit with alpha below ~ 0.8 offers a smoother contract and hence gains to trade.  \n",
    "\n",
    "Now as presently modeld that non-profit will of course get zero profits (80% of zero!). We can model instead situations where at any period 1 renegotiation it's the consumer who gives up all surplus since the assumption of exclusive contracts means the period 1 self will be willing to give up quite a bit. Or maybe they Nash bargain.  THese cases might be more realistic. \n",
    "\n",
    "We'll get to these in a moment but first lets look at how the above situation depends on the initial y vector. \n",
    " "
   ]
  },
  {
   "cell_type": "code",
   "execution_count": null,
   "metadata": {
    "collapsed": false
   },
   "outputs": [],
   "source": [
    "cC.print_params()"
   ]
  },
  {
   "cell_type": "code",
   "execution_count": null,
   "metadata": {
    "collapsed": false
   },
   "outputs": [],
   "source": [
    "#plot(alphs,cMRP[0,:],label='$c_{0}$')\n",
    "fig = plt.figure()\n",
    "plt.plot(alphs,cCRP[0,:]-cC.y[0],label='$-c_{0}$')\n",
    "plt.plot(alphs,cC.y[1]-cCRP[1,:],'--',label='$c_{1}$')\n",
    "plt.plot(alphs,cC.y[2]-cCRP[2,:],label='$c_{2}$')\n",
    "\n",
    "plt.title('Consumption profile as a function of alpha')\n",
    "plt.legend(loc='upper center', bbox_to_anchor=(0.5, -0.05),\n",
    "          fancybox=None, ncol=5)\n",
    "plt.show()"
   ]
  },
  {
   "cell_type": "markdown",
   "metadata": {},
   "source": [
    "**Loan, repayment and PVU breakdown by periods as function of alpha**\n",
    "(to be completed...results below are from monopoly case)"
   ]
  },
  {
   "cell_type": "code",
   "execution_count": null,
   "metadata": {
    "collapsed": false
   },
   "outputs": [],
   "source": [
    "#print(\"alpha      c0     c1    c2        profit = (y0-cMRP0) + (y1-cMRP1) + (y2-cMRP2)\")\n",
    "#print(\"-\"*79)\n",
    "#for i,a in enumerate(alphs):\n",
    "#    print(\"{:5.2f}:   {:6.2f} {:6.2f} {:5.2f},   {:8.2f} = {:8.2f}   + {:8.2f}   + {:8.2f}   \"\n",
    "#          .format(a, cMRP[0,i], cMRP[1,i], cMRP[2,i],profitRP[i],y[0]-cMRP[0,i],y[1]-cMRP[1,i],y[2]-cMRP[2,i],))\n",
    "#print()"
   ]
  },
  {
   "cell_type": "markdown",
   "metadata": {
    "collapsed": false
   },
   "source": [
    "The inability to commit means the renegotiation proof contract doesn't smooth consumption very well for the consumer.  This ends up hurting the bank, since they must now 'compensate' the consumer for the higher variance of consumption if the participation constraint is still to be met.  "
   ]
  },
  {
   "cell_type": "markdown",
   "metadata": {},
   "source": [
    "The code that follows produces a grid of subplots to illustrate how the results (the relation between $\\alpha$ and retained profits) depends on the initial y vector, which in turn also determines whether this will be borrowing or saving.  "
   ]
  },
  {
   "cell_type": "markdown",
   "metadata": {},
   "source": [
    "##The role of y\n",
    "###Gains to consumer with diferent firms $\\alpha$\n",
    "Even though it earns zero profits a pure for-profit firm's renegotiation proof contract will offer less consumption smoothing that a firm that due to its non-profit status has higher renegotiation costs.  "
   ]
  },
  {
   "cell_type": "markdown",
   "metadata": {},
   "source": [
    "NOTE:  some parts of this script need manual adjustment"
   ]
  },
  {
   "cell_type": "code",
   "execution_count": null,
   "metadata": {
    "collapsed": false
   },
   "outputs": [],
   "source": [
    "print(\"Left: present discounted U (shaded = NP dominates). Right: net saving in each period as function of α :\")\n",
    "num_pts  = 21\n",
    "alphs    = np.linspace(0,1,num_pts)       # iterate over different alphas\n",
    "HA        = 10*(np.ones(num_pts)-alphs)     # h(alpha)/alpha  or cost of renegotiaton\n",
    "cCRP     = np.zeros((3,num_pts))             # to store (c0,c1,c2) for each alpha\n",
    "pvu0RP   = np.zeros(num_pts)  #PVU0 when contracting with alpha=1 firm\n",
    "pvu0_aut  = cC.PVU(cC.y,cC.beta)*np.ones(num_pts)\n",
    "\n",
    "fig, ax = plt.subplots(10,sharex=True)\n",
    "numy0 = 3     # rows of subplots\n",
    "ax = plt.subplot(numy0,2,1)\n",
    "\n",
    "# Vary y contracts (maintaining PV at 300 in zero interest rate setting)\n",
    "for j in range(1, numy0 + 1):  \n",
    "    y0 = 100 + j*20\n",
    "    y = np.array([y0,100,100])            \n",
    "    y = np.array([y0,(300-y0)/2,(300-y0)/2])   \n",
    "    cC.y = y\n",
    "    pvu0_aut  = cC.PVU(cC.y,cC.beta)*np.ones(num_pts)\n",
    "    \n",
    "    ax1 = plt.subplot(numy0, 2, j*2-1, sharex=ax)  \n",
    "    for i in range(0, num_pts):\n",
    "        cC.kappa = HA[i]             # change reneg cost  \n",
    "        \n",
    "        cCRP[:,i]    = cC.reneg_proof().x \n",
    "        cC.guess     = cCRP[:,i]         # store sol as guess for next search\n",
    "        pvu0RP[i] = cC.PVU(cCRP[:,i],cC.beta)\n",
    "   \n",
    "    #last entry is 'pure profit' pvu0RP[-1]\n",
    "    #pvu0RP_pure = pvu0RP[-1]\n",
    "    \n",
    "    pvu0RP_full = pvu0RP[-1]*np.ones(num_pts) \n",
    "    \n",
    "    # I HAVE NOT YET AUTOMATED THE AXIS BOUNDS\n",
    "    pumin =  min(pvu0RP[-1],min(pvu0_aut))\n",
    "    pumax = max(pvu0RP)\n",
    "    ax1.set_ylim([50.25, 50.6])\n",
    "    print(y,pumin,pumax,min(pvu0_aut),pvu0RP[-1])\n",
    "    print(\"cCF : \",cCF)\n",
    "    \n",
    "    pvu0RP_full = pvu0RP[-1]*np.ones(num_pts) \n",
    "    ax1.set_title(r'$y=( %2.0f, %2.0f, %2.0f)$' %(y0,y[1],y[2]))\n",
    "    ax1.plot(alphs, pvu0_aut,label='aut')\n",
    "    ax1.plot(alphs, pvu0RP,label='NP')\n",
    "    ax1.plot(alphs, pvu0RP_full,label='FP')\n",
    "    ax1.fill_between(alphs, np.fmax(pvu0RP,pvu0_aut), pvu0_aut,hatch='/')\n",
    "    plt.grid()\n",
    "        \n",
    "    ax2 = plt.subplot(numy0,2,j*2, sharex=ax, sharey=ax)    # Plot contract terms in right column plot\n",
    "    #ax1.set_ylim([0, 25])\n",
    "    ax2.plot(alphs, y0 - cCRP[0,:],\"d--\",label='$y_0-c_0$')\n",
    "    ax2.plot(alphs, y[1] - cCRP[1,:],label='$y_1-c_1$')\n",
    "    ax2.plot(alphs, y[2] - cCRP[2,:],\"x-\",label='$y_2-c_2$')\n",
    "    #ax2.axhline(y=0, color ='k')\n",
    "    #ax2.plot(alphs, y[0]*np.ones(num_pts))\n",
    "    #ax2.plot(alphs, y[1]*np.ones(num_pts))\n",
    "    plt.grid()    \n",
    "ax1.legend(loc='lower center', fancybox=None, ncol=5)\n",
    "ax2.legend(loc='lower center', fancybox=None, ncol=5)\n",
    "plt.tight_layout()\n",
    "\n",
    "plt.savefig('figs\\Comp_excl.pdf', format='pdf')\n",
    "plt.show()    "
   ]
  },
  {
   "cell_type": "code",
   "execution_count": null,
   "metadata": {
    "collapsed": false
   },
   "outputs": [],
   "source": [
    "plt.close('all')"
   ]
  },
  {
   "cell_type": "markdown",
   "metadata": {},
   "source": [
    "**INTERPRETATION**: The left column of plots above shows renegotiation-proof profits as a function of $\\alpha$ where $\\alpha$ affects both the share of profits that are captured as well as the cost of renegotiation as described above.  The blue shaded area indicates where commercial non-profits (that choose an $\\alpha <1$) capture more profit than a pure for-profit. \n",
    "\n",
    "The right column of plots shows the terms of the associated contract displayed as 'net savings' (y0-c0), (y1-c1), and (y2-c2).  When these are positive the client is saving or repaying, when negative they are borrowing.\n",
    "\n",
    "When we keep the PV of y constant but change the ratio of period zero income y0 to later period income, y vectors that lead to borrowing (lower y0, higher y1,y2) deliver higher full-commitment (and renegotiation-proof) profits at any level of alpha. \n",
    "\n",
    "Since most of the profits are in the 0 to 1 period, they weigh more heavily in total profits.  Turning non-profit is only attractive at relatively high values of alpha (since at lower alpha they're forfeiting the period 0-1 profits). At higher y0 (tilted more toward savings) full commitment (and renegotiation-proof) profits are lower The pattern seems to be that as we move toward first period savings..."
   ]
  },
  {
   "cell_type": "markdown",
   "metadata": {},
   "source": [
    "### NOT FINISHED\n",
    "Profitability as a function of y0"
   ]
  },
  {
   "cell_type": "markdown",
   "metadata": {},
   "source": [
    "### Own-savings strategies"
   ]
  },
  {
   "cell_type": "code",
   "execution_count": null,
   "metadata": {
    "collapsed": true
   },
   "outputs": [],
   "source": []
  },
  {
   "cell_type": "code",
   "execution_count": null,
   "metadata": {
    "collapsed": false
   },
   "outputs": [],
   "source": [
    "cC = Contract.Competitive(beta = 0.9)\n",
    "cC.rho = 0.5\n",
    "cC.y = [110,95,95]\n",
    "cC.print_params()"
   ]
  },
  {
   "cell_type": "code",
   "execution_count": null,
   "metadata": {
    "collapsed": true
   },
   "outputs": [],
   "source": [
    "def saving(c,y):\n",
    "    return c-y"
   ]
  },
  {
   "cell_type": "code",
   "execution_count": null,
   "metadata": {
    "collapsed": false
   },
   "outputs": [],
   "source": [
    "print(cC.y)\n",
    "print(cC.ownsmooth())\n",
    "print(cC.fcommit())"
   ]
  },
  {
   "cell_type": "code",
   "execution_count": null,
   "metadata": {
    "collapsed": false
   },
   "outputs": [],
   "source": [
    "saving(cC.ownsmooth(),cC.y)"
   ]
  },
  {
   "cell_type": "code",
   "execution_count": null,
   "metadata": {
    "collapsed": false
   },
   "outputs": [],
   "source": [
    "PDV =300\n",
    "y0_step = 2\n",
    "y0_start = 50\n",
    "y0_end = PDV -50\n",
    "Y0 = range(y0_start,y0_end,y0_step)\n",
    "n = len(Y0)\n",
    "profity0 = np.zeros(n)\n",
    "profity0B = np.zeros(n)\n",
    "i=0\n",
    "\n",
    "for y0 in Y0:  \n",
    "    ybar = (PDV-y0)/2\n",
    "    cM.y =([y0,ybar,ybar])\n",
    "    cMF = cM.fcommit()\n",
    "    cMRP = cM.reneg_proof().x\n",
    "    cM.guess = cMRP\n",
    "    profity0[i] = cM.profit(cMRP,cM.y)\n",
    "    profity0B[i] = cM.profit(cMF,cM.y)\n",
    "    \n",
    "    i += 1"
   ]
  },
  {
   "cell_type": "code",
   "execution_count": null,
   "metadata": {
    "collapsed": false
   },
   "outputs": [],
   "source": [
    "plt.plot(profity0,Y0,'b-',label=\"reneg. proof\")\n",
    "plt.plot(profity0B,Y0,'r',label=\"full commit\")\n",
    "plt.xlim([-2,6])\n",
    "plt.ylim([80,160])c\n",
    "\n",
    "plt.title(\"Profits as a function of y0\")\n",
    "plt.xlabel(\"profits $\\pi$\")\n",
    "plt.ylabel(\"y0\")\n",
    "plt.legend(loc='center right')\n",
    "plt.grid()\n",
    "plt.axvline()"
   ]
  },
  {
   "cell_type": "markdown",
   "metadata": {},
   "source": [
    "## Modifications when consumer has a home savings option##\n",
    "The above ana"
   ]
  },
  {
   "cell_type": "code",
   "execution_count": null,
   "metadata": {
    "collapsed": true
   },
   "outputs": [],
   "source": [
    "cM = Monopoly(0.8) "
   ]
  },
  {
   "cell_type": "code",
   "execution_count": null,
   "metadata": {
    "collapsed": false
   },
   "outputs": [],
   "source": [
    "cM.kappa =0\n",
    "cM.guess = cMF\n",
    "cMRP = cM.reneg_proof()\n",
    "cMRP.x"
   ]
  },
  {
   "cell_type": "code",
   "execution_count": null,
   "metadata": {
    "collapsed": false
   },
   "outputs": [],
   "source": [
    "plot(alphs,C)"
   ]
  },
  {
   "cell_type": "code",
   "execution_count": null,
   "metadata": {
    "collapsed": false
   },
   "outputs": [],
   "source": [
    "# Three subplots sharing both x/y axes\n",
    "f, (ax1, ax2, ax3) = plt.subplots(3, sharex=True, sharey=True)\n",
    "ax1.plot(alphs, profitRP)\n",
    "ax1.plot(alphs, NprofitRP)\n",
    "ax1.plot(alphs,cM.profit(cMF,y)*ones(num_pts))\n",
    "ax1.grid(True)\n",
    "ax1.set_title('Sharing both axes')\n",
    "ax2.plot(alphs, NprofitRP)\n",
    "ax3.plot(alphs,cM.profit(cMF,y)*ones(num_pts))\n",
    "show()"
   ]
  },
  {
   "cell_type": "markdown",
   "metadata": {},
   "source": [
    "## Other Results"
   ]
  },
  {
   "cell_type": "markdown",
   "metadata": {},
   "source": [
    "### $\\beta$ and loan size"
   ]
  },
  {
   "cell_type": "markdown",
   "metadata": {},
   "source": [
    "Let's plot the the relationship between period 0 loan size in a full-commitment contract and the extent of present-bias captured by $\\beta$"
   ]
  },
  {
   "cell_type": "code",
   "execution_count": null,
   "metadata": {
    "collapsed": false
   },
   "outputs": [],
   "source": [
    "cM = Contract.Monopoly(0.8)               # create an instance m\n",
    "\n",
    "num_pts = 21\n",
    "betas = np.linspace(0.1,1,num_pts)           # iterate over different values of beta\n",
    "CMF = np.zeros((3,num_pts))                  # a three row matrix to store (c0,c1,c2) for each beta\n",
    "\n",
    "for i in range(0,num_pts):\n",
    "    cM.beta = betas[i]                    # change beta before recalculating optimal contract\n",
    "    CMF[:,i] = cM.fcommit()       \n",
    "\n",
    "loan   = CMF[0,:] - cM.y[0]               # save results for plotting\n",
    "repay1 = CMF[1,:] - cM.y[1]\n",
    "repay2 = CMF[2,:] - cM.y[2]\n",
    "\n",
    "plt.plot(betas,loan,'--')                          # plot    \n",
    "plt.plot(betas,repay1)\n",
    "plt.plot(betas,repay2)\n",
    "plt.grid()\n",
    "plt.title('Monopoly Commitment Contract as function of beta')\n",
    "plt.xlabel('beta')\n",
    "plt.ylabel('net repayment')\n",
    "plt.legend(['loan','repay1','repay2'])"
   ]
  },
  {
   "cell_type": "markdown",
   "metadata": {},
   "source": [
    "### Example full commitment contract (and renegotiation with a naive consumer)"
   ]
  },
  {
   "cell_type": "markdown",
   "metadata": {},
   "source": [
    "Here is an example of the full-commitment contracts a monopolist offers and the contract a monopolist and a naive consumer would renegotiate to from that same full commitment contract (but note that a intermediary who knows they are dealing with a naive consumer would bait them with a different initial contract). "
   ]
  },
  {
   "cell_type": "code",
   "execution_count": null,
   "metadata": {
    "collapsed": false
   },
   "outputs": [],
   "source": [
    "cM.beta = 0.8            # Reset to beta = 0.8 case and print out other parameters\n",
    "cM.print_params()"
   ]
  },
  {
   "cell_type": "code",
   "execution_count": null,
   "metadata": {
    "collapsed": false
   },
   "outputs": [],
   "source": [
    "cMF = cM.fcommit()      \n",
    "cMr = cM.reneg(cMF)       \n",
    "y = cM.y\n",
    "print('0-Discounted utility full commit: {0:4.3f}'.format(cM.PVU(cMF,cM.beta)))\n",
    "print('and   Naive renegotiate: {1:4.3f}'.format(cM.PVU(cMr,cM.beta)))\n",
    "#print('Profits from full commit: {0:4.3f}   and   Naive renegotiate:{1:4.3f}'.format(cM.profit(y,cMF), cM.profit(y,cMr)))"
   ]
  },
  {
   "cell_type": "markdown",
   "metadata": {},
   "source": [
    "##### Scratch play area"
   ]
  },
  {
   "cell_type": "markdown",
   "metadata": {},
   "source": [
    "#### 3D plots"
   ]
  },
  {
   "cell_type": "code",
   "execution_count": null,
   "metadata": {
    "collapsed": false,
    "scrolled": false
   },
   "outputs": [],
   "source": [
    "from mpl_toolkits.mplot3d import axes3d\n",
    "import matplotlib.pyplot as plt\n",
    "from matplotlib import cm\n",
    "\n",
    "fig = plt.figure()\n",
    "ax = fig.add_subplot(111, projection='3d')\n",
    "X, Y, Z = axes3d.get_test_data(0.05)\n",
    "cset = ax.contour(X, Y, Z)\n",
    "ax.clabel(cset, fontsize=9, inline=1)\n",
    "\n",
    "plt.show()"
   ]
  },
  {
   "cell_type": "code",
   "execution_count": null,
   "metadata": {
    "collapsed": false
   },
   "outputs": [],
   "source": [
    "from mpl_toolkits.mplot3d import axes3d\n",
    "import matplotlib.pyplot as plt\n",
    "from matplotlib import cm"
   ]
  },
  {
   "cell_type": "code",
   "execution_count": null,
   "metadata": {
    "collapsed": false
   },
   "outputs": [],
   "source": [
    "fig = plt.figure()\n",
    "ax = fig.gca(projection='3d')\n",
    "c0, c1 = np.arange(0,150,1), np.arange(0,150,1)\n",
    "c2 =  \n",
    "ax.plot_surface(X, Y, Z, rstride=8, cstride=8, alpha=0.3)\n",
    "cset = ax.contour(X, Y, Z, zdir='z', offset=-100, cmap=cm.coolwarm)\n",
    "cset = ax.contour(X, Y, Z, zdir='x', offset=-40, cmap=cm.coolwarm)\n",
    "cset = ax.contour(X, Y, Z, zdir='y', offset=40, cmap=cm.coolwarm)\n",
    "\n",
    "ax.set_xlabel('X')\n",
    "ax.set_xlim(-40, 40)\n",
    "ax.set_ylabel('Y')\n",
    "ax.set_ylim(-40, 40)\n",
    "ax.set_zlabel('Z')\n",
    "ax.set_zlim(-100, 100)\n",
    "\n",
    "plt.show()\n"
   ]
  },
  {
   "cell_type": "markdown",
   "metadata": {
    "collapsed": false
   },
   "source": [
    "### Is $c_0$ (and hence net borrowing) higher or lower in renegotiation-proof contracts?\n",
    "It's going to depend on $\\rho$ "
   ]
  },
  {
   "cell_type": "code",
   "execution_count": null,
   "metadata": {
    "collapsed": false
   },
   "outputs": [],
   "source": [
    "bb = np.arange(0,1,0.05)\n",
    "bb"
   ]
  },
  {
   "cell_type": "code",
   "execution_count": null,
   "metadata": {
    "collapsed": false
   },
   "outputs": [],
   "source": [
    "for rh in np.arange(0.2,2,0.2):\n",
    "    c0RP = 300/(1+bb+bb**(1/rh))\n",
    "    c0F = 300/(1+2*bb**(1/rh) ) \n",
    "    rat = c0RP/c0F\n",
    "    plt.plot(bb,rat)\n",
    "    plt.annotate('{:3.1f}'.format(rh),xy=(0.5,rat[len(rat)/2]))\n",
    "plt.title(r'Ratio $\\frac{c_0^{RP}}{c_0^F}$')\n",
    "plt.xlabel(r'$\\beta $')\n",
    "plt.show()"
   ]
  },
  {
   "cell_type": "code",
   "execution_count": null,
   "metadata": {
    "collapsed": false,
    "scrolled": false
   },
   "outputs": [],
   "source": [
    "for rh in np.arange(0.2,2,0.2):\n",
    "    c0RP = 300/(1+bb+bb**(1/rh))\n",
    "    c0F = 300/(1+2*bb**(1/rh) ) \n",
    "    rat = c0RP/c0F\n",
    "    plt.plot(bb,c0F)\n",
    "    plt.annotate('{:3.1f}'.format(rh),xy=(0.5,rat[len(c0RP)/2]))\n",
    "plt.title(r'consumption $c_0^{RP}$')\n",
    "plt.xlabel(r'$\\beta$')\n",
    "plt.show()"
   ]
  },
  {
   "cell_type": "code",
   "execution_count": 70,
   "metadata": {
    "collapsed": false
   },
   "outputs": [
    {
     "data": {
      "text/plain": [
       "41"
      ]
     },
     "execution_count": 70,
     "metadata": {},
     "output_type": "execute_result"
    }
   ],
   "source": [
    "len('BDDBCBDBDBCBAA BBAAABCBCCBCABBCABBBAAAADD')\n",
    "DBDDBCBDBDBCBAA BBAAABCBCCBCABBCABBBAAAADD"
   ]
  },
  {
   "cell_type": "code",
   "execution_count": 71,
   "metadata": {
    "collapsed": false
   },
   "outputs": [
    {
     "data": {
      "text/plain": [
       "41"
      ]
     },
     "execution_count": 71,
     "metadata": {},
     "output_type": "execute_result"
    }
   ],
   "source": [
    "len('BDDBCCDCDBCBBAABDDAACCDBBBCABCDABBCAxACDA')"
   ]
  },
  {
   "cell_type": "code",
   "execution_count": null,
   "metadata": {
    "collapsed": true
   },
   "outputs": [],
   "source": []
  }
 ],
 "metadata": {
  "anaconda-cloud": {},
  "kernelspec": {
   "display_name": "Python [default]",
   "language": "python",
   "name": "python3"
  },
  "language_info": {
   "codemirror_mode": {
    "name": "ipython",
    "version": 3
   },
   "file_extension": ".py",
   "mimetype": "text/x-python",
   "name": "python",
   "nbconvert_exporter": "python",
   "pygments_lexer": "ipython3",
   "version": "3.5.2"
  },
  "widgets": {
   "state": {
    "1a929bfcccb942a1adc02bd0d9817e6a": {
     "views": [
      {
       "cell_index": 61
      }
     ]
    },
    "cbc77328f1b949ca8035e65681256f81": {
     "views": [
      {
       "cell_index": 46
      }
     ]
    }
   },
   "version": "1.2.0"
  }
 },
 "nbformat": 4,
 "nbformat_minor": 0
}
