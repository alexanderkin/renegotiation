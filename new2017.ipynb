{
 "cells": [
  {
   "cell_type": "markdown",
   "metadata": {},
   "source": [
    "# Breakable commitments:  Present-bias, Client Protection and Bank Ownership Forms\n",
    "## Notes and code for Competitive cases\n",
    "**Karna Basu and Jonathan Conning**\n",
    "\n",
    "Department of Economics\n",
    "Hunter College"
   ]
  },
  {
   "cell_type": "code",
   "execution_count": 1,
   "metadata": {},
   "outputs": [
    {
     "name": "stdout",
     "output_type": "stream",
     "text": [
      "last updated: Wed Apr 19 2017 02:46:12\n"
     ]
    }
   ],
   "source": [
    "%reload_ext watermark\n",
    "%watermark -u -n -t"
   ]
  },
  {
   "cell_type": "markdown",
   "metadata": {},
   "source": [
    "**Abstract:** When do financial intermediaries provide the \"commitment services\" that can help present-biased consumers  stick to  long-term  responsible savings accumulation and/or debt management plans? When do banks instead aim to opportunistically profit by pandering to their clients' self-control problems or, the related question, by how much is financial trade reduced by the fear that such opportunism might take place? We study a simple workhorse model of saving \\textit{cum} lending and refinance to   hyperbolic discounters to understand a consumer protection problem that survives even when\n",
    "consumers are fully informed and sophisticated. The consumer would like\n",
    "to commit her future selves to  a balanced multi-period path of saving accumulation \\textit{cum} debt repayment via a commitment contract with a bank, but her future\n",
    "selves can be tempted to take on new debt obligations and/or raid savings by subsequent contract renegotiation offers.   Investor-owned banks may find it especially costly to credibly commit to not engage in \n",
    " such opportunistic \"exploitation\"  as  bank ex-post profits evidently increase by doing so. In markets with sophisticated consumers this can lead to lower ex-ante consumer welfare or bank profits and lost trade. In such situations bank principals may make costly strategic adjustments to bank ownership/governance forms to expand the credible commitment (or renegotiation-proof ) contracts and hence capturable profits. This forms the basis for a  theory of commercial non-profits and endogenous client protection similar to Hansmann (1996) but on new behavioral micro-foundations. Non-profit and \"hybrid\"  bank ownership forms (e.g. with  social investors to temper bank profit objectives) may be able to offer commitment services at lower cost as limitations on the distribution of profits weakens banks' incentive to renegotiate contracts but the equilibrium set of  contract and ownership forms is endogenous and will depend on whether the market is competitive or concentrated and with elements of the legal environment such as the enforceability of exclusive contracts. The model provides a framework for studying the historical evolution of ownership forms in consumer banking, microfinance, and mortgage and payday lending and for thinking about frequently heard calls for consumer protection against excessive refinancing and \"overindebtedness\"  in these sectors."
   ]
  },
  {
   "cell_type": "markdown",
   "metadata": {},
   "source": [
    "This Jupyter notebook emphasizes only some elements of the paper and provides  the python code that generates figures and simulations.  "
   ]
  },
  {
   "cell_type": "markdown",
   "metadata": {},
   "source": [
    "## The model"
   ]
  },
  {
   "cell_type": "markdown",
   "metadata": {},
   "source": [
    "The paper describes a slightly more general multi-period model but here we specialize it to a three period setting where savers-cum-borrowers have constant relative risk aversion (CRRA) utility. In any period the consumer's instantaneous utility is given by $u(c)=c^{1-ρ}/(1-ρ)$.  Over three period the agent maximizes utility\n",
    "\n",
    "$$ U(c₀,c₁,c₂)=u(c₀)+β[δu(c₁)+δ²u(c₂)]$$ \n",
    "\n",
    "The consumer has an autarky income stream ${y}=\\{y_{0},y_{1},y_{2}\\}$ which defines autarky or reservation utility $ \\overline{u} = U(y₀,y₁,y₂)$ but in general will prefer a smoother consumption profile from contracting on financial markets. "
   ]
  },
  {
   "cell_type": "markdown",
   "metadata": {},
   "source": [
    "### The Competitive contract"
   ]
  },
  {
   "cell_type": "markdown",
   "metadata": {},
   "source": [
    "In an earlier notebook we examined the monopoly lender problem.  Now instead we assume ex-anted competition among lenders to offer contracts to a client.  We assume once the contract has been agreed to the contract becomes exlcusive. \n",
    "\n",
    "The offered contract will maximizes the period-0 self's present value of utility $$ U(c_{0},c_{1},c_{2})=u(c_{0})+\\beta \\left[ \\delta u(c_{1})+\\delta ^{2}u(c_{2})\\right] $$\n",
    "subject to the bank's zero profit condition\n",
    "\n",
    "$$\\sum\\limits_{t=0}^{2}\\frac{\\left( y_{t}-c_{t}\\right) }{\\left( 1+r\\right) ^{t}} = 0$$\n",
    "\n",
    "The client may save or borrow, depending on their initial income stream and preferred/feasible smoothed consumption stream available from contracting.  "
   ]
  },
  {
   "cell_type": "markdown",
   "metadata": {},
   "source": [
    "The first order conditions imply $u^{\\prime }(c_{o})=\\beta \\delta (1+r)u^{\\prime }(c_{1})=\\beta \\delta ^{2}(1+r)^{2}u^{\\prime }(c_{2})$. To simplify, let us assume only for presentation purposes that\n",
    "$$\\delta =\\frac{1}{1+r}$$\n",
    "With this simplification the FOC imply $u^{\\prime }(c_{1})=u^{\\prime }(c_{2})$ and hence that any optimal solution will keep the agent at constant consumption in the last two periods $c_{1}=c_{2}=\\overline{c}$.  For CRRA utility $u^{\\prime }(c)=c^{-\\rho }$ we can use the FOC to find $\\overline{c}=\\beta ^{\\frac{1}{\\rho }}c_{0}$. Substituting this into the bank's binding participation constraint then allows us to solve for:\n",
    "$$\\hat{c}_{0} =\\frac{\\sum y_{i}}{1+2\\beta^{1/\\rho}}$$\n"
   ]
  },
  {
   "cell_type": "markdown",
   "metadata": {},
   "source": [
    "### Python implementation to solve for optimal contracts "
   ]
  },
  {
   "cell_type": "markdown",
   "metadata": {},
   "source": [
    "#### Object oriented design the parent 'Contract' class"
   ]
  },
  {
   "cell_type": "markdown",
   "metadata": {},
   "source": [
    "This ipython notebook solves for optimal contracts between a lender and a client. The python code makes use of Object oriented programming (OOP) ideas for modular design and more compact code. \n",
    "\n",
    "First we create a generic 'Contract' class that defines a few attributes (e.g. default parameters of the utility function, initial endowments, etc.) and useful methods to calculate profits, utility, etc. Later we will define MonopolyContract and CompetitiveContract as subclasses that will inherit and extend attributes and methods to solve related models. \n",
    "\n",
    "Before anything else, a few commands to import useful python libraries, and notebook settings to ake plots appear inline."
   ]
  },
  {
   "cell_type": "code",
   "execution_count": 2,
   "metadata": {
    "collapsed": true
   },
   "outputs": [],
   "source": [
    "%matplotlib inline\n",
    "import sys\n",
    "import numpy as np\n",
    "from scipy.optimize import minimize\n",
    "import matplotlib.pyplot as plt\n",
    "plt.rcParams[\"figure.figsize\"] = (8, 6)\n",
    "plt.rcParams['axes.formatter.useoffset'] = 'False'\n",
    "np.set_printoptions(precision=2)    # array printing format "
   ]
  },
  {
   "cell_type": "code",
   "execution_count": 3,
   "metadata": {
    "collapsed": true
   },
   "outputs": [],
   "source": [
    "from ipywidgets import interact, fixed"
   ]
  },
  {
   "cell_type": "markdown",
   "metadata": {},
   "source": [
    "### (move to later) Plotting competitive vs. full-commitment $(c_0^F, c_1^F)$ and $(c_0^{mF}, c_1^{mF})$"
   ]
  },
  {
   "cell_type": "code",
   "execution_count": 4,
   "metadata": {
    "collapsed": true
   },
   "outputs": [],
   "source": [
    "def u(c,b,r):\n",
    "    return (c**(1-r))/(1-r)\n",
    "\n",
    "y=300\n",
    "y0 =100\n",
    "r = np.linspace(0.05,2,100)  #rho\n",
    "\n",
    "def c1f(beta,y0):\n",
    "    btr = beta**(1/r)\n",
    "    B = y*btr/((1+2*btr))\n",
    "    U0 = u(y0,beta,r) + beta*(2*u((y-y0)/2,beta,r))\n",
    "    c0 = y/(1+2*btr)\n",
    "    c0m = (U0*(1-r)/(1+2*btr))**(1/(1-r))\n",
    "    c1 = btr*c0\n",
    "    c1m = btr*c0m\n",
    "    plt.figure()\n",
    "    plt.subplot(121)\n",
    "    plt.title(r'$c_0^F$ and $c_0^{mF}$')\n",
    "    plt.xlabel(r'$\\rho$')\n",
    "    plt.plot(r,c0m, linestyle='dashed')\n",
    "    plt.plot(r,c0)\n",
    "    plt.ylim(50,300)\n",
    "    \n",
    "    plt.subplot(122)\n",
    "    plt.title(r'$c_1^F$')\n",
    "    plt.xlabel(r'$\\rho$')\n",
    "    plt.plot(r,c1m,linestyle='dashed')\n",
    "    plt.plot(r,c1)\n",
    "    plt.ylim(0,100)\n",
    "    plt.axhline(0,linestyle='dashed')\n",
    "    plt.title(r'$c_1^F$ and $c_1^{mF}$')\n",
    "    plt.show()"
   ]
  },
  {
   "cell_type": "code",
   "execution_count": 5,
   "metadata": {},
   "outputs": [
    {
     "data": {
      "application/vnd.jupyter.widget-view+json": {
       "model_id": "70d85adb876d4e84a153bf5a41987623"
      }
     },
     "metadata": {},
     "output_type": "display_data"
    },
    {
     "data": {
      "text/plain": [
       "<function __main__.c1f>"
      ]
     },
     "execution_count": 5,
     "metadata": {},
     "output_type": "execute_result"
    }
   ],
   "source": [
    "interact(c1f, beta =(0.01,0.99,0.01),y0=(0,300,1))"
   ]
  },
  {
   "cell_type": "markdown",
   "metadata": {},
   "source": [
    "### Plotting $\\bar \\kappa$ and $\\bar \\kappa ^M$"
   ]
  },
  {
   "cell_type": "markdown",
   "metadata": {},
   "source": [
    "$$ \\bar \\kappa=c_1^F \\cdot \n",
    " \\left[\n",
    " 2-(1+\\beta^\\frac{1}{\\rho})\n",
    " \\left[ \n",
    "  \\frac{1+\\beta}{1+\\beta^\\frac{1}{\\rho}}\n",
    " \\right]^\\frac{1}{1-\\rho}\n",
    " \\right ]\n",
    "$$"
   ]
  },
  {
   "cell_type": "code",
   "execution_count": 6,
   "metadata": {
    "collapsed": true
   },
   "outputs": [],
   "source": [
    "def kbar(beta,y0):\n",
    "    btr = beta**(1/r)\n",
    "    B = y*btr/((1+2*btr))\n",
    "    U0 = u(y0,beta,r) + beta*(2*u((y-y0)/2,beta,r))\n",
    "    c0 = y/(1+2*btr)\n",
    "    c0m = (U0*(1-r)/(1+2*btr))**(1/(1-r))\n",
    "    c1 = btr*c0\n",
    "    c1m = btr*c0m\n",
    "    A = (2 - (1+btr)*((1+beta)/(1+btr))**(1/(1-r)) )\n",
    "    kb = A*c1\n",
    "    kbm = A*c1m\n",
    "    plt.title(r'$\\bar \\kappa$ and $\\bar \\kappa^M$')\n",
    "    plt.xlabel(r'$\\rho$')\n",
    "    plt.plot(r,kbm,linestyle='dashed')\n",
    "    plt.plot(r,kb)\n",
    "    plt.ylim(0,20)\n",
    "    plt.show()"
   ]
  },
  {
   "cell_type": "code",
   "execution_count": 7,
   "metadata": {},
   "outputs": [
    {
     "data": {
      "application/vnd.jupyter.widget-view+json": {
       "model_id": "00dba3d0e35747abbdb26ae4b1535964"
      }
     },
     "metadata": {},
     "output_type": "display_data"
    },
    {
     "data": {
      "text/plain": [
       "<function __main__.kbar>"
      ]
     },
     "execution_count": 7,
     "metadata": {},
     "output_type": "execute_result"
    }
   ],
   "source": [
    "interact(kbar, beta =(0.01,0.99,0.01),y0=(0,300,1))"
   ]
  },
  {
   "cell_type": "code",
   "execution_count": 8,
   "metadata": {},
   "outputs": [],
   "source": [
    "%load_ext autoreload\n",
    "%autoreload 2\n",
    "import Contract"
   ]
  },
  {
   "cell_type": "markdown",
   "metadata": {},
   "source": [
    "The Contract module takes advantage of python's object oriented design. Let's demonstrate simple use. The following call establishes 'c' as an instance of the Contract object defined by the Contract class in the Contract.py module. In this example we initialize $\\beta$ explicitly (which can then be viewed modified via c.beta). Other attributes (as the value of the income stream y are initialized to default values when c is setup since no value was specified). \n",
    "\n",
    "We then call on the print_params method to print out a summary of properties (parameters) of this specific contract c."
   ]
  },
  {
   "cell_type": "code",
   "execution_count": 9,
   "metadata": {},
   "outputs": [
    {
     "name": "stdout",
     "output_type": "stream",
     "text": [
      "beta    : 0.5\n",
      "rho     : 0.5\n",
      "y       : [100 100 100]\n"
     ]
    }
   ],
   "source": [
    "c = Contract.Contract(beta = 0.5)\n",
    "c.rho = 0.5\n",
    "c.print_params()"
   ]
  },
  {
   "cell_type": "markdown",
   "metadata": {},
   "source": [
    "Let's plot an indifference curve in c1-c2 space.  For example if the agent in autarky has income $\\{y_{0},y_{1},y_{2}\\}$ and no access to saving or borrowing then (from period 0 self's perspective) entering period 1 they have reservation utility $u(y_{1})+\\delta u(y_{2})=\\overline{u}_{0}$.  But when period 1 rolls around their preferences change. From period 1 self's perspective they have reservation utility $u(y_{1})+\\beta \\delta u(y_{2})=\\overline{u}_{1}$.  "
   ]
  },
  {
   "cell_type": "markdown",
   "metadata": {},
   "source": [
    "### Exclusive competitive contracts"
   ]
  },
  {
   "cell_type": "markdown",
   "metadata": {},
   "source": [
    "The contract class defines a generic contract which holds consumption stream objects of the form $\\left( c_{0},c_{1},c_{2}\\right)$ and allows a few manipulations.  Now comes the job of solving for optimal contracts and we do this with a CompetitiveContract class which inherits the attributes and methods of the more generic contract class and then adds a few methods such as calculating the optimal contract full commitment and renegotiation-proof contracts in the competitive lender case.  Note that the methods have the same names as the mon_contract class but some behave differently, reflecting the reversed objective and constraint.\n"
   ]
  },
  {
   "cell_type": "markdown",
   "metadata": {},
   "source": [
    "#### Full-commitment contracts"
   ]
  },
  {
   "cell_type": "markdown",
   "metadata": {},
   "source": [
    "When the competitive lender can commit to not-renegotiating the contract (i.e. to not pandering to the period-1 self's desire to renegotiate period-0's contract) and the contracts are exclusive (so no third party lender will enter to offer such renegotiation either) the contract solves\n",
    "\n",
    "$$\\max \\  u\\left( c_{0}\\right) +\\beta \\left[ \\delta u\\left( c_{1}\\right) +\\delta ^{2}u\\left( c_{2}\\right) \\right] $$\n",
    "\n",
    "subject to the zero profit constraint\n",
    "$$s.t.  (y_{0}-c_{0})+\\frac{(y_{1}-c_{1})}{(1+r)}+\\frac{(y_{2}-c_{2})}{(1+r)^{2}}  \\geq 0$$\n",
    "\n",
    "\n",
    "When $\\delta =\\frac{1}{(1+r)}$ for the CRRA case an optimum will set $c_{1}=c_{2}=\\overline{c}$ and $\\overline{c}=\\beta ^{\\frac{1}{\\rho }}c_{0}$ from which a closed form solution can be easily found (see fcommit() function below for formulas).\n",
    "\n",
    "**Note** that we are here assuming that the consumer has no choice but to consume their income stream $y$ under autarky.  This would be true if the agent does not have acess to any 'own savings' technologies.  Later below we see how things change only slightly when we allow them to use own savings to create a slightly more smooth autarky consumption stream (not perfectly smooth because they cannot overcome their self-control problems on their own)."
   ]
  },
  {
   "cell_type": "markdown",
   "metadata": {},
   "source": [
    "#### Renegotiaton-proof contracts"
   ]
  },
  {
   "cell_type": "markdown",
   "metadata": {},
   "source": [
    "***[this doesn't exactly follow the paper ]***\n",
    "The agent's period-1-self's preferences differ from those of his period 0 self so they will often want to renegotiate any contract their period 0 self contracted, and the bank can profit from this renegotiation so long as its renegotiaton cost $\\kappa $ is low.   In particular if the period-0-self agreed to contract $\\left( \\bar{c}_{0},\\bar{c}_{1},\\bar{c}_{2}\\right) $ a competitive firm would offer to renegotiate the remaining $(\\bar{c}_{1},\\bar{c}_{2})$ to contract $\\left( c_{1}^{r},c_{2}^{r}\\right) $ chosen to maximize\n",
    "\n",
    "$$\\max \\ \\ u(c_{1})+\\beta (\\delta u(c_{1}) +\\delta^{2} u(c_{2})) $$\n",
    "subject to $$(y_{1}-c_{1})+\\frac{(y_{2}-c_{2})}{(1+r)} \\geq 0$$\n",
    "\n",
    "\n",
    "We can show from the agent's first order conditions for the CRRA case that a renegotiated contract will always satisfy $c_{2}=\\beta ^{\\frac{1}{\\rho }}c_{1}$ and indeed for CRRA we get the closed form:\n",
    "$$ \\hat{c}_{0} =\\frac{\\sum y_{i}}{1+2\\beta^{1/\\rho}}$$\n",
    "\n",
    "and $c_{2}^{r}(\\bar{c}_{1},\\bar{c}_{2})=\\beta ^{\\frac{1}{\\rho }}c_{1}^{r}(\\bar{c}_{1},\\bar{c}_{2})$.  See the reneg(c) function.\n",
    "\n",
    "A sophisticated present-biased consumer anticipates that this type of renegotiation may happen and will only agree to renegotiation-proof contracts that do not renegotiate to favor their period 1 selves.  The profit-maximizing renegotiation-proof contract solves\n",
    "\n",
    "\n",
    "$$\\max_{c_{0},c_{1},c_{2}}\\Pi \\left( c_{0},c_{1},c_{2}\\right) $$\n",
    "$$U(c_{0},c_{1},c_{2})\\geq U_{0}(y_{0},y_{1},y_{2})$$\n",
    "$$\\Pi \\left( c_{1}^{r},c_{2}^{r}\\right) -\\Pi \\left( c_{1},c_{2}\\right) \\leq \\overline{\\kappa }$$\n",
    "The first constraint is the period 0 self's participation constraint and the second is the no-renegotiation proof constraint that the bank not find it profitable to offer to renegotiate to the contract that period-1 self will demand."
   ]
  },
  {
   "cell_type": "markdown",
   "metadata": {},
   "source": [
    "Let's create an instance of a Competitive contract which we will call cC, and then run a few checks to make sure the cM.reneg function works right:"
   ]
  },
  {
   "cell_type": "code",
   "execution_count": 10,
   "metadata": {},
   "outputs": [
    {
     "name": "stdout",
     "output_type": "stream",
     "text": [
      "beta    : 0.5\n",
      "guess   : [100 100 100]\n",
      "kappa   : 0\n",
      "rho     : 0.85\n",
      "y       : [200, 50, 50]\n"
     ]
    }
   ],
   "source": [
    "cC = Contract.Competitive(beta = 0.5)\n",
    "cC.rho = 0.85\n",
    "cC.y = [200,50,50]\n",
    "cC.print_params()"
   ]
  },
  {
   "cell_type": "markdown",
   "metadata": {},
   "source": [
    "### Full commitment contract: closed form solution\n",
    "#### Case 1: where potential renegotiation surplus goes to consumer"
   ]
  },
  {
   "cell_type": "code",
   "execution_count": 11,
   "metadata": {},
   "outputs": [
    {
     "data": {
      "text/plain": [
       "array([ 159.16,   70.42,   70.42])"
      ]
     },
     "execution_count": 11,
     "metadata": {},
     "output_type": "execute_result"
    }
   ],
   "source": [
    "cCF=cC.fcommit()\n",
    "cCF "
   ]
  },
  {
   "cell_type": "markdown",
   "metadata": {},
   "source": [
    "**Analytically calculated renegotiation proof when kappa=0.** You could think of this as what the consumer can get on their own in the absence of self-control (e.g. by using informal moneylenders with zero renegotiation cost). "
   ]
  },
  {
   "cell_type": "code",
   "execution_count": 12,
   "metadata": {},
   "outputs": [
    {
     "data": {
      "text/plain": [
       "array([ 160.06,   97.01,   42.92])"
      ]
     },
     "execution_count": 12,
     "metadata": {},
     "output_type": "execute_result"
    }
   ],
   "source": [
    "cCRPa = cC.ownsmooth()\n",
    "cCRPa"
   ]
  },
  {
   "cell_type": "markdown",
   "metadata": {},
   "source": [
    "Also interesting to know what contract would renegotiate from in period 1 if started with a full-commitment contract (which turned out to be renegotiated). In the $\\rho=1$ case, this should be the same as what we just found."
   ]
  },
  {
   "cell_type": "code",
   "execution_count": 13,
   "metadata": {},
   "outputs": [
    {
     "data": {
      "text/plain": [
       "array([ 159.16,   95.56,   42.28])"
      ]
     },
     "execution_count": 13,
     "metadata": {},
     "output_type": "execute_result"
    }
   ],
   "source": [
    "cC.kappa = 3\n",
    "cC.guess = cCRPa\n",
    "cCR = cC.renegC(cCF)\n",
    "cCR"
   ]
  },
  {
   "cell_type": "markdown",
   "metadata": {},
   "source": [
    "### The renegotiation proof contract\n",
    "\n",
    "Note this is calculated via numeric optimization.  There are a couple coded methods. \n",
    "  - .reneg_proof()   -- for any given c0, find best RP continuation. Then search over c0. (not working right)\n",
    "  - .reneg_proof2()  -- brute force maximize with all constraints explicit. Works.\n",
    "  - .ownsmooth() -- closed form for special case of $\\kappa = 0$\n",
    "  \n",
    "#### Also useful\n",
    "\n",
    "  - kbar()  -- minimum renegotiation cost to sustain full commitment"
   ]
  },
  {
   "cell_type": "code",
   "execution_count": 14,
   "metadata": {},
   "outputs": [
    {
     "data": {
      "text/plain": [
       "array([ 160.06,   97.01,   42.92])"
      ]
     },
     "execution_count": 14,
     "metadata": {},
     "output_type": "execute_result"
    }
   ],
   "source": [
    "cC.ownsmooth()"
   ]
  },
  {
   "cell_type": "markdown",
   "metadata": {},
   "source": [
    "See how contracts vary with $\\kappa$.  From zero to $\\bar \\kappa$"
   ]
  },
  {
   "cell_type": "code",
   "execution_count": 15,
   "metadata": {},
   "outputs": [
    {
     "name": "stdout",
     "output_type": "stream",
     "text": [
      " 0.00 : 159.0  97.8  43.3\n",
      " 1.00 : 160.9  87.8  51.3\n",
      " 2.00 : 160.9  84.1  55.0\n",
      " 2.99 : 160.8  81.3  57.9\n",
      " 3.99 : 160.6  79.0  60.4\n",
      " 4.99 : 160.4  76.9  62.7\n",
      " 5.99 : 160.1  75.1  64.8\n",
      " 6.99 : 159.8  73.4  66.8\n",
      " 7.99 : 159.5  71.9  68.6\n",
      " 8.98 : 159.2  70.4  70.4\n"
     ]
    }
   ],
   "source": [
    "for kap in np.linspace(0,cC.kbar(),num = 10):\n",
    "    cC.kappa = kap\n",
    "    print('{:5.2f} : {:5.1f} {:5.1f} {:5.1f}'.format(kap, *cC.reneg_proof2()))"
   ]
  },
  {
   "cell_type": "code",
   "execution_count": 16,
   "metadata": {},
   "outputs": [
    {
     "name": "stdout",
     "output_type": "stream",
     "text": [
      "beta    : 0.5\n",
      "guess   : [ 160.06   97.01   42.92]\n",
      "kappa   : 8.984862457305168\n",
      "rho     : 0.85\n",
      "y       : [200, 50, 50]\n"
     ]
    }
   ],
   "source": [
    "cC.print_params()"
   ]
  },
  {
   "cell_type": "markdown",
   "metadata": {},
   "source": [
    "Contract to which would renegotiate from full-commitment"
   ]
  },
  {
   "cell_type": "code",
   "execution_count": 17,
   "metadata": {},
   "outputs": [
    {
     "data": {
      "text/plain": [
       "array([ 159.16,   94.87,   41.97])"
      ]
     },
     "execution_count": 17,
     "metadata": {},
     "output_type": "execute_result"
    }
   ],
   "source": [
    "cC.kappa = 4\n",
    "cC.guess = cCRPa\n",
    "cCR = cC.renegC(cCF)\n",
    "cCR"
   ]
  },
  {
   "cell_type": "code",
   "execution_count": 18,
   "metadata": {},
   "outputs": [
    {
     "data": {
      "text/plain": [
       "array([ 160.61,   78.95,   60.44])"
      ]
     },
     "execution_count": 18,
     "metadata": {},
     "output_type": "execute_result"
    }
   ],
   "source": [
    "cC.kappa = 4\n",
    "cCRP = cC.reneg_proof2(monop_reg = False)\n",
    "cCRP"
   ]
  },
  {
   "cell_type": "markdown",
   "metadata": {},
   "source": [
    "For the $\\kappa = 0$ case we can solve this via closed form to get essentially the same answer:"
   ]
  },
  {
   "cell_type": "code",
   "execution_count": 19,
   "metadata": {},
   "outputs": [
    {
     "name": "stdout",
     "output_type": "stream",
     "text": [
      "kappa =  5\n",
      "y = [200, 50, 50]\n",
      "consumption and net saving in each period\n",
      "cCF        : [ 159.16   70.42   70.42]  sum   :  300\n",
      "cCF (net s): [ 40.84 -20.42 -20.42]     profit: 0.00\n",
      "PVU(0): 26.882 [ 14.26  12.62  12.62]  b*[]: 12.620\n",
      "PVU(1): 18.9301\n",
      "\n",
      "cCR        : [ 159.16   94.87   41.97]  sum   :  296\n",
      "cCR (net s): [ 40.84 -44.87   8.03]     profit: 4.00\n",
      "PVU(0): 26.699 [ 14.26  13.2   11.68]  b*[]: 12.437\n",
      "PVU(1): 19.0358\n",
      "\n",
      "cCRP       : [ 160.61   78.95   60.44]  sum   :  300\n",
      "cCRP(net s): [ 39.39 -28.95 -10.44]     profit: 0.00\n",
      "PVU(0): 26.868 [ 14.28  12.84  12.33]  b*[]: 12.586\n",
      "PVU(1): 19.0054\n",
      "\n",
      "cCRPa       : [ 160.06   97.01   42.92]  sum   :  300\n",
      "cCRPa(net s): [ 39.94 -47.01   7.08]     profit: 0.00\n",
      "PVU(0): 26.753 [ 14.27  13.24  11.72]  b*[]: 12.479\n",
      "PVU(1): 19.0998\n",
      "\n"
     ]
    }
   ],
   "source": [
    "# compare three contracts \n",
    "# (note python trick to convert string label into var name)\n",
    "cC.kappa = 5\n",
    "print('kappa = ',cC.kappa)\n",
    "print('y =',cC.y)\n",
    "print(\"consumption and net saving in each period\")\n",
    "for con in ['cCF ', 'cCR ', 'cCRP','cCRPa']:\n",
    "    C = eval(con)\n",
    "    y = cC.y\n",
    "    print(con + \"       : {}  sum   : {:4.0f}\"\n",
    "          .format(C, C.sum()))\n",
    "    print(con + \"(net s): {}     profit: {:4.2f}\"\n",
    "          .format(y - C, cC.profit(C,cC.y)))\n",
    "   \n",
    "    print(\"PVU(0): {:4.3f} {}  b*[]: {:4.3f}\"\n",
    "          .format(cC.PVU(C,cC.beta),cC.u(C),\n",
    "                cC.beta*cC.u(C)[1:].sum() ))\n",
    "    print(\"PVU(1): {:4.4f}\"\n",
    "          .format(cC.PVU(C[1:],cC.beta)))\n",
    "    print()"
   ]
  },
  {
   "cell_type": "markdown",
   "metadata": {},
   "source": [
    "The bank does not profit from this type of opportunistic renegotiation, if we assume 'competition' at time of renegotiation **although one might argue** that the relation is ex-ante competitive but ex-post favors the bank."
   ]
  },
  {
   "cell_type": "markdown",
   "metadata": {},
   "source": [
    "A sophisticated consumer will however anticipate this type of opporunistic renegotiation and only agree to a renegotiation-proof contract.  "
   ]
  },
  {
   "cell_type": "markdown",
   "metadata": {},
   "source": [
    "As expected the bank's profits are lowered due to its inability to commit to not renegotiate.\n",
    "\n",
    "Here's a plot."
   ]
  },
  {
   "cell_type": "markdown",
   "metadata": {},
   "source": [
    "## Diagram on finding optimal continuation contract (period 0 competitive)"
   ]
  },
  {
   "cell_type": "code",
   "execution_count": 20,
   "metadata": {},
   "outputs": [],
   "source": [
    "def plot_indif(beta, rho, kap):\n",
    "    '''Plot re-negotiation proof continuation contract design for period 0 competitive\n",
    "       Used with interact widget to see how plot changes with parameters'''\n",
    "    cC = Contract.Competitive(beta)\n",
    "    cC.beta = beta\n",
    "    cC.rho = rho\n",
    "    cC.kappa = kap\n",
    "    cCF = cC.fcommit()\n",
    "    cCRP = cC.reneg_proof2(monop_reg = False)\n",
    "    cRK = cC.renegC(cCRP)  #R(K)\n",
    "    \n",
    "    #print(' CF:', cCF, 'PVU: {:5.1f}'.format(cC.PVU(cCF, 1)*100))\n",
    "    #print('CRP:', cCRP, 'PVU: %.1f ' % cC.PVU(cCRP, 1),'kbar: %.2f' % cC.kbar())\n",
    "   \n",
    "    c1 = np.arange(0,cCRP[1]+cCRP[2])\n",
    "    plt.xlim(cCF[1]-10,cCRP[1]+cCRP[2]+5)   #scale picture to zoom in\n",
    "    plt.ylim(0,cCF[2]+10)\n",
    "    \n",
    "    uRK1 = cC.PVU(cRK[1:3], cC.beta)\n",
    "    icRK1 = cC.indif(uRK1, cC.beta)  \n",
    "    plt.plot(c1,icRK1(c1),color='black')   #One's indif thru R(K)\n",
    "    uRP0 = cC.PVU(cCRP[1:3], 1)\n",
    "    icRP0 = cC.indif(uRP0, 1)  \n",
    "    #plt.plot(c1,icRP0(c1),color='black', alpha=0.3)   #Zero's indif thru P\n",
    "        \n",
    "    isop  = cC.isoprofit( 0, cCRP)  \n",
    "    plt.plot(c1, isop(c1),':')     #isocost thru P\n",
    "    isopR  = cC.isoprofit( 0, cRK)   \n",
    "    plt.plot(c1, isopR(c1),':')    #isocost thru R\n",
    "    \n",
    "    plt.plot(c1, c1,':',color='black') # ray c1=c2\n",
    "    plt.plot(c1, cC.beta**(1/cC.rho)*c1,':',color='black')  #ray c2 =c1*beta^(1/rho)\n",
    "    \n",
    "    plt.text(cCF[1]-1, cCF[2]+1, r'$F$', fontsize=14)\n",
    "    plt.text(cCRP[1], cCRP[2]+1, r'$P$', fontsize=14)\n",
    "    plt.text(cRK[1]-2, cRK[2]-3, r'$R(\\kappa)$', fontsize=14)\n",
    "    plt.text(cCRP[1] + cCRP[2], -3, r'$c_1^0+c_2^0$', fontsize=11)\n",
    "    plt.text(cCRP[1] + cCRP[2] - kap - 3, -3, r'$c_1^0+c_2^0 -\\kappa$', fontsize=11)\n",
    "\n",
    "    plt.scatter(cRK[1],cRK[2], s=50, marker='o',color='b')    #R(K)\n",
    "    plt.scatter(cCF[1],cCF[2], s=50, marker='o',color='b')    #F\n",
    "    plt.scatter(cCRP[1],cCRP[2], s=50, marker='o',color='b')  #P\n",
    "    plt.scatter(cCRP[1] + cCRP[2],0, s=50, marker='o',color='b',clip_on = False)  #y-c_0 intercept\n",
    "    plt.scatter(cCRP[1] + cCRP[2] - kap,0, s=50, marker='o',color='b',clip_on = False)   \n",
    "    plt.gca().spines['right'].set_color('none'), plt.gca().spines['top'].set_color('none')\n",
    "    plt.gca().axes.get_xaxis().set_visible(False)\n",
    "    plt.gca().axes.get_yaxis().set_visible(False)\n",
    "    plt.show()"
   ]
  },
  {
   "cell_type": "code",
   "execution_count": 21,
   "metadata": {},
   "outputs": [
    {
     "data": {
      "image/png": "[encoded data removed]",
      "text/plain": [
       "<matplotlib.figure.Figure at 0x26c58192400>"
      ]
     },
     "metadata": {},
     "output_type": "display_data"
    }
   ],
   "source": [
    "plot_indif(0.4, 0.6, kap = 6)"
   ]
  },
  {
   "cell_type": "code",
   "execution_count": 22,
   "metadata": {
    "collapsed": true
   },
   "outputs": [],
   "source": [
    "#kap=fixed(7)"
   ]
  },
  {
   "cell_type": "code",
   "execution_count": 23,
   "metadata": {
    "scrolled": false
   },
   "outputs": [
    {
     "data": {
      "application/vnd.jupyter.widget-view+json": {
       "model_id": "8d2455c2d1914863a3419d9fca1e3e91"
      }
     },
     "metadata": {},
     "output_type": "display_data"
    },
    {
     "data": {
      "text/plain": [
       "<function __main__.plot_indif>"
      ]
     },
     "execution_count": 23,
     "metadata": {},
     "output_type": "execute_result"
    }
   ],
   "source": [
    "interact(plot_indif, beta=(0.3,0.8,0.05), rho=(0.5,1,0.05), kap=(0,10,0.1) )"
   ]
  },
  {
   "cell_type": "markdown",
   "metadata": {},
   "source": [
    "## Diagram on finding optimal continuation contract (period 0 Monopoly)"
   ]
  },
  {
   "cell_type": "code",
   "execution_count": 24,
   "metadata": {},
   "outputs": [],
   "source": [
    "CM = Contract.Monopoly(0.4)"
   ]
  },
  {
   "cell_type": "code",
   "execution_count": 25,
   "metadata": {},
   "outputs": [
    {
     "data": {
      "text/plain": [
       "75.535524707649984"
      ]
     },
     "execution_count": 25,
     "metadata": {},
     "output_type": "execute_result"
    }
   ],
   "source": [
    "Y=sum(CM.y)\n",
    "CM.PVU(CM.y,1)"
   ]
  },
  {
   "cell_type": "code",
   "execution_count": 27,
   "metadata": {
    "collapsed": true
   },
   "outputs": [],
   "source": [
    "def plot_indifM(beta, rho, kap, y0):\n",
    "    '''Plot re-negotiation proof continuation contract design for period 0 competitive\n",
    "       Used with interact widget to see how plot changes with parameters'''\n",
    "    C = Contract.Monopoly(beta)\n",
    "    C.rho = rho\n",
    "    C.kappa = kap\n",
    "    C.y = np.array([y0, (300-y0)/2, (300-y0)/2])\n",
    "    CF = C.fcommit()\n",
    "    CRP = C.reneg_proof2()\n",
    "    btr = beta**(1/rho)\n",
    "    cRK = np.append(CRP[0], \n",
    "        np.array([1,btr]) * np.sum( (np.sum(CRP[1:])-kap)/(1+btr)))  #R(K)\n",
    "    \n",
    "    #print(' CF:', CF, 'profit: %.1f ' % C.profit(CF,C.y))\n",
    "    #print('CRP:', CRP, 'profit: %.1f ' % C.profit(CRP,C.y),'kbarM: %.2f' % C.kbar())\n",
    "        \n",
    "    c1 = np.arange(0,CRP[1]+CRP[2])\n",
    "    plt.xlim(CF[1]-10,CRP[1]+CRP[2]+5)   #scale picture to zoom in\n",
    "    plt.ylim(0,CF[2]+10)\n",
    "    \n",
    "    uRK1 = C.PVU(cRK[1:3], C.beta)\n",
    "    icRK1 = C.indif(uRK1, C.beta)  \n",
    "    plt.plot(c1,icRK1(c1),color='black')   #One's indif thru R(K)\n",
    "    uRP0 = C.PVU(CRP[1:3], 1)\n",
    "    icRP0 = C.indif(uRP0, 1)  \n",
    "    \n",
    "    plt.plot(c1,icRP0(c1),color='black', alpha=0.3)   #Zero's indif thru P\n",
    "        \n",
    "    isop  = C.isoprofit( 0, CRP)  \n",
    "    plt.plot(c1, isop(c1),':')     #isocost thru P\n",
    "    isopR  = C.isoprofit( 0, cRK)   \n",
    "    plt.plot(c1, isopR(c1),':')    #isocost thru R\n",
    "    \n",
    "    plt.plot(c1, c1,':',color='black') # ray c1=c2\n",
    "    plt.plot(c1, C.beta**(1/C.rho)*c1,':',color='black')  #ray c2 =c1*beta^(1/rho)\n",
    "    \n",
    "    plt.text(CF[1]-1, CF[2]+1, r'$F$', fontsize=14)\n",
    "    plt.text(CRP[1], CRP[2]+1, r'$P$', fontsize=14)\n",
    "    plt.text(cRK[1]-2, cRK[2]-3, r'$R(\\kappa)$', fontsize=14)\n",
    "    plt.text(CRP[1] + CRP[2], -3, r'$c_1^0+c_2^0$', fontsize=11)\n",
    "    plt.text(CRP[1] + CRP[2] - C.kappa - 3, -3, r'$c_1^0+c_2^0 -\\kappa$', fontsize=11)\n",
    "\n",
    "    plt.scatter(cRK[1],cRK[2], s=50, marker='o',color='b')    #R(K)\n",
    "    plt.scatter(CF[1],CF[2], s=50, marker='o',color='b')    #F\n",
    "    plt.scatter(CRP[1],CRP[2], s=50, marker='o',color='b')  #P\n",
    "    plt.scatter(CRP[1] + CRP[2],0, s=50, marker='o',color='b',clip_on = False)  #y-c_0 intercept\n",
    "    plt.scatter(CRP[1] + CRP[2] - C.kappa,0, s=50, marker='o',color='b',clip_on = False)   \n",
    "    plt.gca().spines['right'].set_color('none'), plt.gca().spines['top'].set_color('none')\n",
    "    plt.gca().axes.get_xaxis().set_visible(False)\n",
    "    plt.gca().axes.get_yaxis().set_visible(False)\n",
    "    plt.savefig('figs\\MonopolyRP.pdf', format='pdf')\n",
    "    plt.show()"
   ]
  },
  {
   "cell_type": "code",
   "execution_count": 28,
   "metadata": {},
   "outputs": [
    {
     "data": {
      "image/png": "[encoded data removed]",
      "text/plain": [
       "<matplotlib.figure.Figure at 0x26c581bf7f0>"
      ]
     },
     "metadata": {},
     "output_type": "display_data"
    }
   ],
   "source": [
    "plot_indifM(0.4, 0.6, kap = 5, y0=100)"
   ]
  },
  {
   "cell_type": "code",
   "execution_count": 29,
   "metadata": {},
   "outputs": [
    {
     "data": {
      "application/vnd.jupyter.widget-view+json": {
       "model_id": "d55c6661da6a42e6924a8a94c556c8d2"
      }
     },
     "metadata": {},
     "output_type": "display_data"
    },
    {
     "data": {
      "text/plain": [
       "<function __main__.plot_indifM>"
      ]
     },
     "execution_count": 29,
     "metadata": {},
     "output_type": "execute_result"
    }
   ],
   "source": [
    "#kap=fixed(7)\n",
    "interact(plot_indifM, beta=fixed(0.4), rho=(0.5,2,0.01), kap=(0,10,0.1), y0=(0,300,10))"
   ]
  },
  {
   "cell_type": "markdown",
   "metadata": {},
   "source": [
    "## older stuff"
   ]
  },
  {
   "cell_type": "markdown",
   "metadata": {},
   "source": [
    "## The role of $\\rho$ in RP contracts"
   ]
  },
  {
   "cell_type": "markdown",
   "metadata": {},
   "source": [
    "In the section of the paper called 'The Renegotiation Problem' on or aroudn page 18 we show that \n",
    "\n",
    ">for all  $0<\\beta<1$ we will have $c_0^P\\gtreqless c_0^F$ as $\\rho \\lesseqgtr 1$  and $c_2^P<c_2^F$.  That means that when $\\rho<1$\n",
    " and the elasticity of intertemporal substitution $\\frac{1}{\\rho}$ is high Zero  will respond to the failure of commitment by allocating less resources to period 1 and 2 consumption -- saving less or borrowing more in period 0. When  $\\rho>1$ she responds by allocating more resources -- saving more or borrowing less in period 0 \n",
    "... In fact period 0 consumption adjustments are  small relative to the increase in period 1 consumption.  In other words even though they have a first-mover advantage, Zero can do little other than to  largely accommodate to the  consumption pattern that One self wants to impose. There is little Zero can do to ameliorate the self-control problem on their own -- hence her demand for commitment services from the bank. \n",
    "\n",
    "Here we show that last numerical claim by plotting $\\frac{c2_P}{c2_F}$ at different levels of $\\beta$ and $\\rho$"
   ]
  },
  {
   "cell_type": "code",
   "execution_count": 161,
   "metadata": {},
   "outputs": [
    {
     "data": {
      "image/png": "[encoded data removed]",
      "text/plain": [
       "<matplotlib.figure.Figure at 0x1ce3dd49cf8>"
      ]
     },
     "metadata": {},
     "output_type": "display_data"
    }
   ],
   "source": [
    "cCE = Contract.Competitive(beta = 0.5)          # create an instance m\n",
    "cCE.rho = 1\n",
    "\n",
    "num_pts = 21\n",
    "betas = np.linspace(0.1,1,num_pts)           # iterate over different values of beta\n",
    "CCF = np.zeros((3,num_pts))                  # 3 row matrix to store (c0,c1,c2) for each beta\n",
    "CCR = np.zeros((3,num_pts))                  # to store renegotiation proof     \n",
    "\n",
    "for i in range(0,num_pts):\n",
    "    cCE.beta = betas[i]                    # change beta before recalculating optimal contract\n",
    "    CCF[:,i] = cCE.fcommit()   \n",
    "    CCR[:,i] = cCE.ownsmooth()   \n",
    "\n",
    "r0 = CCR[0,:]/CCF[0,:]               # save results for plotting\n",
    "r1 = CCR[1,:]/CCF[1,:]\n",
    "r2 = CCR[2,:]/CCF[2,:]\n",
    "\n",
    "plt.plot(betas,r0,'--')                          # plot    \n",
    "plt.plot(betas,r1)\n",
    "plt.plot(betas,r2,'b-x')\n",
    "plt.grid()\n",
    "plt.title('Competitive Commitment Contract as function of beta')\n",
    "plt.xlabel('beta')\n",
    "plt.ylabel('consumption')\n",
    "plt.legend(['c0F','c1F','c2F'])\n",
    "plt.show()\n"
   ]
  },
  {
   "cell_type": "markdown",
   "metadata": {},
   "source": [
    "Here is a plot to see how much period 0 consumption changes in the absence of commitment relative to commitment.  \n",
    "As before period 0 consumption increases for all $\\rho$<1 and increases for all above 1.  \n",
    "\n",
    "The figure that follows is busy looking because we plot for different levels of $\\beta$ and $\\rho$.  The important takeaway is just that period zero consumption does **not** move very much (like maybe 6% at extreme values).  However period 1 and period 2 consumption can move a lot."
   ]
  },
  {
   "cell_type": "code",
   "execution_count": 165,
   "metadata": {},
   "outputs": [
    {
     "data": {
      "image/png": "[encoded data removed]",
      "text/plain": [
       "<matplotlib.figure.Figure at 0x1ce38fd3fd0>"
      ]
     },
     "metadata": {},
     "output_type": "display_data"
    }
   ],
   "source": [
    "CCP = np.zeros((3,num_pts)) \n",
    "for rh in [0.01, 0.2, 0.5, 1, 1.25, 2, 5, 10, 500]:\n",
    "    cCE.rho = rh\n",
    "    for i in range(0,num_pts):\n",
    "        cCE.beta = betas[i]                    # change beta before recalculating optimal contract\n",
    "        CCF[:,i] = cCE.fcommit()   \n",
    "        CCP[:,i] = cCE.ownsmooth()   \n",
    "\n",
    "    r0 = CCP[0,:]/CCF[0,:]               # save results for plotting\n",
    "    r1 = CCP[1,:]/CCF[1,:]\n",
    "    r2 = CCP[2,:]/CCF[2,:]\n",
    "\n",
    "    plt.plot(betas,r1,'--')                          # plot \n",
    "    plt.text(0.3, r1[4],rh)\n",
    "plt.xlabel('beta')\n",
    "plt.ylabel('consumption')\n",
    "plt.title('RP consumption relative to full commitment')\n",
    "plt.grid()\n",
    "plt.show()"
   ]
  },
  {
   "cell_type": "code",
   "execution_count": 17,
   "metadata": {},
   "outputs": [
    {
     "data": {
      "text/plain": [
       "array([ 1.03,  1.49,  0.37])"
      ]
     },
     "execution_count": 17,
     "metadata": {},
     "output_type": "execute_result"
    }
   ],
   "source": [
    "cCE.rho, cCE.beta = 0.5, 0.5\n",
    "CCP = cCE.ownsmooth()\n",
    "CCF = cCE.fcommit()\n",
    "np.multiply(CCP, 1/CCF)\n"
   ]
  },
  {
   "cell_type": "markdown",
   "metadata": {},
   "source": [
    "## Optimal contract when renegotiation cost $\\kappa $ >0"
   ]
  },
  {
   "cell_type": "markdown",
   "metadata": {},
   "source": [
    "Plot to explore how the renegotiation cost $\\kappa $ affects the terms of the contract and firm profits"
   ]
  },
  {
   "cell_type": "code",
   "execution_count": 18,
   "metadata": {},
   "outputs": [
    {
     "data": {
      "image/png": "[encoded data removed]",
      "text/plain": [
       "<matplotlib.figure.Figure at 0x8b550f0>"
      ]
     },
     "metadata": {},
     "output_type": "display_data"
    }
   ],
   "source": [
    "# Note:  re-run all cells above if the plot seems wrong\n",
    "cC.y = np.array([100,100,100]) \n",
    "cCF = cC.fcommit()\n",
    "num_pts = 21\n",
    "kaps = np.linspace(0, 10, num_pts)      # different renegotiation cost values \n",
    "cCRP, pvu0RP = np.zeros((3,num_pts)), np.zeros(num_pts)  # init (c0,c1,c2) and profits at each kappa\n",
    "\n",
    "for i in range(0,num_pts):               # look through kappa recalculating optimal contract each time\n",
    "    cC.kappa = kaps[i] \n",
    "    cCRP[:,i] = cC.reneg_proof().x \n",
    "    pvu0RP[i] = cC.PVU(cCRP[:,i],cC.beta)\n",
    "\n",
    "c0,c1,c2 = cCRP[0,:], cCRP[1,:],cCRP[2,:]                # save results for plotting\n",
    "\n",
    "fig, (ax0, ax1) = plt.subplots(nrows = 2)\n",
    "#ax0.plot(kaps, c0, label='$c_{0}$')\n",
    "ax0.plot(kaps, c1, label='$c_{1}$')\n",
    "ax0.plot(kaps, c2, label='$c_{2}$')\n",
    "ax0.plot(kaps, np.ones(num_pts)*cCF[1], '--', label='$c_{F}$')\n",
    "ax0.grid()\n",
    "ax0.set_title('Reneg-Proof Contract terms, PVU and $\\kappa$'), ax0.set_ylabel('consumption')\n",
    "ax0.legend(loc=9,bbox_to_anchor=(0.5, -1.25), ncol = 3)\n",
    "\n",
    "ax1.plot(kaps, pvu0RP)\n",
    "ax1.set_ylabel('PVU0')\n",
    "ax1.grid()\n",
    "ax1.set_xlabel('renegotiation cost $\\kappa$')\n",
    "pvumin,pvumax = min(pvu0RP), max(pvu0RP)\n",
    "plt.ylim((pvumin, pvumax))\n",
    "plt.tight_layout()\n",
    "plt.show()"
   ]
  },
  {
   "cell_type": "markdown",
   "metadata": {},
   "source": [
    "At lower renegotiation costs the bank is forced to offer less consumption smoothing in periods 1 and 2 as a way to credibly commit to limit their gains to renegotiation with a period 1 self.  Hence bank profits rise with their ability to commit to incur a renegotiation cost $\\kappa$\n",
    "\n",
    "We haven't plotted $c_{0}$ for each $\\kappa$ but that's because it varies less relative to $c_{1}, c_{2}$ and way above the full commitment consumption smoothing. The following shows a non-monotonic relation though **notice this is varying very little.** And it also is vey sensitive to $\\rho$"
   ]
  },
  {
   "cell_type": "code",
   "execution_count": 19,
   "metadata": {},
   "outputs": [
    {
     "data": {
      "image/png": "[encoded data removed]",
      "text/plain": [
       "<matplotlib.figure.Figure at 0xa43d2e8>"
      ]
     },
     "metadata": {},
     "output_type": "display_data"
    }
   ],
   "source": [
    "cC.rho = 1\n",
    "for i in range(0,num_pts):               # look through kappa recalculating optimal contract each time\n",
    "    cC.kappa = kaps[i] \n",
    "    cCRP[:,i] = cC.reneg_proof().x \n",
    "c0 = cCRP[0,:]\n",
    "\n",
    "plt.plot(kaps, c0) \n",
    "plt.ylim((min(c0), max(c0)))\n",
    "plt.xlabel('renegotiation cost $\\kappa$')\n",
    "plt.title(r'Period 0 consumption and $\\kappa$')\n",
    "plt.show()"
   ]
  },
  {
   "cell_type": "markdown",
   "metadata": {},
   "source": [
    "### The choice to become a commercial non-profit"
   ]
  },
  {
   "cell_type": "markdown",
   "metadata": {},
   "source": [
    "### Modeling the non-profit"
   ]
  },
  {
   "cell_type": "markdown",
   "metadata": {},
   "source": [
    "The no-renegotiation constraint has two parts.  A pure for-profit captures fraction $\\alpha = 1$ of profits and faces renegotiation cost \n",
    "not-for-profit of type $\\alpha$ and faces renegotiation cost $h(\\alpha) = h(1)$.  More generally a non-profit of type $\\alpha$ has a no-renegotiation constraint of the form \n",
    "$$\\alpha \\left[ \\Pi ^{R}-\\Pi \\right] \\geq h(\\alpha )$$\n",
    "\n",
    "To be specific here let's model this as \n",
    "$$h(\\alpha )=\\kappa \\left( 1-\\alpha \\right) $$\n",
    "\n",
    "So that at $\\alpha =1$ there is no cost to renegotiation and at $0< \\alpha <1$ there is a non-negative non-pecuniary cost of up to $\\kappa$.  The constraint can then be written as \n",
    "$$\\left[ \\Pi ^{R}-\\Pi \\right] \\geq C(\\alpha )=\\frac{h(\\alpha )}{\\alpha }$$"
   ]
  },
  {
   "cell_type": "code",
   "execution_count": 20,
   "metadata": {},
   "outputs": [
    {
     "data": {
      "image/png": "[encoded data removed]",
      "text/plain": [
       "<matplotlib.figure.Figure at 0x9d9f6d8>"
      ]
     },
     "metadata": {},
     "output_type": "display_data"
    }
   ],
   "source": [
    "# Similar to above but solve for contract as a function of firm type ALPHA\n",
    "y = np.array([100,100,100])          # To see how endowment affects contract\n",
    "cC.y     = y                            \n",
    "cCF      = cC.fcommit()\n",
    "num_pts  = 10\n",
    "alphs    = np.linspace(0.0,1.0,num_pts)   # iterate over different values of beta\n",
    "HA       = 10*(np.ones(num_pts) - alphs)   #  h(alpha)/alpha  or cost of renegotiaton\n",
    "cCRP     = np.zeros((3,num_pts))          # matrix for (c0,c1,c2) at each kappa\n",
    "pvu0RP   = np.zeros(num_pts)  #PVU0 when contracting with alpha=1 firm\n",
    "\n",
    "for i in range(0,num_pts):\n",
    "    cC.kappa = HA[i]                 # change optimal contract\n",
    "    cCRP[:,i] = cC.reneg_proof().x \n",
    "    cC.guess =  cCRP[:,i]                 # use this sol as guess for next optimum\n",
    "    pvu0RP[i] = cC.PVU(cCRP[:,i],cC.beta)\n",
    "    \n",
    "#last entry is 'pure profit' pvu0RP[-1]\n",
    "pvu0RP_pure = pvu0RP[-1]\n",
    "\n",
    "c0,c1,c2 = cCRP[0,:], cCRP[1,:],cCRP[2,:]                # save results for plotting\n",
    "\n",
    "fig3 = plt.figure()  \n",
    "plt.plot(alphs,c1,'--',label='$c_{1}$')\n",
    "plt.plot(alphs,c2,label='$c_{2}$')\n",
    "plt.plot(alphs,np.ones(num_pts)*cCF[1],label='$c_{1}$ commit')\n",
    "plt.grid()\n",
    "plt.title('Renegotiation Proof Contract and alpha' )\n",
    "plt.xlabel('alpha ')\n",
    "plt.ylabel('consumption')\n",
    "plt.legend(loc='upper left')\n",
    "plt.show()"
   ]
  },
  {
   "cell_type": "markdown",
   "metadata": {},
   "source": [
    "### 'Commercial' non-profits \n",
    "A 'pure' for profit (with $\\alpha$=1.0) earns a reduced (possibly negative) profit due to it's inability to commit. Seen in the plot as profits the height of the horizontal line.\n",
    "\n",
    "Any non-profit with $\\alpha$ above about 0.4 and below 1.0 can better commit to not renegotiate a larger set of contracts and therefore can offer a more profitable renegotiation-proof contract. Even though they capture only fraction $\\alpha$ of those profits, the take home profits exceed the profits of the pure for-profit. "
   ]
  },
  {
   "cell_type": "code",
   "execution_count": 21,
   "metadata": {},
   "outputs": [
    {
     "data": {
      "image/png": "[encoded data removed]",
      "text/plain": [
       "<matplotlib.figure.Figure at 0xa08b550>"
      ]
     },
     "metadata": {},
     "output_type": "display_data"
    }
   ],
   "source": [
    "cC.y = [130,85,85]  \n",
    "#last entry is 'pure profit' pvu0RP[-1]\n",
    "pvu0RP_full = pvu0RP[-1]*np.ones(num_pts)\n",
    "pvu0_aut  = cC.PVU(cC.y,cC.beta)*np.ones(num_pts)\n",
    "\n",
    "fig = plt.figure()\n",
    "ax = fig.add_subplot(111)\n",
    "plt.title('Renegotiation-Proof PVU0 vs. alpha')\n",
    "plt.xlabel(r'type of firm $ \\alpha$')\n",
    "plt.ylabel('0-self present discounted utility')\n",
    "plt.plot(alphs,pvu0RP_full,'--',label='PVU from pure-profit')\n",
    "plt.plot(alphs,pvu0RP,label='PVU from non-profit')\n",
    "plt.plot(alphs,pvu0_aut,label='PVU from autarky')\n",
    "\n",
    "ax.fill_between(alphs, np.fmax(pvu0RP,pvu0_aut), pvu0_aut,hatch='/')\n",
    "plt.legend(loc='upper center', bbox_to_anchor=(0.5, -0.1),\n",
    "          fancybox=None, ncol=5)\n",
    "plt.show()"
   ]
  },
  {
   "cell_type": "markdown",
   "metadata": {},
   "source": [
    "The figure above compares what the customer can get (present discounted utility of period 0 self) from autarky compared to what he could get contracting in a situation with competition and exclusive contracts.\n",
    "\n",
    "In the particular example ($\\beta = 0.5, \\rho=0.75, y=[130,85, 85]$) the autarky consumption bundle is rather close to what could be offered via consumption smothing so the total surplus to be divided is not that large.  The pure for profit firm offers a renegotiation proof contract that does such a poor smoothing job that the consumer prefers to stay in authaky.  However a commercial non-profit with alpha below ~ 0.8 offers a smoother contract and hence gains to trade.  \n",
    "\n",
    "Now as presently modeld that non-profit will of course get zero profits (80% of zero!). We can model instead situations where at any period 1 renegotiation it's the consumer who gives up all surplus since the assumption of exclusive contracts means the period 1 self will be willing to give up quite a bit. Or maybe they Nash bargain.  THese cases might be more realistic. \n",
    "\n",
    "We'll get to these in a moment but first lets look at how the above situation depends on the initial y vector. \n",
    " "
   ]
  },
  {
   "cell_type": "code",
   "execution_count": 22,
   "metadata": {},
   "outputs": [
    {
     "name": "stdout",
     "output_type": "stream",
     "text": [
      "beta    : 0.5\n",
      "guess   : [ 149.85  100.1    50.05]\n",
      "kappa   : 0.0\n",
      "rho     : 1\n",
      "y       : [130, 85, 85]\n"
     ]
    }
   ],
   "source": [
    "cC.print_params()"
   ]
  },
  {
   "cell_type": "code",
   "execution_count": 23,
   "metadata": {},
   "outputs": [
    {
     "data": {
      "image/png": "[encoded data removed]",
      "text/plain": [
       "<matplotlib.figure.Figure at 0x8b8a828>"
      ]
     },
     "metadata": {},
     "output_type": "display_data"
    }
   ],
   "source": [
    "#plot(alphs,cMRP[0,:],label='$c_{0}$')\n",
    "fig = plt.figure()\n",
    "plt.plot(alphs,cCRP[0,:]-cC.y[0],label='$-c_{0}$')\n",
    "plt.plot(alphs,cC.y[1]-cCRP[1,:],'--',label='$c_{1}$')\n",
    "plt.plot(alphs,cC.y[2]-cCRP[2,:],label='$c_{2}$')\n",
    "\n",
    "plt.title('Consumption profile as a function of alpha')\n",
    "plt.legend(loc='upper center', bbox_to_anchor=(0.5, -0.05),\n",
    "          fancybox=None, ncol=5)\n",
    "plt.show()"
   ]
  },
  {
   "cell_type": "markdown",
   "metadata": {},
   "source": [
    "**Loan, repayment and PVU breakdown by periods as function of alpha**\n",
    "(to be completed...results below are from monopoly case)"
   ]
  },
  {
   "cell_type": "code",
   "execution_count": 24,
   "metadata": {
    "collapsed": true
   },
   "outputs": [],
   "source": [
    "#print(\"alpha      c0     c1    c2        profit = (y0-cMRP0) + (y1-cMRP1) + (y2-cMRP2)\")\n",
    "#print(\"-\"*79)\n",
    "#for i,a in enumerate(alphs):\n",
    "#    print(\"{:5.2f}:   {:6.2f} {:6.2f} {:5.2f},   {:8.2f} = {:8.2f}   + {:8.2f}   + {:8.2f}   \"\n",
    "#          .format(a, cMRP[0,i], cMRP[1,i], cMRP[2,i],profitRP[i],y[0]-cMRP[0,i],y[1]-cMRP[1,i],y[2]-cMRP[2,i],))\n",
    "#print()"
   ]
  },
  {
   "cell_type": "markdown",
   "metadata": {},
   "source": [
    "The inability to commit means the renegotiation proof contract doesn't smooth consumption very well for the consumer.  This ends up hurting the bank, since they must now 'compensate' the consumer for the higher variance of consumption if the participation constraint is still to be met.  "
   ]
  },
  {
   "cell_type": "markdown",
   "metadata": {},
   "source": [
    "The code that follows produces a grid of subplots to illustrate how the results (the relation between $\\alpha$ and retained profits) depends on the initial y vector, which in turn also determines whether this will be borrowing or saving.  "
   ]
  },
  {
   "cell_type": "markdown",
   "metadata": {},
   "source": [
    "##The role of y\n",
    "###Gains to consumer with diferent firms $\\alpha$\n",
    "Even though it earns zero profits a pure for-profit firm's renegotiation proof contract will offer less consumption smoothing that a firm that due to its non-profit status has higher renegotiation costs.  "
   ]
  },
  {
   "cell_type": "markdown",
   "metadata": {},
   "source": [
    "NOTE:  some parts of this script need manual adjustment"
   ]
  },
  {
   "cell_type": "code",
   "execution_count": null,
   "metadata": {
    "collapsed": true
   },
   "outputs": [],
   "source": [
    "cC.rho=0.95"
   ]
  },
  {
   "cell_type": "code",
   "execution_count": null,
   "metadata": {
    "collapsed": true
   },
   "outputs": [],
   "source": [
    "print(\"Left: present discounted U (shaded = NP dominates). Right: net saving in each period as function of α :\")\n",
    "num_pts  = 21\n",
    "alphs    = np.linspace(0,1,num_pts)       # iterate over different alphas\n",
    "HA        = 10*(np.ones(num_pts)-alphs)     # h(alpha)/alpha  or cost of renegotiaton\n",
    "cCRP     = np.zeros((3,num_pts))             # to store (c0,c1,c2) for each alpha\n",
    "pvu0RP   = np.zeros(num_pts)  #PVU0 when contracting with alpha=1 firm\n",
    "pvu0_aut  = cC.PVU(cC.y,cC.beta)*np.ones(num_pts)\n",
    "\n",
    "fig, ax = plt.subplots(10,sharex=True)\n",
    "numy0 = 3     # rows of subplots\n",
    "ax = plt.subplot(numy0,2,1)\n",
    "\n",
    "# Vary y contracts (maintaining PV at 300 in zero interest rate setting)\n",
    "for j in range(1, numy0 + 1):  \n",
    "    y0 = 100 + j*20\n",
    "    y = np.array([y0,100,100])            \n",
    "    y = np.array([y0,(300-y0)/2,(300-y0)/2])   \n",
    "    cC.y = y\n",
    "    pvu0_aut  = cC.PVU(cC.y,cC.beta)*np.ones(num_pts)\n",
    "    \n",
    "    ax1 = plt.subplot(numy0, 2, j*2-1, sharex=ax)  \n",
    "    for i in range(0, num_pts):\n",
    "        cC.kappa = HA[i]             # change reneg cost  \n",
    "        \n",
    "        cCRP[:,i]    = cC.reneg_proof(monop_reg = False).x \n",
    "        cC.guess     = cCRP[:,i]         # store sol as guess for next search\n",
    "        pvu0RP[i] = cC.PVU(cCRP[:,i],cC.beta)\n",
    "   \n",
    "    #last entry is 'pure profit' pvu0RP[-1]\n",
    "    #pvu0RP_pure = pvu0RP[-1]\n",
    "    \n",
    "    pvu0RP_full = pvu0RP[-1]*np.ones(num_pts) \n",
    "    \n",
    "    # I HAVE NOT YET AUTOMATED THE AXIS BOUNDS\n",
    "    pumin =  min(pvu0RP[-1],min(pvu0_aut))\n",
    "    pumax = max(pvu0RP)\n",
    "    ax1.set_ylim([50.25, 50.6])\n",
    "    print(y,pumin,pumax,min(pvu0_aut),pvu0RP[-1])\n",
    "    print(\"cCF : \",cCF)\n",
    "    \n",
    "    pvu0RP_full = pvu0RP[-1]*np.ones(num_pts) \n",
    "    ax1.set_title(r'$y=( %2.0f, %2.0f, %2.0f)$' %(y0,y[1],y[2]))\n",
    "    ax1.plot(alphs, pvu0_aut,label='aut')\n",
    "    ax1.plot(alphs, pvu0RP,label='NP')\n",
    "    ax1.plot(alphs, pvu0RP_full,label='FP')\n",
    "    ax1.fill_between(alphs, np.fmax(pvu0RP,pvu0_aut), pvu0_aut,hatch='/')\n",
    "    plt.grid()\n",
    "        \n",
    "    ax2 = plt.subplot(numy0,2,j*2, sharex=ax, sharey=ax)    # Plot contract terms in right column plot\n",
    "    #ax1.set_ylim([0, 25])\n",
    "    ax2.plot(alphs, y0 - cCRP[0,:],\"d--\",label='$y_0-c_0$')\n",
    "    ax2.plot(alphs, y[1] - cCRP[1,:],label='$y_1-c_1$')\n",
    "    ax2.plot(alphs, y[2] - cCRP[2,:],\"x-\",label='$y_2-c_2$')\n",
    "    #ax2.axhline(y=0, color ='k')\n",
    "    #ax2.plot(alphs, y[0]*np.ones(num_pts))\n",
    "    #ax2.plot(alphs, y[1]*np.ones(num_pts))\n",
    "    plt.grid()    \n",
    "ax1.legend(loc='lower center', fancybox=None, ncol=5)\n",
    "ax2.legend(loc='lower center', fancybox=None, ncol=5)\n",
    "plt.tight_layout()\n",
    "\n",
    "plt.savefig('figs\\Comp_excl.pdf', format='pdf')\n",
    "plt.show()    "
   ]
  },
  {
   "cell_type": "code",
   "execution_count": null,
   "metadata": {
    "collapsed": true
   },
   "outputs": [],
   "source": [
    "plt.close('all')"
   ]
  },
  {
   "cell_type": "markdown",
   "metadata": {},
   "source": [
    "**INTERPRETATION**: The left column of plots above shows renegotiation-proof profits as a function of $\\alpha$ where $\\alpha$ affects both the share of profits that are captured as well as the cost of renegotiation as described above.  The blue shaded area indicates where commercial non-profits (that choose an $\\alpha <1$) capture more profit than a pure for-profit. \n",
    "\n",
    "The right column of plots shows the terms of the associated contract displayed as 'net savings' (y0-c0), (y1-c1), and (y2-c2).  When these are positive the client is saving or repaying, when negative they are borrowing.\n",
    "\n",
    "When we keep the PV of y constant but change the ratio of period zero income y0 to later period income, y vectors that lead to borrowing (lower y0, higher y1,y2) deliver higher full-commitment (and renegotiation-proof) profits at any level of alpha. \n",
    "\n",
    "Since most of the profits are in the 0 to 1 period, they weigh more heavily in total profits.  Turning non-profit is only attractive at relatively high values of alpha (since at lower alpha they're forfeiting the period 0-1 profits). At higher y0 (tilted more toward savings) full commitment (and renegotiation-proof) profits are lower The pattern seems to be that as we move toward first period savings..."
   ]
  },
  {
   "cell_type": "markdown",
   "metadata": {},
   "source": [
    "### NOT FINISHED\n",
    "Profitability as a function of y0"
   ]
  },
  {
   "cell_type": "markdown",
   "metadata": {},
   "source": [
    "### Own-savings strategies"
   ]
  },
  {
   "cell_type": "code",
   "execution_count": null,
   "metadata": {
    "collapsed": true
   },
   "outputs": [],
   "source": []
  },
  {
   "cell_type": "code",
   "execution_count": null,
   "metadata": {
    "collapsed": true
   },
   "outputs": [],
   "source": [
    "cC = Contract.Competitive(beta = 0.9)\n",
    "cC.rho = 0.5\n",
    "cC.y = [110,95,95]\n",
    "cC.print_params()"
   ]
  },
  {
   "cell_type": "code",
   "execution_count": null,
   "metadata": {
    "collapsed": true
   },
   "outputs": [],
   "source": [
    "def saving(c,y):\n",
    "    return c-y"
   ]
  },
  {
   "cell_type": "code",
   "execution_count": null,
   "metadata": {
    "collapsed": true
   },
   "outputs": [],
   "source": [
    "print(cC.y)\n",
    "print(cC.ownsmooth())\n",
    "print(cC.fcommit())"
   ]
  },
  {
   "cell_type": "code",
   "execution_count": null,
   "metadata": {
    "collapsed": true
   },
   "outputs": [],
   "source": [
    "saving(cC.ownsmooth(),cC.y)"
   ]
  },
  {
   "cell_type": "code",
   "execution_count": null,
   "metadata": {
    "collapsed": true
   },
   "outputs": [],
   "source": [
    "PDV =300\n",
    "y0_step = 2\n",
    "y0_start = 50\n",
    "y0_end = PDV -50\n",
    "Y0 = range(y0_start,y0_end,y0_step)\n",
    "n = len(Y0)\n",
    "profity0 = np.zeros(n)\n",
    "profity0B = np.zeros(n)\n",
    "i=0\n",
    "\n",
    "for y0 in Y0:  \n",
    "    ybar = (PDV-y0)/2\n",
    "    cM.y =([y0,ybar,ybar])\n",
    "    cMF = cM.fcommit()\n",
    "    cMRP = cM.reneg_proof().x\n",
    "    cM.guess = cMRP\n",
    "    profity0[i] = cM.profit(cMRP,cM.y)\n",
    "    profity0B[i] = cM.profit(cMF,cM.y)\n",
    "    \n",
    "    i += 1"
   ]
  },
  {
   "cell_type": "code",
   "execution_count": null,
   "metadata": {
    "collapsed": true
   },
   "outputs": [],
   "source": [
    "plt.plot(profity0,Y0,'b-',label=\"reneg. proof\")\n",
    "plt.plot(profity0B,Y0,'r',label=\"full commit\")\n",
    "plt.xlim([-2,6])\n",
    "plt.ylim([80,160])c\n",
    "\n",
    "plt.title(\"Profits as a function of y0\")\n",
    "plt.xlabel(\"profits $\\pi$\")\n",
    "plt.ylabel(\"y0\")\n",
    "plt.legend(loc='center right')\n",
    "plt.grid()\n",
    "plt.axvline()"
   ]
  },
  {
   "cell_type": "markdown",
   "metadata": {},
   "source": [
    "## Modifications when consumer has a home savings option##\n",
    "The above ana"
   ]
  },
  {
   "cell_type": "code",
   "execution_count": null,
   "metadata": {
    "collapsed": true
   },
   "outputs": [],
   "source": [
    "cM = Monopoly(0.8) "
   ]
  },
  {
   "cell_type": "code",
   "execution_count": null,
   "metadata": {
    "collapsed": true
   },
   "outputs": [],
   "source": [
    "cM.kappa =0\n",
    "cM.guess = cMF\n",
    "cMRP = cM.reneg_proof()\n",
    "cMRP.x"
   ]
  },
  {
   "cell_type": "code",
   "execution_count": null,
   "metadata": {
    "collapsed": true
   },
   "outputs": [],
   "source": [
    "plot(alphs,C)"
   ]
  },
  {
   "cell_type": "code",
   "execution_count": null,
   "metadata": {
    "collapsed": true
   },
   "outputs": [],
   "source": [
    "# Three subplots sharing both x/y axes\n",
    "f, (ax1, ax2, ax3) = plt.subplots(3, sharex=True, sharey=True)\n",
    "ax1.plot(alphs, profitRP)\n",
    "ax1.plot(alphs, NprofitRP)\n",
    "ax1.plot(alphs,cM.profit(cMF,y)*ones(num_pts))\n",
    "ax1.grid(True)\n",
    "ax1.set_title('Sharing both axes')\n",
    "ax2.plot(alphs, NprofitRP)\n",
    "ax3.plot(alphs,cM.profit(cMF,y)*ones(num_pts))\n",
    "show()"
   ]
  },
  {
   "cell_type": "markdown",
   "metadata": {},
   "source": [
    "## Other Results"
   ]
  },
  {
   "cell_type": "markdown",
   "metadata": {},
   "source": [
    "### $\\beta$ and loan size"
   ]
  },
  {
   "cell_type": "markdown",
   "metadata": {},
   "source": [
    "Let's plot the the relationship between period 0 loan size in a full-commitment contract and the extent of present-bias captured by $\\beta$"
   ]
  },
  {
   "cell_type": "code",
   "execution_count": null,
   "metadata": {
    "collapsed": true
   },
   "outputs": [],
   "source": [
    "cM = Contract.Monopoly(0.8)               # create an instance m\n",
    "\n",
    "num_pts = 21\n",
    "betas = np.linspace(0.1,1,num_pts)           # iterate over different values of beta\n",
    "CMF = np.zeros((3,num_pts))                  # a three row matrix to store (c0,c1,c2) for each beta\n",
    "\n",
    "for i in range(0,num_pts):\n",
    "    cM.beta = betas[i]                    # change beta before recalculating optimal contract\n",
    "    CMF[:,i] = cM.fcommit()       \n",
    "\n",
    "loan   = CMF[0,:] - cM.y[0]               # save results for plotting\n",
    "repay1 = CMF[1,:] - cM.y[1]\n",
    "repay2 = CMF[2,:] - cM.y[2]\n",
    "\n",
    "plt.plot(betas,loan,'--')                          # plot    \n",
    "plt.plot(betas,repay1)\n",
    "plt.plot(betas,repay2)\n",
    "plt.grid()\n",
    "plt.title('Monopoly Commitment Contract as function of beta')\n",
    "plt.xlabel('beta')\n",
    "plt.ylabel('net repayment')\n",
    "plt.legend(['loan','repay1','repay2'])"
   ]
  },
  {
   "cell_type": "markdown",
   "metadata": {},
   "source": [
    "### Example full commitment contract (and renegotiation with a naive consumer)"
   ]
  },
  {
   "cell_type": "markdown",
   "metadata": {},
   "source": [
    "Here is an example of the full-commitment contracts a monopolist offers and the contract a monopolist and a naive consumer would renegotiate to from that same full commitment contract (but note that a intermediary who knows they are dealing with a naive consumer would bait them with a different initial contract). "
   ]
  },
  {
   "cell_type": "code",
   "execution_count": null,
   "metadata": {
    "collapsed": true
   },
   "outputs": [],
   "source": [
    "cM.beta = 0.8            # Reset to beta = 0.8 case and print out other parameters\n",
    "cM.print_params()"
   ]
  },
  {
   "cell_type": "code",
   "execution_count": null,
   "metadata": {
    "collapsed": true
   },
   "outputs": [],
   "source": [
    "cMF = cM.fcommit()      \n",
    "cMr = cM.reneg(cMF)       \n",
    "y = cM.y\n",
    "print('0-Discounted utility full commit: {0:4.3f}'.format(cM.PVU(cMF,cM.beta)))\n",
    "print('and   Naive renegotiate: {1:4.3f}'.format(cM.PVU(cMr,cM.beta)))\n",
    "#print('Profits from full commit: {0:4.3f}   and   Naive renegotiate:{1:4.3f}'.format(cM.profit(y,cMF), cM.profit(y,cMr)))"
   ]
  },
  {
   "cell_type": "markdown",
   "metadata": {},
   "source": [
    "##### Scratch play area"
   ]
  },
  {
   "cell_type": "markdown",
   "metadata": {},
   "source": [
    "#### 3D plots"
   ]
  },
  {
   "cell_type": "code",
   "execution_count": null,
   "metadata": {
    "collapsed": true,
    "scrolled": false
   },
   "outputs": [],
   "source": [
    "from mpl_toolkits.mplot3d import axes3d\n",
    "import matplotlib.pyplot as plt\n",
    "from matplotlib import cm\n",
    "\n",
    "fig = plt.figure()\n",
    "ax = fig.add_subplot(111, projection='3d')\n",
    "X, Y, Z = axes3d.get_test_data(0.05)\n",
    "cset = ax.contour(X, Y, Z)\n",
    "ax.clabel(cset, fontsize=9, inline=1)\n",
    "\n",
    "plt.show()"
   ]
  },
  {
   "cell_type": "code",
   "execution_count": null,
   "metadata": {
    "collapsed": true
   },
   "outputs": [],
   "source": [
    "from mpl_toolkits.mplot3d import axes3d\n",
    "import matplotlib.pyplot as plt\n",
    "from matplotlib import cm"
   ]
  },
  {
   "cell_type": "code",
   "execution_count": null,
   "metadata": {
    "collapsed": true
   },
   "outputs": [],
   "source": [
    "fig = plt.figure()\n",
    "ax = fig.gca(projection='3d')\n",
    "c0, c1 = np.arange(0,150,1), np.arange(0,150,1)\n",
    "c2 =  \n",
    "ax.plot_surface(X, Y, Z, rstride=8, cstride=8, alpha=0.3)\n",
    "cset = ax.contour(X, Y, Z, zdir='z', offset=-100, cmap=cm.coolwarm)\n",
    "cset = ax.contour(X, Y, Z, zdir='x', offset=-40, cmap=cm.coolwarm)\n",
    "cset = ax.contour(X, Y, Z, zdir='y', offset=40, cmap=cm.coolwarm)\n",
    "\n",
    "ax.set_xlabel('X')\n",
    "ax.set_xlim(-40, 40)\n",
    "ax.set_ylabel('Y')\n",
    "ax.set_ylim(-40, 40)\n",
    "ax.set_zlabel('Z')\n",
    "ax.set_zlim(-100, 100)\n",
    "\n",
    "plt.show()\n"
   ]
  },
  {
   "cell_type": "markdown",
   "metadata": {},
   "source": [
    "### Is $c_0$ (and hence net borrowing) higher or lower in renegotiation-proof contracts?\n",
    "It's going to depend on $\\rho$ "
   ]
  },
  {
   "cell_type": "code",
   "execution_count": null,
   "metadata": {
    "collapsed": true
   },
   "outputs": [],
   "source": [
    "bb = np.arange(0,1,0.05)\n",
    "bb"
   ]
  },
  {
   "cell_type": "code",
   "execution_count": null,
   "metadata": {
    "collapsed": true
   },
   "outputs": [],
   "source": [
    "for rh in np.arange(0.2,2,0.2):\n",
    "    c0RP = 300/(1+bb+bb**(1/rh))\n",
    "    c0F = 300/(1+2*bb**(1/rh) ) \n",
    "    rat = c0RP/c0F\n",
    "    plt.plot(bb,rat)\n",
    "    plt.annotate('{:3.1f}'.format(rh),xy=(0.5,rat[len(rat)/2]))\n",
    "plt.title(r'Ratio $\\frac{c_0^{RP}}{c_0^F}$')\n",
    "plt.xlabel(r'$\\beta $')\n",
    "plt.show()"
   ]
  },
  {
   "cell_type": "code",
   "execution_count": null,
   "metadata": {
    "collapsed": true,
    "scrolled": false
   },
   "outputs": [],
   "source": [
    "for rh in np.arange(0.2,2,0.2):\n",
    "    c0RP = 300/(1+bb+bb**(1/rh))\n",
    "    c0F = 300/(1+2*bb**(1/rh) ) \n",
    "    rat = c0RP/c0F\n",
    "    plt.plot(bb,c0F)\n",
    "    plt.annotate('{:3.1f}'.format(rh),xy=(0.5,rat[len(c0RP)/2]))\n",
    "plt.title(r'consumption $c_0^{RP}$')\n",
    "plt.xlabel(r'$\\beta$')\n",
    "plt.show()"
   ]
  },
  {
   "cell_type": "code",
   "execution_count": null,
   "metadata": {
    "collapsed": true
   },
   "outputs": [],
   "source": []
  }
 ],
 "metadata": {
  "anaconda-cloud": {},
  "kernelspec": {
   "display_name": "Python 3",
   "language": "python",
   "name": "python3"
  },
  "language_info": {
   "codemirror_mode": {
    "name": "ipython",
    "version": 3
   },
   "file_extension": ".py",
   "mimetype": "text/x-python",
   "name": "python",
   "nbconvert_exporter": "python",
   "pygments_lexer": "ipython3",
   "version": "3.6.1"
  },
  "widgets": {
   "state": {
    "080c8d91e2f84985b8e3d976df8399da": {
     "model_module": "jupyter-js-widgets",
     "model_module_version": "*",
     "model_name": "LayoutModel",
     "state": {
      "_dom_classes": [],
      "_model_module": "jupyter-js-widgets",
      "_model_module_version": "*",
      "_model_name": "LayoutModel",
      "_view_module": "jupyter-js-widgets",
      "_view_module_version": "*",
      "_view_name": "LayoutView",
      "align_content": "",
      "align_items": "",
      "align_self": "",
      "border": "",
      "bottom": "",
      "display": "",
      "flex": "",
      "flex_flow": "",
      "height": "",
      "justify_content": "",
      "left": "",
      "margin": "",
      "max_height": "",
      "max_width": "",
      "min_height": "",
      "min_width": "",
      "msg_throttle": 3,
      "order": null,
      "overflow": "",
      "overflow_x": "",
      "overflow_y": "",
      "padding": "",
      "right": "",
      "top": "",
      "visibility": "",
      "width": ""
     }
    },
    "09705a79534c40ababeb08b5c65c40ff": {
     "model_module": "jupyter-js-widgets",
     "model_module_version": "*",
     "model_name": "IntSliderModel",
     "state": {
      "_dom_classes": [],
      "_model_module": "jupyter-js-widgets",
      "_model_module_version": "*",
      "_model_name": "IntSliderModel",
      "_range": false,
      "_view_module": "jupyter-js-widgets",
      "_view_module_version": "*",
      "_view_name": "IntSliderView",
      "background_color": null,
      "color": null,
      "continuous_update": true,
      "description": "y0",
      "disabled": false,
      "font_family": "",
      "font_size": "",
      "font_style": "",
      "font_weight": "",
      "layout": "IPY_MODEL_24429794611347d089314124e2e74b6b",
      "max": 300,
      "min": 0,
      "msg_throttle": 3,
      "orientation": "horizontal",
      "readout": true,
      "readout_format": "d",
      "slider_color": null,
      "step": 1,
      "value": 270,
      "visible": true
     }
    },
    "1985d967862441339d75569c17a24c03": {
     "model_module": "jupyter-js-widgets",
     "model_module_version": "*",
     "model_name": "FloatSliderModel",
     "state": {
      "_dom_classes": [],
      "_model_module": "jupyter-js-widgets",
      "_model_module_version": "*",
      "_model_name": "FloatSliderModel",
      "_range": false,
      "_view_module": "jupyter-js-widgets",
      "_view_module_version": "*",
      "_view_name": "FloatSliderView",
      "background_color": null,
      "color": null,
      "continuous_update": true,
      "description": "beta",
      "disabled": false,
      "font_family": "",
      "font_size": "",
      "font_style": "",
      "font_weight": "",
      "layout": "IPY_MODEL_4b700ab914b747548d841df5c38e168b",
      "max": 0.99,
      "min": 0.01,
      "msg_throttle": 3,
      "orientation": "horizontal",
      "readout": true,
      "readout_format": ".2f",
      "slider_color": null,
      "step": 0.01,
      "value": 0.5,
      "visible": true
     }
    },
    "1d8b795340164052a192a446787437ad": {
     "model_module": "jupyter-js-widgets",
     "model_module_version": "*",
     "model_name": "BoxModel",
     "state": {
      "_dom_classes": [
       "widget-interact"
      ],
      "_model_module": "jupyter-js-widgets",
      "_model_module_version": "*",
      "_model_name": "BoxModel",
      "_view_module": "jupyter-js-widgets",
      "_view_module_version": "*",
      "_view_name": "BoxView",
      "background_color": null,
      "box_style": "",
      "children": [
       "IPY_MODEL_1985d967862441339d75569c17a24c03",
       "IPY_MODEL_09705a79534c40ababeb08b5c65c40ff"
      ],
      "color": null,
      "font_family": "",
      "font_size": "",
      "font_style": "",
      "font_weight": "",
      "layout": "IPY_MODEL_d9589b067f194c4897f53e8c409efec7",
      "msg_throttle": 3,
      "overflow_x": "",
      "overflow_y": "",
      "visible": true
     }
    },
    "24429794611347d089314124e2e74b6b": {
     "model_module": "jupyter-js-widgets",
     "model_module_version": "*",
     "model_name": "LayoutModel",
     "state": {
      "_dom_classes": [],
      "_model_module": "jupyter-js-widgets",
      "_model_module_version": "*",
      "_model_name": "LayoutModel",
      "_view_module": "jupyter-js-widgets",
      "_view_module_version": "*",
      "_view_name": "LayoutView",
      "align_content": "",
      "align_items": "",
      "align_self": "",
      "border": "",
      "bottom": "",
      "display": "",
      "flex": "",
      "flex_flow": "",
      "height": "",
      "justify_content": "",
      "left": "",
      "margin": "",
      "max_height": "",
      "max_width": "",
      "min_height": "",
      "min_width": "",
      "msg_throttle": 3,
      "order": null,
      "overflow": "",
      "overflow_x": "",
      "overflow_y": "",
      "padding": "",
      "right": "",
      "top": "",
      "visibility": "",
      "width": ""
     }
    },
    "276120622c40431b863796b1c71ff758": {
     "model_module": "jupyter-js-widgets",
     "model_module_version": "*",
     "model_name": "IntSliderModel",
     "state": {
      "_dom_classes": [],
      "_model_module": "jupyter-js-widgets",
      "_model_module_version": "*",
      "_model_name": "IntSliderModel",
      "_range": false,
      "_view_module": "jupyter-js-widgets",
      "_view_module_version": "*",
      "_view_name": "IntSliderView",
      "background_color": null,
      "color": null,
      "continuous_update": true,
      "description": "y0",
      "disabled": false,
      "font_family": "",
      "font_size": "",
      "font_style": "",
      "font_weight": "",
      "layout": "IPY_MODEL_4a282c5134c54c57afdf13f145e0ba04",
      "max": 300,
      "min": 0,
      "msg_throttle": 3,
      "orientation": "horizontal",
      "readout": true,
      "readout_format": "d",
      "slider_color": null,
      "step": 1,
      "value": 150,
      "visible": true
     }
    },
    "4a282c5134c54c57afdf13f145e0ba04": {
     "model_module": "jupyter-js-widgets",
     "model_module_version": "*",
     "model_name": "LayoutModel",
     "state": {
      "_dom_classes": [],
      "_model_module": "jupyter-js-widgets",
      "_model_module_version": "*",
      "_model_name": "LayoutModel",
      "_view_module": "jupyter-js-widgets",
      "_view_module_version": "*",
      "_view_name": "LayoutView",
      "align_content": "",
      "align_items": "",
      "align_self": "",
      "border": "",
      "bottom": "",
      "display": "",
      "flex": "",
      "flex_flow": "",
      "height": "",
      "justify_content": "",
      "left": "",
      "margin": "",
      "max_height": "",
      "max_width": "",
      "min_height": "",
      "min_width": "",
      "msg_throttle": 3,
      "order": null,
      "overflow": "",
      "overflow_x": "",
      "overflow_y": "",
      "padding": "",
      "right": "",
      "top": "",
      "visibility": "",
      "width": ""
     }
    },
    "4b700ab914b747548d841df5c38e168b": {
     "model_module": "jupyter-js-widgets",
     "model_module_version": "*",
     "model_name": "LayoutModel",
     "state": {
      "_dom_classes": [],
      "_model_module": "jupyter-js-widgets",
      "_model_module_version": "*",
      "_model_name": "LayoutModel",
      "_view_module": "jupyter-js-widgets",
      "_view_module_version": "*",
      "_view_name": "LayoutView",
      "align_content": "",
      "align_items": "",
      "align_self": "",
      "border": "",
      "bottom": "",
      "display": "",
      "flex": "",
      "flex_flow": "",
      "height": "",
      "justify_content": "",
      "left": "",
      "margin": "",
      "max_height": "",
      "max_width": "",
      "min_height": "",
      "min_width": "",
      "msg_throttle": 3,
      "order": null,
      "overflow": "",
      "overflow_x": "",
      "overflow_y": "",
      "padding": "",
      "right": "",
      "top": "",
      "visibility": "",
      "width": ""
     }
    },
    "8da1a56355924a3bb2b4eb8cb15ad1bf": {
     "model_module": "jupyter-js-widgets",
     "model_module_version": "*",
     "model_name": "BoxModel",
     "state": {
      "_dom_classes": [
       "widget-interact"
      ],
      "_model_module": "jupyter-js-widgets",
      "_model_module_version": "*",
      "_model_name": "BoxModel",
      "_view_module": "jupyter-js-widgets",
      "_view_module_version": "*",
      "_view_name": "BoxView",
      "background_color": null,
      "box_style": "",
      "children": [
       "IPY_MODEL_d3656d71d68b487d83464b55e7de8bc8",
       "IPY_MODEL_276120622c40431b863796b1c71ff758"
      ],
      "color": null,
      "font_family": "",
      "font_size": "",
      "font_style": "",
      "font_weight": "",
      "layout": "IPY_MODEL_080c8d91e2f84985b8e3d976df8399da",
      "msg_throttle": 3,
      "overflow_x": "",
      "overflow_y": "",
      "visible": true
     }
    },
    "d3656d71d68b487d83464b55e7de8bc8": {
     "model_module": "jupyter-js-widgets",
     "model_module_version": "*",
     "model_name": "FloatSliderModel",
     "state": {
      "_dom_classes": [],
      "_model_module": "jupyter-js-widgets",
      "_model_module_version": "*",
      "_model_name": "FloatSliderModel",
      "_range": false,
      "_view_module": "jupyter-js-widgets",
      "_view_module_version": "*",
      "_view_name": "FloatSliderView",
      "background_color": null,
      "color": null,
      "continuous_update": true,
      "description": "beta",
      "disabled": false,
      "font_family": "",
      "font_size": "",
      "font_style": "",
      "font_weight": "",
      "layout": "IPY_MODEL_ebca9c9fd3ea4e159ef3852e67e623d0",
      "max": 0.99,
      "min": 0.01,
      "msg_throttle": 3,
      "orientation": "horizontal",
      "readout": true,
      "readout_format": ".2f",
      "slider_color": null,
      "step": 0.01,
      "value": 0.49,
      "visible": true
     }
    },
    "d9589b067f194c4897f53e8c409efec7": {
     "model_module": "jupyter-js-widgets",
     "model_module_version": "*",
     "model_name": "LayoutModel",
     "state": {
      "_dom_classes": [],
      "_model_module": "jupyter-js-widgets",
      "_model_module_version": "*",
      "_model_name": "LayoutModel",
      "_view_module": "jupyter-js-widgets",
      "_view_module_version": "*",
      "_view_name": "LayoutView",
      "align_content": "",
      "align_items": "",
      "align_self": "",
      "border": "",
      "bottom": "",
      "display": "",
      "flex": "",
      "flex_flow": "",
      "height": "",
      "justify_content": "",
      "left": "",
      "margin": "",
      "max_height": "",
      "max_width": "",
      "min_height": "",
      "min_width": "",
      "msg_throttle": 3,
      "order": null,
      "overflow": "",
      "overflow_x": "",
      "overflow_y": "",
      "padding": "",
      "right": "",
      "top": "",
      "visibility": "",
      "width": ""
     }
    },
    "ebca9c9fd3ea4e159ef3852e67e623d0": {
     "model_module": "jupyter-js-widgets",
     "model_module_version": "*",
     "model_name": "LayoutModel",
     "state": {
      "_dom_classes": [],
      "_model_module": "jupyter-js-widgets",
      "_model_module_version": "*",
      "_model_name": "LayoutModel",
      "_view_module": "jupyter-js-widgets",
      "_view_module_version": "*",
      "_view_name": "LayoutView",
      "align_content": "",
      "align_items": "",
      "align_self": "",
      "border": "",
      "bottom": "",
      "display": "",
      "flex": "",
      "flex_flow": "",
      "height": "",
      "justify_content": "",
      "left": "",
      "margin": "",
      "max_height": "",
      "max_width": "",
      "min_height": "",
      "min_width": "",
      "msg_throttle": 3,
      "order": null,
      "overflow": "",
      "overflow_x": "",
      "overflow_y": "",
      "padding": "",
      "right": "",
      "top": "",
      "visibility": "",
      "width": ""
     }
    }
   },
   "version": "2.0.10"
  }
 },
 "nbformat": 4,
 "nbformat_minor": 1
}
